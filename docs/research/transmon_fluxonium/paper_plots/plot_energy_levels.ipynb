{
 "cells": [
  {
   "cell_type": "code",
   "execution_count": 2,
   "id": "4cc702bb",
   "metadata": {},
   "outputs": [],
   "source": [
    "import numpy as np\n",
    "import scipy.integrate\n",
    "import time\n",
    "import qutip as qtp\n",
    "import matplotlib.pyplot as plt\n",
    "from scipy.optimize import minimize\n",
    "from scipy import constants\n",
    "import pysqkit\n",
    "from pysqkit import QubitSystem\n",
    "from pysqkit.drives.pulse_shapes import gaussian_top\n",
    "from pysqkit.util.metrics import average_process_fidelity, \\\n",
    "    average_gate_fidelity\n",
    "from pysqkit.util.phys import temperature_to_thermalenergy\n",
    "from pysqkit.util.quantum import generalized_rabi_frequency\n",
    "import pysqkit.util.transformations as trf\n",
    "from pysqkit.util.linalg import get_mat_elem\n",
    "from pysqkit.solvers.solvkit import integrate\n",
    "from pysqkit.util.hsbasis import weyl_by_index\n",
    "from pysqkit.solvers import solvkit\n",
    "import qutip\n",
    "from typing import List, Dict, Callable\n",
    "import matplotlib\n",
    "matplotlib.rcParams['mathtext.fontset'] = 'cm'\n",
    "import copy\n",
    "import json\n",
    "\n",
    "from IPython.display import display, Latex"
   ]
  },
  {
   "cell_type": "code",
   "execution_count": 4,
   "id": "e4c72ff7",
   "metadata": {},
   "outputs": [],
   "source": [
    "with open(\"flx_transm_params.txt\") as my_file:\n",
    "    parameters_set = json.load(my_file)"
   ]
  },
  {
   "cell_type": "code",
   "execution_count": 5,
   "id": "19546754",
   "metadata": {},
   "outputs": [],
   "source": [
    "temperature = 0.020 # K\n",
    "thermal_energy = temperature_to_thermalenergy(temperature) # kb T/h in GHz\n",
    "d_comp = 4\n",
    "\n",
    "p_set = \"0\"\n",
    "\n",
    "\n",
    "#Transmon\n",
    "levels_t = 3\n",
    "transm = pysqkit.qubits.SimpleTransmon(\n",
    "    label='T', \n",
    "    max_freq=parameters_set[p_set][\"max_freq_t\"], \n",
    "    anharm=parameters_set[p_set][\"anharm_t\"],\n",
    "    diel_loss_tan=parameters_set[p_set][\"diel_loss_tan_t\"], #set to zero to check d_1 L1 = d_2 L2\n",
    "    env_thermal_energy=thermal_energy,    \n",
    "    dim_hilbert=levels_t,\n",
    "    dephasing_times=parameters_set[p_set][\"dephasing_times_t\"]\n",
    ")\n",
    "\n",
    "#Fluxonium\n",
    "levels_f = 5\n",
    "\n",
    "flx = pysqkit.qubits.Fluxonium(\n",
    "    label='F', \n",
    "    charge_energy=parameters_set[p_set][\"charge_energy_f\"], \n",
    "    induct_energy=parameters_set[p_set][\"induct_energy_f\"], \n",
    "    joseph_energy=parameters_set[p_set][\"joseph_energy_f\"], #8.0, \n",
    "    diel_loss_tan=parameters_set[p_set][\"diel_loss_tan_f\"], #set to zero to check d_1 L1 = d_2 L2\n",
    "    env_thermal_energy=thermal_energy,\n",
    "    dephasing_times= parameters_set[p_set][\"dephasing_times_f\"] #ns/2*np.pi \n",
    ")\n",
    "flx.diagonalize_basis(levels_f)\n",
    "\n",
    "# We also add a drive on the fluxonium\n",
    "flx.add_drive(\n",
    "    pysqkit.drives.microwave_drive,\n",
    "    label='cr_drive_f',\n",
    "    pulse=pysqkit.drives.pulses.cos_modulation,\n",
    "    pulse_shape=pysqkit.drives.pulse_shapes.gaussian_top\n",
    ")\n",
    "\n",
    "d_leak = levels_t*levels_f - d_comp\n",
    "\n",
    "jc = parameters_set[p_set][\"jc\"]\n",
    "coupled_sys = transm.couple_to(flx, coupling=pysqkit.couplers.capacitive_coupling, strength=jc)\n",
    "bare_system = transm.couple_to(flx, coupling=pysqkit.couplers.capacitive_coupling, strength=0.0)\n",
    "\n",
    "states_label = coupled_sys.all_state_labels()\n",
    "states_dict = coupled_sys.states_as_dict(as_qobj=True)\n",
    "flx_freq = flx.eig_energies(2)[1] - flx.eig_energies(2)[0]"
   ]
  },
  {
   "cell_type": "code",
   "execution_count": 6,
   "id": "396aa7e0",
   "metadata": {},
   "outputs": [],
   "source": [
    "def energy_levels_diagram(\n",
    "    system: QubitSystem,\n",
    "    levels_to_plot: List[str],\n",
    "    plot_setup={'fs': 20, 'lw': 2.0, 'lw_levels': 3.0, 'ls': 16},\n",
    "    detuning_tol=3.0,\n",
    "    show_drive=True\n",
    ") -> None:\n",
    "    fig, ax = plt.subplots(figsize=(8, 8))\n",
    "    ground_energy = system.state('00')[0]\n",
    "    energy = {}\n",
    "    state = {}\n",
    "    step = 11.0\n",
    "    level_width = 5.0\n",
    "    x_avg = {}\n",
    "    \n",
    "    for level in levels_to_plot:\n",
    "        energy[level] = system.state(level)[0] - ground_energy\n",
    "        state[level] = system.state(level)[1]\n",
    "    for level in levels_to_plot:\n",
    "        level_as_list = [int(lev) for lev in level]\n",
    "        x_min = -0.5 + step*level_as_list[1] - step*level_as_list[0]\n",
    "        x_max = x_min + level_width\n",
    "        x_avg[level] = (x_min + x_max)/2\n",
    "        ax.hlines(y=energy[level], xmin=x_min, xmax=x_max, \n",
    "                  linewidth=plot_setup['lw_levels'], color='k')\n",
    "        ax.text(x_max+0.2, energy[level]-0.05, r'$ \\vert' + level + \n",
    "                ' \\\\rangle$', fontsize=plot_setup['fs'], zorder=10)\n",
    "        ax.tick_params(labelsize=plot_setup['ls'])\n",
    "        ax.axes.get_xaxis().set_visible(False)\n",
    "        ax.spines['right'].set_visible(False)\n",
    "        ax.spines['top'].set_visible(False)\n",
    "        ax.spines['bottom'].set_visible(False)\n",
    "    \n",
    "    qubit_labels = system.labels\n",
    "    n1n2_op = system[qubit_labels[0]].charge_op().dot(\\\n",
    "        system[qubit_labels[1]].charge_op())\n",
    "    abs_mat_elem_vec = np.zeros(len(levels_to_plot)**2)\n",
    "    count = 0\n",
    "    for level_1 in levels_to_plot:\n",
    "        for level_2 in levels_to_plot:\n",
    "            abs_mat_elem_vec[count] = \\\n",
    "                np.abs(get_mat_elem(n1n2_op, state[level_1], state[level_2]))\n",
    "            count += 1\n",
    "    max_abs_mat_elem = np.max(abs_mat_elem_vec)\n",
    "    for level_1 in levels_to_plot:\n",
    "        for level_2 in levels_to_plot:\n",
    "            abs_mat_elem = \\\n",
    "                np.abs(get_mat_elem(n1n2_op, state[level_1], state[level_2]))\n",
    "            shade_factor = abs_mat_elem/max_abs_mat_elem\n",
    "            if shade_factor > 1e-4 and np.abs(energy[level_1] - \\\n",
    "                energy[level_2]) < detuning_tol:\n",
    "                ax.annotate('', (x_avg[level_1], energy[level_1]), \\\n",
    "                            (x_avg[level_2], energy[level_2]), \n",
    "                            arrowprops=dict(color='darkorange', \n",
    "                            alpha=shade_factor**3, \n",
    "                            lw=plot_setup['lw'], arrowstyle='<->'))\n",
    "                \n",
    "    if show_drive:\n",
    "        ax.annotate('', (x_avg['10'], energy['10']), \n",
    "                    (x_avg['13'], energy['13']), \n",
    "                    arrowprops=dict(color='darkblue', lw=plot_setup['lw'],\n",
    "                    arrowstyle='<->', linestyle = '--'))\n",
    "        ax.annotate('', (x_avg['00'], energy['00']), \n",
    "                    (x_avg['03'], energy['03']), \n",
    "                    arrowprops=dict(color='darkblue', lw=plot_setup['lw'],\n",
    "                    arrowstyle='<->', linestyle = '--'))\n",
    "        \n",
    "    ax.set_title(r'$\\mathrm{Transmon} \\leftarrow \\quad \\rightarrow'\n",
    "                 r'\\mathrm{Fluxonium}$', {'fontsize': plot_setup['fs']})\n",
    "    ax.set_ylabel(r'$\\mathrm{Energy} \\, (\\mathrm{GHz})$', \n",
    "                  fontsize=plot_setup['fs'])\n",
    "    plt.savefig(\"energy_diagram_trans_flx.svg\")\n",
    "    plt.show()  \n"
   ]
  },
  {
   "cell_type": "code",
   "execution_count": 7,
   "id": "84a4b97a",
   "metadata": {},
   "outputs": [
    {
     "data": {
      "image/png": "[encoded data removed]",
      "text/plain": [
       "<Figure size 576x576 with 1 Axes>"
      ]
     },
     "metadata": {
      "needs_background": "light"
     },
     "output_type": "display_data"
    }
   ],
   "source": [
    "level_list = ['00', '01', '10', '11', '02', '20', '12','21', '03', '13', '04']\n",
    "\n",
    "energy_levels_diagram(bare_system, level_list, show_drive=False)"
   ]
  },
  {
   "cell_type": "code",
   "execution_count": 33,
   "id": "cb8d95aa",
   "metadata": {},
   "outputs": [
    {
     "data": {
      "text/plain": [
       "0.5818489963974254"
      ]
     },
     "execution_count": 33,
     "metadata": {},
     "output_type": "execute_result"
    }
   ],
   "source": [
    "flx_freq"
   ]
  },
  {
   "cell_type": "code",
   "execution_count": 28,
   "id": "83b5cee0",
   "metadata": {},
   "outputs": [
    {
     "data": {
      "text/plain": [
       "6453.201864826128"
      ]
     },
     "execution_count": 28,
     "metadata": {},
     "output_type": "execute_result"
    }
   ],
   "source": [
    "constants.h/(4*constants.elementary_charge**2)"
   ]
  },
  {
   "cell_type": "code",
   "execution_count": null,
   "id": "ac792b28",
   "metadata": {},
   "outputs": [],
   "source": []
  }
 ],
 "metadata": {
  "kernelspec": {
   "display_name": "Python 3.7.3 64-bit ('base': conda)",
   "language": "python",
   "name": "python37364bitbaseconda36d0b2465ec04527ba16a77ef6d99d0e"
  },
  "language_info": {
   "codemirror_mode": {
    "name": "ipython",
    "version": 3
   },
   "file_extension": ".py",
   "mimetype": "text/x-python",
   "name": "python",
   "nbconvert_exporter": "python",
   "pygments_lexer": "ipython3",
   "version": "3.7.11"
  }
 },
 "nbformat": 4,
 "nbformat_minor": 5
}
