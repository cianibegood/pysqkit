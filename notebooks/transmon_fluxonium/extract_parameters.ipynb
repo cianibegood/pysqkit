{
 "cells": [
  {
   "cell_type": "markdown",
   "id": "0fe010e9",
   "metadata": {},
   "source": [
    "# Extracting parameters"
   ]
  },
  {
   "cell_type": "code",
   "execution_count": 1,
   "id": "07e94cb2",
   "metadata": {},
   "outputs": [],
   "source": [
    "import numpy as np\n",
    "import time\n",
    "import qutip as qtp\n",
    "import pysqkit\n",
    "from pysqkit import QubitSystem, Qubit\n",
    "from pysqkit.util.linalg import get_mat_elem\n",
    "from pysqkit.util.phys import temperature_to_thermalenergy\n",
    "from typing import List, Dict, Callable\n",
    "import json\n",
    "import cmath\n",
    "\n",
    "from IPython.display import display, Latex"
   ]
  },
  {
   "cell_type": "markdown",
   "id": "258b8f62",
   "metadata": {},
   "source": [
    "The following file contains the parameters used in the simulations. Parameter set 2 and 3 are the relevant ones for the Cross-Resonance gate"
   ]
  },
  {
   "cell_type": "code",
   "execution_count": 2,
   "id": "6338699d",
   "metadata": {},
   "outputs": [],
   "source": [
    "with open('flx_transm_params.txt') as param_file:\n",
    "    parameters_set = json.load(param_file)"
   ]
  },
  {
   "cell_type": "code",
   "execution_count": 3,
   "id": "cffe86e9",
   "metadata": {},
   "outputs": [],
   "source": [
    "temperature = 0.020 # K\n",
    "thermal_energy = temperature_to_thermalenergy(temperature) # kb T/h in GHz\n",
    "d_comp = 4\n",
    "\n",
    "p_set = \"2\"\n",
    "\n",
    "\n",
    "#Transmon\n",
    "levels_t = 3\n",
    "transm = pysqkit.qubits.SimpleTransmon(\n",
    "    label='T', \n",
    "    max_freq=parameters_set[p_set][\"max_freq_t\"], \n",
    "    anharm=parameters_set[p_set][\"anharm_t\"],\n",
    "    diel_loss_tan=parameters_set[p_set][\"diel_loss_tan_t\"], \n",
    "    env_thermal_energy=thermal_energy,    \n",
    "    dim_hilbert=levels_t,\n",
    "    dephasing_times=parameters_set[p_set][\"dephasing_times_t\"]\n",
    ")\n",
    "\n",
    "#Fluxonium\n",
    "levels_f = 4\n",
    "\n",
    "flx = pysqkit.qubits.Fluxonium(\n",
    "    label='F', \n",
    "    charge_energy=parameters_set[p_set][\"charge_energy_f\"], \n",
    "    induct_energy=parameters_set[p_set][\"induct_energy_f\"], \n",
    "    joseph_energy=parameters_set[p_set][\"joseph_energy_f\"],  \n",
    "    diel_loss_tan=parameters_set[p_set][\"diel_loss_tan_f\"], \n",
    "    env_thermal_energy=thermal_energy,\n",
    "    dephasing_times= parameters_set[p_set][\"dephasing_times_f\"] #ns/2*np.pi \n",
    ")\n",
    "flx.diagonalize_basis(levels_f)\n",
    "\n",
    "# We also add a drive on the fluxonium\n",
    "flx.add_drive(\n",
    "    pysqkit.drives.microwave_drive,\n",
    "    label='cz_drive_f',\n",
    "    pulse=pysqkit.drives.pulses.cos_modulation,\n",
    "    pulse_shape=pysqkit.drives.pulse_shapes.gaussian_top\n",
    ")\n",
    "\n",
    "d_leak = levels_t*levels_f - d_comp\n",
    "\n",
    "jc = parameters_set[p_set][\"jc\"]\n",
    "coupled_sys = transm.couple_to(flx, coupling=pysqkit.couplers.capacitive_coupling, strength=jc)\n",
    "bare_system = transm.couple_to(flx, coupling=pysqkit.couplers.capacitive_coupling, strength=0.0)\n",
    "\n",
    "freq_flx = flx.state('1')[0] - flx.state('0')[0]\n",
    "freq_03_flx = flx.state('3')[0] - flx.state('0')[0]\n",
    "#freq_34_flx = flx.state('4')[0] - flx.state('3')[0]\n",
    "\n",
    "state_label = [\"00\", \"01\", \"10\", \"11\"]\n",
    "comp_states = {}\n",
    "for label in state_label:\n",
    "    state_tmp = coupled_sys.state(label)[1]\n",
    "    loc = np.argmax(np.abs(state_tmp))\n",
    "    phase = cmath.phase(state_tmp[loc])\n",
    "    state_tmp = np.exp(-1j*phase)*state_tmp\n",
    "    comp_states[label] = state_tmp\n",
    "\n",
    "eps_drive = 0.6 #parameter taken in simulations"
   ]
  },
  {
   "cell_type": "code",
   "execution_count": 4,
   "id": "33a416d6",
   "metadata": {},
   "outputs": [],
   "source": [
    "def mu_yz_flx(\n",
    "    comp_states: Dict, \n",
    "    system: QubitSystem,\n",
    "    eps_drive: float\n",
    ") -> float:\n",
    "    \n",
    "    \"\"\"\n",
    "    Description\n",
    "    --------------------------------------------------------------\n",
    "    Returns the YZ coefficient associated with the charge \n",
    "    operator of the fluxonium in the dressed basis.\n",
    "    \"\"\"\n",
    "    \n",
    "    op = coupled_sys[\"F\"].charge_op()\n",
    "    yz0 = get_mat_elem(op, comp_states['00'], comp_states['10'])\n",
    "    yz1 = get_mat_elem(op, comp_states['01'], comp_states['11'] )\n",
    "    return np.abs((np.imag(yz0 - yz1))/2)*eps_drive/2\n",
    "\n",
    "def gate_time_cr(\n",
    "    comp_states: Dict, \n",
    "    system: QubitSystem, \n",
    "    eps_drive: float\n",
    ") -> float:\n",
    "    \n",
    "    \"\"\"\n",
    "    Description\n",
    "    --------------------------------------------------------------\n",
    "    Returns the gate time for an ideal cross-resonance gate with\n",
    "    constant envelope.\n",
    "    \"\"\"\n",
    "    \n",
    "    coeff = mu_yz_flx(comp_states, system, eps_drive)\n",
    "    return 1/(8*coeff)  \n",
    "    \n",
    "\n",
    "def zz(\n",
    "    system: QubitSystem\n",
    ") -> float:\n",
    "    \n",
    "    \"\"\"\n",
    "    Description\n",
    "    --------------------------------------------------------------\n",
    "    Returns the residual ZZ coupling at zero drive.\n",
    "    \"\"\"\n",
    "    \n",
    "    xi_zz = system.state('00')[0] + system.state('11')[0] \\\n",
    "        - system.state('01')[0] - system.state('10')[0]\n",
    "    return xi_zz\n",
    "\n",
    "def delta(\n",
    "    system: QubitSystem\n",
    ") -> float:\n",
    "    \n",
    "    \"\"\"\n",
    "    Description\n",
    "    --------------------------------------------------------------\n",
    "    Returns the parameter Delta that determines the gate speed \n",
    "    of the CPHASE gate.\n",
    "    \"\"\"\n",
    "        \n",
    "    delta_gate = (system.state('13')[0] - system.state('10')[0]) - \\\n",
    "        (system.state('03')[0] - system.state('00')[0])\n",
    "    return delta_gate "
   ]
  },
  {
   "cell_type": "markdown",
   "id": "13dbecd1",
   "metadata": {},
   "source": [
    "The following is a list of the relevant parameters"
   ]
  },
  {
   "cell_type": "code",
   "execution_count": 5,
   "id": "8341f99a",
   "metadata": {},
   "outputs": [
    {
     "data": {
      "text/latex": [
       "$\\omega_{01, flx}/2 \\pi = 0.582 \\, \\mathrm{GHz}$"
      ],
      "text/plain": [
       "<IPython.core.display.Latex object>"
      ]
     },
     "metadata": {},
     "output_type": "display_data"
    },
    {
     "data": {
      "text/latex": [
       "$\\omega_{01, transm}/2 \\pi = 4.500 \\, \\mathrm{GHz}$"
      ],
      "text/plain": [
       "<IPython.core.display.Latex object>"
      ]
     },
     "metadata": {},
     "output_type": "display_data"
    },
    {
     "data": {
      "text/latex": [
       "$\\omega_{03, flx}/2 \\pi = 6.574 \\, \\mathrm{GHz}$"
      ],
      "text/plain": [
       "<IPython.core.display.Latex object>"
      ]
     },
     "metadata": {},
     "output_type": "display_data"
    },
    {
     "data": {
      "text/latex": [
       "$\\xi_{ZZ}/h = 0.133 \\, \\mathrm{MHz}$"
      ],
      "text/plain": [
       "<IPython.core.display.Latex object>"
      ]
     },
     "metadata": {},
     "output_type": "display_data"
    },
    {
     "data": {
      "text/latex": [
       "$t_{gate}^{(CR)} = 123.989 \\, \\mathrm{ns}$"
      ],
      "text/plain": [
       "<IPython.core.display.Latex object>"
      ]
     },
     "metadata": {},
     "output_type": "display_data"
    },
    {
     "data": {
      "text/latex": [
       "$\\Delta/h = -0.038 \\, \\mathrm{MHz}$"
      ],
      "text/plain": [
       "<IPython.core.display.Latex object>"
      ]
     },
     "metadata": {},
     "output_type": "display_data"
    },
    {
     "data": {
      "text/latex": [
       "$T_{1,transm} = 125.749 \\, \\mu s$"
      ],
      "text/plain": [
       "<IPython.core.display.Latex object>"
      ]
     },
     "metadata": {},
     "output_type": "display_data"
    },
    {
     "data": {
      "text/latex": [
       "$T_{1,flx}^{1 \\mapsto 0} = 122.821 \\, \\mu s$"
      ],
      "text/plain": [
       "<IPython.core.display.Latex object>"
      ]
     },
     "metadata": {},
     "output_type": "display_data"
    },
    {
     "data": {
      "text/latex": [
       "$T_{1,flx}^{0 \\mapsto 1} = 496.185 \\, \\mu s$"
      ],
      "text/plain": [
       "<IPython.core.display.Latex object>"
      ]
     },
     "metadata": {},
     "output_type": "display_data"
    },
    {
     "data": {
      "text/latex": [
       "$T_{1,flx}^{3 \\mapsto 0} = 19.558 \\, \\mu s$"
      ],
      "text/plain": [
       "<IPython.core.display.Latex object>"
      ]
     },
     "metadata": {},
     "output_type": "display_data"
    },
    {
     "data": {
      "text/latex": [
       "$T_{1,flx}^{0 \\mapsto 3} = 138952889.844 \\, \\mu s$"
      ],
      "text/plain": [
       "<IPython.core.display.Latex object>"
      ]
     },
     "metadata": {},
     "output_type": "display_data"
    }
   ],
   "source": [
    "display(Latex(r'$\\omega_{{01, flx}}/2 \\pi = {:.3f} \\, \\mathrm{{GHz}}$'.format(freq_flx)))\n",
    "display(Latex(r'$\\omega_{{01, transm}}/2 \\pi = {:.3f} \\, \\mathrm{{GHz}}$'.format(transm.max_freq)))\n",
    "#display(Latex(r'$\\omega_{{34, flx}}/2 \\pi = {:.3f} \\, \\mathrm{{GHz}}$'.format(freq_34_flx)))\n",
    "display(Latex(r'$\\omega_{{03, flx}}/2 \\pi = {:.3f} \\, \\mathrm{{GHz}}$'.format(freq_03_flx)))\n",
    "display(Latex(r'$\\xi_{{ZZ}}/h = {:.3f} \\, \\mathrm{{MHz}}$'.format(1e3*zz(coupled_sys))))\n",
    "display(Latex(r'$t_{{gate}}^{{(CR)}} = {:.3f} \\, \\mathrm{{ns}}$'.format(gate_time_cr(comp_states, coupled_sys, eps_drive))))\n",
    "display(Latex(r'$\\Delta/h = {:.3f} \\, \\mathrm{{MHz}}$'.format(1e3*delta(coupled_sys))))\n",
    "display(Latex(r'$T_{{1,transm}} = {:.3f} \\, \\mu s$'.format(1e-3*1/(2*np.pi*transm.loss_rates(0, 1)[0]))))\n",
    "display(Latex(r'$T_{{1,flx}}^{{1 \\mapsto 0}} = {:.3f} \\, \\mu s$'.format(1e-3*1/(2*np.pi*flx.loss_rates(0, 1)[0]))))\n",
    "display(Latex(r'$T_{{1,flx}}^{{0 \\mapsto 1}} = {:.3f} \\, \\mu s$'.format(1e-3*1/(2*np.pi*flx.loss_rates(0, 1)[1]))))\n",
    "display(Latex(r'$T_{{1,flx}}^{{3 \\mapsto 0}} = {:.3f} \\, \\mu s$'.format(1e-3*1/(2*np.pi*flx.loss_rates(0, 3)[0]))))\n",
    "display(Latex(r'$T_{{1,flx}}^{{0 \\mapsto 3}} = {:.3f} \\, \\mu s$'.format(1e-3*1/(2*np.pi*flx.loss_rates(0, 3)[1]))))"
   ]
  },
  {
   "cell_type": "markdown",
   "id": "d5a8600b",
   "metadata": {},
   "source": [
    "The following function performs the numerical SW between coupled transmon and fluxonium in the presence of drive"
   ]
  },
  {
   "cell_type": "code",
   "execution_count": 9,
   "id": "f558d502",
   "metadata": {},
   "outputs": [],
   "source": [
    "def dressed_state(\n",
    "    lev: str,\n",
    "    hamil: qtp.qobj.Qobj(),\n",
    "    lev_t: int,\n",
    "    lev_f: int\n",
    "):\n",
    "    \"\"\"\n",
    "    Description\n",
    "    ---------------------------------------------------------\n",
    "    Function that returns the dressed state\n",
    "    \"\"\"\n",
    "    \n",
    "    #eig_en_0, eig_states_0 = h_0.eigenstates()\n",
    "    eig_en, eig_states = hamil.eigenstates()\n",
    "    \n",
    "    lev_list = [int(index) for index in lev]\n",
    "    \n",
    "    if lev_list[0] >= lev_t or lev_list[1] >= lev_f:\n",
    "        raise ValueError(\"Index error: indeces out of bound\")\n",
    "    state_0 = qtp.tensor(qtp.basis(lev_t, lev_list[0]), qtp.basis(lev_f, lev_list[1]))\n",
    "    #en_0 = eig_en_0[state_index]\n",
    "    eig_states_list = list(eig_states)\n",
    "    state = eig_states_list[0]\n",
    "    en = eig_en[0]\n",
    "    fid = qtp.fidelity(state*state.dag(), state_0*state_0.dag())\n",
    "    for state_tmp, en_tmp in zip(eig_states_list, eig_en):\n",
    "        fid_tmp = qtp.fidelity(state_tmp*state_tmp.dag(), state_0*state_0.dag())\n",
    "        if fid_tmp > fid:\n",
    "            state = state_tmp\n",
    "            fid = fid_tmp\n",
    "            en = en_tmp\n",
    "    loc = np.argmax(np.abs(np.array(state)) )\n",
    "    phase = cmath.phase(state[loc])\n",
    "    state = np.exp(-1j*phase)*state\n",
    "    return en, state\n",
    "\n",
    "def projector(\n",
    "    hamil: qtp.qobj.Qobj(),\n",
    "    lev_t: int,\n",
    "    lev_f: int,\n",
    "    labels=[\"00\", \"01\", \"10\", \"11\"]\n",
    "):\n",
    "    states = {}\n",
    "    proj = 0\n",
    "    for label in labels:\n",
    "        states[label] = dressed_state(label, hamil, lev_t, lev_f)[1]\n",
    "        proj += states[label]*states[label].dag()\n",
    "    return proj, states\n",
    "\n",
    "def h_sw_exact(\n",
    "    proj_0: qtp.qobj.Qobj(),\n",
    "    proj: qtp.qobj.Qobj(),\n",
    "    hamil: qtp.qobj.Qobj(),\n",
    "    states_0: dict,\n",
    "    lev_t: int,\n",
    "    lev_f: int\n",
    "):\n",
    "    refl_0 = qtp.tensor(qtp.qeye(lev_t), qtp.qeye(lev_f)) - 2*proj_0\n",
    "    refl = qtp.tensor(qtp.qeye(lev_t), qtp.qeye(lev_f)) - 2*proj\n",
    "    u_sw = (refl_0*refl).sqrtm()\n",
    "    h_sw = u_sw*hamil*u_sw.dag()\n",
    "    h_eff = np.zeros([4, 4], dtype=complex)\n",
    "    for key_row, row in zip(states_0.keys(), range(0, 4)):\n",
    "        for key_col, col in zip(states_0.keys(), range(0, 4)):\n",
    "            h_eff[row, col] = hamil.matrix_element(states_0[key_row], states_0[key_col])\n",
    "    return h_eff\n",
    "\n",
    "def get_pauli_coeff(\n",
    "    op: np.ndarray,\n",
    "    label: str\n",
    "):\n",
    "    pauli = {}\n",
    "    pauli[\"I\"] = np.identity(2, dtype=complex)\n",
    "    pauli[\"X\"] = np.array([[0.0, 1.0], [1.0, 0.0]], dtype=complex)\n",
    "    pauli[\"Y\"] = np.array([[0.0, -1j*1.0], [1j*1.0, 0.0]], dtype=complex)\n",
    "    pauli[\"Z\"] = np.array([[1.0, 0.0], [0.0, -1.0]], dtype=complex)\n",
    "    label_list = [x for x in label]\n",
    "    pauli_op = np.kron(pauli[label_list[0]], pauli[label_list[1]])\n",
    "    coeff = 1/4*np.trace(op.conj().T.dot(pauli_op))\n",
    "    return coeff\n",
    "\n",
    "def get_params_sw(\n",
    "    transm: Qubit,\n",
    "    flx: Qubit,\n",
    "    jc: float,\n",
    "    drive_params: Dict\n",
    "):\n",
    "    \"\"\"\n",
    "    Description\n",
    "    -----------------------------------------------------------------------\n",
    "    Returns the exact cross-resonance coefficient in MHz.\n",
    "    \"\"\"\n",
    "    \n",
    "    if flx.dim_hilbert != 4:\n",
    "        raise ValueError(\"Fluxonium dimension error: 4 levels of the fluxonium\"\n",
    "                        \" must be included\")\n",
    "    if transm.dim_hilbert != 3:\n",
    "        raise ValueError(\"Transmon dimension error: 3 levels of the fluxonium\"\n",
    "                        \" must be included\")\n",
    "    \n",
    "    freq_drive = drive_params[\"freq\"]\n",
    "    eps_drive = drive_params[\"eps\"]\n",
    "    phase_drive = np.pi/2\n",
    "    \n",
    "    eig_flx = flx.eig_energies()\n",
    "    \n",
    "    lev_t = 3\n",
    "    lev_f = 4\n",
    "    id_t = qtp.qeye(lev_t)\n",
    "    id_f = qtp.qeye(lev_f)\n",
    "    proj_1_t = qtp.basis(lev_t, 1)*qtp.basis(lev_t, 1).dag()\n",
    "    proj_2_t = qtp.basis(lev_t, 2)*qtp.basis(lev_t, 2).dag()\n",
    "    h_t_single = (transm.freq - freq_drive)*proj_1_t + (transm.anharm + 2*(transm.freq - freq_drive))*proj_2_t\n",
    "    h_t = qtp.tensor(h_t_single, id_f)\n",
    "\n",
    "    # Fluxonium Hamiltonian\n",
    "    proj_1_f = qtp.basis(lev_f, 1)*qtp.basis(lev_f, 1).dag()\n",
    "    proj_2_f = qtp.basis(lev_f, 2)*qtp.basis(lev_f, 2).dag()\n",
    "    proj_3_f = qtp.basis(lev_f, 3)*qtp.basis(lev_f, 3).dag()\n",
    "    ground_en_f = flx.eig_energies()[0]\n",
    "    h_f_single = flx.hamiltonian(as_qobj=True) - ground_en_f*id_f - freq_drive*proj_1_f - \\\n",
    "        freq_drive*proj_3_f - 2*freq_drive*proj_2_f\n",
    "    h_f = qtp.tensor(id_t, h_f_single)\n",
    "\n",
    "    # Coupling Hamiltonian\n",
    "    coup_op_t = 1j*transm.charge_zpf*(qtp.basis(lev_t, 1)*qtp.basis(lev_t, 0).dag() + np.sqrt(2)*qtp.basis(lev_t, 2)*qtp.basis(lev_t, 1).dag())\n",
    "    q_10_f = flx.charge_op(as_qobj=True)[1, 0]\n",
    "    q_30_f = flx.charge_op(as_qobj=True)[3, 0]\n",
    "    q_21_f = flx.charge_op(as_qobj=True)[2, 1]\n",
    "    coup_op_f = q_10_f*qtp.basis(lev_f, 1)*qtp.basis(lev_f, 0).dag() + \\\n",
    "        q_30_f*qtp.basis(lev_f, 3)*qtp.basis(lev_f, 0).dag() + q_21_f*qtp.basis(lev_f, 2)*qtp.basis(lev_f, 1).dag()\n",
    "    h_coup = jc*(qtp.tensor(coup_op_t, coup_op_f.dag()) + qtp.tensor(coup_op_t, coup_op_f.dag()).dag())\n",
    "\n",
    "    # Drive Hamiltonian\n",
    "    h_drive = eps_drive/2*(qtp.tensor(id_t, coup_op_f).dag()*np.exp(1j*phase_drive) + \\\n",
    "                           qtp.tensor(id_t, coup_op_f)*np.exp(-1j*phase_drive))\n",
    "\n",
    "    #Total Hamiltonian\n",
    "    h_0 = h_t + h_f\n",
    "    h = h_0 + h_coup\n",
    "    h_tot = h + h_drive\n",
    "    \n",
    "    proj_dressed, states_dressed = projector(h, lev_t, lev_f)\n",
    "    proj_dressed_drive, states_dressed_drive = projector(h_tot, lev_t, lev_f)\n",
    "    ref_dressed = qtp.tensor(id_t, id_f) - 2*proj_dressed\n",
    "    ref_dressed_drive = qtp.tensor(id_t, id_f) - 2*proj_dressed_drive\n",
    "    u_sw = (ref_dressed*ref_dressed_drive).sqrtm()\n",
    "    \n",
    "    h_sw_eff = h_sw_exact(proj_dressed, proj_dressed_drive, h_tot, states_dressed, lev_t, lev_f)\n",
    "    \n",
    "    output = {}\n",
    "    output[\"transm_freq\"] = transm.freq # GHz\n",
    "    output[\"flx_freq_01\"] = eig_flx[1] - eig_flx[0] #GHz\n",
    "    output[\"flx_freq_12\"] = eig_flx[2] - eig_flx[1] #GHz\n",
    "    output[\"flx_freq_03\"] = eig_flx[3] - eig_flx[0] #GHz\n",
    "    output[\"eps\"] = eps_drive #GHz\n",
    "    output[\"cr\"] = np.real(get_pauli_coeff(h_sw_eff, \"XZ\")*1e3) #MHz\n",
    "    output[\"cr_gate_time\"] = 1/(8*np.abs(output[\"cr\"])/1e3) #ns\n",
    "    output[\"zz\"] = 4*np.real(get_pauli_coeff(h_sw_eff, \"ZZ\")*1e3) #Mhz (notice factor of 4)\n",
    "    output[\"jc\"] = jc*1e3 #MHz\n",
    "    \n",
    "    return output"
   ]
  },
  {
   "cell_type": "code",
   "execution_count": 10,
   "id": "ce4dae68",
   "metadata": {},
   "outputs": [],
   "source": [
    "levels_f = 4\n",
    "\n",
    "flx = pysqkit.qubits.Fluxonium(\n",
    "    label='F', \n",
    "    charge_energy=parameters_set[p_set][\"charge_energy_f\"], \n",
    "    induct_energy=parameters_set[p_set][\"induct_energy_f\"], \n",
    "    joseph_energy=parameters_set[p_set][\"joseph_energy_f\"], #8.0, \n",
    "    diel_loss_tan=parameters_set[p_set][\"diel_loss_tan_f\"], #set to zero to check d_1 L1 = d_2 L2\n",
    "    env_thermal_energy=thermal_energy,\n",
    "    dephasing_times= parameters_set[p_set][\"dephasing_times_f\"] #ns/2*np.pi \n",
    ")\n",
    "flx.diagonalize_basis(levels_f)\n",
    "\n",
    "result_sw = get_params_sw(transm, flx, jc, {\"freq\": transm.freq, \"eps\":0.6})"
   ]
  },
  {
   "cell_type": "code",
   "execution_count": 11,
   "id": "7b0b4c7a",
   "metadata": {},
   "outputs": [
    {
     "data": {
      "text/plain": [
       "{'transm_freq': 4.5,\n",
       " 'flx_freq_01': 0.5818489963974303,\n",
       " 'flx_freq_12': 3.3885865584520825,\n",
       " 'flx_freq_03': 6.574488472163283,\n",
       " 'eps': 0.6,\n",
       " 'cr': -1.0695142170538472,\n",
       " 'cr_gate_time': 116.87549170158117,\n",
       " 'zz': 0.14220174015155962,\n",
       " 'jc': 20.0}"
      ]
     },
     "execution_count": 11,
     "metadata": {},
     "output_type": "execute_result"
    }
   ],
   "source": [
    "result_sw"
   ]
  },
  {
   "cell_type": "markdown",
   "id": "dbb70d1a",
   "metadata": {},
   "source": [
    "# Some remarks"
   ]
  },
  {
   "cell_type": "markdown",
   "id": "ab0ce928",
   "metadata": {},
   "source": [
    "One can notice that the ZZ coupling does not depend at all on the drive strength. The small discrepancies (smaller than 10%) between the SW result and the full numerics on the ZZ should be due to the neglected fast rotating terms."
   ]
  }
 ],
 "metadata": {
  "kernelspec": {
   "display_name": "Python 3.7.3 64-bit ('base': conda)",
   "language": "python",
   "name": "python37364bitbaseconda36d0b2465ec04527ba16a77ef6d99d0e"
  },
  "language_info": {
   "codemirror_mode": {
    "name": "ipython",
    "version": 3
   },
   "file_extension": ".py",
   "mimetype": "text/x-python",
   "name": "python",
   "nbconvert_exporter": "python",
   "pygments_lexer": "ipython3",
   "version": "3.7.11"
  }
 },
 "nbformat": 4,
 "nbformat_minor": 5
}
