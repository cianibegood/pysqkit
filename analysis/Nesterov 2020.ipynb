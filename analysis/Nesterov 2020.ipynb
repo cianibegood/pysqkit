{
 "cells": [
  {
   "cell_type": "code",
   "execution_count": 3,
   "id": "c7cea4fe",
   "metadata": {},
   "outputs": [
    {
     "data": {
      "text/html": [
       "\n",
       "\n",
       "<style>\n",
       "    div#notebook-container    { width: 90%; }\n",
       "    div#menubar-container     { width: 65%; }\n",
       "    div#maintoolbar-container { width: 99%; }\n",
       "</style>\n"
      ],
      "text/plain": [
       "<IPython.core.display.HTML object>"
      ]
     },
     "metadata": {},
     "output_type": "display_data"
    },
    {
     "data": {
      "application/javascript": [
       "if (!(\"Notification\" in window)) {\n",
       "    alert(\"This browser does not support desktop notifications, so the %%notify magic will not work.\");\n",
       "} else if (Notification.permission !== 'granted' && Notification.permission !== 'denied') {\n",
       "    Notification.requestPermission(function (permission) {\n",
       "        if(!('permission' in Notification)) {\n",
       "            Notification.permission = permission;\n",
       "        }\n",
       "    })\n",
       "}\n"
      ],
      "text/plain": [
       "<IPython.core.display.Javascript object>"
      ]
     },
     "metadata": {},
     "output_type": "display_data"
    }
   ],
   "source": [
    "from IPython.display import display, HTML\n",
    "\n",
    "display(HTML(data=\"\"\"\n",
    "\n",
    "<style>\n",
    "    div#notebook-container    { width: 90%; }\n",
    "    div#menubar-container     { width: 65%; }\n",
    "    div#maintoolbar-container { width: 99%; }\n",
    "</style>\n",
    "\"\"\"))\n",
    "\n",
    "%reload_ext jupyternotify\n",
    "\n",
    "#%notify"
   ]
  },
  {
   "cell_type": "code",
   "execution_count": 15,
   "id": "71be6427",
   "metadata": {},
   "outputs": [
    {
     "ename": "SyntaxError",
     "evalue": "invalid syntax (system.py, line 63)",
     "output_type": "error",
     "traceback": [
      "Traceback \u001b[1;36m(most recent call last)\u001b[0m:\n",
      "  File \u001b[0;32m\"C:\\Users\\nicol\\anaconda3\\lib\\site-packages\\IPython\\core\\interactiveshell.py\"\u001b[0m, line \u001b[0;32m3437\u001b[0m, in \u001b[0;35mrun_code\u001b[0m\n    exec(code_obj, self.user_global_ns, self.user_ns)\n",
      "  File \u001b[0;32m\"<ipython-input-15-b3f12bd6c456>\"\u001b[0m, line \u001b[0;32m12\u001b[0m, in \u001b[0;35m<module>\u001b[0m\n    import pysqkit\n",
      "  File \u001b[0;32m\"..\\pysqkit\\__init__.py\"\u001b[0m, line \u001b[0;32m2\u001b[0m, in \u001b[0;35m<module>\u001b[0m\n    from .systems import QubitSystem, Coupling\n",
      "\u001b[1;36m  File \u001b[1;32m\"..\\pysqkit\\systems\\__init__.py\"\u001b[1;36m, line \u001b[1;32m1\u001b[1;36m, in \u001b[1;35m<module>\u001b[1;36m\u001b[0m\n\u001b[1;33m    from .system import Qubit, Coupling, QubitSystem\u001b[0m\n",
      "\u001b[1;36m  File \u001b[1;32m\"..\\pysqkit\\systems\\system.py\"\u001b[1;36m, line \u001b[1;32m63\u001b[0m\n\u001b[1;33m    <<<<<<< HEAD\u001b[0m\n\u001b[1;37m     ^\u001b[0m\n\u001b[1;31mSyntaxError\u001b[0m\u001b[1;31m:\u001b[0m invalid syntax\n"
     ]
    }
   ],
   "source": [
    "import numpy as np\n",
    "import sys\n",
    "from qutip import *\n",
    "import matplotlib.pyplot as plt\n",
    "from pathlib import Path\n",
    "\n",
    "from scipy import linalg as la\n",
    "\n",
    "parent_path = \"..\"  #str(Path(__file__).resolve().parents[1])\n",
    "sys.path.append(parent_path)\n",
    "\n",
    "import pysqkit\n",
    "\n",
    "\n",
    "import time\n",
    "import os\n",
    "\n",
    "from pysqkit.solvers.solvkit import integrate\n",
    "\n",
    "%matplotlib notebook\n",
    "plt.rcParams['figure.figsize'] = (10, 7)"
   ]
  },
  {
   "cell_type": "code",
   "execution_count": null,
   "id": "4395602d",
   "metadata": {},
   "outputs": [],
   "source": [
    "from math import pi\n",
    "\n",
    "h = 6.62607 * 10**(-34)\n",
    "h_bar = h/(2*pi)\n",
    "e = 1.6071766*10**(-19)\n",
    "phi_0 = h/(2*e)\n"
   ]
  },
  {
   "cell_type": "code",
   "execution_count": null,
   "id": "ea81f5e2",
   "metadata": {},
   "outputs": [],
   "source": [
    "N = 100"
   ]
  },
  {
   "cell_type": "markdown",
   "id": "5da37ace",
   "metadata": {},
   "source": [
    "# Init"
   ]
  },
  {
   "cell_type": "code",
   "execution_count": null,
   "id": "78e208b6",
   "metadata": {},
   "outputs": [],
   "source": [
    "J_c = 300*10**6 *h\n",
    "lam = .5"
   ]
  },
  {
   "cell_type": "code",
   "execution_count": null,
   "id": "d3e4ee4e",
   "metadata": {},
   "outputs": [],
   "source": [
    "t = np.linspace(0, 400, 2000) * 10**(-9) #in nano seconds"
   ]
  },
  {
   "cell_type": "markdown",
   "id": "40cb928c",
   "metadata": {},
   "source": [
    "$$\\hat{H} = \\hat{H}^{(0)}_A + \\hat{H}^{(0)}_B + \\hat{V} + \\hat{H}_{drive}$$"
   ]
  },
  {
   "cell_type": "markdown",
   "id": "3982e4be",
   "metadata": {
    "heading_collapsed": true
   },
   "source": [
    "## flxA\n",
    "\n"
   ]
  },
  {
   "cell_type": "markdown",
   "id": "44d4a9d0",
   "metadata": {
    "hidden": true
   },
   "source": [
    "$$\\hat{H}^{(0)}_A = 4 E_{C,A} \\cdot \\hat{n}^2_A + \\frac{1}{2}E_{L,A}\\cdot\\hat{\\varphi}^2_A - E_{J,A}\\cos\\left(\\hat{\\varphi}_A - \\phi_{ext,A}\\right)$$"
   ]
  },
  {
   "cell_type": "code",
   "execution_count": null,
   "id": "543b9c30",
   "metadata": {
    "hidden": true
   },
   "outputs": [],
   "source": [
    "e_c_A = 1*10**9 *h\n",
    "e_l_A = 1.5*10**9 *h\n",
    "e_j_A = 3.8*10**9 *h\n",
    "  \n",
    "flux_A = 1/2  # 1/2 -> pi dans le cos\n",
    "\n",
    "flxA = pysqkit.qubits.Fluxonium(label = \"QBA\",\n",
    "                               charge_energy=e_c_A,\n",
    "                               induct_energy=e_l_A,\n",
    "                               joseph_energy=e_j_A,\n",
    "                               flux=flux_A,\n",
    "                               basis=None,\n",
    "                               dim_hilbert=N)"
   ]
  },
  {
   "cell_type": "code",
   "execution_count": null,
   "id": "c8ee40d5",
   "metadata": {
    "hidden": true
   },
   "outputs": [],
   "source": [
    "eig_enegies, eig_states = flxA.eig_states(levels=5)\n",
    "flxA.basis.transform(eig_states)"
   ]
  },
  {
   "cell_type": "code",
   "execution_count": null,
   "id": "e233ef70",
   "metadata": {
    "hidden": true
   },
   "outputs": [],
   "source": [
    "#Bare energies\n",
    "\n",
    "bare_E_A = flxA.eig_energies()\n",
    "bare_E_A/(h*10**9)"
   ]
  },
  {
   "cell_type": "code",
   "execution_count": null,
   "id": "225e5d1a",
   "metadata": {
    "hidden": true
   },
   "outputs": [],
   "source": [
    "# transitions freqs\n",
    "\n",
    "omega_01_A = bare_E_A[1] - bare_E_A[0]\n",
    "omega_12_A = bare_E_A[2] - bare_E_A[1]\n",
    "\n",
    "omega_01_A/(h*10**9) , omega_12_A/(h*10**9) "
   ]
  },
  {
   "cell_type": "code",
   "execution_count": null,
   "id": "625eeda2",
   "metadata": {
    "hidden": true
   },
   "outputs": [],
   "source": [
    "# mat elements :\n",
    "\n",
    "n_10_A = np.abs(flxA.mat_elements('charge_op', levels = 5)).data[1,0]\n",
    "n_01_A = np.abs(flxA.mat_elements('charge_op', levels = 5)).data[0,1]\n",
    "\n",
    "np.round(np.abs(flxA.mat_elements('charge_op', levels = 5)).data, 2), n_01_A, n_10_A"
   ]
  },
  {
   "cell_type": "markdown",
   "id": "7a7913c9",
   "metadata": {
    "heading_collapsed": true,
    "hidden": true
   },
   "source": [
    "### Rq)"
   ]
  },
  {
   "cell_type": "code",
   "execution_count": null,
   "id": "00cb674e",
   "metadata": {
    "hidden": true
   },
   "outputs": [],
   "source": [
    "plt.figure()\n",
    "for i in range(len(bare_E_A)):\n",
    "    plt.scatter(i, bare_E_A[i])"
   ]
  },
  {
   "cell_type": "code",
   "execution_count": null,
   "id": "081d39f3",
   "metadata": {
    "hidden": true
   },
   "outputs": [],
   "source": [
    "flxA.charge_op(as_qobj = True)"
   ]
  },
  {
   "cell_type": "code",
   "execution_count": null,
   "id": "b0f84240",
   "metadata": {
    "hidden": true
   },
   "outputs": [],
   "source": [
    "flxA.charge_zpf*(create(100) - destroy(100))*1j"
   ]
  },
  {
   "cell_type": "code",
   "execution_count": null,
   "id": "1251af83",
   "metadata": {
    "hidden": true
   },
   "outputs": [],
   "source": [
    "flxA.charge_op(as_qobj = True)"
   ]
  },
  {
   "cell_type": "code",
   "execution_count": null,
   "id": "8c7fde22",
   "metadata": {
    "hidden": true
   },
   "outputs": [],
   "source": [
    "flxA.hamiltonian(as_qobj = True)/(h*10**9)"
   ]
  },
  {
   "cell_type": "markdown",
   "id": "3e37efc4",
   "metadata": {
    "heading_collapsed": true
   },
   "source": [
    "## flx2"
   ]
  },
  {
   "cell_type": "markdown",
   "id": "50832955",
   "metadata": {
    "hidden": true
   },
   "source": [
    "$$\\hat{H}^{(0)}_B = 4 E_{C,B} \\cdot \\hat{n}^2_B + \\frac{1}{2}E_{L,B}\\cdot\\hat{\\varphi}^2_B - E_{J,B}\\cos\\left(\\hat{\\varphi}_B - \\phi_{ext,B}\\right)$$"
   ]
  },
  {
   "cell_type": "code",
   "execution_count": null,
   "id": "f14a63a4",
   "metadata": {
    "hidden": true
   },
   "outputs": [],
   "source": [
    "e_c_B = 1*10**9 *h\n",
    "e_l_B = .9*10**9 *h\n",
    "e_j_B = 3*10**9 *h\n",
    "\n",
    "flux_B = 1/2\n",
    "\n",
    "flxB = pysqkit.qubits.Fluxonium(label = \"QBB\",\n",
    "                               charge_energy=e_c_B,\n",
    "                               induct_energy=e_l_B,\n",
    "                               joseph_energy=e_j_B,\n",
    "                               flux=flux_B,\n",
    "                               basis=None,\n",
    "                               dim_hilbert=N)"
   ]
  },
  {
   "cell_type": "code",
   "execution_count": null,
   "id": "e8e200c3",
   "metadata": {
    "hidden": true
   },
   "outputs": [],
   "source": [
    "eig_enegies, eig_states = flxB.eig_states(levels=5)\n",
    "flxB.basis.transform(eig_states)"
   ]
  },
  {
   "cell_type": "code",
   "execution_count": null,
   "id": "cdf672ac",
   "metadata": {
    "hidden": true
   },
   "outputs": [],
   "source": [
    "#Bare energies\n",
    "\n",
    "bare_E_B = flxB.eig_energies()\n",
    "bare_E_B/(h*10**9)"
   ]
  },
  {
   "cell_type": "code",
   "execution_count": null,
   "id": "876068ee",
   "metadata": {
    "hidden": true
   },
   "outputs": [],
   "source": [
    "# transitions freqs\n",
    "\n",
    "omega_01_B = bare_E_B[1] - bare_E_B[0]\n",
    "omega_12_B = bare_E_B[2] - bare_E_B[1]\n",
    "\n",
    "omega_01_B/(h*10**9) , omega_12_B/(h*10**9) "
   ]
  },
  {
   "cell_type": "code",
   "execution_count": null,
   "id": "f9732ebf",
   "metadata": {
    "hidden": true
   },
   "outputs": [],
   "source": [
    "# mat elements :\n",
    "\n",
    "n_10_B = np.abs(flxB.mat_elements('charge_op', levels = 5)).data[1,0]\n",
    "n_01_B = np.abs(flxB.mat_elements('charge_op', levels = 5)).data[0,1]\n",
    "\n",
    "np.round(np.abs(flxB.mat_elements('charge_op', levels = 5)).data, 2), n_01_B, n_10_B"
   ]
  },
  {
   "cell_type": "markdown",
   "id": "104c8651",
   "metadata": {
    "heading_collapsed": true
   },
   "source": [
    "## coupling"
   ]
  },
  {
   "cell_type": "markdown",
   "id": "7d65d63f",
   "metadata": {
    "hidden": true
   },
   "source": [
    "$$\\hat{V} = J_C \\cdot \\hat{n}_A \\cdot \\hat{n}_B$$"
   ]
  },
  {
   "cell_type": "code",
   "execution_count": null,
   "id": "1da313d7",
   "metadata": {
    "hidden": true
   },
   "outputs": [],
   "source": [
    "g = J_c#J_c/(4*e**2)"
   ]
  },
  {
   "cell_type": "code",
   "execution_count": null,
   "id": "352bc210",
   "metadata": {
    "hidden": true
   },
   "outputs": [],
   "source": [
    "duo = flxA.couple_to(flxB, pysqkit.couplers.capacitive_coupling, strength = g)"
   ]
  },
  {
   "cell_type": "code",
   "execution_count": null,
   "id": "33d04693",
   "metadata": {
    "hidden": true
   },
   "outputs": [],
   "source": [
    "duo.eig_energies()/(h*10**9)"
   ]
  },
  {
   "cell_type": "code",
   "execution_count": null,
   "id": "a9270521",
   "metadata": {
    "hidden": true
   },
   "outputs": [],
   "source": [
    "duo.hamiltonian()"
   ]
  },
  {
   "cell_type": "markdown",
   "id": "f65f4adb",
   "metadata": {
    "heading_collapsed": true,
    "hidden": true
   },
   "source": [
    "### rqs"
   ]
  },
  {
   "cell_type": "code",
   "execution_count": null,
   "id": "610ebd56",
   "metadata": {
    "hidden": true
   },
   "outputs": [],
   "source": [
    "duo.bare_hamiltonian(), duo.int_hamiltonian()"
   ]
  },
  {
   "cell_type": "code",
   "execution_count": null,
   "id": "2286d9f7",
   "metadata": {
    "hidden": true
   },
   "outputs": [],
   "source": [
    "#Bare energies\n",
    "\n",
    "bare_E_duo = la.eig(duo.bare_hamiltonian())[0].real/h #in Hz\n",
    "bare_E_duo.sort()\n",
    "bare_E_duo = bare_E_duo[:5]*10**(-9)  #in GHz\n",
    "\n",
    "int_E_duo = la.eig(duo.int_hamiltonian())[0].real/h\n",
    "int_E_duo.sort()\n",
    "int_E_duo = int_E_duo[:5]*10**(-9)"
   ]
  },
  {
   "cell_type": "code",
   "execution_count": null,
   "id": "b2444090",
   "metadata": {
    "hidden": true
   },
   "outputs": [],
   "source": [
    "fig, axs = plt.subplots(1,2, figsize = (10,5))\n",
    "\n",
    "axs[0].scatter(range(len(bare_E_duo)), bare_E_duo, c = 'r', label = 'bare')    \n",
    "axs[1].scatter(range(len(int_E_duo)), int_E_duo, c = 'b', label = 'int')\n",
    "\n",
    "axs[0].legend()\n",
    "axs[1].legend()\n",
    "\n",
    "axs[0].set_ylabel(\"E (GHz)\")\n",
    "axs[1].set_ylabel(\"E (GHz)\")"
   ]
  },
  {
   "cell_type": "code",
   "execution_count": null,
   "id": "d9213eb7",
   "metadata": {
    "hidden": true
   },
   "outputs": [],
   "source": [
    "E_duo = bare_E_duo + int_E_duo\n",
    "E_duo.sort()\n",
    "\n",
    "plt.figure()\n",
    "plt.scatter(range(len(E_duo)), E_duo)\n",
    "\n",
    "plt.annotate(\"  |00>\", (0,E_duo[0]))\n",
    "plt.annotate(\"  |01>\", (1,E_duo[1]))\n",
    "plt.annotate(\"  |10>\", (2,E_duo[2]))\n",
    "plt.annotate(\"  |11>\", (3,E_duo[3]))\n",
    "plt.annotate(\"  |??>\", (4,E_duo[4]))\n",
    "\n",
    "\n",
    "\n",
    "\n",
    "plt.ylabel('E (GHz)')"
   ]
  },
  {
   "cell_type": "code",
   "execution_count": null,
   "id": "015ab0b6",
   "metadata": {
    "hidden": true
   },
   "outputs": [],
   "source": [
    "print(\"Ground =\", E_duo[0], \"GHz\\n1st state =\", E_duo[1], \"GHz\\n2nd state =\", E_duo[2], \"GHz\" )\n",
    "\n",
    "print(\"\\n\\nomega 00->01 =\", E_duo[1]-E_duo[0], \"GHz\\nomega 01->10 =\", E_duo[2] - E_duo[1], \"GHz\\nomega 10->11 =\", E_duo[3]-E_duo[2], \"GHz\"\n",
    "     )"
   ]
  },
  {
   "cell_type": "code",
   "execution_count": null,
   "id": "ce5ac804",
   "metadata": {
    "hidden": true
   },
   "outputs": [],
   "source": [
    "duo.hamiltonian()"
   ]
  },
  {
   "cell_type": "markdown",
   "id": "b92c0de7",
   "metadata": {},
   "source": [
    "## Drive"
   ]
  },
  {
   "cell_type": "markdown",
   "id": "7d077590",
   "metadata": {},
   "source": [
    "$$\\hat{H}_{drive} = 2  f\\left( t \\right)  \\cos \\left( \\omega_d t + \\gamma_d\\right) \\cdot \\left( \\eta_A \\cdot \\hat{n}_A + \\eta_B \\cdot \\hat{n}_B \\right)$$\n",
    "\n",
    "$$f\\left( t \\right) = f_0 \\cdot \\dfrac{f\\left( t \\right)}{f_0}$$"
   ]
  },
  {
   "cell_type": "code",
   "execution_count": null,
   "id": "9d10beb0",
   "metadata": {},
   "outputs": [],
   "source": [
    "f_0 = lam/2 * np.abs(omega_01_A - omega_01_B) / (n_10_A)"
   ]
  },
  {
   "cell_type": "code",
   "execution_count": null,
   "id": "eb6398da",
   "metadata": {},
   "outputs": [],
   "source": [
    "t_rise = 25*10**(-9)\n",
    "sigma = t_rise/2\n",
    "\n",
    "f_by_f0 = np.exp(- (t-t_rise)**2 / (2*sigma**2)) - np.exp(-t_rise**2 /(2*sigma**2))"
   ]
  },
  {
   "cell_type": "code",
   "execution_count": null,
   "id": "737f2244",
   "metadata": {},
   "outputs": [],
   "source": [
    "f = f_0 * f_by_f0\n",
    "\n",
    "omega_d = 2*pi * 1 *10**9\n",
    "gamma_d = 0\n",
    "\n",
    "eta_1 = 1\n",
    "eta_2 = 1"
   ]
  },
  {
   "cell_type": "code",
   "execution_count": null,
   "id": "0144b480",
   "metadata": {},
   "outputs": [],
   "source": [
    "n_A = flxA.charge_op(as_qobj = True)\n",
    "n_B = flxB.charge_op(as_qobj = True)"
   ]
  },
  {
   "cell_type": "code",
   "execution_count": null,
   "id": "ba9ad3e4",
   "metadata": {},
   "outputs": [],
   "source": [
    "H_drive = []\n",
    "\n",
    "for i in range(len(t)):\n",
    "    H_drive.append(2 * f[i] * np.cos(omega_d*t[i]) * (n_1 + n_2))"
   ]
  },
  {
   "cell_type": "code",
   "execution_count": null,
   "id": "66884c9e",
   "metadata": {},
   "outputs": [],
   "source": [
    "drive = n_A + n_B"
   ]
  },
  {
   "cell_type": "code",
   "execution_count": null,
   "id": "3d84c3c5",
   "metadata": {},
   "outputs": [],
   "source": [
    "pulse = 2 * f * np.cos(omega_d*t)"
   ]
  },
  {
   "cell_type": "markdown",
   "id": "2148c272",
   "metadata": {
    "heading_collapsed": true
   },
   "source": [
    "### Rq)"
   ]
  },
  {
   "cell_type": "code",
   "execution_count": null,
   "id": "cc4e1bba",
   "metadata": {
    "hidden": true
   },
   "outputs": [],
   "source": [
    "n_1+n_2 #Rq) only different parity term"
   ]
  },
  {
   "cell_type": "code",
   "execution_count": null,
   "id": "2c7f9cca",
   "metadata": {
    "hidden": true
   },
   "outputs": [],
   "source": [
    "n_1*n_2 #Rq) only same parity terms"
   ]
  },
  {
   "cell_type": "markdown",
   "id": "5ed652fd",
   "metadata": {},
   "source": [
    "# Simu"
   ]
  },
  {
   "cell_type": "code",
   "execution_count": null,
   "id": "62943d32",
   "metadata": {},
   "outputs": [],
   "source": [
    "#duo hamil to qobj\n",
    "dim = N\n",
    "\n",
    "duo_hamil = Qobj(\n",
    "                inpt=duo.hamiltonian(),\n",
    "                dims=[dim, dim],\n",
    "                shape=duo.hamiltonian(),\n",
    "                type='oper',\n",
    "                isherm=True)"
   ]
  },
  {
   "cell_type": "code",
   "execution_count": null,
   "id": "65b47005",
   "metadata": {},
   "outputs": [],
   "source": [
    "time =  t\n",
    "state_init = fock(N,0)\n",
    "hamil = duo_hamil\n",
    "drive = [drive*np.ones(len(t))]\n",
    "pulse = [pulse]\n",
    "jump = []\n",
    "solver = pysqkit.solvers.solvkit.supported_solvers[0]"
   ]
  },
  {
   "cell_type": "code",
   "execution_count": null,
   "id": "4c970adb",
   "metadata": {},
   "outputs": [],
   "source": [
    "res = integrate(time, state_init, hamil, drive, pulse, jump, solver)"
   ]
  }
 ],
 "metadata": {
  "kernelspec": {
   "display_name": "Python 3",
   "language": "python",
   "name": "python3"
  },
  "language_info": {
   "codemirror_mode": {
    "name": "ipython",
    "version": 3
   },
   "file_extension": ".py",
   "mimetype": "text/x-python",
   "name": "python",
   "nbconvert_exporter": "python",
   "pygments_lexer": "ipython3",
   "version": "3.7.10"
  },
  "toc": {
   "base_numbering": 1,
   "nav_menu": {},
   "number_sections": true,
   "sideBar": true,
   "skip_h1_title": false,
   "title_cell": "Table of Contents",
   "title_sidebar": "Contents",
   "toc_cell": false,
   "toc_position": {},
   "toc_section_display": true,
   "toc_window_display": false
  }
 },
 "nbformat": 4,
 "nbformat_minor": 5
}
