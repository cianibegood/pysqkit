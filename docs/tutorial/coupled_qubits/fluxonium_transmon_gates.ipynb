{
 "cells": [
  {
   "cell_type": "markdown",
   "metadata": {},
   "source": [
    "# Fluxonium-transmon gates\n",
    "We study different schemes for two-qubit gates between fluxonium and transmon. "
   ]
  },
  {
   "cell_type": "code",
   "execution_count": 37,
   "metadata": {},
   "outputs": [],
   "source": [
    "import numpy as np\n",
    "import sys\n",
    "import qutip as qtp \n",
    "import matplotlib.pyplot as plt\n",
    "from scipy import constants\n",
    "import pysqkit\n",
    "from pysqkit.util.linalg import get_mat_elem, tensor_prod\n",
    "from pysqkit.solvers import solvkit\n",
    "from typing import List\n",
    "import matplotlib\n",
    "matplotlib.rcParams['mathtext.fontset'] = 'cm'"
   ]
  },
  {
   "cell_type": "markdown",
   "metadata": {},
   "source": [
    "The gates will be based on the following driven Hamiltonian of capacitively coupled fluxonium and transmon\n",
    "\n",
    "$$H = H_F + H_T + V + H_{drive}$$,\n",
    "\n",
    "where we have the fluxonium Hamiltonian\n",
    "\n",
    "$$H_L= 4 E_{C,F} \\hat{n}^2_F + \\frac{1}{2}E_{L} \\hat{\\varphi}^2_F - E_{J,F}\\cos\\left(\\hat{\\varphi}_F - \\varphi_{ext,F}\\right), \\quad [\\hat{\\varphi}_F, \\hat{n}_F] = i$$,\n",
    "\n",
    "the transmon Hamiltonian (treated immediately as a Duffing oscillator)\n",
    "\n",
    "$$H_T =  \\hbar \\omega_T \\hat{b}^{\\dagger}\\hat{b} + \\hbar \\frac{\\delta_T}{2} \\hat{b}^{\\dagger} \\hat{b}^{\\dagger}\\hat{b} \\hat{b}$$,\n",
    "\n",
    "where in terms of the transmon's charging energy $E_{C,T}$ and Josephson energy $E_{J, T}$ the transmon's angular velocity $\\omega_T$ and anharmonicity $\\delta_T$ are\n",
    "\n",
    "$$ \\omega_T = \\frac{\\sqrt{8 E_{C, T} E_{J, T}}}{\\hbar}, \\quad \\delta_T = - \\frac{E_{C,T}}{\\hbar} $$.\n",
    "In addition, the transmon's charge operator can be written as\n",
    "$$ \\hat{n}_T = \\frac{i}{2} \\biggl( \\frac{E_{J, T}}{2 E_{C, T}} \\biggr)^{1/4} \\bigl( \\hat{b}^{\\dagger} - \\hat{b} \\bigr) = \\frac{i}{2} \\sqrt{\\frac{\\omega_T}{4 \\lvert \\delta_T \\rvert} }\\bigl( \\hat{b}^{\\dagger} - \\hat{b} \\bigr).$$\n",
    "\n",
    "The coupling Hamiltonian is\n",
    "\n",
    "$$V = J_C  \\hat{n}_F \\hat{n}_T$$,\n",
    "\n",
    "and the drive Hamiltonian\n",
    "\n",
    "$$H_{drive} = 2  f\\left( t \\right)  \\cos \\left( \\omega_d t + \\gamma_d\\right) \\left( \\eta_F  \\hat{n}_F + \\eta_T \\hat{n}_T \\right)   \\text{  with  } f\\left( t \\right) = f_0 \\dfrac{f\\left( t \\right)}{f_0}. $$"
   ]
  },
  {
   "cell_type": "markdown",
   "metadata": {},
   "source": [
    "# 1. Gate a la Ficheux 2020"
   ]
  },
  {
   "cell_type": "markdown",
   "metadata": {},
   "source": [
    "Let us introduce the two qubits. We consider a transmon with fundamental frequency $\\omega_T/2 \\pi = 5.0 \\, \\mathrm{GHz}$ and anharmonicity $\\delta_T/2 \\pi = - 300 \\, \\mathrm{MHz}$."
   ]
  },
  {
   "cell_type": "code",
   "execution_count": 38,
   "metadata": {},
   "outputs": [],
   "source": [
    "# Fluxonium parameters (like Qubit A in Ficheux 2020): values in GHz (divided by h)\n",
    "ec_f = 0.973 \n",
    "el_f = 0.457 \n",
    "ej_f = 5.899\n",
    "# ec_f = 1.027 \n",
    "# el_f = 0.684 \n",
    "# ej_f = 5.768\n",
    "flux_f = 1/2\n",
    "n_fock_f = 100\n",
    "# Transmon parameters: values in GHz divided by 2 \\pi \n",
    "omega_t = 5.0 \n",
    "delta_t = -0.3\n",
    "flux_t = 0\n",
    "n_fock_t = 3"
   ]
  },
  {
   "cell_type": "markdown",
   "metadata": {},
   "source": [
    "Let us introduce the two qubit objects"
   ]
  },
  {
   "cell_type": "code",
   "execution_count": 39,
   "metadata": {},
   "outputs": [],
   "source": [
    "levels_f = 5\n",
    "flx = pysqkit.qubits.Fluxonium('F', ec_f, el_f, ej_f, flux_f, dim_hilbert=n_fock_f)\n",
    "trans = pysqkit.qubits.SimpleTransmon('T', omega_t, delta_t, dim_hilbert=n_fock_t)\n",
    "flx.diagonalize_basis(levels_f)\n",
    "# The Simple Transmon is already diagonal"
   ]
  },
  {
   "cell_type": "code",
   "execution_count": 40,
   "metadata": {},
   "outputs": [
    {
     "name": "stdout",
     "output_type": "stream",
     "text": [
      "Fluxonium\n",
      "------\n",
      "f_01^(F) = 0.06987744707831733 GHz\n",
      "------\n",
      "f_12^(F) = 5.1850776685159685 GHz\n",
      "------\n",
      "f_23^(F) = 0.9905236831630582 GHz\n",
      "------\n",
      "Transmon\n",
      "------\n",
      "f_01^(T) = 5.0 GHz\n",
      "f_12^(T) = 4.699999999999999 GHz\n"
     ]
    }
   ],
   "source": [
    "energies_f, eig_states_f = flx.eig_states(levels_f)\n",
    "energies_t, eig_states_t = trans.eig_states(n_fock_t)\n",
    "print('Fluxonium')\n",
    "for k in range(0, 3):\n",
    "    print('------')\n",
    "    print('f_' + str(k) + str(k + 1) + '^(F) = ' + str(energies_f[k + 1] - energies_f[k]) + ' GHz' )\n",
    "print('------')\n",
    "print('Transmon')\n",
    "print('------')\n",
    "print('f_01^(T) = ' + str(energies_t[1] - energies_t[0]) + ' GHz' )\n",
    "print('f_12^(T) = ' + str(energies_t[2] - energies_t[1]) + ' GHz' )\n"
   ]
  },
  {
   "cell_type": "markdown",
   "metadata": {},
   "source": [
    "I notice a small discrepancy of the fluxonium frequency compared to Ficheux 2020. This was not happening in the Nesterovo 2020 paper. "
   ]
  },
  {
   "cell_type": "code",
   "execution_count": null,
   "metadata": {},
   "outputs": [],
   "source": []
  }
 ],
 "metadata": {
  "kernelspec": {
   "display_name": "Python 3.7.3 64-bit ('base': conda)",
   "language": "python",
   "name": "python37364bitbaseconda36d0b2465ec04527ba16a77ef6d99d0e"
  },
  "language_info": {
   "codemirror_mode": {
    "name": "ipython",
    "version": 3
   },
   "file_extension": ".py",
   "mimetype": "text/x-python",
   "name": "python",
   "nbconvert_exporter": "python",
   "pygments_lexer": "ipython3",
   "version": "3.7.9"
  }
 },
 "nbformat": 4,
 "nbformat_minor": 4
}
