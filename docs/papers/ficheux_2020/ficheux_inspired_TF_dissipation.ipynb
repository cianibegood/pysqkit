{
 "cells": [
  {
   "cell_type": "markdown",
   "metadata": {},
   "source": [
    "# Ficheux 2020 single-qubit phases\n",
    "In this tutorial we show how to ideally correct for single-qubit phases accumulated during the implementation of the CPHASE gate between two fluxonia using the Ficheux scheme. The notebook is adapted from the notebook Ficheux 2020."
   ]
  },
  {
   "cell_type": "code",
   "execution_count": 26,
   "metadata": {},
   "outputs": [],
   "source": [
    "import numpy as np\n",
    "import sys\n",
    "import time\n",
    "import datetime\n",
    "import qutip as qtp \n",
    "import cmath\n",
    "import matplotlib.pyplot as plt\n",
    "from scipy import constants\n",
    "from scipy.optimize import minimize\n",
    "import pysqkit\n",
    "from pysqkit.util.linalg import get_mat_elem, tensor_prod\n",
    "from pysqkit.util.phys import thermalenergy_to_temperature, temperature_to_thermalenergy\n",
    "from pysqkit.solvers import solvkit\n",
    "from typing import List\n",
    "import matplotlib\n",
    "matplotlib.rcParams['mathtext.fontset'] = 'cm'\n",
    "from IPython.display import display, Latex\n",
    "from itertools import product, combinations"
   ]
  },
  {
   "cell_type": "markdown",
   "metadata": {},
   "source": [
    "The gates will be based on the following driven Hamiltonian of capacitively coupled fluxonium and transmon\n",
    "\n",
    "$$H = H_F + H_T + V + H_{drive}$$,\n",
    "\n",
    "where we have the fluxonium Hamiltonian\n",
    "\n",
    "$$H_L= 4 E_{C,F} \\hat{n}^2_F + \\frac{1}{2}E_{L} \\hat{\\varphi}^2_F - E_{J,F}\\cos\\left(\\hat{\\varphi}_F - \\varphi_{ext,F}\\right), \\quad [\\hat{\\varphi}_F, \\hat{n}_F] = i$$,\n",
    "\n",
    "the transmon Hamiltonian (treated immediately as a Duffing oscillator)\n",
    "\n",
    "$$H_T =  \\hbar \\omega_T \\hat{b}^{\\dagger}\\hat{b} + \\hbar \\frac{\\delta_T}{2} \\hat{b}^{\\dagger} \\hat{b}^{\\dagger}\\hat{b} \\hat{b}$$,\n",
    "\n",
    "where in terms of the transmon's charging energy $E_{C,T}$ and Josephson energy $E_{J, T}$ the transmon's angular velocity $\\omega_T$ and anharmonicity $\\delta_T$ are\n",
    "\n",
    "$$ \\omega_T = \\frac{\\sqrt{8 E_{C, T} E_{J, T}}}{\\hbar}, \\quad \\delta_T = - \\frac{E_{C,T}}{\\hbar} $$.\n",
    "In addition, the transmon's charge operator can be written as\n",
    "$$ \\hat{n}_T = \\frac{i}{2} \\biggl( \\frac{E_{J, T}}{2 E_{C, T}} \\biggr)^{1/4} \\bigl( \\hat{b}^{\\dagger} - \\hat{b} \\bigr) = \\frac{i}{2} \\sqrt{\\frac{\\omega_T}{4 \\lvert \\delta_T \\rvert} }\\bigl( \\hat{b}^{\\dagger} - \\hat{b} \\bigr).$$\n",
    "\n",
    "The coupling Hamiltonian is\n",
    "\n",
    "$$V = J_C  \\hat{n}_F \\hat{n}_T$$,\n",
    "\n",
    "and the drive Hamiltonian\n",
    "\n",
    "$$H_{drive} = 2  f\\left( t \\right)  \\cos \\left( \\omega_d t + \\gamma_d\\right) \\left( \\eta_F  \\hat{n}_F + \\eta_T \\hat{n}_T \\right)   \\text{  with  } f\\left( t \\right) = f_0 \\dfrac{f\\left( t \\right)}{f_0}. $$"
   ]
  },
  {
   "cell_type": "markdown",
   "metadata": {},
   "source": [
    "The energy levels should look like this :\n",
    "<img src=\"energy_levels_03F_re-labeled.png\" width=\"700\">"
   ]
  },
  {
   "cell_type": "markdown",
   "metadata": {},
   "source": [
    "# Single fluxonium and transmon"
   ]
  },
  {
   "cell_type": "code",
   "execution_count": 27,
   "metadata": {},
   "outputs": [],
   "source": [
    "# Values in GHz (divided by h)\n",
    "#Fluxonium A\n",
    "ec_f = .973\n",
    "el_f = .457\n",
    "ej_f = 8.0 \n",
    "flux_f = 1/2#pi in the cos\n",
    "n_fock_f = 100\n",
    "\n",
    "# Transmon parameters: values in GHz divided by 2 \\pi \n",
    "omega_t = 4.5 #6.0 \n",
    "delta_t = -0.3\n",
    "n_fock_t = 3"
   ]
  },
  {
   "cell_type": "code",
   "execution_count": 28,
   "metadata": {},
   "outputs": [],
   "source": [
    "levels_f = 5\n",
    "levels_t = n_fock_t\n",
    "flx = pysqkit.qubits.Fluxonium('F', ec_f, el_f, ej_f, flux_f, dim_hilbert=n_fock_f)\n",
    "trans = pysqkit.qubits.SimpleTransmon('T', omega_t, delta_t, dim_hilbert=n_fock_t)\n",
    "flx.diagonalize_basis(levels_f)"
   ]
  },
  {
   "cell_type": "markdown",
   "metadata": {},
   "source": [
    "We obtain the energy levels and eigenstates of the two fluxonia"
   ]
  },
  {
   "cell_type": "code",
   "execution_count": 29,
   "metadata": {},
   "outputs": [],
   "source": [
    "energies_f, eig_states_f = flx.eig_states(levels_f)\n",
    "energies_t, eig_states_t = trans.eig_states(levels_t)"
   ]
  },
  {
   "cell_type": "code",
   "execution_count": 30,
   "metadata": {},
   "outputs": [
    {
     "data": {
      "text/plain": [
       "array([ 0,  1,  5,  6,  2,  3, 10, 11,  7,  4,  8, 12, 13,  9, 14])"
      ]
     },
     "execution_count": 30,
     "metadata": {},
     "output_type": "execute_result"
    }
   ],
   "source": [
    "energies_in_lexico = np.zeros(levels_f*levels_t, dtype=float)\n",
    "count = 0\n",
    "for k in range(0, levels_t):\n",
    "    for m in range(0, levels_f):\n",
    "        energies_in_lexico[count] = energies_t[k] + energies_f[m]\n",
    "        count += 1\n",
    "ascending_to_lexico = np.argsort(energies_in_lexico)\n",
    "\n",
    "label_converter = ascending_to_lexico\n",
    "label_converter"
   ]
  },
  {
   "cell_type": "code",
   "execution_count": 31,
   "metadata": {},
   "outputs": [],
   "source": [
    "# This function allows to return the energy of the \"adiabatically continued\" coupled levels\n",
    "def label_to_energies(\n",
    "    k: int, \n",
    "    m: int,\n",
    "    levels_f: int,\n",
    "    energies: np.ndarray,  #in ascending order\n",
    "    label_converter: np.ndarray \n",
    ") -> float:\n",
    "    label = k*levels_f + m #we use levels_f to ensure bijectivity (ex for t:2, f:4)\n",
    "    index = np.where(label_converter == label)[0][0] #index such that converter[index] = label\n",
    "    return energies[index]\n",
    "\n",
    "def label_to_states(\n",
    "    k: int, \n",
    "    m: int,\n",
    "    levels_f: int,\n",
    "    eig_states: np.ndarray,\n",
    "    label_converter: np.ndarray \n",
    ") -> float:\n",
    "    label = k*levels_f + m\n",
    "    index = np.where(label_converter == label)[0][0] #index such that converter[index] = label\n",
    "    return eig_states[index] \n",
    "\n",
    "def energy_ascending_order_to_label(\n",
    "    k : int,\n",
    "    levels_f: int,\n",
    "    label_converter : np.ndarray):\n",
    "    \n",
    "    lexico_rank = label_converter[k]\n",
    "    i = lexico_rank//levels_f\n",
    "    j = lexico_rank%levels_f\n",
    "    \n",
    "    return i, j"
   ]
  },
  {
   "cell_type": "markdown",
   "metadata": {},
   "source": [
    "# Adding drives"
   ]
  },
  {
   "cell_type": "code",
   "execution_count": 32,
   "metadata": {},
   "outputs": [],
   "source": [
    "flx.add_drive(\n",
    "    pysqkit.drives.microwave_drive,\n",
    "    label='cz_drive_f',\n",
    "    pulse_shape=pysqkit.drives.pulse_shapes.gaussian_top\n",
    ")\n",
    "trans.add_drive(\n",
    "    pysqkit.drives.microwave_drive,\n",
    "    label='cz_drive_t',\n",
    "    pulse_shape=pysqkit.drives.pulse_shapes.gaussian_top\n",
    ")"
   ]
  },
  {
   "cell_type": "markdown",
   "metadata": {},
   "source": [
    "# Coupled fluxonium and transmon"
   ]
  },
  {
   "cell_type": "code",
   "execution_count": 33,
   "metadata": {},
   "outputs": [],
   "source": [
    "jc = 0.07 #GHz (divided by h)\n",
    "\n",
    "coupled_sys = trans.couple_to(flx, coupling=pysqkit.couplers.capacitive_coupling, strength=jc)\n",
    "energies_sys, eigstates_sys = coupled_sys.eig_states() \n",
    "\n",
    "coupled_sys_bare = trans.couple_to(flx, coupling=pysqkit.couplers.capacitive_coupling, strength=0)\n",
    "energies_bare, eigstates_bare = coupled_sys_bare.eig_states()"
   ]
  },
  {
   "cell_type": "markdown",
   "metadata": {},
   "source": [
    "# Jump operators and relaxation rates"
   ]
  },
  {
   "cell_type": "code",
   "execution_count": 34,
   "metadata": {},
   "outputs": [],
   "source": [
    "temperature = 0.020 # K\n",
    "en_th = temperature_to_thermalenergy(temperature) # kb T/h in GHz\n",
    "tan_deltac_f = 7.1*1e-6 \n",
    "tan_deltac_t = 0.75*1e-6 \n",
    "qdiel_f = 1/tan_deltac_f\n",
    "qdiel_t = 1/tan_deltac_t"
   ]
  },
  {
   "cell_type": "code",
   "execution_count": 35,
   "metadata": {},
   "outputs": [],
   "source": [
    "rel_rate_f, exc_rate_f, gamma_f = flx.dielectric_rates(level_k=0, level_m=1, qdiel=qdiel_f, beta=1/en_th)\n",
    "rel_rate_t, exc_rate_t, gamma_t = trans.dielectric_rates(level_k=0, level_m=1, qdiel=qdiel_t, beta=1/en_th)\n",
    "t1_f = 1/(2*np.pi)*1/rel_rate_f/1000 # [mu s]\n",
    "t1_t = 1/(2*np.pi)*1/rel_rate_t/1000 # [mu s]"
   ]
  },
  {
   "cell_type": "code",
   "execution_count": 36,
   "metadata": {},
   "outputs": [
    {
     "data": {
      "text/latex": [
       "$T_{1}^{a} $ = 956.422 $\\mu s$"
      ],
      "text/plain": [
       "<IPython.core.display.Latex object>"
      ]
     },
     "metadata": {},
     "output_type": "display_data"
    },
    {
     "data": {
      "text/latex": [
       "$T_{1}^{b} $ = 50.300 $\\mu s$"
      ],
      "text/plain": [
       "<IPython.core.display.Latex object>"
      ]
     },
     "metadata": {},
     "output_type": "display_data"
    }
   ],
   "source": [
    "display(Latex(r'$T_{{1}}^{{a}} $ = {:.3f} $\\mu s$'.format(t1_f)))\n",
    "display(Latex(r'$T_{{1}}^{{b}} $ = {:.3f} $\\mu s$'.format(t1_t)))"
   ]
  },
  {
   "cell_type": "code",
   "execution_count": 51,
   "metadata": {},
   "outputs": [],
   "source": [
    "trans_jumps = trans.dielectric_loss(qdiel_t, 1/en_th, as_qobj=True)\n",
    "flx_jumps = flx.dielectric_loss(qdiel_f, 1/en_th, as_qobj=True)\n",
    "jumps = []\n",
    "for op in trans_jumps:\n",
    "    jumps.append(qtp.tensor(op, qtp.qeye(levels_f)) )\n",
    "for op in flx_jumps:\n",
    "    jumps.append(qtp.tensor(qtp.qeye(levels_t), op) )"
   ]
  },
  {
   "cell_type": "markdown",
   "metadata": {},
   "source": [
    "### Remark \n",
    "The relaxation time of the fluxonium is now very large, keeping the estimated loss tangent fixed as in the Ficheux paper. This is expected since we are now operating at higher $E_J$ and so with a higher barrier. Notice also that now the frequency of the fluxonium is very small"
   ]
  },
  {
   "cell_type": "code",
   "execution_count": 52,
   "metadata": {},
   "outputs": [
    {
     "data": {
      "text/latex": [
       "$\\omega_{01}^{f}/2 \\pi $ = 0.025 $\\mathrm{GHz}$"
      ],
      "text/plain": [
       "<IPython.core.display.Latex object>"
      ]
     },
     "metadata": {},
     "output_type": "display_data"
    }
   ],
   "source": [
    "display(Latex(r'$\\omega_{{01}}^{{f}}/2 \\pi $ = {:.3f} $\\mathrm{{GHz}}$'.format(energies_f[1] - energies_f[0])))"
   ]
  },
  {
   "cell_type": "markdown",
   "metadata": {},
   "source": [
    "This would make the single-qubit gates harder, so maybe it should be increased a bit by increasing $E_L$. Additionally, at the beginning we will use a constant loss tangent. However, that has a dependency with frequency, so we have to be careful when we compare performances with different parameters."
   ]
  },
  {
   "cell_type": "markdown",
   "metadata": {},
   "source": [
    "## Drive"
   ]
  },
  {
   "cell_type": "code",
   "execution_count": 53,
   "metadata": {},
   "outputs": [],
   "source": [
    "eig_states_by_label = []\n",
    "energies_by_label = []\n",
    "\n",
    "for i_a in range(levels_t):\n",
    "    energies_by_label.append([])\n",
    "    eig_states_by_label.append([])\n",
    "    for i_b in range(levels_f):\n",
    "        eig_states_by_label[i_a].append(qtp.Qobj(inpt=  label_to_states(i_a, i_b, levels_f, eigstates_sys, label_converter), \n",
    "                   dims=[[levels_t, levels_f], [1, 1]], shape=[levels_t*levels_f, 1]))\n",
    "        energies_by_label[i_a].append(label_to_states(i_a, i_b, levels_f, energies_sys, label_converter))"
   ]
  },
  {
   "cell_type": "code",
   "execution_count": 54,
   "metadata": {},
   "outputs": [],
   "source": [
    "n_f = coupled_sys['F'].charge_op(as_qobj=True)\n",
    "n_t = coupled_sys['T'].charge_op(as_qobj=True)\n",
    "n_charge = [n_f, n_t]"
   ]
  },
  {
   "cell_type": "code",
   "execution_count": 55,
   "metadata": {},
   "outputs": [
    {
     "data": {
      "text/latex": [
       "$\\Delta/2\\pi $ = 22.823 MHz"
      ],
      "text/plain": [
       "<IPython.core.display.Latex object>"
      ]
     },
     "metadata": {},
     "output_type": "display_data"
    }
   ],
   "source": [
    "big_delta = ( label_to_energies(1, 3, levels_f, energies_sys, label_converter)   - \\\n",
    "              label_to_energies(1, 0, levels_f, energies_sys, label_converter) ) - \\\n",
    "            ( label_to_energies(0, 3, levels_f, energies_sys, label_converter)   - \\\n",
    "              label_to_energies(0, 0, levels_f, energies_sys, label_converter) )\n",
    "\n",
    "display(Latex(r'$\\Delta/2\\pi $ = {:.3f} MHz'.format(big_delta*1000)))"
   ]
  },
  {
   "cell_type": "markdown",
   "metadata": {},
   "source": [
    "For this case we look at the 10-13 and 00-03 transitions so we process the corresponding Rabi frequencies :\n",
    "\n",
    "$$\\Omega_{10-13}  = \\left| \\epsilon_T \\langle 10 | \\hat{n}_T | 13 \\rangle + \\epsilon_F \\langle 10 | \\hat{n}_F | 13 \\rangle \\right|$$\n",
    "$$\\Omega_{00-03}  = \\left| \\epsilon_T \\langle 00 | \\hat{n}_T | 03 \\rangle + \\epsilon_F \\langle 00 | \\hat{n}_F | 03 \\rangle \\right|$$\n",
    "\n",
    "And then :\n",
    "$$r = \\dfrac{\\Omega_{10-13}}{\\Omega_{00-03}} \\text{  and  } \\dfrac{\\delta}{\\Delta} = \\dfrac{r^2 - \\sqrt{(r^2-1)^2 + r^2 }} {r^2 - 1}$$ \n",
    "\n",
    "With these conventions taken in the paper :\n",
    "$$\\Delta = f_{10-13} - f_{00-03}$$\n",
    "$$\\delta = f_{10-13} - f_d$$\n",
    "\n",
    "These conventions are taken in orde to have : $\\Omega = \\sqrt{\\Omega_{10-13}^2  + \\delta^2} = \\sqrt{\\Omega_{00-03}^2  + (\\delta - \\Delta)^2}$"
   ]
  },
  {
   "cell_type": "markdown",
   "metadata": {},
   "source": [
    "The $\\Delta$ is fixed by the parameters of the qubits, we now need to settle the values for the drive parameters.\n",
    "\n",
    "First we need to fix the $\\varepsilon$.\n",
    "\n",
    "We take the condition of the paper :\n",
    "$$\\Omega = \\Delta$$\n",
    "\n",
    "However, one equation for two parameters is not enough... We assume that the fluxonium is driven much more than the transmon (as we are mainly looking at the 0-3 transtion of F). For example, we take $\\dfrac{\\varepsilon_T}{\\varepsilon_F} = .1$\n",
    "Now we have enough constraints to find values for every parameters.\n",
    "\n",
    "\n",
    "With this $\\delta$, we have $\\Omega = \\Delta$ and a CZ gate is achieved with zero leakage in time exactly $t_{drive} = 1/\\Delta$"
   ]
  },
  {
   "cell_type": "markdown",
   "metadata": {},
   "source": [
    "We now match the conditions"
   ]
  },
  {
   "cell_type": "code",
   "execution_count": 56,
   "metadata": {},
   "outputs": [],
   "source": [
    "def Omega1(eps_f, eps_t_over_eps_f):\n",
    "    eps_t = eps_f * eps_t_over_eps_f\n",
    "    eps = [eps_t, eps_f]\n",
    "    \n",
    "    rabi_10_13 = np.abs(eps[0] * (eig_states_by_label[1][0].dag() * n_charge[0] * eig_states_by_label[1][3]).full()[0, 0] + \\\n",
    "                          eps[1] * (eig_states_by_label[1][0].dag() * n_charge[1] * eig_states_by_label[1][3]).full()[0, 0] )\n",
    "    rabi_00_03 = np.abs(eps[0] * (eig_states_by_label[0][0].dag() * n_charge[0] * eig_states_by_label[0][3]).full()[0, 0] + \\\n",
    "                          eps[1] * (eig_states_by_label[0][0].dag() * n_charge[1] * eig_states_by_label[0][3]).full()[0, 0] )\n",
    "    rabi_ratio = rabi_10_13/rabi_00_03\n",
    "    ratio_delta = (rabi_ratio**2 - np.sqrt((rabi_ratio**2 - 1)**2 + rabi_ratio**2)) / (rabi_ratio**2 - 1) \n",
    "    \n",
    "    big_delta = ( label_to_energies(1, 3, levels_f, energies_sys, label_converter)   - \\\n",
    "              label_to_energies(1, 0, levels_f, energies_sys, label_converter) ) - \\\n",
    "            ( label_to_energies(0, 3, levels_f, energies_sys, label_converter)   - \\\n",
    "              label_to_energies(0, 0, levels_f, energies_sys, label_converter) )\n",
    "    small_delta = big_delta * ratio_delta\n",
    "    \n",
    "    return np.sqrt(rabi_10_13**2 + small_delta**2)\n",
    "\n",
    "def Omega2(eps_f, eps_t_over_eps_f):\n",
    "    eps_t = eps_f * eps_t_over_eps_f\n",
    "    eps = [eps_t, eps_f]\n",
    "    \n",
    "    rabi_10_13 = np.abs(eps[0] * (eig_states_by_label[1][0].dag() * n_charge[0] * eig_states_by_label[1][3]).full()[0, 0] + \\\n",
    "                          eps[1] * (eig_states_by_label[1][0].dag() * n_charge[1] * eig_states_by_label[1][3]).full()[0, 0] )\n",
    "    rabi_00_03 = np.abs(eps[0] * (eig_states_by_label[0][0].dag() * n_charge[0] * eig_states_by_label[0][3]).full()[0, 0] + \\\n",
    "                          eps[1] * (eig_states_by_label[0][0].dag() * n_charge[1] * eig_states_by_label[0][3]).full()[0, 0] )\n",
    "    rabi_ratio = rabi_10_13/rabi_00_03\n",
    "    ratio_delta = (rabi_ratio**2 - np.sqrt((rabi_ratio**2 - 1)**2 + rabi_ratio**2)) / (rabi_ratio**2 - 1) \n",
    "    \n",
    "    \n",
    "    small_delta = big_delta * ratio_delta\n",
    "    \n",
    "    return np.sqrt(rabi_00_03**2 + (small_delta - big_delta)**2)"
   ]
  },
  {
   "cell_type": "markdown",
   "metadata": {},
   "source": [
    "## Rest of parameters"
   ]
  },
  {
   "cell_type": "code",
   "execution_count": 57,
   "metadata": {},
   "outputs": [
    {
     "name": "stdout",
     "output_type": "stream",
     "text": [
      "The rabi frequencies are : Omega_10_13 = 0.019006434288465615 GHz  ; Omega_00_03 = 0.02032488624441926 GHz \n",
      "So we have : r = 0.935131152022282\n",
      "\n",
      "delta/Delta = 0.5500582706475864\n"
     ]
    }
   ],
   "source": [
    "ratio_eps = .0\n",
    "eps_f = 0.03091755984900732\n",
    "eps_t = ratio_eps*eps_f\n",
    "eps = [eps_f, eps_t]\n",
    "rabi_10_13 = np.abs(eps[0] * (eig_states_by_label[1][0].dag() * n_charge[0] * eig_states_by_label[1][3]).full()[0, 0] + \\\n",
    "                          eps[1] * (eig_states_by_label[1][0].dag() * n_charge[1] * eig_states_by_label[1][3]).full()[0, 0] )\n",
    "\n",
    "rabi_00_03 = np.abs(eps[0] * (eig_states_by_label[0][0].dag() * n_charge[0] * eig_states_by_label[0][3]).full()[0, 0] + \\\n",
    "                          eps[1] * (eig_states_by_label[0][0].dag() * n_charge[1] * eig_states_by_label[0][3]).full()[0, 0] )\n",
    "\n",
    "rabi_ratio = rabi_10_13/rabi_00_03\n",
    "print(\"The rabi frequencies are : Omega_10_13 =\", rabi_10_13, \"GHz  ; Omega_00_03 =\", rabi_00_03, \n",
    "      \"GHz \\nSo we have : r =\", rabi_ratio)\n",
    "\n",
    "ratio_delta = (rabi_ratio**2 - np.sqrt((rabi_ratio**2 - 1)**2 + rabi_ratio**2)) / (rabi_ratio**2 - 1)\n",
    "print(\"\\ndelta/Delta =\", ratio_delta)"
   ]
  },
  {
   "cell_type": "code",
   "execution_count": 58,
   "metadata": {},
   "outputs": [
    {
     "data": {
      "text/latex": [
       "$\\Delta/2\\pi $ = 22.823 MHz"
      ],
      "text/plain": [
       "<IPython.core.display.Latex object>"
      ]
     },
     "metadata": {},
     "output_type": "display_data"
    },
    {
     "data": {
      "text/latex": [
       "$\\delta/2\\pi $ = 12.554 MHz"
      ],
      "text/plain": [
       "<IPython.core.display.Latex object>"
      ]
     },
     "metadata": {},
     "output_type": "display_data"
    },
    {
     "data": {
      "text/latex": [
       "$\\omega_d/2\\pi $ = 7.155 GHz"
      ],
      "text/plain": [
       "<IPython.core.display.Latex object>"
      ]
     },
     "metadata": {},
     "output_type": "display_data"
    }
   ],
   "source": [
    "small_delta = big_delta * ratio_delta\n",
    "\n",
    "freq_drive = ( label_to_energies(1, 3, levels_f, energies_sys, label_converter)   - \\\n",
    "               label_to_energies(1, 0, levels_f, energies_sys, label_converter) )  - small_delta\n",
    "\n",
    "t_drive = 1/big_delta\n",
    "\n",
    "display(Latex(r'$\\Delta/2\\pi $ = {:.3f} MHz'.format(big_delta*1000)))\n",
    "display(Latex(r'$\\delta/2\\pi $ = {:.3f} MHz'.format(small_delta*1000)))\n",
    "display(Latex(r'$\\omega_d/2\\pi $ = {:.3f} GHz'.format(freq_drive)))"
   ]
  },
  {
   "cell_type": "markdown",
   "metadata": {},
   "source": [
    "We can indeed check that with this procedure the rabi frequencies for the two relevant transitions are matched and equal to $\\Delta$ (to a good approximation)"
   ]
  },
  {
   "cell_type": "code",
   "execution_count": 59,
   "metadata": {},
   "outputs": [
    {
     "data": {
      "text/latex": [
       "$\\Omega_{10-13}/2\\pi $ = 22.778 MHz"
      ],
      "text/plain": [
       "<IPython.core.display.Latex object>"
      ]
     },
     "metadata": {},
     "output_type": "display_data"
    },
    {
     "data": {
      "text/latex": [
       "$\\Omega_{00-03}/2\\pi $ = 22.772 MHz"
      ],
      "text/plain": [
       "<IPython.core.display.Latex object>"
      ]
     },
     "metadata": {},
     "output_type": "display_data"
    }
   ],
   "source": [
    "rabi_freq_10_13 = np.sqrt(rabi_10_13**2 + small_delta**2)\n",
    "rabi_freq_00_03 = np.sqrt(rabi_00_03**2 + (small_delta - big_delta)**2)\n",
    "display(Latex(r'$\\Omega_{{10-13}}/2\\pi $ = {:.3f} MHz'.format(rabi_freq_10_13*1000)))\n",
    "display(Latex(r'$\\Omega_{{00-03}}/2\\pi $ = {:.3f} MHz'.format(rabi_freq_00_03*1000)))"
   ]
  },
  {
   "cell_type": "code",
   "execution_count": 60,
   "metadata": {},
   "outputs": [
    {
     "data": {
      "text/latex": [
       "$T_{Rabi} $ = 43.815 ns"
      ],
      "text/plain": [
       "<IPython.core.display.Latex object>"
      ]
     },
     "metadata": {},
     "output_type": "display_data"
    }
   ],
   "source": [
    "rabi_freq = big_delta\n",
    "\n",
    "rabi_period = 1/rabi_freq # [ns]\n",
    "display(Latex(r'$T_{{Rabi}} $ = {:.3f} ns'.format(rabi_period)))"
   ]
  },
  {
   "cell_type": "markdown",
   "metadata": {},
   "source": [
    "#  Simulations"
   ]
  },
  {
   "cell_type": "code",
   "execution_count": 73,
   "metadata": {},
   "outputs": [],
   "source": [
    "t_rise = 0.1#16.0\n",
    "t_tot = rabi_period*1000\n",
    "# t_plateau = t_tot - 2*t_rise\n",
    "# simulation setup (noiseless)\n",
    "pts_per_drive_period = 15\n",
    "\n",
    "nb_points = int(t_tot*freq_drive*pts_per_drive_period)\n",
    "tlist = np.linspace(0, t_tot, nb_points)\n",
    "pulse_drive = np.zeros(nb_points, dtype=float)\n",
    "\n",
    "interest_levels = [[0,0], [0,1], [1,0], [1,1], [0,2], [0,3], [1,3], [2,0]]\n",
    "labels = [\"$| \"+ str(k) + str(m) + \" \\\\rangle $\" for k,m in interest_levels]\n",
    "\n",
    "hamil0 = coupled_sys.hamiltonian(as_qobj=True)\n",
    "coupled_sys['F'].drives['cz_drive_f'].set_params(phase=0, time=tlist, rise_time=t_rise)\n",
    "coupled_sys['T'].drives['cz_drive_t'].set_params(phase=0, time=tlist, rise_time=t_rise)"
   ]
  },
  {
   "cell_type": "code",
   "execution_count": 74,
   "metadata": {},
   "outputs": [],
   "source": [
    "drive_params = dict(\n",
    "    cz_drive_f=dict(amp=eps_f, freq=freq_drive),\n",
    "    cz_drive_t=dict(amp=eps_t, freq=freq_drive)\n",
    ")\n",
    "\n",
    "drive_hamils = []\n",
    "pulses = []\n",
    "\n",
    "for qubit in coupled_sys:\n",
    "    if qubit.is_driven:\n",
    "        for label, drive in qubit.drives.items():\n",
    "            drive_hamils.append(drive.hamiltonian(as_qobj=True))\n",
    "            pulses.append(drive.eval_pulse(**drive_params[label]))\n"
   ]
  },
  {
   "cell_type": "code",
   "execution_count": null,
   "metadata": {},
   "outputs": [],
   "source": [
    "state_in = []\n",
    "outputs = []\n",
    "for i in range(0, 2):\n",
    "    for k in range(0, 2):\n",
    "        state_in.append(eig_states_by_label[i][k])\n",
    "for i in range(0, 4):\n",
    "    outputs.append(solvkit.integrate(tlist*2*np.pi, state_in[i], hamil0, drive_hamils, pulses, jumps, \"mesolve\"))"
   ]
  },
  {
   "cell_type": "code",
   "execution_count": 71,
   "metadata": {},
   "outputs": [],
   "source": [
    "statein_label = '11'\n",
    "statein_index = int(statein_label, 2)\n",
    "rhos_by_label = []\n",
    "for i in range(len(eig_states_by_label)):\n",
    "    rhos_by_label.append([])\n",
    "    for j in range(len(eig_states_by_label[0])):\n",
    "        rhos_by_label[i].append(eig_states_by_label[i][j]*eig_states_by_label[i][j].dag())  \n",
    "        \n",
    "probs = np.zeros([len(labels), nb_points], dtype=float)\n",
    "for k in range(0, len(labels)):\n",
    "    i, j = interest_levels[k]\n",
    "    for m in range(0, nb_points):        \n",
    "        probs[k, m] = qtp.expect(rhos_by_label[i][j], outputs[statein_index].states[m]) "
   ]
  },
  {
   "cell_type": "code",
   "execution_count": 72,
   "metadata": {},
   "outputs": [
    {
     "data": {
      "image/png": "[encoded data removed]",
      "text/plain": [
       "<Figure size 1152x576 with 8 Axes>"
      ]
     },
     "metadata": {
      "needs_background": "light"
     },
     "output_type": "display_data"
    }
   ],
   "source": [
    "plot_setup = {'lw': 2.0, 'fs': 16, 'fs_text': 14, 'ls': 14}\n",
    "def plot_probas(\n",
    "    tlist: np.ndarray, \n",
    "    probs: np.ndarray,\n",
    "    statein_label: str,\n",
    "    opt: dict\n",
    ") -> None:\n",
    "    fig, ax = plt.subplots(int(np.ceil(len(labels)/4)), 4, figsize = (16, 8))\n",
    "    for k in range(0, len(labels)):\n",
    "        ax[k//4, k%4].plot(tlist, probs[k, :], linewidth=opt['lw'])\n",
    "\n",
    "        ax[k//4, k%4].set_ylim(0, 1.0)\n",
    "        ax[k//4, k%4].set_title(labels[k], fontsize=opt['fs'])\n",
    "        ax[k//4, k%4].set_ylim(-0.1, 1.1)\n",
    "        ax[k//4, k%4].axhline(y=0, color='grey', linestyle='--')\n",
    "        ax[k//4, k%4].axhline(y=1, color='grey', linestyle='--')\n",
    "\n",
    "        if k%4 != 0:\n",
    "            ax[k//4, k%4].axes.yaxis.set_ticklabels([])\n",
    "\n",
    "    fig = plt.gcf()\n",
    "    fig.suptitle('$\\mathrm{Probabilities \\ of \\ being \\ in \\ each \\ eigenstate \\\n",
    "                 \\ as \\ a \\ function \\ of \\ time \\ [ns] \\ with \\ initial \\ state}$' + \n",
    "                 ' $\\\\vert ' + statein_label + ' \\\\rangle$', fontsize=opt['fs']) \n",
    "    plt.show()\n",
    "\n",
    "plot_probas(tlist, probs, statein_label, plot_setup)"
   ]
  },
  {
   "cell_type": "code",
   "execution_count": 66,
   "metadata": {},
   "outputs": [],
   "source": [
    "u_gate = np.zeros([4, 4], dtype=complex)\n",
    "for i in range(0, 4):\n",
    "    for k in range(0, 4):\n",
    "        u_gate[i, k] = (state_in[i].dag()*outputs[k].states[nb_points - 1])[0, 0]\n",
    "u_ideal_phases = np.zeros([4, 4], dtype=complex)\n",
    "for i in range(0, 2):\n",
    "    for k in range(0, 2):\n",
    "        n = i*2 + k\n",
    "        u_ideal_phases[n, n] = np.exp(-1j*2*np.pi*energies_by_label[i][k]*t_tot)\n",
    "\n",
    "#taking out phase associated with 00 from numerical simulations\n",
    "u_ideal_phases = np.conj(u_gate[0, 0])*u_ideal_phases\n",
    "u_gate = np.conj(u_gate[0, 0])*u_gate "
   ]
  },
  {
   "cell_type": "markdown",
   "metadata": {},
   "source": [
    "We now detail how to obtain the single-qubit gates in order to bring the (ideal) gate to the CZ form\n",
    "$$\n",
    "\\mathrm{CZ} = \\begin{pmatrix}\n",
    "1 & 0 & 0 & 0 \\\\\n",
    "0 & 1 & 0 & 0 \\\\\n",
    "0 & 0 & 1 & 0 \\\\\n",
    "0 & 0 & 0 & -1\n",
    "\\end{pmatrix}\n",
    "$$\n",
    "The Ficheux protocol we have just simulated realizes (ideally) a unitary \n",
    "$$\n",
    "U =  \\begin{pmatrix}\n",
    "1 & 0 & 0 & 0 \\\\\n",
    "0 & e^{i \\phi_{01}} & 0 & 0 \\\\\n",
    "0 & 0 & e^{i \\phi_{10}} & 0 \\\\\n",
    "0 & 0 & 0 & e^{i \\phi_{11}}\n",
    "\\end{pmatrix}\n",
    "$$\n",
    "where the phases satisfy the condition\n",
    "$$\n",
    "\\phi_{11} - \\phi_{01} - \\phi_{10} = \\pi \\mod 2 \\pi.\n",
    "$$\n",
    "Let us define a generic single-qubit phase gate\n",
    "$$\n",
    "P(\\phi) = \\begin{pmatrix}\n",
    "1 & 0 \\\\\n",
    "0 & e^{i \\phi}\n",
    "\\end{pmatrix}.\n",
    "$$\n",
    "The single-qubit gates to be applied are $P(-\\phi_{01})$ on the second qubit and $P(-\\phi_{10})$ on the first qubit (to see it more clearly apply them sequentially). In fact, one can check that \n",
    "$$\n",
    "P(-\\phi_{10}) \\otimes P(-\\phi_{01}) U = \\begin{pmatrix}\n",
    "1 & 0 & 0 & 0 \\\\\n",
    "0 & 1 & 0 & 0 \\\\\n",
    "0 & 0 & 1 & 0 \\\\\n",
    "0 & 0 & 0 & e^{i (\\phi_{11} - \\phi_{10} - \\phi_{01})}\n",
    "\\end{pmatrix},\n",
    "$$\n",
    "which given the previous condition on the phases is equal to the CZ gate. Notice that this is the same as in Ficheux although the levels are different.\n"
   ]
  },
  {
   "cell_type": "code",
   "execution_count": 67,
   "metadata": {},
   "outputs": [],
   "source": [
    "def single_qubit_correction(\n",
    "    u_gate: np.ndarray\n",
    ") -> np.ndarray:\n",
    "    phi_10 = cmath.phase(u_gate[2, 2])\n",
    "    phi_01 = cmath.phase(u_gate[1, 1])\n",
    "    p_phi10 = np.array([[1, 0], [0, np.exp(-1j*phi_10)]])\n",
    "    p_phi01 = np.array([[1, 0], [0, np.exp(-1j*phi_01)]])\n",
    "    return tensor_prod([p_phi10, p_phi01])"
   ]
  },
  {
   "cell_type": "code",
   "execution_count": 68,
   "metadata": {},
   "outputs": [],
   "source": [
    "cz = np.array([[1, 0, 0, 0], [0, 1, 0, 0], [0, 0, 1, 0], [0, 0, 0, -1]])\n",
    "u_correction = single_qubit_correction(u_gate)\n",
    "u_ideal = qtp.Qobj(u_correction.conj().T.dot(cz))\n",
    "sup_u_ideal = qtp.to_super(u_ideal)"
   ]
  },
  {
   "cell_type": "code",
   "execution_count": 69,
   "metadata": {},
   "outputs": [
    {
     "data": {
      "text/latex": [
       "Quantum object: dims = [[4], [4]], shape = (4, 4), type = oper, isherm = False\\begin{equation*}\\left(\\begin{array}{*{11}c}1.0 & 0.0 & 0.0 & 0.0\\\\0.0 & (-0.487+0.873j) & 0.0 & 0.0\\\\0.0 & 0.0 & (-0.573+0.820j) & 0.0\\\\0.0 & 0.0 & 0.0 & (0.437+0.900j)\\\\\\end{array}\\right)\\end{equation*}"
      ],
      "text/plain": [
       "Quantum object: dims = [[4], [4]], shape = (4, 4), type = oper, isherm = False\n",
       "Qobj data =\n",
       "[[ 1.        +0.j          0.        +0.j          0.        +0.j\n",
       "   0.        +0.j        ]\n",
       " [ 0.        +0.j         -0.48689098+0.87346275j  0.        +0.j\n",
       "   0.        +0.j        ]\n",
       " [ 0.        +0.j          0.        +0.j         -0.57306289+0.81951139j\n",
       "   0.        +0.j        ]\n",
       " [ 0.        +0.j          0.        +0.j          0.        +0.j\n",
       "   0.43679352+0.8995618j ]]"
      ]
     },
     "execution_count": 69,
     "metadata": {},
     "output_type": "execute_result"
    }
   ],
   "source": [
    "u_ideal"
   ]
  },
  {
   "cell_type": "code",
   "execution_count": 70,
   "metadata": {},
   "outputs": [
    {
     "data": {
      "text/plain": [
       "array([ 9.93005825e-01+0.00000000e+00j, -7.79706549e-06+1.39876205e-05j,\n",
       "       -5.31901906e-05+7.60648919e-05j, -1.43951099e-04+1.17517774e-07j])"
      ]
     },
     "execution_count": 70,
     "metadata": {},
     "output_type": "execute_result"
    }
   ],
   "source": [
    "np.diag(u_gate)"
   ]
  },
  {
   "cell_type": "code",
   "execution_count": 43,
   "metadata": {},
   "outputs": [],
   "source": [
    "pippo, pluto = flx.dielectric_jump(0, 1, qdiel_f, 1/en_th, as_qobj=True)"
   ]
  },
  {
   "cell_type": "code",
   "execution_count": 44,
   "metadata": {},
   "outputs": [
    {
     "data": {
      "text/latex": [
       "Quantum object: dims = [[5], [5]], shape = (5, 5), type = oper, isherm = True\\begin{equation*}\\left(\\begin{array}{*{11}c}6.618\\times10^{-18} & 4.079\\times10^{-04} & -1.302\\times10^{-19} & 8.474\\times10^{-20} & -4.529\\times10^{-20}\\\\-1.074\\times10^{-31} & -6.618\\times10^{-18} & 2.112\\times10^{-33} & -1.375\\times10^{-33} & 7.347\\times10^{-34}\\\\-1.215\\times10^{-32} & -7.487\\times10^{-19} & 2.390\\times10^{-34} & -1.555\\times10^{-34} & 8.313\\times10^{-35}\\\\-3.334\\times10^{-34} & -2.055\\times10^{-20} & 6.559\\times10^{-36} & -4.269\\times10^{-36} & 2.282\\times10^{-36}\\\\7.353\\times10^{-32} & 4.533\\times10^{-18} & -1.447\\times10^{-33} & 9.416\\times10^{-34} & -5.032\\times10^{-34}\\\\\\end{array}\\right)\\end{equation*}"
      ],
      "text/plain": [
       "Quantum object: dims = [[5], [5]], shape = (5, 5), type = oper, isherm = True\n",
       "Qobj data =\n",
       "[[ 6.61776534e-18  4.07929754e-04 -1.30206739e-19  8.47405271e-20\n",
       "  -4.52893005e-20]\n",
       " [-1.07358725e-31 -6.61776534e-18  2.11231869e-33 -1.37472915e-33\n",
       "   7.34719546e-34]\n",
       " [-1.21464185e-32 -7.48724870e-19  2.38984832e-34 -1.55534966e-34\n",
       "   8.31251590e-35]\n",
       " [-3.33381112e-34 -2.05501507e-20  6.55938450e-36 -4.26894725e-36\n",
       "   2.28152504e-36]\n",
       " [ 7.35315594e-32  4.53260419e-18 -1.44675794e-33  9.41572084e-34\n",
       "  -5.03220153e-34]]"
      ]
     },
     "execution_count": 44,
     "metadata": {},
     "output_type": "execute_result"
    }
   ],
   "source": [
    "pippo"
   ]
  },
  {
   "cell_type": "code",
   "execution_count": 36,
   "metadata": {},
   "outputs": [
    {
     "data": {
      "text/plain": [
       "array([[ 6.42207224e-18, -1.04184033e-31, -1.17872383e-32,\n",
       "        -3.23522741e-34,  7.13571669e-32],\n",
       "       [ 3.95866914e-04, -6.42207224e-18, -7.26584421e-19,\n",
       "        -1.99424647e-20,  4.39857112e-18],\n",
       "       [-1.26356412e-19,  2.04985558e-33,  2.31917842e-34,\n",
       "         6.36541776e-36, -1.40397604e-33],\n",
       "       [ 8.22346756e-20, -1.33407721e-33, -1.50935661e-34,\n",
       "        -4.14271074e-36,  9.13728974e-34],\n",
       "       [-4.39500563e-20,  7.12993246e-34,  8.06670754e-35,\n",
       "         2.21405835e-36, -4.88339493e-34]])"
      ]
     },
     "execution_count": 36,
     "metadata": {},
     "output_type": "execute_result"
    }
   ],
   "source": [
    "pluto"
   ]
  },
  {
   "cell_type": "code",
   "execution_count": null,
   "metadata": {},
   "outputs": [],
   "source": []
  }
 ],
 "metadata": {
  "kernelspec": {
   "display_name": "Python 3.7.3 64-bit ('base': conda)",
   "language": "python",
   "name": "python37364bitbaseconda36d0b2465ec04527ba16a77ef6d99d0e"
  },
  "language_info": {
   "codemirror_mode": {
    "name": "ipython",
    "version": 3
   },
   "file_extension": ".py",
   "mimetype": "text/x-python",
   "name": "python",
   "nbconvert_exporter": "python",
   "pygments_lexer": "ipython3",
   "version": "3.7.9"
  }
 },
 "nbformat": 4,
 "nbformat_minor": 4
}
