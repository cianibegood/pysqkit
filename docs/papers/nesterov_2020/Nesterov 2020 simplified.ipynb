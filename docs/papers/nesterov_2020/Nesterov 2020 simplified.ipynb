{
 "cells": [
  {
   "cell_type": "markdown",
   "metadata": {},
   "source": [
    "# Nesterov et al, arXiv:2011.10011\n",
    "In this notebook we want to capture the basic effect behind the two-qubit gate for fluxonia described in the paper by Nesterov et al(2020) \"Proposal for entangling gates on fluxonium qubits via a two-photon transition\""
   ]
  },
  {
   "cell_type": "code",
   "execution_count": 213,
   "metadata": {},
   "outputs": [],
   "source": [
    "import numpy as np\n",
    "import sys\n",
    "import qutip as qtp \n",
    "import matplotlib.pyplot as plt\n",
    "from scipy import constants\n",
    "import pysqkit\n",
    "from pysqkit.util.linalg import get_mat_elem, tensor_prod\n",
    "from pysqkit.solvers import solvkit\n",
    "from typing import List\n",
    "import matplotlib\n",
    "matplotlib.rcParams['mathtext.fontset'] = 'cm'"
   ]
  },
  {
   "cell_type": "markdown",
   "metadata": {},
   "source": [
    "The gate is based on the following driven Hamiltonian of two-capacitively coupled fluxonium qubits\n",
    "\n",
    "$$\\hat{H} = \\hat{H}^{(0)}_A + \\hat{H}^{(0)}_B + \\hat{V} + \\hat{H}_{drive}$$\n",
    "\n",
    "$$\\hat{H}^{(0)}_A = 4 E_{C,A} \\cdot \\hat{n}^2_A + \\frac{1}{2}E_{L,A}\\cdot\\hat{\\varphi}^2_A - E_{J,A}\\cos\\left(\\hat{\\varphi}_A - \\phi_{ext,A}\\right)$$\n",
    "\n",
    "$$\\hat{H}^{(0)}_B = 4 E_{C,B} \\cdot \\hat{n}^2_B + \\frac{1}{2}E_{L,B}\\cdot\\hat{\\varphi}^2_B - E_{J,B}\\cos\\left(\\hat{\\varphi}_B - \\phi_{ext,B}\\right)$$\n",
    "\n",
    "$$\\hat{V} = J_C \\cdot \\hat{n}_A \\cdot \\hat{n}_B$$\n",
    "\n",
    "$$\\hat{H}_{drive} = 2  f\\left( t \\right)  \\cos \\left( \\omega_d t + \\gamma_d\\right) \\cdot \\left( \\eta_A \\cdot \\hat{n}_A + \\eta_B \\cdot \\hat{n}_B \\right)   \\text{  with  } f\\left( t \\right) = f_0 \\cdot \\dfrac{f\\left( t \\right)}{f_0} $$"
   ]
  },
  {
   "cell_type": "markdown",
   "metadata": {},
   "source": [
    "## 1. Single fluxonia\n",
    "We take parameters as in Table 1 of the paper"
   ]
  },
  {
   "cell_type": "code",
   "execution_count": 214,
   "metadata": {},
   "outputs": [],
   "source": [
    "# Values in GHz (divided by h)\n",
    "#Fluxonium A\n",
    "ec_a = 1.0\n",
    "el_a = 1.5\n",
    "ej_a = 3.8 \n",
    "flux_a = 1/2\n",
    "# Fluxonium B \n",
    "ec_b = 1.0\n",
    "el_b = 0.9\n",
    "ej_b = 3.0\n",
    "flux_b = 1/2\n",
    "\n",
    "n_fock = 100"
   ]
  },
  {
   "cell_type": "markdown",
   "metadata": {},
   "source": [
    "Let us first reproduce the other parameters in Table 1"
   ]
  },
  {
   "cell_type": "code",
   "execution_count": 215,
   "metadata": {},
   "outputs": [],
   "source": [
    "levels = 5\n",
    "flx_a = pysqkit.qubits.Fluxonium('A', ec_a, el_a, ej_a, flux_a, dim_hilbert=n_fock)\n",
    "flx_b = pysqkit.qubits.Fluxonium('B', ec_b, el_b, ej_b, flux_b, dim_hilbert=n_fock)\n",
    "flx_a.diagonalize_basis(levels)\n",
    "flx_b.diagonalize_basis(levels)\n",
    "# If you run this twice it gives an error, so this has to be fixed in the source code"
   ]
  },
  {
   "cell_type": "code",
   "execution_count": 216,
   "metadata": {},
   "outputs": [
    {
     "name": "stdout",
     "output_type": "stream",
     "text": [
      "------\n",
      "f_01^A = 1.151693822302148 GHz\n",
      "f_01^B = 0.8488266605313326 GHz\n",
      "------\n",
      "f_12^A = 3.2804798038301604 GHz\n",
      "f_12^B = 2.928638737996966 GHz\n",
      "------\n",
      "f_23^A = 3.2531360533441473 GHz\n",
      "f_23^B = 2.6834970613116065 GHz\n",
      "------\n"
     ]
    }
   ],
   "source": [
    "energies_a, eig_states_a = flx_a.eig_states(levels)\n",
    "energies_b, eig_states_b = flx_b.eig_states(levels)\n",
    "for k in range(0, 3):\n",
    "    print('------')\n",
    "    print('f_' + str(k) + str(k + 1) + '^A = ' + str(energies_a[k + 1] - energies_a[k]) + ' GHz' )\n",
    "    print('f_' + str(k) + str(k + 1) + '^B = ' + str(energies_b[k + 1] - energies_b[k]) + ' GHz' )\n",
    "print('------')"
   ]
  },
  {
   "cell_type": "markdown",
   "metadata": {},
   "source": [
    "Thus, we correctly recover the frequencies Table 1 in the paper. Notice that the eigenenergies are also divided by $h$ and so are intended as frequencies and not as angular velocities. <br>\n",
    "Let us also check the charge matrix elements in order to complete Table 1"
   ]
  },
  {
   "cell_type": "code",
   "execution_count": 217,
   "metadata": {},
   "outputs": [
    {
     "name": "stdout",
     "output_type": "stream",
     "text": [
      "------\n",
      "|n_01^A| = 0.24866384335580324\n",
      "|n_01^B| = 0.20722487336294043\n",
      "------\n",
      "|n_12^A| = 0.608479137792179\n",
      "|n_12^B| = 0.566504693647503\n",
      "------\n",
      "|n_03^A| = 0.26017958759704307\n",
      "|n_03^B| = 0.2773165904247308\n"
     ]
    }
   ],
   "source": [
    "for k in range(0, 2):\n",
    "    print('------')\n",
    "    print('|n_' + str(k) + str(k + 1) + '^A| = ' + \\\n",
    "          str(np.abs(get_mat_elem(flx_a.charge_op(), eig_states_a[k], eig_states_a[k + 1]))))\n",
    "    print('|n_' + str(k) + str(k + 1) + '^B| = ' + \\\n",
    "          str(np.abs(get_mat_elem(flx_b.charge_op(), eig_states_b[k], eig_states_b[k + 1]))))\n",
    "print('------')\n",
    "print('|n_' + str(0) + str(3) + '^A| = '  + \\\n",
    "      str(np.abs(get_mat_elem(flx_a.charge_op(), eig_states_a[0], eig_states_a[3]))))\n",
    "print('|n_' + str(0) + str(3) + '^B| = '  + \\\n",
    "      str(np.abs(get_mat_elem(flx_b.charge_op(), eig_states_b[0], eig_states_b[3]))))"
   ]
  },
  {
   "cell_type": "markdown",
   "metadata": {},
   "source": [
    "We thus recover all the results in Table 1. This could be used as a unit test. <br>\n",
    "To change the basis to the diagonal basis you can use"
   ]
  },
  {
   "cell_type": "code",
   "execution_count": 218,
   "metadata": {},
   "outputs": [],
   "source": [
    "energies_ab_bare = np.zeros(levels**2, dtype=float)\n",
    "count = 0\n",
    "for k in range(0, levels):\n",
    "    for m in range(0, levels):\n",
    "        energies_ab_bare[count] = energies_b[m] + energies_a[k]\n",
    "        count += 1\n",
    "label_converter = np.argsort(energies_ab_bare)"
   ]
  },
  {
   "cell_type": "code",
   "execution_count": 219,
   "metadata": {},
   "outputs": [],
   "source": [
    "# This function allows to return the energy of the \"adiabatically continued\" coupled levels\n",
    "def label_to_energies(\n",
    "    k: int, \n",
    "    m: int,\n",
    "    levels: int,\n",
    "    energies: np.ndarray,\n",
    "    label_converter: np.ndarray\n",
    ") -> float:\n",
    "    label = k*levels + m\n",
    "    index = np.where(label_converter==label)[0][0]\n",
    "    return energies[index]\n",
    "\n",
    "def label_to_states(\n",
    "    k: int, \n",
    "    m: int,\n",
    "    levels: int,\n",
    "    eig_states: np.ndarray,\n",
    "    label_converter: np.ndarray\n",
    ") -> float:\n",
    "    label = k*levels + m\n",
    "    index = np.where(label_converter==label)[0][0]\n",
    "    return eig_states[index] "
   ]
  },
  {
   "cell_type": "markdown",
   "metadata": {},
   "source": [
    "## 2. Coupled fluxonia"
   ]
  },
  {
   "cell_type": "markdown",
   "metadata": {},
   "source": [
    "As a preliminary study, I want to plot the energy levels of the coupled system as a function of the coupling strength $J_C$. I take coupling strengths similar to those taken in the paper (see Fig. 2)."
   ]
  },
  {
   "cell_type": "code",
   "execution_count": 220,
   "metadata": {},
   "outputs": [],
   "source": [
    "n_points = 20\n",
    "levels_plot = 6\n",
    "jc_list = np.linspace(0, 0.4, n_points)\n",
    "en_mat = np.zeros([levels_plot, n_points], dtype=float)\n",
    "for k in range(0, n_points):\n",
    "    coupled_flx = flx_a.couple_to(flx_b, coupling=pysqkit.couplers.capacitive_coupling, strength=jc_list[k])\n",
    "    en_mat[:, k] = coupled_flx.eig_energies(levels_plot)"
   ]
  },
  {
   "cell_type": "code",
   "execution_count": 221,
   "metadata": {},
   "outputs": [
    {
     "data": {
      "image/png": "[encoded data removed]",
      "text/plain": [
       "<Figure size 576x432 with 1 Axes>"
      ]
     },
     "metadata": {
      "needs_background": "light"
     },
     "output_type": "display_data"
    }
   ],
   "source": [
    "plot_setup = {'lw': 2.0, 'fs': 20, 'fs_text': 14, 'ls': 14}\n",
    "\n",
    "def plot_energies_jc(\n",
    "    en_mat: np.ndarray, \n",
    "    jc_list:np.ndarray, \n",
    "    opt:dict\n",
    ") -> None:\n",
    "    n_lev = en_mat.shape[0]\n",
    "    text_lab = [\"$| 00 \\\\rangle $\", \"$| 01 \\\\rangle $\", \"$| 10 \\\\rangle $\", \"$| 11 \\\\rangle $\", \\\n",
    "                \"$| 02 \\\\rangle $\", \"$| 20 \\\\rangle $\"]\n",
    "    fig, ax = plt.subplots(figsize=(8, 6))\n",
    "    for k in range(0, n_lev):\n",
    "        ax.plot(jc_list, en_mat[k, :], linewidth=opt['lw'], color='black')\n",
    "        plt.text(-0.03, en_mat[k, 0] - 0.1, text_lab[k], fontsize=opt['fs_text'], color='black')\n",
    "    ax.axes.set_xlabel(\"$J_C \\, \\mathrm{[GHz]}$\", fontsize=opt['fs'])\n",
    "    ax.axes.set_ylabel(\"$\\mathrm{Energies \\, [GHz]}$\", fontsize=opt['fs'])\n",
    "    ax.set_xlim([np.min(jc_list) - 0.04, np.max(jc_list)])\n",
    "    ax.set_ylim([en_mat[0, 0] - 0.5, en_mat[n_lev - 1, 0] + 0.5])\n",
    "    ax.tick_params(axis='both', labelsize=opt['ls'])\n",
    "    plt.show()\n",
    "    \n",
    "plot_energies_jc(en_mat, jc_list, plot_setup)    "
   ]
  },
  {
   "cell_type": "markdown",
   "metadata": {},
   "source": [
    "We see clearly that the introduction of the coupling bearly changes the eigenenergies since the fluxonia are sufficiently detuned. Thus, with these parameters we do not observe any avoided crossing and we can easily identify the levels by adiabatic continuation. To be more quantitative I plot the difference of the energies of $\\lvert 10 \\rangle$ and $\\lvert 10 \\rangle$ as a function of $J_C$"
   ]
  },
  {
   "cell_type": "code",
   "execution_count": 222,
   "metadata": {},
   "outputs": [
    {
     "data": {
      "image/png": "[encoded data removed]",
      "text/plain": [
       "<Figure size 576x432 with 1 Axes>"
      ]
     },
     "metadata": {
      "needs_background": "light"
     },
     "output_type": "display_data"
    }
   ],
   "source": [
    "def plot_deltaen_jc(\n",
    "    en_mat:np.ndarray, \n",
    "    jc_list:np.ndarray, \n",
    "    opt:dict\n",
    ") -> None:\n",
    "    col_list = ['red', 'blue']\n",
    "    fig, ax = plt.subplots(figsize=(8, 6))\n",
    "    ax.plot(jc_list, (en_mat[1, :] - en_mat[1, 0])*1e3, linewidth=opt['lw'], \\\n",
    "            color=col_list[0], label='$\\Delta E_{01}/h$')\n",
    "    ax.plot(jc_list, (en_mat[2, :] - en_mat[2, 0])*1e3, linewidth=opt['lw'], \\\n",
    "            color=col_list[1], label='$\\Delta E_{10}/h$')\n",
    "    ax.tick_params(axis='both', labelsize=opt['ls'])\n",
    "    ax.axes.set_xlabel(\"$J_C \\, \\mathrm{[GHz]}$\", fontsize=opt['fs'])\n",
    "    ax.axes.set_ylabel(\"$\\mathrm{[MHz]}$\", fontsize=opt['fs'])\n",
    "    plt.legend(fontsize=20)\n",
    "    plt.show()\n",
    "\n",
    "plot_deltaen_jc(en_mat, jc_list, plot_setup)  \n",
    "    "
   ]
  },
  {
   "cell_type": "markdown",
   "metadata": {},
   "source": [
    "The previous plot is not a standard plot of a two-level system were the two levels repel each other by an equal amount. This means that effects of other levels are important in fluxonia. <br>\n",
    "I now work with a fixed coupling"
   ]
  },
  {
   "cell_type": "code",
   "execution_count": 223,
   "metadata": {},
   "outputs": [],
   "source": [
    "jc = 0.2 #GHz (divided by h)\n",
    "#drive frequency freq_drive = omega_d/2 \\pi in the paper\n",
    "freq_drive_bare = (energies_a[1] - energies_a[0] + energies_b[1] - energies_b[0])/2\n",
    "coupled_flx = flx_a.couple_to(flx_b, coupling=pysqkit.couplers.capacitive_coupling, strength=jc)\n",
    "energies_sys, eigstates_sys = coupled_flx.eig_states() \n",
    "freq_drive = (energies_sys[1] + energies_sys[2] - 2*energies_sys[0])/2\n",
    "delta_ab = energies_sys[2] - energies_sys[1]"
   ]
  },
  {
   "cell_type": "code",
   "execution_count": 224,
   "metadata": {},
   "outputs": [
    {
     "name": "stdout",
     "output_type": "stream",
     "text": [
      "Bare drive frequency fd_bare: 1.0002602414167403 [GHz]\n",
      "Drive frequency fd: 1.0000545837110533 [GHz]\n"
     ]
    }
   ],
   "source": [
    "print('Bare drive frequency fd_bare: ' + str(freq_drive_bare) + ' [GHz]')\n",
    "print('Drive frequency fd: ' + str(freq_drive) + ' [GHz]')"
   ]
  },
  {
   "cell_type": "markdown",
   "metadata": {},
   "source": [
    "As we see there is barely any difference in the two ways of calculating the drive frequency for the present scheme. This is due to the relatively small coupling that we are considering. <br>\n",
    "Following the paper we define the following quantities\n",
    "$$ \\Omega_{kl-k'l'} = 2 f \\lvert N_{kl, k'l'} \\rvert $$,\n",
    "where $f$ is the strength of the drive and \n",
    "$$ N_{kl, k'l'} = \\langle kl \\rvert(\\eta_A \\hat{n}_A + \\eta_B \\hat{n} _B )\\rvert k'l' \\rangle$$. \n",
    "The Rabi frequency of the two-photon transition from second order perturbation theory is\n",
    "$$\n",
    "\\tilde{\\Omega} = \\frac{\\lvert \\Omega_{00-01} \\Omega_{01-11}- \\Omega_{00-10} \\Omega_{10-11} \\rvert}{\\Delta_{AB}}\n",
    "$$,\n",
    "with \n",
    "$$\n",
    "\\Delta_{AB} = \\lvert \\omega_{01}^A - \\omega_{01}^B \\rvert.\n",
    "$$\n",
    "These will all be given divided by $2 \\pi$ in our calculations. I remark that in these calculations you have to take the hybridized states otherwise $\\tilde{\\Omega}$ is obviously zero."
   ]
  },
  {
   "cell_type": "code",
   "execution_count": 232,
   "metadata": {},
   "outputs": [],
   "source": [
    "def drive_mat_el(eta, n_charge, in_state, out_state):\n",
    "    operator = eta[0]*n_charge[0] + eta[1]*n_charge[1]\n",
    "    return np.abs(get_mat_elem(operator, in_state, out_state))\n",
    "\n",
    "def twophoton_rabi_frequency(\n",
    "    eta,\n",
    "    n_charge,\n",
    "    levels: int,\n",
    "    eigstates_sys: np.ndarray,\n",
    "    label_converter: np.ndarray,\n",
    "    f0: float,\n",
    "    delta_ab: float\n",
    ") -> float:\n",
    "    state00 = label_to_states(0, 0, levels, eigstates_sys, label_converter)\n",
    "    state01 = label_to_states(0, 1, levels, eigstates_sys, label_converter)\n",
    "    state10 = label_to_states(1, 0, levels, eigstates_sys, label_converter)\n",
    "    state11 = label_to_states(1, 1, levels, eigstates_sys, label_converter)\n",
    "    om_00_01 = 2*f0*drive_mat_el(eta, n_charge, state00, state01)\n",
    "    om_01_11 = 2*f0*drive_mat_el(eta, n_charge, state01, state11)\n",
    "    om_00_10 = 2*f0*drive_mat_el(eta, n_charge, state00, state10)\n",
    "    om_10_11 = 2*f0*drive_mat_el(eta, n_charge, state10, state11)\n",
    "    return (np.abs(om_00_01*om_01_11 - om_00_10*om_10_11))/delta_ab\n",
    "\n",
    "def twophoton_rabi_frequencyv2(\n",
    "    eta,\n",
    "    n_01,\n",
    "    f0: float,\n",
    "    delta_ab: float,\n",
    "    jc: float\n",
    ") -> float:\n",
    "    omega_a0 = 2*f0*eta[0]*n_01[0]\n",
    "    omega_b0 = 2*f0*eta[1]*n_01[1]\n",
    "    return 2*jc*n_01[0]*n_01[1]*(omega_a0**2 + omega_b0**2)/(delta_ab**2)\n"
   ]
  },
  {
   "cell_type": "code",
   "execution_count": 233,
   "metadata": {},
   "outputs": [],
   "source": [
    "eta = [0.5, 0.5]\n",
    "n_a = tensor_prod([flx_a.charge_op(), np.identity(levels)])\n",
    "n_b = tensor_prod([np.identity(levels), flx_b.charge_op()])\n",
    "n_charge = [n_a, n_b]\n",
    "n_a_01 = np.abs(get_mat_elem(flx_a.charge_op(), eig_states_a[0], eig_states_a[1]))\n",
    "n_b_01 = np.abs(get_mat_elem(flx_b.charge_op(), eig_states_b[0], eig_states_b[1]))\n",
    "n_01 = [n_a_01, n_b_01]\n",
    "lambda_drive = 0.5 #dimensionless drive frequency\n",
    "f0 = lambda_drive*delta_ab/(2*eta[0]*n_a_01)\n",
    "n_a = tensor_prod([flx_a.charge_op(), np.identity(levels)])\n",
    "n_b = tensor_prod([np.identity(levels), flx_b.charge_op()])\n",
    "state00 = label_to_states(0, 0, levels, eigstates_sys, label_converter)\n",
    "state01 = label_to_states(0, 1, levels, eigstates_sys, label_converter)\n",
    "state10 = label_to_states(1, 0, levels, eigstates_sys, label_converter)\n",
    "state11 = label_to_states(1, 1, levels, eigstates_sys, label_converter)\n"
   ]
  },
  {
   "cell_type": "code",
   "execution_count": 236,
   "metadata": {},
   "outputs": [
    {
     "name": "stdout",
     "output_type": "stream",
     "text": [
      "Rabi period: 116.35633392090054 [ns]\n",
      "Rabi period: 114.5274378189006 [ns]\n"
     ]
    }
   ],
   "source": [
    "rabi_freq = twophoton_rabi_frequency(eta, n_charge, levels, \n",
    "                                     eigstates_sys, label_converter, f0, delta_ab) # [GHz]\n",
    "rabi_freqv2 = twophoton_rabi_frequencyv2(eta, n_01, f0, delta_ab, jc)\n",
    "rabi_period = 1/rabi_freq # [ns]\n",
    "rabi_periodv2 = 1/rabi_freqv2\n",
    "print('Rabi period: ' + str(rabi_period) + ' [ns]')\n",
    "print('Rabi period: ' + str(rabi_periodv2) + ' [ns]')"
   ]
  },
  {
   "cell_type": "markdown",
   "metadata": {},
   "source": [
    "### 2.1 Simulations"
   ]
  },
  {
   "cell_type": "markdown",
   "metadata": {},
   "source": [
    "We now want to perform simulations. The first task is to reproduce the two-photon Rabi oscillations and show that they reproduce correctly the Rabi period."
   ]
  },
  {
   "cell_type": "code",
   "execution_count": 245,
   "metadata": {},
   "outputs": [],
   "source": [
    "#simulation setup (noiseless)\n",
    "t_points = 100000\n",
    "tlist = np.linspace(0, 2*rabi_period, t_points)\n",
    "state_in = qtp.Qobj(inpt=eigstates_sys[0], dims=[[levels, levels], [1, 1]], shape=[levels**2, 1])\n",
    "rho_in = state_in*state_in.dag()\n",
    "hamil0 = coupled_flx.hamiltonian(as_qobj=True)\n",
    "hamil_drive = qtp.Qobj(inpt=eta[0]*n_charge[0] + eta[1]*n_charge[1], \n",
    "                       dims=hamil0.dims, shape=hamil0.shape, isherm=True)\n",
    "pulse_drive = 2*f0*np.cos(freq_drive*tlist)"
   ]
  },
  {
   "cell_type": "code",
   "execution_count": 246,
   "metadata": {},
   "outputs": [],
   "source": [
    "# Simulation run\n",
    "result = solvkit.integrate(tlist, state_in, 2*np.pi*hamil0, [2*np.pi*hamil_drive], [pulse_drive], [], \"mesolve\")"
   ]
  },
  {
   "cell_type": "code",
   "execution_count": 247,
   "metadata": {},
   "outputs": [],
   "source": [
    "avg_11 = np.zeros(t_points, dtype=float)\n",
    "for k in range(0, t_points):\n",
    "    avg_11[k] = qtp.expect(rho_in, result.states[k]) "
   ]
  },
  {
   "cell_type": "code",
   "execution_count": 248,
   "metadata": {},
   "outputs": [
    {
     "data": {
      "image/png": "[encoded data removed]",
      "text/plain": [
       "<Figure size 576x432 with 1 Axes>"
      ]
     },
     "metadata": {
      "needs_background": "light"
     },
     "output_type": "display_data"
    }
   ],
   "source": [
    "def plot_tworabi(\n",
    "    tlist: np.ndarray, \n",
    "    avg_11: np.ndarray, \n",
    "    opt: dict\n",
    ") -> None:\n",
    "    fig, ax = plt.subplots(figsize=(8, 6))\n",
    "    ax.plot(2*np.pi*tlist, avg_11, linewidth=opt['lw'], color='red')\n",
    "    ax.axes.set_xlabel('$t \\, [\\mathrm{ns}]$', fontsize=opt['fs'])\n",
    "    ax.axes.set_ylabel('$P_{11}$', fontsize=opt['fs'])\n",
    "    ax.tick_params(axis='both', labelsize=opt['ls'])\n",
    "    ax.set_ylim(0, 1.0)\n",
    "    plt.show()\n",
    "\n",
    "plot_tworabi(tlist/(2*np.pi), avg_11, plot_setup)\n",
    "    "
   ]
  },
  {
   "cell_type": "code",
   "execution_count": 50,
   "metadata": {},
   "outputs": [
    {
     "data": {
      "text/plain": [
       "array([[-0.49339095+0.86575362j]])"
      ]
     },
     "execution_count": 50,
     "metadata": {},
     "output_type": "execute_result"
    }
   ],
   "source": [
    "result.states[1][6]"
   ]
  },
  {
   "cell_type": "code",
   "execution_count": 167,
   "metadata": {},
   "outputs": [
    {
     "data": {
      "text/plain": [
       "array([0.99948429, 0.99948429, 0.99948429, 0.99948429, 0.99948429,\n",
       "       0.99948429, 0.99948429, 0.99948429, 0.99948429, 0.99948429,\n",
       "       0.99948429, 0.99948429, 0.99948429, 0.99948429, 0.99948429,\n",
       "       0.99948429, 0.99948429, 0.99948429, 0.99948429, 0.99948429,\n",
       "       0.99948429, 0.99948429, 0.99948429, 0.99948429, 0.99948429,\n",
       "       0.99948429, 0.99948429, 0.99948429, 0.99948429, 0.99948429,\n",
       "       0.99948429, 0.99948429, 0.99948429, 0.99948429, 0.99948429,\n",
       "       0.99948429, 0.99948429, 0.99948429, 0.99948429, 0.99948429,\n",
       "       0.99948429, 0.99948429, 0.99948429, 0.99948429, 0.99948429,\n",
       "       0.99948429, 0.99948429, 0.99948429, 0.99948429, 0.99948429,\n",
       "       0.99948429, 0.99948429, 0.99948429, 0.99948429, 0.99948429,\n",
       "       0.99948429, 0.99948429, 0.99948429, 0.99948429, 0.99948429,\n",
       "       0.99948429, 0.99948429, 0.99948429, 0.99948429, 0.99948429,\n",
       "       0.99948429, 0.99948429, 0.99948429, 0.99948429, 0.99948429,\n",
       "       0.99948429, 0.99948429, 0.99948429, 0.99948429, 0.99948429,\n",
       "       0.99948429, 0.99948429, 0.99948429, 0.99948429, 0.99948429,\n",
       "       0.99948429, 0.99948429, 0.99948429, 0.99948429, 0.99948429,\n",
       "       0.99948429, 0.99948429, 0.99948429, 0.99948429, 0.99948429,\n",
       "       0.99948429, 0.99948429, 0.99948429, 0.99948429, 0.99948429,\n",
       "       0.99948429, 0.99948429, 0.99948429, 0.99948429, 0.99948429])"
      ]
     },
     "execution_count": 167,
     "metadata": {},
     "output_type": "execute_result"
    }
   ],
   "source": [
    "avg_11[0:100]"
   ]
  },
  {
   "cell_type": "code",
   "execution_count": 170,
   "metadata": {},
   "outputs": [
    {
     "data": {
      "text/plain": [
       "1.0000545837110533"
      ]
     },
     "execution_count": 170,
     "metadata": {},
     "output_type": "execute_result"
    }
   ],
   "source": [
    "freq_drive"
   ]
  },
  {
   "cell_type": "code",
   "execution_count": 171,
   "metadata": {},
   "outputs": [
    {
     "data": {
      "text/plain": [
       "1.0005"
      ]
     },
     "execution_count": 171,
     "metadata": {},
     "output_type": "execute_result"
    }
   ],
   "source": [
    "(1.152 + 0.849)/2"
   ]
  },
  {
   "cell_type": "markdown",
   "metadata": {},
   "source": [
    "### Simulation single fluxonium"
   ]
  },
  {
   "cell_type": "code",
   "execution_count": 316,
   "metadata": {},
   "outputs": [],
   "source": [
    "f0_a = 5*f0\n",
    "rabi_freq_a = 2*f0_a*eta[0]*n_01[0]\n",
    "rabi_period_a = 1/rabi_freq_a\n",
    "t_points_a = 100000\n",
    "tlist_a = np.linspace(0, 2*rabi_period_a*2*np.pi, t_points)\n",
    "state_in_a = qtp.Qobj(inpt=eig_states_a[0])\n",
    "rho_in_a = state_in_a*state_in_a.dag()\n",
    "hamil0_a = flx_a.hamiltonian(as_qobj=True)\n",
    "hamil_drive_a = eta[0]*flx_a.charge_op(as_qobj=True) \n",
    "freq_drive_a = energies_a[1] - energies_a[0]\n",
    "pulse_drive_a = 2*f0_a*np.cos(freq_drive_a*tlist_a)"
   ]
  },
  {
   "cell_type": "code",
   "execution_count": 317,
   "metadata": {},
   "outputs": [],
   "source": [
    "#simulation run A\n",
    "result_a = solvkit.integrate(tlist_a, state_in_a, hamil0_a, [hamil_drive_a], [pulse_drive_a], [], \"mesolve\")"
   ]
  },
  {
   "cell_type": "code",
   "execution_count": 318,
   "metadata": {},
   "outputs": [],
   "source": [
    "prob_in_a = np.zeros(t_points, dtype=float)\n",
    "for k in range(0, t_points):\n",
    "    prob_in_a[k] = qtp.expect(rho_in_a, result_a.states[k]) "
   ]
  },
  {
   "cell_type": "code",
   "execution_count": 319,
   "metadata": {},
   "outputs": [
    {
     "data": {
      "image/png": "[encoded data removed]",
      "text/plain": [
       "<Figure size 576x432 with 1 Axes>"
      ]
     },
     "metadata": {
      "needs_background": "light"
     },
     "output_type": "display_data"
    }
   ],
   "source": [
    "plot_tworabi(tlist_a/(2*np.pi), prob_in_a, plot_setup)"
   ]
  },
  {
   "cell_type": "code",
   "execution_count": 277,
   "metadata": {},
   "outputs": [
    {
     "data": {
      "text/plain": [
       "1.151693822302148"
      ]
     },
     "execution_count": 277,
     "metadata": {},
     "output_type": "execute_result"
    }
   ],
   "source": [
    "freq_drive_a"
   ]
  },
  {
   "cell_type": "code",
   "execution_count": null,
   "metadata": {},
   "outputs": [],
   "source": []
  }
 ],
 "metadata": {
  "kernelspec": {
   "display_name": "Python 3.7.3 64-bit ('base': conda)",
   "language": "python",
   "name": "python37364bitbaseconda36d0b2465ec04527ba16a77ef6d99d0e"
  },
  "language_info": {
   "codemirror_mode": {
    "name": "ipython",
    "version": 3
   },
   "file_extension": ".py",
   "mimetype": "text/x-python",
   "name": "python",
   "nbconvert_exporter": "python",
   "pygments_lexer": "ipython3",
   "version": "3.7.9"
  }
 },
 "nbformat": 4,
 "nbformat_minor": 4
}
