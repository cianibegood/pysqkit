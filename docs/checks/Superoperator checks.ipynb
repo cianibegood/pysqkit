{
 "cells": [
  {
   "cell_type": "markdown",
   "metadata": {},
   "source": [
    "# Superoperator checks"
   ]
  },
  {
   "cell_type": "code",
   "execution_count": 1,
   "metadata": {},
   "outputs": [],
   "source": [
    "from itertools import product\n",
    "import matplotlib.pyplot as plt\n",
    "\n",
    "import time\n",
    "import numpy as np\n",
    "import cmath\n",
    "import pysqkit\n",
    "from typing import List, Callable\n",
    "import matplotlib\n",
    "matplotlib.rcParams['mathtext.fontset'] = 'cm'\n",
    "import qutip as qtp\n",
    "\n",
    "import pysqkit.util.transformations as trf\n",
    "from pysqkit.util.linalg import hilbert_schmidt, tensor_prod\n",
    "\n",
    "from IPython.display import display, Latex"
   ]
  },
  {
   "cell_type": "markdown",
   "metadata": {},
   "source": [
    "## I now check TomoEnv class\n",
    "We consider a fluxonium transmon system"
   ]
  },
  {
   "cell_type": "code",
   "execution_count": 2,
   "metadata": {},
   "outputs": [],
   "source": [
    "levels_f = 5\n",
    "levels_t = 3\n",
    "d_comp = 4\n",
    "d_leak = levels_t*levels_f - d_comp\n",
    "flx = pysqkit.qubits.Fluxonium(label='F', charge_energy=.973, induct_energy=.457, \n",
    "                               joseph_energy=8.0, flux=1/2, dim_hilbert=100)\n",
    "trans = pysqkit.qubits.SimpleTransmon(label='T', max_freq=4.5, \n",
    "                                      anharm=-0.3, dim_hilbert=levels_t)\n",
    "\n",
    "flx.diagonalize_basis(levels_f)\n",
    "energies_f, eig_states_f = flx.eig_states(levels_f)\n",
    "energies_t, eig_states_t = trans.eig_states(levels_t)  "
   ]
  },
  {
   "cell_type": "code",
   "execution_count": 3,
   "metadata": {},
   "outputs": [],
   "source": [
    "#Drive\n",
    "flx.add_drive(\n",
    "    pysqkit.drives.microwave_drive,\n",
    "    label='cz_drive_f',\n",
    "    pulse_shape=pysqkit.drives.pulse_shapes.gaussian_top\n",
    ")"
   ]
  },
  {
   "cell_type": "code",
   "execution_count": 4,
   "metadata": {},
   "outputs": [],
   "source": [
    "jc = 0.07\n",
    "coupled_sys = trans.couple_to(flx, coupling=pysqkit.couplers.capacitive_coupling, strength=jc)\n",
    "energies_sys, eigstates_sys = coupled_sys.eig_states() \n",
    "\n",
    "coupled_sys_bare = trans.couple_to(flx, coupling=pysqkit.couplers.capacitive_coupling, strength=0)\n",
    "energies_bare, eigstates_bare = coupled_sys_bare.eig_states()\n",
    "    \n",
    "energies_in_lexico = np.zeros(levels_f*levels_t, dtype=float)\n",
    "count = 0\n",
    "for k in range(0, levels_t):\n",
    "    for m in range(0, levels_f):\n",
    "        energies_in_lexico[count] = energies_t[k] + energies_f[m]\n",
    "        count += 1\n",
    "ascending_to_lexico = np.argsort(energies_in_lexico)\n",
    "label_converter = ascending_to_lexico"
   ]
  },
  {
   "cell_type": "code",
   "execution_count": 5,
   "metadata": {},
   "outputs": [],
   "source": [
    "def label_to_states(\n",
    "    k: int, \n",
    "    m: int,\n",
    "    levels_f: int,\n",
    "    eig_states: np.ndarray,\n",
    "    label_converter: np.ndarray \n",
    ") -> float:\n",
    "    label = k*levels_f + m\n",
    "    index = np.where(label_converter == label)[0][0] #index such that converter[index] = label\n",
    "    return eig_states[index] "
   ]
  },
  {
   "cell_type": "code",
   "execution_count": 6,
   "metadata": {},
   "outputs": [],
   "source": [
    "eig_states_by_label = []\n",
    "energies_by_label = []\n",
    "for i_a in range(levels_t):\n",
    "    energies_by_label.append([])\n",
    "    eig_states_by_label.append([])\n",
    "    for i_b in range(levels_f):\n",
    "        eig_states_by_label[i_a].append(qtp.Qobj(inpt=  label_to_states(i_a, i_b, levels_f, eigstates_sys, label_converter), \n",
    "                                                 dims=[[levels_t, levels_f], [1, 1]], shape=[levels_t*levels_f, 1]))\n",
    "        energies_by_label[i_a].append(label_to_states(i_a, i_b, levels_f, energies_sys, label_converter))"
   ]
  },
  {
   "cell_type": "code",
   "execution_count": 7,
   "metadata": {},
   "outputs": [],
   "source": [
    "eps_f = 0.03091755984900732\n",
    "freq_drive = 7.155\n",
    "t_rise = 15 #16.0\n",
    "t_tot = 60 #60 # 60\n",
    "pts_per_drive_period = 15 #5 recommended #15 more accuracy\n",
    "\n",
    "nb_points = int(t_tot*freq_drive*pts_per_drive_period)\n",
    "tlist = np.linspace(0, t_tot, nb_points)\n",
    "\n",
    "interest_levels = [[0,0], [0,1], [1,0], [1,1], [0,2], [0,3], [1,3], [2,0]]\n",
    "labels = [\"$| \"+ str(k) + str(m) + \" \\\\rangle $\" for k,m in interest_levels]\n",
    "\n",
    "hamil0 = coupled_sys.hamiltonian(as_qobj=True)\n",
    "coupled_sys['F'].drives['cz_drive_f'].set_params(phase=0, time=tlist, rise_time=t_rise, \n",
    "                                                 amp=eps_f, freq=freq_drive)"
   ]
  },
  {
   "cell_type": "code",
   "execution_count": 8,
   "metadata": {},
   "outputs": [],
   "source": [
    "drive_hamils = []\n",
    "pulses = []\n",
    "\n",
    "for qubit in coupled_sys:\n",
    "    if qubit.is_driven:\n",
    "        for label, drive in qubit.drives.items():\n",
    "            drive_hamils.append(drive.hamiltonian(as_qobj=True))\n",
    "            pulses.append(drive.eval_pulse())"
   ]
  },
  {
   "cell_type": "code",
   "execution_count": 9,
   "metadata": {},
   "outputs": [],
   "source": [
    "temperature = 0.020 # K\n",
    "en_th = pysqkit.util.phys.temperature_to_thermalenergy(temperature) # kb T/h in GHz\n",
    "tan_deltac_f = 7.1*1e-6 \n",
    "tan_deltac_t = 0.75*1e-6\n",
    "qdiel_f = 1/tan_deltac_f\n",
    "qdiel_t = 1/tan_deltac_t\n",
    "trans_jumps = trans.dielectric_loss(qdiel_t, 1/en_th, as_qobj=True)\n",
    "flx_jumps = flx.dielectric_loss(qdiel_f, 1/en_th, as_qobj=True)\n",
    "jumps = []\n",
    "for op in trans_jumps:\n",
    "    jumps.append(qtp.tensor(op, qtp.qeye(levels_f)))\n",
    "for op in flx_jumps:\n",
    "    jumps.append(qtp.tensor(qtp.qeye(levels_t), op))"
   ]
  },
  {
   "cell_type": "code",
   "execution_count": 10,
   "metadata": {},
   "outputs": [
    {
     "name": "stdout",
     "output_type": "stream",
     "text": [
      "Computation time =  3.6387453079223633 seconds\n"
     ]
    }
   ],
   "source": [
    "start = time.time()\n",
    "\n",
    "state_in = []\n",
    "outputs = []\n",
    "for i in range(0, 2):\n",
    "    for k in range(0, 2):\n",
    "        state_in.append(eig_states_by_label[i][k])\n",
    "for i in range(0, 4):\n",
    "    outputs.append(pysqkit.solvers.solvkit.integrate(tlist*2*np.pi, state_in[i], hamil0, drive_hamils, pulses, jumps, \"mesolve\"))\n",
    "    \n",
    "end = time.time()\n",
    "\n",
    "print(\"Computation time = \" , end - start, \"seconds\")"
   ]
  },
  {
   "cell_type": "code",
   "execution_count": 11,
   "metadata": {},
   "outputs": [],
   "source": [
    "rhos_by_label = []\n",
    "for i in range(len(eig_states_by_label)):\n",
    "    rhos_by_label.append([])\n",
    "    for j in range(len(eig_states_by_label[0])):\n",
    "        rhos_by_label[i].append(eig_states_by_label[i][j]*eig_states_by_label[i][j].dag())  \n",
    "\n",
    "plot_setup = {'lw': 2.0, 'fs': 16, 'fs_text': 14, 'ls': 14}\n",
    "def plot_probas(\n",
    "    tlist: np.ndarray, \n",
    "    probs: np.ndarray,\n",
    "    opt: dict\n",
    ") -> None:\n",
    "    fig, ax = plt.subplots(int(np.ceil(len(labels)/4)), 4, figsize = (16, 8))\n",
    "    for k in range(0, len(labels)):\n",
    "        ax[k//4, k%4].plot(tlist, probs[k, :], linewidth=opt['lw'])\n",
    "\n",
    "        ax[k//4, k%4].set_ylim(0, 1.0)\n",
    "        ax[k//4, k%4].set_title(labels[k], fontsize=opt['fs'])\n",
    "        ax[k//4, k%4].set_ylim(-0.1, 1.1)\n",
    "        ax[k//4, k%4].axhline(y=0, color='grey', linestyle='--')\n",
    "        ax[k//4, k%4].axhline(y=1, color='grey', linestyle='--')\n",
    "\n",
    "        if k%4 != 0:\n",
    "            ax[k//4, k%4].axes.yaxis.set_ticklabels([])\n",
    "\n",
    "    fig = plt.gcf()\n",
    "    plt.show()\n",
    "        "
   ]
  },
  {
   "cell_type": "markdown",
   "metadata": {},
   "source": [
    "We introduce the TomoEnv object"
   ]
  },
  {
   "cell_type": "code",
   "execution_count": 31,
   "metadata": {},
   "outputs": [],
   "source": [
    "simu_opt = qtp.solver.Options()\n",
    "simu_opt.atol = 1e-10\n",
    "simu_opt.rtol = 1e-8\n",
    "env_syst = pysqkit.tomography.TomoEnv(system = coupled_sys, jump_op=jumps, options=simu_opt)"
   ]
  },
  {
   "cell_type": "code",
   "execution_count": 32,
   "metadata": {},
   "outputs": [],
   "source": [
    "comp_states = [eig_states_by_label[0][0][:], eig_states_by_label[0][1][:], eig_states_by_label[1][0][:], \\\n",
    "               eig_states_by_label[1][1][:]]\n",
    "proj_comp = 0\n",
    "for n in range(0, 2):\n",
    "    for m in range(0, 2):\n",
    "        proj_comp += eig_states_by_label[n][m]*eig_states_by_label[n][m].dag()"
   ]
  },
  {
   "cell_type": "code",
   "execution_count": 33,
   "metadata": {},
   "outputs": [
    {
     "name": "stdout",
     "output_type": "stream",
     "text": [
      "Computational time = 85.64652252197266 s\n"
     ]
    }
   ],
   "source": [
    "start = time.time()\n",
    "sup_op = env_syst.to_super(comp_states, trf.weyl_by_index)\n",
    "end = time.time()\n",
    "print(\"Computational time = \" + str(end - start) + ' s')"
   ]
  },
  {
   "cell_type": "markdown",
   "metadata": {},
   "source": [
    "Now we check that the probability of finding the system in one of the computational basis states given a certain initial state agrees with the corresponding calculation using the superoperator representation."
   ]
  },
  {
   "cell_type": "code",
   "execution_count": 34,
   "metadata": {},
   "outputs": [
    {
     "data": {
      "image/png": "[encoded data removed]",
      "text/plain": [
       "<Figure size 1152x576 with 8 Axes>"
      ]
     },
     "metadata": {
      "needs_background": "light"
     },
     "output_type": "display_data"
    }
   ],
   "source": [
    "theta = 20\n",
    "ket_in = np.cos(theta/2)*eig_states_by_label[0][0] - np.sin(theta/2)*eig_states_by_label[1][0] \n",
    "rho_in = ket_in*ket_in.dag()\n",
    "output = pysqkit.solvers.solvkit.integrate(tlist*2*np.pi, rho_in, hamil0, drive_hamils, pulses, \\\n",
    "                                           jumps, \"mesolve\", options=simu_opt)\n",
    "rho_fin = output.states[-1]\n",
    "\n",
    "probs_out = np.zeros([len(labels), nb_points], dtype=float)\n",
    "for k in range(0, len(labels)):\n",
    "    i, j = interest_levels[k]\n",
    "    for m in range(0, nb_points):        \n",
    "        probs_out[k, m] = qtp.expect(rhos_by_label[i][j], output.states[m]) \n",
    "\n",
    "plot_probas(tlist, probs_out,  plot_setup)\n",
    "leakage = 1 - qtp.expect(proj_comp, output.states[-1])"
   ]
  },
  {
   "cell_type": "code",
   "execution_count": 35,
   "metadata": {},
   "outputs": [
    {
     "data": {
      "text/latex": [
       "$\\mathrm{Leakage} = 0.00345$"
      ],
      "text/plain": [
       "<IPython.core.display.Latex object>"
      ]
     },
     "metadata": {},
     "output_type": "display_data"
    }
   ],
   "source": [
    "display(Latex(r'$\\mathrm{{Leakage}} = {:.5f}$'.format(leakage)))"
   ]
  },
  {
   "cell_type": "markdown",
   "metadata": {},
   "source": [
    "Using the superoperator"
   ]
  },
  {
   "cell_type": "code",
   "execution_count": 36,
   "metadata": {},
   "outputs": [],
   "source": [
    "basis = [] \n",
    "d = len(comp_states)\n",
    "for i in range(0, d**2):\n",
    "    basis.append(trf.iso_basis(i, comp_states, trf.weyl_by_index))\n",
    "rho_in_vec = np.zeros(d**2, dtype=complex)\n",
    "for i in range(0, d**2):\n",
    "    rho_in_vec[i] = hilbert_schmidt(basis[i], rho_in[:, :])\n",
    "rho_fin_vec = sup_op.dot(rho_in_vec)\n",
    "rho_fin_from_sup = 0\n",
    "for i in range(0, d**2):\n",
    "    rho_fin_from_sup += rho_fin_vec[i]*basis[i]\n",
    "# rho_fin_check = 0\n",
    "\n",
    "# start = time.time()\n",
    "\n",
    "# for i in range(0, d**2):\n",
    "#     evolved_basis_i = env_syst.evolve_hs_basis(i, comp_states, trf.weyl_by_index)\n",
    "#     rho_fin_check += rho_in_vec[i]*evolved_basis_i\n",
    "\n",
    "# end = time.time()\n",
    "# print(\"Computational time = \" + str(end - start) + ' s')"
   ]
  },
  {
   "cell_type": "markdown",
   "metadata": {},
   "source": [
    "We now compute the fidelity between the state computed using the direct master equation simulation and the superoperator. I first remark that"
   ]
  },
  {
   "cell_type": "code",
   "execution_count": 37,
   "metadata": {},
   "outputs": [
    {
     "data": {
      "text/plain": [
       "1.0000000004671457"
      ]
     },
     "execution_count": 37,
     "metadata": {},
     "output_type": "execute_result"
    }
   ],
   "source": [
    "qtp.fidelity(rho_fin, rho_fin)"
   ]
  },
  {
   "cell_type": "markdown",
   "metadata": {},
   "source": [
    "so there is still some numerical issue here."
   ]
  },
  {
   "cell_type": "code",
   "execution_count": 38,
   "metadata": {},
   "outputs": [
    {
     "data": {
      "text/plain": [
       "0.9965506611126403"
      ]
     },
     "execution_count": 38,
     "metadata": {},
     "output_type": "execute_result"
    }
   ],
   "source": [
    "qtp.fidelity(rho_fin, qtp.Qobj(inpt=rho_fin_from_sup, dims=[[3, 5], [3, 5]]))"
   ]
  },
  {
   "cell_type": "markdown",
   "metadata": {},
   "source": [
    "The fidelity looks ok. However, I remark that using the previous commented code to compute rho_fin_check should give exactly the same result as using superoperator. Yet, we seem to lose accuracy with the superoperator somewhere."
   ]
  },
  {
   "cell_type": "markdown",
   "metadata": {},
   "source": [
    "Thus, the result is accurate given the the numerical accuracy. Also, notice that we expect the previous quantity to be 1 only when we have low leakage. We now get the single-qubit corrections directly from the superoperator."
   ]
  },
  {
   "cell_type": "code",
   "execution_count": 39,
   "metadata": {},
   "outputs": [],
   "source": [
    "def single_qubit_corrections(\n",
    "    sup_op: np.ndarray,\n",
    "    hs_basis: Callable[[int, int], np.ndarray]\n",
    ") -> np.ndarray:\n",
    "    sigma_m1 = tensor_prod([np.array([[0.0, 0.0], [1.0, 0.0]]), np.array([[1.0, 0.0], [0.0, 0.0]])])\n",
    "    sigma_m2 = tensor_prod([np.array([[1.0, 0.0], [0.0, 0.0]]), np.array([[0.0, 0.0], [1.0, 0.0]])])\n",
    "    sigma_m1_vec = trf.mat_to_vec(sigma_m1, hs_basis)\n",
    "    sigma_m2_vec = trf.mat_to_vec(sigma_m2, hs_basis)\n",
    "    evolved_sigma_m1_vec = sup_op.dot(sigma_m1_vec)\n",
    "    evolved_sigma_m2_vec = sup_op.dot(sigma_m2_vec)\n",
    "    evolved_sigma_m1 = trf.vec_to_mat(evolved_sigma_m1_vec, hs_basis)\n",
    "    evolved_sigma_m2 = trf.vec_to_mat(evolved_sigma_m2_vec, hs_basis)\n",
    "    phi10 = cmath.phase(hilbert_schmidt(sigma_m1, evolved_sigma_m1))\n",
    "    phi01 = cmath.phase(hilbert_schmidt(sigma_m2, evolved_sigma_m2))\n",
    "    p_phi10 = np.array([[1, 0], [0, np.exp(-1j*phi10)]])\n",
    "    p_phi01 = np.array([[1, 0], [0, np.exp(-1j*phi01)]])\n",
    "    return tensor_prod([p_phi10, p_phi01])\n",
    "    "
   ]
  },
  {
   "cell_type": "markdown",
   "metadata": {},
   "source": [
    "We now compute the process fidelity"
   ]
  },
  {
   "cell_type": "code",
   "execution_count": 40,
   "metadata": {},
   "outputs": [
    {
     "data": {
      "text/latex": [
       "$F_{pro} = 0.99428-0.00000j$"
      ],
      "text/plain": [
       "<IPython.core.display.Latex object>"
      ]
     },
     "metadata": {},
     "output_type": "display_data"
    }
   ],
   "source": [
    "cz = np.array([[1, 0, 0, 0], [0, 1, 0, 0], [0, 0, 1, 0], [0, 0, 0, -1]])\n",
    "cz_super = trf.kraus_to_super(cz, trf.weyl_by_index)\n",
    "sq_corr = single_qubit_corrections(sup_op, trf.weyl_by_index)\n",
    "sq_corr_sup = trf.kraus_to_super(sq_corr, trf.weyl_by_index)\n",
    "total_sup_op = sq_corr_sup.dot(sup_op)\n",
    "\n",
    "def average_process_fidelity(\n",
    "    sup_op1: np.ndarray,\n",
    "    sup_op2: np.ndarray\n",
    ") -> complex:\n",
    "    d = sup_op1.shape[0]\n",
    "    return np.trace(sup_op1.conj().T.dot(sup_op2))/d\n",
    "\n",
    "process_fidelity = average_process_fidelity(cz_super, total_sup_op)\n",
    "display(Latex(r'$F_{{pro}} = {:.5f}$'.format(process_fidelity)))"
   ]
  },
  {
   "cell_type": "code",
   "execution_count": 41,
   "metadata": {},
   "outputs": [],
   "source": [
    "avg_leakage = env_syst.leakage(comp_states)"
   ]
  },
  {
   "cell_type": "code",
   "execution_count": 42,
   "metadata": {},
   "outputs": [
    {
     "data": {
      "text/plain": [
       "0.0017483463309513336"
      ]
     },
     "execution_count": 42,
     "metadata": {},
     "output_type": "execute_result"
    }
   ],
   "source": [
    "avg_leakage"
   ]
  },
  {
   "cell_type": "code",
   "execution_count": null,
   "metadata": {},
   "outputs": [],
   "source": [
    "avg_leakage.tr()"
   ]
  },
  {
   "cell_type": "code",
   "execution_count": null,
   "metadata": {},
   "outputs": [],
   "source": [
    "comp_states[0]"
   ]
  },
  {
   "cell_type": "code",
   "execution_count": null,
   "metadata": {},
   "outputs": [],
   "source": [
    "env_syst._dims_qobj"
   ]
  },
  {
   "cell_type": "code",
   "execution_count": null,
   "metadata": {},
   "outputs": [],
   "source": []
  }
 ],
 "metadata": {
  "kernelspec": {
   "display_name": "Python 3.7.3 64-bit ('base': conda)",
   "language": "python",
   "name": "python37364bitbaseconda36d0b2465ec04527ba16a77ef6d99d0e"
  },
  "language_info": {
   "codemirror_mode": {
    "name": "ipython",
    "version": 3
   },
   "file_extension": ".py",
   "mimetype": "text/x-python",
   "name": "python",
   "nbconvert_exporter": "python",
   "pygments_lexer": "ipython3",
   "version": "3.7.9"
  }
 },
 "nbformat": 4,
 "nbformat_minor": 4
}
