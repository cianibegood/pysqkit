{
 "cells": [
  {
   "cell_type": "markdown",
   "metadata": {},
   "source": [
    "# Superoperator checks"
   ]
  },
  {
   "cell_type": "code",
   "execution_count": 1,
   "metadata": {},
   "outputs": [],
   "source": [
    "from itertools import product\n",
    "import matplotlib.pyplot as plt\n",
    "\n",
    "import time\n",
    "import numpy as np\n",
    "#import cmath\n",
    "import pysqkit\n",
    "#from pysqkit.solvers import solvkit\n",
    "from typing import List\n",
    "import matplotlib\n",
    "matplotlib.rcParams['mathtext.fontset'] = 'cm'\n",
    "import qutip as qtp\n",
    "\n",
    "import pysqkit.util.transformations as trf\n",
    "from pysqkit.util.linalg import hilbert_schmidt\n",
    "\n",
    "#from pysqkit.util.phys import temperature_to_thermalenergy\n",
    "#import pysqkit.util.transformations as transf\n",
    "#from pysqkit.util.basis import pauli_basis\n",
    "#from pysqkit.util.linalg import hilbert_schmidt\n",
    "#from pysqkit.util.metrics import avg_process_fid\n",
    "from IPython.display import display, Latex\n",
    "#from pysqkit.util.linalg import get_mat_elem, tensor_prod"
   ]
  },
  {
   "cell_type": "code",
   "execution_count": 2,
   "metadata": {},
   "outputs": [],
   "source": [
    "cz_qobj = qtp.qobj.Qobj(np.array([[1, 0, 0, 0], [0, 1, 0, 0], [0, 0, 1, 0], [0, 0, 0, -1]]))\n",
    "cz_super = qtp.to_super(cz_qobj)\n",
    "rho_zero = (qtp.qeye(2) + qtp.sigmaz())/2\n",
    "rho_one = (qtp.qeye(2) - qtp.sigmaz())/2\n",
    "cz_tensor = qtp.tensor(rho_zero, qtp.qeye(2)) + qtp.tensor(rho_one, qtp.sigmaz())\n",
    "cz_tensor_super = qtp.to_super(cz_tensor)"
   ]
  },
  {
   "cell_type": "markdown",
   "metadata": {},
   "source": [
    "I just check that the two ways of getting the CZ superoperator, which differ only by the tensor product structure in Qutip give the same result."
   ]
  },
  {
   "cell_type": "code",
   "execution_count": 3,
   "metadata": {},
   "outputs": [
    {
     "data": {
      "text/plain": [
       "array([ 1.+0.j,  1.+0.j,  1.+0.j, -1.+0.j,  1.+0.j,  1.+0.j,  1.+0.j,\n",
       "       -1.+0.j,  1.+0.j,  1.+0.j,  1.+0.j, -1.+0.j, -1.+0.j, -1.+0.j,\n",
       "       -1.+0.j,  1.+0.j])"
      ]
     },
     "execution_count": 3,
     "metadata": {},
     "output_type": "execute_result"
    }
   ],
   "source": [
    "np.diag(cz_super[:, :])"
   ]
  },
  {
   "cell_type": "code",
   "execution_count": 4,
   "metadata": {},
   "outputs": [
    {
     "data": {
      "text/plain": [
       "array([ 1.+0.j,  1.+0.j,  1.+0.j, -1.+0.j,  1.+0.j,  1.+0.j,  1.+0.j,\n",
       "       -1.+0.j,  1.+0.j,  1.+0.j,  1.+0.j, -1.+0.j, -1.+0.j, -1.+0.j,\n",
       "       -1.+0.j,  1.+0.j])"
      ]
     },
     "execution_count": 4,
     "metadata": {},
     "output_type": "execute_result"
    }
   ],
   "source": [
    "np.diag(cz_tensor_super[:, :])"
   ]
  },
  {
   "cell_type": "markdown",
   "metadata": {},
   "source": [
    "## I now check the TomoEnv class\n",
    "We do checks for a fluxonium transmon system"
   ]
  },
  {
   "cell_type": "code",
   "execution_count": 5,
   "metadata": {},
   "outputs": [],
   "source": [
    "levels_f = 5\n",
    "levels_t = 3\n",
    "d_comp = 4\n",
    "d_leak = levels_t*levels_f - d_comp\n",
    "flx = pysqkit.qubits.Fluxonium(label='F', charge_energy=.973, induct_energy=.457, \n",
    "                               joseph_energy=8.0, flux=1/2, dim_hilbert=100)\n",
    "trans = pysqkit.qubits.SimpleTransmon(label='T', max_freq=4.5, \n",
    "                                      anharm=-0.3, dim_hilbert=levels_t)\n",
    "\n",
    "flx.diagonalize_basis(levels_f)\n",
    "energies_f, eig_states_f = flx.eig_states(levels_f)\n",
    "energies_t, eig_states_t = trans.eig_states(levels_t)  "
   ]
  },
  {
   "cell_type": "code",
   "execution_count": 6,
   "metadata": {},
   "outputs": [],
   "source": [
    "#Drive\n",
    "flx.add_drive(\n",
    "    pysqkit.drives.microwave_drive,\n",
    "    label='cz_drive_f',\n",
    "    pulse_shape=pysqkit.drives.pulse_shapes.gaussian_top\n",
    ")"
   ]
  },
  {
   "cell_type": "code",
   "execution_count": 7,
   "metadata": {},
   "outputs": [],
   "source": [
    "jc = 0.07\n",
    "coupled_sys = trans.couple_to(flx, coupling=pysqkit.couplers.capacitive_coupling, strength=jc)\n",
    "energies_sys, eigstates_sys = coupled_sys.eig_states() \n",
    "\n",
    "coupled_sys_bare = trans.couple_to(flx, coupling=pysqkit.couplers.capacitive_coupling, strength=0)\n",
    "energies_bare, eigstates_bare = coupled_sys_bare.eig_states()\n",
    "    \n",
    "energies_in_lexico = np.zeros(levels_f*levels_t, dtype=float)\n",
    "count = 0\n",
    "for k in range(0, levels_t):\n",
    "    for m in range(0, levels_f):\n",
    "        energies_in_lexico[count] = energies_t[k] + energies_f[m]\n",
    "        count += 1\n",
    "ascending_to_lexico = np.argsort(energies_in_lexico)\n",
    "label_converter = ascending_to_lexico"
   ]
  },
  {
   "cell_type": "code",
   "execution_count": 8,
   "metadata": {},
   "outputs": [],
   "source": [
    "def label_to_states(\n",
    "    k: int, \n",
    "    m: int,\n",
    "    levels_f: int,\n",
    "    eig_states: np.ndarray,\n",
    "    label_converter: np.ndarray \n",
    ") -> float:\n",
    "    label = k*levels_f + m\n",
    "    index = np.where(label_converter == label)[0][0] #index such that converter[index] = label\n",
    "    return eig_states[index] "
   ]
  },
  {
   "cell_type": "code",
   "execution_count": 9,
   "metadata": {},
   "outputs": [],
   "source": [
    "eig_states_by_label = []\n",
    "energies_by_label = []\n",
    "for i_a in range(levels_t):\n",
    "    energies_by_label.append([])\n",
    "    eig_states_by_label.append([])\n",
    "    for i_b in range(levels_f):\n",
    "        eig_states_by_label[i_a].append(qtp.Qobj(inpt=  label_to_states(i_a, i_b, levels_f, eigstates_sys, label_converter), \n",
    "                                                 dims=[[levels_t, levels_f], [1, 1]], shape=[levels_t*levels_f, 1]))\n",
    "        energies_by_label[i_a].append(label_to_states(i_a, i_b, levels_f, energies_sys, label_converter))"
   ]
  },
  {
   "cell_type": "code",
   "execution_count": 10,
   "metadata": {},
   "outputs": [],
   "source": [
    "eps_f = 0.03091755984900732\n",
    "freq_drive = 7.155\n",
    "t_rise = 15 #16.0\n",
    "t_tot = 60 # 60\n",
    "pts_per_drive_period = 15\n",
    "\n",
    "nb_points = int(t_tot*freq_drive*pts_per_drive_period)\n",
    "tlist = np.linspace(0, t_tot, nb_points)\n",
    "\n",
    "interest_levels = [[0,0], [0,1], [1,0], [1,1], [0,2], [0,3], [1,3], [2,0]]\n",
    "labels = [\"$| \"+ str(k) + str(m) + \" \\\\rangle $\" for k,m in interest_levels]\n",
    "\n",
    "hamil0 = coupled_sys.hamiltonian(as_qobj=True)\n",
    "coupled_sys['F'].drives['cz_drive_f'].set_params(phase=0, time=tlist, rise_time=t_rise, \n",
    "                                                 amp=eps_f, freq=freq_drive)"
   ]
  },
  {
   "cell_type": "code",
   "execution_count": 11,
   "metadata": {},
   "outputs": [],
   "source": [
    "drive_hamils = []\n",
    "pulses = []\n",
    "\n",
    "for qubit in coupled_sys:\n",
    "    if qubit.is_driven:\n",
    "        for label, drive in qubit.drives.items():\n",
    "            drive_hamils.append(drive.hamiltonian(as_qobj=True))\n",
    "            pulses.append(drive.eval_pulse())"
   ]
  },
  {
   "cell_type": "code",
   "execution_count": 12,
   "metadata": {},
   "outputs": [],
   "source": [
    "temperature = 0.020 # K\n",
    "en_th = pysqkit.util.phys.temperature_to_thermalenergy(temperature) # kb T/h in GHz\n",
    "tan_deltac_f = 7.1*1e-6 \n",
    "tan_deltac_t = 0.75*1e-6\n",
    "qdiel_f = 1/tan_deltac_f\n",
    "qdiel_t = 1/tan_deltac_t\n",
    "trans_jumps = trans.dielectric_loss(qdiel_t, 1/en_th, as_qobj=True)\n",
    "flx_jumps = flx.dielectric_loss(qdiel_f, 1/en_th, as_qobj=True)\n",
    "jumps = []\n",
    "for op in trans_jumps:\n",
    "    jumps.append(qtp.tensor(op, qtp.qeye(levels_f)))\n",
    "for op in flx_jumps:\n",
    "    jumps.append(qtp.tensor(qtp.qeye(levels_t), op))"
   ]
  },
  {
   "cell_type": "markdown",
   "metadata": {},
   "source": [
    "We introduce the TomoEnv object"
   ]
  },
  {
   "cell_type": "code",
   "execution_count": 13,
   "metadata": {},
   "outputs": [],
   "source": [
    "env_syst = pysqkit.tomography.TomoEnv(system = coupled_sys, jump_op=jumps)"
   ]
  },
  {
   "cell_type": "code",
   "execution_count": 14,
   "metadata": {},
   "outputs": [],
   "source": [
    "comp_states = [eig_states_by_label[0][0][:], eig_states_by_label[0][1][:], eig_states_by_label[1][0][:], \\\n",
    "               eig_states_by_label[1][1][:]]"
   ]
  },
  {
   "cell_type": "code",
   "execution_count": 15,
   "metadata": {},
   "outputs": [
    {
     "name": "stdout",
     "output_type": "stream",
     "text": [
      "Computational time = 60.89344382286072 s\n"
     ]
    }
   ],
   "source": [
    "start = time.time()\n",
    "sup_op = env_syst.to_super(comp_states, trf.weyl_by_index)\n",
    "end = time.time()\n",
    "print(\"Computational time = \" + str(end - start) + ' s')"
   ]
  },
  {
   "cell_type": "markdown",
   "metadata": {},
   "source": [
    "Now we check that the probability of finding the system in one of the computational basis states given a certain initial state agrees with the corresponding calculation using the superoperator representation."
   ]
  },
  {
   "cell_type": "code",
   "execution_count": 60,
   "metadata": {},
   "outputs": [],
   "source": [
    "ket_in = eig_states_by_label[1][1]\n",
    "rho_in = ket_in*ket_in.dag()\n",
    "output = pysqkit.solvers.solvkit.integrate(tlist*2*np.pi, rho_in, hamil0, drive_hamils, pulses, jumps, \"mesolve\")\n",
    "rho_fin = output.states[-1]"
   ]
  },
  {
   "cell_type": "markdown",
   "metadata": {},
   "source": [
    "Using the superoperator"
   ]
  },
  {
   "cell_type": "code",
   "execution_count": 61,
   "metadata": {},
   "outputs": [],
   "source": [
    "basis = [] \n",
    "d = len(comp_states)\n",
    "for i in range(0, d**2):\n",
    "            basis.append(trf.iso_basis(i, comp_states, trf.weyl_by_index))\n",
    "rho_in_vec = np.zeros(d**2, dtype=complex)\n",
    "for i in range(0, d**2):\n",
    "    rho_in_vec[i] = hilbert_schmidt(basis[i], rho_in[:, :])\n",
    "rho_fin_vec = sup_op.dot(rho_in_vec)\n",
    "rho_fin_from_sup = 0\n",
    "for i in range(0, d**2):\n",
    "    rho_fin_from_sup += rho_fin_vec[i]*basis[i]"
   ]
  },
  {
   "cell_type": "markdown",
   "metadata": {},
   "source": [
    "We now compute the fidelity between the state computed using the direct master equation simulation and the superoperator. I first remark that"
   ]
  },
  {
   "cell_type": "code",
   "execution_count": 65,
   "metadata": {},
   "outputs": [
    {
     "data": {
      "text/plain": [
       "1.000475331144416"
      ]
     },
     "execution_count": 65,
     "metadata": {},
     "output_type": "execute_result"
    }
   ],
   "source": [
    "qtp.fidelity(rho_fin, rho_fin)"
   ]
  },
  {
   "cell_type": "markdown",
   "metadata": {},
   "source": [
    "The accuracy is clearly not satisfactory as the fidelity of the final state with itself is 1 only up to the 5th digit."
   ]
  },
  {
   "cell_type": "code",
   "execution_count": 70,
   "metadata": {},
   "outputs": [
    {
     "data": {
      "text/plain": [
       "1.0005820967313594"
      ]
     },
     "execution_count": 70,
     "metadata": {},
     "output_type": "execute_result"
    }
   ],
   "source": [
    "qtp.fidelity(rho_fin, qtp.Qobj(inpt=rho_fin_from_sup, dims=[[3, 5], [3, 5]]))"
   ]
  },
  {
   "cell_type": "markdown",
   "metadata": {},
   "source": [
    "Thus, the result is accurate given the the numerical accuracy. Also, notice that we expect the previous quantity to be 1 only when we have low leakage."
   ]
  },
  {
   "cell_type": "code",
   "execution_count": null,
   "metadata": {},
   "outputs": [],
   "source": []
  }
 ],
 "metadata": {
  "kernelspec": {
   "display_name": "Python 3.7.3 64-bit ('base': conda)",
   "language": "python",
   "name": "python37364bitbaseconda36d0b2465ec04527ba16a77ef6d99d0e"
  },
  "language_info": {
   "codemirror_mode": {
    "name": "ipython",
    "version": 3
   },
   "file_extension": ".py",
   "mimetype": "text/x-python",
   "name": "python",
   "nbconvert_exporter": "python",
   "pygments_lexer": "ipython3",
   "version": "3.7.9"
  }
 },
 "nbformat": 4,
 "nbformat_minor": 4
}
