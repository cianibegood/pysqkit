{
 "cells": [
  {
   "cell_type": "markdown",
   "metadata": {},
   "source": [
    "# Ficheux-like gate between a transmon and a fluxonium: scans of $t_{rise}$"
   ]
  },
  {
   "cell_type": "code",
   "execution_count": null,
   "metadata": {},
   "outputs": [],
   "source": [
    "import numpy as np\n",
    "import time\n",
    "import qutip as qtp\n",
    "import cmath\n",
    "from scipy.optimize import minimize\n",
    "import matplotlib.pyplot as plt\n",
    "import pysqkit\n",
    "from pysqkit.util.linalg import get_mat_elem, tensor_prod, hilbert_schmidt_prod\n",
    "from pysqkit.util.phys import temperature_to_thermalenergy\n",
    "from pysqkit.util.metrics import average_process_fidelity, \\\n",
    "    average_gate_fidelity\n",
    "from pysqkit.util.hsbasis import weyl_by_index\n",
    "import pysqkit.util.transformations as trf\n",
    "from typing import Callable, List, Dict\n",
    "import matplotlib\n",
    "matplotlib.rcParams['mathtext.fontset'] = 'cm'\n",
    "import json\n",
    "\n",
    "from IPython.display import display, Latex\n",
    "\n",
    "#%matplotlib notebook\n",
    "\n",
    "import adaptive\n",
    "\n",
    "from pysqkit.util.phys import temperature_to_thermalenergy\n",
    "from pysqkit.util.transformations import kraus_to_ptm\n",
    "from IPython.display import display, Latex\n",
    "from pysqkit.util.linalg import get_mat_elem, tensor_prod\n",
    "\n",
    "adaptive.notebook_extension()"
   ]
  },
  {
   "cell_type": "markdown",
   "metadata": {},
   "source": [
    "The gate is based on the following driven Hamiltonian of a fluxonium and a transmon capacitively coupled\n",
    "\n",
    "$$H = H^{(0)}_T + H^{(0)}_F + V + H_{drive},$$\n",
    "\n",
    "$$H^{(0)}_T =  \\hbar \\omega_T \\hat{b}^{\\dagger}\\hat{b} + \\hbar \\frac{\\delta_T}{2} \\hat{b}^{\\dagger} \\hat{b}^{\\dagger}\\hat{b} \\hat{b},$$\n",
    "\n",
    "$$H^{(0)}_F = 4 E_{C,F} \\cdot \\hat{n}^2_F + \\frac{1}{2}E_{L,F}\\cdot\\hat{\\varphi}^2_F - E_{J,F}\\cos\\left(\\hat{\\varphi}_F - \\phi_{ext,F}\\right),$$\n",
    "\n",
    "$$V = J_C \\cdot \\hat{n}_T \\cdot \\hat{n}_F,$$\n",
    "\n",
    "$$\\frac{H_{drive}}{h} = \\left( \\varepsilon_T \\hat{n}_T + \\varepsilon_F \\hat{n}_F \\right) \\cos(2\\pi f_d t).$$\n",
    "\n",
    "The (approximate) charge operator for the transmon in terms of annihilation and creation operators reads\n",
    "\n",
    "$$\n",
    "\\hat{n}_T = i \\biggl( \\frac{E_J}{32 |\\delta_T |} \\biggr)^{1/4} (b^{\\dagger} - b),\n",
    "$$\n",
    "where \n",
    "$$\n",
    "E_J = \\hbar \\biggl(\\frac{\\omega_T - \\delta_T}{8 | \\delta_T |} \\biggr)^2.\n",
    "$$\n"
   ]
  },
  {
   "cell_type": "markdown",
   "metadata": {},
   "source": [
    "# Introducing the qubits and the coupled system"
   ]
  },
  {
   "cell_type": "code",
   "execution_count": null,
   "metadata": {},
   "outputs": [],
   "source": [
    "temperature = 0.020 # K\n",
    "thermal_energy = temperature_to_thermalenergy(temperature) # kb T/h in GHz\n",
    "d_comp = 4\n",
    "\n",
    "#Transmon\n",
    "levels_t = 3\n",
    "transm = pysqkit.qubits.SimpleTransmon(\n",
    "    label='T', \n",
    "    max_freq=4.5, \n",
    "    anharm=-0.3,\n",
    "    diel_loss_tan=0.75*1e-6, #set to zero to check d_1 L1 = d_2 L2\n",
    "    env_thermal_energy=thermal_energy,    \n",
    "    dim_hilbert=levels_t\n",
    ")\n",
    "\n",
    "#Fluxonium\n",
    "levels_f = 5\n",
    "ec_f = .973\n",
    "el_f = .457\n",
    "ej_f = 8.0\n",
    "# The external flux in units of \\phi_0 is set to 1/2 by defauls:\n",
    "# double well configuration\n",
    "\n",
    "flx = pysqkit.qubits.Fluxonium(\n",
    "    label='F', \n",
    "    charge_energy=.973, \n",
    "    induct_energy=.457, \n",
    "    joseph_energy=8.0, \n",
    "    diel_loss_tan=7.1*1e-6, #set to zero to check d_1 L1 = d_2 L2\n",
    "    env_thermal_energy=thermal_energy\n",
    ")\n",
    "flx.diagonalize_basis(levels_f)\n",
    "\n",
    "# We also add a drive on the fluxonium\n",
    "flx.add_drive(\n",
    "    pysqkit.drives.microwave_drive,\n",
    "    label='cz_drive_f',\n",
    "    pulse_shape=pysqkit.drives.pulse_shapes.gaussian_top\n",
    ")\n",
    "\n",
    "d_leak = levels_t*levels_f - d_comp\n",
    "\n",
    "jc = 0.07\n",
    "coupled_sys = transm.couple_to(flx, coupling=pysqkit.couplers.capacitive_coupling, strength=jc)\n",
    "state_labels = ['00', '01', '10', '11']\n",
    "comp_states = []\n",
    "for label in state_labels:\n",
    "    comp_states.append(coupled_sys.state(label)[1])"
   ]
  },
  {
   "cell_type": "code",
   "execution_count": null,
   "metadata": {},
   "outputs": [],
   "source": [
    "def generalized_rabi_frequency(\n",
    "    levels: List['str'],\n",
    "    eps: Dict,\n",
    "    drive_frequency: float,\n",
    "    system: pysqkit.systems.system.QubitSystem\n",
    "):\n",
    "    if len(levels) != 2:\n",
    "        raise ValueError('The generalized rabi frequency is defined betwen two levels. '\n",
    "                        'Please specify the desired two levels.')\n",
    "        \n",
    "    qubit_labels = system.labels\n",
    "    drive_op = 0\n",
    "    for label in qubit_labels:\n",
    "        drive_op += eps[label]*system[label].charge_op()\n",
    "    \n",
    "    in_energy, in_state = system.state(levels[0])\n",
    "    out_energy, out_state = system.state(levels[1])   \n",
    "    big_omega_transition = np.abs(get_mat_elem(drive_op, in_state, out_state))\n",
    "    \n",
    "    energy_transition = np.abs(in_energy - out_energy)\n",
    "    drive_detuning = energy_transition - drive_frequency\n",
    "    \n",
    "    return np.sqrt(big_omega_transition**2 + drive_detuning**2)\n",
    "\n",
    "def delta(\n",
    "    system: pysqkit.systems.system.QubitSystem\n",
    ") -> float:\n",
    "    delta_gate = (system.state('13')[0] - system.state('10')[0]) - \\\n",
    "    (system.state('03')[0] - system.state('00')[0])\n",
    "    return delta_gate\n",
    "\n",
    "def func_to_minimize(\n",
    "    x0: np.ndarray,\n",
    "    levels_first_transition: List['str'],\n",
    "    levels_second_transition: List['str'],\n",
    "    system: pysqkit.systems.system.QubitSystem,\n",
    "    eps_ratio_dict: Dict    \n",
    ") -> float:\n",
    "    \n",
    "    \"\"\"\n",
    "    Function to minimize in order to match the parameters in order to \n",
    "    implement a CZ gate up to single-qubit rotations. It returns the modulus\n",
    "    of [rabi_second_transition - rabi_first_transition, \n",
    "    delta_gate - rabi_first_transition]/delta_gate\n",
    "    x0 : np.ndarray([eta_reference, drive_freq]) represents the parameters to be \n",
    "         minimized.\n",
    "    levels_first_transition : List with the labels of the first transition whose\n",
    "       generalized Rabi frequency has to be matched\n",
    "    levels_second_transition : List with the labels of the second transition whose\n",
    "                               generalized Rabi frequency has to be matched\n",
    "    system: coupled system we are analyzing\n",
    "    eps_ratio_dict: dictionary whose keys are system.labels. The entries correspond\n",
    "                    to the ratios between the corresponding qubit drive and the \n",
    "                    reference drive.     \n",
    "    \n",
    "    \"\"\"\n",
    "    \n",
    "    qubit_labels = system.labels\n",
    "    eps = {}\n",
    "    for qubit in qubit_labels:\n",
    "        eps[qubit] = x0[0]*eps_ratio_dict[qubit]\n",
    "    rabi_first_transition = generalized_rabi_frequency(levels_first_transition, eps, x0[1], system)\n",
    "    rabi_second_transition = generalized_rabi_frequency(levels_second_transition, eps, x0[1], system)\n",
    "    delta_gate = delta(system)\n",
    "    y = np.sqrt( (rabi_first_transition - rabi_second_transition)**2 + \\\n",
    "                (rabi_first_transition - delta_gate)**2)\n",
    "    return np.abs(y/delta_gate)"
   ]
  },
  {
   "cell_type": "code",
   "execution_count": null,
   "metadata": {},
   "outputs": [],
   "source": [
    "x0 = np.array([0.03, 7.15]) #initial guess\n",
    "eps_ratios = {'T': 0.0, 'F':1.0}\n",
    "args_to_pass = (['00', '03'], ['10', '13'], coupled_sys, eps_ratios) \n",
    "\n",
    "start = time.time()\n",
    "\n",
    "minimization_result = minimize(func_to_minimize, x0, args=args_to_pass)\n",
    "\n",
    "end = time.time()\n",
    "\n",
    "display(Latex(r'$\\mathrm{{Minimization \\, time}} = {:.3f} \\, s$'.format(end - start)))\n",
    "display(Latex(r'$f_{{\\mathrm{{min}}}} = {:.2e}$'.format(minimization_result['fun'])))"
   ]
  },
  {
   "cell_type": "markdown",
   "metadata": {},
   "source": [
    "# Setting up the system"
   ]
  },
  {
   "cell_type": "code",
   "execution_count": null,
   "metadata": {},
   "outputs": [],
   "source": [
    "eps_drive = minimization_result['x'][0]\n",
    "freq_drive = minimization_result['x'][1]\n",
    "rabi_period = 1/delta(coupled_sys)\n",
    "t_rise_ref = 15 #16.0\n",
    "t_tot = 60 # 60\n",
    "pts_per_drive_period = 5\n",
    "\n",
    "nb_points = int(t_tot*freq_drive*pts_per_drive_period)\n",
    "tlist = np.linspace(0, t_tot, nb_points)\n",
    "\n",
    "coupled_sys['F'].drives['cz_drive_f'].set_params(phase=0, time=tlist, amp=eps_drive, freq=freq_drive)\n",
    "\n",
    "simu_opt = qtp.solver.Options()\n",
    "simu_opt.atol = 1e-12\n",
    "simu_opt.rtol = 1e-10\n",
    "\n",
    "cz = np.array([[1, 0, 0, 0], [0, 1, 0, 0], [0, 0, 1, 0], [0, 0, 0, -1]])\n",
    "cz_super = trf.kraus_to_super(cz, weyl_by_index)"
   ]
  },
  {
   "cell_type": "code",
   "execution_count": null,
   "metadata": {},
   "outputs": [],
   "source": [
    "def single_qubit_corrections(\n",
    "    sup_op: np.ndarray,\n",
    "    hs_basis: Callable[[int, int], np.ndarray]\n",
    ") -> np.ndarray:\n",
    "    sigma_m1 = tensor_prod([np.array([[0.0, 0.0], [1.0, 0.0]]), np.array([[1.0, 0.0], [0.0, 0.0]])])\n",
    "    sigma_m2 = tensor_prod([np.array([[1.0, 0.0], [0.0, 0.0]]), np.array([[0.0, 0.0], [1.0, 0.0]])])\n",
    "    sigma_m1_vec = trf.mat_to_vec(sigma_m1, hs_basis)\n",
    "    sigma_m2_vec = trf.mat_to_vec(sigma_m2, hs_basis)\n",
    "    evolved_sigma_m1_vec = sup_op.dot(sigma_m1_vec)\n",
    "    evolved_sigma_m2_vec = sup_op.dot(sigma_m2_vec)\n",
    "    evolved_sigma_m1 = trf.vec_to_mat(evolved_sigma_m1_vec, hs_basis)\n",
    "    evolved_sigma_m2 = trf.vec_to_mat(evolved_sigma_m2_vec, hs_basis)\n",
    "    phi10 = cmath.phase(hilbert_schmidt_prod(sigma_m1, evolved_sigma_m1))\n",
    "    phi01 = cmath.phase(hilbert_schmidt_prod(sigma_m2, evolved_sigma_m2))\n",
    "    p_phi10 = np.array([[1, 0], [0, np.exp(-1j*phi10)]])\n",
    "    p_phi01 = np.array([[1, 0], [0, np.exp(-1j*phi01)]])\n",
    "    return tensor_prod([p_phi10, p_phi01])\n",
    "\n",
    "def get_fidelity_leakage(\n",
    "    t_rise: float\n",
    "):\n",
    "    coupled_sys['F'].drives['cz_drive_f'].set_params(rise_time=t_rise)\n",
    "    \n",
    "    \n",
    "    env_syst = pysqkit.tomography.TomoEnv(system=coupled_sys, time=2*np.pi*tlist, options=simu_opt)\n",
    "    n_process = 4 #seems optimal choice on my (Ale's) laptop\n",
    "    sup_op = env_syst.to_super(comp_states, weyl_by_index, n_process)\n",
    "    sq_corr = single_qubit_corrections(sup_op, weyl_by_index)\n",
    "    sq_corr_sup = trf.kraus_to_super(sq_corr, weyl_by_index)\n",
    "    total_sup_op = sq_corr_sup.dot(sup_op)\n",
    "    l1 = env_syst.leakage(comp_states)\n",
    "    \n",
    "    f_gate = average_gate_fidelity(cz_super, total_sup_op, l1)\n",
    "    return f_gate, l1\n",
    "    \n",
    "    "
   ]
  },
  {
   "cell_type": "code",
   "execution_count": null,
   "metadata": {},
   "outputs": [],
   "source": [
    "start =  time.time()\n",
    "\n",
    "f_gate, l1 = get_fidelity_leakage(t_rise_ref)\n",
    "\n",
    "end = time.time()\n",
    "display(Latex(r'$\\mathrm{{Computation \\, time}} = {:.3f} \\, s$'.format(end - start)))"
   ]
  },
  {
   "cell_type": "markdown",
   "metadata": {},
   "source": [
    "We obtain a gate fidelity"
   ]
  },
  {
   "cell_type": "code",
   "execution_count": null,
   "metadata": {},
   "outputs": [],
   "source": [
    "display(Latex(r'$F_{{gate}} = $ {:.5f}'.format(np.real(f_gate))))"
   ]
  },
  {
   "cell_type": "markdown",
   "metadata": {},
   "source": [
    "and leakage"
   ]
  },
  {
   "cell_type": "code",
   "execution_count": null,
   "metadata": {},
   "outputs": [],
   "source": [
    "display(Latex(r'$L_1 = $ {:.5f}'.format(np.real(l1))))"
   ]
  },
  {
   "cell_type": "markdown",
   "metadata": {},
   "source": [
    "# Adaptive scan"
   ]
  },
  {
   "cell_type": "code",
   "execution_count": null,
   "metadata": {},
   "outputs": [],
   "source": [
    "from operator import itemgetter\n",
    "\n",
    "def simulation(t_rise):\n",
    "    f_gate, l1 = get_fidelity_leakage(t_rise)\n",
    "    \n",
    "    # In the actual simulaiton the code that would go here would look more like:\n",
    "    # amp, freq = scan_params\n",
    "    # system['fluxonium'].drives[0].set_params(amp=amp, freq=freq)\n",
    "    # gate_op = sq.tomography(system, in_states, out_states) \n",
    "    \n",
    "    # Where in_states is an array of the |00>, |01>, |10>, |11> obtained from system\n",
    "    # out_states will be probably the full system state array\n",
    "    \n",
    "    # Then one does the analyis on the gate_op\n",
    "    \n",
    "    result = {}\n",
    "    result['gate_infidelity'] = 1 - np.real(f_gate)\n",
    "    result['leakage'] = np.real(l1)\n",
    "    return result\n",
    "\n",
    "t_rise_var = 0.3\n",
    "t_rise_bounds = ((1 - t_rise_var)*t_rise_ref, (1 + t_rise_var)*t_rise_ref)\n",
    "\n",
    "learner = adaptive.Learner1D(simulation, (t_rise_bounds))\n",
    "data_saver = adaptive.DataSaver(learner, arg_picker=itemgetter('gate_infidelity'))\n",
    "\n",
    "def adaptive_goal(learner):\n",
    "    return learner.npoints > 1 #250 #estimated time with 500 points 12 hours\n",
    "     #return learner.loss() < 0.001 or learner.npoints > 2000\n",
    "runner = adaptive.Runner(data_saver, goal=adaptive_goal)"
   ]
  },
  {
   "cell_type": "code",
   "execution_count": null,
   "metadata": {},
   "outputs": [],
   "source": [
    "runner.live_info()"
   ]
  },
  {
   "cell_type": "code",
   "execution_count": null,
   "metadata": {},
   "outputs": [],
   "source": [
    "runner.live_plot(update_interval=0.1)"
   ]
  },
  {
   "cell_type": "code",
   "execution_count": null,
   "metadata": {},
   "outputs": [],
   "source": [
    "data_list = list(data_saver.extra_data.items())\n",
    "save = True\n",
    "if save == True:\n",
    "    with open(\"tmp/data_scan_t_rise_t_tot_\" + \n",
    "              str(t_tot) + \".txt\", \"w\") as fp:\n",
    "        json.dump(data_list, fp)   "
   ]
  },
  {
   "cell_type": "code",
   "execution_count": null,
   "metadata": {},
   "outputs": [],
   "source": []
  }
 ],
 "metadata": {
  "kernelspec": {
   "display_name": "Python 3.7.3 64-bit ('base': conda)",
   "language": "python",
   "name": "python37364bitbaseconda36d0b2465ec04527ba16a77ef6d99d0e"
  },
  "language_info": {
   "codemirror_mode": {
    "name": "ipython",
    "version": 3
   },
   "file_extension": ".py",
   "mimetype": "text/x-python",
   "name": "python",
   "nbconvert_exporter": "python",
   "pygments_lexer": "ipython3",
   "version": "3.7.9"
  }
 },
 "nbformat": 4,
 "nbformat_minor": 4
}
