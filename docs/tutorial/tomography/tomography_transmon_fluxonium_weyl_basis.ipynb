{
 "cells": [
  {
   "cell_type": "markdown",
   "metadata": {},
   "source": [
    "# Tutorial on Tomography"
   ]
  },
  {
   "cell_type": "code",
   "execution_count": 1,
   "metadata": {},
   "outputs": [],
   "source": [
    "import time\n",
    "import numpy as np\n",
    "import cmath\n",
    "import pysqkit\n",
    "from typing import Callable, List\n",
    "import qutip as qtp\n",
    "\n",
    "import pysqkit.util.transformations as trf\n",
    "from pysqkit.util.linalg import hilbert_schmidt, tensor_prod\n",
    "from pysqkit.util.phys import temperature_to_thermalenergy\n",
    "\n",
    "from IPython.display import display, Latex"
   ]
  },
  {
   "cell_type": "markdown",
   "metadata": {},
   "source": [
    "In this tutorial we show how to perform tomography on a QubitSystem object. For concreteness we consider a Transmon-Fluxonium system with capacitive coupling. Parameters are taken in order to implement a version of the gate presented in Ficheux et al, Phys. Rev. X 11, 021026 (2021) using the interaction between  $| 1_t 3_f \\rangle$ and $| 0_t 4_f \\rangle$."
   ]
  },
  {
   "cell_type": "markdown",
   "metadata": {},
   "source": [
    "We introduce the Qubit objects"
   ]
  },
  {
   "cell_type": "code",
   "execution_count": null,
   "metadata": {},
   "outputs": [],
   "source": [
    "levels_f = 5\n",
    "levels_t = 3\n",
    "d_comp = 4\n",
    "d_leak = levels_t*levels_f - d_comp\n",
    "temperature = 0.020 # K\n",
    "thermal_energy = temperature_to_thermalenergy(temperature) # kb T/h in GHz\n",
    "flx = pysqkit.qubits.Fluxonium(\n",
    "    label='F', \n",
    "    charge_energy=.973, \n",
    "    induct_energy=.457, \n",
    "    joseph_energy=8.0, \n",
    "    diel_loss_tan=7.1*1e-6*0, #set to zero to check d_1 L1 = d_2 L2\n",
    "    env_thermal_energy=thermal_energy\n",
    ")\n",
    "trans = pysqkit.qubits.SimpleTransmon(\n",
    "    label='T', \n",
    "    max_freq=4.5,\n",
    "    anharm=-0.3, \n",
    "    diel_loss_tan=0.75*1e-6*0, #set to zero to check d_1 L1 = d_2 L2\n",
    "    env_thermal_energy=thermal_energy,\n",
    "    dim_hilbert=levels_t\n",
    ")\n",
    "\n",
    "flx.diagonalize_basis(levels_f)\n",
    "energies_f, eig_states_f = flx.eig_states(levels_f)\n",
    "energies_t, eig_states_t = trans.eig_states(levels_t)  "
   ]
  },
  {
   "cell_type": "markdown",
   "metadata": {},
   "source": [
    "We add a microwave drive on the fluxonium"
   ]
  },
  {
   "cell_type": "code",
   "execution_count": null,
   "metadata": {},
   "outputs": [],
   "source": [
    "#Drive\n",
    "flx.add_drive(\n",
    "    pysqkit.drives.microwave_drive,\n",
    "    label='cz_drive_f',\n",
    "    pulse_shape=pysqkit.drives.pulse_shapes.gaussian_top\n",
    ")"
   ]
  },
  {
   "cell_type": "markdown",
   "metadata": {},
   "source": [
    "We capacitively couple the transmon and the fluxonium"
   ]
  },
  {
   "cell_type": "code",
   "execution_count": null,
   "metadata": {},
   "outputs": [],
   "source": [
    "jc = 0.07\n",
    "coupled_sys = trans.couple_to(flx, coupling=pysqkit.couplers.capacitive_coupling, strength=jc)\n",
    "energies_sys, eigstates_sys = coupled_sys.eig_states() \n",
    "\n",
    "def delta(\n",
    "    system: pysqkit.systems.system.QubitSystem\n",
    ") -> float:\n",
    "    delta_gate = (system.state('13')[0] - system.state('10')[0]) - \\\n",
    "    (system.state('03')[0] - system.state('00')[0])\n",
    "    return delta_gate\n",
    "\n",
    "delta_rabi = delta(coupled_sys)\n",
    "rabi_period = 1/delta_rabi"
   ]
  },
  {
   "cell_type": "markdown",
   "metadata": {},
   "source": [
    "We now fix the drive parameters. These are taken to satisfy the conditions in order for the gate to work."
   ]
  },
  {
   "cell_type": "code",
   "execution_count": null,
   "metadata": {},
   "outputs": [],
   "source": [
    "eps_f = 0.03091755984900732\n",
    "freq_drive = 7.155\n",
    "t_rise = 0.0 #15.0 #16.0\n",
    "t_tot = rabi_period #60 \n",
    "pts_per_drive_period = 5 #5 recommended #15 more accuracy\n",
    "\n",
    "nb_points = int(t_tot*freq_drive*pts_per_drive_period)\n",
    "tlist = np.linspace(0, t_tot, nb_points)\n",
    "\n",
    "interest_levels = [[0,0], [0,1], [1,0], [1,1], [0,2], [0,3], [1,3], [2,0]]\n",
    "labels = [\"$| \"+ str(k) + str(m) + \" \\\\rangle $\" for k,m in interest_levels]\n",
    "\n",
    "hamil0 = coupled_sys.hamiltonian(as_qobj=True)\n",
    "coupled_sys['F'].drives['cz_drive_f'].set_params(phase=0, time=tlist, rise_time=t_rise, \n",
    "                                                 amp=eps_f, freq=freq_drive)"
   ]
  },
  {
   "cell_type": "code",
   "execution_count": null,
   "metadata": {},
   "outputs": [],
   "source": [
    "drive_hamils = []\n",
    "pulses = []\n",
    "\n",
    "for qubit in coupled_sys:\n",
    "    if qubit.is_driven:\n",
    "        for label, drive in qubit.drives.items():\n",
    "            drive_hamils.append(drive.hamiltonian(as_qobj=True))\n",
    "            pulses.append(drive.eval_pulse())"
   ]
  },
  {
   "cell_type": "markdown",
   "metadata": {},
   "source": [
    "We introduce the TomoEnv object. We also refine the absolute and relative tolerance of the qutip solver "
   ]
  },
  {
   "cell_type": "code",
   "execution_count": null,
   "metadata": {},
   "outputs": [],
   "source": [
    "simu_opt = qtp.solver.Options()\n",
    "simu_opt.atol = 1e-12\n",
    "simu_opt.rtol = 1e-10\n",
    "env_syst = pysqkit.tomography.TomoEnv(system=coupled_sys, options=simu_opt)"
   ]
  },
  {
   "cell_type": "markdown",
   "metadata": {},
   "source": [
    "The TomoEnv class can now return the superoperator representation of the quantum operation in an arbitrary Hilbert-Schmidt basis for a $d$-dimensional subspace, as long as this is a basis of diagonalizable operators. For instance the basis $|n \\rangle> \\langle m|$, $n, m= 0, \\dots, d-1$ is not a diagonalizable basis and thus the method cannot be used. \n",
    "\n",
    "In what follows we are interested in obtaining a superoperator representation of a quantum operation in the computational subspace that we here define"
   ]
  },
  {
   "cell_type": "code",
   "execution_count": null,
   "metadata": {},
   "outputs": [],
   "source": [
    "state_labels = ['00', '01', '10', '11']\n",
    "comp_states = []\n",
    "for label in state_labels:\n",
    "    comp_states.append(coupled_sys.state(label)[1])"
   ]
  },
  {
   "cell_type": "markdown",
   "metadata": {},
   "source": [
    "We remark that the specification of the subspace is left to the user and it has arbitrary dimension. The user must check that the given kets are indeed orthogonal. \n",
    "\n",
    "In what follows we will use the Weyl basis for qudits ($d>2$) as Hilbert-Schmidt basis. These are defined via the standard definition of $Z$ and $X$ operators for qudits (see Howard et al Nature volume 510, pages351–355 (2014)):\n",
    "\n",
    "$$\n",
    "Z | j \\rangle= \\omega^j | j \\rangle,\n",
    "$$\n",
    "$$\n",
    "X | j \\rangle = | j + 1 \\mod d \\rangle,\n",
    "$$\n",
    "where $\\omega = \\exp \\bigl[ \\frac{2 \\pi i}{d} \\bigr ]$.\n",
    "\n",
    "The (normalized) Weyl operators for qudits are defined as\n",
    "\n",
    "$$\n",
    "D(\\boldsymbol{\\xi})=D \\bigl( \\boldsymbol{\\xi} = \\begin{bmatrix}\\xi_x & \\xi_z \n",
    "\\end{bmatrix}^T \\bigr) = \\frac{1}{\\sqrt{d}} \\omega^{- \\frac{d+1}{2} \\xi_x \\xi_z} X^{\\xi_x} Z^{\\xi_z}, \\quad \\xi_x, \\xi_z \\in \\mathbb{Z}_d = \\{0, 1, \\dots, d-1 \\}.\n",
    "$$\n",
    "The Weyl operators form an orthonormal basis for the Hilbert space of (bounded) $d \\times d$ matrices with Hilbert-Schmidt inner product\n",
    "\n",
    "$$\n",
    "\\langle A, B \\rangle = \\mathrm{Tr}(A^{\\dagger} B).\n",
    "$$\n",
    "In fact\n",
    "$$\n",
    "\\langle D(\\boldsymbol{\\xi}), D(\\boldsymbol{\\xi}') \\rangle = \\delta_{\\boldsymbol{\\xi}, \\boldsymbol{\\xi}'}.\n",
    " $$\n",
    "\n",
    "In order to use this basis to write our superoperator we simply need a function that orders them. Thus, this function should take as argument an index $i$ associated with the Weyl operator as well as the qudit dimension $d$ ($i < d^2$). The same is valid for any orthonormal Hilbert-Schmidt basis we wish to define, as long as it is a basis of diagonalizable matrices. \n",
    "The following functions can also be found in pysqkit.util.hsbasis, but we here re-write them explicitly for illustration purposes.\n"
   ]
  },
  {
   "cell_type": "code",
   "execution_count": null,
   "metadata": {},
   "outputs": [],
   "source": [
    "def weyl(\n",
    "    xi_x: int,\n",
    "    xi_z: int,\n",
    "    d: int\n",
    ") -> np.ndarray:\n",
    "\n",
    "    \"\"\" \n",
    "    Returns the qudit Weyl operator with phase-space points xi_x, xi_z\n",
    "    in a d x d phase space.\n",
    "    We take the normalized version of the definition in \n",
    "    M. Howard et al, Nature 510, 351 (2014), i.e., divided by\n",
    "    square root of d.\n",
    "    \"\"\"\n",
    "\n",
    "    if xi_x >= d or xi_z >= d:\n",
    "        raise ValueError(\"Qudit Pauli labels out of range.\")\n",
    "\n",
    "    if d <= 2:\n",
    "        raise ValueError(\"The qudit dimension d must be larger than 2.\")\n",
    "\n",
    "    omega = np.exp(2*np.pi*1j/d)\n",
    "    z = np.zeros([d, d], dtype=complex)\n",
    "    x = np.zeros([d, d], dtype=complex)\n",
    "    for k in range(0, d):\n",
    "        z[k, k] = omega**k\n",
    "        x[np.mod(k + 1, d), k] = 1\n",
    "    z_pow = np.linalg.matrix_power(z, xi_z)\n",
    "    x_pow = np.linalg.matrix_power(x, xi_x)\n",
    "\n",
    "    return 1/np.sqrt(d)*omega**(-(d + 1)/2*xi_x*xi_z)*x_pow.dot(z_pow)\n",
    "\n",
    "def weyl_by_index(\n",
    "    i: int,\n",
    "    d: int\n",
    ") -> np.ndarray:\n",
    "    \n",
    "    \"\"\"\n",
    "    Returns the Weyl operator associated with index i in a d x d phase-space\n",
    "    We order the Weyl operators as i -> (xi_x = i // d, xi_z = i % d).\n",
    "    \"\"\"\n",
    "    \n",
    "    if i >= d**2:\n",
    "        raise ValueError(\"Index i out of range: i < d**2\")\n",
    "\n",
    "    xi_x = i // d\n",
    "    xi_z = i % d\n",
    "    return weyl(xi_x, xi_z, d)"
   ]
  },
  {
   "cell_type": "markdown",
   "metadata": {},
   "source": [
    "We can now easily obtain the superoperator in the Weyl basis. Notice that this gives information only within the defined computational subspace and not on the leakage subspace. Thus the following superoperator is complete knowledge of the states within the computational subspaces only if the leakage is zero. However, the following superoperator is the one needed to compute process fidelities as described in Eq. 8 of Wood-Gambetta Phys. Rev. A 97, 032306 (2018). The method to_super in the TomoEnv class is parallelized and we can specify the number of processes. "
   ]
  },
  {
   "cell_type": "code",
   "execution_count": null,
   "metadata": {},
   "outputs": [],
   "source": [
    "n_process = 2\n",
    "\n",
    "start = time.time()\n",
    "sup_op = env_syst.to_super(comp_states, weyl_by_index, n_process)\n",
    "end = time.time()\n",
    "print(\"Computational time = \" + str(end - start) + ' s')"
   ]
  },
  {
   "cell_type": "markdown",
   "metadata": {},
   "source": [
    "Notice how the superoperator can be obtained for any system and its operations are completely system agnostic.\n",
    "\n",
    "We now use the previous superoperator to compute the process fidelity and average gate fidelity with respect to a $\\mathrm{CZ}$ gate. First of all, we need to obtain the single-qubit gate corrections. This can be done directly from the superoperator via the following function."
   ]
  },
  {
   "cell_type": "code",
   "execution_count": null,
   "metadata": {},
   "outputs": [],
   "source": [
    "def single_qubit_corrections(\n",
    "    sup_op: np.ndarray,\n",
    "    hs_basis: Callable[[int, int], np.ndarray]\n",
    ") -> np.ndarray:\n",
    "    sigma_m1 = tensor_prod([np.array([[0.0, 0.0], [1.0, 0.0]]), np.array([[1.0, 0.0], [0.0, 0.0]])])\n",
    "    sigma_m2 = tensor_prod([np.array([[1.0, 0.0], [0.0, 0.0]]), np.array([[0.0, 0.0], [1.0, 0.0]])])\n",
    "    sigma_m1_vec = trf.mat_to_vec(sigma_m1, hs_basis)\n",
    "    sigma_m2_vec = trf.mat_to_vec(sigma_m2, hs_basis)\n",
    "    evolved_sigma_m1_vec = sup_op.dot(sigma_m1_vec)\n",
    "    evolved_sigma_m2_vec = sup_op.dot(sigma_m2_vec)\n",
    "    evolved_sigma_m1 = trf.vec_to_mat(evolved_sigma_m1_vec, hs_basis)\n",
    "    evolved_sigma_m2 = trf.vec_to_mat(evolved_sigma_m2_vec, hs_basis)\n",
    "    phi10 = cmath.phase(hilbert_schmidt(sigma_m1, evolved_sigma_m1))\n",
    "    phi01 = cmath.phase(hilbert_schmidt(sigma_m2, evolved_sigma_m2))\n",
    "    p_phi10 = np.array([[1, 0], [0, np.exp(-1j*phi10)]])\n",
    "    p_phi01 = np.array([[1, 0], [0, np.exp(-1j*phi01)]])\n",
    "    return tensor_prod([p_phi10, p_phi01])\n",
    "    "
   ]
  },
  {
   "cell_type": "markdown",
   "metadata": {},
   "source": [
    "We now compute the process fidelity. In order to do this we first need to obtain the superoperator representation of the $\\mathrm{CZ}$ in the Weyl basis. This can be done via the function qutip.util.transformations.kraus_to_super"
   ]
  },
  {
   "cell_type": "code",
   "execution_count": null,
   "metadata": {},
   "outputs": [],
   "source": [
    "cz = np.array([[1, 0, 0, 0], [0, 1, 0, 0], [0, 0, 1, 0], [0, 0, 0, -1]])\n",
    "cz_super = trf.kraus_to_super(cz, weyl_by_index)"
   ]
  },
  {
   "cell_type": "markdown",
   "metadata": {},
   "source": [
    "We also obtain the superoperator representation of the single-qubit corrections and obtain the total applied superoperator"
   ]
  },
  {
   "cell_type": "code",
   "execution_count": null,
   "metadata": {},
   "outputs": [],
   "source": [
    "sq_corr = single_qubit_corrections(sup_op, weyl_by_index)\n",
    "sq_corr_sup = trf.kraus_to_super(sq_corr, weyl_by_index)\n",
    "total_sup_op = sq_corr_sup.dot(sup_op)"
   ]
  },
  {
   "cell_type": "markdown",
   "metadata": {},
   "source": [
    "We can now compute the process fidelity"
   ]
  },
  {
   "cell_type": "code",
   "execution_count": null,
   "metadata": {},
   "outputs": [],
   "source": [
    "def average_process_fidelity(\n",
    "    sup_op1: np.ndarray,\n",
    "    sup_op2: np.ndarray\n",
    ") -> float:\n",
    "    d = sup_op1.shape[0]\n",
    "    return np.real(np.trace(sup_op1.conj().T.dot(sup_op2))/d)\n",
    "\n",
    "process_fidelity = average_process_fidelity(cz_super, total_sup_op)\n",
    "display(Latex(r'$F_{{pro}} = {:.5f}$'.format(process_fidelity)))"
   ]
  },
  {
   "cell_type": "markdown",
   "metadata": {},
   "source": [
    "Notice that this is by choice not done within the TomoEnv class, since the TomoEnv class should be agnostic of which gate we want to implement.\n",
    "\n",
    "The average leakage and seepage is instead computed within the TomoEnv class. This is because we just need to specify a subspace to determine them, similarly to the determination of the superoperator. We use Eq. 2 and 3 in Wood-Gambetta Phys. Rev. A 97, 032306 (2018) to calculate the average leakage and seepage respectively."
   ]
  },
  {
   "cell_type": "code",
   "execution_count": null,
   "metadata": {},
   "outputs": [],
   "source": [
    "avg_leakage = env_syst.leakage(comp_states)\n",
    "display(Latex(r'$L_1(\\mathcal{{E}} ) = {:.7f}$'.format(avg_leakage)))"
   ]
  },
  {
   "cell_type": "code",
   "execution_count": null,
   "metadata": {},
   "outputs": [],
   "source": [
    "avg_seepage = env_syst.seepage(comp_states)\n",
    "display(Latex(r'$L_2(\\mathcal{{E}} ) = {:.7f}$'.format(avg_seepage)))"
   ]
  },
  {
   "cell_type": "markdown",
   "metadata": {},
   "source": [
    "We can also check that with the selected accuracy of the qutip solver, for unitary dynamics (set loss tangents equal to zero) we reproduce the relation between leakage and seepage $d_1 L_1(\\mathcal{E}) = d_2 L_2(\\mathcal{E})$ ($d_1=4, d_2 = 11$)"
   ]
  },
  {
   "cell_type": "code",
   "execution_count": null,
   "metadata": {},
   "outputs": [],
   "source": [
    "display(Latex(r'$d_1 L_1(\\mathcal{{E}} ) = {:.7f}$'.format(d_comp*avg_leakage)))"
   ]
  },
  {
   "cell_type": "code",
   "execution_count": null,
   "metadata": {},
   "outputs": [],
   "source": [
    "display(Latex(r'$d_2 L_2(\\mathcal{{E}} ) = {:.7f}$'.format(d_leak*avg_seepage)))"
   ]
  }
 ],
 "metadata": {
  "kernelspec": {
   "display_name": "Python 3.7.3 64-bit ('base': conda)",
   "language": "python",
   "name": "python37364bitbaseconda36d0b2465ec04527ba16a77ef6d99d0e"
  },
  "language_info": {
   "codemirror_mode": {
    "name": "ipython",
    "version": 3
   },
   "file_extension": ".py",
   "mimetype": "text/x-python",
   "name": "python",
   "nbconvert_exporter": "python",
   "pygments_lexer": "ipython3",
   "version": "3.7.9"
  }
 },
 "nbformat": 4,
 "nbformat_minor": 4
}
