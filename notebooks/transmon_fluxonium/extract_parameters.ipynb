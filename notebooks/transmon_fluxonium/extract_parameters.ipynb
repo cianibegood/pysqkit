{
 "cells": [
  {
   "cell_type": "markdown",
   "id": "9445da32",
   "metadata": {},
   "source": [
    "# Extracting parameters"
   ]
  },
  {
   "cell_type": "code",
   "execution_count": 1,
   "id": "b299ac61",
   "metadata": {},
   "outputs": [],
   "source": [
    "import numpy as np\n",
    "import time\n",
    "import pysqkit\n",
    "from pysqkit import QubitSystem\n",
    "from pysqkit.util.linalg import get_mat_elem\n",
    "from pysqkit.util.phys import temperature_to_thermalenergy\n",
    "from typing import List, Dict, Callable\n",
    "import json\n",
    "import cmath\n",
    "\n",
    "from IPython.display import display, Latex"
   ]
  },
  {
   "cell_type": "markdown",
   "id": "9c6bde93",
   "metadata": {},
   "source": [
    "The following file contains the parameters used in the simulations. Parameter set 2 and 3 are the relevant ones for the Cross-Resonance gate"
   ]
  },
  {
   "cell_type": "code",
   "execution_count": 2,
   "id": "a28ca25a",
   "metadata": {},
   "outputs": [],
   "source": [
    "with open('flx_transm_params.txt') as param_file:\n",
    "    parameters_set = json.load(param_file)"
   ]
  },
  {
   "cell_type": "code",
   "execution_count": 7,
   "id": "026cd44e",
   "metadata": {},
   "outputs": [],
   "source": [
    "temperature = 0.020 # K\n",
    "thermal_energy = temperature_to_thermalenergy(temperature) # kb T/h in GHz\n",
    "d_comp = 4\n",
    "\n",
    "p_set = \"3\"\n",
    "\n",
    "\n",
    "#Transmon\n",
    "levels_t = 3\n",
    "transm = pysqkit.qubits.SimpleTransmon(\n",
    "    label='T', \n",
    "    max_freq=parameters_set[p_set][\"max_freq_t\"], \n",
    "    anharm=parameters_set[p_set][\"anharm_t\"],\n",
    "    diel_loss_tan=parameters_set[p_set][\"diel_loss_tan_t\"], #set to zero to check d_1 L1 = d_2 L2\n",
    "    env_thermal_energy=thermal_energy,    \n",
    "    dim_hilbert=levels_t,\n",
    "    dephasing_times=parameters_set[p_set][\"dephasing_times_t\"]\n",
    ")\n",
    "\n",
    "#Fluxonium\n",
    "levels_f = 5\n",
    "\n",
    "flx = pysqkit.qubits.Fluxonium(\n",
    "    label='F', \n",
    "    charge_energy=parameters_set[p_set][\"charge_energy_f\"], \n",
    "    induct_energy=parameters_set[p_set][\"induct_energy_f\"], \n",
    "    joseph_energy=parameters_set[p_set][\"joseph_energy_f\"], #8.0, \n",
    "    diel_loss_tan=parameters_set[p_set][\"diel_loss_tan_f\"], #set to zero to check d_1 L1 = d_2 L2\n",
    "    env_thermal_energy=thermal_energy,\n",
    "    dephasing_times= parameters_set[p_set][\"dephasing_times_f\"] #ns/2*np.pi \n",
    ")\n",
    "flx.diagonalize_basis(levels_f)\n",
    "\n",
    "# We also add a drive on the fluxonium\n",
    "flx.add_drive(\n",
    "    pysqkit.drives.microwave_drive,\n",
    "    label='cz_drive_f',\n",
    "    pulse=pysqkit.drives.pulses.cos_modulation,\n",
    "    pulse_shape=pysqkit.drives.pulse_shapes.gaussian_top\n",
    ")\n",
    "\n",
    "d_leak = levels_t*levels_f - d_comp\n",
    "\n",
    "jc = parameters_set[p_set][\"jc\"]\n",
    "coupled_sys = transm.couple_to(flx, coupling=pysqkit.couplers.capacitive_coupling, strength=jc)\n",
    "bare_system = transm.couple_to(flx, coupling=pysqkit.couplers.capacitive_coupling, strength=0.0)\n",
    "\n",
    "freq_flx = flx.state('1')[0] - flx.state('0')[0]\n",
    "freq_03_flx = flx.state('3')[0] - flx.state('0')[0]\n",
    "freq_34_flx = flx.state('4')[0] - flx.state('3')[0]\n",
    "\n",
    "state_label = [\"00\", \"01\", \"10\", \"11\"]\n",
    "comp_states = {}\n",
    "for label in state_label:\n",
    "    state_tmp = coupled_sys.state(label)[1]\n",
    "    loc = np.argmax(np.abs(state_tmp))\n",
    "    phase = cmath.phase(state_tmp[loc])\n",
    "    state_tmp = np.exp(-1j*phase)*state_tmp\n",
    "    comp_states[label] = state_tmp\n",
    "\n",
    "eps_drive = 0.6 #parameter taken in simulations"
   ]
  },
  {
   "cell_type": "code",
   "execution_count": 4,
   "id": "120cc6e1",
   "metadata": {},
   "outputs": [],
   "source": [
    "def mu_yz_flx(\n",
    "    comp_states: Dict, \n",
    "    system: QubitSystem\n",
    ") -> float:\n",
    "    \n",
    "    \"\"\"\n",
    "    Description\n",
    "    --------------------------------------------------------------\n",
    "    Returns the YZ coefficient associated with the charge \n",
    "    operator of the fluxonium in the dressed basis.\n",
    "    \"\"\"\n",
    "    \n",
    "    op = coupled_sys[\"F\"].charge_op()\n",
    "    yz0 = get_mat_elem(op, comp_states['00'], comp_states['10'])\n",
    "    yz1 = get_mat_elem(op, comp_states['01'], comp_states['11'] )\n",
    "    return (np.imag(yz0 - yz1))/2\n",
    "\n",
    "def gate_time_cr(\n",
    "    comp_states: Dict, \n",
    "    system: QubitSystem, \n",
    "    eps_drive: float\n",
    ") -> float:\n",
    "    \n",
    "    \"\"\"\n",
    "    Description\n",
    "    --------------------------------------------------------------\n",
    "    Returns the gate time for an ideal cross-resonance gate with\n",
    "    constant envelope.\n",
    "    \"\"\"\n",
    "    \n",
    "    coeff = np.abs(mu_yz_flx(comp_states, system))*eps_drive/2\n",
    "    return 1/(8*coeff)  \n",
    "    \n",
    "\n",
    "def zz(\n",
    "    system: QubitSystem\n",
    ") -> float:\n",
    "    \n",
    "    \"\"\"\n",
    "    Description\n",
    "    --------------------------------------------------------------\n",
    "    Returns the residual ZZ coupling at zero drive.\n",
    "    \"\"\"\n",
    "    \n",
    "    xi_zz = system.state('00')[0] + system.state('11')[0] \\\n",
    "        - system.state('01')[0] - system.state('10')[0]\n",
    "    return xi_zz\n",
    "\n",
    "def delta(\n",
    "    system: QubitSystem\n",
    ") -> float:\n",
    "    \n",
    "    \"\"\"\n",
    "    Description\n",
    "    --------------------------------------------------------------\n",
    "    Returns the parameter Delta that determines the gate speed \n",
    "    of the CPHASE gate.\n",
    "    \"\"\"\n",
    "        \n",
    "    delta_gate = (system.state('13')[0] - system.state('10')[0]) - \\\n",
    "        (system.state('03')[0] - system.state('00')[0])\n",
    "    return delta_gate "
   ]
  },
  {
   "cell_type": "markdown",
   "id": "c4636edf",
   "metadata": {},
   "source": [
    "The following is a list of the relevant parameters"
   ]
  },
  {
   "cell_type": "code",
   "execution_count": 6,
   "id": "d506c67a",
   "metadata": {},
   "outputs": [
    {
     "data": {
      "text/latex": [
       "$\\omega_{01, flx}/2 \\pi = 0.582 \\, \\mathrm{GHz}$"
      ],
      "text/plain": [
       "<IPython.core.display.Latex object>"
      ]
     },
     "metadata": {},
     "output_type": "display_data"
    },
    {
     "data": {
      "text/latex": [
       "$\\omega_{01, transm}/2 \\pi = 5.500 \\, \\mathrm{GHz}$"
      ],
      "text/plain": [
       "<IPython.core.display.Latex object>"
      ]
     },
     "metadata": {},
     "output_type": "display_data"
    },
    {
     "data": {
      "text/latex": [
       "$\\omega_{34, flx}/2 \\pi = 3.290 \\, \\mathrm{GHz}$"
      ],
      "text/plain": [
       "<IPython.core.display.Latex object>"
      ]
     },
     "metadata": {},
     "output_type": "display_data"
    },
    {
     "data": {
      "text/latex": [
       "$\\omega_{03, flx}/2 \\pi = 6.574 \\, \\mathrm{GHz}$"
      ],
      "text/plain": [
       "<IPython.core.display.Latex object>"
      ]
     },
     "metadata": {},
     "output_type": "display_data"
    },
    {
     "data": {
      "text/latex": [
       "$\\xi_{ZZ}/h = 0.118 \\, \\mathrm{MHz}$"
      ],
      "text/plain": [
       "<IPython.core.display.Latex object>"
      ]
     },
     "metadata": {},
     "output_type": "display_data"
    },
    {
     "data": {
      "text/latex": [
       "$t_{gate}^{(CR)} = 154.299 \\, \\mathrm{ns}$"
      ],
      "text/plain": [
       "<IPython.core.display.Latex object>"
      ]
     },
     "metadata": {},
     "output_type": "display_data"
    },
    {
     "data": {
      "text/latex": [
       "$\\Delta/h = 0.174 \\, \\mathrm{MHz}$"
      ],
      "text/plain": [
       "<IPython.core.display.Latex object>"
      ]
     },
     "metadata": {},
     "output_type": "display_data"
    },
    {
     "data": {
      "text/latex": [
       "$T_{1,transm} = 101.719 \\, \\mu s$"
      ],
      "text/plain": [
       "<IPython.core.display.Latex object>"
      ]
     },
     "metadata": {},
     "output_type": "display_data"
    },
    {
     "data": {
      "text/latex": [
       "$T_{1,flx}^{1 \\mapsto 0} = 126.331 \\, \\mu s$"
      ],
      "text/plain": [
       "<IPython.core.display.Latex object>"
      ]
     },
     "metadata": {},
     "output_type": "display_data"
    },
    {
     "data": {
      "text/latex": [
       "$T_{1,flx}^{0 \\mapsto 1} = 510.362 \\, \\mu s$"
      ],
      "text/plain": [
       "<IPython.core.display.Latex object>"
      ]
     },
     "metadata": {},
     "output_type": "display_data"
    },
    {
     "data": {
      "text/latex": [
       "$T_{1,flx}^{3 \\mapsto 0} = 20.116 \\, \\mu s$"
      ],
      "text/plain": [
       "<IPython.core.display.Latex object>"
      ]
     },
     "metadata": {},
     "output_type": "display_data"
    },
    {
     "data": {
      "text/latex": [
       "$T_{1,flx}^{0 \\mapsto 3} = 142922972.411 \\, \\mu s$"
      ],
      "text/plain": [
       "<IPython.core.display.Latex object>"
      ]
     },
     "metadata": {},
     "output_type": "display_data"
    }
   ],
   "source": [
    "display(Latex(r'$\\omega_{{01, flx}}/2 \\pi = {:.3f} \\, \\mathrm{{GHz}}$'.format(freq_flx)))\n",
    "display(Latex(r'$\\omega_{{01, transm}}/2 \\pi = {:.3f} \\, \\mathrm{{GHz}}$'.format(transm.max_freq)))\n",
    "display(Latex(r'$\\omega_{{34, flx}}/2 \\pi = {:.3f} \\, \\mathrm{{GHz}}$'.format(freq_34_flx)))\n",
    "display(Latex(r'$\\omega_{{03, flx}}/2 \\pi = {:.3f} \\, \\mathrm{{GHz}}$'.format(freq_03_flx)))\n",
    "display(Latex(r'$\\xi_{{ZZ}}/h = {:.3f} \\, \\mathrm{{MHz}}$'.format(1e3*zz(coupled_sys))))\n",
    "display(Latex(r'$t_{{gate}}^{{(CR)}} = {:.3f} \\, \\mathrm{{ns}}$'.format(gate_time_cr(comp_states, coupled_sys, eps_drive))))\n",
    "display(Latex(r'$\\Delta/h = {:.3f} \\, \\mathrm{{MHz}}$'.format(1e3*delta(coupled_sys))))\n",
    "display(Latex(r'$T_{{1,transm}} = {:.3f} \\, \\mu s$'.format(1e-3*1/(2*np.pi*transm.loss_rates(0, 1)[0]))))\n",
    "display(Latex(r'$T_{{1,flx}}^{{1 \\mapsto 0}} = {:.3f} \\, \\mu s$'.format(1e-3*1/(2*np.pi*flx.loss_rates(0, 1)[0]))))\n",
    "display(Latex(r'$T_{{1,flx}}^{{0 \\mapsto 1}} = {:.3f} \\, \\mu s$'.format(1e-3*1/(2*np.pi*flx.loss_rates(0, 1)[1]))))\n",
    "display(Latex(r'$T_{{1,flx}}^{{3 \\mapsto 0}} = {:.3f} \\, \\mu s$'.format(1e-3*1/(2*np.pi*flx.loss_rates(0, 3)[0]))))\n",
    "display(Latex(r'$T_{{1,flx}}^{{0 \\mapsto 3}} = {:.3f} \\, \\mu s$'.format(1e-3*1/(2*np.pi*flx.loss_rates(0, 3)[1]))))"
   ]
  },
  {
   "cell_type": "code",
   "execution_count": null,
   "id": "e70fb4f0",
   "metadata": {},
   "outputs": [],
   "source": []
  }
 ],
 "metadata": {
  "kernelspec": {
   "display_name": "Python 3.7.3 64-bit ('base': conda)",
   "language": "python",
   "name": "python37364bitbaseconda36d0b2465ec04527ba16a77ef6d99d0e"
  },
  "language_info": {
   "codemirror_mode": {
    "name": "ipython",
    "version": 3
   },
   "file_extension": ".py",
   "mimetype": "text/x-python",
   "name": "python",
   "nbconvert_exporter": "python",
   "pygments_lexer": "ipython3",
   "version": "3.7.11"
  }
 },
 "nbformat": 4,
 "nbformat_minor": 5
}
