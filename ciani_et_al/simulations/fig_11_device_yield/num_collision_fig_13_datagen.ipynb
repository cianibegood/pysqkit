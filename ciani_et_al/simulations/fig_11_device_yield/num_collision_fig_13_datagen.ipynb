{
 "cells": [
  {
   "cell_type": "code",
   "execution_count": 1,
   "metadata": {},
   "outputs": [],
   "source": [
    "from pathlib import Path\n",
    "\n",
    "import numpy as np\n",
    "import xarray as xr\n",
    "\n",
    "from layouts import Layout\n",
    "from layouts.library import surface_code\n",
    "from layouts.util import (\n",
    "    set_freq_groups, \n",
    "    set_transmon_target_freqs, \n",
    "    set_fluxonium_target_params, \n",
    "    sample_params, \n",
    "    get_num_collisions\n",
    ")"
   ]
  },
  {
   "cell_type": "code",
   "execution_count": 2,
   "metadata": {},
   "outputs": [],
   "source": [
    "NOTEBOOK_DIR = Path.cwd()\n",
    "\n",
    "DATA_FOLDER = NOTEBOOK_DIR / \"data\"\n",
    "DATA_FOLDER.mkdir(parents=True, exist_ok=True)"
   ]
  },
  {
   "cell_type": "markdown",
   "metadata": {},
   "source": [
    "# INVESTIGATE COLLISION TYPE"
   ]
  },
  {
   "cell_type": "code",
   "execution_count": 3,
   "metadata": {},
   "outputs": [],
   "source": [
    "_scan_version = 3"
   ]
  },
  {
   "cell_type": "code",
   "execution_count": 4,
   "metadata": {},
   "outputs": [],
   "source": [
    "MIN_RES_VAR = 1e-3 # Minimum room-temp resistance variation coeff\n",
    "MAX_RES_VAR = 1e-1 # Maximum room-temp resistance variation coeff\n",
    "NUM_RES_VARS = 20 # Number of resistance variables\n",
    "\n",
    "RES_VARS = np.geomspace(MIN_RES_VAR, MAX_RES_VAR, NUM_RES_VARS)\n",
    "\n",
    "NUM_SEEDS = 6000 # Number of seeds to sample the collisions from\n",
    "SEEDS = np.arange(1, NUM_SEEDS + 1)\n",
    "\n",
    "DISTANCE = 3 # The surface code distance\n",
    "\n",
    "NUM_COLLISION_TYPES = 9 # The total number of collisions\n",
    "\n",
    "# The drive label which determined what set of collision bounds to use\n",
    "DRIVE_STR = \"low\" # correspnding to drive amplitude of 100 MHz\n",
    "#DRIVE_STR = \"mid\" # correspnding to drive amplitude of 300 MHz\n",
    "#DRIVE_STR = \"high\" # correspnding to drive amplitude of 500 MHz"
   ]
  },
  {
   "cell_type": "markdown",
   "metadata": {},
   "source": [
    "For the BOUNDS lists below: there are a total of 9 collision types that we have identified to be dominant.\n",
    "\n",
    "Collision type 2 does not a frequency bound associated with the collision (instead it defined an area). As such it is not included in the BOUNDS list.\n",
    "\n",
    "The collisions defined in the BOUNDS therefore correspod to:\n",
    "[type 1, type 3, type 4, type 5, type 6, type 7, type 8, type 9]."
   ]
  },
  {
   "cell_type": "code",
   "execution_count": 5,
   "metadata": {},
   "outputs": [],
   "source": [
    "if DRIVE_STR == \"low\":\n",
    "    # In this case collision type 6 is not bounded (drive is too weak to drive collision) - it is therefore set to 0.\n",
    "    BOUNDS = [0.100, 0.015, 0.005, 0.009, 0.000, 0.005, 0.007, 0.010]\n",
    "elif DRIVE_STR == \"mid\":\n",
    "    # In this case collision type 5 is too close to collision type 4. We instead use the bound of type 4 for both and\n",
    "    # instead set the bound on collision type 5 to 0\n",
    "    BOUNDS = [0.100, 0.040, 0.040, 0, 0.017, 0.015, 0.020, 0.025]\n",
    "elif DRIVE_STR == \"high\":\n",
    "    # In this case collision type 5 is too close to collision type 4. We instead use the bound of type 4 for both and\n",
    "    # instead set the bound on collision type 5 to 0\n",
    "    BOUNDS = [0.100, 0.060, 0.050, 0, 0.035, 0.015, 0.020, 0.050]\n",
    "else:\n",
    "    raise ValueError(\"Unsupported drive strength label, must be either 'low', 'mid' or 'high'.\")"
   ]
  },
  {
   "cell_type": "code",
   "execution_count": 6,
   "metadata": {},
   "outputs": [],
   "source": [
    "GROUP_FREQS = np.array([4.3, 4.7, 5.3, 5.7]) # The four targeted transmon frequencies\n",
    "GROUP_ANHARMS = np.repeat(-0.3, len(GROUP_FREQS)) # Each transmon has the same anharmonicity\n",
    "\n",
    "CHARGE_ENERGY = 1 # The targeted charging energy\n",
    "INDUCT_ENERGY = 1 # The targeted inductive energy\n",
    "JOSEPH_ENERGY = 4 # The targeted josephson energy"
   ]
  },
  {
   "cell_type": "code",
   "execution_count": 7,
   "metadata": {},
   "outputs": [],
   "source": [
    "result = np.zeros((NUM_RES_VARS, NUM_SEEDS, NUM_COLLISION_TYPES), dtype=int)\n",
    "layout = surface_code(DISTANCE, mixed_layout=True)\n",
    "set_freq_groups(layout)\n",
    "\n",
    "set_transmon_target_freqs(layout, GROUP_FREQS, GROUP_ANHARMS)\n",
    "set_fluxonium_target_params(\n",
    "    layout, \n",
    "    charge_energy = CHARGE_ENERGY, \n",
    "    induct_energy = INDUCT_ENERGY, \n",
    "    joseph_energy = JOSEPH_ENERGY\n",
    ")\n",
    "\n",
    "for var_ind, res_var in enumerate(RES_VARS):\n",
    "    for seed_ind, seed in enumerate(SEEDS):\n",
    "        sample_params(layout, seed, res_var, num_junctions=100, num_fluxonium_levels=6)\n",
    "        result[var_ind, seed_ind] = get_num_collisions(layout, BOUNDS)\n",
    "\n",
    "num_collision_arr = xr.DataArray(\n",
    "    result,\n",
    "    dims = [\"resist_var\", \"seed\", \"collision_ind\"],\n",
    "    coords = dict(\n",
    "        distance = DISTANCE,\n",
    "        resist_var = RES_VARS,\n",
    "        seed = SEEDS\n",
    "    )\n",
    ")\n",
    "\n",
    "data_arr_name = f\"mixed_device_num_collisions_d_{DISTANCE}_resist_{MIN_RES_VAR}_{MAX_RES_VAR}_seeds_{NUM_SEEDS}_v{_scan_version}_{DRIVE_STR}_drive.nc\"\n",
    "num_collision_arr.to_netcdf(DATA_FOLDER/data_arr_name)"
   ]
  },
  {
   "cell_type": "code",
   "execution_count": null,
   "metadata": {},
   "outputs": [],
   "source": []
  }
 ],
 "metadata": {
  "jupytext": {
   "formats": "ipynb,py:percent"
  },
  "kernelspec": {
   "display_name": "Python 3",
   "language": "python",
   "name": "python3"
  },
  "language_info": {
   "codemirror_mode": {
    "name": "ipython",
    "version": 3
   },
   "file_extension": ".py",
   "mimetype": "text/x-python",
   "name": "python",
   "nbconvert_exporter": "python",
   "pygments_lexer": "ipython3",
   "version": "3.8.1"
  }
 },
 "nbformat": 4,
 "nbformat_minor": 4
}
