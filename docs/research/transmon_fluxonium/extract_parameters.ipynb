{
 "cells": [
  {
   "cell_type": "markdown",
   "id": "9445da32",
   "metadata": {},
   "source": [
    "# Extracting parameters"
   ]
  },
  {
   "cell_type": "code",
   "execution_count": 1,
   "id": "b299ac61",
   "metadata": {},
   "outputs": [],
   "source": [
    "import numpy as np\n",
    "import time\n",
    "import qutip as qtp\n",
    "import matplotlib.pyplot as plt\n",
    "import scipy.integrate\n",
    "from scipy.optimize import minimize\n",
    "import pysqkit\n",
    "from pysqkit import QubitSystem\n",
    "from pysqkit.util.metrics import average_process_fidelity, \\\n",
    "    average_gate_fidelity\n",
    "from pysqkit.drives.pulse_shapes import gaussian_top\n",
    "from pysqkit.util.phys import temperature_to_thermalenergy\n",
    "from pysqkit.util.quantum import generalized_rabi_frequency\n",
    "import pysqkit.util.transformations as trf\n",
    "from pysqkit.util.hsbasis import weyl_by_index\n",
    "from typing import List, Dict, Callable\n",
    "import matplotlib\n",
    "matplotlib.rcParams['mathtext.fontset'] = 'cm'\n",
    "import cmath\n",
    "import json\n",
    "\n",
    "from IPython.display import display, Latex"
   ]
  },
  {
   "cell_type": "code",
   "execution_count": 2,
   "id": "a28ca25a",
   "metadata": {},
   "outputs": [],
   "source": [
    "with open('flx_transm_params.txt') as param_file:\n",
    "    parameters_set = json.load(param_file)"
   ]
  },
  {
   "cell_type": "code",
   "execution_count": 3,
   "id": "026cd44e",
   "metadata": {},
   "outputs": [],
   "source": [
    "temperature = 0.020 # K\n",
    "thermal_energy = temperature_to_thermalenergy(temperature) # kb T/h in GHz\n",
    "d_comp = 4\n",
    "\n",
    "p_set = \"0\"\n",
    "\n",
    "\n",
    "#Transmon\n",
    "levels_t = 3\n",
    "transm = pysqkit.qubits.SimpleTransmon(\n",
    "    label='T', \n",
    "    max_freq=parameters_set[p_set][\"max_freq_t\"] + 1.3, \n",
    "    anharm=parameters_set[p_set][\"anharm_t\"],\n",
    "    diel_loss_tan=parameters_set[p_set][\"diel_loss_tan_t\"], #set to zero to check d_1 L1 = d_2 L2\n",
    "    env_thermal_energy=thermal_energy,    \n",
    "    dim_hilbert=levels_t,\n",
    "    dephasing_times=parameters_set[p_set][\"dephasing_times_t\"]\n",
    ")\n",
    "\n",
    "#Fluxonium\n",
    "levels_f = 5\n",
    "\n",
    "flx = pysqkit.qubits.Fluxonium(\n",
    "    label='F', \n",
    "    charge_energy=parameters_set[p_set][\"charge_energy_f\"], \n",
    "    induct_energy=parameters_set[p_set][\"induct_energy_f\"], \n",
    "    joseph_energy=parameters_set[p_set][\"joseph_energy_f\"], #8.0, \n",
    "    diel_loss_tan=parameters_set[p_set][\"diel_loss_tan_f\"], #set to zero to check d_1 L1 = d_2 L2\n",
    "    env_thermal_energy=thermal_energy,\n",
    "    dephasing_times= parameters_set[p_set][\"dephasing_times_f\"] #ns/2*np.pi \n",
    ")\n",
    "flx.diagonalize_basis(levels_f)\n",
    "\n",
    "# We also add a drive on the fluxonium\n",
    "flx.add_drive(\n",
    "    pysqkit.drives.microwave_drive,\n",
    "    label='cz_drive_f',\n",
    "    pulse=pysqkit.drives.pulses.cos_modulation,\n",
    "    pulse_shape=pysqkit.drives.pulse_shapes.gaussian_top\n",
    ")\n",
    "\n",
    "d_leak = levels_t*levels_f - d_comp\n",
    "\n",
    "jc = parameters_set[p_set][\"jc\"]\n",
    "coupled_sys = transm.couple_to(flx, coupling=pysqkit.couplers.capacitive_coupling, strength=jc)\n",
    "bare_system = transm.couple_to(flx, coupling=pysqkit.couplers.capacitive_coupling, strength=0.0)\n",
    "\n",
    "freq_flx = flx.state('1')[0] - flx.state('0')[0]\n",
    "freq_03_flx = flx.state('3')[0] - flx.state('0')[0]\n",
    "freq_34_flx = flx.state('4')[0] - flx.state('3')[0]"
   ]
  },
  {
   "cell_type": "code",
   "execution_count": 4,
   "id": "86aa0c64",
   "metadata": {},
   "outputs": [
    {
     "data": {
      "text/plain": [
       "{'max_freq_t': 4.37,\n",
       " 'anharm_t': -0.3,\n",
       " 'diel_loss_tan_t': 3e-07,\n",
       " 'dephasing_times_t': {'1': 314159.26535897935, '2': 188495.55921538756},\n",
       " 'charge_energy_f': 1.0,\n",
       " 'induct_energy_f': 0.5,\n",
       " 'joseph_energy_f': 8.0,\n",
       " 'diel_loss_tan_f': 3.5e-06,\n",
       " 'dephasing_times_f': {'1': 1256637.0614359174,\n",
       "  '2': 125663.70614359173,\n",
       "  '3': 125663.70614359173,\n",
       "  '4': 31415.926535897932},\n",
       " 'jc': 0.03}"
      ]
     },
     "execution_count": 4,
     "metadata": {},
     "output_type": "execute_result"
    }
   ],
   "source": [
    "parameters_set[p_set]"
   ]
  },
  {
   "cell_type": "code",
   "execution_count": 5,
   "id": "120cc6e1",
   "metadata": {},
   "outputs": [],
   "source": [
    "def zz(system: QubitSystem) -> float:\n",
    "    xi_zz = system.state('00')[0] + system.state('11')[0] \\\n",
    "        - system.state('01')[0] - system.state('10')[0]\n",
    "    return xi_zz\n",
    "\n",
    "def delta(system: QubitSystem) -> float:\n",
    "    delta_gate = (system.state('13')[0] - system.state('10')[0]) - \\\n",
    "        (system.state('03')[0] - system.state('00')[0])\n",
    "    return delta_gate "
   ]
  },
  {
   "cell_type": "code",
   "execution_count": 6,
   "id": "d506c67a",
   "metadata": {},
   "outputs": [
    {
     "data": {
      "text/latex": [
       "$\\omega_{01, flx}/2 \\pi = 0.030 \\, \\mathrm{GHz}$"
      ],
      "text/plain": [
       "<IPython.core.display.Latex object>"
      ]
     },
     "metadata": {},
     "output_type": "display_data"
    },
    {
     "data": {
      "text/latex": [
       "$\\omega_{01, transm}/2 \\pi = 5.670 \\, \\mathrm{GHz}$"
      ],
      "text/plain": [
       "<IPython.core.display.Latex object>"
      ]
     },
     "metadata": {},
     "output_type": "display_data"
    },
    {
     "data": {
      "text/latex": [
       "$\\omega_{34, flx}/2 \\pi = 4.336 \\, \\mathrm{GHz}$"
      ],
      "text/plain": [
       "<IPython.core.display.Latex object>"
      ]
     },
     "metadata": {},
     "output_type": "display_data"
    },
    {
     "data": {
      "text/latex": [
       "$\\omega_{03, flx}/2 \\pi = 7.263 \\, \\mathrm{GHz}$"
      ],
      "text/plain": [
       "<IPython.core.display.Latex object>"
      ]
     },
     "metadata": {},
     "output_type": "display_data"
    },
    {
     "data": {
      "text/latex": [
       "$\\xi_{ZZ}/h = -0.202 \\, \\mathrm{MHz}$"
      ],
      "text/plain": [
       "<IPython.core.display.Latex object>"
      ]
     },
     "metadata": {},
     "output_type": "display_data"
    },
    {
     "data": {
      "text/latex": [
       "$\\Delta/h = 1.115 \\, \\mathrm{MHz}$"
      ],
      "text/plain": [
       "<IPython.core.display.Latex object>"
      ]
     },
     "metadata": {},
     "output_type": "display_data"
    },
    {
     "data": {
      "text/latex": [
       "$T_{1,transm} = 98.516 \\, \\mu s$"
      ],
      "text/plain": [
       "<IPython.core.display.Latex object>"
      ]
     },
     "metadata": {},
     "output_type": "display_data"
    },
    {
     "data": {
      "text/latex": [
       "$T_{1,flx}^{1 \\mapsto 0} = 3699.652 \\, \\mu s$"
      ],
      "text/plain": [
       "<IPython.core.display.Latex object>"
      ]
     },
     "metadata": {},
     "output_type": "display_data"
    },
    {
     "data": {
      "text/latex": [
       "$T_{1,flx}^{0 \\mapsto 1} = 3976.729 \\, \\mu s$"
      ],
      "text/plain": [
       "<IPython.core.display.Latex object>"
      ]
     },
     "metadata": {},
     "output_type": "display_data"
    },
    {
     "data": {
      "text/latex": [
       "$T_{1,flx}^{3 \\mapsto 0} = 6.516 \\, \\mu s$"
      ],
      "text/plain": [
       "<IPython.core.display.Latex object>"
      ]
     },
     "metadata": {},
     "output_type": "display_data"
    },
    {
     "data": {
      "text/latex": [
       "$T_{1,flx}^{0 \\mapsto 3} = 241630382.639 \\, \\mu s$"
      ],
      "text/plain": [
       "<IPython.core.display.Latex object>"
      ]
     },
     "metadata": {},
     "output_type": "display_data"
    }
   ],
   "source": [
    "display(Latex(r'$\\omega_{{01, flx}}/2 \\pi = {:.3f} \\, \\mathrm{{GHz}}$'.format(freq_flx)))\n",
    "display(Latex(r'$\\omega_{{01, transm}}/2 \\pi = {:.3f} \\, \\mathrm{{GHz}}$'.format(transm.max_freq)))\n",
    "display(Latex(r'$\\omega_{{34, flx}}/2 \\pi = {:.3f} \\, \\mathrm{{GHz}}$'.format(freq_34_flx)))\n",
    "display(Latex(r'$\\omega_{{03, flx}}/2 \\pi = {:.3f} \\, \\mathrm{{GHz}}$'.format(freq_03_flx)))\n",
    "display(Latex(r'$\\xi_{{ZZ}}/h = {:.3f} \\, \\mathrm{{MHz}}$'.format(1e3*zz(coupled_sys))))\n",
    "display(Latex(r'$\\Delta/h = {:.3f} \\, \\mathrm{{MHz}}$'.format(1e3*delta(coupled_sys))))\n",
    "display(Latex(r'$T_{{1,transm}} = {:.3f} \\, \\mu s$'.format(1e-3*1/(2*np.pi*transm.loss_rates(0, 1)[0]))))\n",
    "display(Latex(r'$T_{{1,flx}}^{{1 \\mapsto 0}} = {:.3f} \\, \\mu s$'.format(1e-3*1/(2*np.pi*flx.loss_rates(0, 1)[0]))))\n",
    "display(Latex(r'$T_{{1,flx}}^{{0 \\mapsto 1}} = {:.3f} \\, \\mu s$'.format(1e-3*1/(2*np.pi*flx.loss_rates(0, 1)[1]))))\n",
    "display(Latex(r'$T_{{1,flx}}^{{3 \\mapsto 0}} = {:.3f} \\, \\mu s$'.format(1e-3*1/(2*np.pi*flx.loss_rates(0, 3)[0]))))\n",
    "display(Latex(r'$T_{{1,flx}}^{{0 \\mapsto 3}} = {:.3f} \\, \\mu s$'.format(1e-3*1/(2*np.pi*flx.loss_rates(0, 3)[1]))))"
   ]
  },
  {
   "cell_type": "code",
   "execution_count": null,
   "id": "2b81740a",
   "metadata": {},
   "outputs": [],
   "source": []
  },
  {
   "cell_type": "code",
   "execution_count": null,
   "id": "6fb82de5",
   "metadata": {},
   "outputs": [],
   "source": []
  }
 ],
 "metadata": {
  "kernelspec": {
   "display_name": "Python 3.7.3 64-bit ('base': conda)",
   "language": "python",
   "name": "python37364bitbaseconda36d0b2465ec04527ba16a77ef6d99d0e"
  },
  "language_info": {
   "codemirror_mode": {
    "name": "ipython",
    "version": 3
   },
   "file_extension": ".py",
   "mimetype": "text/x-python",
   "name": "python",
   "nbconvert_exporter": "python",
   "pygments_lexer": "ipython3",
   "version": "3.7.11"
  }
 },
 "nbformat": 4,
 "nbformat_minor": 5
}
