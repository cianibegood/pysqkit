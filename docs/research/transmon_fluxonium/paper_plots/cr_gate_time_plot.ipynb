{
 "cells": [
  {
   "cell_type": "markdown",
   "id": "bf0dc4d7",
   "metadata": {},
   "source": [
    "# Cross-resonance gate time plot"
   ]
  },
  {
   "cell_type": "code",
   "execution_count": 37,
   "id": "7eda37d0",
   "metadata": {},
   "outputs": [],
   "source": [
    "import numpy as np\n",
    "import time\n",
    "import matplotlib.pyplot as plt\n",
    "from scipy import constants\n",
    "from typing import List, Dict, Callable\n",
    "import matplotlib\n",
    "matplotlib.rcParams['mathtext.fontset'] = 'cm'\n",
    "import copy\n",
    "import json\n",
    "\n",
    "from IPython.display import display, Latex"
   ]
  },
  {
   "cell_type": "code",
   "execution_count": 38,
   "id": "d9c1e5ec",
   "metadata": {},
   "outputs": [],
   "source": [
    "p_set = \"2\"\n",
    "with open('cr_gate_time_data/fid_leak_gate_time_p_set_' + p_set + '.txt') as file_data:\n",
    "    result = json.load(file_data)\n"
   ]
  },
  {
   "cell_type": "code",
   "execution_count": 39,
   "id": "ee534e6b",
   "metadata": {},
   "outputs": [],
   "source": [
    "def plot_cr_gate_time(\n",
    "    result: dict,\n",
    "    p_set: str,\n",
    "    plot_setup={'fs': 20, 'lw': 2.0, 'lw_levels': 3.0, 'ls': 16, 'fsl':16},\n",
    "    save=False\n",
    "):\n",
    "    gate_time_list = []\n",
    "    infid_list = []\n",
    "    leak_list = []\n",
    "    for res in result:\n",
    "        gate_time_list.append(res[\"gate_time\"])\n",
    "        infid_list.append(1 - res[\"gate_fid\"])\n",
    "        leak_list.append(res[\"avg_leakage\"])\n",
    "    fig, ax = plt.subplots(figsize=(8, 8))\n",
    "    colors_dict = {\"0\": 'black', '1': 'red', '2':'blue'}\n",
    "    ax.semilogy(gate_time_list, infid_list, linewidth=plot_setup[\"lw\"], color='black', label='$1-F_{\\mathrm{gate}}$')\n",
    "    ax.semilogy(gate_time_list, leak_list, linewidth=plot_setup[\"lw\"], color='black', linestyle='--', label='$L_1$')\n",
    "    ax.set_xlabel('$t_{\\mathrm{gate}} \\, (\\\\mathrm{ns})$', fontsize=plot_setup[\"fs\"])\n",
    "    x_ticks = [130, 132, 134, 136, 138, 140, 142, 144, 146, 148]\n",
    "    x_ticks_latex = ['$130$', '$132$', '$134$', '$136$', '$138$', '$140$', '$142$', '$144$', '$146$', '$148$']\n",
    "    plt.xticks(x_ticks, x_ticks_latex)\n",
    "    y_ticks = [0.01, 0.001, 0.0001, 0.00001, 0.000001]\n",
    "    y_ticks_latex = ['$10^{-2}$', '$10^{-3}$', '$10^{-4}$', '$10^{-5}$', '$10^{-6}$']\n",
    "    plt.yticks(y_ticks, y_ticks_latex)\n",
    "    #ax.set_ylabel('$\\\\xi_{ZZ}/2 \\\\pi \\, (\\\\mathrm{MHz})$', fontsize=plot_setup['fs'])\n",
    "    ax.tick_params(axis='both', labelsize=plot_setup[\"ls\"])\n",
    "    plt.legend(loc='best', fontsize=plot_setup[\"fsl\"], bbox_to_anchor=(0.72,0.5))\n",
    "    if save:\n",
    "        plt.savefig(\"cr_gate_time_fig_p_set_\" + p_set + \".svg\")\n",
    "    plt.show()"
   ]
  },
  {
   "cell_type": "code",
   "execution_count": 36,
   "id": "4f26dbdd",
   "metadata": {},
   "outputs": [
    {
     "data": {
      "image/png": "[encoded data removed]",
      "text/plain": [
       "<Figure size 576x576 with 1 Axes>"
      ]
     },
     "metadata": {
      "needs_background": "light"
     },
     "output_type": "display_data"
    }
   ],
   "source": [
    "plot_cr_gate_time(result, p_set, save=True)"
   ]
  },
  {
   "cell_type": "code",
   "execution_count": 26,
   "id": "fc6963ce",
   "metadata": {},
   "outputs": [
    {
     "name": "stdout",
     "output_type": "stream",
     "text": [
      "Maximum gate fidelity = 0.9968641169941032\n"
     ]
    }
   ],
   "source": [
    "gate_time_list = []\n",
    "infid_list = []\n",
    "leak_list = []\n",
    "for res in result:\n",
    "    gate_time_list.append(res[\"gate_time\"])\n",
    "    infid_list.append(1 - res[\"gate_fid\"])\n",
    "    leak_list.append(res[\"avg_leakage\"])\n",
    "max_fid = 1.0 - min(infid_list)\n",
    "print(\"Maximum gate fidelity = {}\".format(max_fid))"
   ]
  },
  {
   "cell_type": "code",
   "execution_count": null,
   "id": "d53c5be6",
   "metadata": {},
   "outputs": [],
   "source": []
  }
 ],
 "metadata": {
  "kernelspec": {
   "display_name": "Python 3.7.3 64-bit ('base': conda)",
   "language": "python",
   "name": "python37364bitbaseconda36d0b2465ec04527ba16a77ef6d99d0e"
  },
  "language_info": {
   "codemirror_mode": {
    "name": "ipython",
    "version": 3
   },
   "file_extension": ".py",
   "mimetype": "text/x-python",
   "name": "python",
   "nbconvert_exporter": "python",
   "pygments_lexer": "ipython3",
   "version": "3.7.11"
  }
 },
 "nbformat": 4,
 "nbformat_minor": 5
}
