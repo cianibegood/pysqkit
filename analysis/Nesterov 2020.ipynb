{
 "cells": [
  {
   "cell_type": "code",
   "execution_count": 1,
   "id": "c7cea4fe",
   "metadata": {},
   "outputs": [
    {
     "data": {
      "text/html": [
       "\n",
       "\n",
       "<style>\n",
       "    div#notebook-container    { width: 90%; }\n",
       "    div#menubar-container     { width: 65%; }\n",
       "    div#maintoolbar-container { width: 99%; }\n",
       "</style>\n"
      ],
      "text/plain": [
       "<IPython.core.display.HTML object>"
      ]
     },
     "metadata": {},
     "output_type": "display_data"
    },
    {
     "data": {
      "application/javascript": [
       "if (!(\"Notification\" in window)) {\n",
       "    alert(\"This browser does not support desktop notifications, so the %%notify magic will not work.\");\n",
       "} else if (Notification.permission !== 'granted' && Notification.permission !== 'denied') {\n",
       "    Notification.requestPermission(function (permission) {\n",
       "        if(!('permission' in Notification)) {\n",
       "            Notification.permission = permission;\n",
       "        }\n",
       "    })\n",
       "}\n"
      ],
      "text/plain": [
       "<IPython.core.display.Javascript object>"
      ]
     },
     "metadata": {},
     "output_type": "display_data"
    }
   ],
   "source": [
    "from IPython.display import display, HTML\n",
    "\n",
    "display(HTML(data=\"\"\"\n",
    "\n",
    "<style>\n",
    "    div#notebook-container    { width: 90%; }\n",
    "    div#menubar-container     { width: 65%; }\n",
    "    div#maintoolbar-container { width: 99%; }\n",
    "</style>\n",
    "\"\"\"))\n",
    "\n",
    "%reload_ext jupyternotify\n",
    "\n",
    "#%notify"
   ]
  },
  {
   "cell_type": "code",
   "execution_count": 2,
   "id": "71be6427",
   "metadata": {},
   "outputs": [],
   "source": [
    "import numpy as np\n",
    "import sys\n",
    "from qutip import *\n",
    "import matplotlib.pyplot as plt\n",
    "from pathlib import Path\n",
    "\n",
    "from scipy import linalg as la\n",
    "\n",
    "parent_path = \"..\"  #str(Path(__file__).resolve().parents[1])\n",
    "sys.path.append(parent_path)\n",
    "\n",
    "import pysqkit\n",
    "\n",
    "\n",
    "import time\n",
    "import os\n",
    "\n",
    "from pysqkit.solvers.solvkit import integrate\n",
    "\n",
    "%matplotlib notebook\n",
    "plt.rcParams['figure.figsize'] = (10, 7)"
   ]
  },
  {
   "cell_type": "code",
   "execution_count": 3,
   "id": "4395602d",
   "metadata": {},
   "outputs": [],
   "source": [
    "from math import pi\n",
    "\n",
    "h = 6.62607 * 10**(-34)\n",
    "h_bar = h/(2*pi)\n",
    "e = 1.6071766*10**(-19)\n",
    "phi_0 = h/(2*e)\n",
    "\n"
   ]
  },
  {
   "cell_type": "code",
   "execution_count": 4,
   "id": "ea81f5e2",
   "metadata": {},
   "outputs": [],
   "source": [
    "N = 100"
   ]
  },
  {
   "cell_type": "markdown",
   "id": "5da37ace",
   "metadata": {},
   "source": [
    "# Init"
   ]
  },
  {
   "cell_type": "code",
   "execution_count": 5,
   "id": "78e208b6",
   "metadata": {},
   "outputs": [],
   "source": [
    "J_c = 300*10**6 *h\n",
    "lam = .5"
   ]
  },
  {
   "cell_type": "code",
   "execution_count": 6,
   "id": "d3e4ee4e",
   "metadata": {},
   "outputs": [],
   "source": [
    "t = np.linspace(0, 400, 2000) * 10**(-9) #in nano seconds"
   ]
  },
  {
   "cell_type": "markdown",
   "id": "40cb928c",
   "metadata": {},
   "source": [
    "$$\\hat{H} = \\hat{H}^{(0)}_A + \\hat{H}^{(0)}_B + \\hat{V} + \\hat{H}_{drive}$$"
   ]
  },
  {
   "cell_type": "markdown",
   "id": "3982e4be",
   "metadata": {},
   "source": [
    "## flxA\n",
    "\n"
   ]
  },
  {
   "cell_type": "markdown",
   "id": "44d4a9d0",
   "metadata": {},
   "source": [
    "$$\\hat{H}^{(0)}_A = 4 E_{C,A} \\cdot \\hat{n}^2_A + \\frac{1}{2}E_{L,A}\\cdot\\hat{\\varphi}^2_A - E_{J,A}\\cos\\left(\\hat{\\varphi}_A - \\phi_{ext,A}\\right)$$"
   ]
  },
  {
   "cell_type": "code",
   "execution_count": 7,
   "id": "543b9c30",
   "metadata": {},
   "outputs": [],
   "source": [
    "e_c_A = 1*10**9 *h\n",
    "e_l_A = 1.5*10**9 *h\n",
    "e_j_A = 3.8*10**9 *h\n",
    "  \n",
    "flux_A = 1/2  # 1/2 -> pi dans le cos\n",
    "\n",
    "flxA = pysqkit.qubits.Fluxonium(label = \"QBA\",\n",
    "                               charge_energy=e_c_A,\n",
    "                               induct_energy=e_l_A,\n",
    "                               joseph_energy=e_j_A,\n",
    "                               flux=flux_A,\n",
    "                               basis=None,\n",
    "                               dim_hilbert=N)"
   ]
  },
  {
   "cell_type": "code",
   "execution_count": 9,
   "id": "c8ee40d5",
   "metadata": {},
   "outputs": [
    {
     "ename": "ValueError",
     "evalue": "The transformaton matrix should be a 2D square matrix, with the same dimensionality as the basis, instead got a 2 dimensional matrix",
     "output_type": "error",
     "traceback": [
      "\u001b[1;31m---------------------------------------------------------------------------\u001b[0m",
      "\u001b[1;31mValueError\u001b[0m                                Traceback (most recent call last)",
      "\u001b[1;32m<ipython-input-9-71972da0c18c>\u001b[0m in \u001b[0;36m<module>\u001b[1;34m\u001b[0m\n\u001b[0;32m      1\u001b[0m \u001b[0meig_enegies\u001b[0m\u001b[1;33m,\u001b[0m \u001b[0meig_states\u001b[0m \u001b[1;33m=\u001b[0m \u001b[0mflxA\u001b[0m\u001b[1;33m.\u001b[0m\u001b[0meig_states\u001b[0m\u001b[1;33m(\u001b[0m\u001b[0mlevels\u001b[0m\u001b[1;33m=\u001b[0m\u001b[1;36m5\u001b[0m\u001b[1;33m)\u001b[0m\u001b[1;33m\u001b[0m\u001b[1;33m\u001b[0m\u001b[0m\n\u001b[1;32m----> 2\u001b[1;33m \u001b[0mflxA\u001b[0m\u001b[1;33m.\u001b[0m\u001b[0mbasis\u001b[0m\u001b[1;33m.\u001b[0m\u001b[0mtransform\u001b[0m\u001b[1;33m(\u001b[0m\u001b[0meig_states\u001b[0m\u001b[1;33m)\u001b[0m\u001b[1;33m\u001b[0m\u001b[1;33m\u001b[0m\u001b[0m\n\u001b[0m",
      "\u001b[1;32m~\\Git\\QuTech 2021\\pysqkit\\pysqkit\\bases\\basis.py\u001b[0m in \u001b[0;36mtransform\u001b[1;34m(self, transform_mat)\u001b[0m\n\u001b[0;32m    141\u001b[0m                 \u001b[1;34m\"with the same dimensionality as the basis, \"\u001b[0m\u001b[1;33m\u001b[0m\u001b[1;33m\u001b[0m\u001b[0m\n\u001b[0;32m    142\u001b[0m                 \"instead got a {} dimensional matrix\".format(\n\u001b[1;32m--> 143\u001b[1;33m                     \u001b[0mlen\u001b[0m\u001b[1;33m(\u001b[0m\u001b[0mtransform_mat\u001b[0m\u001b[1;33m.\u001b[0m\u001b[0mshape\u001b[0m\u001b[1;33m)\u001b[0m\u001b[1;33m\u001b[0m\u001b[1;33m\u001b[0m\u001b[0m\n\u001b[0m\u001b[0;32m    144\u001b[0m                 )\n\u001b[0;32m    145\u001b[0m             )\n",
      "\u001b[1;31mValueError\u001b[0m: The transformaton matrix should be a 2D square matrix, with the same dimensionality as the basis, instead got a 2 dimensional matrix"
     ]
    }
   ],
   "source": [
    "eig_enegies, eig_states = flxA.eig_states(levels=5)\n",
    "flxA.basis.transform(eig_states)"
   ]
  },
  {
   "cell_type": "code",
   "execution_count": 10,
   "id": "e233ef70",
   "metadata": {},
   "outputs": [
    {
     "data": {
      "text/plain": [
       "array([ 3.12560598,  4.2772998 ,  7.55777961, 10.81091566, 14.50310188,\n",
       "       18.35763955, 22.30068932, 26.25193133, 30.14840206, 33.93656752])"
      ]
     },
     "execution_count": 10,
     "metadata": {},
     "output_type": "execute_result"
    }
   ],
   "source": [
    "#Bare energies\n",
    "\n",
    "bare_E_A = flxA.eig_energies()\n",
    "bare_E_A/(h*10**9)"
   ]
  },
  {
   "cell_type": "code",
   "execution_count": 11,
   "id": "225e5d1a",
   "metadata": {},
   "outputs": [
    {
     "data": {
      "text/plain": [
       "(1.1516938223021156, 3.2804798038301763)"
      ]
     },
     "execution_count": 11,
     "metadata": {},
     "output_type": "execute_result"
    }
   ],
   "source": [
    "# transitions freqs\n",
    "\n",
    "omega_01_A = bare_E_A[1] - bare_E_A[0]\n",
    "omega_12_A = bare_E_A[2] - bare_E_A[1]\n",
    "\n",
    "omega_01_A/(h*10**9) , omega_12_A/(h*10**9) "
   ]
  },
  {
   "cell_type": "code",
   "execution_count": 12,
   "id": "625eeda2",
   "metadata": {},
   "outputs": [
    {
     "data": {
      "text/plain": [
       "(array([[0.  , 0.25, 0.  , 0.26, 0.  ],\n",
       "        [0.25, 0.  , 0.61, 0.  , 0.18],\n",
       "        [0.  , 0.61, 0.  , 0.75, 0.  ],\n",
       "        [0.26, 0.  , 0.75, 0.  , 0.94],\n",
       "        [0.  , 0.18, 0.  , 0.94, 0.  ]]),\n",
       " 0.24866384335580308,\n",
       " 0.24866384335580308)"
      ]
     },
     "execution_count": 12,
     "metadata": {},
     "output_type": "execute_result"
    }
   ],
   "source": [
    "# mat elements :\n",
    "\n",
    "n_10_A = np.abs(flxA.mat_elements('charge_op', levels = 5)).data[1,0]\n",
    "n_01_A = np.abs(flxA.mat_elements('charge_op', levels = 5)).data[0,1]\n",
    "\n",
    "np.round(np.abs(flxA.mat_elements('charge_op', levels = 5)).data, 2), n_01_A, n_10_A"
   ]
  },
  {
   "cell_type": "markdown",
   "id": "7a7913c9",
   "metadata": {
    "heading_collapsed": true
   },
   "source": [
    "### Rq)"
   ]
  },
  {
   "cell_type": "code",
   "execution_count": null,
   "id": "00cb674e",
   "metadata": {
    "hidden": true
   },
   "outputs": [],
   "source": [
    "plt.figure()\n",
    "for i in range(len(bare_E_A)):\n",
    "    plt.scatter(i, bare_E_A[i])"
   ]
  },
  {
   "cell_type": "code",
   "execution_count": null,
   "id": "081d39f3",
   "metadata": {
    "hidden": true
   },
   "outputs": [],
   "source": [
    "flxA.charge_op(as_qobj = True)"
   ]
  },
  {
   "cell_type": "code",
   "execution_count": null,
   "id": "b0f84240",
   "metadata": {
    "hidden": true
   },
   "outputs": [],
   "source": [
    "flxA.charge_zpf*(create(100) - destroy(100))*1j"
   ]
  },
  {
   "cell_type": "code",
   "execution_count": null,
   "id": "1251af83",
   "metadata": {
    "hidden": true
   },
   "outputs": [],
   "source": [
    "flxA.charge_op(as_qobj = True)"
   ]
  },
  {
   "cell_type": "code",
   "execution_count": null,
   "id": "8c7fde22",
   "metadata": {
    "hidden": true
   },
   "outputs": [],
   "source": [
    "flxA.hamiltonian(as_qobj = True)/(h*10**9)"
   ]
  },
  {
   "cell_type": "markdown",
   "id": "3e37efc4",
   "metadata": {
    "heading_collapsed": true
   },
   "source": [
    "## flxB"
   ]
  },
  {
   "cell_type": "markdown",
   "id": "50832955",
   "metadata": {
    "hidden": true
   },
   "source": [
    "$$\\hat{H}^{(0)}_B = 4 E_{C,B} \\cdot \\hat{n}^2_B + \\frac{1}{2}E_{L,B}\\cdot\\hat{\\varphi}^2_B - E_{J,B}\\cos\\left(\\hat{\\varphi}_B - \\phi_{ext,B}\\right)$$"
   ]
  },
  {
   "cell_type": "code",
   "execution_count": 13,
   "id": "f14a63a4",
   "metadata": {
    "hidden": true
   },
   "outputs": [],
   "source": [
    "e_c_B = 1*10**9 *h\n",
    "e_l_B = .9*10**9 *h\n",
    "e_j_B = 3*10**9 *h\n",
    "\n",
    "flux_B = 1/2\n",
    "\n",
    "flxB = pysqkit.qubits.Fluxonium(label = \"QBB\",\n",
    "                               charge_energy=e_c_B,\n",
    "                               induct_energy=e_l_B,\n",
    "                               joseph_energy=e_j_B,\n",
    "                               flux=flux_B,\n",
    "                               basis=None,\n",
    "                               dim_hilbert=N)"
   ]
  },
  {
   "cell_type": "code",
   "execution_count": 14,
   "id": "e8e200c3",
   "metadata": {
    "hidden": true
   },
   "outputs": [
    {
     "ename": "ValueError",
     "evalue": "The transformaton matrix should be a 2D square matrix, with the same dimensionality as the basis, instead got a 2 dimensional matrix",
     "output_type": "error",
     "traceback": [
      "\u001b[1;31m---------------------------------------------------------------------------\u001b[0m",
      "\u001b[1;31mValueError\u001b[0m                                Traceback (most recent call last)",
      "\u001b[1;32m<ipython-input-14-f20305527785>\u001b[0m in \u001b[0;36m<module>\u001b[1;34m\u001b[0m\n\u001b[0;32m      1\u001b[0m \u001b[0meig_enegies\u001b[0m\u001b[1;33m,\u001b[0m \u001b[0meig_states\u001b[0m \u001b[1;33m=\u001b[0m \u001b[0mflxB\u001b[0m\u001b[1;33m.\u001b[0m\u001b[0meig_states\u001b[0m\u001b[1;33m(\u001b[0m\u001b[0mlevels\u001b[0m\u001b[1;33m=\u001b[0m\u001b[1;36m5\u001b[0m\u001b[1;33m)\u001b[0m\u001b[1;33m\u001b[0m\u001b[1;33m\u001b[0m\u001b[0m\n\u001b[1;32m----> 2\u001b[1;33m \u001b[0mflxB\u001b[0m\u001b[1;33m.\u001b[0m\u001b[0mbasis\u001b[0m\u001b[1;33m.\u001b[0m\u001b[0mtransform\u001b[0m\u001b[1;33m(\u001b[0m\u001b[0meig_states\u001b[0m\u001b[1;33m)\u001b[0m\u001b[1;33m\u001b[0m\u001b[1;33m\u001b[0m\u001b[0m\n\u001b[0m",
      "\u001b[1;32m~\\Git\\QuTech 2021\\pysqkit\\pysqkit\\bases\\basis.py\u001b[0m in \u001b[0;36mtransform\u001b[1;34m(self, transform_mat)\u001b[0m\n\u001b[0;32m    141\u001b[0m                 \u001b[1;34m\"with the same dimensionality as the basis, \"\u001b[0m\u001b[1;33m\u001b[0m\u001b[1;33m\u001b[0m\u001b[0m\n\u001b[0;32m    142\u001b[0m                 \"instead got a {} dimensional matrix\".format(\n\u001b[1;32m--> 143\u001b[1;33m                     \u001b[0mlen\u001b[0m\u001b[1;33m(\u001b[0m\u001b[0mtransform_mat\u001b[0m\u001b[1;33m.\u001b[0m\u001b[0mshape\u001b[0m\u001b[1;33m)\u001b[0m\u001b[1;33m\u001b[0m\u001b[1;33m\u001b[0m\u001b[0m\n\u001b[0m\u001b[0;32m    144\u001b[0m                 )\n\u001b[0;32m    145\u001b[0m             )\n",
      "\u001b[1;31mValueError\u001b[0m: The transformaton matrix should be a 2D square matrix, with the same dimensionality as the basis, instead got a 2 dimensional matrix"
     ]
    }
   ],
   "source": [
    "eig_enegies, eig_states = flxB.eig_states(levels=5)\n",
    "flxB.basis.transform(eig_states)"
   ]
  },
  {
   "cell_type": "code",
   "execution_count": 15,
   "id": "cdf672ac",
   "metadata": {
    "hidden": true
   },
   "outputs": [
    {
     "data": {
      "text/plain": [
       "array([ 2.07847477,  2.92730143,  5.85594017,  8.53943723, 11.62680359,\n",
       "       14.77621367, 17.91620664, 20.9451284 , 23.78622957, 26.398564  ])"
      ]
     },
     "execution_count": 15,
     "metadata": {},
     "output_type": "execute_result"
    }
   ],
   "source": [
    "#Bare energies\n",
    "\n",
    "bare_E_B = flxB.eig_energies()\n",
    "bare_E_B/(h*10**9)"
   ]
  },
  {
   "cell_type": "code",
   "execution_count": 16,
   "id": "876068ee",
   "metadata": {
    "hidden": true
   },
   "outputs": [
    {
     "data": {
      "text/plain": [
       "(0.8488266605312955, 2.928638737997042)"
      ]
     },
     "execution_count": 16,
     "metadata": {},
     "output_type": "execute_result"
    }
   ],
   "source": [
    "# transitions freqs\n",
    "\n",
    "omega_01_B = bare_E_B[1] - bare_E_B[0]\n",
    "omega_12_B = bare_E_B[2] - bare_E_B[1]\n",
    "\n",
    "omega_01_B/(h*10**9) , omega_12_B/(h*10**9) "
   ]
  },
  {
   "cell_type": "code",
   "execution_count": 17,
   "id": "f9732ebf",
   "metadata": {
    "hidden": true
   },
   "outputs": [
    {
     "data": {
      "text/plain": [
       "(array([[0.  , 0.21, 0.  , 0.28, 0.  ],\n",
       "        [0.21, 0.  , 0.57, 0.  , 0.17],\n",
       "        [0.  , 0.57, 0.  , 0.67, 0.  ],\n",
       "        [0.28, 0.  , 0.67, 0.  , 0.86],\n",
       "        [0.  , 0.17, 0.  , 0.86, 0.  ]]),\n",
       " 0.2072248733629435,\n",
       " 0.20722487336294343)"
      ]
     },
     "execution_count": 17,
     "metadata": {},
     "output_type": "execute_result"
    }
   ],
   "source": [
    "# mat elements :\n",
    "\n",
    "n_10_B = np.abs(flxB.mat_elements('charge_op', levels = 5)).data[1,0]\n",
    "n_01_B = np.abs(flxB.mat_elements('charge_op', levels = 5)).data[0,1]\n",
    "\n",
    "np.round(np.abs(flxB.mat_elements('charge_op', levels = 5)).data, 2), n_01_B, n_10_B"
   ]
  },
  {
   "cell_type": "markdown",
   "id": "104c8651",
   "metadata": {},
   "source": [
    "## coupling\n"
   ]
  },
  {
   "cell_type": "markdown",
   "id": "7d65d63f",
   "metadata": {},
   "source": [
    "$$\\hat{V} = J_C \\cdot \\hat{n}_A \\cdot \\hat{n}_B$$"
   ]
  },
  {
   "cell_type": "code",
   "execution_count": 18,
   "id": "1da313d7",
   "metadata": {},
   "outputs": [],
   "source": [
    "g = J_c#J_c/(4*e**2)"
   ]
  },
  {
   "cell_type": "code",
   "execution_count": 19,
   "id": "352bc210",
   "metadata": {},
   "outputs": [],
   "source": [
    "duo = flxA.couple_to(flxB, pysqkit.couplers.capacitive_coupling, strength = g)"
   ]
  },
  {
   "cell_type": "code",
   "execution_count": 20,
   "id": "33d04693",
   "metadata": {},
   "outputs": [
    {
     "data": {
      "text/plain": [
       "array([ 5.20384119,  6.0514322 ,  6.35584493,  7.20120898,  8.98118327,\n",
       "        9.63508529, 10.10111732, 10.5095348 , 11.66444175, 12.7870574 ])"
      ]
     },
     "execution_count": 20,
     "metadata": {},
     "output_type": "execute_result"
    }
   ],
   "source": [
    "duo.eig_energies()/(h*10**9)"
   ]
  },
  {
   "cell_type": "code",
   "execution_count": 21,
   "id": "17a09034",
   "metadata": {},
   "outputs": [],
   "source": [
    "#by default, restricts only to 6 first levels of each qubit -> 36x36 hamiltonians !\n",
    "\n",
    "trunc_levels = {\n",
    "    'QBA': 5 ,\n",
    "    'QBB': 5    \n",
    "}"
   ]
  },
  {
   "cell_type": "code",
   "execution_count": 22,
   "id": "a9270521",
   "metadata": {},
   "outputs": [
    {
     "data": {
      "text/plain": [
       "(25, 25)"
      ]
     },
     "execution_count": 22,
     "metadata": {},
     "output_type": "execute_result"
    }
   ],
   "source": [
    "H_duo_bare = duo.bare_hamiltonian(truncated_levels = trunc_levels)\n",
    "H_duo_bare.shape"
   ]
  },
  {
   "cell_type": "code",
   "execution_count": 23,
   "id": "519c5a32",
   "metadata": {},
   "outputs": [
    {
     "data": {
      "text/plain": [
       "(25, 25)"
      ]
     },
     "execution_count": 23,
     "metadata": {},
     "output_type": "execute_result"
    }
   ],
   "source": [
    "H_duo_int = duo.int_hamiltonian(truncated_levels = trunc_levels)\n",
    "H_duo_int.shape"
   ]
  },
  {
   "cell_type": "code",
   "execution_count": 24,
   "id": "c464999d",
   "metadata": {},
   "outputs": [
    {
     "data": {
      "text/plain": [
       "(25, 25)"
      ]
     },
     "execution_count": 24,
     "metadata": {},
     "output_type": "execute_result"
    }
   ],
   "source": [
    "H_duo_tot = duo.hamiltonian(truncated_levels = trunc_levels)\n",
    "H_duo_tot.shape"
   ]
  },
  {
   "cell_type": "code",
   "execution_count": 49,
   "id": "752b392b",
   "metadata": {},
   "outputs": [
    {
     "data": {
      "text/latex": [
       "Quantum object: dims = [100, 100], shape = (25, 25), type = other\\begin{equation*}\\left(\\begin{array}{*{11}c}3.448\\times10^{-24} & 2.027\\times10^{-57} & -5.399\\times10^{-72} & -2.713\\times10^{-57} & 2.560\\times10^{-72} & \\cdots & -3.501\\times10^{-73} & -1.484\\times10^{-42} & 3.953\\times10^{-57} & 1.986\\times10^{-42} & -1.874\\times10^{-57}\\\\-2.027\\times10^{-57} & 4.011\\times10^{-24} & 5.542\\times10^{-57} & 4.838\\times10^{-73} & -1.693\\times10^{-57} & \\cdots & 1.484\\times10^{-42} & -1.826\\times10^{-73} & -4.058\\times10^{-42} & -3.543\\times10^{-58} & 1.239\\times10^{-42}\\\\5.399\\times10^{-72} & -5.542\\times10^{-57} & 5.951\\times10^{-24} & -6.578\\times10^{-57} & -2.627\\times10^{-72} & \\cdots & -3.953\\times10^{-57} & 4.058\\times10^{-42} & -2.642\\times10^{-73} & 4.816\\times10^{-42} & 1.924\\times10^{-57}\\\\2.713\\times10^{-57} & -4.838\\times10^{-73} & 6.578\\times10^{-57} & 7.729\\times10^{-24} & 8.431\\times10^{-57} & \\cdots & -1.986\\times10^{-42} & 3.543\\times10^{-58} & -4.816\\times10^{-42} & -1.018\\times10^{-73} & -6.174\\times10^{-42}\\\\-2.560\\times10^{-72} & 1.693\\times10^{-57} & 2.627\\times10^{-72} & -8.431\\times10^{-57} & 9.775\\times10^{-24} & \\cdots & 1.874\\times10^{-57} & -1.239\\times10^{-42} & -1.924\\times10^{-57} & 6.174\\times10^{-42} & 6.982\\times10^{-73}\\\\\\vdots & \\vdots & \\vdots & \\vdots & \\vdots & \\ddots & \\vdots & \\vdots & \\vdots & \\vdots & \\vdots\\\\3.501\\times10^{-73} & 1.484\\times10^{-42} & -3.953\\times10^{-57} & -1.986\\times10^{-42} & 1.874\\times10^{-57} & \\cdots & 1.099\\times10^{-23} & 3.797\\times10^{-61} & -1.011\\times10^{-75} & -5.081\\times10^{-61} & 4.794\\times10^{-76}\\\\-1.484\\times10^{-42} & 1.826\\times10^{-73} & 4.058\\times10^{-42} & 3.543\\times10^{-58} & -1.239\\times10^{-42} & \\cdots & -3.797\\times10^{-61} & 1.155\\times10^{-23} & 1.038\\times10^{-60} & 9.062\\times10^{-77} & -3.171\\times10^{-61}\\\\3.953\\times10^{-57} & -4.058\\times10^{-42} & 2.642\\times10^{-73} & -4.816\\times10^{-42} & -1.924\\times10^{-57} & \\cdots & 1.011\\times10^{-75} & -1.038\\times10^{-60} & 1.349\\times10^{-23} & -1.232\\times10^{-60} & -4.921\\times10^{-76}\\\\1.986\\times10^{-42} & -3.543\\times10^{-58} & 4.816\\times10^{-42} & 1.018\\times10^{-73} & 6.174\\times10^{-42} & \\cdots & 5.081\\times10^{-61} & -9.062\\times10^{-77} & 1.232\\times10^{-60} & 1.527\\times10^{-23} & 1.579\\times10^{-60}\\\\-1.874\\times10^{-57} & 1.239\\times10^{-42} & 1.924\\times10^{-57} & -6.174\\times10^{-42} & -6.982\\times10^{-73} & \\cdots & -4.794\\times10^{-76} & 3.171\\times10^{-61} & 4.921\\times10^{-76} & -1.579\\times10^{-60} & 1.731\\times10^{-23}\\\\\\end{array}\\right)\\end{equation*}"
      ],
      "text/plain": [
       "Quantum object: dims = [100, 100], shape = (25, 25), type = other\n",
       "Qobj data =\n",
       "[[ 3.44826033e-24  2.02720873e-57 -5.39887833e-72 -2.71289158e-57\n",
       "   2.55966030e-72  2.41595644e-57  1.02431091e-26 -2.72795292e-41\n",
       "  -1.37077372e-26  1.29334880e-41 -1.81642802e-72 -7.70124417e-42\n",
       "   2.05100144e-56  1.03061121e-41 -9.72399568e-57 -2.52784056e-57\n",
       "  -1.07174725e-26  2.85428575e-41  1.43425492e-26 -1.35324441e-41\n",
       "  -3.50095053e-73 -1.48432388e-42  3.95306309e-57  1.98638141e-42\n",
       "  -1.87418535e-57]\n",
       " [-2.02720873e-57  4.01069882e-24  5.54191804e-57  4.83834457e-73\n",
       "  -1.69283000e-57 -1.02431091e-26  1.25989192e-57  2.80022822e-26\n",
       "   2.44472562e-42 -8.55355550e-27  7.70124417e-42 -9.47245137e-73\n",
       "  -2.10534136e-41 -1.83805803e-57  6.43095945e-42  1.07174725e-26\n",
       "  -1.31823813e-57 -2.92990816e-26 -2.55794206e-42  8.94967484e-27\n",
       "   1.48432388e-42 -1.82570315e-73 -4.05779687e-42 -3.54263981e-58\n",
       "   1.23949150e-42]\n",
       " [ 5.39887833e-72 -5.54191804e-57  5.95123535e-24 -6.57786722e-57\n",
       "  -2.62745421e-72  2.72795292e-41 -2.80022822e-26  1.82327996e-57\n",
       "  -3.32367410e-26 -1.32760380e-41 -2.05100144e-56  2.10534136e-41\n",
       "  -1.37082638e-72  2.49889223e-41  9.98154067e-57 -2.85428575e-41\n",
       "   2.92990816e-26 -1.90771695e-57  3.47759507e-26  1.38908578e-41\n",
       "  -3.95306309e-57  4.05779687e-42 -2.64210598e-73  4.81631970e-42\n",
       "   1.92382410e-57]\n",
       " [ 2.71289158e-57 -4.83834457e-73  6.57786722e-57  7.72933929e-24\n",
       "   8.43148516e-57  1.37077372e-26 -2.44472562e-42  3.32367410e-26\n",
       "   7.02528174e-58  4.26027281e-26 -1.03061121e-41  1.83805803e-57\n",
       "  -2.49889223e-41 -5.28193241e-73 -3.20307055e-41 -1.43425492e-26\n",
       "   2.55794206e-42 -3.47759507e-26 -7.35062598e-58 -4.45756813e-26\n",
       "  -1.98638141e-42  3.54263981e-58 -4.81631970e-42 -1.01803010e-73\n",
       "  -6.17354026e-42]\n",
       " [-2.55966030e-72  1.69283000e-57  2.62745421e-72 -8.43148516e-57\n",
       "   9.77504985e-24 -1.29334880e-41  8.55355550e-27  1.32760380e-41\n",
       "  -4.26027281e-26 -4.81820456e-57  9.72399568e-57 -6.43095945e-42\n",
       "  -9.98154067e-57  3.20307055e-41  3.62254950e-72  1.35324441e-41\n",
       "  -8.94967484e-27 -1.38908578e-41  4.45756813e-26  5.04133797e-57\n",
       "   1.87418535e-57 -1.23949150e-42 -1.92382410e-57  6.17354026e-42\n",
       "   6.98203640e-73]\n",
       " [-2.41595644e-57 -1.02431091e-26  2.72795292e-41  1.37077372e-26\n",
       "  -1.29334880e-41  4.21138072e-24 -8.88545914e-58  2.36638250e-72\n",
       "   1.18908758e-57 -1.12192477e-72  5.91183289e-57  2.50648350e-26\n",
       "  -6.67528668e-41 -3.35427619e-26  3.16481781e-41  1.93535733e-72\n",
       "   8.20547754e-42 -2.18528927e-56 -1.09808973e-41  1.03606672e-56\n",
       "  -1.78570729e-57 -7.57099520e-27  2.01631343e-41  1.01318077e-26\n",
       "  -9.55953649e-42]\n",
       " [ 1.02431091e-26 -1.25989192e-57 -2.80022822e-26 -2.44472562e-42\n",
       "   8.55355550e-27  8.88545914e-58  4.77381921e-24 -2.42907824e-57\n",
       "  -2.12069494e-73  7.41984362e-58 -2.50648350e-26  3.08294900e-57\n",
       "   6.85214397e-26  5.98223095e-42 -2.09305060e-26 -8.20547754e-42\n",
       "   1.00926532e-72  2.24318706e-41  1.95840354e-57 -6.85202185e-42\n",
       "   7.57099520e-27 -9.31224647e-58 -2.06973432e-26 -1.80697147e-42\n",
       "   6.32219445e-27]\n",
       " [-2.72795292e-41  2.80022822e-26 -1.82327996e-57  3.32367410e-26\n",
       "   1.32760380e-41 -2.36638250e-72  2.42907824e-57  6.71435574e-24\n",
       "   2.88314515e-57  1.15163952e-72  6.67528668e-41 -6.85214397e-26\n",
       "   4.46155663e-57 -8.13301332e-26 -3.24863963e-41  2.18528927e-56\n",
       "  -2.24318706e-41  1.46058024e-72 -2.66250538e-41 -1.06350748e-56\n",
       "  -2.01631343e-41  2.06973432e-26 -1.34764198e-57  2.45662917e-26\n",
       "   9.81272569e-42]\n",
       " [-1.37077372e-26  2.44472562e-42 -3.32367410e-26 -7.02528174e-58\n",
       "  -4.26027281e-26 -1.18908758e-57  2.12069494e-73 -2.88314515e-57\n",
       "   8.49245968e-24 -3.69560448e-57  3.35427619e-26 -5.98223095e-42\n",
       "   8.13301332e-26  1.71908281e-57  1.04248655e-25  1.09808973e-41\n",
       "  -1.95840354e-57  2.66250538e-41  5.62776310e-73  3.41278927e-41\n",
       "  -1.01318077e-26  1.80697147e-42 -2.45662917e-26 -5.19260058e-58\n",
       "  -3.14889792e-26]\n",
       " [ 1.29334880e-41 -8.55355550e-27 -1.32760380e-41  4.26027281e-26\n",
       "   4.81820456e-57  1.12192477e-72 -7.41984362e-58 -1.15163952e-72\n",
       "   3.69560448e-57  1.05381702e-23 -3.16481781e-41  2.09305060e-26\n",
       "   3.24863963e-41 -1.04248655e-25 -1.17901216e-56 -1.03606672e-56\n",
       "   6.85202185e-42  1.06350748e-56 -3.41278927e-41 -3.85973329e-72\n",
       "   9.55953649e-42 -6.32219445e-27 -9.81272569e-42  3.14889792e-26\n",
       "   3.56128234e-57]\n",
       " [ 1.81642802e-72  7.70124417e-42 -2.05100144e-56 -1.03061121e-41\n",
       "   9.72399568e-57 -5.91183289e-57 -2.50648350e-26  6.67528668e-41\n",
       "   3.35427619e-26 -3.16481781e-41  6.38504960e-24 -1.01521241e-57\n",
       "   2.70372171e-72  1.35859773e-57 -1.28186055e-72 -7.26877632e-57\n",
       "  -3.08179684e-26  8.20746571e-41  4.12418344e-26 -3.89123867e-41\n",
       "  -6.44588575e-72 -2.73290984e-41  7.27830709e-56  3.65728894e-41\n",
       "  -3.45071561e-56]\n",
       " [-7.70124417e-42  9.47245137e-73  2.10534136e-41  1.83805803e-57\n",
       "  -6.43095945e-42  2.50648350e-26 -3.08294900e-57 -6.85214397e-26\n",
       "  -5.98223095e-42  2.09305060e-26  1.01521241e-57  6.94748809e-24\n",
       "  -2.77535502e-57 -2.42301020e-73  8.47757801e-58  3.08179684e-26\n",
       "  -3.79057851e-57 -8.42491707e-26 -7.35533285e-42  2.57346866e-26\n",
       "   2.73290984e-41 -3.36145108e-72 -7.47114101e-41 -6.52264330e-57\n",
       "   2.28212896e-41]\n",
       " [ 2.05100144e-56 -2.10534136e-41  1.37082638e-72 -2.49889223e-41\n",
       "  -9.98154067e-57 -6.67528668e-41  6.85214397e-26 -4.46155663e-57\n",
       "   8.13301332e-26  3.24863963e-41 -2.70372171e-72  2.77535502e-57\n",
       "   8.88802462e-24  3.29415136e-57  1.31581128e-72 -8.20746571e-41\n",
       "   8.42491707e-26 -5.48561805e-57  9.99978445e-26  3.99430011e-41\n",
       "  -7.27830709e-56  7.47114101e-41 -4.86459696e-72  8.86771930e-41\n",
       "   3.54210957e-56]\n",
       " [ 1.03061121e-41 -1.83805803e-57  2.49889223e-41  5.28193241e-73\n",
       "   3.20307055e-41 -3.35427619e-26  5.98223095e-42 -8.13301332e-26\n",
       "  -1.71908281e-57 -1.04248655e-25 -1.35859773e-57  2.42301020e-73\n",
       "  -3.29415136e-57  1.06661286e-23 -4.22243067e-57 -4.12418344e-26\n",
       "   7.35533285e-42 -9.99978445e-26 -2.11366401e-57 -1.28176856e-25\n",
       "  -3.65728894e-41  6.52264330e-57 -8.86771930e-41 -1.87437831e-72\n",
       "  -1.13666088e-40]\n",
       " [-9.72399568e-57  6.43095945e-42  9.98154067e-57 -3.20307055e-41\n",
       "  -3.62254950e-72  3.16481781e-41 -2.09305060e-26 -3.24863963e-41\n",
       "   1.04248655e-25  1.17901216e-56  1.28186055e-72 -8.47757801e-58\n",
       "  -1.31581128e-72  4.22243067e-57  1.27118391e-23  3.89123867e-41\n",
       "  -2.57346866e-26 -3.99430011e-41  1.28176856e-25  1.44963091e-56\n",
       "   3.45071561e-56 -2.28212896e-41 -3.54210957e-56  1.13666088e-40\n",
       "   1.28551971e-71]\n",
       " [ 2.52784056e-57  1.07174725e-26 -2.85428575e-41 -1.43425492e-26\n",
       "   1.35324441e-41 -1.93535733e-72 -8.20547754e-42  2.18528927e-56\n",
       "   1.09808973e-41 -1.03606672e-56  7.26877632e-57  3.08179684e-26\n",
       "  -8.20746571e-41 -4.12418344e-26  3.89123867e-41  8.54060033e-24\n",
       "   2.53865089e-58 -6.76095512e-73 -3.39732387e-58  3.20543405e-73\n",
       "   9.16150532e-57  3.88427114e-26 -1.03446216e-40 -5.19808656e-26\n",
       "   4.90448491e-41]\n",
       " [-1.07174725e-26  1.31823813e-57  2.92990816e-26  2.55794206e-42\n",
       "  -8.94967484e-27  8.20547754e-42 -1.00926532e-72 -2.24318706e-41\n",
       "  -1.95840354e-57  6.85202185e-42 -3.08179684e-26  3.79057851e-57\n",
       "   8.42491707e-26  7.35533285e-42 -2.57346866e-26 -2.53865089e-58\n",
       "   9.10303881e-24  6.94008215e-58  6.05900495e-74 -2.11991213e-58\n",
       "  -3.88427114e-26  4.77761368e-57  1.06186955e-25  9.27060045e-42\n",
       "  -3.24357853e-26]\n",
       " [ 2.85428575e-41 -2.92990816e-26  1.90771695e-57 -3.47759507e-26\n",
       "  -1.38908578e-41 -2.18528927e-56  2.24318706e-41 -1.46058024e-72\n",
       "   2.66250538e-41  1.06350748e-56  8.20746571e-41 -8.42491707e-26\n",
       "   5.48561805e-57 -9.99978445e-26 -3.99430011e-41  6.76095512e-73\n",
       "  -6.94008215e-58  1.10435753e-23 -8.23738975e-58 -3.29033161e-73\n",
       "   1.03446216e-40 -1.06186955e-25  6.91402743e-57 -1.26036453e-25\n",
       "  -5.03438270e-41]\n",
       " [ 1.43425492e-26 -2.55794206e-42  3.47759507e-26  7.35062598e-58\n",
       "   4.45756813e-26 -1.09808973e-41  1.95840354e-57 -2.66250538e-41\n",
       "  -5.62776310e-73 -3.41278927e-41  4.12418344e-26 -7.35533285e-42\n",
       "   9.99978445e-26  2.11366401e-57  1.28176856e-25  3.39732387e-58\n",
       "  -6.05900495e-74  8.23738975e-58  1.28216793e-23  1.05586548e-57\n",
       "   5.19808656e-26 -9.27060045e-42  1.26036453e-25  2.66404456e-57\n",
       "   1.61553046e-25]\n",
       " [-1.35324441e-41  8.94967484e-27  1.38908578e-41 -4.45756813e-26\n",
       "  -5.04133797e-57  1.03606672e-56 -6.85202185e-42 -1.06350748e-56\n",
       "   3.41278927e-41  3.85973329e-72 -3.89123867e-41  2.57346866e-26\n",
       "   3.99430011e-41 -1.28176856e-25 -1.44963091e-56 -3.20543405e-73\n",
       "   2.11991213e-58  3.29033161e-73 -1.05586548e-57  1.48673898e-23\n",
       "  -4.90448491e-41  3.24357853e-26  5.03438270e-41 -1.61553046e-25\n",
       "  -1.82710276e-56]\n",
       " [ 3.50095053e-73  1.48432388e-42 -3.95306309e-57 -1.98638141e-42\n",
       "   1.87418535e-57  1.78570729e-57  7.57099520e-27 -2.01631343e-41\n",
       "  -1.01318077e-26  9.55953649e-42  6.44588575e-72  2.73290984e-41\n",
       "  -7.27830709e-56 -3.65728894e-41  3.45071561e-56 -9.16150532e-57\n",
       "  -3.88427114e-26  1.03446216e-40  5.19808656e-26 -4.90448491e-41\n",
       "   1.09870688e-23  3.79701263e-61 -1.01122341e-75 -5.08131374e-61\n",
       "   4.79430773e-76]\n",
       " [-1.48432388e-42  1.82570315e-73  4.05779687e-42  3.54263981e-58\n",
       "  -1.23949150e-42 -7.57099520e-27  9.31224647e-58  2.06973432e-26\n",
       "   1.80697147e-42 -6.32219445e-27 -2.73290984e-41  3.36145108e-72\n",
       "   7.47114101e-41  6.52264330e-57 -2.28212896e-41  3.88427114e-26\n",
       "  -4.77761368e-57 -1.06186955e-25 -9.27060045e-42  3.24357853e-26\n",
       "  -3.79701263e-61  1.15495072e-23  1.03801510e-60  9.06234032e-77\n",
       "  -3.17071290e-61]\n",
       " [ 3.95306309e-57 -4.05779687e-42  2.64210598e-73 -4.81631970e-42\n",
       "  -1.92382410e-57  2.01631343e-41 -2.06973432e-26  1.34764198e-57\n",
       "  -2.45662917e-26 -9.81272569e-42  7.27830709e-56 -7.47114101e-41\n",
       "   4.86459696e-72 -8.86771930e-41 -3.54210957e-56 -1.03446216e-40\n",
       "   1.06186955e-25 -6.91402743e-57  1.26036453e-25  5.03438270e-41\n",
       "   1.01122341e-75 -1.03801510e-60  1.34900438e-23 -1.23205097e-60\n",
       "  -4.92128741e-76]\n",
       " [ 1.98638141e-42 -3.54263981e-58  4.81631970e-42  1.01803010e-73\n",
       "   6.17354026e-42  1.01318077e-26 -1.80697147e-42  2.45662917e-26\n",
       "   5.19260058e-58  3.14889792e-26  3.65728894e-41 -6.52264330e-57\n",
       "   8.86771930e-41  1.87437831e-72  1.13666088e-40 -5.19808656e-26\n",
       "   9.27060045e-42 -1.26036453e-25 -2.66404456e-57 -1.61553046e-25\n",
       "   5.08131374e-61 -9.06234032e-77  1.23205097e-60  1.52681477e-23\n",
       "   1.57923824e-60]\n",
       " [-1.87418535e-57  1.23949150e-42  1.92382410e-57 -6.17354026e-42\n",
       "  -6.98203640e-73 -9.55953649e-42  6.32219445e-27  9.81272569e-42\n",
       "  -3.14889792e-26 -3.56128234e-57 -3.45071561e-56  2.28212896e-41\n",
       "   3.54210957e-56 -1.13666088e-40 -1.28551971e-71  4.90448491e-41\n",
       "  -3.24357853e-26 -5.03438270e-41  1.61553046e-25  1.82710276e-56\n",
       "  -4.79430773e-76  3.17071290e-61  4.92128741e-76 -1.57923824e-60\n",
       "   1.73138583e-23]]"
      ]
     },
     "execution_count": 49,
     "metadata": {},
     "output_type": "execute_result"
    }
   ],
   "source": [
    "# hA + hB + V (fixe)\n",
    "#duo hamil to qobj\n",
    "duo_hamil = Qobj(\n",
    "                inpt=H_duo_tot,\n",
    "                dims=[N, N],\n",
    "                shape=H_duo_tot.shape,\n",
    "                type='oper',\n",
    "                isherm=True)\n",
    "\n",
    "duo_hamil"
   ]
  },
  {
   "cell_type": "markdown",
   "id": "f65f4adb",
   "metadata": {
    "heading_collapsed": true
   },
   "source": [
    "### rqs"
   ]
  },
  {
   "cell_type": "raw",
   "id": "ce47fd18",
   "metadata": {
    "hidden": true
   },
   "source": []
  },
  {
   "cell_type": "code",
   "execution_count": null,
   "id": "cacaeabb",
   "metadata": {
    "hidden": true
   },
   "outputs": [],
   "source": []
  },
  {
   "cell_type": "code",
   "execution_count": null,
   "id": "610ebd56",
   "metadata": {
    "hidden": true
   },
   "outputs": [],
   "source": [
    "duo.bare_hamiltonian(), duo.int_hamiltonian()"
   ]
  },
  {
   "cell_type": "code",
   "execution_count": null,
   "id": "2286d9f7",
   "metadata": {
    "hidden": true
   },
   "outputs": [],
   "source": [
    "#Bare energies\n",
    "\n",
    "bare_E_duo = la.eig(duo.bare_hamiltonian())[0].real/h #in Hz\n",
    "bare_E_duo.sort()\n",
    "bare_E_duo = bare_E_duo[:5]*10**(-9)  #in GHz\n",
    "\n",
    "int_E_duo = la.eig(duo.int_hamiltonian())[0].real/h\n",
    "int_E_duo.sort()\n",
    "int_E_duo = int_E_duo[:5]*10**(-9)"
   ]
  },
  {
   "cell_type": "code",
   "execution_count": null,
   "id": "b2444090",
   "metadata": {
    "hidden": true
   },
   "outputs": [],
   "source": [
    "fig, axs = plt.subplots(1,2, figsize = (10,5))\n",
    "\n",
    "axs[0].scatter(range(len(bare_E_duo)), bare_E_duo, c = 'r', label = 'bare')    \n",
    "axs[1].scatter(range(len(int_E_duo)), int_E_duo, c = 'b', label = 'int')\n",
    "\n",
    "axs[0].legend()\n",
    "axs[1].legend()\n",
    "\n",
    "axs[0].set_ylabel(\"E (GHz)\")\n",
    "axs[1].set_ylabel(\"E (GHz)\")"
   ]
  },
  {
   "cell_type": "code",
   "execution_count": null,
   "id": "d9213eb7",
   "metadata": {
    "hidden": true
   },
   "outputs": [],
   "source": [
    "E_duo = bare_E_duo + int_E_duo\n",
    "E_duo.sort()\n",
    "\n",
    "plt.figure()\n",
    "plt.scatter(range(len(E_duo)), E_duo)\n",
    "\n",
    "plt.annotate(\"  |00>\", (0,E_duo[0]))\n",
    "plt.annotate(\"  |01>\", (1,E_duo[1]))\n",
    "plt.annotate(\"  |10>\", (2,E_duo[2]))\n",
    "plt.annotate(\"  |11>\", (3,E_duo[3]))\n",
    "plt.annotate(\"  |??>\", (4,E_duo[4]))\n",
    "\n",
    "\n",
    "\n",
    "\n",
    "plt.ylabel('E (GHz)')"
   ]
  },
  {
   "cell_type": "code",
   "execution_count": null,
   "id": "015ab0b6",
   "metadata": {
    "hidden": true
   },
   "outputs": [],
   "source": [
    "print(\"Ground =\", E_duo[0], \"GHz\\n1st state =\", E_duo[1], \"GHz\\n2nd state =\", E_duo[2], \"GHz\" )\n",
    "\n",
    "print(\"\\n\\nomega 00->01 =\", E_duo[1]-E_duo[0], \"GHz\\nomega 01->10 =\", E_duo[2] - E_duo[1], \"GHz\\nomega 10->11 =\", E_duo[3]-E_duo[2], \"GHz\"\n",
    "     )"
   ]
  },
  {
   "cell_type": "code",
   "execution_count": null,
   "id": "ce5ac804",
   "metadata": {
    "hidden": true
   },
   "outputs": [],
   "source": [
    "duo.hamiltonian()"
   ]
  },
  {
   "cell_type": "markdown",
   "id": "b92c0de7",
   "metadata": {
    "heading_collapsed": true
   },
   "source": [
    "## Drive"
   ]
  },
  {
   "cell_type": "markdown",
   "id": "7d077590",
   "metadata": {
    "hidden": true
   },
   "source": [
    "$$\\hat{H}_{drive} = 2  f\\left( t \\right)  \\cos \\left( \\omega_d t + \\gamma_d\\right) \\cdot \\left( \\eta_A \\cdot \\hat{n}_A + \\eta_B \\cdot \\hat{n}_B \\right)$$\n",
    "\n",
    "$$f\\left( t \\right) = f_0 \\cdot \\dfrac{f\\left( t \\right)}{f_0}$$"
   ]
  },
  {
   "cell_type": "code",
   "execution_count": 27,
   "id": "9d10beb0",
   "metadata": {
    "hidden": true
   },
   "outputs": [],
   "source": [
    "f_0 = lam/2 * np.abs(omega_01_A - omega_01_B) / (n_10_A)"
   ]
  },
  {
   "cell_type": "code",
   "execution_count": 62,
   "id": "eb6398da",
   "metadata": {
    "hidden": true
   },
   "outputs": [],
   "source": [
    "t_rise = 25*10**(-9)\n",
    "sigma = t_rise/2\n",
    "\n",
    "f_by_f0 = np.exp(- (t-t_rise)**2 / (2*sigma**2)) - np.exp(-t_rise**2 /(2*sigma**2))*np.ones(len(t))"
   ]
  },
  {
   "cell_type": "code",
   "execution_count": 63,
   "id": "737f2244",
   "metadata": {
    "hidden": true
   },
   "outputs": [],
   "source": [
    "f = f_0 * f_by_f0\n",
    "\n",
    "omega_d = 2*pi * 1 *10**9\n",
    "gamma_d = 0\n",
    "\n",
    "eta_1 = 1\n",
    "eta_2 = 1"
   ]
  },
  {
   "cell_type": "code",
   "execution_count": 64,
   "id": "0144b480",
   "metadata": {
    "hidden": true
   },
   "outputs": [],
   "source": [
    "n_A = flxA.charge_op(as_qobj = True)\n",
    "n_B = flxB.charge_op(as_qobj = True)"
   ]
  },
  {
   "cell_type": "code",
   "execution_count": 65,
   "id": "66884c9e",
   "metadata": {
    "hidden": true
   },
   "outputs": [],
   "source": [
    "drive = n_A + n_B"
   ]
  },
  {
   "cell_type": "code",
   "execution_count": 66,
   "id": "3d84c3c5",
   "metadata": {
    "hidden": true
   },
   "outputs": [],
   "source": [
    "pulse = 2 * f * np.cos(omega_d*t)"
   ]
  },
  {
   "cell_type": "markdown",
   "id": "2148c272",
   "metadata": {
    "heading_collapsed": true,
    "hidden": true
   },
   "source": [
    "### Rq)"
   ]
  },
  {
   "cell_type": "code",
   "execution_count": null,
   "id": "cc4e1bba",
   "metadata": {
    "hidden": true
   },
   "outputs": [],
   "source": [
    "n_1+n_2 #Rq) only different parity term"
   ]
  },
  {
   "cell_type": "code",
   "execution_count": null,
   "id": "2c7f9cca",
   "metadata": {
    "hidden": true
   },
   "outputs": [],
   "source": [
    "n_1*n_2 #Rq) only same parity terms"
   ]
  },
  {
   "cell_type": "markdown",
   "id": "5ed652fd",
   "metadata": {},
   "source": [
    "# Simu"
   ]
  },
  {
   "cell_type": "markdown",
   "id": "7cb1bcd3",
   "metadata": {
    "heading_collapsed": true
   },
   "source": [
    "##  With Solver"
   ]
  },
  {
   "cell_type": "code",
   "execution_count": 33,
   "id": "62943d32",
   "metadata": {
    "hidden": true
   },
   "outputs": [],
   "source": [
    "#duo hamil to qobj\n",
    "dim = N\n",
    "\n",
    "duo_hamil = Qobj(\n",
    "                inpt=H_duo_tot,\n",
    "                dims=[dim, dim],\n",
    "                shape=H_duo_tot.shape,\n",
    "                type='oper',\n",
    "                isherm=True)"
   ]
  },
  {
   "cell_type": "code",
   "execution_count": 38,
   "id": "65b47005",
   "metadata": {
    "hidden": true
   },
   "outputs": [],
   "source": [
    "time =  t\n",
    "state_init = fock(N,0)\n",
    "hamil = duo_hamil\n",
    "drive = [drive]\n",
    "pulse = [pulse]\n",
    "jump = []\n",
    "solver = pysqkit.solvers.solvkit.supported_solvers[0]"
   ]
  },
  {
   "cell_type": "code",
   "execution_count": 39,
   "id": "4c970adb",
   "metadata": {
    "hidden": true
   },
   "outputs": [
    {
     "ename": "TypeError",
     "evalue": "Incorrect Q_object specification",
     "output_type": "error",
     "traceback": [
      "\u001b[1;31m---------------------------------------------------------------------------\u001b[0m",
      "\u001b[1;31mTypeError\u001b[0m                                 Traceback (most recent call last)",
      "\u001b[1;32m<ipython-input-39-14fd91b6c769>\u001b[0m in \u001b[0;36m<module>\u001b[1;34m\u001b[0m\n\u001b[1;32m----> 1\u001b[1;33m \u001b[0mres\u001b[0m \u001b[1;33m=\u001b[0m \u001b[0mintegrate\u001b[0m\u001b[1;33m(\u001b[0m\u001b[0mtime\u001b[0m\u001b[1;33m,\u001b[0m \u001b[0mstate_init\u001b[0m\u001b[1;33m,\u001b[0m \u001b[0mhamil\u001b[0m\u001b[1;33m,\u001b[0m \u001b[0mdrive\u001b[0m\u001b[1;33m,\u001b[0m \u001b[0mpulse\u001b[0m\u001b[1;33m,\u001b[0m \u001b[0mjump\u001b[0m\u001b[1;33m,\u001b[0m \u001b[0msolver\u001b[0m\u001b[1;33m)\u001b[0m\u001b[1;33m\u001b[0m\u001b[1;33m\u001b[0m\u001b[0m\n\u001b[0m",
      "\u001b[1;32m~\\Git\\QuTech 2021\\pysqkit\\pysqkit\\solvers\\solvkit.py\u001b[0m in \u001b[0;36mintegrate\u001b[1;34m(tlist, state_in, hamil0, drive, pulse, jump_op, solver)\u001b[0m\n\u001b[0;32m     33\u001b[0m \u001b[1;33m\u001b[0m\u001b[0m\n\u001b[0;32m     34\u001b[0m     \u001b[1;32mif\u001b[0m \u001b[0msolver\u001b[0m \u001b[1;33m==\u001b[0m \u001b[1;34m\"mesolve\"\u001b[0m\u001b[1;33m:\u001b[0m\u001b[1;33m\u001b[0m\u001b[1;33m\u001b[0m\u001b[0m\n\u001b[1;32m---> 35\u001b[1;33m         \u001b[0mresult\u001b[0m \u001b[1;33m=\u001b[0m \u001b[0mqtp\u001b[0m\u001b[1;33m.\u001b[0m\u001b[0mmesolve\u001b[0m\u001b[1;33m(\u001b[0m\u001b[0mh\u001b[0m\u001b[1;33m,\u001b[0m \u001b[0mstate_in\u001b[0m\u001b[1;33m,\u001b[0m \u001b[0mtlist\u001b[0m\u001b[1;33m,\u001b[0m \u001b[0mjump_op\u001b[0m\u001b[1;33m)\u001b[0m\u001b[1;33m\u001b[0m\u001b[1;33m\u001b[0m\u001b[0m\n\u001b[0m\u001b[0;32m     36\u001b[0m \u001b[1;33m\u001b[0m\u001b[0m\n\u001b[0;32m     37\u001b[0m     \u001b[1;32mreturn\u001b[0m \u001b[0mresult\u001b[0m\u001b[1;33m\u001b[0m\u001b[1;33m\u001b[0m\u001b[0m\n",
      "\u001b[1;32m~\\anaconda3\\lib\\site-packages\\qutip\\mesolve.py\u001b[0m in \u001b[0;36mmesolve\u001b[1;34m(H, rho0, tlist, c_ops, e_ops, args, options, progress_bar, _safe_mode)\u001b[0m\n\u001b[0;32m    246\u001b[0m     \u001b[1;32mif\u001b[0m \u001b[1;32mnot\u001b[0m \u001b[0muse_mesolve\u001b[0m\u001b[1;33m:\u001b[0m\u001b[1;33m\u001b[0m\u001b[1;33m\u001b[0m\u001b[0m\n\u001b[0;32m    247\u001b[0m         return sesolve(H, rho0, tlist, e_ops=e_ops, args=args, options=options,\n\u001b[1;32m--> 248\u001b[1;33m                     progress_bar=progress_bar, _safe_mode=_safe_mode)\n\u001b[0m\u001b[0;32m    249\u001b[0m \u001b[1;33m\u001b[0m\u001b[0m\n\u001b[0;32m    250\u001b[0m \u001b[1;33m\u001b[0m\u001b[0m\n",
      "\u001b[1;32m~\\anaconda3\\lib\\site-packages\\qutip\\sesolve.py\u001b[0m in \u001b[0;36msesolve\u001b[1;34m(H, psi0, tlist, e_ops, args, options, progress_bar, _safe_mode)\u001b[0m\n\u001b[0;32m    155\u001b[0m         \u001b[0mss\u001b[0m \u001b[1;33m=\u001b[0m \u001b[0mH\u001b[0m\u001b[1;33m\u001b[0m\u001b[1;33m\u001b[0m\u001b[0m\n\u001b[0;32m    156\u001b[0m     \u001b[1;32melif\u001b[0m \u001b[0misinstance\u001b[0m\u001b[1;33m(\u001b[0m\u001b[0mH\u001b[0m\u001b[1;33m,\u001b[0m \u001b[1;33m(\u001b[0m\u001b[0mlist\u001b[0m\u001b[1;33m,\u001b[0m \u001b[0mQobj\u001b[0m\u001b[1;33m,\u001b[0m \u001b[0mQobjEvo\u001b[0m\u001b[1;33m)\u001b[0m\u001b[1;33m)\u001b[0m\u001b[1;33m:\u001b[0m\u001b[1;33m\u001b[0m\u001b[1;33m\u001b[0m\u001b[0m\n\u001b[1;32m--> 157\u001b[1;33m         \u001b[0mss\u001b[0m \u001b[1;33m=\u001b[0m \u001b[0m_sesolve_QobjEvo\u001b[0m\u001b[1;33m(\u001b[0m\u001b[0mH\u001b[0m\u001b[1;33m,\u001b[0m \u001b[0mtlist\u001b[0m\u001b[1;33m,\u001b[0m \u001b[0margs\u001b[0m\u001b[1;33m,\u001b[0m \u001b[0moptions\u001b[0m\u001b[1;33m)\u001b[0m\u001b[1;33m\u001b[0m\u001b[1;33m\u001b[0m\u001b[0m\n\u001b[0m\u001b[0;32m    158\u001b[0m     \u001b[1;32melif\u001b[0m \u001b[0mcallable\u001b[0m\u001b[1;33m(\u001b[0m\u001b[0mH\u001b[0m\u001b[1;33m)\u001b[0m\u001b[1;33m:\u001b[0m\u001b[1;33m\u001b[0m\u001b[1;33m\u001b[0m\u001b[0m\n\u001b[0;32m    159\u001b[0m         \u001b[0mss\u001b[0m \u001b[1;33m=\u001b[0m \u001b[0m_sesolve_func_td\u001b[0m\u001b[1;33m(\u001b[0m\u001b[0mH\u001b[0m\u001b[1;33m,\u001b[0m \u001b[0margs\u001b[0m\u001b[1;33m,\u001b[0m \u001b[0moptions\u001b[0m\u001b[1;33m)\u001b[0m\u001b[1;33m\u001b[0m\u001b[1;33m\u001b[0m\u001b[0m\n",
      "\u001b[1;32m~\\anaconda3\\lib\\site-packages\\qutip\\sesolve.py\u001b[0m in \u001b[0;36m_sesolve_QobjEvo\u001b[1;34m(H, tlist, args, opt)\u001b[0m\n\u001b[0;32m    183\u001b[0m     \u001b[0mPrepare\u001b[0m \u001b[0mthe\u001b[0m \u001b[0msystem\u001b[0m \u001b[1;32mfor\u001b[0m \u001b[0mthe\u001b[0m \u001b[0msolver\u001b[0m\u001b[1;33m,\u001b[0m \u001b[0mH\u001b[0m \u001b[0mcan\u001b[0m \u001b[0mbe\u001b[0m \u001b[0man\u001b[0m \u001b[0mQobjEvo\u001b[0m\u001b[1;33m.\u001b[0m\u001b[1;33m\u001b[0m\u001b[1;33m\u001b[0m\u001b[0m\n\u001b[0;32m    184\u001b[0m     \"\"\"\n\u001b[1;32m--> 185\u001b[1;33m     \u001b[0mH_td\u001b[0m \u001b[1;33m=\u001b[0m \u001b[1;33m-\u001b[0m\u001b[1;36m1.0j\u001b[0m \u001b[1;33m*\u001b[0m \u001b[0mQobjEvo\u001b[0m\u001b[1;33m(\u001b[0m\u001b[0mH\u001b[0m\u001b[1;33m,\u001b[0m \u001b[0margs\u001b[0m\u001b[1;33m,\u001b[0m \u001b[0mtlist\u001b[0m\u001b[1;33m=\u001b[0m\u001b[0mtlist\u001b[0m\u001b[1;33m)\u001b[0m\u001b[1;33m\u001b[0m\u001b[1;33m\u001b[0m\u001b[0m\n\u001b[0m\u001b[0;32m    186\u001b[0m     \u001b[1;32mif\u001b[0m \u001b[0mopt\u001b[0m\u001b[1;33m.\u001b[0m\u001b[0mrhs_with_state\u001b[0m\u001b[1;33m:\u001b[0m\u001b[1;33m\u001b[0m\u001b[1;33m\u001b[0m\u001b[0m\n\u001b[0;32m    187\u001b[0m         \u001b[0mH_td\u001b[0m\u001b[1;33m.\u001b[0m\u001b[0m_check_old_with_state\u001b[0m\u001b[1;33m(\u001b[0m\u001b[1;33m)\u001b[0m\u001b[1;33m\u001b[0m\u001b[1;33m\u001b[0m\u001b[0m\n",
      "\u001b[1;32m~\\anaconda3\\lib\\site-packages\\qutip\\qobjevo.py\u001b[0m in \u001b[0;36m__init__\u001b[1;34m(self, Q_object, args, copy, tlist, state0, e_ops)\u001b[0m\n\u001b[0;32m    484\u001b[0m                 \u001b[0mQ_object\u001b[0m \u001b[1;33m=\u001b[0m \u001b[1;33m[\u001b[0m\u001b[0mQ_object\u001b[0m\u001b[1;33m]\u001b[0m\u001b[1;33m\u001b[0m\u001b[1;33m\u001b[0m\u001b[0m\n\u001b[0;32m    485\u001b[0m \u001b[1;33m\u001b[0m\u001b[0m\n\u001b[1;32m--> 486\u001b[1;33m         \u001b[0mop_type\u001b[0m \u001b[1;33m=\u001b[0m \u001b[0mself\u001b[0m\u001b[1;33m.\u001b[0m\u001b[0m_td_format_check_single\u001b[0m\u001b[1;33m(\u001b[0m\u001b[0mQ_object\u001b[0m\u001b[1;33m,\u001b[0m \u001b[0mtlist\u001b[0m\u001b[1;33m)\u001b[0m\u001b[1;33m\u001b[0m\u001b[1;33m\u001b[0m\u001b[0m\n\u001b[0m\u001b[0;32m    487\u001b[0m         \u001b[0mself\u001b[0m\u001b[1;33m.\u001b[0m\u001b[0mops\u001b[0m \u001b[1;33m=\u001b[0m \u001b[1;33m[\u001b[0m\u001b[1;33m]\u001b[0m\u001b[1;33m\u001b[0m\u001b[1;33m\u001b[0m\u001b[0m\n\u001b[0;32m    488\u001b[0m \u001b[1;33m\u001b[0m\u001b[0m\n",
      "\u001b[1;32m~\\anaconda3\\lib\\site-packages\\qutip\\qobjevo.py\u001b[0m in \u001b[0;36m_td_format_check_single\u001b[1;34m(self, Q_object, tlist)\u001b[0m\n\u001b[0;32m    581\u001b[0m                 \u001b[1;32melif\u001b[0m \u001b[0misinstance\u001b[0m\u001b[1;33m(\u001b[0m\u001b[0mop_k\u001b[0m\u001b[1;33m,\u001b[0m \u001b[0mlist\u001b[0m\u001b[1;33m)\u001b[0m\u001b[1;33m:\u001b[0m\u001b[1;33m\u001b[0m\u001b[1;33m\u001b[0m\u001b[0m\n\u001b[0;32m    582\u001b[0m                     \u001b[1;32mif\u001b[0m \u001b[1;32mnot\u001b[0m \u001b[0misinstance\u001b[0m\u001b[1;33m(\u001b[0m\u001b[0mop_k\u001b[0m\u001b[1;33m[\u001b[0m\u001b[1;36m0\u001b[0m\u001b[1;33m]\u001b[0m\u001b[1;33m,\u001b[0m \u001b[0mQobj\u001b[0m\u001b[1;33m)\u001b[0m\u001b[1;33m:\u001b[0m\u001b[1;33m\u001b[0m\u001b[1;33m\u001b[0m\u001b[0m\n\u001b[1;32m--> 583\u001b[1;33m                         \u001b[1;32mraise\u001b[0m \u001b[0mTypeError\u001b[0m\u001b[1;33m(\u001b[0m\u001b[1;34m\"Incorrect Q_object specification\"\u001b[0m\u001b[1;33m)\u001b[0m\u001b[1;33m\u001b[0m\u001b[1;33m\u001b[0m\u001b[0m\n\u001b[0m\u001b[0;32m    584\u001b[0m                     \u001b[1;32melif\u001b[0m \u001b[0mlen\u001b[0m\u001b[1;33m(\u001b[0m\u001b[0mop_k\u001b[0m\u001b[1;33m)\u001b[0m \u001b[1;33m==\u001b[0m \u001b[1;36m2\u001b[0m\u001b[1;33m:\u001b[0m\u001b[1;33m\u001b[0m\u001b[1;33m\u001b[0m\u001b[0m\n\u001b[0;32m    585\u001b[0m                         \u001b[1;32mif\u001b[0m \u001b[0misinstance\u001b[0m\u001b[1;33m(\u001b[0m\u001b[0mop_k\u001b[0m\u001b[1;33m[\u001b[0m\u001b[1;36m1\u001b[0m\u001b[1;33m]\u001b[0m\u001b[1;33m,\u001b[0m \u001b[0mCubic_Spline\u001b[0m\u001b[1;33m)\u001b[0m\u001b[1;33m:\u001b[0m\u001b[1;33m\u001b[0m\u001b[1;33m\u001b[0m\u001b[0m\n",
      "\u001b[1;31mTypeError\u001b[0m: Incorrect Q_object specification"
     ]
    }
   ],
   "source": [
    "res = integrate(time, state_init, hamil, drive, pulse, jump, solver)"
   ]
  },
  {
   "cell_type": "markdown",
   "id": "75f991ee",
   "metadata": {},
   "source": [
    "## With mesolve"
   ]
  },
  {
   "cell_type": "code",
   "execution_count": 68,
   "id": "dbcffcf3",
   "metadata": {},
   "outputs": [],
   "source": [
    "hamil = [[duo_hamil, np.ones(len(t))], [drive, pulse]]\n",
    "state_in = fock(25,0)\n",
    "t_list = t"
   ]
  },
  {
   "cell_type": "code",
   "execution_count": 69,
   "id": "a7ddb79b",
   "metadata": {},
   "outputs": [
    {
     "data": {
      "text/plain": [
       "array([ 0.00000000e+00,  5.45740567e-28, -2.90003757e-27, ...,\n",
       "        4.42211911e-26, -1.68429371e-26, -5.46105570e-26])"
      ]
     },
     "execution_count": 69,
     "metadata": {},
     "output_type": "execute_result"
    }
   ],
   "source": [
    "len(pulse)\n",
    "pulse"
   ]
  },
  {
   "cell_type": "code",
   "execution_count": 70,
   "id": "e5a8a837",
   "metadata": {},
   "outputs": [
    {
     "ename": "TypeError",
     "evalue": "Qobj not compatible.",
     "output_type": "error",
     "traceback": [
      "\u001b[1;31m---------------------------------------------------------------------------\u001b[0m",
      "\u001b[1;31mTypeError\u001b[0m                                 Traceback (most recent call last)",
      "\u001b[1;32m~\\anaconda3\\lib\\site-packages\\qutip\\qobjevo.py\u001b[0m in \u001b[0;36m__init__\u001b[1;34m(self, Q_object, args, copy, tlist, state0, e_ops)\u001b[0m\n\u001b[0;32m    543\u001b[0m                     \u001b[1;32mfor\u001b[0m \u001b[0mop\u001b[0m \u001b[1;32min\u001b[0m \u001b[0mself\u001b[0m\u001b[1;33m.\u001b[0m\u001b[0mops\u001b[0m\u001b[1;33m[\u001b[0m\u001b[1;36m1\u001b[0m\u001b[1;33m:\u001b[0m\u001b[1;33m]\u001b[0m\u001b[1;33m:\u001b[0m\u001b[1;33m\u001b[0m\u001b[1;33m\u001b[0m\u001b[0m\n\u001b[1;32m--> 544\u001b[1;33m                         \u001b[0mself\u001b[0m\u001b[1;33m.\u001b[0m\u001b[0mcte\u001b[0m \u001b[1;33m+=\u001b[0m \u001b[0mop\u001b[0m\u001b[1;33m.\u001b[0m\u001b[0mqobj\u001b[0m\u001b[1;33m\u001b[0m\u001b[1;33m\u001b[0m\u001b[0m\n\u001b[0m\u001b[0;32m    545\u001b[0m                     \u001b[0mself\u001b[0m\u001b[1;33m.\u001b[0m\u001b[0mcte\u001b[0m \u001b[1;33m*=\u001b[0m \u001b[1;36m0.\u001b[0m\u001b[1;33m\u001b[0m\u001b[1;33m\u001b[0m\u001b[0m\n",
      "\u001b[1;32m~\\anaconda3\\lib\\site-packages\\qutip\\qobj.py\u001b[0m in \u001b[0;36m__add__\u001b[1;34m(self, other)\u001b[0m\n\u001b[0;32m    456\u001b[0m         \u001b[1;32melif\u001b[0m \u001b[0mself\u001b[0m\u001b[1;33m.\u001b[0m\u001b[0mdims\u001b[0m \u001b[1;33m!=\u001b[0m \u001b[0mother\u001b[0m\u001b[1;33m.\u001b[0m\u001b[0mdims\u001b[0m\u001b[1;33m:\u001b[0m\u001b[1;33m\u001b[0m\u001b[1;33m\u001b[0m\u001b[0m\n\u001b[1;32m--> 457\u001b[1;33m             \u001b[1;32mraise\u001b[0m \u001b[0mTypeError\u001b[0m\u001b[1;33m(\u001b[0m\u001b[1;34m'Incompatible quantum object dimensions'\u001b[0m\u001b[1;33m)\u001b[0m\u001b[1;33m\u001b[0m\u001b[1;33m\u001b[0m\u001b[0m\n\u001b[0m\u001b[0;32m    458\u001b[0m \u001b[1;33m\u001b[0m\u001b[0m\n",
      "\u001b[1;31mTypeError\u001b[0m: Incompatible quantum object dimensions",
      "\nThe above exception was the direct cause of the following exception:\n",
      "\u001b[1;31mTypeError\u001b[0m                                 Traceback (most recent call last)",
      "\u001b[1;32m<ipython-input-70-2071363d0cb5>\u001b[0m in \u001b[0;36m<module>\u001b[1;34m\u001b[0m\n\u001b[1;32m----> 1\u001b[1;33m \u001b[0mres\u001b[0m \u001b[1;33m=\u001b[0m \u001b[0mmesolve\u001b[0m\u001b[1;33m(\u001b[0m\u001b[0mhamil\u001b[0m\u001b[1;33m,\u001b[0m \u001b[0mstate_in\u001b[0m\u001b[1;33m,\u001b[0m \u001b[0mt_list\u001b[0m\u001b[1;33m)\u001b[0m\u001b[1;33m\u001b[0m\u001b[1;33m\u001b[0m\u001b[0m\n\u001b[0m",
      "\u001b[1;32m~\\anaconda3\\lib\\site-packages\\qutip\\mesolve.py\u001b[0m in \u001b[0;36mmesolve\u001b[1;34m(H, rho0, tlist, c_ops, e_ops, args, options, progress_bar, _safe_mode)\u001b[0m\n\u001b[0;32m    246\u001b[0m     \u001b[1;32mif\u001b[0m \u001b[1;32mnot\u001b[0m \u001b[0muse_mesolve\u001b[0m\u001b[1;33m:\u001b[0m\u001b[1;33m\u001b[0m\u001b[1;33m\u001b[0m\u001b[0m\n\u001b[0;32m    247\u001b[0m         return sesolve(H, rho0, tlist, e_ops=e_ops, args=args, options=options,\n\u001b[1;32m--> 248\u001b[1;33m                     progress_bar=progress_bar, _safe_mode=_safe_mode)\n\u001b[0m\u001b[0;32m    249\u001b[0m \u001b[1;33m\u001b[0m\u001b[0m\n\u001b[0;32m    250\u001b[0m \u001b[1;33m\u001b[0m\u001b[0m\n",
      "\u001b[1;32m~\\anaconda3\\lib\\site-packages\\qutip\\sesolve.py\u001b[0m in \u001b[0;36msesolve\u001b[1;34m(H, psi0, tlist, e_ops, args, options, progress_bar, _safe_mode)\u001b[0m\n\u001b[0;32m    155\u001b[0m         \u001b[0mss\u001b[0m \u001b[1;33m=\u001b[0m \u001b[0mH\u001b[0m\u001b[1;33m\u001b[0m\u001b[1;33m\u001b[0m\u001b[0m\n\u001b[0;32m    156\u001b[0m     \u001b[1;32melif\u001b[0m \u001b[0misinstance\u001b[0m\u001b[1;33m(\u001b[0m\u001b[0mH\u001b[0m\u001b[1;33m,\u001b[0m \u001b[1;33m(\u001b[0m\u001b[0mlist\u001b[0m\u001b[1;33m,\u001b[0m \u001b[0mQobj\u001b[0m\u001b[1;33m,\u001b[0m \u001b[0mQobjEvo\u001b[0m\u001b[1;33m)\u001b[0m\u001b[1;33m)\u001b[0m\u001b[1;33m:\u001b[0m\u001b[1;33m\u001b[0m\u001b[1;33m\u001b[0m\u001b[0m\n\u001b[1;32m--> 157\u001b[1;33m         \u001b[0mss\u001b[0m \u001b[1;33m=\u001b[0m \u001b[0m_sesolve_QobjEvo\u001b[0m\u001b[1;33m(\u001b[0m\u001b[0mH\u001b[0m\u001b[1;33m,\u001b[0m \u001b[0mtlist\u001b[0m\u001b[1;33m,\u001b[0m \u001b[0margs\u001b[0m\u001b[1;33m,\u001b[0m \u001b[0moptions\u001b[0m\u001b[1;33m)\u001b[0m\u001b[1;33m\u001b[0m\u001b[1;33m\u001b[0m\u001b[0m\n\u001b[0m\u001b[0;32m    158\u001b[0m     \u001b[1;32melif\u001b[0m \u001b[0mcallable\u001b[0m\u001b[1;33m(\u001b[0m\u001b[0mH\u001b[0m\u001b[1;33m)\u001b[0m\u001b[1;33m:\u001b[0m\u001b[1;33m\u001b[0m\u001b[1;33m\u001b[0m\u001b[0m\n\u001b[0;32m    159\u001b[0m         \u001b[0mss\u001b[0m \u001b[1;33m=\u001b[0m \u001b[0m_sesolve_func_td\u001b[0m\u001b[1;33m(\u001b[0m\u001b[0mH\u001b[0m\u001b[1;33m,\u001b[0m \u001b[0margs\u001b[0m\u001b[1;33m,\u001b[0m \u001b[0moptions\u001b[0m\u001b[1;33m)\u001b[0m\u001b[1;33m\u001b[0m\u001b[1;33m\u001b[0m\u001b[0m\n",
      "\u001b[1;32m~\\anaconda3\\lib\\site-packages\\qutip\\sesolve.py\u001b[0m in \u001b[0;36m_sesolve_QobjEvo\u001b[1;34m(H, tlist, args, opt)\u001b[0m\n\u001b[0;32m    183\u001b[0m     \u001b[0mPrepare\u001b[0m \u001b[0mthe\u001b[0m \u001b[0msystem\u001b[0m \u001b[1;32mfor\u001b[0m \u001b[0mthe\u001b[0m \u001b[0msolver\u001b[0m\u001b[1;33m,\u001b[0m \u001b[0mH\u001b[0m \u001b[0mcan\u001b[0m \u001b[0mbe\u001b[0m \u001b[0man\u001b[0m \u001b[0mQobjEvo\u001b[0m\u001b[1;33m.\u001b[0m\u001b[1;33m\u001b[0m\u001b[1;33m\u001b[0m\u001b[0m\n\u001b[0;32m    184\u001b[0m     \"\"\"\n\u001b[1;32m--> 185\u001b[1;33m     \u001b[0mH_td\u001b[0m \u001b[1;33m=\u001b[0m \u001b[1;33m-\u001b[0m\u001b[1;36m1.0j\u001b[0m \u001b[1;33m*\u001b[0m \u001b[0mQobjEvo\u001b[0m\u001b[1;33m(\u001b[0m\u001b[0mH\u001b[0m\u001b[1;33m,\u001b[0m \u001b[0margs\u001b[0m\u001b[1;33m,\u001b[0m \u001b[0mtlist\u001b[0m\u001b[1;33m=\u001b[0m\u001b[0mtlist\u001b[0m\u001b[1;33m)\u001b[0m\u001b[1;33m\u001b[0m\u001b[1;33m\u001b[0m\u001b[0m\n\u001b[0m\u001b[0;32m    186\u001b[0m     \u001b[1;32mif\u001b[0m \u001b[0mopt\u001b[0m\u001b[1;33m.\u001b[0m\u001b[0mrhs_with_state\u001b[0m\u001b[1;33m:\u001b[0m\u001b[1;33m\u001b[0m\u001b[1;33m\u001b[0m\u001b[0m\n\u001b[0;32m    187\u001b[0m         \u001b[0mH_td\u001b[0m\u001b[1;33m.\u001b[0m\u001b[0m_check_old_with_state\u001b[0m\u001b[1;33m(\u001b[0m\u001b[1;33m)\u001b[0m\u001b[1;33m\u001b[0m\u001b[1;33m\u001b[0m\u001b[0m\n",
      "\u001b[1;32m~\\anaconda3\\lib\\site-packages\\qutip\\qobjevo.py\u001b[0m in \u001b[0;36m__init__\u001b[1;34m(self, Q_object, args, copy, tlist, state0, e_ops)\u001b[0m\n\u001b[0;32m    551\u001b[0m                         \u001b[0mcte_copy\u001b[0m \u001b[1;33m+=\u001b[0m \u001b[0mop\u001b[0m\u001b[1;33m.\u001b[0m\u001b[0mqobj\u001b[0m\u001b[1;33m\u001b[0m\u001b[1;33m\u001b[0m\u001b[0m\n\u001b[0;32m    552\u001b[0m             \u001b[1;32mexcept\u001b[0m \u001b[0mException\u001b[0m \u001b[1;32mas\u001b[0m \u001b[0me\u001b[0m\u001b[1;33m:\u001b[0m\u001b[1;33m\u001b[0m\u001b[1;33m\u001b[0m\u001b[0m\n\u001b[1;32m--> 553\u001b[1;33m                 \u001b[1;32mraise\u001b[0m \u001b[0mTypeError\u001b[0m\u001b[1;33m(\u001b[0m\u001b[1;34m\"Qobj not compatible.\"\u001b[0m\u001b[1;33m)\u001b[0m \u001b[1;32mfrom\u001b[0m \u001b[0me\u001b[0m\u001b[1;33m\u001b[0m\u001b[1;33m\u001b[0m\u001b[0m\n\u001b[0m\u001b[0;32m    554\u001b[0m \u001b[1;33m\u001b[0m\u001b[0m\n\u001b[0;32m    555\u001b[0m             \u001b[1;32mif\u001b[0m \u001b[1;32mnot\u001b[0m \u001b[0mself\u001b[0m\u001b[1;33m.\u001b[0m\u001b[0mops\u001b[0m\u001b[1;33m:\u001b[0m\u001b[1;33m\u001b[0m\u001b[1;33m\u001b[0m\u001b[0m\n",
      "\u001b[1;31mTypeError\u001b[0m: Qobj not compatible."
     ]
    }
   ],
   "source": [
    "res = mesolve(hamil, state_in, t_list)"
   ]
  },
  {
   "cell_type": "code",
   "execution_count": 71,
   "id": "86f2d768",
   "metadata": {},
   "outputs": [
    {
     "data": {
      "text/latex": [
       "Quantum object: dims = [[100], [100]], shape = (100, 100), type = oper, isherm = True\\begin{equation*}\\left(\\begin{array}{*{11}c}0.0 & -0.465j & 0.0 & 0.0 & 0.0 & \\cdots & 0.0 & 0.0 & 0.0 & 0.0 & 0.0\\\\0.465j & 0.0 & -0.658j & 0.0 & 0.0 & \\cdots & 0.0 & 0.0 & 0.0 & 0.0 & 0.0\\\\0.0 & 0.658j & 0.0 & -0.806j & 0.0 & \\cdots & 0.0 & 0.0 & 0.0 & 0.0 & 0.0\\\\0.0 & 0.0 & 0.806j & 0.0 & -0.931j & \\cdots & 0.0 & 0.0 & 0.0 & 0.0 & 0.0\\\\0.0 & 0.0 & 0.0 & 0.931j & 0.0 & \\cdots & 0.0 & 0.0 & 0.0 & 0.0 & 0.0\\\\\\vdots & \\vdots & \\vdots & \\vdots & \\vdots & \\ddots & \\vdots & \\vdots & \\vdots & \\vdots & \\vdots\\\\0.0 & 0.0 & 0.0 & 0.0 & 0.0 & \\cdots & 0.0 & -4.559j & 0.0 & 0.0 & 0.0\\\\0.0 & 0.0 & 0.0 & 0.0 & 0.0 & \\cdots & 4.559j & 0.0 & -4.583j & 0.0 & 0.0\\\\0.0 & 0.0 & 0.0 & 0.0 & 0.0 & \\cdots & 0.0 & 4.583j & 0.0 & -4.606j & 0.0\\\\0.0 & 0.0 & 0.0 & 0.0 & 0.0 & \\cdots & 0.0 & 0.0 & 4.606j & 0.0 & -4.630j\\\\0.0 & 0.0 & 0.0 & 0.0 & 0.0 & \\cdots & 0.0 & 0.0 & 0.0 & 4.630j & 0.0\\\\\\end{array}\\right)\\end{equation*}"
      ],
      "text/plain": [
       "Quantum object: dims = [[100], [100]], shape = (100, 100), type = oper, isherm = True\n",
       "Qobj data =\n",
       "[[0.+0.j         0.-0.46530243j 0.+0.j         ... 0.+0.j\n",
       "  0.+0.j         0.+0.j        ]\n",
       " [0.+0.46530243j 0.+0.j         0.-0.65803701j ... 0.+0.j\n",
       "  0.+0.j         0.+0.j        ]\n",
       " [0.+0.j         0.+0.65803701j 0.+0.j         ... 0.+0.j\n",
       "  0.+0.j         0.+0.j        ]\n",
       " ...\n",
       " [0.+0.j         0.+0.j         0.+0.j         ... 0.+0.j\n",
       "  0.-4.60625905j 0.+0.j        ]\n",
       " [0.+0.j         0.+0.j         0.+0.j         ... 0.+4.60625905j\n",
       "  0.+0.j         0.-4.62970072j]\n",
       " [0.+0.j         0.+0.j         0.+0.j         ... 0.+0.j\n",
       "  0.+4.62970072j 0.+0.j        ]]"
      ]
     },
     "execution_count": 71,
     "metadata": {},
     "output_type": "execute_result"
    }
   ],
   "source": [
    "n_A"
   ]
  },
  {
   "cell_type": "code",
   "execution_count": 72,
   "id": "89d8d566",
   "metadata": {},
   "outputs": [
    {
     "data": {
      "text/latex": [
       "Quantum object: dims = [[100], [100]], shape = (100, 100), type = oper, isherm = True\\begin{equation*}\\left(\\begin{array}{*{11}c}0.217 & 0.0 & -0.306 & 0.0 & 0.0 & \\cdots & 0.0 & 0.0 & 0.0 & 0.0 & 0.0\\\\0.0 & 0.650 & 0.0 & -0.530 & 0.0 & \\cdots & 0.0 & 0.0 & 0.0 & 0.0 & 0.0\\\\-0.306 & 0.0 & 1.083 & 0.0 & -0.750 & \\cdots & 0.0 & 0.0 & 0.0 & 0.0 & 0.0\\\\0.0 & -0.530 & 0.0 & 1.516 & 0.0 & \\cdots & 0.0 & 0.0 & 0.0 & 0.0 & 0.0\\\\0.0 & 0.0 & -0.750 & 0.0 & 1.949 & \\cdots & 0.0 & 0.0 & 0.0 & 0.0 & 0.0\\\\\\vdots & \\vdots & \\vdots & \\vdots & \\vdots & \\ddots & \\vdots & \\vdots & \\vdots & \\vdots & \\vdots\\\\0.0 & 0.0 & 0.0 & 0.0 & 0.0 & \\cdots & 41.353 & 0.0 & -20.893 & 0.0 & 0.0\\\\0.0 & 0.0 & 0.0 & 0.0 & 0.0 & \\cdots & 0.0 & 41.786 & 0.0 & -21.109 & 0.0\\\\0.0 & 0.0 & 0.0 & 0.0 & 0.0 & \\cdots & -20.893 & 0.0 & 42.219 & 0.0 & -21.326\\\\0.0 & 0.0 & 0.0 & 0.0 & 0.0 & \\cdots & 0.0 & -21.109 & 0.0 & 42.652 & 0.0\\\\0.0 & 0.0 & 0.0 & 0.0 & 0.0 & \\cdots & 0.0 & 0.0 & -21.326 & 0.0 & 21.434\\\\\\end{array}\\right)\\end{equation*}"
      ],
      "text/plain": [
       "Quantum object: dims = [[100], [100]], shape = (100, 100), type = oper, isherm = True\n",
       "Qobj data =\n",
       "[[  0.21650635   0.          -0.30618622 ...   0.           0.\n",
       "    0.        ]\n",
       " [  0.           0.64951905   0.         ...   0.           0.\n",
       "    0.        ]\n",
       " [ -0.30618622   0.           1.08253175 ...   0.           0.\n",
       "    0.        ]\n",
       " ...\n",
       " [  0.           0.           0.         ...  42.21873843   0.\n",
       "  -21.32560081]\n",
       " [  0.           0.           0.         ...   0.          42.65175114\n",
       "    0.        ]\n",
       " [  0.           0.           0.         ... -21.32560081   0.\n",
       "   21.43412874]]"
      ]
     },
     "execution_count": 72,
     "metadata": {},
     "output_type": "execute_result"
    }
   ],
   "source": [
    "n_A**2"
   ]
  },
  {
   "cell_type": "code",
   "execution_count": 79,
   "id": "95737466",
   "metadata": {},
   "outputs": [
    {
     "data": {
      "text/latex": [
       "Quantum object: dims = [[100], [100]], shape = (100, 100), type = oper, isherm = True\\begin{equation*}\\left(\\begin{array}{*{11}c}0.191 & 0.0 & -0.269 & 0.0 & 0.0 & \\cdots & 0.0 & 0.0 & 0.0 & 0.0 & 0.0\\\\0.0 & 0.572 & 0.0 & -0.467 & 0.0 & \\cdots & 0.0 & 0.0 & 0.0 & 0.0 & 0.0\\\\-0.269 & 0.0 & 0.953 & 0.0 & -0.660 & \\cdots & 0.0 & 0.0 & 0.0 & 0.0 & 0.0\\\\0.0 & -0.467 & 0.0 & 1.334 & 0.0 & \\cdots & 0.0 & 0.0 & 0.0 & 0.0 & 0.0\\\\0.0 & 0.0 & -0.660 & 0.0 & 1.715 & \\cdots & 0.0 & 0.0 & 0.0 & 0.0 & 0.0\\\\\\vdots & \\vdots & \\vdots & \\vdots & \\vdots & \\ddots & \\vdots & \\vdots & \\vdots & \\vdots & \\vdots\\\\0.0 & 0.0 & 0.0 & 0.0 & 0.0 & \\cdots & 36.395 & 0.0 & -18.388 & 0.0 & 0.0\\\\0.0 & 0.0 & 0.0 & 0.0 & 0.0 & \\cdots & 0.0 & 36.776 & 0.0 & -18.578 & 0.0\\\\0.0 & 0.0 & 0.0 & 0.0 & 0.0 & \\cdots & -18.388 & 0.0 & 37.157 & 0.0 & -18.769\\\\0.0 & 0.0 & 0.0 & 0.0 & 0.0 & \\cdots & 0.0 & -18.578 & 0.0 & 37.538 & 0.0\\\\0.0 & 0.0 & 0.0 & 0.0 & 0.0 & \\cdots & 0.0 & 0.0 & -18.769 & 0.0 & 18.864\\\\\\end{array}\\right)\\end{equation*}"
      ],
      "text/plain": [
       "Quantum object: dims = [[100], [100]], shape = (100, 100), type = oper, isherm = True\n",
       "Qobj data =\n",
       "[[  0.19054978   0.          -0.26947808 ...   0.           0.\n",
       "    0.        ]\n",
       " [  0.           0.57164934   0.         ...   0.           0.\n",
       "    0.        ]\n",
       " [ -0.26947808   0.           0.9527489  ...   0.           0.\n",
       "    0.        ]\n",
       " ...\n",
       " [  0.           0.           0.         ...  37.15720721   0.\n",
       "  -18.76891157]\n",
       " [  0.           0.           0.         ...   0.          37.53830677\n",
       "    0.        ]\n",
       " [  0.           0.           0.         ... -18.76891157   0.\n",
       "   18.86442828]]"
      ]
     },
     "execution_count": 79,
     "metadata": {},
     "output_type": "execute_result"
    }
   ],
   "source": [
    "n_A*n_B"
   ]
  },
  {
   "cell_type": "code",
   "execution_count": 80,
   "id": "a84c657e",
   "metadata": {},
   "outputs": [
    {
     "data": {
      "text/plain": [
       "array([[ 9.50679085e-66+0.j,  5.11222423e-33+0.j, -1.40005346e-47+0.j,\n",
       "        ...,  1.08429544e-05+0.j, -3.18983819e-20+0.j,\n",
       "        -3.66989002e-06+0.j],\n",
       "       [-5.11222423e-33+0.j,  4.79852499e-65+0.j,  1.39756342e-32+0.j,\n",
       "        ...,  8.47972464e-20+0.j, -3.33985592e-07+0.j,\n",
       "         3.59386802e-19+0.j],\n",
       "       [ 1.40005346e-47+0.j, -1.39756342e-32+0.j,  2.14519249e-63+0.j,\n",
       "        ...,  5.76251805e-05+0.j, -1.41866424e-20+0.j,\n",
       "        -7.26919453e-06+0.j],\n",
       "       ...,\n",
       "       [ 1.08429544e-05+0.j,  8.47972464e-20+0.j,  5.76251805e-05+0.j,\n",
       "        ..., -2.75556779e-63+0.j, -3.31844860e-32+0.j,\n",
       "         8.76483366e-47+0.j],\n",
       "       [-3.18983819e-20+0.j, -3.33985592e-07+0.j, -1.41866424e-20+0.j,\n",
       "        ...,  3.31844860e-32+0.j, -3.66522610e-64+0.j,\n",
       "        -3.36937394e-32+0.j],\n",
       "       [-3.66989002e-06+0.j,  3.59386802e-19+0.j, -7.26919453e-06+0.j,\n",
       "        ..., -8.76483366e-47+0.j,  3.36937394e-32+0.j,\n",
       "         1.11812785e-64+0.j]])"
      ]
     },
     "execution_count": 80,
     "metadata": {},
     "output_type": "execute_result"
    }
   ],
   "source": [
    "duo.int_hamiltonian(truncated_levels = {'QBA' :10 , 'QBB' : 10})/J_c"
   ]
  }
 ],
 "metadata": {
  "kernelspec": {
   "display_name": "Python 3",
   "language": "python",
   "name": "python3"
  },
  "language_info": {
   "codemirror_mode": {
    "name": "ipython",
    "version": 3
   },
   "file_extension": ".py",
   "mimetype": "text/x-python",
   "name": "python",
   "nbconvert_exporter": "python",
   "pygments_lexer": "ipython3",
   "version": "3.7.10"
  },
  "toc": {
   "base_numbering": 1,
   "nav_menu": {},
   "number_sections": true,
   "sideBar": true,
   "skip_h1_title": false,
   "title_cell": "Table of Contents",
   "title_sidebar": "Contents",
   "toc_cell": false,
   "toc_position": {},
   "toc_section_display": true,
   "toc_window_display": false
  }
 },
 "nbformat": 4,
 "nbformat_minor": 5
}
