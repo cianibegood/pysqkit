{
 "cells": [
  {
   "cell_type": "code",
   "execution_count": 2,
   "metadata": {},
   "outputs": [],
   "source": [
    "from pathlib import Path\n",
    "\n",
    "import numpy as np\n",
    "import xarray as xr\n",
    "from matplotlib import pyplot as plt\n",
    "\n",
    "from layouts import Layout\n",
    "from layouts.library import surface_code\n",
    "from layouts.util.transmons import set_freq_groups, set_target_freqs, sample_freqs, get_collisions"
   ]
  },
  {
   "cell_type": "markdown",
   "metadata": {},
   "source": [
    "# Distance-3 surface code"
   ]
  },
  {
   "cell_type": "code",
   "execution_count": null,
   "metadata": {},
   "outputs": [],
   "source": [
    "DISTANCE = 3\n",
    "\n",
    "GROUP_FREQS = np.array([5.00, 5.07, 5.14, 5.21, 5.28]) # Following IBM definitions\n",
    "GROUP_ANHARMS = np.repeat(-0.33, len(GROUP_FREQS))\n",
    "\n",
    "layout = surface_code(DISTANCE, mixed_layout=False)\n",
    "set_freq_groups(layout)\n",
    "set_target_freqs(layout, GROUP_FREQS, GROUP_ANHARMS)"
   ]
  },
  {
   "cell_type": "code",
   "execution_count": null,
   "metadata": {},
   "outputs": [],
   "source": [
    "fig, ax = plt.subplots(dpi=100)\n",
    "\n",
    "layout.plot(param_label=\"freq_group\", axis=ax)\n",
    "plt.tight_layout()\n",
    "plt.show()"
   ]
  },
  {
   "cell_type": "markdown",
   "metadata": {},
   "source": [
    "# Scan for distance 3"
   ]
  },
  {
   "cell_type": "code",
   "execution_count": 4,
   "metadata": {},
   "outputs": [],
   "source": [
    "MAX_FREQ_VAR = 2e-2\n",
    "NUM_FREQ_VARS = 20\n",
    "NUM_SEEDS = 50000\n",
    "\n",
    "FREQ_VARS = np.geomspace(1e-3, MAX_FREQ_VAR, NUM_FREQ_VARS)\n",
    "SEEDS = np.arange(1, NUM_SEEDS + 1)\n",
    "\n",
    "sampled_collisions = np.zeros((NUM_FREQ_VARS, NUM_SEEDS, 3), dtype=int)\n",
    "\n",
    "for var_ind, freq_var in enumerate(FREQ_VARS):\n",
    "    for seed_ind, seed in enumerate(SEEDS):\n",
    "        sample_freqs(layout, seed, freq_var)\n",
    "        sampled_collisions[var_ind, seed_ind] = get_collisions(layout)"
   ]
  },
  {
   "cell_type": "code",
   "execution_count": 5,
   "metadata": {},
   "outputs": [],
   "source": [
    "total_collisions = sampled_collisions.sum(axis = 2)\n",
    "collision_stats = sampled_collisions.sum(axis = 1)\n",
    "device_yield = np.mean(total_collisions == 0, axis= 1)"
   ]
  },
  {
   "cell_type": "code",
   "execution_count": 10,
   "metadata": {},
   "outputs": [
    {
     "data": {
      "image/png": "[encoded data removed]",
      "text/plain": [
       "<Figure size 432x288 with 1 Axes>"
      ]
     },
     "metadata": {
      "needs_background": "light"
     },
     "output_type": "display_data"
    }
   ],
   "source": [
    "fig, ax = plt.subplots()\n",
    "\n",
    "qubit_target_freq_vars = [layout.param(\"target_freq\", q) * FREQ_VARS * 1e3 for q in layout.get_qubits()]\n",
    "mean_freq_vars = np.mean(qubit_target_freq_vars, axis=0)\n",
    "\n",
    "ax.scatter(mean_freq_vars, device_yield, color=\"red\")\n",
    "ax.set_xscale(\"log\")\n",
    "\n",
    "ax.set_yscale(\"log\")\n",
    "freq_dev_ticks = np.arange(10, 100, )\n",
    "ax.set_xticks([10, 20, 30, 40, 50, 60, 70, 80, 80, 90, 100])\n",
    "ax.set_xticklabels([\"10\", \"20\", \"30\", \"40\", \"50\", \"60\", \"70\", \"80\", \"80\", \"90\", \"100\"])\n",
    "\n",
    "\n",
    "plt.show()"
   ]
  },
  {
   "cell_type": "code",
   "execution_count": 138,
   "metadata": {},
   "outputs": [
    {
     "data": {
      "image/png": "[encoded data removed]",
      "text/plain": [
       "<Figure size 432x288 with 1 Axes>"
      ]
     },
     "metadata": {
      "needs_background": "light"
     },
     "output_type": "display_data"
    }
   ],
   "source": [
    "fig, ax = plt.subplots()\n",
    "\n",
    "qubit_target_freqs = [layout.param(\"target_freq\", q) for q in layout.get_qubits()]\n",
    "mean_target_freq = np.mean(qubit_target_freqs)\n",
    "\n",
    "ax.scatter(FREQ_VARS * mean_target_freq * 1e3, device_yield, color=\"red\")\n",
    "ax.set_xscale(\"log\")\n",
    "\n",
    "ax.set_yscale(\"log\")\n",
    "freq_dev_ticks = np.arange(10, 100, )\n",
    "ax.set_xticks([10, 20, 30, 40, 50, 60, 70, 80, 80, 90, 100])\n",
    "ax.set_xticklabels([\"10\", \"20\", \"30\", \"40\", \"50\", \"60\", \"70\", \"80\", \"80\", \"90\", \"100\"])\n",
    "\n",
    "\n",
    "plt.show()"
   ]
  },
  {
   "cell_type": "markdown",
   "metadata": {},
   "source": [
    "# Scan with distance as well"
   ]
  },
  {
   "cell_type": "code",
   "execution_count": 139,
   "metadata": {},
   "outputs": [],
   "source": [
    "MAX_FREQ_VAR = 1e-2\n",
    "NUM_FREQ_VARS = 20\n",
    "NUM_SEEDS = 50000\n",
    "\n",
    "DISTANCES = [3, 5, 7]\n",
    "FREQ_VARS = np.geomspace(1e-3, MAX_FREQ_VAR, NUM_FREQ_VARS)\n",
    "SEEDS = np.arange(1, NUM_SEEDS + 1)\n",
    "\n",
    "\n",
    "sampled_collisions = np.zeros(\n",
    "    (len(DISTANCES), NUM_FREQ_VARS, NUM_SEEDS, 3), dtype=int\n",
    ")\n",
    "\n",
    "for dist_ind, distance in enumerate(DISTANCES):\n",
    "    layout = surface_code(distance, mixed_layout=False)\n",
    "    \n",
    "    set_freq_groups(layout)\n",
    "    set_target_freqs(layout, GROUP_FREQS, GROUP_ANHARMS)\n",
    "\n",
    "    for var_ind, freq_var in enumerate(FREQ_VARS):\n",
    "        for seed_ind, seed in enumerate(SEEDS):\n",
    "            sample_freqs(layout, seed, freq_var)\n",
    "            sampled_collisions[dist_ind, var_ind, seed_ind] = get_collisions(layout)"
   ]
  },
  {
   "cell_type": "code",
   "execution_count": 143,
   "metadata": {},
   "outputs": [],
   "source": [
    "collisions = xr.DataArray(\n",
    "    sampled_collisions,\n",
    "    dims = [\"distance\", \"freq_var\", \"seed\", \"collision_type\"],\n",
    "    coords = dict(\n",
    "        distance = DISTANCES,\n",
    "        freq_var = FREQ_VARS,\n",
    "        seed = SEEDS,\n",
    "        collision_type = [\"address\", \"cross_res\", \"spectator\"]\n",
    "    )\n",
    ")"
   ]
  },
  {
   "cell_type": "code",
   "execution_count": 148,
   "metadata": {},
   "outputs": [],
   "source": [
    "total_collisions = collisions.sum(dim=\"collision_type\")\n",
    "collision_stats = collisions.sum(dim=\"seed\")\n",
    "\n",
    "zero_collision_runs = xr.where(total_collisions == 0, 1, 0)\n",
    "device_yield = zero_collision_runs.mean(dim=\"seed\")"
   ]
  },
  {
   "cell_type": "code",
   "execution_count": 164,
   "metadata": {},
   "outputs": [
    {
     "data": {
      "image/png": "[encoded data removed]",
      "text/plain": [
       "<Figure size 432x288 with 1 Axes>"
      ]
     },
     "metadata": {
      "needs_background": "light"
     },
     "output_type": "display_data"
    }
   ],
   "source": [
    "fig, ax = plt.subplots()\n",
    "\n",
    "for dist in device_yield.distance.values:\n",
    "    label = f\"Distance-{dist}\"\n",
    "    ax.scatter(\n",
    "        device_yield.freq_var, \n",
    "        device_yield.sel(distance=dist),\n",
    "        label=label,\n",
    "    )\n",
    "    \n",
    "ax.set_xscale(\"log\")\n",
    "ax.set_xlabel(r\"$\\sigma_{\\omega}/\\omega$\")\n",
    "ax.set_ylabel(r\"Yield\")\n",
    "ax.set_yscale(\"log\")\n",
    "ax.set_ylim(1e-4, 1)\n",
    "ax.legend(frameon=False)\n",
    "\n",
    "plt.show()"
   ]
  },
  {
   "cell_type": "code",
   "execution_count": 177,
   "metadata": {},
   "outputs": [],
   "source": [
    "SAVE_DATA = True\n",
    "\n",
    "if SAVE_DATA:\n",
    "    notebook_dir = Path.cwd()\n",
    "    data_folder = notebook_dir / \"data\"\n",
    "    data_folder.mkdir(parents=True, exist_ok=True)\n",
    "    \n",
    "    data_arr_name = f\"tmon_tmob_yield_scan_dist_{*DISTANCES,}_max_var_{MAX_FREQ_VAR}_seeds_{NUM_SEEDS}.nc\"\n",
    "    collisions.to_netcdf(data_folder/data_arr_name)"
   ]
  },
  {
   "cell_type": "code",
   "execution_count": 3,
   "metadata": {},
   "outputs": [],
   "source": [
    "from matplotlib import patches as ppt"
   ]
  },
  {
   "cell_type": "code",
   "execution_count": 12,
   "metadata": {},
   "outputs": [
    {
     "data": {
      "image/png": "[encoded data removed]",
      "text/plain": [
       "<Figure size 432x288 with 1 Axes>"
      ]
     },
     "metadata": {
      "needs_background": "light"
     },
     "output_type": "display_data"
    }
   ],
   "source": [
    "fig, ax = plt.subplots()\n",
    "\n",
    "circ = ppt.Circle(\n",
    "    (0, 0),\n",
    "    color=\"green\",\n",
    "    radius=0.35,\n",
    "    lw=1,\n",
    "    ec=\"black\"\n",
    ")\n",
    "ax.add_artist(circ)\n",
    "\n",
    "hexagon = ppt.RegularPolygon(\n",
    "    (0, 0),\n",
    "    6,\n",
    "    color=\"green\",\n",
    "    radius=0.35,\n",
    "    lw=1,\n",
    "    ec=\"black\"\n",
    ")\n",
    "ax.add_artist(hexagon)\n",
    "\n",
    "ax.set_xlim(-1, 1)\n",
    "ax.set_ylim(-1, 1)\n",
    "\n",
    "ax.set_aspect(\"equal\")\n",
    "ax.axis(\"off\")\n",
    "plt.show()"
   ]
  },
  {
   "cell_type": "code",
   "execution_count": null,
   "metadata": {},
   "outputs": [],
   "source": []
  }
 ],
 "metadata": {
  "kernelspec": {
   "display_name": "Python 3",
   "language": "python",
   "name": "python3"
  },
  "language_info": {
   "codemirror_mode": {
    "name": "ipython",
    "version": 3
   },
   "file_extension": ".py",
   "mimetype": "text/x-python",
   "name": "python",
   "nbconvert_exporter": "python",
   "pygments_lexer": "ipython3",
   "version": "3.8.1"
  }
 },
 "nbformat": 4,
 "nbformat_minor": 4
}
