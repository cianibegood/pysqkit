{
 "cells": [
  {
   "cell_type": "markdown",
   "metadata": {},
   "source": [
    "# Cross-resonance gate between a transmon and a fluxonium: driving fluxonium\n",
    "\n",
    "In this notebook we study the cross-resonance two-qubit gate between a transmon and a fluxonium. "
   ]
  },
  {
   "cell_type": "code",
   "execution_count": 288,
   "metadata": {},
   "outputs": [],
   "source": [
    "import time\n",
    "from collections import defaultdict\n",
    "from itertools import product, combinations\n",
    "from typing import List, Dict, Callable, Optional\n",
    "from pathlib import Path\n",
    "import copy\n",
    "import json\n",
    "import cmath\n",
    "\n",
    "import numpy as np\n",
    "import xarray as xr\n",
    "import scipy.integrate\n",
    "import qutip as qtp\n",
    "import matplotlib.pyplot as plt\n",
    "from scipy.optimize import minimize\n",
    "\n",
    "from pysqkit import qubits, systems, couplers, drives, solvers, util\n",
    "from util_cr import single_qubit_corrections, energy_levels_diagram\n",
    "\n",
    "import pysqkit.util.transformations as trf\n",
    "from pysqkit.drives.pulse_shapes import gaussian_top\n",
    "from pysqkit.util.metrics import average_process_fidelity, average_gate_fidelity\n",
    "from pysqkit.util.phys import temperature_to_thermalenergy\n",
    "from pysqkit.util.quantum import generalized_rabi_frequency\n",
    "from pysqkit.util.linalg import get_mat_elem\n",
    "from pysqkit.util.hsbasis import weyl_by_index\n",
    "from pysqkit.tomography import TomoEnv\n",
    "\n",
    "from pysqkit.solvers.solvkit import integrate\n",
    "from pysqkit.solvers import solvkit\n",
    "\n",
    "from IPython.display import display, Latex"
   ]
  },
  {
   "cell_type": "code",
   "execution_count": 289,
   "metadata": {},
   "outputs": [],
   "source": [
    "SOLVER_OPTIONS = qtp.solver.Options()\n",
    "SOLVER_OPTIONS.atol = 1e-12\n",
    "SOLVER_OPTIONS.rtol = 1e-10"
   ]
  },
  {
   "cell_type": "markdown",
   "metadata": {},
   "source": [
    "The gate is based on the following driven Hamiltonian of a fluxonium and a transmon capacitively coupled\n",
    "\n",
    "$$H = H^{(0)}_T + H^{(0)}_F + V + H_{drive},$$\n",
    "\n",
    "$$H^{(0)}_T =  \\hbar \\omega_T \\hat{b}^{\\dagger}\\hat{b} + \\hbar \\frac{\\delta_T}{2} \\hat{b}^{\\dagger} \\hat{b}^{\\dagger}\\hat{b} \\hat{b},$$\n",
    "\n",
    "$$H^{(0)}_F = 4 E_{C,F} \\cdot \\hat{q}^2_F + \\frac{1}{2}E_{L,F}\\cdot\\hat{\\varphi}^2_F - E_{J,F}\\cos\\left(\\hat{\\varphi}_F - \\phi_{ext,F}\\right),$$\n",
    "\n",
    "$$V = J_C \\cdot \\hat{q}_T \\cdot \\hat{q}_F,$$\n",
    "\n",
    "$$\\frac{H_{drive}}{h} = \\left( \\varepsilon_T \\hat{q}_T + \\varepsilon_F \\hat{q}_F \\right) \\cos(2\\pi f_d t).$$\n",
    "\n",
    "The (approximate) charge operator for the transmon in terms of annihilation and creation operators reads\n",
    "\n",
    "$$\n",
    "\\hat{q}_T = i \\biggl( \\frac{E_J}{32 |\\delta_T |} \\biggr)^{1/4} (b^{\\dagger} - b),\n",
    "$$\n",
    "where \n",
    "$$\n",
    "E_J = \\hbar \\biggl(\\frac{\\omega_T - \\delta_T}{8 | \\delta_T |} \\biggr)^2.\n",
    "$$\n",
    "\n",
    "In the following we introduce relaxation due to dielectric loss and pure dephasing on each qubit as error channels. \n",
    "\n",
    "The idea behind the cross-resonance gate is to drive one of the qubit at the frequency of the other using the fact that due to the coupling we have a $Z X$ term in the Hamiltonian. In particular, we will explore the idea of driving the fluxonium at the transmon frequency. The opposite idea to drive the transmon at the fluxonium frequency does not seem that promising. However, one might evaluate using Raman transitions."
   ]
  },
  {
   "cell_type": "markdown",
   "metadata": {},
   "source": [
    "# Define auxillary functions used"
   ]
  },
  {
   "cell_type": "code",
   "execution_count": 290,
   "metadata": {},
   "outputs": [],
   "source": [
    "def comp_state_labels(num_qubits: Optional[int] = 2):\n",
    "    state_combinations = product(\"01\", repeat=num_qubits)\n",
    "    labels = [\"\".join(states) for states in state_combinations]\n",
    "    return labels\n",
    "\n",
    "def state_labels(*qubit_states):\n",
    "    state_combinations = product(*qubit_states)\n",
    "    labels = [\"\".join(states) for states in state_combinations]\n",
    "    return labels\n",
    "\n",
    "def get_states(system, state_labels):\n",
    "    states = {}\n",
    "    for label in state_labels:\n",
    "        _state = system.state(label)[1]\n",
    "        \n",
    "        loc = np.argmax(np.abs(_state))\n",
    "        phase = cmath.phase(_state[loc])\n",
    "        \n",
    "        states[label] = np.exp(-1j*phase) * _state\n",
    "    return states"
   ]
  },
  {
   "cell_type": "code",
   "execution_count": 291,
   "metadata": {},
   "outputs": [],
   "source": [
    "def extract_freqs(\n",
    "    qubit: systems.Qubit, \n",
    ") -> Dict[str, float]:\n",
    "    \"\"\"\n",
    "    Description\n",
    "    --------------------------------------------------------------\n",
    "    Returns the transition frequencies of a given qubit.\n",
    "    \"\"\"\n",
    "    \n",
    "    num_levels = qubit.dim_hilbert\n",
    "    \n",
    "    results = {}\n",
    "    \n",
    "    states = [qubit.state(str(level)) for level in range(num_levels)]\n",
    "        \n",
    "    for level_i, level_j in combinations(range(num_levels), 2):\n",
    "        freq_i = states[level_i][0]\n",
    "        freq_j = states[level_j][0]\n",
    "        results[f\"freq_{level_i}{level_j}\"] = freq_j - freq_i\n",
    "\n",
    "    return results"
   ]
  },
  {
   "cell_type": "code",
   "execution_count": 292,
   "metadata": {},
   "outputs": [],
   "source": [
    "def zz_crosstalk(system: systems.QubitSystem) -> float:\n",
    "    xi_zz = system.state('00')[0] + system.state('11')[0] \\\n",
    "        - system.state('01')[0] - system.state('10')[0]\n",
    "    return xi_zz\n",
    "\n",
    "def xz_coeff(comp_states, op) -> float:\n",
    "    xz0 = get_mat_elem(op, comp_states['00'], comp_states['10'])\n",
    "    xz1 = get_mat_elem(op, comp_states['01'], comp_states['11'] )\n",
    "    return (np.imag(xz0 - xz1))/2\n",
    "\n",
    "def xi_coeff(comp_states, op) -> float:\n",
    "    xi0 = get_mat_elem(op, comp_states['00'], comp_states['10'] )\n",
    "    xi1 = get_mat_elem(op, comp_states['01'], comp_states['11'] )\n",
    "    return (np.imag(xi0 + xi1))/2"
   ]
  },
  {
   "cell_type": "code",
   "execution_count": 293,
   "metadata": {},
   "outputs": [],
   "source": [
    "def func_to_minimize(\n",
    "    x: List[float],\n",
    "    rise_time: float,\n",
    "    amp: float\n",
    ") -> float:\n",
    "    pulse_time = x[0]\n",
    "    time_step = 1e-3\n",
    "    num_points = int(pulse_time/time_step)\n",
    "    times = np.linspace(0, pulse_time, num_points)\n",
    "    \n",
    "    pulse = gaussian_top(times, rise_time, pulse_time)\n",
    "    integral = scipy.integrate.simpson(2*np.pi*amp*pulse, times)\n",
    "    return np.abs(integral - np.pi/4)  #Watch out factor of 2?  "
   ]
  },
  {
   "cell_type": "code",
   "execution_count": 294,
   "metadata": {},
   "outputs": [],
   "source": [
    "def minimize_drive_time(\n",
    "    system: systems.QubitSystem,\n",
    "    comp_states: List[np.ndarray],\n",
    "    eps_drive : float,\n",
    "    rise_time : Optional[float] = 5.0,\n",
    "    *,\n",
    "    init_time : Optional[float] = 100.0,\n",
    ") -> float:\n",
    "    \n",
    "    q_op = system[\"control\"].charge_op()\n",
    "    args_to_pass = (rise_time, np.abs(xz_coeff(comp_states, q_op))*0.5*eps_drive)\n",
    "\n",
    "    try:\n",
    "        minimization_result = minimize(\n",
    "            func_to_minimize, \n",
    "            init_time,\n",
    "            args=args_to_pass\n",
    "        )\n",
    "        gate_time = minimization_result['x'][0]\n",
    "    except ValueError:\n",
    "        gate_time = None\n",
    "    \n",
    "    return gate_time\n",
    "\n",
    "def get_drive_params(\n",
    "    system: systems.QubitSystem,\n",
    "    comp_states: List[np.ndarray],\n",
    "    eps_drive : float,\n",
    "    rise_time : Optional[float] = 10.0,\n",
    "    *,\n",
    "    init_time : Optional[float] = 100.0,\n",
    "    detuning : Optional[float] = 0,\n",
    "    points_per_period : Optional[int] = 10\n",
    "):\n",
    "    pulse_time = minimize_drive_time(\n",
    "        system = coupled_sys,\n",
    "        comp_states = comp_states,\n",
    "        eps_drive = eps_drive,\n",
    "        rise_time = rise_time,\n",
    "        init_time=init_time\n",
    "    )\n",
    "    \n",
    "    if pulse_time is None:\n",
    "        raise ValueError(\"Pulse time minimization has failed.\") # Should be handled differently\n",
    "    \n",
    "    drive_freq = system[\"target\"].freq\n",
    "    \n",
    "    num_points = int(pulse_time * drive_freq * points_per_period)\n",
    "    times = np.linspace(0, pulse_time, num_points)\n",
    "\n",
    "    params = dict(\n",
    "        phase = 0, \n",
    "        time = times, \n",
    "        rise_time = rise_time, \n",
    "        pulse_time = pulse_time,\n",
    "        amp = eps_drive, \n",
    "        freq = drive_freq + detuning\n",
    "    )\n",
    "    return params"
   ]
  },
  {
   "cell_type": "code",
   "execution_count": 295,
   "metadata": {},
   "outputs": [],
   "source": [
    "def run_simulation(\n",
    "    times: np.ndarray,\n",
    "    system: systems.QubitSystem, \n",
    "    init_state: qtp.qobj.Qobj, \n",
    "    options: Optional[qtp.solver.Options] = None,\n",
    "    *,\n",
    "    solver=\"mesolve\",\n",
    "    with_noise: Optional[bool] = False\n",
    ") -> qtp.solver.Result:\n",
    "    sys_hamil = system.hamiltonian(as_qobj=True)\n",
    "    drive_hamils = []\n",
    "    drive_pulses = []\n",
    "                    \n",
    "    for qubit in system:\n",
    "        if qubit.is_driven:\n",
    "            for label, drive in qubit.drives.items():\n",
    "                drive_hamils.append(drive.hamiltonian(as_qobj=True))\n",
    "                drive_pulses.append(drive.eval_pulse())\n",
    "    \n",
    "    if with_noise:\n",
    "        jump_ops = [op for qubit in system for op in qubit.collapse_ops(as_qobj=True)]\n",
    "    else:\n",
    "        jump_ops = []\n",
    "                    \n",
    "    result = integrate(\n",
    "        times, \n",
    "        init_state, \n",
    "        sys_hamil, \n",
    "        drive_hamils,\n",
    "        drive_pulses, \n",
    "        jump_ops, \n",
    "        solver=solver, \n",
    "        options=options\n",
    "    )\n",
    "                    \n",
    "    return result  "
   ]
  },
  {
   "cell_type": "code",
   "execution_count": 296,
   "metadata": {},
   "outputs": [],
   "source": [
    "def get_probabilities(\n",
    "    state_labels : List[str], \n",
    "    system : systems.QubitSystem, \n",
    "    output_states : List[qtp.Qobj],\n",
    ") -> Dict:\n",
    "    probs_dict = {}\n",
    "    \n",
    "    for label in state_labels:\n",
    "        probs = []\n",
    "        \n",
    "        state = system.state(label, as_qobj=True)[1]        \n",
    "        projector = state*state.dag()\n",
    "        \n",
    "        for out_state in output_states:\n",
    "            prob = qtp.expect(projector, out_state)\n",
    "            probs.append(prob)\n",
    "        \n",
    "        probs_dict[label] = probs\n",
    "    return probs_dict"
   ]
  },
  {
   "cell_type": "code",
   "execution_count": 297,
   "metadata": {},
   "outputs": [],
   "source": [
    "def get_leakage(\n",
    "    times: np.ndarray,\n",
    "    system: systems.QubitSystem,\n",
    "    comp_states: List[np.ndarray],\n",
    "    options: Optional[qtp.solver.Options] = None,\n",
    "    *,\n",
    "    with_noise: Optional[bool] = False\n",
    "):\n",
    "    env_syst = TomoEnv(\n",
    "        system=system, \n",
    "        time=2*np.pi*times, \n",
    "        options=options, \n",
    "        with_noise=with_noise\n",
    "    )\n",
    "    \n",
    "    leakage = env_syst.leakage(comp_states)\n",
    "    return leakage    "
   ]
  },
  {
   "cell_type": "markdown",
   "metadata": {
    "heading_collapsed": true
   },
   "source": [
    "# Introducing the qubits and the coupled system"
   ]
  },
  {
   "cell_type": "code",
   "execution_count": 298,
   "metadata": {},
   "outputs": [],
   "source": [
    "with open('../flx_transm_params.txt') as param_file:\n",
    "    PARAM_SETS = json.load(param_file)\n",
    "    \n",
    "set_ind = \"2\"\n",
    "PARAM_SET = PARAM_SETS[set_ind]"
   ]
  },
  {
   "cell_type": "code",
   "execution_count": 299,
   "metadata": {
    "hidden": true
   },
   "outputs": [],
   "source": [
    "TEMPERATURE = 0.020\n",
    "THERMAL_ENERGY = util.phys.temperature_to_thermalenergy(TEMPERATURE)\n",
    "\n",
    "TRANSMON_LEVELS = 3\n",
    "FLUXONIUM_LEVELS = 6\n",
    "\n",
    "TRANSMON_ANHARM = -0.3 # Same as the parameter set\n",
    "DIEL_LOSS_TANGENT = 3e-7\n",
    "\n",
    "TARGET_FREQ = 5.300\n",
    "SPEC_FREQ = 4.564473236189291\n",
    "\n",
    "#Target transmon\n",
    "target_transmon = qubits.SimpleTransmon(\n",
    "    label = 'target', \n",
    "    max_freq = TARGET_FREQ, \n",
    "    anharm = TRANSMON_ANHARM,\n",
    "    diel_loss_tan = PARAM_SET[\"dephasing_times_t\"],\n",
    "    env_thermal_energy = THERMAL_ENERGY,    \n",
    "    dim_hilbert = TRANSMON_LEVELS\n",
    ")\n",
    "\n",
    "#Control fluxonium\n",
    "control_fluxonium = qubits.Fluxonium(\n",
    "    label = 'control', \n",
    "    charge_energy = PARAM_SET[\"charge_energy_f\"], \n",
    "    induct_energy = PARAM_SET[\"induct_energy_f\"], \n",
    "    joseph_energy = PARAM_SET[\"joseph_energy_f\"], \n",
    "    diel_loss_tan = PARAM_SET[\"diel_loss_tan_f\"],\n",
    "    env_thermal_energy = THERMAL_ENERGY,\n",
    ")\n",
    "control_fluxonium.diagonalize_basis(FLUXONIUM_LEVELS)\n",
    "\n",
    "# Spectator transmon\n",
    "spec_transmon = qubits.SimpleTransmon(\n",
    "    label = 'spectator', \n",
    "    max_freq = SPEC_FREQ, \n",
    "    anharm = TRANSMON_ANHARM,\n",
    "    diel_loss_tan = DIEL_LOSS_TANGENT,\n",
    "    env_thermal_energy = THERMAL_ENERGY,    \n",
    "    dim_hilbert = TRANSMON_LEVELS\n",
    ")"
   ]
  },
  {
   "cell_type": "code",
   "execution_count": 300,
   "metadata": {},
   "outputs": [],
   "source": [
    "# We also add a drive on the fluxonium\n",
    "control_fluxonium.add_drive(\n",
    "    drives.microwave_drive,\n",
    "    label = 'cr_drive',\n",
    "    pulse = drives.pulses.cos_modulation,\n",
    "    pulse_shape = drives.pulse_shapes.gaussian_top\n",
    ")"
   ]
  },
  {
   "cell_type": "code",
   "execution_count": 301,
   "metadata": {},
   "outputs": [],
   "source": [
    "coup_strength = PARAM_SET[\"jc\"]\n",
    "\n",
    "control_spectator_coup = couplers.capacitive_coupling(\n",
    "    qubits=[control_fluxonium, spec_transmon],\n",
    "    strength=coup_strength,\n",
    ")\n",
    "\n",
    "target_control_coup = couplers.capacitive_coupling(\n",
    "    qubits=[target_transmon, control_fluxonium],\n",
    "    strength=coup_strength,\n",
    ")"
   ]
  },
  {
   "cell_type": "code",
   "execution_count": 302,
   "metadata": {},
   "outputs": [],
   "source": [
    "bare_sys = target_transmon.couple_to(\n",
    "    control_fluxonium,\n",
    ")\n",
    "\n",
    "coupled_sys = target_transmon.couple_to(\n",
    "    control_fluxonium, \n",
    "    coupling = couplers.capacitive_coupling, \n",
    "    strength=coup_strength,\n",
    ")\n",
    "\n",
    "full_sys = systems.QubitSystem(\n",
    "    qubits=[target_transmon, control_fluxonium, spec_transmon],\n",
    "    coupling=[target_control_coup, control_spectator_coup]\n",
    ")"
   ]
  },
  {
   "cell_type": "code",
   "execution_count": 303,
   "metadata": {},
   "outputs": [
    {
     "name": "stdout",
     "output_type": "stream",
     "text": [
      "Driven system qubit order: ['target', 'control']\n",
      "Full system qubit order: ['target', 'control', 'spectator']\n"
     ]
    }
   ],
   "source": [
    "print(f\"Driven system qubit order: {[q.label for q in coupled_sys.qubits]}\")\n",
    "print(f\"Full system qubit order: {[q.label for q in full_sys.qubits]}\")"
   ]
  },
  {
   "cell_type": "code",
   "execution_count": 326,
   "metadata": {},
   "outputs": [],
   "source": [
    "fluxonium_freqs = extract_freqs(control_fluxonium)\n",
    "assert fluxonium_freqs[\"freq_04\"] - target_transmon.freq == SPEC_FREQ"
   ]
  },
  {
   "cell_type": "code",
   "execution_count": 307,
   "metadata": {},
   "outputs": [],
   "source": [
    "comp_states = get_states(coupled_sys, comp_state_labels(2))"
   ]
  },
  {
   "cell_type": "markdown",
   "metadata": {},
   "source": [
    "The basis principle behind the gate is illustrated in the following figure"
   ]
  },
  {
   "cell_type": "code",
   "execution_count": 308,
   "metadata": {},
   "outputs": [
    {
     "data": {
      "image/png": "[encoded data removed]",
      "text/plain": [
       "<Figure size 720x576 with 1 Axes>"
      ]
     },
     "metadata": {
      "needs_background": "light"
     },
     "output_type": "display_data"
    }
   ],
   "source": [
    "level_list = ['00', '01', '10', '11', '02', '20', '12','21', '03', '13', '04', '05', '15']\n",
    "energy_levels_diagram(bare_sys, level_list, show_drive=False)"
   ]
  },
  {
   "cell_type": "code",
   "execution_count": 321,
   "metadata": {},
   "outputs": [],
   "source": [
    "EPS_DRIVE = 0.62 #GHz\n",
    "RISE_TIME = 10\n",
    "\n",
    "drive_params = get_drive_params(\n",
    "    system = coupled_sys,\n",
    "    comp_states = comp_states,\n",
    "    eps_drive = EPS_DRIVE,\n",
    "    rise_time = RISE_TIME,\n",
    ")\n",
    "times =  drive_params[\"time\"]\n",
    "coupled_sys['control'].drives['cr_drive'].set_params(**drive_params)"
   ]
  },
  {
   "cell_type": "code",
   "execution_count": 322,
   "metadata": {},
   "outputs": [],
   "source": [
    "_, init_state = coupled_sys.state('11', as_qobj=True)\n",
    "\n",
    "output = run_simulation(\n",
    "    times = 2*np.pi*times,\n",
    "    system = coupled_sys,\n",
    "    init_state = init_state, \n",
    "    options = SOLVER_OPTIONS,\n",
    ")"
   ]
  },
  {
   "cell_type": "code",
   "execution_count": 323,
   "metadata": {},
   "outputs": [],
   "source": [
    "labels = ['00', '10', '20', '03', '13', '01', '11', '04']\n",
    "eval_step = 50\n",
    "\n",
    "eval_times = times[::eval_step]\n",
    "output_states = output.states[::eval_step]\n",
    "\n",
    "eval_probs = get_probabilities(\n",
    "   state_labels = labels, \n",
    "    system = coupled_sys, \n",
    "    output_states = output.states[::eval_step], \n",
    ")"
   ]
  },
  {
   "cell_type": "code",
   "execution_count": 324,
   "metadata": {},
   "outputs": [
    {
     "data": {
      "image/png": "[encoded data removed]",
      "text/plain": [
       "<Figure size 600x400 with 1 Axes>"
      ]
     },
     "metadata": {
      "needs_background": "light"
     },
     "output_type": "display_data"
    }
   ],
   "source": [
    "fig, ax = plt.subplots(dpi=100)\n",
    "\n",
    "for ind, label in enumerate(labels):\n",
    "    ax.plot(\n",
    "        eval_times, \n",
    "        eval_probs[label], \n",
    "        label=f'$\\\\left|{label}\\\\right\\\\rangle$'\n",
    "    )\n",
    "    \n",
    "plt.legend(fontsize=12)\n",
    "ax.set_xlabel(r\"Time\")\n",
    "ax.set_ylabel(r\"Probability\")\n",
    "plt.tight_layout()"
   ]
  },
  {
   "cell_type": "code",
   "execution_count": 325,
   "metadata": {},
   "outputs": [
    {
     "name": "stdout",
     "output_type": "stream",
     "text": [
      "3.7907838634776425e-07\n"
     ]
    }
   ],
   "source": [
    "expected_leakage_rate = get_leakage(\n",
    "    times = times,\n",
    "    system = coupled_sys,\n",
    "    comp_states = list(comp_states.values()),\n",
    "    options = SOLVER_OPTIONS,\n",
    "    with_noise = False\n",
    ")\n",
    "print(expected_leakage_rate)"
   ]
  },
  {
   "cell_type": "markdown",
   "metadata": {},
   "source": [
    "# Probabilities involving spectator qubit"
   ]
  },
  {
   "cell_type": "code",
   "execution_count": 244,
   "metadata": {},
   "outputs": [],
   "source": [
    "full_sys['control'].drives['cr_drive'].set_params(**drive_params)"
   ]
  },
  {
   "cell_type": "code",
   "execution_count": 245,
   "metadata": {},
   "outputs": [],
   "source": [
    "_, init_state = full_sys.state('111', as_qobj=True)\n",
    "\n",
    "output = run_simulation(\n",
    "    times = 2*np.pi*times,\n",
    "    system = full_sys,\n",
    "    init_state = init_state, \n",
    "    options = SOLVER_OPTIONS,\n",
    ")"
   ]
  },
  {
   "cell_type": "code",
   "execution_count": 246,
   "metadata": {},
   "outputs": [],
   "source": [
    "labels = [\"000\", \"001\", \"010\", \"011\", \"040\", \"041\", \"100\", \"101\", \"110\", \"111\", \"140\", \"141\"]\n",
    "eval_step = 50\n",
    "\n",
    "eval_times = times[::eval_step]\n",
    "output_states = output.states[::eval_step]\n",
    "\n",
    "eval_probs = get_probabilities(\n",
    "    state_labels = labels, \n",
    "    system = full_sys, \n",
    "    output_states = output.states[::eval_step], \n",
    ")"
   ]
  },
  {
   "cell_type": "code",
   "execution_count": 247,
   "metadata": {},
   "outputs": [
    {
     "data": {
      "image/png": "[encoded data removed]",
      "text/plain": [
       "<Figure size 600x400 with 1 Axes>"
      ]
     },
     "metadata": {
      "needs_background": "light"
     },
     "output_type": "display_data"
    }
   ],
   "source": [
    "fig, ax = plt.subplots(dpi=100)\n",
    "\n",
    "for ind, label in enumerate(labels):\n",
    "    ax.plot(\n",
    "        eval_times, \n",
    "        eval_probs[label], \n",
    "        label=f'$\\\\left|{label}\\\\right\\\\rangle$'\n",
    "    )\n",
    "    \n",
    "plt.legend(\n",
    "    frameon=False, \n",
    "    bbox_to_anchor=(1.05, 1),\n",
    "    loc='upper left',\n",
    "    handletextpad=0.4,\n",
    "    labelspacing=0.4,\n",
    "    markerscale=1.0,\n",
    "    handlelength=1.5,\n",
    "    borderaxespad=0.05,\n",
    "    columnspacing=0.4,\n",
    "    fontsize=14,\n",
    ")\n",
    "ax.set_xlabel(r\"Time\")\n",
    "ax.set_ylabel(r\"Probability\")\n",
    "plt.tight_layout()"
   ]
  },
  {
   "cell_type": "code",
   "execution_count": 214,
   "metadata": {},
   "outputs": [
    {
     "data": {
      "image/png": "[encoded data removed]",
      "text/plain": [
       "<Figure size 600x400 with 1 Axes>"
      ]
     },
     "metadata": {
      "needs_background": "light"
     },
     "output_type": "display_data"
    }
   ],
   "source": [
    "fig, ax = plt.subplots(dpi=100)\n",
    "\n",
    "spec_state = \"1\"\n",
    "spec_probs = np.zeros(len(eval_times), dtype=float)\n",
    "for label in labels:\n",
    "    if label[2] == spec_state:\n",
    "        spec_probs += eval_probs[label]\n",
    "\n",
    "ax.plot(\n",
    "    eval_times, \n",
    "    spec_probs, \n",
    "    label=f'$\\\\left|{spec_state}\\\\right\\\\rangle$'\n",
    ")\n",
    "    \n",
    "plt.legend(\n",
    "    frameon=False, \n",
    "    bbox_to_anchor=(1.05, 1),\n",
    "    loc='upper left',\n",
    "    handletextpad=0.4,\n",
    "    labelspacing=0.4,\n",
    "    markerscale=1.0,\n",
    "    handlelength=1.5,\n",
    "    borderaxespad=0.05,\n",
    "    columnspacing=0.4,\n",
    "    fontsize=14,\n",
    ")\n",
    "ax.set_xlabel(r\"Time\")\n",
    "ax.set_ylabel(r\"Probability\")\n",
    "plt.tight_layout()"
   ]
  },
  {
   "cell_type": "markdown",
   "metadata": {},
   "source": [
    "# Scans with the spectator transmon frequency"
   ]
  },
  {
   "cell_type": "code",
   "execution_count": 249,
   "metadata": {},
   "outputs": [
    {
     "data": {
      "text/plain": [
       "4.564473236189291"
      ]
     },
     "execution_count": 249,
     "metadata": {},
     "output_type": "execute_result"
    }
   ],
   "source": [
    "collision_cond"
   ]
  },
  {
   "cell_type": "code",
   "execution_count": 269,
   "metadata": {},
   "outputs": [],
   "source": [
    "FREQ_RANGE = 0.1 # GHz\n",
    "NUM_POINTS = 21\n",
    "\n",
    "collision_cond = fluxonium_freqs[\"freq_04\"] - target_transmon.freq\n",
    "spectator_freqs = np.linspace(collision_cond - FREQ_RANGE, collision_cond + FREQ_RANGE, NUM_POINTS)\n",
    "\n",
    "times = drive_params[\"time\"]\n",
    "leakage_rates = []\n",
    "\n",
    "for spec_freq in spectator_freqs:\n",
    "    spec_transmon = qubits.SimpleTransmon(\n",
    "        label = 'spectator', \n",
    "        max_freq = spec_freq, \n",
    "        anharm = TRANSMON_ANHARM,\n",
    "        diel_loss_tan = DIEL_LOSS_TANGENT,\n",
    "        env_thermal_energy = THERMAL_ENERGY,    \n",
    "        dim_hilbert = TRANSMON_LEVELS\n",
    "    )\n",
    "    \n",
    "    control_spectator_coup = couplers.capacitive_coupling(\n",
    "        qubits=[control_fluxonium, spec_transmon],\n",
    "        strength=coup_strength,\n",
    "    )\n",
    "    \n",
    "    full_sys = systems.QubitSystem(\n",
    "        qubits=[target_transmon, control_fluxonium, spec_transmon],\n",
    "        coupling=[target_control_coup, control_spectator_coup]\n",
    "    )\n",
    "    \n",
    "    full_sys['control'].drives['cr_drive'].set_params(**drive_params)\n",
    "    \n",
    "    comp_states_dict = get_states(full_sys, comp_state_labels(3))\n",
    "    comp_states = list(comp_states_dict.values())\n",
    "    \n",
    "    leakage_rate = get_leakage(\n",
    "        times = times,\n",
    "        system = full_sys,\n",
    "        comp_states = comp_states,\n",
    "        options = SOLVER_OPTIONS,\n",
    "        with_noise = False\n",
    "    )\n",
    "    leakage_rates.append(leakage_rate)"
   ]
  },
  {
   "cell_type": "code",
   "execution_count": 277,
   "metadata": {},
   "outputs": [],
   "source": [
    "leakage_arr = xr.DataArray(\n",
    "    leakage_rates,\n",
    "    dims = [\"spectator_freq\"],\n",
    "    coords = dict(spectator_freq = spectator_freqs),\n",
    "    attrs = dict(\n",
    "        fluxonium_charge_energy = control_fluxonium.charge_energy,\n",
    "        fluxonium_induct_energy = control_fluxonium.induct_energy,\n",
    "        fluxonium_joseph_energy = control_fluxonium.joseph_energy,\n",
    "        target_freq = target_transmon.freq,\n",
    "        anharm = TRANSMON_ANHARM,\n",
    "        collision_cond = collision_cond,\n",
    "        pulse_time = drive_params[\"pulse_time\"],\n",
    "        rise_time = drive_params[\"rise_time\"],\n",
    "        drive_amp = drive_params[\"amp\"], \n",
    "        drive_freq = drive_params[\"freq\"],\n",
    "        points_per_drive_period = 10\n",
    "    )\n",
    ")"
   ]
  },
  {
   "cell_type": "code",
   "execution_count": 287,
   "metadata": {},
   "outputs": [
    {
     "data": {
      "image/png": "[encoded data removed]",
      "text/plain": [
       "<Figure size 600x400 with 1 Axes>"
      ]
     },
     "metadata": {
      "needs_background": "light"
     },
     "output_type": "display_data"
    }
   ],
   "source": [
    "fig, ax = plt.subplots(dpi=100)\n",
    "\n",
    "freq_range = 0.06\n",
    "\n",
    "ax.plot(leakage_arr.spectator_freq, leakage_arr, linestyle=\"-\", marker=\"o\")\n",
    "ax.axvline(leakage_arr.collision_cond, linestyle = \"--\", color=\"grey\")\n",
    "\n",
    "ax.text(leakage_arr.collision_cond, 1e-4, \"collision\", horizontalalignment=\"left\", verticalalignment=\"center\", rotation=-90, color=\"grey\")\n",
    "\n",
    "ax.axvline(leakage_arr.collision_cond - freq_range, linestyle = \"--\", color=\"orange\")\n",
    "ax.axvline(leakage_arr.collision_cond + freq_range, linestyle = \"--\", color=\"orange\")\n",
    "\n",
    "ax.text(collision_cond + freq_range, 1e-4, f\"$\\pm${int(freq_range*1e3)} MHz bound\", horizontalalignment=\"left\", verticalalignment=\"center\", rotation=-90, color=\"orange\")\n",
    "\n",
    "ax.set_yscale(\"log\")\n",
    "ax.set_ylabel(\"Leakage\")\n",
    "ax.set_xlabel(\"Spectator frequency [GHz]\")\n",
    "ax.set_title(\"transmon-fluxonium setup\")\n",
    "plt.show()"
   ]
  },
  {
   "cell_type": "code",
   "execution_count": 398,
   "metadata": {},
   "outputs": [],
   "source": [
    "SAVE_DATA = True\n",
    "\n",
    "if SAVE_DATA:\n",
    "    notebook_dir = Path.cwd()\n",
    "    data_folder = notebook_dir / \"data\"\n",
    "    data_folder.mkdir(parents=True, exist_ok=True)\n",
    "    \n",
    "    arr_name = f\"mixed_device_spectator_two_photon_control_04_collision_scan.nc\"\n",
    "    leakage_arr.to_netcdf(data_folder / arr_name)"
   ]
  },
  {
   "cell_type": "markdown",
   "metadata": {},
   "source": [
    "We introduce the TomoEnv object. We also refine the absolute and relative tolerance of the qutip solver "
   ]
  },
  {
   "cell_type": "code",
   "execution_count": 271,
   "metadata": {},
   "outputs": [],
   "source": [
    "simu_opt = qtp.solver.Options()\n",
    "simu_opt.atol = 1e-12\n",
    "simu_opt.rtol = 1e-10\n",
    "\n",
    "env_syst = pysqkit.tomography.TomoEnv(system=coupled_sys, time=2*np.pi*tlist, options=simu_opt, with_noise=False)"
   ]
  },
  {
   "cell_type": "markdown",
   "metadata": {},
   "source": [
    "The TomoEnv class can now return the superoperator representation of the quantum operation in an arbitrary Hilbert-Schmidt basis for a $d$-dimensional subspace, as long as this is a basis of diagonalizable operators. For instance the basis $|n \\rangle \\langle m|$, $n, m= 0, \\dots, d-1$ is not a diagonalizable basis and thus the method cannot be used. \n",
    "\n",
    "In what follows we are interested in obtaining a superoperator representation of a quantum operation in the computational subspace that we here define"
   ]
  },
  {
   "cell_type": "code",
   "execution_count": 272,
   "metadata": {},
   "outputs": [],
   "source": [
    "comp_states_list = []\n",
    "for key in comp_states.keys():\n",
    "    comp_states_list.append(comp_states[key])"
   ]
  },
  {
   "cell_type": "markdown",
   "metadata": {},
   "source": [
    "We remark that the specification of the subspace is left to the user and it has arbitrary dimension. The user must check that the given kets are indeed orthogonal. \n",
    "\n",
    "In what follows we will use the Weyl basis for qudits ($d>2$) as Hilbert-Schmidt basis. These are defined via the standard definition of $Z$ and $X$ operators for qudits (see Howard et al Nature volume 510, pages351–355 (2014)):\n",
    "\n",
    "$$\n",
    "Z | j \\rangle= \\omega^j | j \\rangle,\n",
    "$$\n",
    "$$\n",
    "X | j \\rangle = | j + 1 \\mod d \\rangle,\n",
    "$$\n",
    "where $\\omega = \\exp \\bigl[ \\frac{2 \\pi i}{d} \\bigr ]$.\n",
    "\n",
    "The (normalized) Weyl operators for qudits are defined as\n",
    "\n",
    "$$\n",
    "D(\\boldsymbol{\\xi})=D \\bigl( \\boldsymbol{\\xi} = \\begin{bmatrix}\\xi_x & \\xi_z \n",
    "\\end{bmatrix}^T \\bigr) = \\frac{1}{\\sqrt{d}} \\omega^{- \\frac{d+1}{2} \\xi_x \\xi_z} X^{\\xi_x} Z^{\\xi_z}, \\quad \\xi_x, \\xi_z \\in \\mathbb{Z}_d = \\{0, 1, \\dots, d-1 \\}.\n",
    "$$\n",
    "The Weyl operators form an orthonormal basis for the Hilbert space of (bounded) $d \\times d$ matrices with Hilbert-Schmidt inner product\n",
    "\n",
    "$$\n",
    "\\langle A, B \\rangle = \\mathrm{Tr}(A^{\\dagger} B).\n",
    "$$\n",
    "In fact\n",
    "$$\n",
    "\\langle D(\\boldsymbol{\\xi}), D(\\boldsymbol{\\xi}') \\rangle = \\delta_{\\boldsymbol{\\xi}, \\boldsymbol{\\xi}'}.\n",
    " $$\n",
    "\n",
    "In order to use this basis to write our superoperator we simply need a function that orders them. Thus, this function should take as argument an index $i$ associated with the Weyl operator as well as the qudit dimension $d$ ($i < d^2$). The same is valid for any orthonormal Hilbert-Schmidt basis we wish to define, as long as it is a basis of diagonalizable matrices. \n",
    "\n",
    "\n",
    "We can easily obtain the superoperator in the Weyl basis. Notice that this gives information only within the defined computational subspace and not on the leakage subspace. Thus the following superoperator is complete knowledge of the states within the computational subspaces only if the leakage is zero. However, the following superoperator is the one needed to compute process fidelities as described in Eq. 8 of Wood-Gambetta Phys. Rev. A 97, 032306 (2018). The method to_super in the TomoEnv class is parallelized and we can specify the number of processes. "
   ]
  },
  {
   "cell_type": "code",
   "execution_count": 273,
   "metadata": {},
   "outputs": [
    {
     "name": "stdout",
     "output_type": "stream",
     "text": [
      "Computational time = 170.13243341445923 s\n"
     ]
    }
   ],
   "source": [
    "n_process = 4\n",
    "\n",
    "start = time.time()\n",
    "sup_op = env_syst.to_super(comp_states_list, weyl_by_index, n_process)\n",
    "end = time.time()\n",
    "print(\"Computational time = \" + str(end - start) + ' s')"
   ]
  },
  {
   "cell_type": "markdown",
   "metadata": {},
   "source": [
    "Notice how the superoperator can be obtained for any system and its operations are completely system agnostic.\n",
    "\n",
    "We now use the previous superoperator to compute the process fidelity and average gate fidelity with respect to a $\\mathrm{CZ}$ gate. First of all, we need to obtain the single-qubit gate corrections. This can be done directly from the superoperator via the following function."
   ]
  },
  {
   "cell_type": "code",
   "execution_count": 274,
   "metadata": {},
   "outputs": [],
   "source": [
    "sq_corr = util.single_qubit_corrections(sup_op, weyl_by_index)\n",
    "sq_corr_sup = trf.kraus_to_super(sq_corr, weyl_by_index)\n",
    "total_sup_op = sq_corr_sup.dot(sup_op)"
   ]
  },
  {
   "cell_type": "markdown",
   "metadata": {},
   "source": [
    "We now compute the process fidelity. In order to do this we first need to obtain the superoperator representation of the $\\mathrm{CZ}$ in the Weyl basis. This can be done via the function qutip.util.transformations.kraus_to_super"
   ]
  },
  {
   "cell_type": "code",
   "execution_count": 275,
   "metadata": {},
   "outputs": [
    {
     "data": {
      "image/png": "[encoded data removed]",
      "text/plain": [
       "<Figure size 432x288 with 1 Axes>"
      ]
     },
     "metadata": {
      "needs_background": "light"
     },
     "output_type": "display_data"
    }
   ],
   "source": [
    "def cry(theta):\n",
    "    ide = np.identity(4)\n",
    "    yz = np.kron(np.array([[0, -1j], [1j, 0]]), np.array([[1, 0], [0, -1]]))\n",
    "    return np.cos(theta/2)*ide - 1j*np.sin(theta/2)*yz\n",
    "\n",
    "def crx(theta):\n",
    "    ide = np.identity(4)\n",
    "    zx = np.kron(np.array([[0, 1], [1, 0]]), np.array([[1, 0], [0, -1]]))\n",
    "    return np.cos(theta/2)*ide - 1j*np.sin(theta/2)*zx\n",
    "\n",
    "theta_list = list(np.linspace(0, 2*np.pi, 100))\n",
    "fid_list = []\n",
    "for theta in theta_list:\n",
    "    cr_super = trf.kraus_to_super(cry(theta), weyl_by_index)\n",
    "    fid_list.append(average_process_fidelity(cr_super, total_sup_op))\n",
    "\n",
    "plt.plot(theta_list, fid_list)\n",
    "plt.show()"
   ]
  },
  {
   "cell_type": "markdown",
   "metadata": {},
   "source": [
    "We can now compute the process fidelity"
   ]
  },
  {
   "cell_type": "code",
   "execution_count": 276,
   "metadata": {},
   "outputs": [
    {
     "data": {
      "text/latex": [
       "$F_{pro} = 0.81412$"
      ],
      "text/plain": [
       "<IPython.core.display.Latex object>"
      ]
     },
     "metadata": {},
     "output_type": "display_data"
    }
   ],
   "source": [
    "cr_super_target = trf.kraus_to_super(cry(-np.pi/2), weyl_by_index)\n",
    "f_pro = average_process_fidelity(cr_super_target, total_sup_op)\n",
    "display(Latex(r'$F_{{pro}} = {:.5f}$'.format(f_pro)))"
   ]
  },
  {
   "cell_type": "markdown",
   "metadata": {},
   "source": [
    "Notice that this is by choice not done within the TomoEnv class, since the TomoEnv class should be agnostic of which gate we want to implement. Since during the gate also an unwanted $Y$ rotations is implemented let us try to virtually correct it. In particular, we look for the $Y$ rotation on the transmon that maximized the fidelity."
   ]
  },
  {
   "cell_type": "code",
   "execution_count": 277,
   "metadata": {},
   "outputs": [],
   "source": [
    "def ry_t(theta):\n",
    "    rot_y = np.cos(theta/2)*np.identity(2) - 1j*np.sin(theta/2)*np.array([[0, -1j], [1j, 0]])\n",
    "    return np.kron(rot_y, np.identity(2))\n",
    "\n",
    "def ry_f(theta):\n",
    "    rot_y = np.cos(theta/2)*np.identity(2) - 1j*np.sin(theta/2)*np.array([[0, -1j], [1j, 0]])\n",
    "    return np.kron(np.identity(2), rot_y)"
   ]
  },
  {
   "cell_type": "code",
   "execution_count": 278,
   "metadata": {},
   "outputs": [
    {
     "data": {
      "image/png": "[encoded data removed]",
      "text/plain": [
       "<Figure size 432x288 with 1 Axes>"
      ]
     },
     "metadata": {
      "needs_background": "light"
     },
     "output_type": "display_data"
    },
    {
     "data": {
      "text/latex": [
       "Maximum achievable fidelity after ideal $Y$ rotations = $0.9743098754532935$"
      ],
      "text/plain": [
       "<IPython.core.display.Latex object>"
      ]
     },
     "metadata": {},
     "output_type": "display_data"
    }
   ],
   "source": [
    "fid_list_ry = []\n",
    "for theta in theta_list:\n",
    "    rot_y_super = trf.kraus_to_super(ry_t(theta), weyl_by_index)\n",
    "    fid_list_ry.append(average_process_fidelity(cr_super_target, rot_y_super.dot(total_sup_op)))\n",
    "\n",
    "fid_ry = np.array(fid_list_ry)\n",
    "\n",
    "plt.plot(theta_list, fid_ry)\n",
    "plt.show()\n",
    "max_fid = np.max(fid_ry)\n",
    "max_index = np.argmax(fid_ry)\n",
    "sup_rot_y_opt = trf.kraus_to_super(ry_t(theta_list[max_index]), weyl_by_index)\n",
    "display(Latex(r\"Maximum achievable fidelity after ideal $Y$ rotations = ${}$\".format(max_fid)))"
   ]
  },
  {
   "cell_type": "markdown",
   "metadata": {},
   "source": [
    "The average leakage and seepage is instead computed within the TomoEnv class. This is because we just need to specify a subspace to determine them, similarly to the determination of the superoperator. We use Eq. 2 and 3 in Wood-Gambetta Phys. Rev. A 97, 032306 (2018) to calculate the average leakage and seepage respectively. "
   ]
  },
  {
   "cell_type": "code",
   "execution_count": 80,
   "metadata": {},
   "outputs": [
    {
     "data": {
      "text/latex": [
       "$L_1(\\mathcal{E} ) = 0.0038045$"
      ],
      "text/plain": [
       "<IPython.core.display.Latex object>"
      ]
     },
     "metadata": {},
     "output_type": "display_data"
    }
   ],
   "source": [
    "avg_leakage = env_syst.leakage(comp_states_list)\n",
    "display(Latex(r'$L_1(\\mathcal{{E}} ) = {:.7f}$'.format(avg_leakage)))"
   ]
  },
  {
   "cell_type": "markdown",
   "metadata": {},
   "source": [
    "We observe that leakage is sensitive to whether we have a smooth rise time or not..."
   ]
  },
  {
   "cell_type": "code",
   "execution_count": 23,
   "metadata": {},
   "outputs": [
    {
     "data": {
      "text/latex": [
       "$L_2(\\mathcal{E} ) = 0.0000127$"
      ],
      "text/plain": [
       "<IPython.core.display.Latex object>"
      ]
     },
     "metadata": {},
     "output_type": "display_data"
    }
   ],
   "source": [
    "avg_seepage = env_syst.seepage(comp_states_list)\n",
    "display(Latex(r'$L_2(\\mathcal{{E}} ) = {:.7f}$'.format(avg_seepage)))"
   ]
  },
  {
   "cell_type": "markdown",
   "metadata": {},
   "source": [
    "We can also check that with the selected accuracy of the qutip solver, for unitary dynamics (set loss tangents equal to zero) we reproduce the relation between leakage and seepage $d_1 L_1(\\mathcal{E}) = d_2 L_2(\\mathcal{E})$ ($d_1=4, d_2 = 11$)"
   ]
  },
  {
   "cell_type": "code",
   "execution_count": 335,
   "metadata": {},
   "outputs": [
    {
     "data": {
      "text/latex": [
       "$d_1 L_1(\\mathcal{E} ) = 0.0000757$"
      ],
      "text/plain": [
       "<IPython.core.display.Latex object>"
      ]
     },
     "metadata": {},
     "output_type": "display_data"
    }
   ],
   "source": [
    "display(Latex(r'$d_1 L_1(\\mathcal{{E}} ) = {:.7f}$'.format(d_comp*avg_leakage)))"
   ]
  },
  {
   "cell_type": "code",
   "execution_count": 336,
   "metadata": {},
   "outputs": [
    {
     "data": {
      "text/latex": [
       "$d_2 L_2(\\mathcal{E} ) = 0.0000759$"
      ],
      "text/plain": [
       "<IPython.core.display.Latex object>"
      ]
     },
     "metadata": {},
     "output_type": "display_data"
    }
   ],
   "source": [
    "display(Latex(r'$d_2 L_2(\\mathcal{{E}} ) = {:.7f}$'.format(d_leak*avg_seepage)))"
   ]
  },
  {
   "cell_type": "markdown",
   "metadata": {},
   "source": [
    "Finally, the average gate fidelity is"
   ]
  },
  {
   "cell_type": "code",
   "execution_count": 27,
   "metadata": {},
   "outputs": [
    {
     "data": {
      "text/latex": [
       "$F_{gate} = 0.99775$"
      ],
      "text/plain": [
       "<IPython.core.display.Latex object>"
      ]
     },
     "metadata": {},
     "output_type": "display_data"
    }
   ],
   "source": [
    "total_sup_op_ry = sup_rot_y_opt.dot(total_sup_op)\n",
    "f_gate = average_gate_fidelity(cr_super_target, total_sup_op_ry, avg_leakage)\n",
    "display(Latex(r'$F_{{gate}} = {:.5f}$'.format(f_gate)))\n"
   ]
  },
  {
   "cell_type": "markdown",
   "metadata": {},
   "source": [
    "It is clear that the main source of error is leakage. Let us thus check where the leakage is coming from mainly."
   ]
  },
  {
   "cell_type": "markdown",
   "metadata": {},
   "source": [
    "# Leakage analysis"
   ]
  },
  {
   "cell_type": "markdown",
   "metadata": {},
   "source": [
    "To study leakage we consider the noiseless case"
   ]
  },
  {
   "cell_type": "code",
   "execution_count": 54,
   "metadata": {},
   "outputs": [],
   "source": [
    "def run(\n",
    "    time: np.ndarray,\n",
    "    system: QubitSystem, \n",
    "    state_init: qtp.qobj.Qobj, \n",
    "    options: qtp.solver.Options=None\n",
    "):\n",
    "    hamil0 = system.hamiltonian(as_qobj=True)\n",
    "    hamil_drive = []\n",
    "    pulse_drive = []\n",
    "                    \n",
    "    for qubit in system:\n",
    "        if qubit.is_driven:\n",
    "            for label, drive in qubit.drives.items():\n",
    "                hamil_drive.append(drive.hamiltonian(as_qobj=True))\n",
    "                pulse_drive.append(drive.eval_pulse())\n",
    "    jump_op = [op for qubit in system for op in qubit.collapse_ops(as_qobj=True)]\n",
    "                    \n",
    "    result = integrate(time, state_init, hamil0, hamil_drive,\n",
    "                           pulse_drive, jump_op, \"mesolve\", options=options)\n",
    "                    \n",
    "    return result  "
   ]
  },
  {
   "cell_type": "code",
   "execution_count": 55,
   "metadata": {},
   "outputs": [
    {
     "data": {
      "text/latex": [
       "$\\mathrm{Leakage \\, computation \\, time} = 19.707 \\, s$"
      ],
      "text/plain": [
       "<IPython.core.display.Latex object>"
      ]
     },
     "metadata": {},
     "output_type": "display_data"
    }
   ],
   "source": [
    "start = time.time()\n",
    "\n",
    "_proj_comp = np.einsum('ai, aj -> ij', comp_states_list, np.conj(comp_states_list))\n",
    "subsys_dims = list(q.dim_hilbert for q in coupled_sys)\n",
    "proj_comp = qtp.Qobj(inpt=_proj_comp, dims=[subsys_dims, subsys_dims], isherm=True)\n",
    "res = run(time=2*np.pi*tlist, system=coupled_sys, state_init=proj_comp/d_comp, options=simu_opt)\n",
    "\n",
    "end=time.time()\n",
    "display(Latex(r'$\\mathrm{{Leakage \\, computation \\, time}} = {:.3f} \\, s$'.format(end - start)))\n",
    "l1 = 1 - qtp.expect(proj_comp, res.states[-1])"
   ]
  },
  {
   "cell_type": "code",
   "execution_count": 56,
   "metadata": {},
   "outputs": [],
   "source": [
    "comp_state_label = ['00', '01', '10', '11']\n",
    "leakage_states = []\n",
    "for lev_t in range(0, levels_t):\n",
    "    for lev_f in range(0, levels_f):\n",
    "        if str(lev_t) + str(lev_f) not in comp_state_label:\n",
    "            leakage_states.append(str(lev_t) + str(lev_f))"
   ]
  },
  {
   "cell_type": "code",
   "execution_count": 57,
   "metadata": {},
   "outputs": [],
   "source": [
    "def get_probabilities(\n",
    "    states_label: List[str], \n",
    "    system:QubitSystem, \n",
    "    final_state: qtp.qobj.Qobj\n",
    ") -> Dict:\n",
    "    prob = {}\n",
    "    for label in states_label:\n",
    "        ket = system.state(label, as_qobj=True)[1]\n",
    "        projector = ket*ket.dag()\n",
    "        prob[label] = qtp.expect(projector, final_state)\n",
    "    return prob"
   ]
  },
  {
   "cell_type": "code",
   "execution_count": 58,
   "metadata": {},
   "outputs": [
    {
     "data": {
      "text/latex": [
       "$\\mathrm{Average\\, Leakage \\,} L_1 = 0.0001070 $"
      ],
      "text/plain": [
       "<IPython.core.display.Latex object>"
      ]
     },
     "metadata": {},
     "output_type": "display_data"
    },
    {
     "data": {
      "text/latex": [
       "$P_{leak, 02  } = 0.0000204$"
      ],
      "text/plain": [
       "<IPython.core.display.Latex object>"
      ]
     },
     "metadata": {},
     "output_type": "display_data"
    },
    {
     "data": {
      "text/latex": [
       "$P_{leak, 03  } = 0.0000036$"
      ],
      "text/plain": [
       "<IPython.core.display.Latex object>"
      ]
     },
     "metadata": {},
     "output_type": "display_data"
    },
    {
     "data": {
      "text/latex": [
       "$P_{leak, 04  } = 0.0000041$"
      ],
      "text/plain": [
       "<IPython.core.display.Latex object>"
      ]
     },
     "metadata": {},
     "output_type": "display_data"
    },
    {
     "data": {
      "text/latex": [
       "$P_{leak, 05  } = 0.0000257$"
      ],
      "text/plain": [
       "<IPython.core.display.Latex object>"
      ]
     },
     "metadata": {},
     "output_type": "display_data"
    },
    {
     "data": {
      "text/latex": [
       "$P_{leak, 06  } = 0.0000000$"
      ],
      "text/plain": [
       "<IPython.core.display.Latex object>"
      ]
     },
     "metadata": {},
     "output_type": "display_data"
    },
    {
     "data": {
      "text/latex": [
       "$P_{leak, 12  } = 0.0000205$"
      ],
      "text/plain": [
       "<IPython.core.display.Latex object>"
      ]
     },
     "metadata": {},
     "output_type": "display_data"
    },
    {
     "data": {
      "text/latex": [
       "$P_{leak, 13  } = 0.0000037$"
      ],
      "text/plain": [
       "<IPython.core.display.Latex object>"
      ]
     },
     "metadata": {},
     "output_type": "display_data"
    },
    {
     "data": {
      "text/latex": [
       "$P_{leak, 14  } = 0.0000041$"
      ],
      "text/plain": [
       "<IPython.core.display.Latex object>"
      ]
     },
     "metadata": {},
     "output_type": "display_data"
    },
    {
     "data": {
      "text/latex": [
       "$P_{leak, 15  } = 0.0000245$"
      ],
      "text/plain": [
       "<IPython.core.display.Latex object>"
      ]
     },
     "metadata": {},
     "output_type": "display_data"
    },
    {
     "data": {
      "text/latex": [
       "$P_{leak, 16  } = 0.0000000$"
      ],
      "text/plain": [
       "<IPython.core.display.Latex object>"
      ]
     },
     "metadata": {},
     "output_type": "display_data"
    },
    {
     "data": {
      "text/latex": [
       "$P_{leak, 20  } = 0.0000001$"
      ],
      "text/plain": [
       "<IPython.core.display.Latex object>"
      ]
     },
     "metadata": {},
     "output_type": "display_data"
    },
    {
     "data": {
      "text/latex": [
       "$P_{leak, 21  } = 0.0000003$"
      ],
      "text/plain": [
       "<IPython.core.display.Latex object>"
      ]
     },
     "metadata": {},
     "output_type": "display_data"
    },
    {
     "data": {
      "text/latex": [
       "$P_{leak, 22  } = 0.0000000$"
      ],
      "text/plain": [
       "<IPython.core.display.Latex object>"
      ]
     },
     "metadata": {},
     "output_type": "display_data"
    },
    {
     "data": {
      "text/latex": [
       "$P_{leak, 23  } = 0.0000000$"
      ],
      "text/plain": [
       "<IPython.core.display.Latex object>"
      ]
     },
     "metadata": {},
     "output_type": "display_data"
    },
    {
     "data": {
      "text/latex": [
       "$P_{leak, 24  } = 0.0000000$"
      ],
      "text/plain": [
       "<IPython.core.display.Latex object>"
      ]
     },
     "metadata": {},
     "output_type": "display_data"
    },
    {
     "data": {
      "text/latex": [
       "$P_{leak, 25  } = 0.0000000$"
      ],
      "text/plain": [
       "<IPython.core.display.Latex object>"
      ]
     },
     "metadata": {},
     "output_type": "display_data"
    },
    {
     "data": {
      "text/latex": [
       "$P_{leak, 26  } = 0.0000000$"
      ],
      "text/plain": [
       "<IPython.core.display.Latex object>"
      ]
     },
     "metadata": {},
     "output_type": "display_data"
    },
    {
     "data": {
      "text/latex": [
       "$\\sum_k P_{leak, k  } = 0.0001070$"
      ],
      "text/plain": [
       "<IPython.core.display.Latex object>"
      ]
     },
     "metadata": {},
     "output_type": "display_data"
    }
   ],
   "source": [
    "leak_probs = get_probabilities(leakage_states, coupled_sys, res.states[-1])\n",
    "\n",
    "display(Latex(r'$\\mathrm{{Average\\, Leakage \\,}} L_1 = {:.7f} $'.format(l1)))\n",
    "\n",
    "sum_leak = 0\n",
    "\n",
    "for label in leakage_states:\n",
    "    display(Latex(r'$P_{{leak, {}  }} = {:.7f}$'.format(label, leak_probs[label])))\n",
    "    sum_leak += leak_probs[label]\n",
    "display(Latex(r'$\\sum_k P_{{leak, k  }} = {:.7f}$'.format(sum_leak)))"
   ]
  },
  {
   "cell_type": "markdown",
   "metadata": {},
   "source": [
    "We notice that leakage is quite heterogeneous in the sense that many levels are a bit populated. I think this problem can be solved by several strategies such as optimizing the coupling, increasing the gate time or by taking larger frequency differences between the transmon and the higher levels of the fluxonium. Indeed, by reducing the coupling, at the price of a doubled gate time for fixed drive strength, we have much less leakage."
   ]
  },
  {
   "cell_type": "code",
   "execution_count": 327,
   "metadata": {},
   "outputs": [
    {
     "data": {
      "text/plain": [
       "4.84"
      ]
     },
     "execution_count": 327,
     "metadata": {},
     "output_type": "execute_result"
    }
   ],
   "source": [
    "4.950 - 0.110"
   ]
  },
  {
   "cell_type": "code",
   "execution_count": 328,
   "metadata": {},
   "outputs": [
    {
     "data": {
      "text/plain": [
       "330"
      ]
     },
     "execution_count": 328,
     "metadata": {},
     "output_type": "execute_result"
    }
   ],
   "source": [
    "330"
   ]
  },
  {
   "cell_type": "code",
   "execution_count": 334,
   "metadata": {},
   "outputs": [
    {
     "data": {
      "text/plain": [
       "5.34"
      ]
     },
     "execution_count": 334,
     "metadata": {},
     "output_type": "execute_result"
    }
   ],
   "source": [
    "0.5*(5.21 + 5.140 + 0.330)"
   ]
  },
  {
   "cell_type": "code",
   "execution_count": 336,
   "metadata": {},
   "outputs": [
    {
     "data": {
      "text/plain": [
       "4.95"
      ]
     },
     "execution_count": 336,
     "metadata": {},
     "output_type": "execute_result"
    }
   ],
   "source": [
    "(2*5.21 -0.330 - 5.14)"
   ]
  },
  {
   "cell_type": "code",
   "execution_count": 340,
   "metadata": {},
   "outputs": [
    {
     "data": {
      "text/plain": [
       "5.28"
      ]
     },
     "execution_count": 340,
     "metadata": {},
     "output_type": "execute_result"
    }
   ],
   "source": []
  },
  {
   "cell_type": "code",
   "execution_count": 342,
   "metadata": {},
   "outputs": [],
   "source": [
    "a = - 0.33\n",
    "f_control_01 = 5.210\n",
    "f_control_12 = f_control_01 + a\n",
    "f_control_02= 2*f_control_01 + a\n",
    "\n",
    "f_target_01 = 5.140\n",
    "f_target_12 = f_target_01 + a\n",
    "f_target_02 = 2*f_target_01 + a\n"
   ]
  },
  {
   "cell_type": "code",
   "execution_count": 343,
   "metadata": {},
   "outputs": [
    {
     "data": {
      "text/plain": [
       "4.95"
      ]
     },
     "execution_count": 343,
     "metadata": {},
     "output_type": "execute_result"
    }
   ],
   "source": [
    "f_control_02 - f_target_01"
   ]
  },
  {
   "cell_type": "code",
   "execution_count": 345,
   "metadata": {},
   "outputs": [
    {
     "data": {
      "text/plain": [
       "5.28"
      ]
     },
     "execution_count": 345,
     "metadata": {},
     "output_type": "execute_result"
    }
   ],
   "source": [
    "f_control_02 - f_target_12"
   ]
  },
  {
   "cell_type": "code",
   "execution_count": 353,
   "metadata": {},
   "outputs": [
    {
     "data": {
      "text/plain": [
       "4.95"
      ]
     },
     "execution_count": 353,
     "metadata": {},
     "output_type": "execute_result"
    }
   ],
   "source": [
    "f_control_02 - f_target_01"
   ]
  },
  {
   "cell_type": "code",
   "execution_count": 360,
   "metadata": {},
   "outputs": [
    {
     "data": {
      "text/plain": [
       "5.305"
      ]
     },
     "execution_count": 360,
     "metadata": {},
     "output_type": "execute_result"
    }
   ],
   "source": [
    "f_target_01 - (a/2)"
   ]
  },
  {
   "cell_type": "code",
   "execution_count": 365,
   "metadata": {},
   "outputs": [
    {
     "data": {
      "text/plain": [
       "4.739999999999999"
      ]
     },
     "execution_count": 365,
     "metadata": {},
     "output_type": "execute_result"
    }
   ],
   "source": [
    "f_target_02 - f_control_01"
   ]
  },
  {
   "cell_type": "code",
   "execution_count": 369,
   "metadata": {},
   "outputs": [
    {
     "data": {
      "text/plain": [
       "4.81"
      ]
     },
     "execution_count": 369,
     "metadata": {},
     "output_type": "execute_result"
    }
   ],
   "source": [
    "f_target_12"
   ]
  },
  {
   "cell_type": "code",
   "execution_count": 370,
   "metadata": {},
   "outputs": [
    {
     "data": {
      "text/plain": [
       "4.88"
      ]
     },
     "execution_count": 370,
     "metadata": {},
     "output_type": "execute_result"
    }
   ],
   "source": [
    "f_control_12"
   ]
  },
  {
   "cell_type": "code",
   "execution_count": 377,
   "metadata": {},
   "outputs": [
    {
     "data": {
      "text/plain": [
       "0.2599999999999998"
      ]
     },
     "execution_count": 377,
     "metadata": {},
     "output_type": "execute_result"
    }
   ],
   "source": [
    "f_target_01 - f_control_12"
   ]
  },
  {
   "cell_type": "code",
   "execution_count": 380,
   "metadata": {},
   "outputs": [
    {
     "data": {
      "text/plain": [
       "5.34"
      ]
     },
     "execution_count": 380,
     "metadata": {},
     "output_type": "execute_result"
    }
   ],
   "source": [
    "5.34"
   ]
  },
  {
   "cell_type": "code",
   "execution_count": 381,
   "metadata": {},
   "outputs": [
    {
     "data": {
      "text/plain": [
       "5.01"
      ]
     },
     "execution_count": 381,
     "metadata": {},
     "output_type": "execute_result"
    }
   ],
   "source": [
    "5.34  - 0.33"
   ]
  },
  {
   "cell_type": "code",
   "execution_count": 382,
   "metadata": {},
   "outputs": [
    {
     "data": {
      "text/plain": [
       "10.35"
      ]
     },
     "execution_count": 382,
     "metadata": {},
     "output_type": "execute_result"
    }
   ],
   "source": [
    "2*5.34  - 0.33"
   ]
  },
  {
   "cell_type": "code",
   "execution_count": 384,
   "metadata": {},
   "outputs": [
    {
     "data": {
      "text/plain": [
       "10.28"
      ]
     },
     "execution_count": 384,
     "metadata": {},
     "output_type": "execute_result"
    }
   ],
   "source": [
    "2*f_target_01"
   ]
  },
  {
   "cell_type": "code",
   "execution_count": 397,
   "metadata": {},
   "outputs": [
    {
     "data": {
      "text/plain": [
       "5.34"
      ]
     },
     "execution_count": 397,
     "metadata": {},
     "output_type": "execute_result"
    }
   ],
   "source": [
    "0.5*(f_target_01 + f_control_01 - a)"
   ]
  }
 ],
 "metadata": {
  "kernelspec": {
   "display_name": "repetition_codes_env",
   "language": "python",
   "name": "repetition_codes_env"
  },
  "language_info": {
   "codemirror_mode": {
    "name": "ipython",
    "version": 3
   },
   "file_extension": ".py",
   "mimetype": "text/x-python",
   "name": "python",
   "nbconvert_exporter": "python",
   "pygments_lexer": "ipython3",
   "version": "3.8.2"
  },
  "toc": {
   "base_numbering": 1,
   "nav_menu": {},
   "number_sections": true,
   "sideBar": true,
   "skip_h1_title": false,
   "title_cell": "Table of Contents",
   "title_sidebar": "Contents",
   "toc_cell": false,
   "toc_position": {
    "height": "calc(100% - 180px)",
    "left": "10px",
    "top": "150px",
    "width": "233.333px"
   },
   "toc_section_display": true,
   "toc_window_display": false
  },
  "widgets": {
   "application/vnd.jupyter.widget-state+json": {
    "state": {},
    "version_major": 2,
    "version_minor": 0
   }
  }
 },
 "nbformat": 4,
 "nbformat_minor": 4
}
