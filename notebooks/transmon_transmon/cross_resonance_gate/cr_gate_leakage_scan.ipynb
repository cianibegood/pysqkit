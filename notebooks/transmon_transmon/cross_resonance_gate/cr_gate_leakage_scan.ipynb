{
 "cells": [
  {
   "cell_type": "markdown",
   "metadata": {},
   "source": [
    "# Cross-resonance gate between two transmons: leakage scan"
   ]
  },
  {
   "cell_type": "code",
   "execution_count": 27,
   "metadata": {},
   "outputs": [],
   "source": [
    "import numpy as np\n",
    "import scipy.integrate\n",
    "import time\n",
    "import qutip as qtp\n",
    "import matplotlib.pyplot as plt\n",
    "from scipy.optimize import minimize\n",
    "import pysqkit\n",
    "from pysqkit import QubitSystem, Qubit\n",
    "from pysqkit.drives.pulse_shapes import gaussian_top\n",
    "from pysqkit.util.metrics import average_process_fidelity, \\\n",
    "    average_gate_fidelity\n",
    "from pysqkit.util.phys import temperature_to_thermalenergy\n",
    "from pysqkit.util.quantum import generalized_rabi_frequency\n",
    "import pysqkit.util.transformations as trf\n",
    "from pysqkit.util.linalg import get_mat_elem\n",
    "from pysqkit.solvers.solvkit import integrate\n",
    "from pysqkit.util.hsbasis import pauli_by_index\n",
    "from pysqkit.solvers import solvkit\n",
    "from pysqkit.drives.pulse_shapes import gaussian_top\n",
    "import qutip\n",
    "from typing import List, Dict, Callable\n",
    "import multiprocessing\n",
    "import matplotlib\n",
    "matplotlib.rcParams['mathtext.fontset'] = 'cm'\n",
    "import copy\n",
    "import json\n",
    "import cmath\n",
    "import util_tt_cr\n",
    "\n",
    "from IPython.display import display, Latex"
   ]
  },
  {
   "cell_type": "code",
   "execution_count": 28,
   "metadata": {},
   "outputs": [],
   "source": [
    "def func_to_minimize(\n",
    "    pulse_time: list,\n",
    "    t_rise: float,\n",
    "    cr_coeff: float\n",
    ") -> float:\n",
    "    step = 1e-3\n",
    "    n_points = int(pulse_time[0]/step)\n",
    "    times = np.linspace(0, pulse_time[0], n_points)\n",
    "    pulse = gaussian_top(times, t_rise, pulse_time[0])\n",
    "    integral = scipy.integrate.simpson(2*np.pi*cr_coeff*pulse, times)\n",
    "    return np.abs(integral - np.pi/4)   \n",
    "\n",
    "def cr_gate_time(\n",
    "    cr_coeff: float\n",
    "):\n",
    "    return 1/(2*np.pi*cr_coeff)*np.pi/4"
   ]
  },
  {
   "cell_type": "code",
   "execution_count": 29,
   "metadata": {},
   "outputs": [],
   "source": [
    "def get_leakage(\n",
    "    transm_freq: float\n",
    ") -> dict:\n",
    "    temperature = 0.020 #0.020 # K\n",
    "    thermal_energy = temperature_to_thermalenergy(temperature) # kb T/h in GHz\n",
    "    d_comp = 4\n",
    "\n",
    "    control_freq = 5.0\n",
    "\n",
    "    #Transmon\n",
    "    levels_t = 3\n",
    "    transm_t = pysqkit.qubits.SimpleTransmon(\n",
    "        label='T', \n",
    "        max_freq=transm_freq, \n",
    "        anharm=-0.3,\n",
    "        diel_loss_tan=0.3*1e-6, \n",
    "        env_thermal_energy=thermal_energy,    \n",
    "        dim_hilbert=levels_t,\n",
    "        dephasing_times=None \n",
    "    )\n",
    "\n",
    "    transm_c = pysqkit.qubits.SimpleTransmon(\n",
    "        label='C', \n",
    "        max_freq=control_freq, \n",
    "        anharm=-0.3,\n",
    "        diel_loss_tan=0.3*1e-6, #set to zero to check d_1 L1 = d_2 L2\n",
    "        env_thermal_energy=thermal_energy,    \n",
    "        dim_hilbert=levels_t,\n",
    "        dephasing_times=None #parameters_set[p_set][\"dephasing_times_t\"]\n",
    "    )\n",
    "\n",
    "    # We also add a drive on the fluxonium\n",
    "    transm_c.add_drive(\n",
    "        pysqkit.drives.microwave_drive,\n",
    "        label='cr_drive',\n",
    "        pulse=pysqkit.drives.pulses.cos_modulation,\n",
    "        pulse_shape=pysqkit.drives.pulse_shapes.gaussian_top\n",
    "    )\n",
    "\n",
    "    d_leak = levels_t**2 - d_comp\n",
    "\n",
    "    jc = 0.002\n",
    "    coupled_sys = transm_t.couple_to(transm_c, coupling=pysqkit.couplers.capacitive_coupling, strength=jc)\n",
    "\n",
    "\n",
    "    states_label = coupled_sys.all_state_labels()\n",
    "    states_dict = coupled_sys.states_as_dict(as_qobj=True)\n",
    "    \n",
    "    state_label = [\"00\", \"01\", \"10\", \"11\"]\n",
    "    comp_states = {}\n",
    "    for label in state_label:\n",
    "        state_tmp = coupled_sys.state(label)[1]\n",
    "        loc = np.argmax(np.abs(state_tmp))\n",
    "        phase = cmath.phase(state_tmp[loc])\n",
    "        state_tmp = np.exp(-1j*phase)*state_tmp\n",
    "        comp_states[label] = state_tmp\n",
    "    \n",
    "    eps = 0.03\n",
    "    cr_coeff = np.abs(util_tt_cr.mu_yz_sw(jc, eps, transm_t, transm_c))\n",
    "    freq_drive = transm_t.max_freq\n",
    "    t_rise = 10.0 # [ns]\n",
    "\n",
    "    t_gate_0 = [cr_gate_time(cr_coeff)]\n",
    "\n",
    "    args_to_pass = (t_rise, cr_coeff) \n",
    "\n",
    "    start = time.time()\n",
    "\n",
    "    minimization_result = minimize(func_to_minimize, t_gate_0, args=args_to_pass)\n",
    "\n",
    "    end = time.time()\n",
    "\n",
    "    t_gate = minimization_result['x'][0] \n",
    "    pts_per_drive_period = 10\n",
    "\n",
    "    #t_tot = 135\n",
    "\n",
    "    nb_points = int(t_gate*freq_drive*pts_per_drive_period)\n",
    "    tlist = np.linspace(0, t_gate, nb_points)\n",
    "\n",
    "    coupled_sys['C'].drives['cr_drive'].set_params(phase=0, time=tlist, rise_time=t_rise, pulse_time=t_gate,\n",
    "                                                   amp=eps, freq=freq_drive)\n",
    "\n",
    "    simu_opt = qtp.solver.Options()\n",
    "    simu_opt.atol = 1e-12\n",
    "    simu_opt.rtol = 1e-10\n",
    "\n",
    "    env_syst = pysqkit.tomography.TomoEnv(system=coupled_sys, time=2*np.pi*tlist, \n",
    "                                          options=simu_opt, with_noise=False)\n",
    "    \n",
    "    env_syst_noisy = pysqkit.tomography.TomoEnv(system=coupled_sys, time=2*np.pi*tlist, \n",
    "                                          options=simu_opt, with_noise=True)\n",
    "    \n",
    "    comp_states_list = []\n",
    "    for key in comp_states.keys():\n",
    "        comp_states_list.append(comp_states[key])\n",
    "    \n",
    "    avg_leakage = env_syst.leakage(comp_states_list)\n",
    "    \n",
    "    res={}\n",
    "    res[\"transm_freq\"] = transm_freq\n",
    "    res[\"gate_time\"] = t_gate\n",
    "    res[\"eps\"] = eps\n",
    "    res[\"L1\"] = avg_leakage\n",
    "    \n",
    "    return res\n",
    "    "
   ]
  },
  {
   "cell_type": "code",
   "execution_count": 30,
   "metadata": {},
   "outputs": [
    {
     "name": "stdout",
     "output_type": "stream",
     "text": [
      "Computation time: 5.400928258895874 s\n"
     ]
    }
   ],
   "source": [
    "start = time.time()\n",
    "\n",
    "get_leakage(4.8)\n",
    "\n",
    "end = time.time()\n",
    "\n",
    "print(\"Computation time: {} s\".format(end - start))"
   ]
  },
  {
   "cell_type": "code",
   "execution_count": 31,
   "metadata": {},
   "outputs": [
    {
     "name": "stdout",
     "output_type": "stream",
     "text": [
      "Computation time: 94.52336001396179 s\n"
     ]
    }
   ],
   "source": [
    "n_points = 50\n",
    "n_processes = 4\n",
    "bound = 0.03\n",
    "freq_list = np.linspace(4.7 + bound, 5.0 - bound, n_points)\n",
    "\n",
    "start = time.time()\n",
    "\n",
    "pool = multiprocessing.Pool(processes=n_processes)\n",
    "\n",
    "result = pool.map(get_leakage, freq_list, chunksize=int(n_points//n_processes))\n",
    "\n",
    "pool.close()\n",
    "pool.join()\n",
    "\n",
    "end=time.time()\n",
    "\n",
    "print(\"Computation time: {} s\".format(end - start))"
   ]
  },
  {
   "cell_type": "code",
   "execution_count": 32,
   "metadata": {},
   "outputs": [
    {
     "data": {
      "image/png": "[encoded data removed]",
      "text/plain": [
       "<Figure size 432x432 with 1 Axes>"
      ]
     },
     "metadata": {
      "needs_background": "light"
     },
     "output_type": "display_data"
    }
   ],
   "source": [
    "def plot_leakage_scan(\n",
    "    result: dict,\n",
    "    opt={'fs': 20, 'lw': 2.0, 'ls': 16, 'fsl':18, \"ms\":8}\n",
    "):\n",
    "    n_points = len(result)\n",
    "    freqs = [res[\"transm_freq\"] for res in result]\n",
    "    l1 = [res[\"L1\"] for res in result]\n",
    "    \n",
    "    fig, ax = plt.subplots(figsize=(6, 6))\n",
    "    ax.semilogy(freqs, l1, linewidth=opt[\"lw\"])\n",
    "    ax.set_xlabel(\"$\\omega_t /2\\pi \\, (\\mathrm{GHz})$\", fontsize=opt[\"fs\"])\n",
    "    ax.set_ylabel(\"$L_1$\", fontsize=opt[\"fs\"])\n",
    "    plt.show()\n",
    "    \n",
    "plot_leakage_scan(result)"
   ]
  },
  {
   "cell_type": "code",
   "execution_count": 35,
   "metadata": {},
   "outputs": [],
   "source": [
    "save = True\n",
    "if save:\n",
    "    with open(\"tmp/cr_leakage.txt\", \"w\") as fp:\n",
    "        json.dump(result, fp)"
   ]
  },
  {
   "cell_type": "code",
   "execution_count": null,
   "metadata": {},
   "outputs": [],
   "source": []
  }
 ],
 "metadata": {
  "kernelspec": {
   "display_name": "Python 3 (ipykernel)",
   "language": "python",
   "name": "python3"
  },
  "language_info": {
   "codemirror_mode": {
    "name": "ipython",
    "version": 3
   },
   "file_extension": ".py",
   "mimetype": "text/x-python",
   "name": "python",
   "nbconvert_exporter": "python",
   "pygments_lexer": "ipython3",
   "version": "3.7.11"
  },
  "toc": {
   "base_numbering": 1,
   "nav_menu": {},
   "number_sections": true,
   "sideBar": true,
   "skip_h1_title": false,
   "title_cell": "Table of Contents",
   "title_sidebar": "Contents",
   "toc_cell": false,
   "toc_position": {
    "height": "calc(100% - 180px)",
    "left": "10px",
    "top": "150px",
    "width": "233.333px"
   },
   "toc_section_display": true,
   "toc_window_display": false
  },
  "widgets": {
   "application/vnd.jupyter.widget-state+json": {
    "state": {},
    "version_major": 2,
    "version_minor": 0
   }
  }
 },
 "nbformat": 4,
 "nbformat_minor": 4
}
