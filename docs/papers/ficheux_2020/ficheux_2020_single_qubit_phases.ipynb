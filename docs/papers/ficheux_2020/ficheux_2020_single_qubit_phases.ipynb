{
 "cells": [
  {
   "cell_type": "markdown",
   "metadata": {},
   "source": [
    "# Ficheux 2020 single-qubit phases\n",
    "In this tutorial we show how to ideally correct for single-qubit phases accumulated during the implementation of the CPHASE gate between two fluxonia using the Ficheux scheme. The notebook is adapted from the notebook Ficheux 2020."
   ]
  },
  {
   "cell_type": "code",
   "execution_count": 1,
   "metadata": {},
   "outputs": [],
   "source": [
    "import numpy as np\n",
    "import sys\n",
    "import time\n",
    "import datetime\n",
    "import qutip as qtp \n",
    "import cmath\n",
    "import matplotlib.pyplot as plt\n",
    "from scipy import constants\n",
    "from scipy.optimize import minimize\n",
    "import pysqkit\n",
    "from pysqkit.util.linalg import get_mat_elem, tensor_prod\n",
    "from pysqkit.solvers import solvkit\n",
    "from typing import List\n",
    "import matplotlib\n",
    "matplotlib.rcParams['mathtext.fontset'] = 'cm'\n",
    "from IPython.display import display, Latex\n",
    "from itertools import product, combinations"
   ]
  },
  {
   "cell_type": "markdown",
   "metadata": {},
   "source": [
    "The gate is based on the following driven Hamiltonian of two-capacitively coupled fluxonium qubits\n",
    "\n",
    "$$\\hat{H} = \\hat{H}^{(0)}_A + \\hat{H}^{(0)}_B + \\hat{V} + \\hat{H}_{drive}$$\n",
    "\n",
    "$$\\hat{H}^{(0)}_A = 4 E_{C,A} \\cdot \\hat{n}^2_A + \\frac{1}{2}E_{L,A}\\cdot\\hat{\\varphi}^2_A - E_{J,A}\\cos\\left(\\hat{\\varphi}_A - \\phi_{ext,A}\\right)$$\n",
    "\n",
    "$$\\hat{H}^{(0)}_B = 4 E_{C,B} \\cdot \\hat{n}^2_B + \\frac{1}{2}E_{L,B}\\cdot\\hat{\\varphi}^2_B - E_{J,B}\\cos\\left(\\hat{\\varphi}_B - \\phi_{ext,B}\\right)$$\n",
    "\n",
    "$$\\hat{V} = J_C \\cdot \\hat{n}_A \\cdot \\hat{n}_B$$\n",
    "\n",
    "$$\\frac{\\hat{H}_{drive}}{h} = \\left( \\epsilon_A \\hat{n}_A + \\epsilon_B \\hat{n}_B \\right) \\cos(2\\pi f_d t)$$"
   ]
  },
  {
   "cell_type": "markdown",
   "metadata": {},
   "source": [
    "Energy spectrum :\n",
    "![](energy_levels.jpg)"
   ]
  },
  {
   "cell_type": "markdown",
   "metadata": {},
   "source": [
    "# Single fluxonia\n",
    "We take parameters as in Table 1 of the paper. "
   ]
  },
  {
   "cell_type": "code",
   "execution_count": 2,
   "metadata": {},
   "outputs": [],
   "source": [
    "# Values in GHz (divided by h)\n",
    "#Fluxonium A\n",
    "ec_a = .973\n",
    "el_a = .457\n",
    "ej_a = 5.899 \n",
    "flux_a = 1/2#pi in the cos\n",
    "\n",
    "# Fluxonium B \n",
    "ec_b = 1.027\n",
    "el_b = 0.684\n",
    "ej_b = 5.768\n",
    "flux_b = 1/2\n",
    "\n",
    "n_fock = 100"
   ]
  },
  {
   "cell_type": "code",
   "execution_count": 3,
   "metadata": {},
   "outputs": [],
   "source": [
    "levels = 5\n",
    "flx_a = pysqkit.qubits.Fluxonium('A', ec_a, el_a, ej_a, flux_a, dim_hilbert=n_fock)\n",
    "flx_b = pysqkit.qubits.Fluxonium('B', ec_b, el_b, ej_b, flux_b, dim_hilbert=n_fock)\n",
    "flx_a.diagonalize_basis(levels)\n",
    "flx_b.diagonalize_basis(levels)"
   ]
  },
  {
   "cell_type": "markdown",
   "metadata": {},
   "source": [
    "We obtain the energy levels and eigenstates of the two fluxonia"
   ]
  },
  {
   "cell_type": "code",
   "execution_count": 4,
   "metadata": {},
   "outputs": [],
   "source": [
    "energies_a, eig_states_a = flx_a.eig_states(levels)\n",
    "energies_b, eig_states_b = flx_b.eig_states(levels)"
   ]
  },
  {
   "cell_type": "code",
   "execution_count": 5,
   "metadata": {},
   "outputs": [
    {
     "data": {
      "text/plain": [
       "array([ 0,  5,  1,  6,  2,  7, 10, 11, 15, 16,  3,  8, 20, 21,  4,  9, 12,\n",
       "       17, 13, 18, 22, 14, 23, 19, 24], dtype=int64)"
      ]
     },
     "execution_count": 5,
     "metadata": {},
     "output_type": "execute_result"
    }
   ],
   "source": [
    "energies_in_lexico = np.zeros(levels**2, dtype=float)\n",
    "count = 0\n",
    "for k in range(0, levels):\n",
    "    for m in range(0, levels):\n",
    "        energies_in_lexico[count] = energies_b[m] + energies_a[k]\n",
    "        count += 1\n",
    "ascending_to_lexico = np.argsort(energies_in_lexico)\n",
    "\n",
    "label_converter = ascending_to_lexico\n",
    "label_converter"
   ]
  },
  {
   "cell_type": "code",
   "execution_count": 6,
   "metadata": {},
   "outputs": [
    {
     "data": {
      "text/plain": [
       "array([ 0,  5,  1,  6,  2,  7, 10, 11, 15, 16,  3,  8, 20, 21,  4,  9, 12,\n",
       "       17, 13, 18, 22, 14, 23, 19, 24], dtype=int64)"
      ]
     },
     "execution_count": 6,
     "metadata": {},
     "output_type": "execute_result"
    }
   ],
   "source": [
    "energies_in_lexico = np.zeros(levels**2, dtype=float)\n",
    "count = 0\n",
    "for k in range(0, levels):\n",
    "    for m in range(0, levels):\n",
    "        energies_in_lexico[count] = energies_b[m] + energies_a[k]\n",
    "        count += 1\n",
    "ascending_to_lexico = np.argsort(energies_in_lexico)\n",
    "\n",
    "label_converter = ascending_to_lexico\n",
    "label_converter"
   ]
  },
  {
   "cell_type": "code",
   "execution_count": 7,
   "metadata": {},
   "outputs": [],
   "source": [
    "# This function allows to return the energy of the \"adiabatically continued\" coupled levels\n",
    "def label_to_energies(\n",
    "    k: int, \n",
    "    m: int,\n",
    "    levels: int,\n",
    "    energies: np.ndarray,  #in ascending order\n",
    "    label_converter: np.ndarray \n",
    ") -> float:\n",
    "    label = k*levels + m\n",
    "    index = np.where(label_converter == label)[0][0] #index such that converter[index] = label\n",
    "    return energies[index]\n",
    "\n",
    "def label_to_states(\n",
    "    k: int, \n",
    "    m: int,\n",
    "    levels: int,\n",
    "    eig_states: np.ndarray,\n",
    "    label_converter: np.ndarray \n",
    ") -> float:\n",
    "    label = k*levels + m\n",
    "    index = np.where(label_converter == label)[0][0] #index such that converter[index] = label\n",
    "    return eig_states[index] \n",
    "\n",
    "def energy_ascending_order_to_label(\n",
    "    k : int,\n",
    "    levels: int,\n",
    "    label_converter : np.ndarray):\n",
    "    \n",
    "    lexico_rank = label_converter[k]\n",
    "    i = lexico_rank//levels\n",
    "    j = lexico_rank%levels\n",
    "    \n",
    "    return i, j"
   ]
  },
  {
   "cell_type": "markdown",
   "metadata": {},
   "source": [
    "# Adding drives"
   ]
  },
  {
   "cell_type": "code",
   "execution_count": 8,
   "metadata": {},
   "outputs": [
    {
     "ename": "AttributeError",
     "evalue": "module 'pysqkit.drives' has no attribute 'gaussian_microwave_drive'",
     "output_type": "error",
     "traceback": [
      "\u001b[1;31m---------------------------------------------------------------------------\u001b[0m",
      "\u001b[1;31mAttributeError\u001b[0m                            Traceback (most recent call last)",
      "\u001b[1;32m<ipython-input-8-b2473b0d69ba>\u001b[0m in \u001b[0;36m<module>\u001b[1;34m\u001b[0m\n\u001b[1;32m----> 1\u001b[1;33m \u001b[0mflx_a\u001b[0m\u001b[1;33m.\u001b[0m\u001b[0madd_drive\u001b[0m\u001b[1;33m(\u001b[0m\u001b[0mpysqkit\u001b[0m\u001b[1;33m.\u001b[0m\u001b[0mdrives\u001b[0m\u001b[1;33m.\u001b[0m\u001b[0mgaussian_microwave_drive\u001b[0m\u001b[1;33m)\u001b[0m\u001b[1;33m\u001b[0m\u001b[1;33m\u001b[0m\u001b[0m\n\u001b[0m\u001b[0;32m      2\u001b[0m \u001b[0mflx_b\u001b[0m\u001b[1;33m.\u001b[0m\u001b[0madd_drive\u001b[0m\u001b[1;33m(\u001b[0m\u001b[0mpysqkit\u001b[0m\u001b[1;33m.\u001b[0m\u001b[0mdrives\u001b[0m\u001b[1;33m.\u001b[0m\u001b[0mgaussian_microwave_drive\u001b[0m\u001b[1;33m)\u001b[0m\u001b[1;33m\u001b[0m\u001b[1;33m\u001b[0m\u001b[0m\n",
      "\u001b[1;31mAttributeError\u001b[0m: module 'pysqkit.drives' has no attribute 'gaussian_microwave_drive'"
     ]
    }
   ],
   "source": [
    "flx_a.add_drive(pysqkit.drives.gaussian_microwave_drive)\n",
    "flx_b.add_drive(pysqkit.drives.gaussian_microwave_drive)"
   ]
  },
  {
   "cell_type": "markdown",
   "metadata": {},
   "source": [
    "# Coupled fluxonia"
   ]
  },
  {
   "cell_type": "code",
   "execution_count": null,
   "metadata": {},
   "outputs": [],
   "source": [
    "jc = 0.224 #GHz (divided by h)\n",
    "\n",
    "coupled_flx = flx_a.couple_to(flx_b, coupling=pysqkit.couplers.capacitive_coupling, strength=jc)\n",
    "energies_sys, eigstates_sys = coupled_flx.eig_states() \n",
    "\n",
    "coupled_flx_bare = flx_a.couple_to(flx_b, coupling=pysqkit.couplers.capacitive_coupling, strength=0)\n",
    "energies_bare, eigstates_bare = coupled_flx_bare.eig_states() "
   ]
  },
  {
   "cell_type": "markdown",
   "metadata": {},
   "source": [
    "## Drive"
   ]
  },
  {
   "cell_type": "code",
   "execution_count": null,
   "metadata": {},
   "outputs": [],
   "source": [
    "eig_states_by_label = []\n",
    "energies_by_label = []\n",
    "\n",
    "for i_a in range(levels):\n",
    "    energies_by_label.append([])\n",
    "    eig_states_by_label.append([])\n",
    "    for i_b in range(levels):\n",
    "        eig_states_by_label[i_a].append(qtp.Qobj(inpt=  label_to_states(i_a, i_b, levels, eigstates_sys, label_converter), \n",
    "                   dims=[[levels, levels], [1, 1]], shape=[levels*levels, 1]))\n",
    "        energies_by_label[i_a].append(label_to_states(i_a, i_b, levels, energies_sys, label_converter))"
   ]
  },
  {
   "cell_type": "code",
   "execution_count": null,
   "metadata": {},
   "outputs": [],
   "source": [
    "n_a = qtp.tensor(flx_a.charge_op(as_qobj = True), qtp.qeye(flx_b.charge_op(as_qobj = True).dims[0]))\n",
    "n_b = qtp.tensor(qtp.qeye(flx_a.charge_op(as_qobj = True).dims[0]), flx_b.charge_op(as_qobj = True))\n",
    "n_charge = [n_a, n_b]"
   ]
  },
  {
   "cell_type": "code",
   "execution_count": null,
   "metadata": {},
   "outputs": [],
   "source": [
    "big_delta = ( label_to_energies(2, 1, levels, energies_sys, label_converter)   - \\\n",
    "              label_to_energies(1, 1, levels, energies_sys, label_converter) ) - \\\n",
    "            ( label_to_energies(2, 0, levels, energies_sys, label_converter)   - \\\n",
    "              label_to_energies(1, 0, levels, energies_sys, label_converter) )\n",
    "\n",
    "display(Latex(r'$\\Delta/2\\pi $ = {:.3f} MHz'.format(big_delta*1000)))"
   ]
  },
  {
   "cell_type": "markdown",
   "metadata": {},
   "source": [
    "According to the paper we have :\n",
    "\n",
    "$$\\Omega_{11-21}  = \\left| \\epsilon_A \\langle 11 | \\hat{n}_A | 21 \\rangle + \\epsilon_B \\langle 11 | \\hat{n}_B | 21 \\rangle \\right|$$\n",
    "$$\\Omega_{10-20}  = \\left| \\epsilon_A \\langle 10 | \\hat{n}_A | 20 \\rangle + \\epsilon_B \\langle 10 | \\hat{n}_B | 20 \\rangle \\right|$$\n",
    "\n",
    "And then :\n",
    "$$r = \\dfrac{\\Omega_{11-21}}{\\Omega_{10-20}} \\text{  and  } \\dfrac{\\delta}{\\Delta} = \\dfrac{r^2 - \\sqrt{(r^2-1)^2 + r^2 }} {r^2 - 1}$$ \n",
    "\n",
    "With these conventions taken in the paper :\n",
    "$$\\Delta = f_{11-21} - f_{10-20}$$\n",
    "$$\\delta = f_{11-21} - f_d$$\n",
    "\n",
    "With this $\\delta$, we have $\\Omega = \\Delta$ and a CZ gate is achieved with zero leakage in time exactly $t_{drive} = 1/\\Delta$. \n",
    "\n",
    "We choose as in the paper to have : $\\dfrac{\\epsilon_A}{\\epsilon_B} = .9$"
   ]
  },
  {
   "cell_type": "code",
   "execution_count": null,
   "metadata": {},
   "outputs": [],
   "source": [
    "ratio_eps = .9"
   ]
  },
  {
   "cell_type": "markdown",
   "metadata": {},
   "source": [
    "We now match the conditions"
   ]
  },
  {
   "cell_type": "code",
   "execution_count": null,
   "metadata": {},
   "outputs": [],
   "source": [
    "def Omega1(eps_b, ratio_eps):\n",
    "    eps_a = eps_b*ratio_eps\n",
    "    eps = [eps_a, eps_b]\n",
    "    \n",
    "    rabi_10_20 = np.abs(eps[0] * (eig_states_by_label[1][0].dag() * n_charge[0] * eig_states_by_label[2][0]).full()[0, 0] + \\\n",
    "                              eps[1] * (eig_states_by_label[1][0].dag() * n_charge[1] * eig_states_by_label[2][0]).full()[0, 0] )\n",
    "    rabi_11_21 = np.abs(eps[0] * (eig_states_by_label[1][1].dag() * n_charge[0] * eig_states_by_label[2][1]).full()[0, 0] + \\\n",
    "                              eps[1] * (eig_states_by_label[1][1].dag() * n_charge[1] * eig_states_by_label[2][1]).full()[0, 0] )\n",
    "\n",
    "    rabi_ratio = rabi_11_21/rabi_10_20\n",
    "    ratio_delta = (rabi_ratio**2 - np.sqrt((rabi_ratio**2 - 1)**2 + rabi_ratio**2)) / (rabi_ratio**2 - 1)\n",
    "    \n",
    "    big_delta = ( label_to_energies(2, 1, levels, energies_sys, label_converter)   - \\\n",
    "                  label_to_energies(1, 1, levels, energies_sys, label_converter) ) - \\\n",
    "                ( label_to_energies(2, 0, levels, energies_sys, label_converter)   - \\\n",
    "                  label_to_energies(1, 0, levels, energies_sys, label_converter) )\n",
    "    small_delta = big_delta * ratio_delta\n",
    "    \n",
    "    return np.sqrt(rabi_11_21**2 + small_delta**2)\n",
    "\n",
    "def Omega2(eps_b, ratio_eps):\n",
    "    eps_a = eps_b*ratio_eps\n",
    "    eps = [eps_a, eps_b]\n",
    "        \n",
    "    rabi_10_20 = np.abs(eps[0] * (eig_states_by_label[1][0].dag() * n_charge[0] * eig_states_by_label[2][0]).full()[0, 0] + \\\n",
    "                              eps[1] * (eig_states_by_label[1][0].dag() * n_charge[1] * eig_states_by_label[2][0]).full()[0, 0] )\n",
    "    rabi_11_21 = np.abs(eps[0] * (eig_states_by_label[1][1].dag() * n_charge[0] * eig_states_by_label[2][1]).full()[0, 0] + \\\n",
    "                              eps[1] * (eig_states_by_label[1][1].dag() * n_charge[1] * eig_states_by_label[2][1]).full()[0, 0] )\n",
    "\n",
    "    rabi_ratio = rabi_11_21/rabi_10_20\n",
    "    ratio_delta = (rabi_ratio**2 - np.sqrt((rabi_ratio**2 - 1)**2 + rabi_ratio**2)) / (rabi_ratio**2 - 1)\n",
    "    \n",
    "    big_delta = ( label_to_energies(2, 1, levels, energies_sys, label_converter)   - \\\n",
    "                  label_to_energies(1, 1, levels, energies_sys, label_converter) ) - \\\n",
    "                ( label_to_energies(2, 0, levels, energies_sys, label_converter)   - \\\n",
    "                  label_to_energies(1, 0, levels, energies_sys, label_converter) )\n",
    "    small_delta = big_delta * ratio_delta\n",
    "    \n",
    "    return np.sqrt(rabi_10_20**2 + (small_delta - big_delta)**2)"
   ]
  },
  {
   "cell_type": "code",
   "execution_count": null,
   "metadata": {},
   "outputs": [],
   "source": [
    "rg_e_b = np.linspace(0.01, 1, 1000)\n",
    "\n",
    "plt.figure(figsize=(8, 6))\n",
    "plt.plot(rg_e_b, Omega1(rg_e_b, ratio_eps), color = 'blue', label = 'O1')\n",
    "plt.plot(rg_e_b, Omega2(rg_e_b, ratio_eps), color = 'red', label = 'O2')\n",
    "plt.plot(rg_e_b, [big_delta]*len(rg_e_b), color = 'orange', label = 'big Delta')\n",
    "\n",
    "plt.legend()\n",
    "plt.show()"
   ]
  },
  {
   "cell_type": "markdown",
   "metadata": {},
   "source": [
    "## Rest of parameters"
   ]
  },
  {
   "cell_type": "code",
   "execution_count": null,
   "metadata": {},
   "outputs": [],
   "source": [
    "eps_b = 0.03634\n",
    "eps_a = ratio_eps*eps_b\n",
    "eps = [eps_a, eps_b]"
   ]
  },
  {
   "cell_type": "code",
   "execution_count": null,
   "metadata": {},
   "outputs": [],
   "source": [
    "#we calculate rabi freq amplitudes :\n",
    "\n",
    "rabi_10_20 = np.abs(eps[0] * (eig_states_by_label[1][0].dag() * n_charge[0] * eig_states_by_label[2][0]).full()[0, 0] + \\\n",
    "                          eps[1] * (eig_states_by_label[1][0].dag() * n_charge[1] * eig_states_by_label[2][0]).full()[0, 0] )\n",
    "\n",
    "rabi_11_21 = np.abs(eps[0]*(eig_states_by_label[1][1].dag() * n_charge[0] * eig_states_by_label[2][1]).full()[0, 0] + \\\n",
    "                          eps[1]*(eig_states_by_label[1][1].dag() * n_charge[1] * eig_states_by_label[2][1]).full()[0, 0] )\n",
    "\n",
    "rabi_ratio = rabi_11_21/rabi_10_20\n",
    "display(Latex(r'$r$ = {:.3f}'.format(rabi_ratio)))\n",
    "\n",
    "ratio_delta = (rabi_ratio**2 - np.sqrt((rabi_ratio**2 - 1)**2 + rabi_ratio**2)) / (rabi_ratio**2 - 1)\n",
    "display(Latex(r'$\\delta/\\Delta$ = {:.3f}'.format(ratio_delta)))"
   ]
  },
  {
   "cell_type": "code",
   "execution_count": null,
   "metadata": {},
   "outputs": [],
   "source": [
    "small_delta = big_delta*ratio_delta\n",
    "\n",
    "freq_drive = ( label_to_energies(2, 1, levels, energies_sys, label_converter)   - \\\n",
    "               label_to_energies(1, 1, levels, energies_sys, label_converter) )  - small_delta\n",
    "t_drive = 1/big_delta\n",
    "\n",
    "display(Latex(r'$\\Delta/2\\pi $ = {:.3f} MHz'.format(big_delta*1000)))\n",
    "display(Latex(r'$\\delta/2\\pi $ = {:.3f} MHz'.format(small_delta*1000)))\n",
    "display(Latex(r'$\\omega_d/2\\pi $ = {:.3f} GHz'.format(freq_drive)))"
   ]
  },
  {
   "cell_type": "code",
   "execution_count": null,
   "metadata": {},
   "outputs": [],
   "source": [
    "rabi_freq = big_delta\n",
    "\n",
    "rabi_period = 1/rabi_freq # [ns]\n",
    "display(Latex(r'$T_{{Rabi}} $ = {:.3f} ns'.format(rabi_period)))"
   ]
  },
  {
   "cell_type": "markdown",
   "metadata": {},
   "source": [
    "#  Simulations"
   ]
  },
  {
   "cell_type": "code",
   "execution_count": null,
   "metadata": {},
   "outputs": [],
   "source": [
    "#AC: remark. I am starting to think that the pulse is nor correctly implemented\n",
    "# In fact it is discontinuous at t = rise_time which is not possible. To make it continuous\n",
    "# at the plateau one should set the amplitude not to be one, but (1 - exp(-rise_time)**2(2*sigma**2))\n",
    "# In the paper this is a bit confusing I would say.\n",
    "\n",
    "def pulse_function(\n",
    "    t: float,\n",
    "    rise_time: float,\n",
    "    plateau_time: float,\n",
    "    freq_drive: float\n",
    ") -> float:\n",
    "    sigma = rise_time/np.sqrt(2*np.pi)\n",
    "    flat_amplitude = (1 - np.exp(-rise_time**2/(2*sigma**2)))\n",
    "    if t < rise_time:\n",
    "        return 1/flat_amplitude*(np.exp(-(t - rise_time)**2/(2*sigma**2)) - \\\n",
    "                                 np.exp(-rise_time**2/(2*sigma**2)))*np.cos(2*np.pi*freq_drive*t)\n",
    "    elif t < rise_time + plateau_time:\n",
    "        return np.cos(2*np.pi*freq_drive*t)\n",
    "    else:\n",
    "        return 1/flat_amplitude*(np.exp(-(t - plateau_time - rise_time)**2/(2*sigma**2)) - \\\n",
    "                          np.exp(-rise_time**2/(2*sigma**2)))*np.cos(2*np.pi*freq_drive*t)\n",
    "\n",
    "def rabi_drive(\n",
    "     t: float,\n",
    "    freq_drive: float\n",
    ") -> float:\n",
    "    return np.cos(2*np.pi*freq_drive*t)\n",
    "    "
   ]
  },
  {
   "cell_type": "code",
   "execution_count": null,
   "metadata": {},
   "outputs": [],
   "source": [
    "t_rise = 17.6\n",
    "t_tot = 58.3\n",
    "t_plateau = t_tot - 2*t_rise\n",
    "#simulation setup (noiseless)\n",
    "pts_per_drive_period = 15\n",
    "simu_time = t_tot\n",
    "\n",
    "nb_points = int( simu_time * freq_drive * pts_per_drive_period  )\n",
    "tlist = np.linspace(0, simu_time, nb_points)\n",
    "pulse_drive = np.zeros(nb_points, dtype=float)\n",
    "\n",
    "interest_levels = [[0,0], [0,1], [1,0], [1,1], [0,2], [1,2], [2,0], [2,1]]\n",
    "labels = [\"$| \"+ str(k) + str(m) + \" \\\\rangle $\" for k,m in interest_levels]\n",
    "\n",
    "hamil0 = coupled_flx.hamiltonian(as_qobj=True)\n",
    "# hamil_drive = eps[0]*n_charge[0] + eps[1]*n_charge[1] \n",
    "\n",
    "# for i in range(0, nb_points):\n",
    "#     pulse_drive[i] = pulse_function(tlist[i], t_rise, t_plateau, freq_drive)\n",
    "#     #pulse_drive[i] = rabi_drive(tlist[i], freq_drive)\n",
    "coupled_flx['A'].drives[0].set_params(phase=0, amp=eps_a, \n",
    "                                      plateau_time=t_plateau, rise_time=t_rise, freq=freq_drive)\n",
    "coupled_flx['B'].drives[0].set_params(phase=0, amp=eps_b, \n",
    "                                      plateau_time=t_plateau, rise_time=t_rise, freq=freq_drive)\n",
    "drive_hamils = [coupled_flx['A'].drives[0].hamiltonian(as_qobj=True)]\n",
    "drive_hamils.append(coupled_flx['B'].drives[0].hamiltonian(as_qobj=True))\n",
    "#drive_hamils = [drive.hamiltonian(as_qobj=True) for qubit in coupled_flx for drive in qubit.drives]\n",
    "#pulses = [drive.eval_pulse(time=tlist) for qubit in coupled_flx for drive in qubit.drives]"
   ]
  },
  {
   "cell_type": "code",
   "execution_count": null,
   "metadata": {},
   "outputs": [],
   "source": [
    "drive_pulse_a = np.zeros(nb_points)\n",
    "drive_pulse_b = np.zeros(nb_points)\n",
    "for i in range(0, nb_points):\n",
    "    drive_pulse_a[i] = coupled_flx['A'].drives[0].eval_pulse(time=tlist[i])\n",
    "    drive_pulse_b[i] = coupled_flx['B'].drives[0].eval_pulse(time=tlist[i])\n",
    "pulses = [drive_pulse_a, drive_pulse_b]"
   ]
  },
  {
   "cell_type": "code",
   "execution_count": null,
   "metadata": {},
   "outputs": [],
   "source": [
    "state_in = []\n",
    "outputs = []\n",
    "for i in range(0, 2):\n",
    "    for k in range(0, 2):\n",
    "        state_in.append(eig_states_by_label[i][k])\n",
    "for i in range(0, 4):\n",
    "    outputs.append(solvkit.integrate(tlist*2*np.pi, state_in[i], hamil0, drive_hamils, pulses, [], \"mesolve\"))"
   ]
  },
  {
   "cell_type": "code",
   "execution_count": null,
   "metadata": {},
   "outputs": [],
   "source": [
    "statein_label = '11'\n",
    "statein_index = int(statein_label, 2)\n",
    "rhos_by_label = []\n",
    "for i in range(len(eig_states_by_label)):\n",
    "    rhos_by_label.append([])\n",
    "    for j in range(len(eig_states_by_label[0])):\n",
    "        rhos_by_label[i].append(eig_states_by_label[i][j]*eig_states_by_label[i][j].dag())  \n",
    "        \n",
    "probs = np.zeros([len(labels), nb_points], dtype=float)\n",
    "for k in range(0, len(labels)):\n",
    "    i, j = interest_levels[k]\n",
    "    for m in range(0, nb_points):        \n",
    "        probs[k, m] = qtp.expect(rhos_by_label[i][j], outputs[statein_index].states[m]) "
   ]
  },
  {
   "cell_type": "code",
   "execution_count": null,
   "metadata": {},
   "outputs": [],
   "source": [
    "plot_setup = {'lw': 2.0, 'fs': 16, 'fs_text': 14, 'ls': 14}\n",
    "def plot_probas(\n",
    "    tlist: np.ndarray, \n",
    "    probs: np.ndarray,\n",
    "    statein_label: str,\n",
    "    opt: dict\n",
    ") -> None:\n",
    "    fig, ax = plt.subplots(int(np.ceil(len(labels)/4)), 4, figsize = (16, 8))\n",
    "    for k in range(0, len(labels)):\n",
    "        ax[k//4, k%4].plot(tlist, probs[k, :], linewidth=opt['lw'])\n",
    "\n",
    "        ax[k//4, k%4].set_ylim(0, 1.0)\n",
    "        ax[k//4, k%4].set_title(labels[k], fontsize=opt['fs'])\n",
    "        ax[k//4, k%4].set_ylim(-0.1, 1.1)\n",
    "        ax[k//4, k%4].axhline(y=0, color='grey', linestyle='--')\n",
    "        ax[k//4, k%4].axhline(y=1, color='grey', linestyle='--')\n",
    "\n",
    "        if k%4 != 0:\n",
    "            ax[k//4, k%4].axes.yaxis.set_ticklabels([])\n",
    "\n",
    "    fig = plt.gcf()\n",
    "    fig.suptitle('$\\mathrm{Probabilities \\ of \\ being \\ in \\ each \\ eigenstate \\\n",
    "                 \\ as \\ a \\ function \\ of \\ time \\ [ns] \\ with \\ initial \\ state}$' + \n",
    "                 ' $\\\\vert ' + statein_label + ' \\\\rangle$', fontsize=opt['fs']) \n",
    "    plt.show()\n",
    "\n",
    "plot_probas(tlist, probs, statein_label, plot_setup)"
   ]
  },
  {
   "cell_type": "code",
   "execution_count": null,
   "metadata": {},
   "outputs": [],
   "source": [
    "u_gate = np.zeros([4, 4], dtype=complex)\n",
    "for i in range(0, 4):\n",
    "    for k in range(0, 4):\n",
    "        u_gate[i, k] = (state_in[i].dag()*outputs[k].states[nb_points - 1])[0, 0]\n",
    "u_ideal_phases = np.zeros([4, 4], dtype=complex)\n",
    "for i in range(0, 2):\n",
    "    for k in range(0, 2):\n",
    "        n = i*2 + k\n",
    "        u_ideal_phases[n, n] = np.exp(-1j*2*np.pi*energies_by_label[i][k]*simu_time)\n",
    "\n",
    "#taking out phase associated with 00 from numerical simulations\n",
    "u_ideal_phases = np.conj(u_gate[0, 0])*u_ideal_phases\n",
    "u_gate = np.conj(u_gate[0, 0])*u_gate "
   ]
  },
  {
   "cell_type": "markdown",
   "metadata": {},
   "source": [
    "We now detail how to obtain the single-qubit gates in order to bring the (ideal) gate to the CZ form\n",
    "$$\n",
    "\\mathrm{CZ} = \\begin{pmatrix}\n",
    "1 & 0 & 0 & 0 \\\\\n",
    "0 & 1 & 0 & 0 \\\\\n",
    "0 & 0 & 1 & 0 \\\\\n",
    "0 & 0 & 0 & -1\n",
    "\\end{pmatrix}\n",
    "$$\n",
    "The Ficheux protocol we have just simulated realizes (ideally) a unitary \n",
    "$$\n",
    "U =  \\begin{pmatrix}\n",
    "1 & 0 & 0 & 0 \\\\\n",
    "0 & e^{i \\phi_{01}} & 0 & 0 \\\\\n",
    "0 & 0 & e^{i \\phi_{10}} & 0 \\\\\n",
    "0 & 0 & 0 & e^{i \\phi_{11}}\n",
    "\\end{pmatrix}\n",
    "$$\n",
    "where the phases satisfy the condition\n",
    "$$\n",
    "\\phi_{11} - \\phi_{01} - \\phi_{10} = \\pi \\mod 2 \\pi.\n",
    "$$\n",
    "Let us define a generic single-qubit phase gate\n",
    "$$\n",
    "P(\\phi) = \\begin{pmatrix}\n",
    "1 & 0 \\\\\n",
    "0 & e^{i \\phi}\n",
    "\\end{pmatrix}.\n",
    "$$\n",
    "The single-qubit gates to be applied are $P(-\\phi_{01})$ on the second qubit and $P(-\\phi_{10})$ on the first qubit (to see it more clearly apply them sequentially). In fact, one can check that \n",
    "$$\n",
    "P(-\\phi_{10}) \\otimes P(-\\phi_{01}) U = \\begin{pmatrix}\n",
    "1 & 0 & 0 & 0 \\\\\n",
    "0 & 1 & 0 & 0 \\\\\n",
    "0 & 0 & 1 & 0 \\\\\n",
    "0 & 0 & 0 & e^{i (\\phi_{11} - \\phi_{10} - \\phi_{01})}\n",
    "\\end{pmatrix},\n",
    "$$\n",
    "which given the previous condition on the phases is equal to the CZ gate.\n"
   ]
  },
  {
   "cell_type": "markdown",
   "metadata": {},
   "source": [
    "I remark that this way of obtaining the phases assumes the ideality of the model. This does not mean that is the optimal way. For instance I noticed that (quite surprisingly) the ideal phase acquired by $\\lvert 00 \\rangle$ is not the same as the one acquired in the simulations, but there is a small deviation"
   ]
  },
  {
   "cell_type": "code",
   "execution_count": null,
   "metadata": {},
   "outputs": [],
   "source": [
    "display(Latex(r'$\\phi_{{00}}^{{\\mathrm{{ideal}}}} $ = {:.3f} '.format(cmath.phase(u_ideal_phases[0, 0]))))\n",
    "display(Latex(r'$\\phi_{{00}} $ = {:.3f} '.format(cmath.phase(u_gate[0, 0]))))"
   ]
  },
  {
   "cell_type": "markdown",
   "metadata": {},
   "source": [
    "I interpret this as an effect of the drive that is dressing the states. This effect might or might not be correctable by single-qubit gates, but they must be optimized and this is not included in the previous ideal analysis."
   ]
  },
  {
   "cell_type": "code",
   "execution_count": null,
   "metadata": {},
   "outputs": [],
   "source": [
    "def single_qubit_correction(\n",
    "    u_gate: np.ndarray\n",
    ") -> np.ndarray:\n",
    "    phi_10 = cmath.phase(u_gate[2, 2])\n",
    "    phi_01 = cmath.phase(u_gate[1, 1])\n",
    "    p_phi10 = np.array([[1, 0], [0, np.exp(-1j*phi_10)]])\n",
    "    p_phi01 = np.array([[1, 0], [0, np.exp(-1j*phi_01)]])\n",
    "    return tensor_prod([p_phi10, p_phi01])"
   ]
  },
  {
   "cell_type": "code",
   "execution_count": null,
   "metadata": {},
   "outputs": [],
   "source": [
    "cz = np.array([[1, 0, 0, 0], [0, 1, 0, 0], [0, 0, 1, 0], [0, 0, 0, -1]])\n",
    "u_correction = single_qubit_correction(u_gate)\n",
    "u_ideal = qtp.Qobj(u_correction.conj().T.dot(cz))\n",
    "sup_u_ideal = qtp.to_super(u_ideal)"
   ]
  }
 ],
 "metadata": {
  "kernelspec": {
   "display_name": "Python 3",
   "language": "python",
   "name": "python3"
  },
  "language_info": {
   "codemirror_mode": {
    "name": "ipython",
    "version": 3
   },
   "file_extension": ".py",
   "mimetype": "text/x-python",
   "name": "python",
   "nbconvert_exporter": "python",
   "pygments_lexer": "ipython3",
   "version": "3.7.10"
  },
  "toc": {
   "base_numbering": 1,
   "nav_menu": {},
   "number_sections": true,
   "sideBar": true,
   "skip_h1_title": false,
   "title_cell": "Table of Contents",
   "title_sidebar": "Contents",
   "toc_cell": false,
   "toc_position": {},
   "toc_section_display": true,
   "toc_window_display": false
  }
 },
 "nbformat": 4,
 "nbformat_minor": 4
}
