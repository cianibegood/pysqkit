{
 "cells": [
  {
   "cell_type": "markdown",
   "metadata": {},
   "source": [
    "# Cross-resonance gate between a transmon and a fluxonium: leakage analysis\n",
    "\n",
    "In this notebook we study leakage in the cross-resonance two-qubit gate between a transmon and a fluxonium. "
   ]
  },
  {
   "cell_type": "code",
   "execution_count": 1,
   "metadata": {},
   "outputs": [],
   "source": [
    "import numpy as np\n",
    "import scipy.integrate\n",
    "import time\n",
    "import qutip as qtp\n",
    "import matplotlib.pyplot as plt\n",
    "from scipy.optimize import minimize\n",
    "import pysqkit\n",
    "from pysqkit import QubitSystem\n",
    "from pysqkit.drives.pulse_shapes import gaussian_top\n",
    "from pysqkit.util.metrics import average_process_fidelity, \\\n",
    "    average_gate_fidelity\n",
    "from pysqkit.util.phys import temperature_to_thermalenergy\n",
    "from pysqkit.util.quantum import generalized_rabi_frequency\n",
    "import pysqkit.util.transformations as trf\n",
    "from pysqkit.util.linalg import get_mat_elem\n",
    "from pysqkit.solvers.solvkit import integrate\n",
    "from pysqkit.util.hsbasis import weyl_by_index\n",
    "from pysqkit.solvers import solvkit\n",
    "from pysqkit.drives.pulse_shapes import gaussian_top\n",
    "import qutip\n",
    "from typing import List, Dict, Callable\n",
    "import matplotlib\n",
    "matplotlib.rcParams['mathtext.fontset'] = 'cm'\n",
    "import util_cr as util\n",
    "import copy\n",
    "import json\n",
    "import cmath\n",
    "\n",
    "from IPython.display import display, Latex"
   ]
  },
  {
   "cell_type": "markdown",
   "metadata": {
    "heading_collapsed": true
   },
   "source": [
    "# Introducing the qubits and the coupled system"
   ]
  },
  {
   "cell_type": "code",
   "execution_count": 2,
   "metadata": {},
   "outputs": [],
   "source": [
    "with open('../flx_transm_params.txt') as param_file:\n",
    "    parameters_set = json.load(param_file)"
   ]
  },
  {
   "cell_type": "code",
   "execution_count": 3,
   "metadata": {
    "hidden": true
   },
   "outputs": [],
   "source": [
    "temperature = 0.000 #0.020 # K\n",
    "thermal_energy = temperature_to_thermalenergy(temperature) # kb T/h in GHz\n",
    "d_comp = 4\n",
    "\n",
    "p_set = \"CR_3\"\n",
    "\n",
    "\n",
    "#Transmon\n",
    "levels_t = 3\n",
    "transm = pysqkit.qubits.SimpleTransmon(\n",
    "    label='T', \n",
    "    max_freq= 5.2, #parameters_set[p_set][\"max_freq_t\"], \n",
    "    anharm=parameters_set[p_set][\"anharm_t\"],\n",
    "    diel_loss_tan=parameters_set[p_set][\"diel_loss_tan_t\"], #set to zero to check d_1 L1 = d_2 L2\n",
    "    env_thermal_energy=thermal_energy,    \n",
    "    dim_hilbert=levels_t,\n",
    "    dephasing_times=None #parameters_set[p_set][\"dephasing_times_t\"]\n",
    ")\n",
    "\n",
    "#Fluxonium\n",
    "levels_f = 5\n",
    "\n",
    "flx = pysqkit.qubits.Fluxonium(\n",
    "    label='F', \n",
    "    charge_energy=parameters_set[p_set][\"charge_energy_f\"], \n",
    "    induct_energy=parameters_set[p_set][\"induct_energy_f\"], \n",
    "    joseph_energy=parameters_set[p_set][\"joseph_energy_f\"], #8.0, \n",
    "    diel_loss_tan=parameters_set[p_set][\"diel_loss_tan_f\"], #set to zero to check d_1 L1 = d_2 L2\n",
    "    env_thermal_energy=thermal_energy,\n",
    "    dephasing_times=None #parameters_set[p_set][\"dephasing_times_f\"] #ns/2*np.pi \n",
    ")\n",
    "flx.diagonalize_basis(levels_f)\n",
    "\n",
    "# We also add a drive on the fluxonium\n",
    "flx.add_drive(\n",
    "    pysqkit.drives.microwave_drive,\n",
    "    label='cr_drive_f',\n",
    "    pulse=pysqkit.drives.pulses.cos_modulation,\n",
    "    pulse_shape=pysqkit.drives.pulse_shapes.gaussian_top\n",
    ")\n",
    "\n",
    "d_leak = levels_t*levels_f - d_comp\n",
    "\n",
    "jc = parameters_set[p_set][\"jc\"]\n",
    "coupled_sys = transm.couple_to(flx, coupling=pysqkit.couplers.capacitive_coupling, strength=jc)\n",
    "bare_system = transm.couple_to(flx, coupling=pysqkit.couplers.capacitive_coupling, strength=0.0)\n",
    "\n",
    "states_label = coupled_sys.all_state_labels()\n",
    "states_dict = coupled_sys.states_as_dict(as_qobj=True)\n",
    "flx_freq = flx.eig_energies(2)[1] - flx.eig_energies(2)[0]\n",
    "flx_freq_03 = flx.eig_energies(4)[3] - flx.eig_energies(4)[0]\n",
    "flx_freq_12 = flx.eig_energies(4)[2] - flx.eig_energies(4)[1]\n",
    "# flx_freq_04 = flx.eig_energies(5)[4] - flx.eig_energies(4)[0]\n",
    "# flx_freq_05 = flx.eig_energies(6)[5] - flx.eig_energies(6)[0]"
   ]
  },
  {
   "cell_type": "code",
   "execution_count": 4,
   "metadata": {},
   "outputs": [],
   "source": [
    "state_label = [\"00\", \"01\", \"10\", \"11\"]\n",
    "comp_states = {}\n",
    "for label in state_label:\n",
    "    state_tmp = coupled_sys.state(label)[1]\n",
    "    loc = np.argmax(np.abs(state_tmp))\n",
    "    phase = cmath.phase(state_tmp[loc])\n",
    "    state_tmp = np.exp(-1j*phase)*state_tmp\n",
    "    comp_states[label] = state_tmp"
   ]
  },
  {
   "cell_type": "code",
   "execution_count": 5,
   "metadata": {},
   "outputs": [
    {
     "ename": "ValueError",
     "evalue": "label specifies level 5 for qubit F, but qubit is 5-dimensional",
     "output_type": "error",
     "traceback": [
      "\u001b[0;31m---------------------------------------------------------------------------\u001b[0m",
      "\u001b[0;31mValueError\u001b[0m                                Traceback (most recent call last)",
      "\u001b[0;32m/tmp/ipykernel_58214/34208670.py\u001b[0m in \u001b[0;36m<module>\u001b[0;34m\u001b[0m\n\u001b[1;32m      1\u001b[0m \u001b[0mlevel_list\u001b[0m \u001b[0;34m=\u001b[0m \u001b[0;34m[\u001b[0m\u001b[0;34m'00'\u001b[0m\u001b[0;34m,\u001b[0m \u001b[0;34m'01'\u001b[0m\u001b[0;34m,\u001b[0m \u001b[0;34m'10'\u001b[0m\u001b[0;34m,\u001b[0m \u001b[0;34m'11'\u001b[0m\u001b[0;34m,\u001b[0m \u001b[0;34m'02'\u001b[0m\u001b[0;34m,\u001b[0m \u001b[0;34m'20'\u001b[0m\u001b[0;34m,\u001b[0m \u001b[0;34m'12'\u001b[0m\u001b[0;34m,\u001b[0m\u001b[0;34m'21'\u001b[0m\u001b[0;34m,\u001b[0m \u001b[0;34m'03'\u001b[0m\u001b[0;34m,\u001b[0m \u001b[0;34m'13'\u001b[0m\u001b[0;34m,\u001b[0m \u001b[0;34m'04'\u001b[0m\u001b[0;34m,\u001b[0m \u001b[0;34m'05'\u001b[0m\u001b[0;34m,\u001b[0m \u001b[0;34m'15'\u001b[0m\u001b[0;34m,\u001b[0m \u001b[0;34m'22'\u001b[0m\u001b[0;34m,\u001b[0m \u001b[0;34m'23'\u001b[0m\u001b[0;34m,\u001b[0m \u001b[0;34m'14'\u001b[0m\u001b[0;34m]\u001b[0m\u001b[0;34m\u001b[0m\u001b[0;34m\u001b[0m\u001b[0m\n\u001b[1;32m      2\u001b[0m \u001b[0;34m\u001b[0m\u001b[0m\n\u001b[0;32m----> 3\u001b[0;31m \u001b[0mutil\u001b[0m\u001b[0;34m.\u001b[0m\u001b[0menergy_levels_diagram\u001b[0m\u001b[0;34m(\u001b[0m\u001b[0mbare_system\u001b[0m\u001b[0;34m,\u001b[0m \u001b[0mlevel_list\u001b[0m\u001b[0;34m,\u001b[0m \u001b[0mshow_drive\u001b[0m\u001b[0;34m=\u001b[0m\u001b[0;32mFalse\u001b[0m\u001b[0;34m)\u001b[0m\u001b[0;34m\u001b[0m\u001b[0;34m\u001b[0m\u001b[0m\n\u001b[0m",
      "\u001b[0;32m~/python/github/pysqkit/notebooks/transmon_fluxonium/cross_resonance_gate/util_cr.py\u001b[0m in \u001b[0;36menergy_levels_diagram\u001b[0;34m(system, levels_to_plot, plot_setup, detuning_tol, show_drive)\u001b[0m\n\u001b[1;32m     34\u001b[0m \u001b[0;34m\u001b[0m\u001b[0m\n\u001b[1;32m     35\u001b[0m     \u001b[0;32mfor\u001b[0m \u001b[0mlevel\u001b[0m \u001b[0;32min\u001b[0m \u001b[0mlevels_to_plot\u001b[0m\u001b[0;34m:\u001b[0m\u001b[0;34m\u001b[0m\u001b[0;34m\u001b[0m\u001b[0m\n\u001b[0;32m---> 36\u001b[0;31m         \u001b[0menergy\u001b[0m\u001b[0;34m[\u001b[0m\u001b[0mlevel\u001b[0m\u001b[0;34m]\u001b[0m \u001b[0;34m=\u001b[0m \u001b[0msystem\u001b[0m\u001b[0;34m.\u001b[0m\u001b[0mstate\u001b[0m\u001b[0;34m(\u001b[0m\u001b[0mlevel\u001b[0m\u001b[0;34m)\u001b[0m\u001b[0;34m[\u001b[0m\u001b[0;36m0\u001b[0m\u001b[0;34m]\u001b[0m \u001b[0;34m-\u001b[0m \u001b[0mground_energy\u001b[0m\u001b[0;34m\u001b[0m\u001b[0;34m\u001b[0m\u001b[0m\n\u001b[0m\u001b[1;32m     37\u001b[0m         \u001b[0mstate\u001b[0m\u001b[0;34m[\u001b[0m\u001b[0mlevel\u001b[0m\u001b[0;34m]\u001b[0m \u001b[0;34m=\u001b[0m \u001b[0msystem\u001b[0m\u001b[0;34m.\u001b[0m\u001b[0mstate\u001b[0m\u001b[0;34m(\u001b[0m\u001b[0mlevel\u001b[0m\u001b[0;34m)\u001b[0m\u001b[0;34m[\u001b[0m\u001b[0;36m1\u001b[0m\u001b[0;34m]\u001b[0m\u001b[0;34m\u001b[0m\u001b[0;34m\u001b[0m\u001b[0m\n\u001b[1;32m     38\u001b[0m     \u001b[0;32mfor\u001b[0m \u001b[0mlevel\u001b[0m \u001b[0;32min\u001b[0m \u001b[0mlevels_to_plot\u001b[0m\u001b[0;34m:\u001b[0m\u001b[0;34m\u001b[0m\u001b[0;34m\u001b[0m\u001b[0m\n",
      "\u001b[0;32m~/python/github/pysqkit/pysqkit/systems/system.py\u001b[0m in \u001b[0;36mstate\u001b[0;34m(self, label, as_xarray, as_qobj)\u001b[0m\n\u001b[1;32m    899\u001b[0m     ) -> Union[np.ndarray, Qobj]:\n\u001b[1;32m    900\u001b[0m         \u001b[0meig_vals\u001b[0m\u001b[0;34m,\u001b[0m \u001b[0meig_vecs\u001b[0m \u001b[0;34m=\u001b[0m \u001b[0mself\u001b[0m\u001b[0;34m.\u001b[0m\u001b[0meig_states\u001b[0m\u001b[0;34m(\u001b[0m\u001b[0;34m)\u001b[0m\u001b[0;34m\u001b[0m\u001b[0;34m\u001b[0m\u001b[0m\n\u001b[0;32m--> 901\u001b[0;31m         \u001b[0mind\u001b[0m \u001b[0;34m=\u001b[0m \u001b[0mself\u001b[0m\u001b[0;34m.\u001b[0m\u001b[0mstate_index\u001b[0m\u001b[0;34m(\u001b[0m\u001b[0mlabel\u001b[0m\u001b[0;34m)\u001b[0m\u001b[0;34m\u001b[0m\u001b[0;34m\u001b[0m\u001b[0m\n\u001b[0m\u001b[1;32m    902\u001b[0m         \u001b[0menergy\u001b[0m\u001b[0;34m,\u001b[0m \u001b[0mstate\u001b[0m \u001b[0;34m=\u001b[0m \u001b[0meig_vals\u001b[0m\u001b[0;34m[\u001b[0m\u001b[0mind\u001b[0m\u001b[0;34m]\u001b[0m\u001b[0;34m,\u001b[0m \u001b[0meig_vecs\u001b[0m\u001b[0;34m[\u001b[0m\u001b[0mind\u001b[0m\u001b[0;34m]\u001b[0m\u001b[0;34m\u001b[0m\u001b[0;34m\u001b[0m\u001b[0m\n\u001b[1;32m    903\u001b[0m \u001b[0;34m\u001b[0m\u001b[0m\n",
      "\u001b[0;32m~/python/github/pysqkit/pysqkit/systems/system.py\u001b[0m in \u001b[0;36mstate_index\u001b[0;34m(self, label)\u001b[0m\n\u001b[1;32m    880\u001b[0m                     \u001b[0;34m\"label specifies level {} for qubit {}, \"\u001b[0m\u001b[0;34m\u001b[0m\u001b[0;34m\u001b[0m\u001b[0m\n\u001b[1;32m    881\u001b[0m                     \"but qubit is {}-dimensional\".format(\n\u001b[0;32m--> 882\u001b[0;31m                         \u001b[0mlevel\u001b[0m\u001b[0;34m,\u001b[0m \u001b[0mqubit\u001b[0m\u001b[0;34m.\u001b[0m\u001b[0mlabel\u001b[0m\u001b[0;34m,\u001b[0m \u001b[0mqubit\u001b[0m\u001b[0;34m.\u001b[0m\u001b[0mdim_hilbert\u001b[0m\u001b[0;34m\u001b[0m\u001b[0;34m\u001b[0m\u001b[0m\n\u001b[0m\u001b[1;32m    883\u001b[0m                     )\n\u001b[1;32m    884\u001b[0m                 )\n",
      "\u001b[0;31mValueError\u001b[0m: label specifies level 5 for qubit F, but qubit is 5-dimensional"
     ]
    },
    {
     "data": {
      "image/png": "[encoded data removed]",
      "text/plain": [
       "<Figure size 720x576 with 1 Axes>"
      ]
     },
     "metadata": {
      "needs_background": "light"
     },
     "output_type": "display_data"
    }
   ],
   "source": [
    "level_list = ['00', '01', '10', '11', '02', '20', '12','21', '03', '13', '04', '05', '15', '22', '23', '14']\n",
    "\n",
    "util.energy_levels_diagram(bare_system, level_list, show_drive=False)"
   ]
  },
  {
   "cell_type": "code",
   "execution_count": 6,
   "metadata": {},
   "outputs": [],
   "source": [
    "def mu_yz_flx(comp_states, op) -> float:\n",
    "    yz0 = get_mat_elem(op, comp_states['00'], comp_states['10'])\n",
    "    yz1 = get_mat_elem(op, comp_states['01'], comp_states['11'] )\n",
    "    return (np.imag(yz0 - yz1))/2\n",
    "\n",
    "def mu_zy_transm(comp_states, op) -> float:\n",
    "    yz0 = get_mat_elem(op, comp_states['00'], comp_states['01'])\n",
    "    yz1 = get_mat_elem(op, comp_states['10'], comp_states['11'] )\n",
    "    return (np.imag(yz0 - yz1))/2\n",
    "\n",
    "def mu_yi_flx(comp_states, op) -> float:\n",
    "    yz0 = get_mat_elem(op, comp_states['00'], comp_states['10'] )\n",
    "    yz1 = get_mat_elem(op, comp_states['01'], comp_states['11'] )\n",
    "    return (np.imag(yz0 + yz1))/2"
   ]
  },
  {
   "cell_type": "code",
   "execution_count": 7,
   "metadata": {},
   "outputs": [
    {
     "data": {
      "text/latex": [
       "$f_{flx} = 581.849 \\, \\mathrm{MHz}$"
      ],
      "text/plain": [
       "<IPython.core.display.Latex object>"
      ]
     },
     "metadata": {},
     "output_type": "display_data"
    },
    {
     "data": {
      "text/latex": [
       "$\\xi_{ZZ}/h = 0.110 \\, \\mathrm{MHz}$"
      ],
      "text/plain": [
       "<IPython.core.display.Latex object>"
      ]
     },
     "metadata": {},
     "output_type": "display_data"
    },
    {
     "data": {
      "text/latex": [
       "$\\mu_{YZ} = -0.0026 $"
      ],
      "text/plain": [
       "<IPython.core.display.Latex object>"
      ]
     },
     "metadata": {},
     "output_type": "display_data"
    },
    {
     "data": {
      "text/latex": [
       "$\\mu_{YI} = 0.0002 $"
      ],
      "text/plain": [
       "<IPython.core.display.Latex object>"
      ]
     },
     "metadata": {},
     "output_type": "display_data"
    },
    {
     "data": {
      "text/latex": [
       "$\\mu_{ZY} = -0.000011 $"
      ],
      "text/plain": [
       "<IPython.core.display.Latex object>"
      ]
     },
     "metadata": {},
     "output_type": "display_data"
    }
   ],
   "source": [
    "display(Latex(r'$f_{{flx}} = {:.3f} \\, \\mathrm{{MHz}}$'.format(flx_freq*1e3)))\n",
    "display(Latex(r'$\\xi_{{ZZ}}/h = {:.3f} \\, \\mathrm{{MHz}}$'.format(1e3*util.zz(coupled_sys))))\n",
    "q_op = coupled_sys[\"F\"].charge_op()\n",
    "display(Latex(r'$\\mu_{{YZ}} = {:.4f} $'.format(mu_yz_flx(comp_states, q_op))))\n",
    "display(Latex(r'$\\mu_{{YI}} = {:.4f} $'.format(mu_yi_flx(comp_states, q_op))))\n",
    "display(Latex(r'$\\mu_{{ZY}} = {:.6f} $'.format(mu_zy_transm(comp_states, q_op))))"
   ]
  },
  {
   "cell_type": "code",
   "execution_count": 8,
   "metadata": {},
   "outputs": [],
   "source": [
    "def func_to_minimize(\n",
    "    pulse_time: list,\n",
    "    t_rise: float,\n",
    "    eps: float\n",
    ") -> float:\n",
    "    step = 1e-3\n",
    "    n_points = int(pulse_time[0]/step)\n",
    "    times = np.linspace(0, pulse_time[0], n_points)\n",
    "    pulse = gaussian_top(times, t_rise, pulse_time[0])\n",
    "    integral = scipy.integrate.simpson(2*np.pi*eps*pulse, times)\n",
    "    return np.abs(integral - np.pi/4)  #Watch out factor of 2?  \n",
    "    "
   ]
  },
  {
   "cell_type": "code",
   "execution_count": 9,
   "metadata": {},
   "outputs": [
    {
     "name": "stdout",
     "output_type": "stream",
     "text": [
      "      fun: 3.7563174792865084e-11\n",
      " hess_inv: array([[1.46934773e-06]])\n",
      "      jac: array([2.90125608e-05])\n",
      "  message: 'Desired error not necessarily achieved due to precision loss.'\n",
      "     nfev: 101\n",
      "      nit: 2\n",
      "     njev: 45\n",
      "   status: 2\n",
      "  success: False\n",
      "        x: array([165.46969349])\n",
      "t_tot: 165.4696934877826 ns\n"
     ]
    }
   ],
   "source": [
    "eps_drive = 0.62 #GHz\n",
    "op = coupled_sys[\"F\"].charge_op()*eps_drive\n",
    "freq_drive = transm.max_freq\n",
    "omega_drive = np.abs(get_mat_elem(op, coupled_sys.state(\"01\")[1], coupled_sys.state(\"11\")[1]))\n",
    "delta_drive = freq_drive - transm.max_freq\n",
    "rabi_period = 1/np.sqrt(omega_drive**2 + delta_drive**2)\n",
    "t_rise = 10.0 # [ns]\n",
    "\n",
    "t_tot_0 = [100.0]\n",
    "\n",
    "args_to_pass = (t_rise, np.abs(mu_yz_flx(comp_states, q_op))*eps_drive/2) #factor of two seems right here\n",
    "\n",
    "# We find the total time to obtain the desired gate\n",
    "\n",
    "start = time.time()\n",
    "\n",
    "minimization_result = minimize(func_to_minimize, t_tot_0, args=args_to_pass)\n",
    "\n",
    "print(minimization_result)\n",
    "\n",
    "end = time.time()\n",
    "\n",
    "t_tot = minimization_result['x'][0] #1/(util.y_z_flx(coupled_sys, 'F')*eps_drive*4)  # [ns]\n",
    "print(\"t_tot: {} ns\".format(t_tot))\n",
    "pts_per_drive_period = 10\n",
    "\n",
    "#t_tot = 135\n",
    "\n",
    "nb_points = int(t_tot*freq_drive*pts_per_drive_period)\n",
    "tlist = np.linspace(0, t_tot, nb_points)\n",
    "\n",
    "coupled_sys['F'].drives['cr_drive_f'].set_params(phase=0, time=tlist, rise_time=t_rise, pulse_time=t_tot,\n",
    "                                                 amp=eps_drive, freq=freq_drive)\n"
   ]
  },
  {
   "cell_type": "code",
   "execution_count": 10,
   "metadata": {},
   "outputs": [],
   "source": [
    "simu_opt = qtp.solver.Options()\n",
    "simu_opt.atol = 1e-12\n",
    "simu_opt.rtol = 1e-10\n",
    "\n",
    "env_syst = pysqkit.tomography.TomoEnv(system=coupled_sys, time=2*np.pi*tlist, options=simu_opt, \n",
    "                                      with_noise=True, dressed_noise=True)"
   ]
  },
  {
   "cell_type": "code",
   "execution_count": 11,
   "metadata": {},
   "outputs": [],
   "source": [
    "comp_states_list = []\n",
    "for key in comp_states.keys():\n",
    "    comp_states_list.append(comp_states[key])"
   ]
  },
  {
   "cell_type": "code",
   "execution_count": 12,
   "metadata": {},
   "outputs": [
    {
     "data": {
      "text/latex": [
       "Quantum object: dims = [[3, 5], [3, 5]], shape = (15, 15), type = oper, isherm = True\\begin{equation*}\\left(\\begin{array}{*{11}c}1.000 & 0.0 & 2.206\\times10^{-06} & 0.0 & 7.621\\times10^{-06} & \\cdots & -4.980\\times10^{-06} & 0.0 & 4.265\\times10^{-06} & 0.0 & 1.377\\times10^{-06}\\\\8.251\\times10^{-17} & -1.000 & 6.028\\times10^{-17} & -1.240\\times10^{-05} & 5.846\\times10^{-16} & \\cdots & -3.469\\times10^{-17} & 1.386\\times10^{-05} & 1.908\\times10^{-17} & -2.867\\times10^{-06} & 4.337\\times10^{-18}\\\\5.364\\times10^{-07} & -5.246\\times10^{-17} & 1.000 & 1.404\\times10^{-16} & 2.512\\times10^{-05} & \\cdots & -1.718\\times10^{-05} & 3.114\\times10^{-19} & 1.390\\times10^{-05} & -2.492\\times10^{-19} & 2.421\\times10^{-06}\\\\-1.637\\times10^{-17} & -1.342\\times10^{-06} & -1.526\\times10^{-16} & 1.000 & 4.912\\times10^{-16} & \\cdots & 3.991\\times10^{-17} & 4.346\\times10^{-05} & 4.617\\times10^{-17} & 3.509\\times10^{-05} & -1.919\\times10^{-16}\\\\1.559\\times10^{-06} & -5.328\\times10^{-16} & 3.367\\times10^{-07} & 5.538\\times10^{-16} & -1.000 & \\cdots & -5.188\\times10^{-04} & -1.568\\times10^{-17} & 3.530\\times10^{-05} & -2.063\\times10^{-18} & 6.270\\times10^{-06}\\\\\\vdots & \\vdots & \\vdots & \\vdots & \\vdots & \\ddots & \\vdots & \\vdots & \\vdots & \\vdots & \\vdots\\\\-1.026\\times10^{-06} & 1.273\\times10^{-17} & 2.021\\times10^{-06} & 1.817\\times10^{-17} & 4.511\\times10^{-04} & \\cdots & -1.000 & 3.361\\times10^{-17} & -2.137\\times10^{-05} & -1.791\\times10^{-17} & -3.942\\times10^{-06}\\\\2.906\\times10^{-22} & 3.036\\times10^{-06} & 1.171\\times10^{-18} & -2.558\\times10^{-05} & 3.635\\times10^{-17} & \\cdots & -7.604\\times10^{-18} & -1.000 & 8.810\\times10^{-17} & 1.089\\times10^{-05} & 5.016\\times10^{-16}\\\\-2.140\\times10^{-07} & 3.922\\times10^{-18} & -1.520\\times10^{-05} & 7.384\\times10^{-17} & 4.978\\times10^{-05} & \\cdots & -3.751\\times10^{-05} & -9.027\\times10^{-17} & -1.000 & -1.631\\times10^{-16} & -9.291\\times10^{-06}\\\\5.114\\times10^{-22} & 7.065\\times10^{-07} & 6.730\\times10^{-19} & -9.350\\times10^{-06} & 7.364\\times10^{-18} & \\cdots & 2.365\\times10^{-17} & 4.213\\times10^{-05} & 1.631\\times10^{-16} & -1.000 & 7.534\\times10^{-16}\\\\-1.089\\times10^{-06} & -5.155\\times10^{-18} & -1.755\\times10^{-07} & -1.677\\times10^{-17} & 2.533\\times10^{-05} & \\cdots & -1.751\\times10^{-05} & -5.016\\times10^{-16} & 3.563\\times10^{-05} & -7.532\\times10^{-16} & -1.000\\\\\\end{array}\\right)\\end{equation*}"
      ],
      "text/plain": [
       "Quantum object: dims = [[3, 5], [3, 5]], shape = (15, 15), type = oper, isherm = True\n",
       "Qobj data =\n",
       "[[ 9.99999605e-01  0.00000000e+00  2.20621155e-06  0.00000000e+00\n",
       "   7.62111784e-06  0.00000000e+00  5.73894481e-04  0.00000000e+00\n",
       "   6.78682279e-04  0.00000000e+00 -4.97964743e-06  0.00000000e+00\n",
       "   4.26514013e-06  0.00000000e+00  1.37711802e-06]\n",
       " [ 8.25077853e-17 -9.99998652e-01  6.02816408e-17 -1.23989215e-05\n",
       "   5.84601811e-16  7.18451348e-04  0.00000000e+00 -1.44318805e-03\n",
       "   0.00000000e+00  3.11721286e-04 -3.46944695e-17  1.38618446e-05\n",
       "   1.90819582e-17 -2.86697643e-06  4.33680869e-18]\n",
       " [ 5.36359298e-07 -5.24604881e-17  9.99975066e-01  1.40364060e-16\n",
       "   2.51220313e-05  9.65297125e-16 -6.84269309e-03 -2.29026021e-17\n",
       "   1.74474649e-03 -1.43167793e-18 -1.71797605e-05  3.11420122e-19\n",
       "   1.39040630e-05 -2.49176308e-19  2.42109566e-06]\n",
       " [-1.63684775e-17 -1.34161578e-06 -1.52611882e-16  9.99966873e-01\n",
       "   4.91164508e-16  5.81457304e-03 -9.01123773e-18 -5.24571673e-03\n",
       "  -6.39650682e-18 -2.21880434e-03  3.99060031e-17  4.34623262e-05\n",
       "   4.61732696e-17  3.50942931e-05 -1.91907478e-16]\n",
       " [ 1.55900891e-06 -5.32777874e-16  3.36739923e-07  5.53817139e-16\n",
       "  -9.99950616e-01 -6.75111671e-16 -1.10582096e-03 -1.81249916e-15\n",
       "   9.86266260e-03 -2.02174637e-18 -5.18805638e-04 -1.56767011e-17\n",
       "   3.52983660e-05 -2.06286465e-18  6.26967791e-06]\n",
       " [-5.82492539e-20  7.18498322e-04 -8.15845547e-16 -5.81461624e-03\n",
       "  -7.97574710e-16  9.99981985e-01  1.91341211e-16  1.57541143e-05\n",
       "   4.05662556e-17 -1.63582732e-05  2.69135896e-16  8.55964388e-04\n",
       "  -5.17089948e-16 -9.84846890e-04  6.95734266e-17]\n",
       " [ 5.73892738e-04  0.00000000e+00 -6.84269993e-03 -1.08843734e-17\n",
       "   1.10617818e-03  1.45987823e-16 -9.99972884e-01 -1.21864324e-16\n",
       "  -3.05505856e-05 -5.01673898e-16 -1.08608063e-03  9.49523934e-19\n",
       "   2.11486967e-03 -3.34683893e-18 -4.50140065e-04]\n",
       " [ 5.69741484e-21 -1.44328542e-03  1.34296912e-17  5.24578054e-03\n",
       "  -1.97252419e-15  2.31848312e-05 -8.55314750e-17  9.99914666e-01\n",
       "   1.52972220e-16 -5.39168207e-05 -2.46492107e-15 -1.15962198e-02\n",
       "   8.43641563e-18 -2.56596700e-03  2.42569095e-18]\n",
       " [-6.78759506e-04  0.00000000e+00 -1.74497341e-03 -1.05370899e-18\n",
       "   9.86582557e-03 -1.33356867e-17  1.55155179e-05 -1.39428399e-16\n",
       "   9.99886368e-01 -7.53032619e-16 -6.74400105e-03  1.96850457e-18\n",
       "   8.38725322e-03  2.21668522e-18  3.25325477e-03]\n",
       " [-9.83821791e-20  3.11711700e-04 -3.63218431e-18  2.21904204e-03\n",
       "   6.89420960e-18  1.39910416e-05 -5.01026971e-16 -1.66227725e-05\n",
       "   7.52992460e-16  9.99859599e-01 -4.90032618e-18 -1.45679841e-03\n",
       "   2.64395871e-17 -1.65419926e-02  2.25728514e-18]\n",
       " [-1.02619943e-06  1.27327525e-17  2.02092933e-06  1.81665208e-17\n",
       "   4.51051285e-04  1.72183436e-16  1.08673189e-03 -2.17062226e-15\n",
       "  -6.74888161e-03  2.95019035e-19 -9.99976534e-01  3.36091537e-17\n",
       "  -2.13748019e-05 -1.79094627e-17 -3.94155981e-06]\n",
       " [ 2.90592260e-22  3.03591693e-06  1.17107288e-18 -2.55824619e-05\n",
       "   3.63523980e-17  8.55939678e-04  4.24989867e-20 -1.15963450e-02\n",
       "  -4.82952901e-18 -1.45687174e-03 -7.60445494e-18 -9.99931332e-01\n",
       "   8.81038350e-17  1.08874318e-05  5.01637635e-16]\n",
       " [-2.14043458e-07  3.92207572e-18 -1.52038331e-05  7.38425671e-17\n",
       "   4.97834826e-05 -3.37015090e-16 -2.11490023e-03  1.62330218e-18\n",
       "   8.38718476e-03  1.61208186e-17 -3.75068635e-05 -9.02672891e-17\n",
       "  -9.99962588e-01 -1.63084643e-16 -9.29111822e-06]\n",
       " [ 5.11433599e-22  7.06537165e-07  6.73047089e-19 -9.34979724e-06\n",
       "   7.36411294e-18 -9.85047266e-04 -4.72367887e-18 -2.56615560e-03\n",
       "  -4.45513858e-18 -1.65419362e-02  2.36490619e-17  4.21315974e-05\n",
       "   1.63146317e-16 -9.99859394e-01  7.53427696e-16]\n",
       " [-1.08938100e-06 -5.15460347e-18 -1.75496892e-07 -1.67717754e-17\n",
       "   2.53267082e-05  2.25459366e-17  4.50173420e-04 -4.24823206e-18\n",
       "   3.25293206e-03 -1.34498888e-17 -1.75126450e-05 -5.01573136e-16\n",
       "   3.56251918e-05 -7.53161606e-16 -9.99994607e-01]]"
      ]
     },
     "execution_count": 12,
     "metadata": {},
     "output_type": "execute_result"
    }
   ],
   "source": [
    "coupled_sys.diagonalizing_unitary(as_qobj=True)"
   ]
  },
  {
   "cell_type": "code",
   "execution_count": 13,
   "metadata": {},
   "outputs": [
    {
     "data": {
      "text/plain": [
       "(11.326612255753513,\n",
       " array([ 0.00000000e+00+0.j, -1.44318805e-03+0.j, -2.29026021e-17+0.j,\n",
       "        -5.24571673e-03+0.j, -1.81249916e-15+0.j,  1.57541143e-05+0.j,\n",
       "        -1.21864324e-16+0.j,  9.99914666e-01+0.j, -1.39428399e-16+0.j,\n",
       "        -1.66227725e-05+0.j, -2.17062226e-15+0.j, -1.15963450e-02+0.j,\n",
       "         1.62330218e-18+0.j, -2.56615560e-03+0.j, -4.24823206e-18+0.j]))"
      ]
     },
     "execution_count": 13,
     "metadata": {},
     "output_type": "execute_result"
    }
   ],
   "source": [
    "coupled_sys.state(\"12\")"
   ]
  },
  {
   "cell_type": "code",
   "execution_count": 14,
   "metadata": {},
   "outputs": [
    {
     "data": {
      "text/latex": [
       "$L_1(\\mathcal{E} ) = 0.0000970$"
      ],
      "text/plain": [
       "<IPython.core.display.Latex object>"
      ]
     },
     "metadata": {},
     "output_type": "display_data"
    }
   ],
   "source": [
    "avg_leakage = env_syst.leakage(comp_states_list)\n",
    "display(Latex(r'$L_1(\\mathcal{{E}} ) = {:.7f}$'.format(avg_leakage)))"
   ]
  },
  {
   "cell_type": "code",
   "execution_count": 49,
   "metadata": {},
   "outputs": [
    {
     "data": {
      "text/latex": [
       "$L_2(\\mathcal{E} ) = 0.0041586$"
      ],
      "text/plain": [
       "<IPython.core.display.Latex object>"
      ]
     },
     "metadata": {},
     "output_type": "display_data"
    }
   ],
   "source": [
    "avg_seepage = env_syst.seepage(comp_states_list)\n",
    "display(Latex(r'$L_2(\\mathcal{{E}} ) = {:.7f}$'.format(avg_seepage)))"
   ]
  },
  {
   "cell_type": "code",
   "execution_count": 50,
   "metadata": {},
   "outputs": [
    {
     "data": {
      "text/latex": [
       "$d_1 L_1(\\mathcal{E} ) = 0.0706953$"
      ],
      "text/plain": [
       "<IPython.core.display.Latex object>"
      ]
     },
     "metadata": {},
     "output_type": "display_data"
    }
   ],
   "source": [
    "display(Latex(r'$d_1 L_1(\\mathcal{{E}} ) = {:.7f}$'.format(d_comp*avg_leakage)))"
   ]
  },
  {
   "cell_type": "code",
   "execution_count": 51,
   "metadata": {},
   "outputs": [
    {
     "data": {
      "text/latex": [
       "$d_2 L_2(\\mathcal{E} ) = 0.0706954$"
      ],
      "text/plain": [
       "<IPython.core.display.Latex object>"
      ]
     },
     "metadata": {},
     "output_type": "display_data"
    }
   ],
   "source": [
    "display(Latex(r'$d_2 L_2(\\mathcal{{E}} ) = {:.7f}$'.format(d_leak*avg_seepage)))"
   ]
  },
  {
   "cell_type": "markdown",
   "metadata": {},
   "source": [
    "# Leakage analysis"
   ]
  },
  {
   "cell_type": "markdown",
   "metadata": {},
   "source": [
    "To study leakage we consider the noiseless case"
   ]
  },
  {
   "cell_type": "code",
   "execution_count": 27,
   "metadata": {},
   "outputs": [],
   "source": [
    "def run(\n",
    "    time: np.ndarray,\n",
    "    system: QubitSystem, \n",
    "    state_init: qtp.qobj.Qobj, \n",
    "    options: qtp.solver.Options=None,\n",
    "    with_noise: bool=False\n",
    "):\n",
    "    hamil0 = system.hamiltonian(as_qobj=True)\n",
    "    hamil_drive = []\n",
    "    pulse_drive = []\n",
    "                    \n",
    "    for qubit in system:\n",
    "        if qubit.is_driven:\n",
    "            for label, drive in qubit.drives.items():\n",
    "                hamil_drive.append(drive.hamiltonian(as_qobj=True))\n",
    "                pulse_drive.append(drive.eval_pulse())\n",
    "    if with_noise:\n",
    "        jump_op = [op for qubit in system for op in qubit.collapse_ops(as_qobj=True)]\n",
    "    else:\n",
    "        jump_op = []\n",
    "                    \n",
    "    result = integrate(time, state_init, hamil0, hamil_drive,\n",
    "                           pulse_drive, jump_op, \"mesolve\", options=options)\n",
    "                    \n",
    "    return result  "
   ]
  },
  {
   "cell_type": "code",
   "execution_count": 32,
   "metadata": {},
   "outputs": [
    {
     "data": {
      "text/latex": [
       "$\\mathrm{Leakage \\, computation \\, time} = 24.148 \\, s$"
      ],
      "text/plain": [
       "<IPython.core.display.Latex object>"
      ]
     },
     "metadata": {},
     "output_type": "display_data"
    }
   ],
   "source": [
    "start = time.time()\n",
    "\n",
    "_proj_comp = np.einsum('ai, aj -> ij', comp_states_list, np.conj(comp_states_list))\n",
    "subsys_dims = list(q.dim_hilbert for q in coupled_sys)\n",
    "proj_comp = qtp.Qobj(inpt=_proj_comp, dims=[subsys_dims, subsys_dims], isherm=True)\n",
    "res = run(time=2*np.pi*tlist, system=coupled_sys, state_init=proj_comp/d_comp, \n",
    "          options=simu_opt, with_noise=True)\n",
    "\n",
    "end=time.time()\n",
    "display(Latex(r'$\\mathrm{{Leakage \\, computation \\, time}} = {:.3f} \\, s$'.format(end - start)))\n",
    "l1 = 1 - qtp.expect(proj_comp, res.states[-1])"
   ]
  },
  {
   "cell_type": "code",
   "execution_count": 33,
   "metadata": {},
   "outputs": [],
   "source": [
    "comp_state_label = ['00', '01', '10', '11']\n",
    "leakage_states = []\n",
    "for lev_t in range(0, levels_t):\n",
    "    for lev_f in range(0, levels_f):\n",
    "        if str(lev_t) + str(lev_f) not in comp_state_label:\n",
    "            leakage_states.append(str(lev_t) + str(lev_f))"
   ]
  },
  {
   "cell_type": "code",
   "execution_count": 34,
   "metadata": {},
   "outputs": [],
   "source": [
    "def get_probabilities(\n",
    "    states_label: List[str], \n",
    "    system:QubitSystem, \n",
    "    final_state: qtp.qobj.Qobj\n",
    ") -> Dict:\n",
    "    prob = {}\n",
    "    for label in states_label:\n",
    "        ket = system.state(label, as_qobj=True)[1]\n",
    "        projector = ket*ket.dag()\n",
    "        prob[label] = qtp.expect(projector, final_state)\n",
    "    return prob"
   ]
  },
  {
   "cell_type": "code",
   "execution_count": 35,
   "metadata": {},
   "outputs": [
    {
     "data": {
      "text/latex": [
       "$\\mathrm{Average\\, Leakage \\,} L_1 = 0.0001068 $"
      ],
      "text/plain": [
       "<IPython.core.display.Latex object>"
      ]
     },
     "metadata": {},
     "output_type": "display_data"
    },
    {
     "data": {
      "text/latex": [
       "$P_{leak, 02  } = 0.0000315$"
      ],
      "text/plain": [
       "<IPython.core.display.Latex object>"
      ]
     },
     "metadata": {},
     "output_type": "display_data"
    },
    {
     "data": {
      "text/latex": [
       "$P_{leak, 03  } = 0.0000205$"
      ],
      "text/plain": [
       "<IPython.core.display.Latex object>"
      ]
     },
     "metadata": {},
     "output_type": "display_data"
    },
    {
     "data": {
      "text/latex": [
       "$P_{leak, 04  } = 0.0000013$"
      ],
      "text/plain": [
       "<IPython.core.display.Latex object>"
      ]
     },
     "metadata": {},
     "output_type": "display_data"
    },
    {
     "data": {
      "text/latex": [
       "$P_{leak, 05  } = 0.0000001$"
      ],
      "text/plain": [
       "<IPython.core.display.Latex object>"
      ]
     },
     "metadata": {},
     "output_type": "display_data"
    },
    {
     "data": {
      "text/latex": [
       "$P_{leak, 06  } = 0.0000000$"
      ],
      "text/plain": [
       "<IPython.core.display.Latex object>"
      ]
     },
     "metadata": {},
     "output_type": "display_data"
    },
    {
     "data": {
      "text/latex": [
       "$P_{leak, 12  } = 0.0000313$"
      ],
      "text/plain": [
       "<IPython.core.display.Latex object>"
      ]
     },
     "metadata": {},
     "output_type": "display_data"
    },
    {
     "data": {
      "text/latex": [
       "$P_{leak, 13  } = 0.0000207$"
      ],
      "text/plain": [
       "<IPython.core.display.Latex object>"
      ]
     },
     "metadata": {},
     "output_type": "display_data"
    },
    {
     "data": {
      "text/latex": [
       "$P_{leak, 14  } = 0.0000013$"
      ],
      "text/plain": [
       "<IPython.core.display.Latex object>"
      ]
     },
     "metadata": {},
     "output_type": "display_data"
    },
    {
     "data": {
      "text/latex": [
       "$P_{leak, 15  } = 0.0000001$"
      ],
      "text/plain": [
       "<IPython.core.display.Latex object>"
      ]
     },
     "metadata": {},
     "output_type": "display_data"
    },
    {
     "data": {
      "text/latex": [
       "$P_{leak, 16  } = 0.0000000$"
      ],
      "text/plain": [
       "<IPython.core.display.Latex object>"
      ]
     },
     "metadata": {},
     "output_type": "display_data"
    },
    {
     "data": {
      "text/latex": [
       "$P_{leak, 20  } = 0.0000000$"
      ],
      "text/plain": [
       "<IPython.core.display.Latex object>"
      ]
     },
     "metadata": {},
     "output_type": "display_data"
    },
    {
     "data": {
      "text/latex": [
       "$P_{leak, 21  } = 0.0000000$"
      ],
      "text/plain": [
       "<IPython.core.display.Latex object>"
      ]
     },
     "metadata": {},
     "output_type": "display_data"
    },
    {
     "data": {
      "text/latex": [
       "$P_{leak, 22  } = 0.0000000$"
      ],
      "text/plain": [
       "<IPython.core.display.Latex object>"
      ]
     },
     "metadata": {},
     "output_type": "display_data"
    },
    {
     "data": {
      "text/latex": [
       "$P_{leak, 23  } = 0.0000000$"
      ],
      "text/plain": [
       "<IPython.core.display.Latex object>"
      ]
     },
     "metadata": {},
     "output_type": "display_data"
    },
    {
     "data": {
      "text/latex": [
       "$P_{leak, 24  } = 0.0000000$"
      ],
      "text/plain": [
       "<IPython.core.display.Latex object>"
      ]
     },
     "metadata": {},
     "output_type": "display_data"
    },
    {
     "data": {
      "text/latex": [
       "$P_{leak, 25  } = 0.0000000$"
      ],
      "text/plain": [
       "<IPython.core.display.Latex object>"
      ]
     },
     "metadata": {},
     "output_type": "display_data"
    },
    {
     "data": {
      "text/latex": [
       "$P_{leak, 26  } = 0.0000000$"
      ],
      "text/plain": [
       "<IPython.core.display.Latex object>"
      ]
     },
     "metadata": {},
     "output_type": "display_data"
    },
    {
     "data": {
      "text/latex": [
       "$\\sum_k P_{leak, k  } = 0.0001068$"
      ],
      "text/plain": [
       "<IPython.core.display.Latex object>"
      ]
     },
     "metadata": {},
     "output_type": "display_data"
    }
   ],
   "source": [
    "leak_probs = get_probabilities(leakage_states, coupled_sys, res.states[-1])\n",
    "\n",
    "display(Latex(r'$\\mathrm{{Average\\, Leakage \\,}} L_1 = {:.7f} $'.format(l1)))\n",
    "\n",
    "sum_leak = 0\n",
    "\n",
    "for label in leakage_states:\n",
    "    display(Latex(r'$P_{{leak, {}  }} = {:.7f}$'.format(label, leak_probs[label])))\n",
    "    sum_leak += leak_probs[label]\n",
    "display(Latex(r'$\\sum_k P_{{leak, k  }} = {:.7f}$'.format(sum_leak)))"
   ]
  },
  {
   "cell_type": "code",
   "execution_count": null,
   "metadata": {},
   "outputs": [],
   "source": []
  }
 ],
 "metadata": {
  "kernelspec": {
   "display_name": "Python 3 (ipykernel)",
   "language": "python",
   "name": "python3"
  },
  "language_info": {
   "codemirror_mode": {
    "name": "ipython",
    "version": 3
   },
   "file_extension": ".py",
   "mimetype": "text/x-python",
   "name": "python",
   "nbconvert_exporter": "python",
   "pygments_lexer": "ipython3",
   "version": "3.7.11"
  },
  "toc": {
   "base_numbering": 1,
   "nav_menu": {},
   "number_sections": true,
   "sideBar": true,
   "skip_h1_title": false,
   "title_cell": "Table of Contents",
   "title_sidebar": "Contents",
   "toc_cell": false,
   "toc_position": {
    "height": "calc(100% - 180px)",
    "left": "10px",
    "top": "150px",
    "width": "233.333px"
   },
   "toc_section_display": true,
   "toc_window_display": false
  },
  "widgets": {
   "application/vnd.jupyter.widget-state+json": {
    "state": {},
    "version_major": 2,
    "version_minor": 0
   }
  }
 },
 "nbformat": 4,
 "nbformat_minor": 4
}
