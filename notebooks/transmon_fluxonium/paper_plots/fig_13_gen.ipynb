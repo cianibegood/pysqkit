{
 "cells": [
  {
   "cell_type": "code",
   "execution_count": 10,
   "metadata": {},
   "outputs": [],
   "source": [
    "import pathlib\n",
    "\n",
    "import numpy as np\n",
    "import xarray as xr\n",
    "import matplotlib.pyplot as plt"
   ]
  },
  {
   "cell_type": "code",
   "execution_count": 2,
   "metadata": {},
   "outputs": [],
   "source": [
    "%matplotlib inline\n",
    "%config InlineBackend.figure_format='retina'  # for hi-dpi displays"
   ]
  },
  {
   "cell_type": "code",
   "execution_count": 3,
   "metadata": {},
   "outputs": [],
   "source": [
    "TEX_RC_PARAMS = {\n",
    "    'backend': 'ps',\n",
    "    'text.latex.preamble': [r'\\usepackage{gensymb}'],\n",
    "    'axes.labelsize': 10,\n",
    "    'axes.titlesize': 10,\n",
    "    'legend.fontsize': 10,\n",
    "    'xtick.labelsize': 8,\n",
    "    'ytick.labelsize': 8,\n",
    "    'text.usetex': True,\n",
    "    'font.family': 'serif',\n",
    "}"
   ]
  },
  {
   "cell_type": "code",
   "execution_count": 4,
   "metadata": {},
   "outputs": [],
   "source": [
    "NOTEBOOK_DIR = pathlib.Path.cwd()\n",
    "\n",
    "DATA_FOLDER = NOTEBOOK_DIR / \"yield_data\"\n",
    "if not DATA_FOLDER.exists():\n",
    "    raise ValueError(\"Data folder with results not found.\")\n",
    "\n",
    "IMG_FOLDER = NOTEBOOK_DIR / \"img\"\n",
    "IMG_FOLDER.mkdir(parents=True, exist_ok=True)"
   ]
  },
  {
   "cell_type": "code",
   "execution_count": 14,
   "metadata": {},
   "outputs": [],
   "source": [
    "AMP_LABEL = \"mid\"\n",
    "AMP_VAL = 0.3\n",
    "\n",
    "MIN_RES_VAR = 0.001\n",
    "MAX_RES_VAR = 0.1\n",
    "NUM_SEEDS = 6000\n",
    "DISTANCE = 3\n",
    "\n",
    "arr_name = f\"mixed_device_yield_d_{DISTANCE}_resist_{MIN_RES_VAR}_{MAX_RES_VAR}_seeds_{NUM_SEEDS}_num_collisions_{AMP_LABEL}_drive.nc\"\n",
    "num_collisions = xr.load_dataarray(DATA_FOLDER / arr_name)\n",
    "\n",
    "NUM_COLLISION_TPYES = num_collisions.collision_ind.size\n",
    "NUM_RES_VARS = num_collisions.resist_var.size"
   ]
  },
  {
   "cell_type": "code",
   "execution_count": 82,
   "metadata": {},
   "outputs": [
    {
     "data": {
      "image/png": "[encoded data removed]",
      "text/plain": [
       "<Figure size 244.08x150.85 with 1 Axes>"
      ]
     },
     "metadata": {
      "image/png": {
       "height": 159,
       "width": 252
      },
      "needs_background": "light"
     },
     "output_type": "display_data"
    }
   ],
   "source": [
    "SAVE_IMAGE = True\n",
    "\n",
    "bar_bottom = np.zeros(NUM_RES_VARS, dtype=float)\n",
    "BAR_WIDTH = 0.09\n",
    "\n",
    "cmap = plt.cm.viridis\n",
    "#cmap = plt.cm.bone\n",
    "#CMAP_NAMES = [\"Reds\"]\n",
    "#cmap = plt.get_cmap(CMAP_NAME)\n",
    "colors = cmap(np.linspace(0, 1, 9))\n",
    "\n",
    "with plt.rc_context(TEX_RC_PARAMS):\n",
    "    fig, ax = plt.subplots(\n",
    "        figsize=(3.39, 2.0951352218621437), \n",
    "        constrained_layout=True\n",
    "    )\n",
    "    \n",
    "    avg_cols = num_collisions.mean(dim=\"seed\")\n",
    "    \n",
    "    for ind in range(NUM_COLLISION_TPYES):\n",
    "        type_cols = avg_cols.isel(collision_ind = ind)\n",
    "        color = colors[ind]\n",
    "        \n",
    "        label = f\"Type {ind + 1}\"\n",
    "        \n",
    "        ax.bar(\n",
    "            np.log10(type_cols.resist_var), \n",
    "            type_cols,  \n",
    "            width=BAR_WIDTH, \n",
    "            bottom=bar_bottom, \n",
    "            label=label,\n",
    "            color=color,\n",
    "            align=\"center\",\n",
    "        )\n",
    "        bar_bottom = type_cols\n",
    "\n",
    "    ax.set_ylim(0, 3)\n",
    "    ax.set_ylabel(r'Mean collisions')\n",
    "\n",
    "    xtick_vals = [-3, -2, -1]\n",
    "    ax.set_xticks(xtick_vals)\n",
    "    ax.set_xticklabels([r\"$10^{%d}$\" % val for val in xtick_vals])\n",
    "    ax.set_xlabel(r\"Resistance variation $\\sigma_{R}/R$\")\n",
    "    \n",
    "    ax.legend(\n",
    "        frameon=False, \n",
    "        ncol=1,\n",
    "        bbox_to_anchor=(1.05, 1),\n",
    "        loc='upper left',\n",
    "        handletextpad=0.3,\n",
    "        labelspacing=0.3,\n",
    "        borderpad=0.2,\n",
    "        markerscale=1.0,\n",
    "        handlelength=1.5,\n",
    "        borderaxespad=0.05,\n",
    "        columnspacing=0.4\n",
    "    )    \n",
    "    \n",
    "    image_name = f\"avg_num_col_vs_resist_var_d_{DISTANCE}_drive_amp_{AMP_VAL}\"\n",
    "    if SAVE_IMAGE:\n",
    "        for file_format in ('pdf', 'png'):\n",
    "            full_name = f\"{image_name}.{file_format}\"\n",
    "            fig.savefig(\n",
    "                IMG_FOLDER / full_name,  \n",
    "                dpi=300,  \n",
    "                bbox_inches='tight', \n",
    "                transparent=True, \n",
    "                format=file_format,\n",
    "                pad_inches=0\n",
    "            )\n",
    "plt.show()"
   ]
  },
  {
   "cell_type": "code",
   "execution_count": null,
   "metadata": {},
   "outputs": [],
   "source": []
  }
 ],
 "metadata": {
  "kernelspec": {
   "display_name": "repetition_codes_env",
   "language": "python",
   "name": "repetition_codes_env"
  },
  "language_info": {
   "codemirror_mode": {
    "name": "ipython",
    "version": 3
   },
   "file_extension": ".py",
   "mimetype": "text/x-python",
   "name": "python",
   "nbconvert_exporter": "python",
   "pygments_lexer": "ipython3",
   "version": "3.8.2"
  }
 },
 "nbformat": 4,
 "nbformat_minor": 4
}
