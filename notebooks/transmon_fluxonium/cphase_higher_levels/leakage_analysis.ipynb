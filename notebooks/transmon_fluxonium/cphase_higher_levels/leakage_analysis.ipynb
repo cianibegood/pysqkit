{
 "cells": [
  {
   "cell_type": "markdown",
   "metadata": {},
   "source": [
    "# CPHASE gate between a transmon and a fluxonium using higher levels of the fluxonium: leakage analysis\n",
    "In this notebook we study leakage in the two-qubit gate between a transmon and a fluxonium inspired by the two-qubit gate between a transmon and a fluxonium described in Ficheux et al. Phys. Rev. X 11, 021026 (2021). See notebook \"gate_setup_and_fidelity.ipynb\" for more details about the gate principle."
   ]
  },
  {
   "cell_type": "code",
   "execution_count": 1,
   "metadata": {},
   "outputs": [],
   "source": [
    "import numpy as np\n",
    "import time\n",
    "import qutip as qtp\n",
    "import matplotlib.pyplot as plt\n",
    "import scipy.integrate\n",
    "from scipy.optimize import minimize\n",
    "import pysqkit\n",
    "from pysqkit import QubitSystem\n",
    "from pysqkit.util.metrics import average_process_fidelity, \\\n",
    "    average_gate_fidelity\n",
    "from pysqkit.drives.pulse_shapes import gaussian_top\n",
    "from pysqkit.util.phys import temperature_to_thermalenergy\n",
    "from pysqkit.util.quantum import generalized_rabi_frequency\n",
    "import pysqkit.util.transformations as trf\n",
    "from pysqkit.util.hsbasis import weyl_by_index\n",
    "from pysqkit.solvers.solvkit import integrate\n",
    "from typing import List, Dict, Callable\n",
    "import matplotlib\n",
    "matplotlib.rcParams['mathtext.fontset'] = 'cm'\n",
    "import util_cphase as util\n",
    "import cmath\n",
    "import json\n",
    "import multiprocessing\n",
    "from functools import partial\n",
    "\n",
    "from IPython.display import display, Latex\n"
   ]
  },
  {
   "cell_type": "markdown",
   "metadata": {},
   "source": [
    "From a first analysis it seems that leakage is mainly due to incoherent processes in the fluxonium. In fact, adding relaxation to the fluxonium highly increases the leakage. "
   ]
  },
  {
   "cell_type": "code",
   "execution_count": 2,
   "metadata": {},
   "outputs": [],
   "source": [
    "with open('../flx_transm_params.txt') as param_file:\n",
    "    parameters_set = json.load(param_file)"
   ]
  },
  {
   "cell_type": "code",
   "execution_count": 17,
   "metadata": {},
   "outputs": [],
   "source": [
    "temperature = 0.020 # K\n",
    "thermal_energy = temperature_to_thermalenergy(temperature) # kb T/h in GHz\n",
    "d_comp = 4\n",
    "\n",
    "p_set = \"0\"\n",
    "\n",
    "\n",
    "#Transmon\n",
    "levels_t = 3\n",
    "transm = pysqkit.qubits.SimpleTransmon(\n",
    "    label='T', \n",
    "    max_freq=parameters_set[p_set][\"max_freq_t\"], \n",
    "    anharm=parameters_set[p_set][\"anharm_t\"],\n",
    "    diel_loss_tan=parameters_set[p_set][\"diel_loss_tan_t\"], #set to zero to check d_1 L1 = d_2 L2\n",
    "    env_thermal_energy=thermal_energy,    \n",
    "    dim_hilbert=levels_t,\n",
    "    dephasing_times=None #parameters_set[p_set][\"dephasing_times_t\"]\n",
    ")\n",
    "\n",
    "#Fluxonium\n",
    "levels_f = 5\n",
    "\n",
    "flx = pysqkit.qubits.Fluxonium(\n",
    "    label='F', \n",
    "    charge_energy=parameters_set[p_set][\"charge_energy_f\"], \n",
    "    induct_energy=parameters_set[p_set][\"induct_energy_f\"], \n",
    "    joseph_energy=parameters_set[p_set][\"joseph_energy_f\"], #8.0, \n",
    "    diel_loss_tan=parameters_set[p_set][\"diel_loss_tan_f\"], #set to zero to check d_1 L1 = d_2 L2\n",
    "    env_thermal_energy=thermal_energy,\n",
    "    dephasing_times=None #parameters_set[p_set][\"dephasing_times_f\"] #ns/2*np.pi \n",
    ")\n",
    "flx.diagonalize_basis(levels_f)\n",
    "\n",
    "# We also add a drive on the fluxonium\n",
    "flx.add_drive(\n",
    "    pysqkit.drives.microwave_drive,\n",
    "    label='cz_drive_f',\n",
    "    pulse=pysqkit.drives.pulses.cos_modulation,\n",
    "    pulse_shape=pysqkit.drives.pulse_shapes.gaussian_top\n",
    ")\n",
    "\n",
    "d_leak = levels_t*levels_f - d_comp\n",
    "\n",
    "jc = parameters_set[p_set][\"jc\"]\n",
    "coupled_sys = transm.couple_to(flx, coupling=pysqkit.couplers.capacitive_coupling, strength=jc)\n",
    "bare_system = transm.couple_to(flx, coupling=pysqkit.couplers.capacitive_coupling, strength=0.0)"
   ]
  },
  {
   "cell_type": "code",
   "execution_count": 18,
   "metadata": {},
   "outputs": [],
   "source": [
    "state_label = [\"00\", \"01\", \"10\", \"11\"]\n",
    "comp_states = {}\n",
    "for label in state_label:\n",
    "    state_tmp = coupled_sys.state(label)[1]\n",
    "    loc = np.argmax(np.abs(state_tmp))\n",
    "    phase = cmath.phase(state_tmp[loc])\n",
    "    state_tmp = np.exp(-1j*phase)*state_tmp\n",
    "    comp_states[label] = state_tmp\n",
    "comp_states_list = []\n",
    "for key in comp_states.keys():\n",
    "    comp_states_list.append(comp_states[key])"
   ]
  },
  {
   "cell_type": "code",
   "execution_count": 19,
   "metadata": {},
   "outputs": [],
   "source": [
    "def func_to_minimize(\n",
    "    x0: np.ndarray,\n",
    "    levels_first_transition: List['str'],\n",
    "    levels_second_transition: List['str'],\n",
    "    system: pysqkit.systems.system.QubitSystem,\n",
    "    cond_phase: float,\n",
    "    eps_ratio_dict: Dict    \n",
    ") -> float:\n",
    "    \n",
    "    \"\"\"\n",
    "    Description\n",
    "    --------------------------------------------------------------------------\n",
    "    Function to minimize in order to match the parameters to \n",
    "    implement a CPHASE gate given a certain conditional phase up to \n",
    "    single-qubit rotations. \n",
    "\n",
    "    Parameters\n",
    "    --------------------------------------------------------------------------\n",
    "    x0 : np.ndarray([eps_reference, drive_freq]) \n",
    "        It represents the parameters to be minimized.\n",
    "    levels_first_transition : List['str'] \n",
    "        List with the labels of the first transition whose generalized Rabi \n",
    "        frequency has to be matched\n",
    "    levels_second_transition : List['str'] \n",
    "        List with the labels of the second transition whose generalized Rabi \n",
    "        frequency has to be matched\n",
    "    system: QubitSystem\n",
    "        The coupled system we are analyzing\n",
    "    cond_phase: float\n",
    "        Conditional phase\n",
    "    eps_ratio_dict: Dict \n",
    "        Dictionary whose keys are system.labels. The entries correspond\n",
    "        to the ratios between the corresponding qubit drive and the \n",
    "        reference drive.     \n",
    "    \"\"\"\n",
    "    \n",
    "    qubit_labels = system.labels\n",
    "    eps = {}\n",
    "    for qubit in qubit_labels:\n",
    "        eps[qubit] = x0[0]*eps_ratio_dict[qubit]\n",
    "    rabi_first_transition = generalized_rabi_frequency(levels_first_transition, eps, x0[1], system)\n",
    "    rabi_second_transition = generalized_rabi_frequency(levels_second_transition, eps, x0[1], system)\n",
    "    delta_gate = util.delta(system)\n",
    "    y = np.sqrt( (rabi_first_transition - rabi_second_transition)**2 + \\\n",
    "                rabi_first_transition**2*(cond_phase - delta_gate/rabi_first_transition*np.pi)**2)\n",
    "    return np.abs(y/delta_gate)\n",
    "\n",
    "def func_to_minimize_time(\n",
    "    pulse_time: list,\n",
    "    t_rise: float,\n",
    "    rabi_period\n",
    ") -> float:\n",
    "    step = 1e-3\n",
    "    n_points = int(pulse_time[0]/step)\n",
    "    times = np.linspace(0, pulse_time[0], n_points)\n",
    "    pulse = gaussian_top(times, t_rise, pulse_time[0])\n",
    "    integral = scipy.integrate.simpson(pulse, times)\n",
    "    return np.abs(integral - rabi_period) "
   ]
  },
  {
   "cell_type": "code",
   "execution_count": 20,
   "metadata": {},
   "outputs": [],
   "source": [
    "cond_phase = np.pi\n",
    "qubit_labels = coupled_sys.labels\n",
    "x0 = np.array([0.017, 7.15]) #initial guess \n",
    "eps_ratios = {qubit_labels[0]: 0.0, qubit_labels[1]:1.0}\n",
    "args_to_pass = (['00', '03'], ['10', '13'], coupled_sys, cond_phase, eps_ratios) \n",
    "minimization_result = minimize(func_to_minimize, x0, args=args_to_pass)\n",
    "eps_drive = minimization_result['x'][0]\n",
    "eps_drive = minimization_result['x'][0]\n",
    "freq_drive = minimization_result['x'][1]\n",
    "\n",
    "eps = {}\n",
    "for qubit in qubit_labels:\n",
    "    eps[qubit] = eps_drive*eps_ratios[qubit]\n",
    "rabi_period = 1/generalized_rabi_frequency([\"00\", \"03\"], \n",
    "                                           eps, freq_drive, coupled_sys)\n",
    "\n",
    "t_rise = 10.0 # [ns]\n",
    "\n",
    "\n",
    "t_gate_0 = [rabi_period]\n",
    "\n",
    "args_to_pass = (t_rise, rabi_period) \n",
    "\n",
    "minimization_result_time = minimize(func_to_minimize_time, \n",
    "                                    t_gate_0, args=args_to_pass)\n",
    "\n",
    "pts_per_drive_period = 10\n",
    "t_gate_ideal = minimization_result_time['x'][0]\n",
    "nb_points = int(t_gate_ideal*freq_drive*pts_per_drive_period)\n",
    "t_list = np.linspace(0, t_gate_ideal, nb_points)"
   ]
  },
  {
   "cell_type": "code",
   "execution_count": 21,
   "metadata": {},
   "outputs": [],
   "source": [
    "coupled_sys['F'].drives['cz_drive_f'].set_params(phase=0, time=t_list, \n",
    "                                                 rise_time=t_rise, pulse_time=t_gate_ideal,\n",
    "                                                 amp=eps_drive, freq=freq_drive)"
   ]
  },
  {
   "cell_type": "markdown",
   "metadata": {},
   "source": [
    "In what follows we are interested in studying leakage out of the computational subspace that we here define"
   ]
  },
  {
   "cell_type": "code",
   "execution_count": 22,
   "metadata": {},
   "outputs": [],
   "source": [
    "state_labels = ['00', '01', '10', '11']\n",
    "comp_states = []\n",
    "for label in state_labels:\n",
    "    comp_states.append(coupled_sys.state(label)[1])"
   ]
  },
  {
   "cell_type": "code",
   "execution_count": 23,
   "metadata": {},
   "outputs": [],
   "source": [
    "def run(\n",
    "    time: np.ndarray,\n",
    "    system: QubitSystem, \n",
    "    state_init: qtp.qobj.Qobj,\n",
    "    with_noise: bool=True,\n",
    "    options: qtp.solver.Options=None\n",
    "):\n",
    "    hamil0 = system.hamiltonian(as_qobj=True)\n",
    "    hamil_drive = []\n",
    "    pulse_drive = []\n",
    "                    \n",
    "    for qubit in system:\n",
    "        if qubit.is_driven:\n",
    "            for label, drive in qubit.drives.items():\n",
    "                hamil_drive.append(drive.hamiltonian(as_qobj=True))\n",
    "                pulse_drive.append(drive.eval_pulse())\n",
    "    if with_noise:\n",
    "        jump_op = [op for qubit in system for op in qubit.collapse_ops(as_qobj=True)]\n",
    "    else:\n",
    "        jump_op = []\n",
    "                    \n",
    "    result = integrate(time, state_init, hamil0, hamil_drive,\n",
    "                           pulse_drive, jump_op , \"mesolve\", options=options)\n",
    "                    \n",
    "    return result   "
   ]
  },
  {
   "cell_type": "code",
   "execution_count": 36,
   "metadata": {},
   "outputs": [
    {
     "data": {
      "text/latex": [
       "$\\mathrm{Leakage \\, computation \\, time} = 3.945 \\, s$"
      ],
      "text/plain": [
       "<IPython.core.display.Latex object>"
      ]
     },
     "metadata": {},
     "output_type": "display_data"
    }
   ],
   "source": [
    "start = time.time()\n",
    "\n",
    "simu_opt = qtp.solver.Options()\n",
    "simu_opt.atol = 1e-12\n",
    "simu_opt.rtol = 1e-10\n",
    "\n",
    "_proj_comp = np.einsum('ai, aj -> ij', comp_states, np.conj(comp_states))\n",
    "subsys_dims = list(q.dim_hilbert for q in coupled_sys)\n",
    "proj_comp = qtp.Qobj(inpt=_proj_comp, dims=[subsys_dims, subsys_dims], isherm=True)\n",
    "res = run(time=2*np.pi*t_list, system=coupled_sys, state_init=proj_comp/d_comp, with_noise=True, options=simu_opt)\n",
    "\n",
    "end=time.time()\n",
    "display(Latex(r'$\\mathrm{{Leakage \\, computation \\, time}} = {:.3f} \\, s$'.format(end - start)))\n",
    "l1 = 1 - qtp.expect(proj_comp, res.states[-1])"
   ]
  },
  {
   "cell_type": "code",
   "execution_count": 37,
   "metadata": {},
   "outputs": [],
   "source": [
    "leakage_states = ['13', '03', '04', '12', '02']"
   ]
  },
  {
   "cell_type": "code",
   "execution_count": 38,
   "metadata": {},
   "outputs": [],
   "source": [
    "def get_probabilities(\n",
    "    states_label: List[str], \n",
    "    system:QubitSystem, \n",
    "    final_state: qtp.qobj.Qobj\n",
    ") -> Dict:\n",
    "    prob = {}\n",
    "    for label in states_label:\n",
    "        ket = system.state(label, as_qobj=True)[1]\n",
    "        projector = ket*ket.dag()\n",
    "        prob[label] = qtp.expect(projector, final_state)\n",
    "    return prob\n",
    "    "
   ]
  },
  {
   "cell_type": "code",
   "execution_count": 39,
   "metadata": {},
   "outputs": [
    {
     "data": {
      "text/latex": [
       "$\\mathrm{Average\\, Leakage \\,} L_1 = 0.0030216 $"
      ],
      "text/plain": [
       "<IPython.core.display.Latex object>"
      ]
     },
     "metadata": {},
     "output_type": "display_data"
    },
    {
     "data": {
      "text/latex": [
       "$P_{leak, 13  } = 0.0004194$"
      ],
      "text/plain": [
       "<IPython.core.display.Latex object>"
      ]
     },
     "metadata": {},
     "output_type": "display_data"
    },
    {
     "data": {
      "text/latex": [
       "$P_{leak, 03  } = 0.0009119$"
      ],
      "text/plain": [
       "<IPython.core.display.Latex object>"
      ]
     },
     "metadata": {},
     "output_type": "display_data"
    },
    {
     "data": {
      "text/latex": [
       "$P_{leak, 04  } = 0.0015455$"
      ],
      "text/plain": [
       "<IPython.core.display.Latex object>"
      ]
     },
     "metadata": {},
     "output_type": "display_data"
    },
    {
     "data": {
      "text/latex": [
       "$P_{leak, 12  } = 0.0000528$"
      ],
      "text/plain": [
       "<IPython.core.display.Latex object>"
      ]
     },
     "metadata": {},
     "output_type": "display_data"
    },
    {
     "data": {
      "text/latex": [
       "$P_{leak, 02  } = 0.0000919$"
      ],
      "text/plain": [
       "<IPython.core.display.Latex object>"
      ]
     },
     "metadata": {},
     "output_type": "display_data"
    },
    {
     "data": {
      "text/latex": [
       "$\\sum_k P_{leak, k  } = 0.0030215$"
      ],
      "text/plain": [
       "<IPython.core.display.Latex object>"
      ]
     },
     "metadata": {},
     "output_type": "display_data"
    }
   ],
   "source": [
    "leak_probs = get_probabilities(leakage_states, coupled_sys, res.states[-1])\n",
    "\n",
    "display(Latex(r'$\\mathrm{{Average\\, Leakage \\,}} L_1 = {:.7f} $'.format(l1)))\n",
    "\n",
    "sum_leak = 0\n",
    "\n",
    "for label in leakage_states:\n",
    "    display(Latex(r'$P_{{leak, {}  }} = {:.7f}$'.format(label, leak_probs[label])))\n",
    "    sum_leak += leak_probs[label]\n",
    "display(Latex(r'$\\sum_k P_{{leak, k  }} = {:.7f}$'.format(sum_leak)))"
   ]
  },
  {
   "cell_type": "code",
   "execution_count": null,
   "metadata": {},
   "outputs": [],
   "source": []
  },
  {
   "cell_type": "code",
   "execution_count": null,
   "metadata": {},
   "outputs": [],
   "source": []
  }
 ],
 "metadata": {
  "kernelspec": {
   "display_name": "Python 3.7.3 64-bit ('base': conda)",
   "language": "python",
   "name": "python37364bitbaseconda36d0b2465ec04527ba16a77ef6d99d0e"
  },
  "language_info": {
   "codemirror_mode": {
    "name": "ipython",
    "version": 3
   },
   "file_extension": ".py",
   "mimetype": "text/x-python",
   "name": "python",
   "nbconvert_exporter": "python",
   "pygments_lexer": "ipython3",
   "version": "3.7.11"
  }
 },
 "nbformat": 4,
 "nbformat_minor": 4
}
