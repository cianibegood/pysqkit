{
 "cells": [
  {
   "cell_type": "markdown",
   "metadata": {},
   "source": [
    "# Schrieffer-Wolff transformation for a transmon and a fluxonium system\n",
    "We consider a system of capacitively coupled transmon and fluxonium. Approximating the transmona as a Duffing oscillator the Hamiltonian is\n",
    "\n",
    "$$H = H^{(0)}_T + H^{(0)}_F + V$$\n",
    "\n",
    "$$H^{(0)}_T =  \\hbar \\omega_T \\hat{b}^{\\dagger}\\hat{b} + \\hbar \\frac{\\delta_T}{2} \\hat{b}^{\\dagger} \\hat{b}^{\\dagger}\\hat{b} \\hat{b},$$\n",
    "\n",
    "$$H^{(0)}_F = 4 E_{C,F} \\cdot \\hat{q}^2_F + \\frac{1}{2}E_{L,F}\\cdot\\hat{\\varphi}^2_F - E_{J,F}\\cos\\left(\\hat{\\varphi}_F - \\phi_{ext,F}\\right),$$\n",
    "\n",
    "$$V = J_C \\cdot \\hat{q}_T \\cdot \\hat{q}_F.$$\n",
    "\n",
    "The (approximate) charge operator for the transmon in terms of annihilation and creation operators reads\n",
    "\n",
    "$$\n",
    "\\hat{q}_T = i \\biggl( \\frac{E_J}{32 |\\delta_T |} \\biggr)^{1/4} (b^{\\dagger} - b) = i q_{\\mathrm{ZPF}}(b^{\\dagger} - b),\n",
    "$$\n",
    "where \n",
    "$$\n",
    "E_J = \\hbar \\biggl(\\frac{\\omega_T - \\delta_T}{8 | \\delta_T |} \\biggr)^2.\n",
    "$$\n",
    "\n",
    "We will restrict ourselves to the case where $\\phi_{ext, F} = \\pi$, so that a parity selection rule applies to the matrix elements of the fluxonium charge operator. \n"
   ]
  },
  {
   "cell_type": "code",
   "execution_count": 70,
   "metadata": {},
   "outputs": [],
   "source": [
    "import numpy as np\n",
    "import scipy.integrate\n",
    "import time\n",
    "import qutip as qtp\n",
    "import matplotlib.pyplot as plt\n",
    "from scipy.optimize import minimize\n",
    "import pysqkit\n",
    "import cmath\n",
    "from pysqkit import QubitSystem, Qubit\n",
    "from pysqkit.util.phys import temperature_to_thermalenergy\n",
    "from pysqkit.util.quantum import generalized_rabi_frequency\n",
    "from pysqkit.util.linalg import get_mat_elem\n",
    "from pysqkit.solvers import solvkit\n",
    "import qutip\n",
    "from typing import List, Dict, Callable\n",
    "import matplotlib\n",
    "matplotlib.rcParams['mathtext.fontset'] = 'cm'\n",
    "import util_sw as util\n",
    "import copy\n",
    "import os\n",
    "import json\n",
    "\n",
    "from IPython.display import display, Latex"
   ]
  },
  {
   "cell_type": "markdown",
   "metadata": {},
   "source": [
    "# Introducing the qubits and the coupled system"
   ]
  },
  {
   "cell_type": "code",
   "execution_count": 71,
   "metadata": {},
   "outputs": [],
   "source": [
    "parameters_set = {}\n",
    "\n",
    "\n",
    "parameters_set[\"0\"] = {\"max_freq_t\": 4.5, \"anharm_t\": -0.3, \"diel_loss_tan_t\": 0.75*1e-6*20,\n",
    "                     \"dephasing_times_t\": {'1': 2*np.pi*50*1e3, '2': 2*np.pi*30*1e3}, \n",
    "                     \"charge_energy_f\": 1.0, \"induct_energy_f\": .5, \"joseph_energy_f\": 8.0, \n",
    "                     \"diel_loss_tan_f\": 7.1*1e-6, \"dephasing_times_f\": {'1': 2*np.pi*200*1e3, '2':2*np.pi*20*1e3, \n",
    "                                                                        '3': 2*np.pi*20*1e3, '4': 2*np.pi*5*1e3},\n",
    "                      \"jc\": 0.03}\n",
    "parameters_set[\"1\"] = {\"max_freq_t\": 5.0, \"anharm_t\": -0.3, \"diel_loss_tan_t\": 0.75*1e-6*20,\n",
    "                     \"dephasing_times_t\": {'1': 2*np.pi*50*1e3, '2': 2*np.pi*30*1e3}, \n",
    "                     \"charge_energy_f\": 1.0, \"induct_energy_f\": .85, \"joseph_energy_f\": 5.0, \n",
    "                     \"diel_loss_tan_f\": 7.1*1e-6, \"dephasing_times_f\": {'1': 2*np.pi*200*1e3, '2':2*np.pi*20*1e3, \n",
    "                                                                        '3': 2*np.pi*20*1e3, '4': 2*np.pi*5*1e3},\n",
    "                      \"jc\": 0.015}\n",
    "\n",
    "parameters_set[\"2\"] = {\"max_freq_t\": 4.5, \"anharm_t\": -0.3, \"diel_loss_tan_t\": 0.75*1e-6*20,\n",
    "                     \"dephasing_times_t\": {'1': 2*np.pi*50*1e3, '2': 2*np.pi*30*1e3}, \n",
    "                     \"charge_energy_f\": 1.0, \"induct_energy_f\": 1.0, \"joseph_energy_f\": 4.0, \n",
    "                     \"diel_loss_tan_f\": 7.1*1e-6, \"dephasing_times_f\": {'1': 2*np.pi*200*1e3, '2':2*np.pi*20*1e3, \n",
    "                                                                        '3': 2*np.pi*20*1e3, '4': 2*np.pi*5*1e3},\n",
    "                      \"jc\": 0.02}\n",
    "\n",
    "parameters_set[\"test\"] = {\"max_freq_t\": 4.5, \"anharm_t\": -0.3, \"diel_loss_tan_t\": 0.75*1e-6*20,\n",
    "                     \"dephasing_times_t\": {'1': 2*np.pi*50*1e3, '2': 2*np.pi*30*1e3}, \n",
    "                     \"charge_energy_f\": 0.6, \"induct_energy_f\": 0.5, \"joseph_energy_f\": 4.0, \n",
    "                     \"diel_loss_tan_f\": 7.1*1e-6, \"dephasing_times_f\": {'1': 2*np.pi*200*1e3, '2':2*np.pi*20*1e3, \n",
    "                                                                        '3': 2*np.pi*20*1e3, '4': 2*np.pi*5*1e3},\n",
    "                      \"jc\": 0.02}"
   ]
  },
  {
   "cell_type": "code",
   "execution_count": 72,
   "metadata": {},
   "outputs": [
    {
     "data": {
      "text/latex": [
       "$f_{flx}/2 \\pi = 581.8489963974281 \\, \\mathrm{MHz} $"
      ],
      "text/plain": [
       "<IPython.core.display.Latex object>"
      ]
     },
     "metadata": {},
     "output_type": "display_data"
    }
   ],
   "source": [
    "d_comp = 4\n",
    "\n",
    "p_set = \"2\"\n",
    "\n",
    "\n",
    "#Transmon\n",
    "levels_t = 3\n",
    "transm = pysqkit.qubits.SimpleTransmon(\n",
    "    label='T', \n",
    "    max_freq=parameters_set[p_set][\"max_freq_t\"], \n",
    "    anharm=parameters_set[p_set][\"anharm_t\"],\n",
    "    dim_hilbert=levels_t\n",
    ")\n",
    "\n",
    "#Fluxonium\n",
    "levels_f = 4\n",
    "\n",
    "flx = pysqkit.qubits.Fluxonium(\n",
    "    label='F', \n",
    "    charge_energy=parameters_set[p_set][\"charge_energy_f\"], \n",
    "    induct_energy=parameters_set[p_set][\"induct_energy_f\"], \n",
    "    joseph_energy=parameters_set[p_set][\"joseph_energy_f\"], #8.0, \n",
    ")\n",
    "flx.diagonalize_basis(levels_f)\n",
    "\n",
    "d_leak = levels_t*levels_f - d_comp\n",
    "\n",
    "jc = parameters_set[p_set][\"jc\"]\n",
    "coupled_sys = transm.couple_to(flx, coupling=pysqkit.couplers.capacitive_coupling, strength=jc)\n",
    "bare_system = transm.couple_to(flx, coupling=pysqkit.couplers.capacitive_coupling, strength=0.0)\n",
    "flx_freq = bare_system.state('01')[0] - bare_system.state('00')[0]\n",
    "display(Latex(r'$f_{{flx}}/2 \\pi = {} \\, \\mathrm{{MHz}} $'.format(flx_freq*1e3)))"
   ]
  },
  {
   "cell_type": "markdown",
   "metadata": {},
   "source": [
    "The coupling term represents the perturbation $V$ in the Schrieffer-Wollf perturbation theory. Notice that technically speaking $V$ is an unbounded operator and many of the results of Bravyi-Loss-DiVincenzo would not apply. However, one can use the strategy of truncating the Hilbert space and analyze how the perturbation result behave by taking the limit. Intuitively it is reasonable to consider the first 3 levels for the transmon and the first 4 for the fluxonium. We plot the relevant energy levels in this case."
   ]
  },
  {
   "cell_type": "code",
   "execution_count": 73,
   "metadata": {},
   "outputs": [
    {
     "data": {
      "image/png": "[encoded data removed]",
      "text/plain": [
       "<Figure size 720x576 with 1 Axes>"
      ]
     },
     "metadata": {
      "needs_background": "light"
     },
     "output_type": "display_data"
    }
   ],
   "source": [
    "level_list = ['00', '01', '10', '11', '02', '20', '12','21', '03', '13']\n",
    "\n",
    "util.energy_levels_diagram(bare_system, level_list, show_drive=False)"
   ]
  },
  {
   "cell_type": "markdown",
   "metadata": {},
   "source": [
    "The $ZZ$ coupling is defined as\n",
    "\n",
    "$$\\zeta_{ZZ} = E_{00} + E_{11} - E_{01} - E_{10}$$\n",
    "\n",
    "\n",
    "Using a second order Schrieffer-Wolff transformation we obtain the following expression for the $ZZ$ coupling coefficient generally defined as\n",
    "\n",
    "$$\\hbar \\zeta_{ZZ}^{(SW)} = J_C^2 q_{\\mathrm{ZPF}}^2 \\biggl[\\biggl(\\frac{2 |q_{10}|^2}{\\omega_{flx, 1} - (\\omega_T + \\delta_T) } \\biggr) - \\frac{|q_{21}|^2}{\\omega_{flx, 2} - (\\omega_T + \\omega_{flx, 1}) } \\biggr) + \\frac{|q_{30}|^2}{\\omega_{flx, 3} - \\omega_T} \\biggr]$$,\n",
    "where $\\omega_{flx, k} = E_{flx, k}/\\hbar$ is the\n"
   ]
  },
  {
   "cell_type": "code",
   "execution_count": 74,
   "metadata": {},
   "outputs": [],
   "source": [
    "def zz_sw(\n",
    "    transm: Qubit,\n",
    "    flx: Qubit,\n",
    "    jc: float\n",
    "):\n",
    "    \"\"\"\n",
    "    Description\n",
    "    ------------------------------------------------------------\n",
    "    Returns the ZZ coupling according to the second order\n",
    "    Schrieffer-Wolff formula\n",
    "    \"\"\"\n",
    "    \n",
    "    q_zpf = transm.charge_zpf\n",
    "    omega_t = transm.freq\n",
    "    delta_t = transm.anharm\n",
    "    omega_flx, states_flx = flx.eig_states(4)\n",
    "    omega_flx = omega_flx - omega_flx[0]\n",
    "    q_10 = np.imag(get_mat_elem(flx.charge_op(), states_flx[1], states_flx[0]))\n",
    "    q_21 = np.imag(get_mat_elem(flx.charge_op(), states_flx[2], states_flx[1]))\n",
    "    q_30 = np.imag(get_mat_elem(flx.charge_op(), states_flx[3], states_flx[0]))\n",
    "    coeff = 2*q_10**2/(omega_flx[1] - (omega_t + delta_t))\n",
    "    coeff += -q_21**2/(omega_flx[2] - (omega_t + omega_flx[1]))\n",
    "    coeff += q_30**2/(omega_flx[3] - omega_t)\n",
    "    xi_zz = jc**2*q_zpf**2*coeff\n",
    "    return xi_zz\n",
    "\n",
    "def zz(system: QubitSystem) -> float:\n",
    "    \"\"\"\n",
    "    Description\n",
    "    ------------------------------------------------------------\n",
    "    Returns the ZZ coupling according to the second order\n",
    "    Schrieffer-Wolff formula\n",
    "    \"\"\"\n",
    "    xi_zz = system.state('00')[0] + system.state('11')[0] \\\n",
    "        - system.state('01')[0] - system.state('10')[0]\n",
    "    return xi_zz\n",
    "    "
   ]
  },
  {
   "cell_type": "markdown",
   "metadata": {},
   "source": [
    "Example"
   ]
  },
  {
   "cell_type": "code",
   "execution_count": 75,
   "metadata": {},
   "outputs": [
    {
     "data": {
      "text/latex": [
       "$\\xi_{ZZ}/h = 0.1331934555910408 \\, \\mathrm{MHz}$"
      ],
      "text/plain": [
       "<IPython.core.display.Latex object>"
      ]
     },
     "metadata": {},
     "output_type": "display_data"
    },
    {
     "data": {
      "text/latex": [
       "$\\xi_{ZZ}^{(SW)}/h = 0.1422147832235696 \\, \\mathrm{MHz}$"
      ],
      "text/plain": [
       "<IPython.core.display.Latex object>"
      ]
     },
     "metadata": {},
     "output_type": "display_data"
    }
   ],
   "source": [
    "display(Latex(r'$\\xi_{{ZZ}}/h = {} \\, \\mathrm{{MHz}}$'.format(zz(coupled_sys)*1e3)))\n",
    "display(Latex(r'$\\xi_{{ZZ}}^{{(SW)}}/h = {} \\, \\mathrm{{MHz}}$'.format(zz_sw(transm, flx, jc)*1e3)))"
   ]
  },
  {
   "cell_type": "markdown",
   "metadata": {},
   "source": [
    "We now take three values of $J_C$ and sweep over the transmon frequency"
   ]
  },
  {
   "cell_type": "code",
   "execution_count": 76,
   "metadata": {},
   "outputs": [
    {
     "name": "stdout",
     "output_type": "stream",
     "text": [
      "Computation time = 43.88691449165344 s\n"
     ]
    }
   ],
   "source": [
    "min_freq = 4.2\n",
    "max_freq = 5.8\n",
    "n_points = 100\n",
    "freq_list = list(np.linspace(min_freq, max_freq, n_points))\n",
    "jc_dict = {\"0\":0.005, \"1\":0.015, \"2\":0.03}\n",
    "zz_dict = {}\n",
    "zz_sw_dict = {}\n",
    "\n",
    "start = time.time()\n",
    "\n",
    "for key in jc_dict.keys():\n",
    "    zz_list = []\n",
    "    zz_sw_list = []\n",
    "    for freq in freq_list:\n",
    "        transm_tmp = pysqkit.qubits.SimpleTransmon(\n",
    "            label='T', \n",
    "            max_freq=freq, \n",
    "            anharm=parameters_set[p_set][\"anharm_t\"],\n",
    "            dim_hilbert=levels_t,\n",
    "        )\n",
    "        coupled_sys_tmp = transm_tmp.couple_to(flx, coupling=pysqkit.couplers.capacitive_coupling, \n",
    "                                               strength=jc_dict[key])\n",
    "        zz_list.append(zz(coupled_sys_tmp))\n",
    "        zz_sw_list.append(zz_sw(transm_tmp, flx, jc_dict[key]))\n",
    "    zz_dict[key] = zz_list \n",
    "    zz_sw_dict[key] = zz_sw_list\n",
    "\n",
    "end = time.time()\n",
    "\n",
    "print(\"Computation time = {} s\".format(end - start))\n",
    "        \n"
   ]
  },
  {
   "cell_type": "code",
   "execution_count": 78,
   "metadata": {},
   "outputs": [
    {
     "data": {
      "image/png": "[encoded data removed]",
      "text/plain": [
       "<Figure size 576x576 with 1 Axes>"
      ]
     },
     "metadata": {
      "needs_background": "light"
     },
     "output_type": "display_data"
    }
   ],
   "source": [
    "fig, ax = plt.subplots(figsize=(8, 8))\n",
    "ax.semilogy(freq_list, np.abs(np.array(zz_dict[\"0\"]))*1e3, linewidth=2.0, color='black')\n",
    "ax.semilogy(freq_list, np.abs(np.array(zz_sw_dict[\"0\"]))*1e3, linewidth=2.0, linestyle=':', color='black')\n",
    "ax.semilogy(freq_list, np.abs(np.array(zz_dict[\"1\"]))*1e3, linewidth=2.0, color='blue')\n",
    "ax.semilogy(freq_list, np.abs(np.array(zz_sw_dict[\"1\"]))*1e3, linewidth=2.0, linestyle=':', color='blue')\n",
    "ax.semilogy(freq_list, np.abs(np.array(zz_dict[\"2\"]))*1e3, linewidth=2.0, color='red')\n",
    "ax.semilogy(freq_list, np.abs(np.array(zz_sw_dict[\"2\"]))*1e3, linewidth=2.0, linestyle=':', color='red')\n",
    "plt.show()"
   ]
  },
  {
   "cell_type": "markdown",
   "metadata": {},
   "source": [
    "We now perform a similar comparison, but with the $YZ$ term associated with the transformed charge operator of the fluxonium."
   ]
  },
  {
   "cell_type": "code",
   "execution_count": 79,
   "metadata": {},
   "outputs": [],
   "source": [
    "def mu_yz_flx(comp_states, op) -> float:\n",
    "    yz0 = get_mat_elem(op, comp_states['00'], comp_states['10'])\n",
    "    yz1 = get_mat_elem(op, comp_states['01'], comp_states['11'] )\n",
    "#     print(\"yz0 = {}\".format(yz0))\n",
    "#     print(\"yz1 = {}\".format(yz1))\n",
    "#     print(\"---------------------------------\")\n",
    "    return (np.imag(yz0 - yz1))/2\n",
    "\n",
    "def mu_yi_flx(comp_states, op) -> float:\n",
    "    yz0 = get_mat_elem(op, comp_states['00'], comp_states['10'] )\n",
    "    yz1 = get_mat_elem(op, comp_states['01'], comp_states['11'] )\n",
    "    return (np.imag(yz0 + yz1))/2"
   ]
  },
  {
   "cell_type": "code",
   "execution_count": 80,
   "metadata": {},
   "outputs": [],
   "source": [
    "state_label = [\"00\", \"01\", \"10\", \"11\"]\n",
    "comp_states = {}\n",
    "for label in state_label:\n",
    "    state_tmp = coupled_sys.state(label)[1]\n",
    "    loc = np.argmax(np.abs(state_tmp))\n",
    "    phase = cmath.phase(state_tmp[loc])\n",
    "    state_tmp = np.exp(-1j*phase)*state_tmp\n",
    "    comp_states[label] = state_tmp"
   ]
  },
  {
   "cell_type": "code",
   "execution_count": 81,
   "metadata": {},
   "outputs": [
    {
     "data": {
      "text/latex": [
       "$\\mu_{YZ} = -0.0034 $"
      ],
      "text/plain": [
       "<IPython.core.display.Latex object>"
      ]
     },
     "metadata": {},
     "output_type": "display_data"
    },
    {
     "data": {
      "text/latex": [
       "$\\mu_{IY} = 0.0018 $"
      ],
      "text/plain": [
       "<IPython.core.display.Latex object>"
      ]
     },
     "metadata": {},
     "output_type": "display_data"
    }
   ],
   "source": [
    "q_op = coupled_sys[\"F\"].charge_op()\n",
    "display(Latex(r'$\\mu_{{YZ}} = {:.4f} $'.format(mu_yz_flx(comp_states, q_op))))\n",
    "display(Latex(r'$\\mu_{{IY}} = {:.4f} $'.format(mu_yi_flx(comp_states, q_op))))"
   ]
  },
  {
   "cell_type": "markdown",
   "metadata": {},
   "source": [
    "The Schrieffer-Wolff expression for these terms is\n",
    "$$\n",
    "\\mu_{YI} = -\\frac{J_{C} q_{ZPF}}{2}\\biggl[\\frac{|q_{30}|^2}{\\omega_{flx, 3} - \\omega_T} + \\frac{|q_{21}|^2}{\\omega_{flx, 2} - (\\omega_T  + \\omega_{flx, 1})}  \\biggr]\n",
    "$$,\n",
    "\n",
    "$$\n",
    "\\mu_{YZ} = \\frac{J_{C} q_{ZPF}}{2}\\biggl[\\frac{|q_{21}|^2}{\\omega_{flx, 2} - (\\omega_T  + \\omega_{flx, 1})} - \\frac{|q_{30}|^2}{\\omega_{flx, 3} - \\omega_T}  \\biggr] + \\frac{J_C q_{ZPF}| q_{10}^2|}{\\omega_T - \\omega_{flx, 1}}\n",
    "$$"
   ]
  },
  {
   "cell_type": "code",
   "execution_count": 89,
   "metadata": {},
   "outputs": [],
   "source": [
    "def mu_yz_flx_sw(\n",
    "    transm: Qubit,\n",
    "    flx: Qubit,\n",
    "    jc: float\n",
    "):\n",
    "    q_zpf = transm.charge_zpf\n",
    "    omega_t = transm.freq\n",
    "    omega_flx, states_flx = flx.eig_states(4)\n",
    "    omega_flx = omega_flx - omega_flx[0]\n",
    "    q_10 = np.imag(get_mat_elem(flx.charge_op(), states_flx[1], states_flx[0]))\n",
    "    q_21 = np.imag(get_mat_elem(flx.charge_op(), states_flx[2], states_flx[1]))\n",
    "    q_30 = np.imag(get_mat_elem(flx.charge_op(), states_flx[3], states_flx[0]))\n",
    "    coeff = q_21**2/(omega_flx[2] - (omega_t + omega_flx[1]))\n",
    "    coeff += -q_30**2/(omega_flx[3] - omega_t)\n",
    "    coeff += q_10**2/(omega_t - omega_flx[1]) \n",
    "    mu_yz = jc*q_zpf*coeff/2\n",
    "    return mu_yz\n",
    "\n",
    "def mu_yi_flx_sw(\n",
    "    transm: Qubit,\n",
    "    flx: Qubit,\n",
    "    jc: float\n",
    "):\n",
    "    q_zpf = transm.charge_zpf\n",
    "    omega_t = transm.freq\n",
    "    omega_flx, states_flx = flx.eig_states(4)\n",
    "    omega_flx = omega_flx - omega_flx[0]\n",
    "    q_21 = np.imag(get_mat_elem(flx.charge_op(), states_flx[2], states_flx[1]))\n",
    "    q_30 = np.imag(get_mat_elem(flx.charge_op(), states_flx[3], states_flx[0]))\n",
    "    coeff = q_21**2/(omega_flx[2] - (omega_t + omega_flx[1]))\n",
    "    coeff += q_30**2/(omega_flx[3] - omega_t)\n",
    "    mu_yi = -jc*q_zpf*coeff/2\n",
    "    return mu_yi"
   ]
  },
  {
   "cell_type": "markdown",
   "metadata": {},
   "source": [
    "For the initial parameters we obtain"
   ]
  },
  {
   "cell_type": "code",
   "execution_count": 90,
   "metadata": {},
   "outputs": [
    {
     "data": {
      "text/latex": [
       "$\\mu_{YZ} = -0.0034 $"
      ],
      "text/plain": [
       "<IPython.core.display.Latex object>"
      ]
     },
     "metadata": {},
     "output_type": "display_data"
    },
    {
     "data": {
      "text/latex": [
       "$\\mu_{YZ}^{(SW)} = -0.0036 $"
      ],
      "text/plain": [
       "<IPython.core.display.Latex object>"
      ]
     },
     "metadata": {},
     "output_type": "display_data"
    },
    {
     "data": {
      "text/latex": [
       "$\\mu_{IY} = 0.0018 $"
      ],
      "text/plain": [
       "<IPython.core.display.Latex object>"
      ]
     },
     "metadata": {},
     "output_type": "display_data"
    },
    {
     "data": {
      "text/latex": [
       "$\\mu_{YI}^{(SW)} = 0.0023 $"
      ],
      "text/plain": [
       "<IPython.core.display.Latex object>"
      ]
     },
     "metadata": {},
     "output_type": "display_data"
    }
   ],
   "source": [
    "q_op = coupled_sys[\"F\"].charge_op()\n",
    "display(Latex(r'$\\mu_{{YZ}} = {:.4f} $'.format(mu_yz_flx(comp_states, q_op))))\n",
    "display(Latex(r'$\\mu_{{YZ}}^{{(SW)}} = {:.4f} $'.format(mu_yz_flx_sw(transm, flx, jc))))\n",
    "display(Latex(r'$\\mu_{{IY}} = {:.4f} $'.format(mu_yi_flx(comp_states, q_op))))\n",
    "display(Latex(r'$\\mu_{{YI}}^{{(SW)}} = {:.4f} $'.format(mu_yi_flx_sw(transm, flx, jc))))"
   ]
  },
  {
   "cell_type": "code",
   "execution_count": 91,
   "metadata": {},
   "outputs": [
    {
     "name": "stdout",
     "output_type": "stream",
     "text": [
      "Computation time = 9.747042179107666 s\n"
     ]
    }
   ],
   "source": [
    "mu_yz_list = []\n",
    "mu_yi_list = []\n",
    "mu_yz_sw_list = []\n",
    "mu_yi_sw_list = []\n",
    "\n",
    "\n",
    "jc_cr = 0.015\n",
    "\n",
    "start = time.time()\n",
    "\n",
    "for freq in freq_list:\n",
    "    transm_tmp = pysqkit.qubits.SimpleTransmon(\n",
    "        label='T', \n",
    "        max_freq=freq, \n",
    "        anharm=parameters_set[p_set][\"anharm_t\"],\n",
    "        dim_hilbert=levels_t,\n",
    "    )\n",
    "    coupled_sys_tmp = transm_tmp.couple_to(flx, coupling=pysqkit.couplers.capacitive_coupling, \n",
    "                                           strength=jc_cr)\n",
    "    state_label = [\"00\", \"01\", \"10\", \"11\"]\n",
    "    comp_states_tmp = {}\n",
    "    for label in state_label:\n",
    "        state_tmp = coupled_sys_tmp.state(label)[1]\n",
    "        loc = np.argmax(np.abs(state_tmp))\n",
    "        phase = cmath.phase(state_tmp[loc])\n",
    "        state_tmp = np.exp(-1j*phase)*state_tmp\n",
    "        comp_states_tmp[label] = state_tmp\n",
    "    q_op_tmp = coupled_sys_tmp[\"F\"].charge_op()\n",
    "    mu_yz_list.append(mu_yz_flx(comp_states_tmp, q_op_tmp))\n",
    "    mu_yi_list.append(mu_yi_flx(comp_states_tmp, q_op_tmp))\n",
    "    mu_yz_sw_list.append(mu_yz_flx_sw(transm_tmp, flx, jc_cr))\n",
    "    mu_yi_sw_list.append(mu_yi_flx_sw(transm_tmp, flx, jc_cr))\n",
    "    \n",
    "end = time.time()\n",
    "\n",
    "print(\"Computation time = {} s\".format(end - start))"
   ]
  },
  {
   "cell_type": "code",
   "execution_count": 92,
   "metadata": {},
   "outputs": [
    {
     "data": {
      "image/png": "[encoded data removed]",
      "text/plain": [
       "<Figure size 432x288 with 1 Axes>"
      ]
     },
     "metadata": {
      "needs_background": "light"
     },
     "output_type": "display_data"
    }
   ],
   "source": [
    "plt.plot(freq_list, mu_yz_list, linestyle='--', color='black')\n",
    "plt.plot(freq_list, mu_yz_sw_list, color='black')\n",
    "plt.plot(freq_list, mu_yi_list, linestyle='--', color='blue')\n",
    "plt.plot(freq_list, mu_yi_sw_list, color='blue')\n",
    "plt.show()"
   ]
  },
  {
   "cell_type": "code",
   "execution_count": 95,
   "metadata": {},
   "outputs": [
    {
     "name": "stdout",
     "output_type": "stream",
     "text": [
      "Creation of the directory /home/ciani/python/github/pysqkit/docs/research/transmon_fluxonium/schrieffer-wolff/tmp/ failed\n"
     ]
    }
   ],
   "source": [
    "\"\"\" Saving data \"\"\"\n",
    "\n",
    "save = True\n",
    "if save:\n",
    "    path = os.getcwd() + '/tmp/'\n",
    "    try:\n",
    "        os.mkdir(path)\n",
    "    except OSError:\n",
    "        print (\"Creation of the directory %s failed\" % path)\n",
    "    else:\n",
    "        print (\"Successfully created the directory %s \" % path)\n",
    "    paramfile = open(path + '/sw_params.txt', \"w+\")\n",
    "    paramfile.write('The data where generated using ')\n",
    "    paramfile.write('the following parameters. \\n ')\n",
    "    paramfile.write('Parameters for fluxonium \\n ')\n",
    "    paramfile.write('EC/h = %f' % flx.charge_energy + '\\n')\n",
    "    paramfile.write('EL/h = %f' % flx.induct_energy + '\\n')\n",
    "    paramfile.write('EJ/h = %f' % flx.joseph_energy + '\\n')\n",
    "    paramfile.write('Parameters for transmon \\n ')\n",
    "    paramfile.write('delta_T/2 \\pi = %f' % transm.anharm + '\\n')\n",
    "    paramfile.write('In the plot with the cross resonance parameters \\n')\n",
    "    paramfile.write('the coupling is set to \\n')\n",
    "    paramfile.write('J_C/2 \\pi = %f' % jc_cr + '\\n')\n",
    "    paramfile.close()\n",
    "    \n",
    "    with open(\"tmp/jc.txt\", \"w\") as fp:\n",
    "        json.dump(jc_dict, fp)\n",
    "    with open(\"tmp/zz.txt\", \"w\") as fp:\n",
    "        json.dump(zz_dict, fp)\n",
    "    with open(\"tmp/zz_sw.txt\", \"w\") as fp:\n",
    "        json.dump(zz_sw_dict, fp)\n",
    "    with open(\"tmp/transm_freq.txt\", \"w\") as fp:\n",
    "        json.dump(freq_list, fp)\n",
    "    with open(\"tmp/mu_yz.txt\", \"w\") as fp:\n",
    "        json.dump(mu_yz_list, fp)\n",
    "    with open(\"tmp/mu_yi.txt\", \"w\") as fp:\n",
    "        json.dump(mu_yi_list, fp)\n",
    "    with open(\"tmp/mu_yz_sw.txt\", \"w\") as fp:\n",
    "        json.dump(mu_yz_sw_list, fp)\n",
    "    with open(\"tmp/mu_yi_sw.txt\", \"w\") as fp:\n",
    "        json.dump(mu_yi_sw_list, fp)"
   ]
  },
  {
   "cell_type": "code",
   "execution_count": null,
   "metadata": {},
   "outputs": [],
   "source": []
  }
 ],
 "metadata": {
  "kernelspec": {
   "display_name": "Python 3.7.3 64-bit ('base': conda)",
   "language": "python",
   "name": "python37364bitbaseconda36d0b2465ec04527ba16a77ef6d99d0e"
  },
  "language_info": {
   "codemirror_mode": {
    "name": "ipython",
    "version": 3
   },
   "file_extension": ".py",
   "mimetype": "text/x-python",
   "name": "python",
   "nbconvert_exporter": "python",
   "pygments_lexer": "ipython3",
   "version": "3.7.11"
  }
 },
 "nbformat": 4,
 "nbformat_minor": 5
}
