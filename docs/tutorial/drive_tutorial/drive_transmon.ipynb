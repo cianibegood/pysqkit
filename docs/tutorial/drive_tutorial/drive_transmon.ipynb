{
 "cells": [
  {
   "cell_type": "markdown",
   "id": "0a4a32e4",
   "metadata": {},
   "source": [
    "# Driving a transmon qubit \n",
    "In this tutorial we show how to drive a transmon qubit using pysqkit and how to extract the fidelity of the desired single-qubit gate. "
   ]
  },
  {
   "cell_type": "code",
   "execution_count": 49,
   "id": "dbd69a4f",
   "metadata": {},
   "outputs": [],
   "source": [
    "import numpy as np \n",
    "import cmath\n",
    "import time\n",
    "from typing import Callable\n",
    "import matplotlib.pyplot as plt\n",
    "from pysqkit.qubits import SimpleTransmon\n",
    "from pysqkit.systems.system import QubitSystem, Qubit\n",
    "from pysqkit.drives import microwave_drive\n",
    "from pysqkit.drives.pulses import cos_modulation\n",
    "from pysqkit.drives.pulse_shapes import gaussian_top\n",
    "from pysqkit.util.metrics import average_process_fidelity, average_gate_fidelity\n",
    "from pysqkit.util.phys import temperature_to_thermalenergy\n",
    "from pysqkit.util.hsbasis import weyl_by_index, weyl\n",
    "from pysqkit.util.linalg import hilbert_schmidt_prod\n",
    "import pysqkit.util.transformations as trf\n",
    "from pysqkit.util.quantum import generalized_rabi_frequency\n",
    "from pysqkit.solvers import solvkit\n",
    "from pysqkit.tomography import TomoEnv\n",
    "import qutip\n",
    "import matplotlib \n",
    "matplotlib.rcParams['mathtext.fontset'] = 'cm'\n",
    "from IPython.display import display, Latex"
   ]
  },
  {
   "cell_type": "markdown",
   "id": "e1431fe7",
   "metadata": {},
   "source": [
    "A microwave gate for a transmon qubit is based on the following driven Hamiltonian \n",
    "\n",
    "$$H = H^{(0)}_T  + H_{drive},$$\n",
    "\n",
    "$$H^{(0)}_T =  \\hbar \\omega_T \\hat{b}^{\\dagger}\\hat{b} + \\hbar \\frac{\\delta_T}{2} \\hat{b}^{\\dagger} \\hat{b}^{\\dagger}\\hat{b} \\hat{b},$$\n",
    "\n",
    "\n",
    "$$\\frac{H_{drive}}{h} = \\varepsilon_T \\cos(2\\pi f_d t) \\hat{n}_T.$$\n",
    "\n",
    "The (approximate) charge operator for the transmon in terms of annihilation and creation operators reads\n",
    "\n",
    "$$\n",
    "\\hat{n}_T = i \\biggl( \\frac{E_J}{32 |\\delta_T |} \\biggr)^{1/4} (b^{\\dagger} - b),\n",
    "$$\n",
    "where \n",
    "$$\n",
    "E_J = \\hbar \\biggl(\\frac{\\omega_T - \\delta_T}{8 | \\delta_T |} \\biggr)^2.\n",
    "$$\n",
    "Let us introduce the transmon object"
   ]
  },
  {
   "cell_type": "code",
   "execution_count": 43,
   "id": "99f96bc2",
   "metadata": {},
   "outputs": [],
   "source": [
    "temperature = 0.020 #K\n",
    "thermal_energy = temperature_to_thermalenergy(temperature) # kb T/h in GHz\n",
    "\n",
    "levels_t = 3\n",
    "transm = SimpleTransmon(\n",
    "    label='T',\n",
    "    max_freq=5.0,\n",
    "    anharm=-0.3,\n",
    "    diel_loss_tan=0.75*1e-6,\n",
    "    env_thermal_energy=thermal_energy,\n",
    "    dim_hilbert=levels_t\n",
    ")\n",
    "\n",
    "# We also add the drive \n",
    "# In what follows we show two cases: the pulse give as a function or directly as a list \n",
    "pulse_as_list = False\n",
    "if pulse_as_list == False:  \n",
    "    transm.add_drive(microwave_drive, label='sq_gate', pulse=cos_modulation, \n",
    "                     pulse_shape=gaussian_top)"
   ]
  },
  {
   "cell_type": "code",
   "execution_count": 44,
   "id": "60063847",
   "metadata": {},
   "outputs": [],
   "source": [
    "# Setting drive parameters\n",
    "eps_drive = 0.03\n",
    "freq_drive = transm.freq\n",
    "rabi_period = 1/generalized_rabi_frequency(['0', '1'], eps_drive, freq_drive, transm)\n",
    "t_rise = 5 #5 #ns\n",
    "t_tot = rabi_period/2 + t_rise #ns (parameters optimized by hand so far) \n",
    "\n",
    "\n",
    "pts_per_drive_period = 10\n",
    "nb_points = int(t_tot*freq_drive*pts_per_drive_period)\n",
    "t_list = np.linspace(0, t_tot, nb_points)\n",
    "pulse_list = np.zeros(nb_points)\n",
    "shape = gaussian_top(t_list, t_rise)\n",
    "\n",
    "if pulse_as_list == True:\n",
    "    for k in range(0, nb_points):\n",
    "        pulse_list[k] = eps_drive*shape[k]*np.cos(2*np.pi*freq_drive*t_list[k])\n",
    "    transm.add_drive(microwave_drive, label='sq_gate', pulse=pulse_list)\n",
    "else:\n",
    "    transm.drives['sq_gate'].set_params(phase=0.0, time=t_list, rise_time=t_rise, amp=eps_drive, freq=freq_drive)"
   ]
  },
  {
   "cell_type": "code",
   "execution_count": 45,
   "id": "47831790",
   "metadata": {},
   "outputs": [],
   "source": [
    "# Setting up simulation\n",
    "hamil0 = transm.hamiltonian(as_qobj=True)\n",
    "hamil_drive = [transm.drives['sq_gate'].hamiltonian(as_qobj=True)]\n",
    "pulse_drive = [transm.drives['sq_gate'].eval_pulse()]\n",
    "jump_ops = transm.collapse_ops(as_qobj=True)\n",
    "state_in = transm.state('0', as_qobj=True)[1] \n",
    "\n",
    "simu_opt = qutip.solver.Options()\n",
    "simu_opt.atol = 1e-12\n",
    "simu_opt.rtol = 1e-10\n",
    "\n",
    "output = solvkit.integrate(2*np.pi*t_list, state_in, hamil0, hamil_drive, pulse_drive, jump_ops, \"mesolve\", options=simu_opt) "
   ]
  },
  {
   "cell_type": "markdown",
   "id": "2319f197",
   "metadata": {},
   "source": [
    "Let us now compute the probability of being in $| 0 \\rangle$, $| 1 \\rangle$, $| 2 \\rangle$."
   ]
  },
  {
   "cell_type": "code",
   "execution_count": 46,
   "id": "e968f63b",
   "metadata": {},
   "outputs": [],
   "source": [
    "probs = np.zeros([3, nb_points], dtype=float)\n",
    "for k in range(nb_points):\n",
    "    for level in range(3):\n",
    "        state = transm.state(str(level), as_qobj=True)[1]\n",
    "        probs[level, k] = qutip.expect(state*state.dag(), output.states[k])\n"
   ]
  },
  {
   "cell_type": "code",
   "execution_count": 47,
   "id": "60a8642c",
   "metadata": {},
   "outputs": [
    {
     "data": {
      "image/png": "[encoded data removed]",
      "text/plain": [
       "<Figure size 576x432 with 1 Axes>"
      ]
     },
     "metadata": {
      "needs_background": "light"
     },
     "output_type": "display_data"
    }
   ],
   "source": [
    "def prob_plot(\n",
    "    t_list: np.ndarray, \n",
    "    probs: np.ndarray, \n",
    "    opt: dict={'fs': 18, 'lw': 2.0, 'lw_levels': 3.0, 'ls': 16}\n",
    ") -> None:\n",
    "    colors=['black', 'blue', 'red']    \n",
    "    fig, ax = plt.subplots(figsize=(8, 6))\n",
    "    for level in range(3):\n",
    "        ax.plot(t_list, probs[level, :], linewidth=opt['lw'], \n",
    "                color=colors[level], label='$P_{}$'.format(str(level)))\n",
    "    ax.set_xlabel('$t \\, [\\mathrm{ns}]$', fontsize=opt['fs'])\n",
    "    ax.tick_params(labelsize=opt['ls'])\n",
    "    plt.legend(fontsize=opt['fs'])\n",
    "    plt.show()\n",
    "    \n",
    "prob_plot(t_list, probs)      \n",
    "    \n",
    "    "
   ]
  },
  {
   "cell_type": "markdown",
   "id": "560fff53",
   "metadata": {},
   "source": [
    "Now the previous gate should implement a $Y$ gate on the computational subspace, up to single-qubit phases to be corrected. We now want to obtain the fidelity with respect to this gate."
   ]
  },
  {
   "cell_type": "code",
   "execution_count": 15,
   "id": "fc95f0c5",
   "metadata": {},
   "outputs": [],
   "source": [
    "env_syst = TomoEnv(system=transm, time=2*np.pi*t_list, options=simu_opt)"
   ]
  },
  {
   "cell_type": "code",
   "execution_count": 16,
   "id": "ae384ea3",
   "metadata": {},
   "outputs": [],
   "source": [
    "state_label = ['0', '1']\n",
    "comp_states = []\n",
    "for label in state_label:\n",
    "    comp_states.append(transm.state(label)[1])"
   ]
  },
  {
   "cell_type": "code",
   "execution_count": 17,
   "id": "3d62df4d",
   "metadata": {},
   "outputs": [
    {
     "name": "stdout",
     "output_type": "stream",
     "text": [
      "Computational time = 0.8932442665100098 s\n"
     ]
    }
   ],
   "source": [
    "# We now perform the tomography\n",
    "n_process = 4\n",
    "\n",
    "start = time.time()\n",
    "sup_op = env_syst.to_super(comp_states, weyl_by_index, n_process)\n",
    "end = time.time()\n",
    "print(\"Computational time = \" + str(end - start) + ' s')"
   ]
  },
  {
   "cell_type": "markdown",
   "id": "727e619f",
   "metadata": {},
   "source": [
    "We now need to obtain the single-qubit correction"
   ]
  },
  {
   "cell_type": "code",
   "execution_count": 10,
   "id": "95fae69f",
   "metadata": {},
   "outputs": [],
   "source": [
    "def single_qubit_correction(\n",
    "    sup_op: np.ndarray,\n",
    "    hs_basis: Callable[[int, int], np.ndarray]\n",
    ") -> np.ndarray:\n",
    "    # WARNING: puzzled by sigma minus and sigma plus\n",
    "    # Not looks correct, but it does not agree with the\n",
    "    # CZ correction in fluxonium transmon\n",
    "    #sigma_m = np.array([[0.0, 0.0], [1.0, 0.0]])\n",
    "    # check why this is not working\n",
    "    sigma_m = np.array([[0.0, 1.0], [0.0, 0.0]])\n",
    "    sigma_m_vec = trf.mat_to_vec(sigma_m, hs_basis)\n",
    "    evolved_sigma_m_vec = sup_op.dot(sigma_m_vec)\n",
    "    evolved_sigma_m = trf.vec_to_mat(evolved_sigma_m_vec, hs_basis)\n",
    "    phi = cmath.phase(hilbert_schmidt_prod(sigma_m, evolved_sigma_m))\n",
    "    p_phi = np.array([[1, 0], [0, np.exp(-1j*phi)]])\n",
    "    return p_phi\n",
    "\n",
    "# The analytic correction works...\n",
    "\n",
    "def analytic_correction(\n",
    "    freq_drive: float,\n",
    "    t_tot: float\n",
    ") -> np.ndarray:\n",
    "    phi = 2*np.pi*freq_drive*t_tot\n",
    "    p_phi = np.array([[1, 0], [0, np.exp(1j*phi)]])\n",
    "    return p_phi\n",
    "    \n",
    "\n",
    "#sq_corr = single_qubit_correction(sup_op, weyl_by_index)\n",
    "sq_corr = analytic_correction(freq_drive, t_tot)\n",
    "sq_corr_sup = trf.kraus_to_super(sq_corr, weyl_by_index)\n",
    "total_sup_op = sq_corr_sup.dot(sup_op)"
   ]
  },
  {
   "cell_type": "markdown",
   "id": "9523f690",
   "metadata": {},
   "source": [
    "We have obtained the superoperator associated with the single-qubit correction. We now just need to compute the superoperator associated with the desired $Y$ gate."
   ]
  },
  {
   "cell_type": "code",
   "execution_count": 11,
   "id": "a3dd90d2",
   "metadata": {},
   "outputs": [],
   "source": [
    "y = np.array([[0.0, -1j*1.0], [1j*1.0, 0.0]])\n",
    "y_sup = trf.kraus_to_super(y, weyl_by_index)"
   ]
  },
  {
   "cell_type": "markdown",
   "id": "2bf58bd1",
   "metadata": {},
   "source": [
    "We can now calculate the average process fidelity. "
   ]
  },
  {
   "cell_type": "code",
   "execution_count": 12,
   "id": "ab6af480",
   "metadata": {},
   "outputs": [
    {
     "data": {
      "text/latex": [
       "$F_{pro} = 0.99614$"
      ],
      "text/plain": [
       "<IPython.core.display.Latex object>"
      ]
     },
     "metadata": {},
     "output_type": "display_data"
    }
   ],
   "source": [
    "f_pro = average_process_fidelity(y_sup, total_sup_op)\n",
    "display(Latex(r'$F_{{pro}} = {:.5f}$'.format(f_pro)))"
   ]
  },
  {
   "cell_type": "code",
   "execution_count": 13,
   "id": "20784962",
   "metadata": {},
   "outputs": [
    {
     "data": {
      "text/latex": [
       "$L_1(\\mathcal{E} ) = 0.0000217$"
      ],
      "text/plain": [
       "<IPython.core.display.Latex object>"
      ]
     },
     "metadata": {},
     "output_type": "display_data"
    }
   ],
   "source": [
    "avg_leakage = env_syst.leakage(comp_states)\n",
    "display(Latex(r'$L_1(\\mathcal{{E}} ) = {:.7f}$'.format(avg_leakage)))"
   ]
  },
  {
   "cell_type": "code",
   "execution_count": 14,
   "id": "73a91d77",
   "metadata": {},
   "outputs": [
    {
     "data": {
      "text/latex": [
       "$F_{gate} = 0.99742$"
      ],
      "text/plain": [
       "<IPython.core.display.Latex object>"
      ]
     },
     "metadata": {},
     "output_type": "display_data"
    }
   ],
   "source": [
    "f_gate = average_gate_fidelity(y_sup, total_sup_op, avg_leakage)\n",
    "display(Latex(r'$F_{{gate}} = {:.5f}$'.format(f_gate)))"
   ]
  },
  {
   "cell_type": "markdown",
   "id": "e07c3284",
   "metadata": {},
   "source": [
    "In what follows we simply rewrite the previous as a function that given a fixed total time varies frequency, strength rise time of the drive to compute a fidelity"
   ]
  },
  {
   "cell_type": "code",
   "execution_count": 15,
   "id": "9301c424",
   "metadata": {},
   "outputs": [],
   "source": [
    "def obj_function(\n",
    "    t_rise: float,\n",
    "    freq_drive: float, \n",
    "    eps_drive: float\n",
    ") -> float:\n",
    "    temperature = 0.020 #K\n",
    "    thermal_energy = temperature_to_thermalenergy(temperature) # kb T/h in GHz\n",
    "\n",
    "    levels_t = 3\n",
    "    transm = SimpleTransmon(\n",
    "        label='T',\n",
    "        max_freq=5.0,\n",
    "        anharm=-0.3,\n",
    "        diel_loss_tan=0.75*1e-6,\n",
    "        env_thermal_energy=thermal_energy,\n",
    "        dim_hilbert=levels_t\n",
    "    )\n",
    "    transm.add_drive(microwave_drive, label='sq_gate', pulse_shape=gaussian_top)\n",
    "    \n",
    "    # Setting drive parameters\n",
    "    rabi_period = 1/generalized_rabi_frequency(['0', '1'], eps_drive, freq_drive, transm)\n",
    "    t_tot = rabi_period/2 + t_rise #ns (parameters optimized by hand so far) \n",
    "    \n",
    "    pts_per_drive_period = 10\n",
    "    nb_points = int(t_tot*freq_drive*pts_per_drive_period)\n",
    "    t_list = np.linspace(0, t_tot, nb_points)\n",
    "    transm.drives['sq_gate'].set_params(phase=0.0, time=t_list, \n",
    "                                        rise_time=t_rise, amp=eps_drive, freq=freq_drive)\n",
    "    \n",
    "    simu_opt = qutip.solver.Options()\n",
    "    simu_opt.atol = 1e-12\n",
    "    simu_opt.rtol = 1e-10\n",
    "    \n",
    "    env_syst = TomoEnv(system=transm, time=2*np.pi*t_list, options=simu_opt)\n",
    "    \n",
    "    state_label = ['0', '1']\n",
    "    comp_states = []\n",
    "    for label in state_label:\n",
    "        comp_states.append(transm.state(label)[1])\n",
    "    \n",
    "    \n",
    "    # We now perform the tomography\n",
    "    n_process = 4\n",
    "    \n",
    "    start = time.time()\n",
    "\n",
    "    sup_op = env_syst.to_super(comp_states, weyl_by_index, n_process)\n",
    "    \n",
    "    end = time.time()\n",
    "    print(\"Tomography time = \" + str(end - start) + ' s')\n",
    "    \n",
    "    def analytic_correction(\n",
    "        freq_drive: float,\n",
    "        t_tot: float\n",
    "    ) -> np.ndarray:\n",
    "        phi = 2*np.pi*freq_drive*t_tot\n",
    "        p_phi = np.array([[1, 0], [0, np.exp(1j*phi)]])\n",
    "        return p_phi\n",
    "    \n",
    "\n",
    "    #sq_corr = single_qubit_correction(sup_op, weyl_by_index)\n",
    "    sq_corr = analytic_correction(freq_drive, t_tot)\n",
    "    sq_corr_sup = trf.kraus_to_super(sq_corr, weyl_by_index)\n",
    "    total_sup_op = sq_corr_sup.dot(sup_op)\n",
    "    \n",
    "    y = np.array([[0.0, -1j*1.0], [1j*1.0, 0.0]])\n",
    "    y_sup = trf.kraus_to_super(y, weyl_by_index)\n",
    "    \n",
    "    f_pro = average_process_fidelity(y_sup, total_sup_op)\n",
    "    avg_leakage = env_syst.leakage(comp_states)\n",
    "    f_gate = average_gate_fidelity(y_sup, total_sup_op, avg_leakage)\n",
    "    \n",
    "    return f_gate    "
   ]
  },
  {
   "cell_type": "code",
   "execution_count": 16,
   "id": "39b7fb97",
   "metadata": {},
   "outputs": [
    {
     "name": "stdout",
     "output_type": "stream",
     "text": [
      "Tomography time = 0.42630457878112793 s\n",
      "Computation time = 0.59276 s\n"
     ]
    },
    {
     "data": {
      "text/latex": [
       "$F_{gate} = 0.99742$"
      ],
      "text/plain": [
       "<IPython.core.display.Latex object>"
      ]
     },
     "metadata": {},
     "output_type": "display_data"
    }
   ],
   "source": [
    "start = time.time()\n",
    "\n",
    "f_gate_new = obj_function(t_rise=5, freq_drive=transm.freq, eps_drive=0.03)\n",
    "\n",
    "end = time.time()\n",
    "print('Computation time = {:.5f}'.format(end - start) + ' s')\n",
    "display(Latex(r'$F_{{gate}} = {:.5f}$'.format(f_gate_new)))"
   ]
  },
  {
   "cell_type": "code",
   "execution_count": null,
   "id": "ccc3d9ae",
   "metadata": {},
   "outputs": [],
   "source": []
  }
 ],
 "metadata": {
  "kernelspec": {
   "display_name": "Python 3.7.3 64-bit ('base': conda)",
   "language": "python",
   "name": "python37364bitbaseconda36d0b2465ec04527ba16a77ef6d99d0e"
  },
  "language_info": {
   "codemirror_mode": {
    "name": "ipython",
    "version": 3
   },
   "file_extension": ".py",
   "mimetype": "text/x-python",
   "name": "python",
   "nbconvert_exporter": "python",
   "pygments_lexer": "ipython3",
   "version": "3.7.11"
  }
 },
 "nbformat": 4,
 "nbformat_minor": 5
}
