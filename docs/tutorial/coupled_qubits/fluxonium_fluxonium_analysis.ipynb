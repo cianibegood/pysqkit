{
 "cells": [
  {
   "cell_type": "code",
   "execution_count": 1,
   "metadata": {},
   "outputs": [],
   "source": [
    "import numpy as np\n",
    "import xarray as xr\n",
    "import matplotlib.pyplot as plt\n",
    "import pysqkit as sq\n",
    "from itertools import product, combinations\n",
    "from matplotlib.lines import Line2D\n",
    "from IPython.display import display, Latex, Image"
   ]
  },
  {
   "cell_type": "code",
   "execution_count": 2,
   "metadata": {},
   "outputs": [],
   "source": [
    "fluxonium_A = sq.qubits.Fluxonium(\n",
    "    label='A',\n",
    "    joseph_energy=5.899, \n",
    "    charge_energy=0.973, \n",
    "    induct_energy=0.457,\n",
    "    flux = 0.5\n",
    ")\n",
    "\n",
    "fluxonium_B = sq.qubits.Fluxonium(\n",
    "    label='B',\n",
    "    joseph_energy=5.768, \n",
    "    charge_energy=1.027, \n",
    "    induct_energy=0.684,\n",
    "    flux = 0.5\n",
    ")\n",
    "\n",
    "fluxonium_A.diagonalize_basis(5)\n",
    "fluxonium_B.diagonalize_basis(5)"
   ]
  },
  {
   "cell_type": "code",
   "execution_count": 3,
   "metadata": {},
   "outputs": [
    {
     "data": {
      "text/latex": [
       "$\\omega^{f}_{0 \\rightarrow 1}$ = 0.070 GHz"
      ],
      "text/plain": [
       "<IPython.core.display.Latex object>"
      ]
     },
     "metadata": {},
     "output_type": "display_data"
    },
    {
     "data": {
      "text/latex": [
       "$\\omega^{f}_{1 \\rightarrow 2}$ = 5.185 GHz"
      ],
      "text/plain": [
       "<IPython.core.display.Latex object>"
      ]
     },
     "metadata": {},
     "output_type": "display_data"
    },
    {
     "data": {
      "text/latex": [
       "$\\omega^{f}_{2 \\rightarrow 3}$ = 0.991 GHz"
      ],
      "text/plain": [
       "<IPython.core.display.Latex object>"
      ]
     },
     "metadata": {},
     "output_type": "display_data"
    }
   ],
   "source": [
    "qubit_A_tran_freqs = np.diff(fluxonium_A.eig_energies(), 1)\n",
    "for level in range(3):\n",
    "    display(Latex(r'$\\omega^{{f}}_{{{} \\rightarrow {}}}$ = {:.3f} GHz'.format(level, level+1, qubit_A_tran_freqs[level])))"
   ]
  },
  {
   "cell_type": "code",
   "execution_count": 4,
   "metadata": {},
   "outputs": [
    {
     "data": {
      "text/latex": [
       "$\\omega^{f}_{0 \\rightarrow 1}$ = 0.138 GHz"
      ],
      "text/plain": [
       "<IPython.core.display.Latex object>"
      ]
     },
     "metadata": {},
     "output_type": "display_data"
    },
    {
     "data": {
      "text/latex": [
       "$\\omega^{f}_{1 \\rightarrow 2}$ = 4.922 GHz"
      ],
      "text/plain": [
       "<IPython.core.display.Latex object>"
      ]
     },
     "metadata": {},
     "output_type": "display_data"
    },
    {
     "data": {
      "text/latex": [
       "$\\omega^{f}_{2 \\rightarrow 3}$ = 1.531 GHz"
      ],
      "text/plain": [
       "<IPython.core.display.Latex object>"
      ]
     },
     "metadata": {},
     "output_type": "display_data"
    }
   ],
   "source": [
    "qubit_B_tran_freqs = np.diff(fluxonium_B.eig_energies(), 1)\n",
    "for level in range(3):\n",
    "    display(Latex(r'$\\omega^{{f}}_{{{} \\rightarrow {}}}$ = {:.3f} GHz'.format(level, level+1, qubit_B_tran_freqs[level])))"
   ]
  },
  {
   "cell_type": "code",
   "execution_count": 5,
   "metadata": {},
   "outputs": [],
   "source": [
    "system = fluxonium_A.couple_to(fluxonium_B, coupling=sq.couplers.capacitive_coupling, strength=0.224)"
   ]
  },
  {
   "cell_type": "code",
   "execution_count": 11,
   "metadata": {},
   "outputs": [],
   "source": [
    "comp_states = [''.join(qubit_states) for qubit_states in list(product('012', repeat=2))]\n",
    "q_labels = [qubit.label for qubit in system]\n",
    "\n",
    "level_inds = xr.DataArray([system.state_index(state) for state in comp_states], dims=['state'], coords=dict(state=comp_states))\n",
    "level_inds = level_inds.sortby(level_inds)\n",
    "\n",
    "eig_energies = system.eig_energies(levels=level_inds.data)\n",
    "\n",
    "trans_freqs = xr.DataArray(\n",
    "    eig_energies[:,np.newaxis] - eig_energies, \n",
    "    dims=['out_state', 'in_state'], \n",
    "    coords=dict(\n",
    "        out_state=level_inds.state.data, \n",
    "        in_state=level_inds.state.data\n",
    "    )\n",
    ")\n",
    "\n",
    "mat_elem_amps = xr.DataArray(\n",
    "    [system.mat_elements(qubit.charge_op(), levels=level_inds.data) for qubit in system],\n",
    "    dims=['qubit', 'out_state', 'in_state'], \n",
    "    coords=dict( \n",
    "        qubit=q_labels,\n",
    "        out_state=level_inds.state.data, \n",
    "        in_state=level_inds.state.data\n",
    "    )\n",
    ")"
   ]
  },
  {
   "cell_type": "code",
   "execution_count": 23,
   "metadata": {},
   "outputs": [
    {
     "data": {
      "text/latex": [
       "$\\Delta$ = 0.025 GHz"
      ],
      "text/plain": [
       "<IPython.core.display.Latex object>"
      ]
     },
     "metadata": {},
     "output_type": "display_data"
    },
    {
     "data": {
      "text/latex": [
       "$\\Omega_{11-21}/\\Omega_{10-20}$ = 1.320"
      ],
      "text/plain": [
       "<IPython.core.display.Latex object>"
      ]
     },
     "metadata": {},
     "output_type": "display_data"
    },
    {
     "data": {
      "text/latex": [
       "$\\frac{\\delta}{\\Delta}$ = 0.307"
      ],
      "text/plain": [
       "<IPython.core.display.Latex object>"
      ]
     },
     "metadata": {},
     "output_type": "display_data"
    }
   ],
   "source": [
    "trans_freq_11_12 = float(trans_freqs.sel(in_state='11', out_state='21'))\n",
    "trans_freq_01_02 = float(trans_freqs.sel(in_state='10', out_state='20'))\n",
    "freq_split = trans_freq_11_12 - trans_freq_01_02\n",
    "display(Latex(r'$\\Delta$ = {:.3f} GHz'.format(freq_split)))\n",
    "\n",
    "drive_str_ratio = 0.9\n",
    "drive_str_B = 0.5\n",
    "drive_str_A = drive_str_ratio*drive_str_B\n",
    "\n",
    "rabi_freq_11_21 = float(np.abs(drive_str_A*mat_elem_amps.sel(qubit='A', in_state='11', out_state='21') + drive_str_B*mat_elem_amps.sel(qubit='B', in_state='11', out_state='21')))\n",
    "rabi_freq_10_20 = float(np.abs(drive_str_A*mat_elem_amps.sel(qubit='A', in_state='10', out_state='20') + drive_str_B*mat_elem_amps.sel(qubit='B', in_state='10', out_state='20')))\n",
    "\n",
    "rabi_freq_ratio = rabi_freq_11_21/rabi_freq_10_20\n",
    "display(Latex(r'$\\Omega_{{11-21}}/\\Omega_{{10-20}}$ = {:.3f}'.format(rabi_freq_ratio)))\n",
    "\n",
    "_r2 = rabi_freq_ratio**2\n",
    "drive_freq_ratio = (_r2 - np.sqrt((_r2-1)**2 + _r2))/(_r2-1)\n",
    "display(Latex(r'$\\frac{{\\delta}}{{\\Delta}}$ = {:.3f}'.format(drive_freq_ratio)))"
   ]
  },
  {
   "cell_type": "code",
   "execution_count": null,
   "metadata": {},
   "outputs": [],
   "source": []
  }
 ],
 "metadata": {
  "kernelspec": {
   "display_name": "Python 3.8.2 64-bit ('3.8.2': pyenv)",
   "language": "python",
   "name": "python38264bit382pyenv288c6010f3354078a8dadc5c67ac8ffd"
  },
  "language_info": {
   "codemirror_mode": {
    "name": "ipython",
    "version": 3
   },
   "file_extension": ".py",
   "mimetype": "text/x-python",
   "name": "python",
   "nbconvert_exporter": "python",
   "pygments_lexer": "ipython3",
   "version": "3.8.2"
  }
 },
 "nbformat": 4,
 "nbformat_minor": 4
}
