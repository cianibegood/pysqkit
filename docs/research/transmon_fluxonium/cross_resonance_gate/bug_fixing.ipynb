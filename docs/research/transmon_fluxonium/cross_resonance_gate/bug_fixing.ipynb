{
 "cells": [
  {
   "cell_type": "markdown",
   "metadata": {},
   "source": [
    "# Cross-resonance gate between a transmon and a fluxonium: bug fixing\n",
    "\n",
    "In this notebook we study the cross-resonance two-qubit gate between a transmon and a fluxonium. "
   ]
  },
  {
   "cell_type": "code",
   "execution_count": 304,
   "metadata": {},
   "outputs": [],
   "source": [
    "import numpy as np\n",
    "import scipy.integrate\n",
    "import time\n",
    "import qutip as qtp\n",
    "import matplotlib.pyplot as plt\n",
    "from scipy.optimize import minimize\n",
    "import pysqkit\n",
    "from pysqkit import QubitSystem\n",
    "from pysqkit.drives.pulse_shapes import gaussian_top\n",
    "from pysqkit.util.metrics import average_process_fidelity, \\\n",
    "    average_gate_fidelity\n",
    "from pysqkit.util.phys import temperature_to_thermalenergy\n",
    "from pysqkit.util.quantum import generalized_rabi_frequency\n",
    "import pysqkit.util.transformations as trf\n",
    "from pysqkit.util.linalg import get_mat_elem\n",
    "from pysqkit.solvers.solvkit import integrate\n",
    "from pysqkit.util.hsbasis import weyl_by_index\n",
    "from pysqkit.solvers import solvkit\n",
    "import qutip\n",
    "from typing import List, Dict, Callable\n",
    "import matplotlib\n",
    "matplotlib.rcParams['mathtext.fontset'] = 'cm'\n",
    "import util_cr as util\n",
    "import copy\n",
    "import cmath\n",
    "\n",
    "from IPython.display import display, Latex"
   ]
  },
  {
   "cell_type": "markdown",
   "metadata": {},
   "source": [
    "The gate is based on the following driven Hamiltonian of a fluxonium and a transmon capacitively coupled\n",
    "\n",
    "$$H = H^{(0)}_T + H^{(0)}_F + V + H_{drive},$$\n",
    "\n",
    "$$H^{(0)}_T =  \\hbar \\omega_T \\hat{b}^{\\dagger}\\hat{b} + \\hbar \\frac{\\delta_T}{2} \\hat{b}^{\\dagger} \\hat{b}^{\\dagger}\\hat{b} \\hat{b},$$\n",
    "\n",
    "$$H^{(0)}_F = 4 E_{C,F} \\cdot \\hat{q}^2_F + \\frac{1}{2}E_{L,F}\\cdot\\hat{\\varphi}^2_F - E_{J,F}\\cos\\left(\\hat{\\varphi}_F - \\phi_{ext,F}\\right),$$\n",
    "\n",
    "$$V = J_C \\cdot \\hat{q}_T \\cdot \\hat{q}_F,$$\n",
    "\n",
    "$$\\frac{H_{drive}}{h} = \\left( \\varepsilon_T \\hat{q}_T + \\varepsilon_F \\hat{q}_F \\right) \\cos(2\\pi f_d t).$$\n",
    "\n",
    "The (approximate) charge operator for the transmon in terms of annihilation and creation operators reads\n",
    "\n",
    "$$\n",
    "\\hat{q}_T = i \\biggl( \\frac{E_J}{32 |\\delta_T |} \\biggr)^{1/4} (b^{\\dagger} - b),\n",
    "$$\n",
    "where \n",
    "$$\n",
    "E_J = \\hbar \\biggl(\\frac{\\omega_T - \\delta_T}{8 | \\delta_T |} \\biggr)^2.\n",
    "$$\n",
    "\n",
    "In the following we introduce relaxation due to dielectric loss and pure dephasing on each qubit as error channels. \n",
    "\n",
    "The idea behind the cross-resonance gate is to drive one of the qubit at the frequency of the other using the fact that due to the coupling we have a $Z X$ term in the Hamiltonian. In particular, we will explore the idea of driving the fluxonium at the transmon frequency. The opposite idea to drive the transmon at the fluxonium frequency does not seem that promising. However, one might evaluate using Raman transitions."
   ]
  },
  {
   "cell_type": "markdown",
   "metadata": {
    "heading_collapsed": true
   },
   "source": [
    "# Introducing the qubits and the coupled system"
   ]
  },
  {
   "cell_type": "code",
   "execution_count": 305,
   "metadata": {},
   "outputs": [],
   "source": [
    "parameters_set = {}\n",
    "\n",
    "parameters_set[\"0\"] = {\"max_freq_t\": 4.5, \"anharm_t\": -0.3, \"diel_loss_tan_t\": 0.75*1e-6*20,\n",
    "                     \"dephasing_times_t\": {'1': 2*np.pi*50*1e3, '2': 2*np.pi*30*1e3}, \n",
    "                     \"charge_energy_f\": .973, \"induct_energy_f\": .457, \"joseph_energy_f\": 8.0, \n",
    "                     \"diel_loss_tan_f\": 7.1*1e-6, \"dephasing_times_f\": {'1': 2*np.pi*200*1e3, '2':2*np.pi*20*1e3, \n",
    "                                                                        '3': 2*np.pi*20*1e3, '4': 2*np.pi*5*1e3},\n",
    "                      \"jc\": 0.03}\n",
    "parameters_set[\"1\"] = {\"max_freq_t\": 5.0, \"anharm_t\": -0.3, \"diel_loss_tan_t\": 0.75*1e-6*20,\n",
    "                     \"dephasing_times_t\": {'1': 2*np.pi*50*1e3, '2': 2*np.pi*30*1e3}, \n",
    "                     \"charge_energy_f\": .973, \"induct_energy_f\": .857, \"joseph_energy_f\": 5.0, \n",
    "                     \"diel_loss_tan_f\": 7.1*1e-6, \"dephasing_times_f\": {'1': 2*np.pi*200*1e3, '2':2*np.pi*20*1e3, \n",
    "                                                                        '3': 2*np.pi*20*1e3, '4': 2*np.pi*5*1e3},\n",
    "                      \"jc\": 0.015}\n",
    "\n",
    "parameters_set[\"2\"] = {\"max_freq_t\": 4.5, \"anharm_t\": -0.3, \"diel_loss_tan_t\": 0.75*1e-6*20,\n",
    "                     \"dephasing_times_t\": {'1': 2*np.pi*50*1e3, '2': 2*np.pi*30*1e3}, \n",
    "                     \"charge_energy_f\": .973, \"induct_energy_f\": 1.0, \"joseph_energy_f\": 4.0, \n",
    "                     \"diel_loss_tan_f\": 7.1*1e-6, \"dephasing_times_f\": {'1': 2*np.pi*200*1e3, '2':2*np.pi*20*1e3, \n",
    "                                                                        '3': 2*np.pi*20*1e3, '4': 2*np.pi*5*1e3},\n",
    "                      \"jc\": 0.02}\n",
    "\n",
    "parameters_set[\"test\"] = {\"max_freq_t\": 4.3, \"anharm_t\": -0.3, \"diel_loss_tan_t\": 0.75*1e-6*20,\n",
    "                     \"dephasing_times_t\": {'1': 2*np.pi*50*1e3, '2': 2*np.pi*30*1e3}, \n",
    "                     \"charge_energy_f\": .973, \"induct_energy_f\": .457, \"joseph_energy_f\": 8.0, \n",
    "                     \"diel_loss_tan_f\": 7.1*1e-6, \"dephasing_times_f\": {'1': 2*np.pi*200*1e3, '2':2*np.pi*20*1e3, \n",
    "                                                                        '3': 2*np.pi*20*1e3, '4': 2*np.pi*5*1e3},\n",
    "                      \"jc\": 0.03}\n"
   ]
  },
  {
   "cell_type": "code",
   "execution_count": 306,
   "metadata": {
    "hidden": true
   },
   "outputs": [],
   "source": [
    "temperature = 0.020 # K\n",
    "thermal_energy = temperature_to_thermalenergy(temperature) # kb T/h in GHz\n",
    "d_comp = 4\n",
    "\n",
    "p_set = \"0\"\n",
    "\n",
    "\n",
    "#Transmon\n",
    "levels_t = 3\n",
    "transm = pysqkit.qubits.SimpleTransmon(\n",
    "    label='T', \n",
    "    max_freq=parameters_set[p_set][\"max_freq_t\"], \n",
    "    anharm=parameters_set[p_set][\"anharm_t\"],\n",
    "    diel_loss_tan=parameters_set[p_set][\"diel_loss_tan_t\"], #set to zero to check d_1 L1 = d_2 L2\n",
    "    env_thermal_energy=thermal_energy,    \n",
    "    dim_hilbert=levels_t,\n",
    "    dephasing_times=parameters_set[p_set][\"dephasing_times_t\"]\n",
    ")\n",
    "\n",
    "transm_test = pysqkit.qubits.SimpleTransmon(\n",
    "    label='T', \n",
    "    max_freq=parameters_set[p_set][\"max_freq_t\"] - 0.2, \n",
    "    anharm=parameters_set[p_set][\"anharm_t\"],\n",
    "    diel_loss_tan=parameters_set[p_set][\"diel_loss_tan_t\"], #set to zero to check d_1 L1 = d_2 L2\n",
    "    env_thermal_energy=thermal_energy,    \n",
    "    dim_hilbert=levels_t,\n",
    "    dephasing_times=parameters_set[p_set][\"dephasing_times_t\"]\n",
    ")\n",
    "\n",
    "#Fluxonium\n",
    "levels_f = 5\n",
    "\n",
    "flx = pysqkit.qubits.Fluxonium(\n",
    "    label='F', \n",
    "    charge_energy=parameters_set[p_set][\"charge_energy_f\"], \n",
    "    induct_energy=parameters_set[p_set][\"induct_energy_f\"], \n",
    "    joseph_energy=parameters_set[p_set][\"joseph_energy_f\"], #8.0, \n",
    "    diel_loss_tan=parameters_set[p_set][\"diel_loss_tan_f\"], #set to zero to check d_1 L1 = d_2 L2\n",
    "    env_thermal_energy=thermal_energy,\n",
    "    dephasing_times= parameters_set[p_set][\"dephasing_times_f\"], #ns/2*np.pi,\n",
    "    dim_hilbert=100\n",
    ")\n",
    "flx.diagonalize_basis(levels_f)\n",
    "\n",
    "# We also add a drive on the fluxonium\n",
    "flx.add_drive(\n",
    "    pysqkit.drives.microwave_drive,\n",
    "    label='cr_drive_f',\n",
    "    pulse=pysqkit.drives.pulses.cos_modulation,\n",
    "    pulse_shape=pysqkit.drives.pulse_shapes.gaussian_top\n",
    ")\n",
    "\n",
    "d_leak = levels_t*levels_f - d_comp\n",
    "\n",
    "jc = parameters_set[p_set][\"jc\"]\n",
    "coupled_sys = transm.couple_to(flx, coupling=pysqkit.couplers.capacitive_coupling, strength=jc)\n",
    "bare_system = transm.couple_to(flx, coupling=pysqkit.couplers.capacitive_coupling, strength=0.0)\n",
    "\n",
    "coupled_sys_test = transm_test.couple_to(flx, coupling=pysqkit.couplers.capacitive_coupling, strength=jc)\n",
    "\n",
    "states_label = coupled_sys.all_state_labels()\n",
    "#states_dict = coupled_sys.states_as_dict(as_qobj=True)\n",
    "flx_freq = flx.eig_energies(2)[1] - flx.eig_energies(2)[0]"
   ]
  },
  {
   "cell_type": "code",
   "execution_count": 307,
   "metadata": {},
   "outputs": [],
   "source": [
    "state_label = [\"00\", \"01\", \"10\", \"11\"]\n",
    "comp_states = {}\n",
    "for label in state_label:\n",
    "    state_tmp = coupled_sys.state(label)[1]\n",
    "    loc = np.argmax(np.abs(state_tmp))\n",
    "    phase = cmath.phase(state_tmp[loc])\n",
    "    state_tmp = np.exp(-1j*phase)*state_tmp\n",
    "    comp_states[label] = state_tmp"
   ]
  },
  {
   "cell_type": "markdown",
   "metadata": {},
   "source": [
    "The basis principle behind the gate is illustrated in the following figure"
   ]
  },
  {
   "cell_type": "code",
   "execution_count": 308,
   "metadata": {},
   "outputs": [
    {
     "data": {
      "image/png": "[encoded data removed]",
      "text/plain": [
       "<Figure size 720x576 with 1 Axes>"
      ]
     },
     "metadata": {
      "needs_background": "light"
     },
     "output_type": "display_data"
    }
   ],
   "source": [
    "level_list = ['00', '01', '10', '11', '02', '20', '12','21', '03', '13', '04']\n",
    "\n",
    "util.energy_levels_diagram(bare_system, level_list, show_drive=False)"
   ]
  },
  {
   "cell_type": "markdown",
   "metadata": {},
   "source": [
    "The figure shows the energy of the bare levels. The orange arrows indicate the non-zero matrix elements between the (bare) levels provided by the capacitive coupling $V$: the more shaded the arrow the weaker the coupling. \n",
    "We look at the following quantities : \n",
    "\n",
    "$$\\zeta_{ZZ} = E_{00} + E_{11} - E_{01} - E_{10}$$\n",
    "$$r_{YZ} = \\lvert \\langle 10 | q_{F} | 00 \\rangle - \\langle 11 | q_{F} |01 \\rangle \\rvert $$\n",
    "$$r_{Y} = \\lvert \\langle 10 | q_{F} | 00 \\rangle + \\langle 11 | q_{F} |01 \\rangle \\rvert $$\n",
    "\n",
    "The second term quantifies the gate speed. Notice that if the phase of the drive is $0$ one hase a $YZ$ term from the charge operator. \n",
    "\n",
    "For the given parameters we have"
   ]
  },
  {
   "cell_type": "code",
   "execution_count": 320,
   "metadata": {},
   "outputs": [],
   "source": [
    "def mu_yz_flx(comp_states, op) -> float:\n",
    "    yz0 = get_mat_elem(op, comp_states['00'], comp_states['10'])\n",
    "    yz1 = get_mat_elem(op, comp_states['01'], comp_states['11'] )\n",
    "#     print(\"yz0 = {}\".format(yz0))\n",
    "#     print(\"yz1 = {}\".format(yz1))\n",
    "#     print(\"---------------------------------\")\n",
    "    return (np.imag(yz0 - yz1))/2\n",
    "\n",
    "def mu_yi_flx(comp_states, op) -> float:\n",
    "    yz0 = get_mat_elem(op, comp_states['00'], comp_states['10'] )\n",
    "    yz1 = get_mat_elem(op, comp_states['01'], comp_states['11'] )\n",
    "    return (np.imag(yz0 + yz1))/2"
   ]
  },
  {
   "cell_type": "code",
   "execution_count": 321,
   "metadata": {
    "scrolled": true
   },
   "outputs": [
    {
     "data": {
      "text/latex": [
       "$r_{YZ} = 0.0042 $"
      ],
      "text/plain": [
       "<IPython.core.display.Latex object>"
      ]
     },
     "metadata": {},
     "output_type": "display_data"
    },
    {
     "data": {
      "text/latex": [
       "$r_{IY} = 0.0009 $"
      ],
      "text/plain": [
       "<IPython.core.display.Latex object>"
      ]
     },
     "metadata": {},
     "output_type": "display_data"
    },
    {
     "name": "stdout",
     "output_type": "stream",
     "text": [
      "Test\n"
     ]
    }
   ],
   "source": [
    "q_op = coupled_sys[\"F\"].charge_op()\n",
    "# display(Latex(r'$f_{{flx}} = {:.3f} \\, \\mathrm{{MHz}}$'.format(flx_freq*1e3)))\n",
    "# display(Latex(r'$\\xi_{{ZZ}}/h = {:.3f} \\, \\mathrm{{MHz}}$'.format(1e3*util.zz(coupled_sys))))\n",
    "# display(Latex(r'$r_{{YZ}} = {:.4f} $'.format(util.y_z_flx(coupled_sys, 'F'))))\n",
    "# display(Latex(r'$r_{{IY}} = {:.4f} $'.format(util.y_i_flx(coupled_sys, 'F'))))\n",
    "display(Latex(r'$r_{{YZ}} = {:.4f} $'.format(y_z_flx(comp_states, q_op))))\n",
    "display(Latex(r'$r_{{IY}} = {:.4f} $'.format(y_i_flx(comp_states, q_op))))\n",
    "# display(Latex(r'$r_{{YZ12}} = {:.4f} $'.format(util.y_z_12_flx(coupled_sys, 'F'))))\n",
    "# display(Latex(r'$r_{{IY12}} = {:.4f} $'.format(util.y_i_12_flx(coupled_sys, 'F'))))\n",
    "print(\"Test\")"
   ]
  },
  {
   "cell_type": "markdown",
   "metadata": {},
   "source": [
    "The aim of the cross-resonance gate is to realize the following unitary\n",
    "$$\n",
    "\\mathrm{CR}_{\\theta} = e^{-i \\frac{\\theta}{2} X \\otimes Z } = \\cos\\biggl(\\frac{\\theta}{2} \\biggr) I -i \\sin\\biggl(\\frac{\\theta}{2} \\biggr) X \\otimes Z\n",
    "$$\n",
    "\n",
    "In particular it is known that $\\mathrm{CR}_{-\\pi/2}$ is equivalent to a CNOT up to single-qubit gates."
   ]
  },
  {
   "cell_type": "markdown",
   "metadata": {},
   "source": [
    "In what follows we fix the fluxonium in the different parameter set and we sweep the transmon frequency and plot the relevant quantities"
   ]
  },
  {
   "cell_type": "code",
   "execution_count": 322,
   "metadata": {},
   "outputs": [],
   "source": [
    "def plot_params(\n",
    "    freq: np.ndarray,\n",
    "    params: dict,\n",
    "    opt: dict={'fs': 18, 'lw': 2.0, 'lw_levels': 3.0, 'ls': 16}\n",
    "):\n",
    "    fig, ax = plt.subplots(figsize=(8, 6))\n",
    "    for key in params.keys():\n",
    "        ax.plot(freq, params[key], linewidth=opt[\"lw\"], label='$q_{ ' + key + '}$') \n",
    "    ax.set_xlabel('$\\omega_t/2 \\pi \\, (\\mathrm{GHz})$', fontsize=opt['fs'])\n",
    "    ax.tick_params(labelsize=opt['ls'])\n",
    "    plt.legend(fontsize=opt['fs'])\n",
    "    plt.show() "
   ]
  },
  {
   "cell_type": "markdown",
   "metadata": {},
   "source": [
    "# Parameter set 0"
   ]
  },
  {
   "cell_type": "code",
   "execution_count": 323,
   "metadata": {},
   "outputs": [
    {
     "name": "stdout",
     "output_type": "stream",
     "text": [
      "Computation time = 0.8867537975311279 s \n"
     ]
    }
   ],
   "source": [
    "n_points = 10\n",
    "delta_freq = 0.5\n",
    "\n",
    "p_set = '0'\n",
    "\n",
    "freq_t = list(np.linspace(parameters_set[p_set][\"max_freq_t\"] - delta_freq, \n",
    "                    parameters_set[p_set][\"max_freq_t\"] + delta_freq, n_points))\n",
    "# freq_t = list(np.linspace(4.6, 4.8, n_points))\n",
    "param_dict = {}\n",
    "param_dict[\"YZ\"] = []\n",
    "param_dict[\"YI\"] = []\n",
    "\n",
    "p_set = '2'\n",
    "\n",
    "start = time.time()\n",
    "\n",
    "for freq in freq_t:\n",
    "    levels_t = 3\n",
    "    transm = pysqkit.qubits.SimpleTransmon(\n",
    "        label='T', \n",
    "        max_freq=freq, \n",
    "        anharm=parameters_set[p_set][\"anharm_t\"],\n",
    "        diel_loss_tan=parameters_set[p_set][\"diel_loss_tan_t\"], #set to zero to check d_1 L1 = d_2 L2\n",
    "        env_thermal_energy=thermal_energy,    \n",
    "        dim_hilbert=levels_t,\n",
    "        dephasing_times=parameters_set[p_set][\"dephasing_times_t\"]\n",
    "    )\n",
    "\n",
    "    #Fluxonium\n",
    "    levels_f = 5\n",
    "\n",
    "    flx = pysqkit.qubits.Fluxonium(\n",
    "        label='F', \n",
    "        charge_energy=parameters_set[p_set][\"charge_energy_f\"], \n",
    "        induct_energy=parameters_set[p_set][\"induct_energy_f\"], \n",
    "        joseph_energy=parameters_set[p_set][\"joseph_energy_f\"], #8.0, \n",
    "        diel_loss_tan=parameters_set[p_set][\"diel_loss_tan_f\"], #set to zero to check d_1 L1 = d_2 L2\n",
    "        env_thermal_energy=thermal_energy,\n",
    "        dephasing_times= parameters_set[p_set][\"dephasing_times_f\"] #ns/2*np.pi \n",
    "    )\n",
    "    flx.diagonalize_basis(levels_f)\n",
    "\n",
    "    # We also add a drive on the fluxonium\n",
    "\n",
    "\n",
    "    jc = parameters_set[p_set][\"jc\"]\n",
    "    coupled_sys = transm.couple_to(flx, coupling=pysqkit.couplers.capacitive_coupling, strength=jc)\n",
    "    state_label = [\"00\", \"01\", \"10\", \"11\"]\n",
    "    comp_states = {}\n",
    "    for label in state_label:\n",
    "        state_tmp = coupled_sys.state(label)[1]\n",
    "        loc = np.argmax(np.abs(state_tmp))\n",
    "        phase = cmath.phase(state_tmp[loc])\n",
    "        state_tmp = np.exp(-1j*phase)*state_tmp\n",
    "        comp_states[label] = state_tmp\n",
    "    q_op = coupled_sys[\"F\"].charge_op()\n",
    "    param_dict[\"YZ\"].append(y_z_flx(comp_states, q_op))\n",
    "    param_dict[\"YI\"].append(y_i_flx(comp_states, q_op))\n",
    "\n",
    "end = time.time()\n",
    "\n",
    "print(\"Computation time = {} s \".format(end - start))\n",
    "    "
   ]
  },
  {
   "cell_type": "code",
   "execution_count": 324,
   "metadata": {},
   "outputs": [
    {
     "data": {
      "image/png": "[encoded data removed]",
      "text/plain": [
       "<Figure size 576x432 with 1 Axes>"
      ]
     },
     "metadata": {
      "needs_background": "light"
     },
     "output_type": "display_data"
    }
   ],
   "source": [
    "plot_params(freq_t, param_dict)"
   ]
  },
  {
   "cell_type": "code",
   "execution_count": 135,
   "metadata": {},
   "outputs": [
    {
     "data": {
      "text/plain": [
       "array([[0.-2.53808446e-31j, 0.+9.36595984e-03j, 0.-1.19822823e-14j,\n",
       "        0.-6.57513170e-01j, 0.-3.52594283e-15j, 0.+0.00000000e+00j,\n",
       "        0.+0.00000000e+00j, 0.+0.00000000e+00j, 0.+0.00000000e+00j,\n",
       "        0.+0.00000000e+00j, 0.+0.00000000e+00j, 0.+0.00000000e+00j,\n",
       "        0.+0.00000000e+00j, 0.+0.00000000e+00j, 0.+0.00000000e+00j],\n",
       "       [0.-9.36595984e-03j, 0.+8.85562771e-31j, 0.-6.56867236e-01j,\n",
       "        0.+1.18723139e-14j, 0.-1.58035749e-01j, 0.+0.00000000e+00j,\n",
       "        0.+0.00000000e+00j, 0.+0.00000000e+00j, 0.+0.00000000e+00j,\n",
       "        0.+0.00000000e+00j, 0.+0.00000000e+00j, 0.+0.00000000e+00j,\n",
       "        0.+0.00000000e+00j, 0.+0.00000000e+00j, 0.+0.00000000e+00j],\n",
       "       [0.+1.19822823e-14j, 0.+6.56867236e-01j, 0.-5.43607309e-32j,\n",
       "        0.+1.75327601e-01j, 0.-1.48186642e-15j, 0.+0.00000000e+00j,\n",
       "        0.+0.00000000e+00j, 0.+0.00000000e+00j, 0.+0.00000000e+00j,\n",
       "        0.+0.00000000e+00j, 0.+0.00000000e+00j, 0.+0.00000000e+00j,\n",
       "        0.+0.00000000e+00j, 0.+0.00000000e+00j, 0.+0.00000000e+00j],\n",
       "       [0.+6.57513170e-01j, 0.-1.18723139e-14j, 0.-1.75327601e-01j,\n",
       "        0.-3.51227758e-32j, 0.+8.69348774e-01j, 0.+0.00000000e+00j,\n",
       "        0.+0.00000000e+00j, 0.+0.00000000e+00j, 0.+0.00000000e+00j,\n",
       "        0.+0.00000000e+00j, 0.+0.00000000e+00j, 0.+0.00000000e+00j,\n",
       "        0.+0.00000000e+00j, 0.+0.00000000e+00j, 0.+0.00000000e+00j],\n",
       "       [0.+3.52594283e-15j, 0.+1.58035749e-01j, 0.+1.48186642e-15j,\n",
       "        0.-8.69348774e-01j, 0.+4.31264929e-32j, 0.+0.00000000e+00j,\n",
       "        0.+0.00000000e+00j, 0.+0.00000000e+00j, 0.+0.00000000e+00j,\n",
       "        0.+0.00000000e+00j, 0.+0.00000000e+00j, 0.+0.00000000e+00j,\n",
       "        0.+0.00000000e+00j, 0.+0.00000000e+00j, 0.+0.00000000e+00j],\n",
       "       [0.+0.00000000e+00j, 0.+0.00000000e+00j, 0.+0.00000000e+00j,\n",
       "        0.+0.00000000e+00j, 0.+0.00000000e+00j, 0.-2.53808446e-31j,\n",
       "        0.+9.36595984e-03j, 0.-1.19822823e-14j, 0.-6.57513170e-01j,\n",
       "        0.-3.52594283e-15j, 0.+0.00000000e+00j, 0.+0.00000000e+00j,\n",
       "        0.+0.00000000e+00j, 0.+0.00000000e+00j, 0.+0.00000000e+00j],\n",
       "       [0.+0.00000000e+00j, 0.+0.00000000e+00j, 0.+0.00000000e+00j,\n",
       "        0.+0.00000000e+00j, 0.+0.00000000e+00j, 0.-9.36595984e-03j,\n",
       "        0.+8.85562771e-31j, 0.-6.56867236e-01j, 0.+1.18723139e-14j,\n",
       "        0.-1.58035749e-01j, 0.+0.00000000e+00j, 0.+0.00000000e+00j,\n",
       "        0.+0.00000000e+00j, 0.+0.00000000e+00j, 0.+0.00000000e+00j],\n",
       "       [0.+0.00000000e+00j, 0.+0.00000000e+00j, 0.+0.00000000e+00j,\n",
       "        0.+0.00000000e+00j, 0.+0.00000000e+00j, 0.+1.19822823e-14j,\n",
       "        0.+6.56867236e-01j, 0.-5.43607309e-32j, 0.+1.75327601e-01j,\n",
       "        0.-1.48186642e-15j, 0.+0.00000000e+00j, 0.+0.00000000e+00j,\n",
       "        0.+0.00000000e+00j, 0.+0.00000000e+00j, 0.+0.00000000e+00j],\n",
       "       [0.+0.00000000e+00j, 0.+0.00000000e+00j, 0.+0.00000000e+00j,\n",
       "        0.+0.00000000e+00j, 0.+0.00000000e+00j, 0.+6.57513170e-01j,\n",
       "        0.-1.18723139e-14j, 0.-1.75327601e-01j, 0.-3.51227758e-32j,\n",
       "        0.+8.69348774e-01j, 0.+0.00000000e+00j, 0.+0.00000000e+00j,\n",
       "        0.+0.00000000e+00j, 0.+0.00000000e+00j, 0.+0.00000000e+00j],\n",
       "       [0.+0.00000000e+00j, 0.+0.00000000e+00j, 0.+0.00000000e+00j,\n",
       "        0.+0.00000000e+00j, 0.+0.00000000e+00j, 0.+3.52594283e-15j,\n",
       "        0.+1.58035749e-01j, 0.+1.48186642e-15j, 0.-8.69348774e-01j,\n",
       "        0.+4.31264929e-32j, 0.+0.00000000e+00j, 0.+0.00000000e+00j,\n",
       "        0.+0.00000000e+00j, 0.+0.00000000e+00j, 0.+0.00000000e+00j],\n",
       "       [0.+0.00000000e+00j, 0.+0.00000000e+00j, 0.+0.00000000e+00j,\n",
       "        0.+0.00000000e+00j, 0.+0.00000000e+00j, 0.+0.00000000e+00j,\n",
       "        0.+0.00000000e+00j, 0.+0.00000000e+00j, 0.+0.00000000e+00j,\n",
       "        0.+0.00000000e+00j, 0.-2.53808446e-31j, 0.+9.36595984e-03j,\n",
       "        0.-1.19822823e-14j, 0.-6.57513170e-01j, 0.-3.52594283e-15j],\n",
       "       [0.+0.00000000e+00j, 0.+0.00000000e+00j, 0.+0.00000000e+00j,\n",
       "        0.+0.00000000e+00j, 0.+0.00000000e+00j, 0.+0.00000000e+00j,\n",
       "        0.+0.00000000e+00j, 0.+0.00000000e+00j, 0.+0.00000000e+00j,\n",
       "        0.+0.00000000e+00j, 0.-9.36595984e-03j, 0.+8.85562771e-31j,\n",
       "        0.-6.56867236e-01j, 0.+1.18723139e-14j, 0.-1.58035749e-01j],\n",
       "       [0.+0.00000000e+00j, 0.+0.00000000e+00j, 0.+0.00000000e+00j,\n",
       "        0.+0.00000000e+00j, 0.+0.00000000e+00j, 0.+0.00000000e+00j,\n",
       "        0.+0.00000000e+00j, 0.+0.00000000e+00j, 0.+0.00000000e+00j,\n",
       "        0.+0.00000000e+00j, 0.+1.19822823e-14j, 0.+6.56867236e-01j,\n",
       "        0.-5.43607309e-32j, 0.+1.75327601e-01j, 0.-1.48186642e-15j],\n",
       "       [0.+0.00000000e+00j, 0.+0.00000000e+00j, 0.+0.00000000e+00j,\n",
       "        0.+0.00000000e+00j, 0.+0.00000000e+00j, 0.+0.00000000e+00j,\n",
       "        0.+0.00000000e+00j, 0.+0.00000000e+00j, 0.+0.00000000e+00j,\n",
       "        0.+0.00000000e+00j, 0.+6.57513170e-01j, 0.-1.18723139e-14j,\n",
       "        0.-1.75327601e-01j, 0.-3.51227758e-32j, 0.+8.69348774e-01j],\n",
       "       [0.+0.00000000e+00j, 0.+0.00000000e+00j, 0.+0.00000000e+00j,\n",
       "        0.+0.00000000e+00j, 0.+0.00000000e+00j, 0.+0.00000000e+00j,\n",
       "        0.+0.00000000e+00j, 0.+0.00000000e+00j, 0.+0.00000000e+00j,\n",
       "        0.+0.00000000e+00j, 0.+3.52594283e-15j, 0.+1.58035749e-01j,\n",
       "        0.+1.48186642e-15j, 0.-8.69348774e-01j, 0.+4.31264929e-32j]])"
      ]
     },
     "execution_count": 135,
     "metadata": {},
     "output_type": "execute_result"
    }
   ],
   "source": [
    "coupled_sys['F'].charge_op()"
   ]
  },
  {
   "cell_type": "markdown",
   "metadata": {},
   "source": [
    "\n",
    "# Checking solution using qutip"
   ]
  },
  {
   "cell_type": "code",
   "execution_count": 214,
   "metadata": {},
   "outputs": [],
   "source": [
    "n_fock_t = 3\n",
    "n_fock_f = 100\n",
    "p_set = \"2\"\n",
    "omega_shift = 0.0\n",
    "a = qtp.tensor(qtp.destroy(n_fock_t), qtp.qeye(n_fock_f))\n",
    "b = qtp.tensor(qtp.qeye(n_fock_t), qtp.destroy(n_fock_f))\n",
    "omega_t = parameters_set[p_set][\"max_freq_t\"] + omega_shift\n",
    "delta_t = parameters_set[p_set][\"anharm_t\"]\n",
    "ej_t = ((omega_t - delta_t)/(8*np.abs(delta_t)))**2\n",
    "ec_t = -delta_t \n",
    "q_t = 1j/2*(ej_t/(2*ec_t))**(1/4)*(a.dag() - a)\n",
    "h_t = omega_t*a.dag()*a + delta_t/2*a.dag()*a.dag()*a*a\n",
    "ec_f = parameters_set[p_set][\"charge_energy_f\"]\n",
    "el_f = parameters_set[p_set][\"induct_energy_f\"]\n",
    "ej_f = parameters_set[p_set][\"joseph_energy_f\"]\n",
    "q_f = 1j/2*(el_f/(2*ec_f))**(1/4)*(b.dag() - b)\n",
    "phi_f = (2*ec_f/el_f)**(1/4)*(b + b.dag())\n",
    "h_f = 4*ec_f*q_f**2 + el_f/2*phi_f**2 + ej_f*phi_f.cosm()\n",
    "jc = parameters_set[p_set][\"jc\"]\n",
    "h = h_t + h_f + jc*q_f*q_t\n"
   ]
  },
  {
   "cell_type": "code",
   "execution_count": 218,
   "metadata": {},
   "outputs": [],
   "source": [
    "eigsol = h.eigenstates()\n",
    "comp_states = {}\n",
    "if p_set == '0' or p_set=='test':\n",
    "    comp_states[\"00\"] = eigsol[1][0]\n",
    "    comp_states[\"01\"] = eigsol[1][1]\n",
    "    comp_states[\"10\"] = eigsol[1][2]\n",
    "    comp_states[\"11\"] = eigsol[1][3]\n",
    "elif p_set == '1' or p_set=='2':\n",
    "    comp_states[\"00\"] = eigsol[1][0]\n",
    "    comp_states[\"01\"] = eigsol[1][1]\n",
    "    comp_states[\"10\"] = eigsol[1][3]\n",
    "    comp_states[\"11\"] = eigsol[1][4]\n",
    "\n",
    "def construct_yz(comp_states):\n",
    "#     yz_op = -1j*comp_states[\"00\"]*comp_states[\"10\"].dag()\n",
    "#     yz_op += 1j*comp_states[\"01\"]*comp_states[\"11\"].dag()\n",
    "#     yz_op += 1j*comp_states[\"10\"]*comp_states[\"00\"].dag()\n",
    "#     yz_op += -1j*comp_states[\"11\"]*comp_states[\"01\"].dag()\n",
    "    yz_op = -1j*comp_states[\"00\"]*comp_states[\"10\"].dag()\n",
    "    yz_op += -1j*comp_states[\"01\"]*comp_states[\"11\"].dag()\n",
    "    yz_op += 1j*comp_states[\"10\"]*comp_states[\"00\"].dag()\n",
    "    yz_op += 1j*comp_states[\"11\"]*comp_states[\"01\"].dag()\n",
    "    return yz_op\n",
    "\n",
    "def construct_yi(comp_states):\n",
    "    yi_op = -1j*comp_states[\"00\"]*comp_states[\"10\"].dag()\n",
    "    yi_op += 1j*comp_states[\"01\"]*comp_states[\"11\"].dag()\n",
    "    yi_op += 1j*comp_states[\"10\"]*comp_states[\"00\"].dag()\n",
    "    yi_op += -1j*comp_states[\"11\"]*comp_states[\"01\"].dag()\n",
    "    return yi_op\n"
   ]
  },
  {
   "cell_type": "code",
   "execution_count": 219,
   "metadata": {},
   "outputs": [],
   "source": [
    "def yz_test(comp_states, q_op):\n",
    "#     yz0 = q_op.matrix_element(comp_states[\"00\"], comp_states[\"10\"])\n",
    "#     yz1 = q_op.matrix_element(comp_states[\"01\"], comp_states[\"11\"])\n",
    "    yz_op = construct_yz(comp_states)\n",
    "    return (yz_op*q_op).tr()/4\n",
    "\n",
    "def yi_test(comp_states, q_op):\n",
    "#     yz0 = q_op.matrix_element(comp_states[\"00\"], comp_states[\"10\"])\n",
    "#     yz1 = q_op.matrix_element(comp_states[\"01\"], comp_states[\"11\"])\n",
    "    yi_op = construct_yi(comp_states)\n",
    "    return (yi_op*q_op).tr()/4"
   ]
  },
  {
   "cell_type": "code",
   "execution_count": 220,
   "metadata": {},
   "outputs": [
    {
     "data": {
      "text/latex": [
       "$r_{YZ} = -0.0011959186535140897$"
      ],
      "text/plain": [
       "<IPython.core.display.Latex object>"
      ]
     },
     "metadata": {},
     "output_type": "display_data"
    },
    {
     "data": {
      "text/latex": [
       "$r_{YI} = 0.002580336524256767$"
      ],
      "text/plain": [
       "<IPython.core.display.Latex object>"
      ]
     },
     "metadata": {},
     "output_type": "display_data"
    }
   ],
   "source": [
    "display(Latex(r'$r_{{YZ}} = {}$'.format(yz_test(comp_states, q_f))))\n",
    "display(Latex(r'$r_{{YI}} = {}$'.format(yi_test(comp_states, q_f))))"
   ]
  },
  {
   "cell_type": "code",
   "execution_count": 241,
   "metadata": {},
   "outputs": [
    {
     "data": {
      "text/plain": [
       "(0.9999999999999999+1.1102230246251565e-16j)"
      ]
     },
     "execution_count": 241,
     "metadata": {},
     "output_type": "execute_result"
    }
   ],
   "source": [
    "np.exp(-1j*cmath.phase(1/np.sqrt(2) + 1j/np.sqrt(2)))*(1/np.sqrt(2) + 1j/np.sqrt(2))"
   ]
  },
  {
   "cell_type": "code",
   "execution_count": 242,
   "metadata": {},
   "outputs": [
    {
     "data": {
      "text/plain": [
       "1"
      ]
     },
     "execution_count": 242,
     "metadata": {},
     "output_type": "execute_result"
    }
   ],
   "source": [
    "np.argmax(np.array([1, 9]))"
   ]
  },
  {
   "cell_type": "code",
   "execution_count": null,
   "metadata": {},
   "outputs": [],
   "source": []
  }
 ],
 "metadata": {
  "kernelspec": {
   "display_name": "Python 3.7.3 64-bit ('base': conda)",
   "language": "python",
   "name": "python37364bitbaseconda36d0b2465ec04527ba16a77ef6d99d0e"
  },
  "language_info": {
   "codemirror_mode": {
    "name": "ipython",
    "version": 3
   },
   "file_extension": ".py",
   "mimetype": "text/x-python",
   "name": "python",
   "nbconvert_exporter": "python",
   "pygments_lexer": "ipython3",
   "version": "3.7.11"
  },
  "toc": {
   "base_numbering": 1,
   "nav_menu": {},
   "number_sections": true,
   "sideBar": true,
   "skip_h1_title": false,
   "title_cell": "Table of Contents",
   "title_sidebar": "Contents",
   "toc_cell": false,
   "toc_position": {
    "height": "calc(100% - 180px)",
    "left": "10px",
    "top": "150px",
    "width": "233.333px"
   },
   "toc_section_display": true,
   "toc_window_display": false
  },
  "widgets": {
   "application/vnd.jupyter.widget-state+json": {
    "state": {},
    "version_major": 2,
    "version_minor": 0
   }
  }
 },
 "nbformat": 4,
 "nbformat_minor": 4
}
