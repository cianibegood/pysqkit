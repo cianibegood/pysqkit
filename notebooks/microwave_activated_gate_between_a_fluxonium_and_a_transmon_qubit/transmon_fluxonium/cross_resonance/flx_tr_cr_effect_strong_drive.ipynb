{
 "cells": [
  {
   "cell_type": "markdown",
   "metadata": {},
   "source": [
    "# Cross-resonance gate between transmon and fluxonium: linear approximation\n",
    "\n",
    "In this notebook we study the cross-resonance effect between a transmon and a fluxonium in the strong drive regime."
   ]
  },
  {
   "cell_type": "code",
   "execution_count": 1,
   "metadata": {},
   "outputs": [],
   "source": [
    "import numpy as np\n",
    "import scipy.integrate\n",
    "import time\n",
    "import qutip as qtp\n",
    "import matplotlib.pyplot as plt\n",
    "from scipy.optimize import minimize\n",
    "import pysqkit\n",
    "from pysqkit import QubitSystem, Qubit\n",
    "from pysqkit.util.phys import temperature_to_thermalenergy\n",
    "import pysqkit.util.transformations as trf\n",
    "from pysqkit.util.linalg import get_mat_elem\n",
    "from pysqkit.solvers.solvkit import integrate\n",
    "from matplotlib.colors import LogNorm\n",
    "from pysqkit.util.hsbasis import weyl_by_index\n",
    "from pysqkit.solvers import solvkit\n",
    "import qutip\n",
    "import itertools\n",
    "from functools import partial\n",
    "import multiprocessing\n",
    "from typing import List, Dict, Callable\n",
    "import matplotlib\n",
    "matplotlib.rcParams['mathtext.fontset'] = 'cm'\n",
    "#import util_cr as util\n",
    "import copy\n",
    "import json\n",
    "import cmath\n",
    "\n",
    "from IPython.display import display, Latex"
   ]
  },
  {
   "cell_type": "markdown",
   "metadata": {},
   "source": [
    "The gate is based on the following driven Hamiltonian of a fluxonium and a transmon capacitively coupled\n",
    "\n",
    "$$H = H^{(0)}_{T, 1} + H^{(0)}_{T, 2} + V + H_{drive},$$\n",
    "\n",
    "$$H^{(0)}_{T, k} =  \\hbar \\omega_{T, k} b_k^{\\dagger}b_k + \\hbar \\frac{\\delta_{T, k}}{2} b_k^{\\dagger} b_k^{\\dagger}b_k b_k,$$\n",
    "\n",
    "$$V = J_C q_{T1} q_{T2},$$\n",
    "\n",
    "$$\\frac{H_{drive}}{h} = \\left( \\varepsilon_{T1} q_{T1} + \\varepsilon_{T2} q_{T2} \\right) \\cos(2\\pi f_d t).$$\n",
    "\n",
    "The (approximate) charge operator for the transmon in terms of annihilation and creation operators reads\n",
    "\n",
    "$$\n",
    "q_{Tk} = i \\biggl( \\frac{E_{J,k}}{32 |\\delta_{T,k} |} \\biggr)^{1/4} (b_k^{\\dagger} - b_k) = i q_{ZPF} (b_k^{\\dagger} - b_k),\n",
    "$$\n",
    "where \n",
    "$$\n",
    "E_{J, k} = \\hbar \\biggl(\\frac{\\omega_{T, k} - \\delta_{T, k}}{8 | \\delta_{T, k} |} \\biggr)^2.\n",
    "$$\n",
    "\n",
    "In the following we introduce relaxation due to dielectric loss and pure dephasing on each qubit as error channels. \n",
    "\n",
    "The idea behind the cross-resonance gate is to drive one of the qubit at the frequency of the other using the fact that due to the coupling we have a $Z X$ term in the Hamiltonian. In particular, we will explore the idea of driving the fluxonium at the transmon frequency. The opposite idea to drive the transmon at the fluxonium frequency does not seem that promising. However, one might evaluate using Raman transitions."
   ]
  },
  {
   "cell_type": "markdown",
   "metadata": {
    "heading_collapsed": true
   },
   "source": [
    "# Introducing the qubits and the coupled system"
   ]
  },
  {
   "cell_type": "code",
   "execution_count": 2,
   "metadata": {},
   "outputs": [],
   "source": [
    "with open('../flx_transm_params.txt') as param_file:\n",
    "    parameters_set = json.load(param_file)"
   ]
  },
  {
   "cell_type": "code",
   "execution_count": 3,
   "metadata": {
    "hidden": true
   },
   "outputs": [],
   "source": [
    "temperature = 0.020 # K\n",
    "thermal_energy = temperature_to_thermalenergy(temperature) # kb T/h in GHz\n",
    "d_comp = 4\n",
    "\n",
    "p_set = \"CR_3\"\n",
    "\n",
    "#Transmon\n",
    "levels_t = 3\n",
    "transm_t = pysqkit.qubits.SimpleTransmon(\n",
    "    label='T1', \n",
    "    max_freq=parameters_set[p_set][\"max_freq_t\"] , \n",
    "    anharm=parameters_set[p_set][\"anharm_t\"],\n",
    "    diel_loss_tan=parameters_set[p_set][\"diel_loss_tan_t\"], #set to zero to check d_1 L1 = d_2 L2\n",
    "    env_thermal_energy=thermal_energy,    \n",
    "    dim_hilbert=levels_t,\n",
    "    dephasing_times=parameters_set[p_set][\"dephasing_times_t\"]\n",
    ")\n",
    "\n",
    "#Fluxonium\n",
    "levels_f = 4\n",
    "\n",
    "flx = pysqkit.qubits.Fluxonium(\n",
    "    label='F', \n",
    "    charge_energy=parameters_set[p_set][\"charge_energy_f\"], \n",
    "    induct_energy=parameters_set[p_set][\"induct_energy_f\"], \n",
    "    joseph_energy=parameters_set[p_set][\"joseph_energy_f\"], \n",
    "    diel_loss_tan=parameters_set[p_set][\"diel_loss_tan_f\"], \n",
    "    env_thermal_energy=thermal_energy,\n",
    "    dephasing_times= parameters_set[p_set][\"dephasing_times_f\"] #ns/2*np.pi \n",
    ")\n",
    "flx.diagonalize_basis(levels_f)\n",
    "eig_flx = flx.eig_energies()\n",
    "\n",
    "# We also add a drive on the fluxonium\n",
    "flx.add_drive(\n",
    "    pysqkit.drives.microwave_drive,\n",
    "    label='cr_drive_f',\n",
    "    pulse=pysqkit.drives.pulses.cos_modulation,\n",
    "    pulse_shape=pysqkit.drives.pulse_shapes.gaussian_top\n",
    ")\n",
    "\n",
    "d_leak = levels_t*levels_f - d_comp\n",
    "\n",
    "jc = parameters_set[p_set][\"jc\"]\n",
    "coupled_sys = transm_t.couple_to(flx, coupling=pysqkit.couplers.capacitive_coupling, strength=jc)\n",
    "\n",
    "states_label = coupled_sys.all_state_labels()\n",
    "states_dict = coupled_sys.states_as_dict(as_qobj=True)"
   ]
  },
  {
   "cell_type": "code",
   "execution_count": 4,
   "metadata": {},
   "outputs": [],
   "source": [
    "state_label = [\"00\", \"01\", \"10\", \"11\"]\n",
    "comp_states = {}\n",
    "for label in state_label:\n",
    "    state_tmp = coupled_sys.state(label)[1]\n",
    "    loc = np.argmax(np.abs(state_tmp))\n",
    "    phase = cmath.phase(state_tmp[loc])\n",
    "    state_tmp = np.exp(-1j*phase)*state_tmp\n",
    "    comp_states[label] = state_tmp"
   ]
  },
  {
   "cell_type": "markdown",
   "metadata": {},
   "source": [
    "The basis principle behind the gate is illustrated in the following figure"
   ]
  },
  {
   "cell_type": "markdown",
   "metadata": {},
   "source": [
    "The figure shows the energy of the bare levels. The orange arrows indicate the non-zero matrix elements between the (bare) levels provided by the capacitive coupling $V$: the more shaded the arrow the weaker the coupling. \n",
    "We look at the following quantities : \n",
    "\n",
    "$$\\zeta_{ZZ} = E_{00} + E_{11} - E_{01} - E_{10}$$\n",
    "$$\\mu_{YZ} = \\lvert \\langle 10 | q_{F} | 00 \\rangle - \\langle 11 | q_{F} |01 \\rangle \\rvert $$\n",
    "$$\\mu_{Y} = \\lvert \\langle 10 | q_{F} | 00 \\rangle + \\langle 11 | q_{F} |01 \\rangle \\rvert $$\n",
    "\n",
    "The second term quantifies the gate speed. Notice that if the phase of the drive is $0$ one hase a $YZ$ term from the charge operator. \n",
    "\n",
    "For the given parameters we have"
   ]
  },
  {
   "cell_type": "code",
   "execution_count": 5,
   "metadata": {},
   "outputs": [],
   "source": [
    "def zz(system: QubitSystem) -> float:\n",
    "    xi_zz = system.state('00')[0] + system.state('11')[0] \\\n",
    "        - system.state('01')[0] - system.state('10')[0]\n",
    "    return xi_zz\n",
    "\n",
    "def mu_yz_control(comp_states, op) -> float:\n",
    "    yz0 = get_mat_elem(op, comp_states['00'], comp_states['10'])\n",
    "    yz1 = get_mat_elem(op, comp_states['01'], comp_states['11'] )\n",
    "    return (np.imag(yz0 - yz1))/2\n",
    "\n",
    "def mu_yi_control(comp_states, op) -> float:\n",
    "    yz0 = get_mat_elem(op, comp_states['00'], comp_states['10'] )\n",
    "    yz1 = get_mat_elem(op, comp_states['01'], comp_states['11'] )\n",
    "    return (np.imag(yz0 + yz1))/2"
   ]
  },
  {
   "cell_type": "code",
   "execution_count": 6,
   "metadata": {},
   "outputs": [
    {
     "data": {
      "text/latex": [
       "$\\xi_{ZZ}/h = 0.118 \\, \\mathrm{MHz}$"
      ],
      "text/plain": [
       "<IPython.core.display.Latex object>"
      ]
     },
     "metadata": {},
     "output_type": "display_data"
    },
    {
     "data": {
      "text/latex": [
       "$\\mu_{YZ} = -0.0028 $"
      ],
      "text/plain": [
       "<IPython.core.display.Latex object>"
      ]
     },
     "metadata": {},
     "output_type": "display_data"
    },
    {
     "data": {
      "text/latex": [
       "$\\mu_{IY} = 0.0002 $"
      ],
      "text/plain": [
       "<IPython.core.display.Latex object>"
      ]
     },
     "metadata": {},
     "output_type": "display_data"
    }
   ],
   "source": [
    "display(Latex(r'$\\xi_{{ZZ}}/h = {:.3f} \\, \\mathrm{{MHz}}$'.format(1e3*zz(coupled_sys))))\n",
    "q_op = coupled_sys[\"F\"].charge_op()\n",
    "display(Latex(r'$\\mu_{{YZ}} = {:.4f} $'.format(mu_yz_control(comp_states, q_op))))\n",
    "display(Latex(r'$\\mu_{{IY}} = {:.4f} $'.format(mu_yi_control(comp_states, q_op))))"
   ]
  },
  {
   "cell_type": "code",
   "execution_count": 7,
   "metadata": {},
   "outputs": [],
   "source": [
    "freq_drive = transm_t.max_freq\n",
    "eps_drive = 0.5\n"
   ]
  },
  {
   "cell_type": "code",
   "execution_count": 8,
   "metadata": {},
   "outputs": [
    {
     "data": {
      "text/latex": [
       "Quantum object: dims = [[4], [4]], shape = (4, 4), type = oper, isherm = True\\begin{equation*}\\left(\\begin{array}{*{11}c}0.0 & -0.155j & 0.0 & 0.373j\\\\0.155j & 0.0 & -0.579j & 0.0\\\\0.0 & 0.579j & 0.0 & 0.636j\\\\-0.373j & 0.0 & -0.636j & 0.0\\\\\\end{array}\\right)\\end{equation*}"
      ],
      "text/plain": [
       "Quantum object: dims = [[4], [4]], shape = (4, 4), type = oper, isherm = True\n",
       "Qobj data =\n",
       "[[0.-7.40951354e-34j 0.-1.54990962e-01j 0.+5.62829531e-17j\n",
       "  0.+3.73304538e-01j]\n",
       " [0.+1.54990962e-01j 0.+7.66620575e-33j 0.-5.79004448e-01j\n",
       "  0.-4.52168904e-16j]\n",
       " [0.-5.62829531e-17j 0.+5.79004448e-01j 0.+3.36279167e-32j\n",
       "  0.+6.36100368e-01j]\n",
       " [0.-3.73304538e-01j 0.+4.52168904e-16j 0.-6.36100368e-01j\n",
       "  0.-4.95244653e-33j]]"
      ]
     },
     "execution_count": 8,
     "metadata": {},
     "output_type": "execute_result"
    }
   ],
   "source": [
    "flx.hamiltonian(as_qobj=True)\n",
    "flx.charge_op(as_qobj=True)"
   ]
  },
  {
   "cell_type": "code",
   "execution_count": 9,
   "metadata": {},
   "outputs": [
    {
     "data": {
      "text/plain": [
       "-0.15499096211759397j"
      ]
     },
     "execution_count": 9,
     "metadata": {},
     "output_type": "execute_result"
    }
   ],
   "source": [
    "flx.charge_op(as_qobj=True)[0, 1]"
   ]
  },
  {
   "cell_type": "code",
   "execution_count": 10,
   "metadata": {},
   "outputs": [],
   "source": [
    "# Transmon Hamiltonian\n",
    "lev_t = 3\n",
    "lev_f = 4\n",
    "id_t = qtp.qeye(lev_t)\n",
    "id_f = qtp.qeye(lev_f)\n",
    "proj_1_t = qtp.basis(lev_t, 1)*qtp.basis(lev_t, 1).dag()\n",
    "proj_2_t = qtp.basis(lev_t, 2)*qtp.basis(lev_t, 2).dag()\n",
    "h_t_single = (transm_t.max_freq - freq_drive)*proj_1_t + (transm_t.anharm + 2*(transm_t.max_freq - freq_drive))*proj_2_t\n",
    "h_t = qtp.tensor(h_t_single, id_f)\n",
    "\n",
    "# Fluxonium Hamiltonian\n",
    "proj_1_f = qtp.basis(lev_f, 1)*qtp.basis(lev_f, 1).dag()\n",
    "proj_2_f = qtp.basis(lev_f, 2)*qtp.basis(lev_f, 2).dag()\n",
    "proj_3_f = qtp.basis(lev_f, 3)*qtp.basis(lev_f, 3).dag()\n",
    "ground_en_f = flx.eig_energies()[0]\n",
    "h_f_single = flx.hamiltonian(as_qobj=True)[0:lev_f, 0:lev_f] - ground_en_f*id_f - freq_drive*proj_1_f - \\\n",
    "    freq_drive*proj_3_f - 2*freq_drive*proj_2_f\n",
    "h_f = qtp.tensor(id_t, h_f_single)\n",
    "\n",
    "# Coupling Hamiltonian\n",
    "coup_op_t = 1j*transm_t.charge_zpf*(qtp.basis(lev_t, 1)*qtp.basis(lev_t, 0).dag() + np.sqrt(2)*qtp.basis(lev_t, 2)*qtp.basis(lev_t, 1).dag())\n",
    "q_10_f = flx.charge_op(as_qobj=True)[1, 0]\n",
    "q_30_f = flx.charge_op(as_qobj=True)[3, 0]\n",
    "q_21_f = flx.charge_op(as_qobj=True)[2, 1]\n",
    "coup_op_f = q_10_f*qtp.basis(lev_f, 1)*qtp.basis(lev_f, 0).dag() + \\\n",
    "    q_30_f*qtp.basis(lev_f, 3)*qtp.basis(lev_f, 0).dag() + q_21_f*qtp.basis(lev_f, 2)*qtp.basis(lev_f, 1).dag()\n",
    "h_coup = jc*(qtp.tensor(coup_op_t, coup_op_f.dag()) + qtp.tensor(coup_op_t, coup_op_f.dag()).dag())\n",
    " \n",
    "# Drive Hamiltonian\n",
    "h_drive = eps_drive/2*(qtp.tensor(id_t, coup_op_f).dag() + qtp.tensor(id_t, coup_op_f))\n",
    "\n",
    "#Total Hamiltonian\n",
    "h_0 = h_t + h_f\n",
    "h = h_0 + h_coup\n",
    "h_tot = h + h_drive"
   ]
  },
  {
   "cell_type": "code",
   "execution_count": 11,
   "metadata": {},
   "outputs": [],
   "source": [
    "eig_en, eig_states = h.eigenstates()\n",
    "eig_en_tot, eig_states_tot = h_tot.eigenstates()"
   ]
  },
  {
   "cell_type": "code",
   "execution_count": 12,
   "metadata": {},
   "outputs": [],
   "source": [
    "def dressed_state(\n",
    "    lev: str,\n",
    "    hamil: qtp.qobj.Qobj(),\n",
    "    lev_t: int,\n",
    "    lev_f: int\n",
    "):\n",
    "    \"\"\"\n",
    "    Description\n",
    "    ---------------------------------------------------------\n",
    "    Function that returns the dressed state\n",
    "    \"\"\"\n",
    "    \n",
    "    #eig_en_0, eig_states_0 = h_0.eigenstates()\n",
    "    eig_en, eig_states = hamil.eigenstates()\n",
    "    \n",
    "    lev_list = [int(index) for index in lev]\n",
    "    \n",
    "    if lev_list[0] >= lev_t or lev_list[1] >= lev_f:\n",
    "        raise ValueError(\"Index error: indeces out of bound\")\n",
    "    state_0 = qtp.tensor(qtp.basis(lev_t, lev_list[0]), qtp.basis(lev_f, lev_list[1]))\n",
    "    #en_0 = eig_en_0[state_index]\n",
    "    eig_states_list = list(eig_states)\n",
    "    state = eig_states_list[0]\n",
    "    en = eig_en[0]\n",
    "    fid = qtp.fidelity(state*state.dag(), state_0*state_0.dag())\n",
    "    for state_tmp, en_tmp in zip(eig_states_list, eig_en):\n",
    "        fid_tmp = qtp.fidelity(state_tmp*state_tmp.dag(), state_0*state_0.dag())\n",
    "        if fid_tmp > fid:\n",
    "            state = state_tmp\n",
    "            fid = fid_tmp\n",
    "            en = en_tmp\n",
    "    loc = np.argmax(np.abs(np.array(state)) )\n",
    "    phase = cmath.phase(state[loc])\n",
    "    state = np.exp(-1j*phase)*state\n",
    "    return en, state"
   ]
  },
  {
   "cell_type": "markdown",
   "metadata": {},
   "source": [
    "To get the effective Hamiltonian we employ numerically an exact Schrieffer-Wolff. All we need to do is define the projectors\n",
    "involved in the SW transformation"
   ]
  },
  {
   "cell_type": "code",
   "execution_count": 13,
   "metadata": {},
   "outputs": [],
   "source": [
    "def zz_drive(\n",
    "    hamil,\n",
    "    lev_t: int,\n",
    "    lev_f: int\n",
    ") -> float:\n",
    "    en_00 = dressed_state('00', hamil, lev_t, lev_f)[0]\n",
    "    en_01 = dressed_state('01', hamil, lev_t, lev_f)[0]\n",
    "    en_10 = dressed_state('10', hamil, lev_t, lev_f)[0]\n",
    "    en_11 = dressed_state('11', hamil, lev_t, lev_f)[0]\n",
    "    xi_zz = en_00 + en_11 - en_01 - en_10\n",
    "    return xi_zz\n",
    "\n",
    "def project_dressed(\n",
    "    op: qtp.qobj.Qobj(),\n",
    "    hamil: qtp.qobj.Qobj(),\n",
    "    lev_t: int,\n",
    "    lev_f: int\n",
    "):\n",
    "    op_proj = np.zeros([4, 4], dtype=complex)\n",
    "    states = {}\n",
    "    states[\"00\"] = dressed_state('00', hamil, lev_t, lev_f)[1]\n",
    "    states[\"01\"] = dressed_state('01', hamil, lev_t, lev_f)[1]\n",
    "    states[\"10\"] = dressed_state('10', hamil, lev_t, lev_f)[1]\n",
    "    states[\"11\"] = dressed_state('11', hamil, lev_t, lev_f)[1]\n",
    "    \n",
    "    for key_row, row in zip(states.keys(), range(0, 4)):\n",
    "        for key_col, col in zip(states.keys(), range(0, 4)):\n",
    "            op_proj[row, col] = op.matrix_element(states[key_row], states[key_col])\n",
    "    \n",
    "    return op_proj\n",
    "\n",
    "def projector(\n",
    "    hamil: qtp.qobj.Qobj(),\n",
    "    lev_t: int,\n",
    "    lev_f: int,\n",
    "    labels=[\"00\", \"01\", \"10\", \"11\"]\n",
    "):\n",
    "    states = {}\n",
    "    proj = 0\n",
    "    for label in labels:\n",
    "        states[label] = dressed_state(label, hamil, lev_t, lev_f)[1]\n",
    "        proj += states[label]*states[label].dag()\n",
    "    return proj, states"
   ]
  },
  {
   "cell_type": "code",
   "execution_count": 14,
   "metadata": {},
   "outputs": [],
   "source": [
    "proj_dressed, states_dressed = projector(h, lev_t, lev_f)\n",
    "proj_dressed_drive, states_dressed_drive = projector(h_tot, lev_t, lev_f)\n",
    "ref_dressed = qtp.tensor(id_t, id_f) - 2*proj_dressed\n",
    "ref_dressed_drive = qtp.tensor(id_t, id_f) - 2*proj_dressed_drive\n",
    "u_sw = (ref_dressed*ref_dressed_drive).sqrtm()"
   ]
  },
  {
   "cell_type": "code",
   "execution_count": 15,
   "metadata": {},
   "outputs": [],
   "source": [
    "def h_sw_exact(\n",
    "    proj_0: qtp.qobj.Qobj(),\n",
    "    proj: qtp.qobj.Qobj(),\n",
    "    hamil: qtp.qobj.Qobj(),\n",
    "    states_0: dict,\n",
    "    lev_t: int,\n",
    "    lev_f: int\n",
    "):\n",
    "    refl_0 = qtp.tensor(qtp.qeye(lev_t), qtp.qeye(lev_f)) - 2*proj_0\n",
    "    refl = qtp.tensor(qtp.qeye(lev_t), qtp.qeye(lev_f)) - 2*proj\n",
    "    u_sw = (refl_0*refl).sqrtm()\n",
    "    h_sw = u_sw*hamil*u_sw.dag()\n",
    "    h_eff = np.zeros([4, 4], dtype=complex)\n",
    "    for key_row, row in zip(states_0.keys(), range(0, 4)):\n",
    "        for key_col, col in zip(states_0.keys(), range(0, 4)):\n",
    "            h_eff[row, col] = hamil.matrix_element(states_0[key_row], states_0[key_col])\n",
    "    return h_eff"
   ]
  },
  {
   "cell_type": "code",
   "execution_count": 16,
   "metadata": {},
   "outputs": [],
   "source": [
    "h_sw_eff = h_sw_exact(proj_dressed, proj_dressed_drive, h_tot, states_dressed, lev_t, lev_f)"
   ]
  },
  {
   "cell_type": "markdown",
   "metadata": {},
   "source": [
    "The easiest thing is to obtain the projector on the dressed basis without the drive"
   ]
  },
  {
   "cell_type": "code",
   "execution_count": 17,
   "metadata": {},
   "outputs": [],
   "source": [
    "def get_pauli_coeff(\n",
    "    op: np.ndarray,\n",
    "    label: str\n",
    "):\n",
    "    pauli = {}\n",
    "    pauli[\"I\"] = np.identity(2, dtype=complex)\n",
    "    pauli[\"X\"] = np.array([[0.0, 1.0], [1.0, 0.0]], dtype=complex)\n",
    "    pauli[\"Y\"] = np.array([[0.0, -1j*1.0], [1j*1.0, 0.0]], dtype=complex)\n",
    "    pauli[\"Z\"] = np.array([[1.0, 0.0], [0.0, -1.0]], dtype=complex)\n",
    "    label_list = [x for x in label]\n",
    "    pauli_op = np.kron(pauli[label_list[0]], pauli[label_list[1]])\n",
    "    coeff = 1/4*np.trace(op.conj().T.dot(pauli_op))\n",
    "    return coeff"
   ]
  },
  {
   "cell_type": "code",
   "execution_count": 18,
   "metadata": {},
   "outputs": [
    {
     "data": {
      "text/plain": [
       "(-0.741328069622359+0j)"
      ]
     },
     "execution_count": 18,
     "metadata": {},
     "output_type": "execute_result"
    }
   ],
   "source": [
    "get_pauli_coeff(h_sw_eff, \"YZ\")*1e3"
   ]
  },
  {
   "cell_type": "code",
   "execution_count": 19,
   "metadata": {},
   "outputs": [
    {
     "data": {
      "text/plain": [
       "-0.6909001670163284"
      ]
     },
     "execution_count": 19,
     "metadata": {},
     "output_type": "execute_result"
    }
   ],
   "source": [
    "mu_yz_control(comp_states, coupled_sys['F'].charge_op())*eps_drive*1e3/2"
   ]
  },
  {
   "cell_type": "code",
   "execution_count": 20,
   "metadata": {},
   "outputs": [],
   "source": [
    "def mu_yz_flx_sw(\n",
    "    transm: Qubit,\n",
    "    flx: Qubit,\n",
    "    jc: float\n",
    "):\n",
    "    q_zpf = transm.charge_zpf\n",
    "    omega_t = transm.freq\n",
    "    omega_flx, states_flx = flx.eig_states(4)\n",
    "    omega_flx = omega_flx - omega_flx[0]\n",
    "    q_10 = np.imag(get_mat_elem(flx.charge_op(), states_flx[1], states_flx[0]))\n",
    "    q_21 = np.imag(get_mat_elem(flx.charge_op(), states_flx[2], states_flx[1]))\n",
    "    q_30 = np.imag(get_mat_elem(flx.charge_op(), states_flx[3], states_flx[0]))\n",
    "    coeff = q_21**2/(omega_flx[2] - (omega_t + omega_flx[1]))\n",
    "    coeff += -q_30**2/(omega_flx[3] - omega_t)\n",
    "    coeff += q_10**2/(omega_t - omega_flx[1]) \n",
    "    mu_yz = jc*q_zpf*coeff/2\n",
    "    return mu_yz"
   ]
  },
  {
   "cell_type": "code",
   "execution_count": 21,
   "metadata": {},
   "outputs": [
    {
     "data": {
      "text/plain": [
       "-0.7551229934306682"
      ]
     },
     "execution_count": 21,
     "metadata": {},
     "output_type": "execute_result"
    }
   ],
   "source": [
    "mu_yz_flx_sw(transm_t, flx, jc)*1e3*eps_drive/2"
   ]
  },
  {
   "cell_type": "markdown",
   "metadata": {},
   "source": [
    "There seems to be a mysterious factor of 2"
   ]
  },
  {
   "cell_type": "markdown",
   "metadata": {},
   "source": [
    "# Generating data"
   ]
  },
  {
   "cell_type": "code",
   "execution_count": 22,
   "metadata": {},
   "outputs": [],
   "source": [
    "def get_cr_effect(\n",
    "    data_point: List,\n",
    "    jc: float,\n",
    "    flx: Qubit,\n",
    "    f_03: float,\n",
    "    f_12: float, \n",
    "    q_03: float,\n",
    "    q_12: float\n",
    "):\n",
    "    \"\"\"\n",
    "    Description\n",
    "    -----------------------------------------------------------------------\n",
    "    Returns the exact cross-resonance coefficient in MHz.\n",
    "    \"\"\"\n",
    "    \n",
    "    freq = data_point[0]\n",
    "    eps_ratio = data_point[1]\n",
    "    \n",
    "    transm_t = pysqkit.qubits.SimpleTransmon(\n",
    "            label='T_tmp', \n",
    "            max_freq=freq, \n",
    "            anharm=-0.3,\n",
    "            dim_hilbert=3,\n",
    "        )\n",
    "    \n",
    "    min_delta = np.min([np.abs(freq - f_03)/q_03, np.abs(freq - f_12)/q_12])\n",
    "    eps = eps_ratio*min_delta\n",
    "    \n",
    "    freq_drive = freq\n",
    "    lev_t = 3\n",
    "    lev_f = 4\n",
    "    id_t = qtp.qeye(lev_t)\n",
    "    id_f = qtp.qeye(lev_f)\n",
    "    proj_1_t = qtp.basis(lev_t, 1)*qtp.basis(lev_t, 1).dag()\n",
    "    proj_2_t = qtp.basis(lev_t, 2)*qtp.basis(lev_t, 2).dag()\n",
    "    h_t_single = (transm_t.max_freq - freq_drive)*proj_1_t + (transm_t.anharm + 2*(transm_t.max_freq - freq_drive))*proj_2_t\n",
    "    h_t = qtp.tensor(h_t_single, id_f)\n",
    "\n",
    "    # Fluxonium Hamiltonian\n",
    "    proj_1_f = qtp.basis(lev_f, 1)*qtp.basis(lev_f, 1).dag()\n",
    "    proj_2_f = qtp.basis(lev_f, 2)*qtp.basis(lev_f, 2).dag()\n",
    "    proj_3_f = qtp.basis(lev_f, 3)*qtp.basis(lev_f, 3).dag()\n",
    "    ground_en_f = flx.eig_energies()[0]\n",
    "    h_f_single = flx.hamiltonian(as_qobj=True) - ground_en_f*id_f - freq_drive*proj_1_f - \\\n",
    "        freq_drive*proj_3_f - 2*freq_drive*proj_2_f\n",
    "    h_f = qtp.tensor(id_t, h_f_single)\n",
    "\n",
    "    # Coupling Hamiltonian\n",
    "    coup_op_t = 1j*transm_t.charge_zpf*(qtp.basis(lev_t, 1)*qtp.basis(lev_t, 0).dag() + np.sqrt(2)*qtp.basis(lev_t, 2)*qtp.basis(lev_t, 1).dag())\n",
    "    q_10_f = flx.charge_op(as_qobj=True)[1, 0]\n",
    "    q_30_f = flx.charge_op(as_qobj=True)[3, 0]\n",
    "    q_21_f = flx.charge_op(as_qobj=True)[2, 1]\n",
    "    coup_op_f = q_10_f*qtp.basis(lev_f, 1)*qtp.basis(lev_f, 0).dag() + \\\n",
    "        q_30_f*qtp.basis(lev_f, 3)*qtp.basis(lev_f, 0).dag() + q_21_f*qtp.basis(lev_f, 2)*qtp.basis(lev_f, 1).dag()\n",
    "    h_coup = jc*(qtp.tensor(coup_op_t, coup_op_f.dag()) + qtp.tensor(coup_op_t, coup_op_f.dag()).dag())\n",
    "\n",
    "    # Drive Hamiltonian\n",
    "    h_drive = eps/2*(qtp.tensor(id_t, coup_op_f).dag() + qtp.tensor(id_t, coup_op_f))\n",
    "\n",
    "    #Total Hamiltonian\n",
    "    h_0 = h_t + h_f\n",
    "    h = h_0 + h_coup\n",
    "    h_tot = h + h_drive\n",
    "    \n",
    "    proj_dressed, states_dressed = projector(h, lev_t, lev_f)\n",
    "    proj_dressed_drive, states_dressed_drive = projector(h_tot, lev_t, lev_f)\n",
    "    ref_dressed = qtp.tensor(id_t, id_f) - 2*proj_dressed\n",
    "    ref_dressed_drive = qtp.tensor(id_t, id_f) - 2*proj_dressed_drive\n",
    "    u_sw = (ref_dressed*ref_dressed_drive).sqrtm()\n",
    "    \n",
    "    h_sw_eff = h_sw_exact(proj_dressed, proj_dressed_drive, h_tot, states_dressed, lev_t, lev_f)\n",
    "    \n",
    "    output = {}\n",
    "    output[\"freq_fixed\"] = transm_t.freq\n",
    "    output[\"freq\"] = freq\n",
    "    output[\"eps_ratio\"] = eps_ratio\n",
    "    output[\"eps\"] = eps\n",
    "    output[\"cr\"] = np.real(get_pauli_coeff(h_sw_eff, \"YZ\")*1e3)\n",
    "    output[\"zz\"] = np.real(get_pauli_coeff(h_sw_eff, \"ZZ\")*1e3)\n",
    "    output[\"jc\"] = jc*1e3\n",
    "    \n",
    "    return output\n",
    "\n",
    "f_03 = eig_flx[3] - eig_flx[0]\n",
    "q_03 = np.abs(coup_op_f[3, 0])\n",
    "f_12 = eig_flx[2] - eig_flx[1]\n",
    "q_12 = np.abs(coup_op_f[2, 1])\n",
    "\n",
    "func = partial(get_cr_effect, jc=jc, flx=flx, f_03=f_03, f_12=f_12, q_03=q_03, q_12=q_12)\n",
    "    \n",
    "    "
   ]
  },
  {
   "cell_type": "code",
   "execution_count": 23,
   "metadata": {},
   "outputs": [
    {
     "name": "stderr",
     "output_type": "stream",
     "text": [
      "Process ForkPoolWorker-4:\n",
      "Process ForkPoolWorker-3:\n",
      "Process ForkPoolWorker-1:\n",
      "Traceback (most recent call last):\n",
      "  File \"/home/ciani/anaconda3/lib/python3.7/multiprocessing/process.py\", line 297, in _bootstrap\n",
      "    self.run()\n",
      "  File \"/home/ciani/anaconda3/lib/python3.7/multiprocessing/process.py\", line 99, in run\n",
      "    self._target(*self._args, **self._kwargs)\n",
      "  File \"/home/ciani/anaconda3/lib/python3.7/multiprocessing/pool.py\", line 121, in worker\n",
      "    result = (True, func(*args, **kwds))\n",
      "Process ForkPoolWorker-2:\n",
      "  File \"/home/ciani/anaconda3/lib/python3.7/multiprocessing/process.py\", line 297, in _bootstrap\n",
      "    self.run()\n",
      "Traceback (most recent call last):\n",
      "Traceback (most recent call last):\n",
      "  File \"/home/ciani/anaconda3/lib/python3.7/multiprocessing/process.py\", line 99, in run\n",
      "    self._target(*self._args, **self._kwargs)\n",
      "  File \"/home/ciani/anaconda3/lib/python3.7/multiprocessing/pool.py\", line 121, in worker\n",
      "    result = (True, func(*args, **kwds))\n",
      "  File \"/home/ciani/anaconda3/lib/python3.7/multiprocessing/pool.py\", line 44, in mapstar\n",
      "    return list(map(*args))\n",
      "  File \"/home/ciani/anaconda3/lib/python3.7/multiprocessing/pool.py\", line 44, in mapstar\n",
      "    return list(map(*args))\n"
     ]
    },
    {
     "ename": "KeyboardInterrupt",
     "evalue": "",
     "output_type": "error",
     "traceback": [
      "\u001b[0;31m---------------------------------------------------------------------------\u001b[0m",
      "\u001b[0;31mKeyboardInterrupt\u001b[0m                         Traceback (most recent call last)",
      "\u001b[0;32m/tmp/ipykernel_44625/1325106475.py\u001b[0m in \u001b[0;36m<module>\u001b[0;34m\u001b[0m\n\u001b[1;32m     12\u001b[0m \u001b[0mpool\u001b[0m \u001b[0;34m=\u001b[0m \u001b[0mmultiprocessing\u001b[0m\u001b[0;34m.\u001b[0m\u001b[0mPool\u001b[0m\u001b[0;34m(\u001b[0m\u001b[0mprocesses\u001b[0m\u001b[0;34m=\u001b[0m\u001b[0mn_process\u001b[0m\u001b[0;34m)\u001b[0m\u001b[0;34m\u001b[0m\u001b[0;34m\u001b[0m\u001b[0m\n\u001b[1;32m     13\u001b[0m \u001b[0;34m\u001b[0m\u001b[0m\n\u001b[0;32m---> 14\u001b[0;31m \u001b[0mresult\u001b[0m \u001b[0;34m=\u001b[0m \u001b[0mpool\u001b[0m\u001b[0;34m.\u001b[0m\u001b[0mmap\u001b[0m\u001b[0;34m(\u001b[0m\u001b[0mfunc\u001b[0m\u001b[0;34m,\u001b[0m \u001b[0miter_list\u001b[0m\u001b[0;34m)\u001b[0m\u001b[0;34m\u001b[0m\u001b[0;34m\u001b[0m\u001b[0m\n\u001b[0m\u001b[1;32m     15\u001b[0m \u001b[0;34m\u001b[0m\u001b[0m\n\u001b[1;32m     16\u001b[0m \u001b[0mpool\u001b[0m\u001b[0;34m.\u001b[0m\u001b[0mclose\u001b[0m\u001b[0;34m(\u001b[0m\u001b[0;34m)\u001b[0m\u001b[0;34m\u001b[0m\u001b[0;34m\u001b[0m\u001b[0m\n",
      "\u001b[0;32m~/anaconda3/lib/python3.7/multiprocessing/pool.py\u001b[0m in \u001b[0;36mmap\u001b[0;34m(self, func, iterable, chunksize)\u001b[0m\n\u001b[1;32m    266\u001b[0m         \u001b[0;32min\u001b[0m \u001b[0ma\u001b[0m \u001b[0mlist\u001b[0m \u001b[0mthat\u001b[0m \u001b[0;32mis\u001b[0m \u001b[0mreturned\u001b[0m\u001b[0;34m.\u001b[0m\u001b[0;34m\u001b[0m\u001b[0;34m\u001b[0m\u001b[0m\n\u001b[1;32m    267\u001b[0m         '''\n\u001b[0;32m--> 268\u001b[0;31m         \u001b[0;32mreturn\u001b[0m \u001b[0mself\u001b[0m\u001b[0;34m.\u001b[0m\u001b[0m_map_async\u001b[0m\u001b[0;34m(\u001b[0m\u001b[0mfunc\u001b[0m\u001b[0;34m,\u001b[0m \u001b[0miterable\u001b[0m\u001b[0;34m,\u001b[0m \u001b[0mmapstar\u001b[0m\u001b[0;34m,\u001b[0m \u001b[0mchunksize\u001b[0m\u001b[0;34m)\u001b[0m\u001b[0;34m.\u001b[0m\u001b[0mget\u001b[0m\u001b[0;34m(\u001b[0m\u001b[0;34m)\u001b[0m\u001b[0;34m\u001b[0m\u001b[0;34m\u001b[0m\u001b[0m\n\u001b[0m\u001b[1;32m    269\u001b[0m \u001b[0;34m\u001b[0m\u001b[0m\n\u001b[1;32m    270\u001b[0m     \u001b[0;32mdef\u001b[0m \u001b[0mstarmap\u001b[0m\u001b[0;34m(\u001b[0m\u001b[0mself\u001b[0m\u001b[0;34m,\u001b[0m \u001b[0mfunc\u001b[0m\u001b[0;34m,\u001b[0m \u001b[0miterable\u001b[0m\u001b[0;34m,\u001b[0m \u001b[0mchunksize\u001b[0m\u001b[0;34m=\u001b[0m\u001b[0;32mNone\u001b[0m\u001b[0;34m)\u001b[0m\u001b[0;34m:\u001b[0m\u001b[0;34m\u001b[0m\u001b[0;34m\u001b[0m\u001b[0m\n",
      "\u001b[0;32m~/anaconda3/lib/python3.7/multiprocessing/pool.py\u001b[0m in \u001b[0;36mget\u001b[0;34m(self, timeout)\u001b[0m\n\u001b[1;32m    649\u001b[0m \u001b[0;34m\u001b[0m\u001b[0m\n\u001b[1;32m    650\u001b[0m     \u001b[0;32mdef\u001b[0m \u001b[0mget\u001b[0m\u001b[0;34m(\u001b[0m\u001b[0mself\u001b[0m\u001b[0;34m,\u001b[0m \u001b[0mtimeout\u001b[0m\u001b[0;34m=\u001b[0m\u001b[0;32mNone\u001b[0m\u001b[0;34m)\u001b[0m\u001b[0;34m:\u001b[0m\u001b[0;34m\u001b[0m\u001b[0;34m\u001b[0m\u001b[0m\n\u001b[0;32m--> 651\u001b[0;31m         \u001b[0mself\u001b[0m\u001b[0;34m.\u001b[0m\u001b[0mwait\u001b[0m\u001b[0;34m(\u001b[0m\u001b[0mtimeout\u001b[0m\u001b[0;34m)\u001b[0m\u001b[0;34m\u001b[0m\u001b[0;34m\u001b[0m\u001b[0m\n\u001b[0m\u001b[1;32m    652\u001b[0m         \u001b[0;32mif\u001b[0m \u001b[0;32mnot\u001b[0m \u001b[0mself\u001b[0m\u001b[0;34m.\u001b[0m\u001b[0mready\u001b[0m\u001b[0;34m(\u001b[0m\u001b[0;34m)\u001b[0m\u001b[0;34m:\u001b[0m\u001b[0;34m\u001b[0m\u001b[0;34m\u001b[0m\u001b[0m\n\u001b[1;32m    653\u001b[0m             \u001b[0;32mraise\u001b[0m \u001b[0mTimeoutError\u001b[0m\u001b[0;34m\u001b[0m\u001b[0;34m\u001b[0m\u001b[0m\n",
      "\u001b[0;32m~/anaconda3/lib/python3.7/multiprocessing/pool.py\u001b[0m in \u001b[0;36mwait\u001b[0;34m(self, timeout)\u001b[0m\n\u001b[1;32m    646\u001b[0m \u001b[0;34m\u001b[0m\u001b[0m\n\u001b[1;32m    647\u001b[0m     \u001b[0;32mdef\u001b[0m \u001b[0mwait\u001b[0m\u001b[0;34m(\u001b[0m\u001b[0mself\u001b[0m\u001b[0;34m,\u001b[0m \u001b[0mtimeout\u001b[0m\u001b[0;34m=\u001b[0m\u001b[0;32mNone\u001b[0m\u001b[0;34m)\u001b[0m\u001b[0;34m:\u001b[0m\u001b[0;34m\u001b[0m\u001b[0;34m\u001b[0m\u001b[0m\n\u001b[0;32m--> 648\u001b[0;31m         \u001b[0mself\u001b[0m\u001b[0;34m.\u001b[0m\u001b[0m_event\u001b[0m\u001b[0;34m.\u001b[0m\u001b[0mwait\u001b[0m\u001b[0;34m(\u001b[0m\u001b[0mtimeout\u001b[0m\u001b[0;34m)\u001b[0m\u001b[0;34m\u001b[0m\u001b[0;34m\u001b[0m\u001b[0m\n\u001b[0m\u001b[1;32m    649\u001b[0m \u001b[0;34m\u001b[0m\u001b[0m\n\u001b[1;32m    650\u001b[0m     \u001b[0;32mdef\u001b[0m \u001b[0mget\u001b[0m\u001b[0;34m(\u001b[0m\u001b[0mself\u001b[0m\u001b[0;34m,\u001b[0m \u001b[0mtimeout\u001b[0m\u001b[0;34m=\u001b[0m\u001b[0;32mNone\u001b[0m\u001b[0;34m)\u001b[0m\u001b[0;34m:\u001b[0m\u001b[0;34m\u001b[0m\u001b[0;34m\u001b[0m\u001b[0m\n",
      "\u001b[0;32m~/anaconda3/lib/python3.7/threading.py\u001b[0m in \u001b[0;36mwait\u001b[0;34m(self, timeout)\u001b[0m\n\u001b[1;32m    550\u001b[0m             \u001b[0msignaled\u001b[0m \u001b[0;34m=\u001b[0m \u001b[0mself\u001b[0m\u001b[0;34m.\u001b[0m\u001b[0m_flag\u001b[0m\u001b[0;34m\u001b[0m\u001b[0;34m\u001b[0m\u001b[0m\n\u001b[1;32m    551\u001b[0m             \u001b[0;32mif\u001b[0m \u001b[0;32mnot\u001b[0m \u001b[0msignaled\u001b[0m\u001b[0;34m:\u001b[0m\u001b[0;34m\u001b[0m\u001b[0;34m\u001b[0m\u001b[0m\n\u001b[0;32m--> 552\u001b[0;31m                 \u001b[0msignaled\u001b[0m \u001b[0;34m=\u001b[0m \u001b[0mself\u001b[0m\u001b[0;34m.\u001b[0m\u001b[0m_cond\u001b[0m\u001b[0;34m.\u001b[0m\u001b[0mwait\u001b[0m\u001b[0;34m(\u001b[0m\u001b[0mtimeout\u001b[0m\u001b[0;34m)\u001b[0m\u001b[0;34m\u001b[0m\u001b[0;34m\u001b[0m\u001b[0m\n\u001b[0m\u001b[1;32m    553\u001b[0m             \u001b[0;32mreturn\u001b[0m \u001b[0msignaled\u001b[0m\u001b[0;34m\u001b[0m\u001b[0;34m\u001b[0m\u001b[0m\n\u001b[1;32m    554\u001b[0m \u001b[0;34m\u001b[0m\u001b[0m\n",
      "\u001b[0;32m~/anaconda3/lib/python3.7/threading.py\u001b[0m in \u001b[0;36mwait\u001b[0;34m(self, timeout)\u001b[0m\n\u001b[1;32m    294\u001b[0m         \u001b[0;32mtry\u001b[0m\u001b[0;34m:\u001b[0m    \u001b[0;31m# restore state no matter what (e.g., KeyboardInterrupt)\u001b[0m\u001b[0;34m\u001b[0m\u001b[0;34m\u001b[0m\u001b[0m\n\u001b[1;32m    295\u001b[0m             \u001b[0;32mif\u001b[0m \u001b[0mtimeout\u001b[0m \u001b[0;32mis\u001b[0m \u001b[0;32mNone\u001b[0m\u001b[0;34m:\u001b[0m\u001b[0;34m\u001b[0m\u001b[0;34m\u001b[0m\u001b[0m\n\u001b[0;32m--> 296\u001b[0;31m                 \u001b[0mwaiter\u001b[0m\u001b[0;34m.\u001b[0m\u001b[0macquire\u001b[0m\u001b[0;34m(\u001b[0m\u001b[0;34m)\u001b[0m\u001b[0;34m\u001b[0m\u001b[0;34m\u001b[0m\u001b[0m\n\u001b[0m\u001b[1;32m    297\u001b[0m                 \u001b[0mgotit\u001b[0m \u001b[0;34m=\u001b[0m \u001b[0;32mTrue\u001b[0m\u001b[0;34m\u001b[0m\u001b[0;34m\u001b[0m\u001b[0m\n\u001b[1;32m    298\u001b[0m             \u001b[0;32melse\u001b[0m\u001b[0;34m:\u001b[0m\u001b[0;34m\u001b[0m\u001b[0;34m\u001b[0m\u001b[0m\n",
      "\u001b[0;31mKeyboardInterrupt\u001b[0m: "
     ]
    },
    {
     "name": "stderr",
     "output_type": "stream",
     "text": [
      "  File \"/tmp/ipykernel_44625/2187335619.py\", line 66, in get_cr_effect\n",
      "    proj_dressed_drive, states_dressed_drive = projector(h_tot, lev_t, lev_f)\n",
      "  File \"/home/ciani/anaconda3/lib/python3.7/multiprocessing/process.py\", line 297, in _bootstrap\n",
      "    self.run()\n",
      "  File \"/tmp/ipykernel_44625/3620059916.py\", line 41, in projector\n",
      "    states[label] = dressed_state(label, hamil, lev_t, lev_f)[1]\n",
      "  File \"/tmp/ipykernel_44625/821131295.py\", line 14, in dressed_state\n",
      "    eig_en, eig_states = hamil.eigenstates()\n",
      "  File \"/home/ciani/anaconda3/lib/python3.7/multiprocessing/process.py\", line 99, in run\n",
      "    self._target(*self._args, **self._kwargs)\n",
      "  File \"/home/ciani/anaconda3/lib/python3.7/site-packages/qutip/qobj.py\", line 1731, in eigenstates\n",
      "    ekets[:] = [Qobj(vec, dims=new_dims, type=new_type) for vec in evecs]\n",
      "  File \"/home/ciani/anaconda3/lib/python3.7/multiprocessing/pool.py\", line 121, in worker\n",
      "    result = (True, func(*args, **kwds))\n",
      "  File \"/home/ciani/anaconda3/lib/python3.7/site-packages/qutip/qobj.py\", line 1731, in <listcomp>\n",
      "    ekets[:] = [Qobj(vec, dims=new_dims, type=new_type) for vec in evecs]\n",
      "  File \"/tmp/ipykernel_44625/2187335619.py\", line 66, in get_cr_effect\n",
      "    proj_dressed_drive, states_dressed_drive = projector(h_tot, lev_t, lev_f)\n",
      "  File \"/home/ciani/anaconda3/lib/python3.7/site-packages/qutip/qobj.py\", line 305, in __init__\n",
      "    _tmp = sp.csr_matrix(inpt, dtype=complex, copy=do_copy)\n",
      "  File \"/home/ciani/anaconda3/lib/python3.7/multiprocessing/pool.py\", line 44, in mapstar\n",
      "    return list(map(*args))\n",
      "  File \"/tmp/ipykernel_44625/3620059916.py\", line 41, in projector\n",
      "    states[label] = dressed_state(label, hamil, lev_t, lev_f)[1]\n",
      "  File \"/tmp/ipykernel_44625/2187335619.py\", line 69, in get_cr_effect\n",
      "    u_sw = (ref_dressed*ref_dressed_drive).sqrtm()\n",
      "  File \"/tmp/ipykernel_44625/821131295.py\", line 27, in dressed_state\n",
      "    fid_tmp = qtp.fidelity(state_tmp*state_tmp.dag(), state_0*state_0.dag())\n",
      "  File \"/home/ciani/anaconda3/lib/python3.7/site-packages/scipy/sparse/compressed.py\", line 106, in __init__\n",
      "    self.check_format(full_check=False)\n",
      "  File \"/home/ciani/anaconda3/lib/python3.7/site-packages/qutip/qobj.py\", line 1228, in sqrtm\n",
      "    spDv = dV.dot(np.linalg.inv(evecs.T))\n",
      "  File \"/home/ciani/anaconda3/lib/python3.7/site-packages/qutip/qobj.py\", line 513, in __mul__\n",
      "    out = Qobj()\n",
      "  File \"<__array_function__ internals>\", line 6, in inv\n",
      "  File \"/home/ciani/anaconda3/lib/python3.7/site-packages/scipy/sparse/compressed.py\", line 164, in check_format\n",
      "    if x != 1:\n",
      "  File \"/home/ciani/anaconda3/lib/python3.7/site-packages/qutip/qobj.py\", line 239, in __init__\n",
      "    if fast == 'mc-dm':\n",
      "KeyboardInterrupt\n",
      "  File \"/home/ciani/anaconda3/lib/python3.7/site-packages/numpy/linalg/linalg.py\", line 545, in inv\n",
      "    ainv = _umath_linalg.inv(a, signature=signature, extobj=extobj)\n",
      "KeyboardInterrupt\n",
      "KeyboardInterrupt\n",
      "Traceback (most recent call last):\n",
      "  File \"/home/ciani/anaconda3/lib/python3.7/multiprocessing/process.py\", line 297, in _bootstrap\n",
      "    self.run()\n",
      "  File \"/home/ciani/anaconda3/lib/python3.7/multiprocessing/process.py\", line 99, in run\n",
      "    self._target(*self._args, **self._kwargs)\n",
      "  File \"/home/ciani/anaconda3/lib/python3.7/multiprocessing/pool.py\", line 121, in worker\n",
      "    result = (True, func(*args, **kwds))\n",
      "  File \"/home/ciani/anaconda3/lib/python3.7/multiprocessing/pool.py\", line 44, in mapstar\n",
      "    return list(map(*args))\n",
      "  File \"/tmp/ipykernel_44625/2187335619.py\", line 43, in get_cr_effect\n",
      "    ground_en_f = flx.eig_energies()[0]\n",
      "  File \"/home/ciani/python/github/pysqkit/pysqkit/systems/system.py\", line 108, in eig_energies\n",
      "    eig_vals = self._get_eig_vals(subset_inds, expand)\n",
      "  File \"/home/ciani/python/github/pysqkit/pysqkit/systems/system.py\", line 86, in _get_eig_vals\n",
      "    hamil = self.hamiltonian(expand=expand)\n",
      "  File \"/home/ciani/python/github/pysqkit/pysqkit/qubits/fluxonium.py\", line 281, in hamiltonian\n",
      "    op = self._get_hamiltonian()\n",
      "  File \"/home/ciani/python/github/pysqkit/pysqkit/qubits/fluxonium.py\", line 271, in _get_hamiltonian\n",
      "    exp_mat = flux_phase * la.expm(1j*self._get_flux_op())\n",
      "  File \"/home/ciani/anaconda3/lib/python3.7/site-packages/scipy/linalg/matfuncs.py\", line 255, in expm\n",
      "    return scipy.sparse.linalg.expm(A)\n",
      "  File \"/home/ciani/anaconda3/lib/python3.7/site-packages/scipy/sparse/linalg/matfuncs.py\", line 591, in expm\n",
      "    return _expm(A, use_exact_onenorm='auto')\n",
      "  File \"/home/ciani/anaconda3/lib/python3.7/site-packages/scipy/sparse/linalg/matfuncs.py\", line 673, in _expm\n",
      "    X = _solve_P_Q(U, V, structure=structure)\n",
      "  File \"/home/ciani/anaconda3/lib/python3.7/site-packages/scipy/sparse/linalg/matfuncs.py\", line 709, in _solve_P_Q\n",
      "    return solve(Q, P)\n",
      "  File \"/home/ciani/anaconda3/lib/python3.7/site-packages/scipy/linalg/basic.py\", line 218, in solve\n",
      "    lu, ipvt, info = getrf(a1, overwrite_a=overwrite_a)\n",
      "KeyboardInterrupt\n"
     ]
    }
   ],
   "source": [
    "n_points = 30\n",
    "n_process = 4\n",
    "delta_freq = 0.8\n",
    "ref_freq = parameters_set[p_set][\"max_freq_t\"]\n",
    "transm_freq_list = list(np.linspace(ref_freq - delta_freq, ref_freq + delta_freq, n_points))\n",
    "eps_ratio_max = 0.3\n",
    "eps_ratio_list = list(np.linspace(0.0, eps_ratio_max, n_points))\n",
    "iter_list = itertools.product(transm_freq_list, eps_ratio_list)\n",
    "\n",
    "start = time.time()\n",
    "\n",
    "pool = multiprocessing.Pool(processes=n_process)\n",
    "\n",
    "result = pool.map(func, iter_list)\n",
    "\n",
    "pool.close()\n",
    "pool.join()\n",
    "\n",
    "end = time.time()\n",
    "\n",
    "print(\"Computation time = {} s\".format(end - start))\n",
    "        \n",
    "        \n",
    "        "
   ]
  },
  {
   "cell_type": "code",
   "execution_count": null,
   "metadata": {},
   "outputs": [],
   "source": [
    "def plot_cr_effect(\n",
    "    result\n",
    "):\n",
    "    color_map = 'seismic'\n",
    "    n_points = len(result)\n",
    "    freq = np.zeros(n_points)\n",
    "    eps = np.zeros(n_points)\n",
    "    cr = np.zeros(n_points)\n",
    "    for k in range(0, n_points):\n",
    "        freq[k] = result[k][\"freq\"]\n",
    "        eps[k] = result[k][\"eps_ratio\"]\n",
    "        cr[k] = np.abs(result[k][\"cr\"])\n",
    "    freq_vec, eps_vec = np.linspace(freq.min(), \\\n",
    "        freq.max(), n_points), np.linspace(eps.min(), eps.max(), n_points)\n",
    "    freq_vec, eps_vec = np.meshgrid(freq_vec, eps_vec)\n",
    "    # Interpolate\n",
    "    rbf_func = scipy.interpolate.Rbf(freq, eps, cr, function='linear')\n",
    "    cr_rbf = rbf_func(freq_vec, eps_vec)\n",
    "    \n",
    "    aspect = (np.max(freq_vec) - np.min(freq_vec))/(np.max(eps_vec) - np.min(eps_vec))\n",
    "    fig, ax = plt.subplots(figsize=(6,6))\n",
    "    im = ax.imshow(cr_rbf, vmin=np.min(cr_rbf), vmax=np.max(cr_rbf), \n",
    "                   origin='lower', extent=[np.min(freq_vec), np.max(freq_vec), \n",
    "                   np.min(eps_vec), np.max(eps_vec)], \n",
    "                   cmap=color_map, aspect=aspect)\n",
    "    cbar = fig.colorbar(im)\n",
    "    \n",
    "    plt.show()"
   ]
  },
  {
   "cell_type": "code",
   "execution_count": null,
   "metadata": {},
   "outputs": [],
   "source": [
    "plot_cr_effect(result)"
   ]
  },
  {
   "cell_type": "code",
   "execution_count": 52,
   "metadata": {},
   "outputs": [],
   "source": [
    "save = True\n",
    "if save:\n",
    "    with open('tmp/data_cr_transmon_fluxonium_strong_drive.txt', 'w') as fp:\n",
    "        json.dump(result, fp)"
   ]
  },
  {
   "cell_type": "code",
   "execution_count": 26,
   "metadata": {},
   "outputs": [
    {
     "name": "stdout",
     "output_type": "stream",
     "text": [
      "Computation time = 90.00986385345459 s\n"
     ]
    }
   ],
   "source": [
    "my_eps_ratio = 0.2\n",
    "n_points = 100\n",
    "n_process = 4\n",
    "delta_freq = 0.8\n",
    "transm_freq_list = list(np.linspace(transm_t.freq - delta_freq, transm_t.freq + delta_freq, n_points))\n",
    "my_list = []\n",
    "for freq in transm_freq_list:\n",
    "    my_list.append([freq, my_eps_ratio])\n",
    "\n",
    "\n",
    "\n",
    "\n",
    "start = time.time()\n",
    "\n",
    "pool = multiprocessing.Pool(processes=n_process)\n",
    "\n",
    "result = pool.map(func, my_list)\n",
    "\n",
    "pool.close()\n",
    "pool.join()\n",
    "\n",
    "end = time.time()\n",
    "\n",
    "print(\"Computation time = {} s\".format(end - start))"
   ]
  },
  {
   "cell_type": "code",
   "execution_count": 27,
   "metadata": {},
   "outputs": [],
   "source": [
    "save = True\n",
    "if save:\n",
    "    with open('tmp/data_cr_transmon_fluxonium_fixed_drive_ratio.txt', 'w') as fp:\n",
    "        json.dump(result, fp)"
   ]
  },
  {
   "cell_type": "code",
   "execution_count": 47,
   "metadata": {},
   "outputs": [
    {
     "data": {
      "text/plain": [
       "166.66666666666669"
      ]
     },
     "execution_count": 47,
     "metadata": {},
     "output_type": "execute_result"
    }
   ],
   "source": [
    "1/(2*np.pi*1.5/1e3)*np.pi/2"
   ]
  },
  {
   "cell_type": "code",
   "execution_count": 23,
   "metadata": {},
   "outputs": [
    {
     "data": {
      "text/plain": [
       "5.0"
      ]
     },
     "execution_count": 23,
     "metadata": {},
     "output_type": "execute_result"
    }
   ],
   "source": [
    "transm_t.freq"
   ]
  },
  {
   "cell_type": "code",
   "execution_count": 53,
   "metadata": {},
   "outputs": [
    {
     "data": {
      "text/plain": [
       "{'freq_fixed': 4.2,\n",
       " 'freq': 4.2,\n",
       " 'eps_ratio': 0.0,\n",
       " 'eps': 0.0,\n",
       " 'cr': 0.0,\n",
       " 'zz': 0.0428714567576316,\n",
       " 'jc': 20.0}"
      ]
     },
     "execution_count": 53,
     "metadata": {},
     "output_type": "execute_result"
    }
   ],
   "source": [
    "result[0]"
   ]
  },
  {
   "cell_type": "code",
   "execution_count": null,
   "metadata": {},
   "outputs": [],
   "source": []
  }
 ],
 "metadata": {
  "kernelspec": {
   "display_name": "Python 3.7.3 64-bit ('base': conda)",
   "language": "python",
   "name": "python37364bitbaseconda36d0b2465ec04527ba16a77ef6d99d0e"
  },
  "language_info": {
   "codemirror_mode": {
    "name": "ipython",
    "version": 3
   },
   "file_extension": ".py",
   "mimetype": "text/x-python",
   "name": "python",
   "nbconvert_exporter": "python",
   "pygments_lexer": "ipython3",
   "version": "3.7.11"
  },
  "toc": {
   "base_numbering": 1,
   "nav_menu": {},
   "number_sections": true,
   "sideBar": true,
   "skip_h1_title": false,
   "title_cell": "Table of Contents",
   "title_sidebar": "Contents",
   "toc_cell": false,
   "toc_position": {
    "height": "calc(100% - 180px)",
    "left": "10px",
    "top": "150px",
    "width": "233.333px"
   },
   "toc_section_display": true,
   "toc_window_display": false
  },
  "widgets": {
   "application/vnd.jupyter.widget-state+json": {
    "state": {},
    "version_major": 2,
    "version_minor": 0
   }
  }
 },
 "nbformat": 4,
 "nbformat_minor": 4
}
