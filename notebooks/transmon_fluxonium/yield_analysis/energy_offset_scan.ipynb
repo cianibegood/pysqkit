{
 "cells": [
  {
   "cell_type": "code",
   "execution_count": 3,
   "metadata": {},
   "outputs": [],
   "source": [
    "import time\n",
    "import cmath\n",
    "import json\n",
    "from collections import defaultdict\n",
    "from typing import List, Dict, Callable\n",
    "\n",
    "import numpy as np\n",
    "import qutip as qtp\n",
    "from matplotlib import pyplot as plt\n",
    "\n",
    "from pysqkit import qubits, drives, couplers\n",
    "from pysqkit import QubitSystem, Qubit\n",
    "from pysqkit.util.linalg import get_mat_elem\n",
    "from pysqkit.util.phys import temperature_to_thermalenergy\n",
    "\n",
    "\n",
    "\n",
    "from IPython.display import display, Latex"
   ]
  },
  {
   "cell_type": "code",
   "execution_count": 2,
   "metadata": {},
   "outputs": [],
   "source": [
    "def extract_trans_freqs(transmon: Qubit, fluxonium: Qubit) -> Dict[str, float]:\n",
    "    \"\"\"\n",
    "    Description\n",
    "    --------------------------------------------------------------\n",
    "    Returns the transition frequencies that lead to frequency collisions.\n",
    "    \"\"\"\n",
    "    results = dict()\n",
    "    coupled_levels = dict(\n",
    "        fluxonium = [(\"0\", \"1\"), (\"1\", \"2\"), (\"0\", \"3\"), (\"1\", \"4\")],\n",
    "        transmon = [(\"0\", \"1\"), (\"1\", \"2\"), (\"0\", \"2\")]\n",
    "    )\n",
    "    for qubit in (transmon, fluxonium):\n",
    "        label = qubit.label\n",
    "        \n",
    "        for level_i, level_j in coupled_levels[label]:\n",
    "            freq_i = qubit.state(level_i)[0]\n",
    "            freq_j = qubit.state(level_j)[0]\n",
    "            trans_freq = freq_j - freq_i\n",
    "            results[f\"{label}_freq_{level_i}_{level_j}\"] = trans_freq\n",
    "    return results\n",
    "    \n",
    "\n",
    "def zz_crosstalk(system: QubitSystem) -> float:\n",
    "    \"\"\"\n",
    "    Description\n",
    "    --------------------------------------------------------------\n",
    "    Returns the residual ZZ coupling at zero drive.\n",
    "    \"\"\"\n",
    "    \n",
    "    xi_zz = system.state('00')[0] + system.state('11')[0] \\\n",
    "        - system.state('01')[0] - system.state('10')[0]\n",
    "    return xi_zz\n",
    "\n",
    "def cr_coeff(\n",
    "    comp_states: Dict, \n",
    "    system: QubitSystem,\n",
    "    eps_drive: float\n",
    ") -> float:\n",
    "    \n",
    "    \"\"\"\n",
    "    Description\n",
    "    --------------------------------------------------------------\n",
    "    Returns the YZ coefficient associated with the charge \n",
    "    operator of the fluxonium in the dressed basis.\n",
    "    \"\"\"\n",
    "    \n",
    "    op = coupled_sys[\"F\"].charge_op()\n",
    "    yz0 = get_mat_elem(op, comp_states['00'], comp_states['10'])\n",
    "    yz1 = get_mat_elem(op, comp_states['01'], comp_states['11'] )\n",
    "    return np.abs((np.imag(yz0 - yz1))/2)*eps_drive/2"
   ]
  },
  {
   "cell_type": "code",
   "execution_count": 4,
   "metadata": {},
   "outputs": [],
   "source": [
    "with open('flx_transm_params.txt') as param_file:\n",
    "    PARAM_SETS = json.load(param_file)\n",
    "    \n",
    "PARAMS = PARAM_SETS[\"2\"] # Choosing the second parameter set"
   ]
  },
  {
   "cell_type": "code",
   "execution_count": 5,
   "metadata": {},
   "outputs": [],
   "source": [
    "TEMP = 0.020 # K\n",
    "D_COMP = 4\n",
    "LEVELS_TRANSMON = 3\n",
    "LEVELS_FLUXONIUM = 5\n",
    "\n",
    "thermal_energy = temperature_to_thermalenergy(TEMP) # kb T/h in GHz\n",
    "\n",
    "#Transmon\n",
    "transmon = qubits.SimpleTransmon(\n",
    "    label='transmon', \n",
    "    max_freq=PARAMS[\"max_freq_t\"], \n",
    "    anharm=PARAMS[\"anharm_t\"],\n",
    "    diel_loss_tan=PARAMS[\"diel_loss_tan_t\"], #set to zero to check d_1 L1 = d_2 L2\n",
    "    env_thermal_energy=thermal_energy,    \n",
    "    dim_hilbert=LEVELS_TRANSMON,\n",
    "    dephasing_times=PARAMS[\"dephasing_times_t\"]\n",
    ")\n",
    "\n",
    "#Fluxonium\n",
    "fluxonium = qubits.Fluxonium(\n",
    "    label='fluxonium', \n",
    "    charge_energy=PARAMS[\"charge_energy_f\"], \n",
    "    induct_energy=PARAMS[\"induct_energy_f\"], \n",
    "    joseph_energy=PARAMS[\"joseph_energy_f\"], #8.0, \n",
    "    diel_loss_tan=PARAMS[\"diel_loss_tan_f\"], #set to zero to check d_1 L1 = d_2 L2\n",
    "    env_thermal_energy=thermal_energy,\n",
    "    dephasing_times=PARAMS[\"dephasing_times_f\"] #ns/2*np.pi \n",
    ")\n",
    "fluxonium.diagonalize_basis(LEVELS_FLUXONIUM)\n",
    "\n",
    "d_leak = LEVELS_TRANSMON*LEVELS_TRANSMON - D_COMP\n",
    "\n",
    "jc = PARAMS[\"jc\"]\n",
    "coupled_sys = transmon.couple_to(fluxonium, coupling=couplers.capacitive_coupling, strength=jc)\n",
    "bare_system = transmon.couple_to(fluxonium, coupling=couplers.capacitive_coupling, strength=0.0)\n",
    "\n",
    "state_label = [\"00\", \"01\", \"10\", \"11\"]\n",
    "comp_states = {}\n",
    "for label in state_label:\n",
    "    state_tmp = coupled_sys.state(label)[1]\n",
    "    loc = np.argmax(np.abs(state_tmp))\n",
    "    phase = cmath.phase(state_tmp[loc])\n",
    "    state_tmp = np.exp(-1j*phase)*state_tmp\n",
    "    comp_states[label] = state_tmp"
   ]
  },
  {
   "cell_type": "code",
   "execution_count": 29,
   "metadata": {},
   "outputs": [
    {
     "name": "stdout",
     "output_type": "stream",
     "text": [
      "51.9 ms ± 3.05 ms per loop (mean ± std. dev. of 7 runs, 10 loops each)\n"
     ]
    }
   ],
   "source": [
    "%%timeit\n",
    "extract_trans_freqs(transmon, fluxonium)"
   ]
  },
  {
   "cell_type": "code",
   "execution_count": 30,
   "metadata": {},
   "outputs": [],
   "source": [
    "induct_energy = PARAMS[\"induct_energy_f\"]\n",
    "energy_offsets = np.linspace(-induct_energy*1e-1, induct_energy*1e-1, 100)\n",
    "\n",
    "results = defaultdict(list)\n",
    "for offset in energy_offsets:\n",
    "    fluxonium.induct_energy = induct_energy + offset\n",
    "    trans_freqs = extract_trans_freqs(transmon, fluxonium)\n",
    "    for freq_label, freq_val in trans_freqs.items():\n",
    "        results[freq_label].append(freq_val)"
   ]
  },
  {
   "cell_type": "code",
   "execution_count": 31,
   "metadata": {},
   "outputs": [
    {
     "data": {
      "image/png": "[encoded data removed]",
      "text/plain": [
       "<Figure size 576x288 with 1 Axes>"
      ]
     },
     "metadata": {
      "needs_background": "light"
     },
     "output_type": "display_data"
    }
   ],
   "source": [
    "fig, ax = plt.subplots(figsize=(8, 4))\n",
    "for freq_key in results.keys():\n",
    "    qubit_label, _, level_i, level_j = freq_key.split(\"_\")\n",
    "    if qubit_label == \"fluxonium\":\n",
    "        label = f\"$f^{{\\mathrm{{flux}}}}_{{{level_i} \\\\rightarrow {level_j}}}$\"\n",
    "        ax.plot(energy_offsets / induct_energy, results[freq_key], label=label)\n",
    "    \n",
    "    \n",
    "ax.set_xticks([-0.1, -0.05, 0, 0.05, 0.1])\n",
    "ax.set_yticks([0, 2, 4, 6, 8, 10])\n",
    "ax.set_ylim(-0.5, 10.5)\n",
    "plt.legend(\n",
    "    frameon=False,\n",
    "    bbox_to_anchor=(1.05, 1),\n",
    "    loc='upper left',\n",
    ")\n",
    "plt.tight_layout()\n",
    "plt.show()"
   ]
  },
  {
   "cell_type": "code",
   "execution_count": 35,
   "metadata": {},
   "outputs": [],
   "source": [
    "joseph_energy = PARAMS[\"joseph_energy_f\"]\n",
    "energy_offsets = np.linspace(-induct_energy*2e-1, induct_energy*2e-1, 100)\n",
    "\n",
    "results = defaultdict(list)\n",
    "for offset in energy_offsets:\n",
    "    fluxonium.joseph_energy = joseph_energy + offset\n",
    "    trans_freqs = extract_trans_freqs(transmon, fluxonium)\n",
    "    for freq_label, freq_val in trans_freqs.items():\n",
    "        results[freq_label].append(freq_val)"
   ]
  },
  {
   "cell_type": "code",
   "execution_count": 36,
   "metadata": {},
   "outputs": [
    {
     "data": {
      "image/png": "[encoded data removed]",
      "text/plain": [
       "<Figure size 576x288 with 1 Axes>"
      ]
     },
     "metadata": {
      "needs_background": "light"
     },
     "output_type": "display_data"
    }
   ],
   "source": [
    "fig, ax = plt.subplots(figsize=(8, 4))\n",
    "for freq_key in results.keys():\n",
    "    qubit_label, _, level_i, level_j = freq_key.split(\"_\")\n",
    "    if qubit_label == \"fluxonium\":\n",
    "        label = f\"$f^{{\\mathrm{{flux}}}}_{{{level_i} \\\\rightarrow {level_j}}}$\"\n",
    "        ax.plot(energy_offsets / induct_energy, results[freq_key], label=label)\n",
    "    \n",
    "    \n",
    "ax.set_xticks([-0.2, -0.1, 0, 0.1, 0.2])\n",
    "ax.set_yticks([0, 2, 4, 6, 8, 10])\n",
    "ax.set_ylim(-0.5, 10.5)\n",
    "plt.legend(\n",
    "    frameon=False,\n",
    "    bbox_to_anchor=(1.05, 1),\n",
    "    loc='upper left',\n",
    ")\n",
    "plt.tight_layout()\n",
    "plt.show()"
   ]
  },
  {
   "cell_type": "markdown",
   "metadata": {},
   "source": [
    "# Transmon-transmon freq assignment and layout"
   ]
  },
  {
   "cell_type": "code",
   "execution_count": 1,
   "metadata": {},
   "outputs": [],
   "source": [
    "from typing import List\n",
    "from layouts import Layout, surface_code\n",
    "import numpy as np\n",
    "from matplotlib import pyplot as plt"
   ]
  },
  {
   "cell_type": "code",
   "execution_count": 2,
   "metadata": {},
   "outputs": [],
   "source": [
    "def set_freq_groups(layout : Layout) -> None:\n",
    "    num_groups = 5\n",
    "    group_assign_order = [\"north_east\", \"north_west\", \"south_east\", \"south_west\"]\n",
    "\n",
    "    qubits = layout.get_qubits()\n",
    "    init_qubit = qubits.pop()\n",
    "    init_group = 0\n",
    "\n",
    "    set_qubits = set()\n",
    "    assigned_qubits = set()\n",
    "\n",
    "    def dfs_assign(qubit, freq_group):\n",
    "        if qubit not in assigned_qubits:\n",
    "            layout.set_param(\"freq_group\", qubit, freq_group + 1)\n",
    "            assigned_qubits.add(qubit)\n",
    "\n",
    "            neighbors_dict = layout.param(\"neighbors\", qubit)\n",
    "            for direction, neighbour in neighbors_dict.items():\n",
    "                if neighbour: #Supports more explicit syntax where absent neighbours are set as none\n",
    "                    group_shift = group_assign_order.index(direction) + 1\n",
    "                    neighbor_freq_group = (freq_group + group_shift) % num_groups\n",
    "                    dfs_assign(neighbour, neighbor_freq_group)\n",
    "\n",
    "    dfs_assign(init_qubit, init_group)\n",
    "    \n",
    "def set_target_freqs(layout : Layout, group_freqs : List[float],  group_anharms : List[float]) -> None:\n",
    "    if len(group_freqs) != 5:\n",
    "        raise ValueError(\"5 distinct qubit frequencies are required for the square layout.\")\n",
    "    qubits = layout.get_qubits()\n",
    "    \n",
    "    for qubit in qubits:\n",
    "        try:\n",
    "            freq_group = layout.param(\"freq_group\", qubit)\n",
    "        except KeyError:\n",
    "            raise ValueError(f\"Layout does not define a frequency group for qubit {qubit}.\")\n",
    "    \n",
    "        if freq_group is None:\n",
    "            raise ValueError(f\"Layout does not define a frequency group for qubit {qubit}.\")\n",
    "            \n",
    "        target_freq = group_freqs[freq_group - 1]\n",
    "        layout.set_param(\"target_freq\", qubit, target_freq)\n",
    "        \n",
    "        anharm = group_anharms[freq_group - 1]\n",
    "        layout.set_param(\"anharm\", qubit, anharm)"
   ]
  },
  {
   "cell_type": "code",
   "execution_count": 3,
   "metadata": {},
   "outputs": [],
   "source": [
    "DISTANCE = 5\n",
    "layout = surface_code(DISTANCE)"
   ]
  },
  {
   "cell_type": "code",
   "execution_count": 4,
   "metadata": {},
   "outputs": [],
   "source": [
    "GROUP_FREQS = [5.000, 5.070, 5.140, 5.210, 5.280]\n",
    "GROUP_ANHARMS = [-0.330, -0.330, -0.330, -0.330, -0.330]\n",
    "\n",
    "set_freq_groups(layout)\n",
    "set_target_freqs(layout, GROUP_FREQS, GROUP_ANHARMS)"
   ]
  },
  {
   "cell_type": "code",
   "execution_count": 5,
   "metadata": {},
   "outputs": [
    {
     "data": {
      "image/png": "[encoded data removed]",
      "text/plain": [
       "<Figure size 600x400 with 1 Axes>"
      ]
     },
     "metadata": {
      "needs_background": "light"
     },
     "output_type": "display_data"
    }
   ],
   "source": [
    "fig, ax = plt.subplots(figsize=(6,4), dpi=100)\n",
    "\n",
    "layout.plot(param_label=\"freq_group\", axis=ax)\n",
    "plt.tight_layout()\n",
    "plt.show()"
   ]
  },
  {
   "cell_type": "code",
   "execution_count": 6,
   "metadata": {},
   "outputs": [],
   "source": [
    "from layouts.transmon_scan_util import sample_freqs, get_collisions"
   ]
  },
  {
   "cell_type": "code",
   "execution_count": 7,
   "metadata": {},
   "outputs": [],
   "source": [
    "sampled_collisions = []\n",
    "freq_var = 0.001\n",
    "\n",
    "for seed in range(10000):\n",
    "    sample_freqs(layout, seed, freq_var)\n",
    "    collisions = get_collisions(layout)\n",
    "    sampled_collisions.append(collisions)"
   ]
  },
  {
   "cell_type": "code",
   "execution_count": 8,
   "metadata": {},
   "outputs": [],
   "source": [
    "total_collisions = np.sum(sampled_collisions, axis=1)"
   ]
  },
  {
   "cell_type": "code",
   "execution_count": 10,
   "metadata": {},
   "outputs": [
    {
     "data": {
      "text/plain": [
       "2"
      ]
     },
     "execution_count": 10,
     "metadata": {},
     "output_type": "execute_result"
    }
   ],
   "source": [
    "np.sum(total_collisions == 0)"
   ]
  },
  {
   "cell_type": "code",
   "execution_count": 11,
   "metadata": {},
   "outputs": [
    {
     "data": {
      "text/plain": [
       "0.0002"
      ]
     },
     "execution_count": 11,
     "metadata": {},
     "output_type": "execute_result"
    }
   ],
   "source": [
    "2/10000"
   ]
  },
  {
   "cell_type": "code",
   "execution_count": 12,
   "metadata": {},
   "outputs": [
    {
     "data": {
      "text/plain": [
       "array([5.  , 5.07, 5.14, 5.21, 5.28])"
      ]
     },
     "execution_count": 12,
     "metadata": {},
     "output_type": "execute_result"
    }
   ],
   "source": [
    "freq_var * np.array(GROUP_FREQS) * 1e3"
   ]
  },
  {
   "cell_type": "code",
   "execution_count": 13,
   "metadata": {},
   "outputs": [
    {
     "data": {
      "text/plain": [
       "array([   209,    171, 155467])"
      ]
     },
     "execution_count": 13,
     "metadata": {},
     "output_type": "execute_result"
    }
   ],
   "source": [
    "np.sum(sampled_collisions, axis=0)"
   ]
  },
  {
   "cell_type": "code",
   "execution_count": null,
   "metadata": {},
   "outputs": [],
   "source": []
  }
 ],
 "metadata": {
  "kernelspec": {
   "display_name": "Python 3",
   "language": "python",
   "name": "python3"
  },
  "language_info": {
   "codemirror_mode": {
    "name": "ipython",
    "version": 3
   },
   "file_extension": ".py",
   "mimetype": "text/x-python",
   "name": "python",
   "nbconvert_exporter": "python",
   "pygments_lexer": "ipython3",
   "version": "3.8.1"
  }
 },
 "nbformat": 4,
 "nbformat_minor": 4
}
