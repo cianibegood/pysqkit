{
 "cells": [
  {
   "cell_type": "markdown",
   "metadata": {},
   "source": [
    "# Cross-resonance gate between 2 transmons: linear approximation"
   ]
  },
  {
   "cell_type": "code",
   "execution_count": 32,
   "metadata": {},
   "outputs": [],
   "source": [
    "import numpy as np\n",
    "import scipy.integrate\n",
    "import time\n",
    "import qutip as qtp\n",
    "import matplotlib.pyplot as plt\n",
    "from scipy.optimize import minimize\n",
    "import pysqkit\n",
    "from pysqkit import QubitSystem, Qubit\n",
    "from pysqkit.util.phys import temperature_to_thermalenergy\n",
    "from pysqkit.util.quantum import generalized_rabi_frequency\n",
    "import pysqkit.util.transformations as trf\n",
    "from pysqkit.util.linalg import get_mat_elem\n",
    "from pysqkit.solvers.solvkit import integrate\n",
    "from matplotlib.colors import LogNorm\n",
    "from pysqkit.util.hsbasis import weyl_by_index\n",
    "import qutip\n",
    "import itertools\n",
    "from functools import partial\n",
    "import multiprocessing\n",
    "from typing import List, Dict, Callable\n",
    "import matplotlib\n",
    "matplotlib.rcParams['mathtext.fontset'] = 'cm'\n",
    "#import util_cr as util\n",
    "import copy\n",
    "import json\n",
    "import cmath\n",
    "\n",
    "from IPython.display import display, Latex"
   ]
  },
  {
   "cell_type": "markdown",
   "metadata": {},
   "source": [
    "The gate is based on the following driven Hamiltonian of a fluxonium and a transmon capacitively coupled\n",
    "\n",
    "$$H = H^{(0)}_{T, 1} + H^{(0)}_{T, 2} + V + H_{drive},$$\n",
    "\n",
    "$$H^{(0)}_{T, k} =  \\hbar \\omega_{T, k} b_k^{\\dagger}b_k + \\hbar \\frac{\\delta_{T, k}}{2} b_k^{\\dagger} b_k^{\\dagger}b_k b_k,$$\n",
    "\n",
    "$$V = J_C q_{T1} q_{T2},$$\n",
    "\n",
    "$$\\frac{H_{drive}}{h} = \\left( \\varepsilon_{T1} q_{T1} + \\varepsilon_{T2} q_{T2} \\right) \\cos(2\\pi f_d t).$$\n",
    "\n",
    "The (approximate) charge operator for the transmon in terms of annihilation and creation operators reads\n",
    "\n",
    "$$\n",
    "q_{Tk} = i \\biggl( \\frac{E_{J,k}}{32 |\\delta_{T,k} |} \\biggr)^{1/4} (b_k^{\\dagger} - b_k) = i q_{ZPF} (b_k^{\\dagger} - b_k),\n",
    "$$\n",
    "where \n",
    "$$\n",
    "E_{J, k} = \\hbar \\biggl(\\frac{\\omega_{T, k} - \\delta_{T, k}}{8 | \\delta_{T, k} |} \\biggr)^2.\n",
    "$$\n",
    "\n",
    "In the following we introduce relaxation due to dielectric loss and pure dephasing on each qubit as error channels. \n",
    "\n",
    "The idea behind the cross-resonance gate is to drive one of the qubit at the frequency of the other using the fact that due to the coupling we have a $Z X$ term in the Hamiltonian. In particular, we will explore the idea of driving the fluxonium at the transmon frequency. The opposite idea to drive the transmon at the fluxonium frequency does not seem that promising. However, one might evaluate using Raman transitions."
   ]
  },
  {
   "cell_type": "markdown",
   "metadata": {
    "heading_collapsed": true
   },
   "source": [
    "# Introducing the qubits and the coupled system"
   ]
  },
  {
   "cell_type": "code",
   "execution_count": 33,
   "metadata": {},
   "outputs": [],
   "source": [
    "with open('flx_transm_params.txt') as param_file:\n",
    "    parameters_set = json.load(param_file)"
   ]
  },
  {
   "cell_type": "code",
   "execution_count": 34,
   "metadata": {
    "hidden": true
   },
   "outputs": [],
   "source": [
    "temperature = 0.020 # K\n",
    "thermal_energy = temperature_to_thermalenergy(temperature) # kb T/h in GHz\n",
    "d_comp = 4\n",
    "\n",
    "p_set = \"3\"\n",
    "\n",
    "control_freq = 5.0\n",
    "\n",
    "#Transmon\n",
    "levels_t = 3\n",
    "transm_t = pysqkit.qubits.SimpleTransmon(\n",
    "    label='T1', \n",
    "    max_freq=control_freq - 0.05, \n",
    "    anharm=parameters_set[p_set][\"anharm_t\"],\n",
    "    diel_loss_tan=parameters_set[p_set][\"diel_loss_tan_t\"], #set to zero to check d_1 L1 = d_2 L2\n",
    "    env_thermal_energy=thermal_energy,    \n",
    "    dim_hilbert=levels_t,\n",
    "    dephasing_times=parameters_set[p_set][\"dephasing_times_t\"]\n",
    ")\n",
    "\n",
    "\n",
    "transm_c = pysqkit.qubits.SimpleTransmon(\n",
    "    label='T2', \n",
    "    max_freq=control_freq, \n",
    "    anharm=parameters_set[p_set][\"anharm_t\"],\n",
    "    diel_loss_tan=parameters_set[p_set][\"diel_loss_tan_t\"], #set to zero to check d_1 L1 = d_2 L2\n",
    "    env_thermal_energy=thermal_energy,    \n",
    "    dim_hilbert=levels_t,\n",
    "    dephasing_times=parameters_set[p_set][\"dephasing_times_t\"]\n",
    ")\n",
    "\n",
    "\n",
    "# We also add a drive on the fluxonium\n",
    "transm_c.add_drive(\n",
    "    pysqkit.drives.microwave_drive,\n",
    "    label='cr_drive_c',\n",
    "    pulse=pysqkit.drives.pulses.cos_modulation,\n",
    "    pulse_shape=pysqkit.drives.pulse_shapes.gaussian_top\n",
    ")\n",
    "\n",
    "d_leak = levels_t*levels_t - d_comp\n",
    "\n",
    "jc = 0.002 #play to get similar ZZ\n",
    "# jc = 0.0010 #play to get similar ZZ\n",
    "coupled_sys = transm_t.couple_to(transm_c, coupling=pysqkit.couplers.capacitive_coupling, strength=jc)\n",
    "\n",
    "states_label = coupled_sys.all_state_labels()\n",
    "states_dict = coupled_sys.states_as_dict(as_qobj=True)"
   ]
  },
  {
   "cell_type": "code",
   "execution_count": 35,
   "metadata": {},
   "outputs": [],
   "source": [
    "state_label = [\"00\", \"01\", \"10\", \"11\"]\n",
    "comp_states = {}\n",
    "for label in state_label:\n",
    "    state_tmp = coupled_sys.state(label)[1]\n",
    "    loc = np.argmax(np.abs(state_tmp))\n",
    "    phase = cmath.phase(state_tmp[loc])\n",
    "    state_tmp = np.exp(-1j*phase)*state_tmp\n",
    "    comp_states[label] = state_tmp"
   ]
  },
  {
   "cell_type": "markdown",
   "metadata": {},
   "source": [
    "The basis principle behind the gate is illustrated in the following figure"
   ]
  },
  {
   "cell_type": "markdown",
   "metadata": {},
   "source": [
    "The figure shows the energy of the bare levels. The orange arrows indicate the non-zero matrix elements between the (bare) levels provided by the capacitive coupling $V$: the more shaded the arrow the weaker the coupling. \n",
    "We look at the following quantities : \n",
    "\n",
    "$$\\zeta_{ZZ} = E_{00} + E_{11} - E_{01} - E_{10}$$\n",
    "$$\\mu_{YZ} = \\lvert \\langle 10 | q_{F} | 00 \\rangle - \\langle 11 | q_{F} |01 \\rangle \\rvert $$\n",
    "$$\\mu_{Y} = \\lvert \\langle 10 | q_{F} | 00 \\rangle + \\langle 11 | q_{F} |01 \\rangle \\rvert $$\n",
    "\n",
    "The second term quantifies the gate speed. Notice that if the phase of the drive is $0$ one hase a $YZ$ term from the charge operator. \n",
    "\n",
    "For the given parameters we have"
   ]
  },
  {
   "cell_type": "code",
   "execution_count": 36,
   "metadata": {},
   "outputs": [],
   "source": [
    "def zz(system: QubitSystem) -> float:\n",
    "    xi_zz = system.state('00')[0] + system.state('11')[0] \\\n",
    "        - system.state('01')[0] - system.state('10')[0]\n",
    "    return xi_zz\n",
    "\n",
    "def mu_yz_control(comp_states, op) -> float:\n",
    "    yz0 = get_mat_elem(op, comp_states['00'], comp_states['10'])\n",
    "    yz1 = get_mat_elem(op, comp_states['01'], comp_states['11'] )\n",
    "    return (np.imag(yz0 - yz1))/2\n",
    "\n",
    "def mu_yi_control(comp_states, op) -> float:\n",
    "    yz0 = get_mat_elem(op, comp_states['00'], comp_states['10'] )\n",
    "    yz1 = get_mat_elem(op, comp_states['01'], comp_states['11'] )\n",
    "    return (np.imag(yz0 + yz1))/2"
   ]
  },
  {
   "cell_type": "code",
   "execution_count": 37,
   "metadata": {},
   "outputs": [
    {
     "data": {
      "text/latex": [
       "$\\xi_{ZZ}/h = 0.066 \\, \\mathrm{MHz}$"
      ],
      "text/plain": [
       "<IPython.core.display.Latex object>"
      ]
     },
     "metadata": {},
     "output_type": "display_data"
    },
    {
     "data": {
      "text/latex": [
       "$\\mu_{YZ} = -0.0553 $"
      ],
      "text/plain": [
       "<IPython.core.display.Latex object>"
      ]
     },
     "metadata": {},
     "output_type": "display_data"
    },
    {
     "data": {
      "text/latex": [
       "$\\mu_{IY} = 0.0090 $"
      ],
      "text/plain": [
       "<IPython.core.display.Latex object>"
      ]
     },
     "metadata": {},
     "output_type": "display_data"
    }
   ],
   "source": [
    "display(Latex(r'$\\xi_{{ZZ}}/h = {:.3f} \\, \\mathrm{{MHz}}$'.format(1e3*zz(coupled_sys))))\n",
    "q_op = coupled_sys[\"T2\"].charge_op()\n",
    "display(Latex(r'$\\mu_{{YZ}} = {:.4f} $'.format(mu_yz_control(comp_states, q_op))))\n",
    "display(Latex(r'$\\mu_{{IY}} = {:.4f} $'.format(mu_yi_control(comp_states, q_op))))"
   ]
  },
  {
   "cell_type": "code",
   "execution_count": 38,
   "metadata": {},
   "outputs": [],
   "source": [
    "freq_drive = transm_t.max_freq\n",
    "eps_drive = 0.030"
   ]
  },
  {
   "cell_type": "code",
   "execution_count": 43,
   "metadata": {},
   "outputs": [],
   "source": [
    "def cr_gate_time(\n",
    "    cr_coeff: float\n",
    "):\n",
    "    return 1/(2*np.pi*cr_coeff)*np.pi/4\n",
    "\n",
    "def cr_effect_sw(\n",
    "    jc: float,\n",
    "    eps_drive: float,\n",
    "    transm_t: Qubit,\n",
    "    transm_c: Qubit\n",
    ") -> float:\n",
    "    \"\"\"\n",
    "    Description\n",
    "    ---------------------------------------------------------------------\n",
    "    Returns the cross-resonance coefficient in the linear approximation\n",
    "    using the result of Magesan-Gambetta\n",
    "    \"\"\"\n",
    "    j_eff = jc*transm_c.charge_zpf*transm_t.charge_zpf\n",
    "    delta_t = transm_t.anharm\n",
    "    delta_c = transm_c.anharm\n",
    "    detuning = transm_c.freq - transm_t.freq\n",
    "    return j_eff*transm_c.charge_zpf*eps_drive/detuning*(delta_c/(delta_c + detuning))/2"
   ]
  },
  {
   "cell_type": "code",
   "execution_count": 44,
   "metadata": {},
   "outputs": [
    {
     "name": "stdout",
     "output_type": "stream",
     "text": [
      "0.8314309013682397\n"
     ]
    }
   ],
   "source": [
    "mu_cr_sw = cr_effect_sw(jc, eps_drive, transm_t, transm_c)*1e3\n",
    "print(mu_cr_sw)"
   ]
  },
  {
   "cell_type": "code",
   "execution_count": 45,
   "metadata": {},
   "outputs": [
    {
     "name": "stdout",
     "output_type": "stream",
     "text": [
      "-0.8290984733030443\n"
     ]
    }
   ],
   "source": [
    "mu_cr = mu_yz_control(comp_states, coupled_sys['T2'].charge_op())*eps_drive*1e3/2\n",
    "print(mu_cr)"
   ]
  },
  {
   "cell_type": "code",
   "execution_count": 46,
   "metadata": {},
   "outputs": [
    {
     "data": {
      "text/plain": [
       "150.34322129992333"
      ]
     },
     "execution_count": 46,
     "metadata": {},
     "output_type": "execute_result"
    }
   ],
   "source": [
    "cr_gate_time(mu_cr_sw/1e3)"
   ]
  },
  {
   "cell_type": "markdown",
   "metadata": {},
   "source": [
    "# Generating data"
   ]
  },
  {
   "cell_type": "code",
   "execution_count": 82,
   "metadata": {},
   "outputs": [
    {
     "data": {
      "text/plain": [
       "{'freq_fixed': 4.9,\n",
       " 'freq': 4.9,\n",
       " 'eps': 0.03,\n",
       " 'eps_ratio': 0.157619002661481,\n",
       " 'cr': 1.0333094480935043,\n",
       " 'cr_sw': 1.0343277934847364,\n",
       " 'zz': 0.0716855244338177,\n",
       " 'gate_time': 241.94107627803038,\n",
       " 'gate_time_sw': 241.7028736680557,\n",
       " 'jc': 2.0}"
      ]
     },
     "execution_count": 82,
     "metadata": {},
     "output_type": "execute_result"
    }
   ],
   "source": [
    "def get_cr_effect(\n",
    "    freq: float,\n",
    "    eps: float,\n",
    "    jc: float,\n",
    "    transm_c: Qubit,\n",
    "):\n",
    "    \"\"\"\n",
    "    Description\n",
    "    -----------------------------------------------------------------------\n",
    "    Returns the exact cross-resonance coefficient in MHz.\n",
    "    \"\"\"\n",
    "    \n",
    "    freq \n",
    "    \n",
    "    transm_t = pysqkit.qubits.SimpleTransmon(\n",
    "            label='T_tmp', \n",
    "            max_freq=freq, \n",
    "            anharm=transm_c.anharm,\n",
    "            dim_hilbert=transm_c.dim_hilbert,\n",
    "        )\n",
    "    \n",
    "    eps_ratio = eps*transm_c.charge_zpf/np.abs(freq - (transm_c.max_freq + transm_c.anharm))\n",
    "    \n",
    "    freq_drive = freq\n",
    "    \n",
    "    coupled_sys = transm_t.couple_to(transm_c, coupling=pysqkit.couplers.capacitive_coupling, strength=jc)\n",
    "    \n",
    "    state_label = [\"00\", \"01\", \"10\", \"11\"]\n",
    "    comp_states = {}\n",
    "    for label in state_label:\n",
    "        state_tmp = coupled_sys.state(label)[1]\n",
    "        loc = np.argmax(np.abs(state_tmp))\n",
    "        phase = cmath.phase(state_tmp[loc])\n",
    "        state_tmp = np.exp(-1j*phase)*state_tmp\n",
    "        comp_states[label] = state_tmp\n",
    "    \n",
    "    mu_cr = mu_yz_control(comp_states, coupled_sys['T2'].charge_op())*eps*1e3\n",
    "    \n",
    "    mu_cr_sw = cr_effect_sw(jc, eps, transm_t, transm_c)*1e3\n",
    "    \n",
    "    zz_coeff = zz(coupled_sys)*1e3\n",
    "    \n",
    "    output = {}\n",
    "    output[\"freq_fixed\"] = transm_t.freq\n",
    "    output[\"freq\"] = freq\n",
    "    output[\"eps\"] = eps\n",
    "    output[\"eps_ratio\"] = eps_ratio\n",
    "    output[\"cr\"] = np.abs(mu_cr)\n",
    "    output[\"cr_sw\"] = np.abs(mu_cr_sw)\n",
    "    output[\"zz\"] = zz_coeff\n",
    "    output[\"gate_time\"] = cr_gate_time(np.abs(mu_cr/1e3))\n",
    "    output[\"gate_time_sw\"] = cr_gate_time(np.abs(mu_cr_sw/1e3))\n",
    "    \n",
    "    output[\"jc\"] = jc*1e3\n",
    "    \n",
    "    return output\n",
    "\n",
    "func = partial(get_cr_effect, eps=0.03, jc=jc, transm_c=transm_c)\n",
    "    \n",
    "func(4.9)"
   ]
  },
  {
   "cell_type": "code",
   "execution_count": 83,
   "metadata": {},
   "outputs": [
    {
     "name": "stdout",
     "output_type": "stream",
     "text": [
      "Computation time = 0.6254901885986328 s\n"
     ]
    }
   ],
   "source": [
    "delta_freq = 0.8\n",
    "n_points = 200\n",
    "freq_list = list(np.linspace(transm_c.freq - delta_freq, transm_c.freq + delta_freq, n_points))\n",
    "\n",
    "n_process = 4\n",
    "\n",
    "start = time.time()\n",
    "\n",
    "pool = multiprocessing.Pool(processes=n_process)\n",
    "\n",
    "result = pool.map(func, freq_list)\n",
    "\n",
    "pool.close()\n",
    "pool.join()\n",
    "\n",
    "end = time.time()\n",
    "\n",
    "print(\"Computation time = {} s\".format(end - start))\n",
    "\n"
   ]
  },
  {
   "cell_type": "code",
   "execution_count": 84,
   "metadata": {},
   "outputs": [
    {
     "data": {
      "image/png": "[encoded data removed]",
      "text/plain": [
       "<Figure size 432x432 with 1 Axes>"
      ]
     },
     "metadata": {
      "needs_background": "light"
     },
     "output_type": "display_data"
    }
   ],
   "source": [
    "def plot_cr(\n",
    "    result: list,\n",
    "    transm_c: Qubit,\n",
    "    opt={'fs': 24, 'lw': 2.0, 'lw_levels': 3.0, 'ls': 16, 'fsl':20},\n",
    "    save=False\n",
    "):\n",
    "    bound_1 = 0.03\n",
    "    bound_2 = 0.03\n",
    "    freq_list = []\n",
    "    gate_times = []\n",
    "    for res in result:\n",
    "        freq = res[\"freq\"]\n",
    "        condition_1 = np.abs((freq - (transm_c.freq + transm_c.anharm))) > bound_1\n",
    "        condition_2 = np.abs((freq - (transm_c.freq))) > bound_2\n",
    "        if condition_1 and condition_2:\n",
    "                freq_list.append(freq)\n",
    "                gate_times.append(res[\"gate_time_sw\"])\n",
    "\n",
    "    fig, ax = plt.subplots(figsize=(6, 6))\n",
    "    \n",
    "    ax.semilogy(freq_list, gate_times, linestyle='-',\n",
    "                color=\"black\")\n",
    "    #ax.set_ylim([100, 1000])\n",
    "    #ax.legend(loc='best', fontsize=opt[\"fs\"])\n",
    "    plt.show()\n",
    "            \n",
    "    \n",
    "plot_cr(result, transm_c)\n",
    "    \n",
    "    "
   ]
  },
  {
   "cell_type": "code",
   "execution_count": 85,
   "metadata": {},
   "outputs": [],
   "source": [
    "save = True\n",
    "if save:\n",
    "    with open('tmp/data_cr_transmon_transmon_linear.txt', 'w') as fp:\n",
    "        json.dump(result, fp)"
   ]
  },
  {
   "cell_type": "code",
   "execution_count": null,
   "metadata": {},
   "outputs": [],
   "source": []
  }
 ],
 "metadata": {
  "kernelspec": {
   "display_name": "Python 3.7.3 64-bit ('base': conda)",
   "language": "python",
   "name": "python37364bitbaseconda36d0b2465ec04527ba16a77ef6d99d0e"
  },
  "language_info": {
   "codemirror_mode": {
    "name": "ipython",
    "version": 3
   },
   "file_extension": ".py",
   "mimetype": "text/x-python",
   "name": "python",
   "nbconvert_exporter": "python",
   "pygments_lexer": "ipython3",
   "version": "3.7.11"
  },
  "toc": {
   "base_numbering": 1,
   "nav_menu": {},
   "number_sections": true,
   "sideBar": true,
   "skip_h1_title": false,
   "title_cell": "Table of Contents",
   "title_sidebar": "Contents",
   "toc_cell": false,
   "toc_position": {
    "height": "calc(100% - 180px)",
    "left": "10px",
    "top": "150px",
    "width": "233.333px"
   },
   "toc_section_display": true,
   "toc_window_display": false
  },
  "widgets": {
   "application/vnd.jupyter.widget-state+json": {
    "state": {},
    "version_major": 2,
    "version_minor": 0
   }
  }
 },
 "nbformat": 4,
 "nbformat_minor": 4
}
