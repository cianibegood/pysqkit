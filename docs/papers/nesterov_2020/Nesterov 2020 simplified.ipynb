{
 "cells": [
  {
   "cell_type": "markdown",
   "metadata": {},
   "source": [
    "# Nesterov et al, arXiv:2011.10011\n",
    "In this notebook we want to capture the basic effect behind the two-qubit gate for fluxonia described in the paper by Nesterov et al(2020) \"Proposal for entangling gates on fluxonium qubits via a two-photon transition\""
   ]
  },
  {
   "cell_type": "code",
   "execution_count": 17,
   "metadata": {},
   "outputs": [],
   "source": [
    "import numpy as np\n",
    "import sys\n",
    "import qutip as qtp \n",
    "import matplotlib.pyplot as plt\n",
    "from scipy import constants\n",
    "import pysqkit\n",
    "from pysqkit.util.linalg import get_mat_elem"
   ]
  },
  {
   "cell_type": "markdown",
   "metadata": {},
   "source": [
    "The gate is based on the following driven Hamiltonian of two-capacitively coupled fluxonium qubits"
   ]
  },
  {
   "cell_type": "markdown",
   "metadata": {},
   "source": [
    "$$\\hat{H} = \\hat{H}^{(0)}_A + \\hat{H}^{(0)}_B + \\hat{V} + \\hat{H}_{drive}$$\n",
    "\n",
    "$$\\hat{H}^{(0)}_A = 4 E_{C,A} \\cdot \\hat{n}^2_A + \\frac{1}{2}E_{L,A}\\cdot\\hat{\\varphi}^2_A - E_{J,A}\\cos\\left(\\hat{\\varphi}_A - \\phi_{ext,A}\\right)$$\n",
    "\n",
    "$$\\hat{H}^{(0)}_B = 4 E_{C,B} \\cdot \\hat{n}^2_B + \\frac{1}{2}E_{L,B}\\cdot\\hat{\\varphi}^2_B - E_{J,B}\\cos\\left(\\hat{\\varphi}_B - \\phi_{ext,B}\\right)$$\n",
    "\n",
    "$$\\hat{V} = J_C \\cdot \\hat{n}_A \\cdot \\hat{n}_B$$\n",
    "\n",
    "$$\\hat{H}_{drive} = 2  f\\left( t \\right)  \\cos \\left( \\omega_d t + \\gamma_d\\right) \\cdot \\left( \\eta_A \\cdot \\hat{n}_A + \\eta_B \\cdot \\hat{n}_B \\right)   \\text{  with  } f\\left( t \\right) = f_0 \\cdot \\dfrac{f\\left( t \\right)}{f_0} $$"
   ]
  },
  {
   "cell_type": "markdown",
   "metadata": {},
   "source": [
    "## 1. Single fluxonia\n",
    "We take parameters as in Table 1 of the paper"
   ]
  },
  {
   "cell_type": "code",
   "execution_count": 18,
   "metadata": {},
   "outputs": [],
   "source": [
    "# Values in GHz (divided by h)\n",
    "#Fluxonium A\n",
    "ec_a = 1.0\n",
    "el_a = 1.5\n",
    "ej_a = 3.8 \n",
    "flux_a = 1/2\n",
    "# Fluxonium B \n",
    "ec_b = 1.0\n",
    "el_b = 0.9\n",
    "ej_b = 3.0\n",
    "flux_b = 1/2\n",
    "\n",
    "n_fock = 100"
   ]
  },
  {
   "cell_type": "markdown",
   "metadata": {},
   "source": [
    "Let us first reproduce the other parameters in Table 1"
   ]
  },
  {
   "cell_type": "code",
   "execution_count": 19,
   "metadata": {},
   "outputs": [],
   "source": [
    "flx_a = pysqkit.qubits.Fluxonium('A', ec_a, el_a, ej_a, flux_a, dim_hilbert=n_fock)\n",
    "flx_b = pysqkit.qubits.Fluxonium('B', ec_b, el_b, ej_b, flux_b, dim_hilbert=n_fock)"
   ]
  },
  {
   "cell_type": "code",
   "execution_count": 20,
   "metadata": {},
   "outputs": [
    {
     "name": "stdout",
     "output_type": "stream",
     "text": [
      "------\n",
      "f_01^A = 1.1516938223021964 GHz\n",
      "f_01^B = 0.8488266605313166 GHz\n",
      "------\n",
      "f_12^A = 3.280479803830147 GHz\n",
      "f_12^B = 2.9286387379969865 GHz\n",
      "------\n",
      "f_23^A = 3.2531360533441145 GHz\n",
      "f_23^B = 2.6834970613115905 GHz\n",
      "------\n"
     ]
    }
   ],
   "source": [
    "levels = 4\n",
    "energies_a, eig_states_a = flx_a.eig_states(levels)\n",
    "energies_b, eig_states_b = flx_b.eig_states(levels)\n",
    "for k in range(0, 3):\n",
    "    print('------')\n",
    "    print('f_' + str(k) + str(k + 1) + '^A = ' + str(energies_a[k + 1] - energies_a[k]) + ' GHz' )\n",
    "    print('f_' + str(k) + str(k + 1) + '^B = ' + str(energies_b[k + 1] - energies_b[k]) + ' GHz' )\n",
    "print('------')"
   ]
  },
  {
   "cell_type": "markdown",
   "metadata": {},
   "source": [
    "Thus, we correctly recover the frequencies Table 1 in the paper. Notice that the eigenenergies are also divided by $h$ and so are intended as frequencies and not as angular velocities. <br>\n",
    "Let us also check the charge matrix elements in order to complete Table 1"
   ]
  },
  {
   "cell_type": "code",
   "execution_count": 21,
   "metadata": {},
   "outputs": [
    {
     "name": "stdout",
     "output_type": "stream",
     "text": [
      "------\n",
      "|n_01^A| = 0.24866384335580258\n",
      "|n_01^B| = 0.20722487336294326\n",
      "------\n",
      "|n_12^A| = 0.6084791377921823\n",
      "|n_12^B| = 0.5665046936475003\n",
      "------\n",
      "|n_03^A| = 0.2601795875970435\n",
      "|n_03^B| = 0.277316590424727\n"
     ]
    }
   ],
   "source": [
    "for k in range(0, 2):\n",
    "    print('------')\n",
    "    print('|n_' + str(k) + str(k + 1) + '^A| = ' + \\\n",
    "          str(np.abs(get_mat_elem(flx_a.charge_op(), eig_states_a[k], eig_states_a[k + 1]))))\n",
    "    print('|n_' + str(k) + str(k + 1) + '^B| = ' + \\\n",
    "          str(np.abs(get_mat_elem(flx_b.charge_op(), eig_states_b[k], eig_states_b[k + 1]))))\n",
    "print('------')\n",
    "print('|n_' + str(0) + str(3) + '^A| = '  + \\\n",
    "      str(np.abs(get_mat_elem(flx_a.charge_op(), eig_states_a[0], eig_states_a[3]))))\n",
    "print('|n_' + str(0) + str(3) + '^B| = '  + \\\n",
    "      str(np.abs(get_mat_elem(flx_b.charge_op(), eig_states_b[0], eig_states_b[3]))))"
   ]
  },
  {
   "cell_type": "markdown",
   "metadata": {},
   "source": [
    "We thus recover all the results in Table 1. This could be used as a unit test. <br>\n",
    "To change the basis to the diagonal basis you can use"
   ]
  },
  {
   "cell_type": "code",
   "execution_count": null,
   "metadata": {},
   "outputs": [],
   "source": [
    "#flx_a.diagonalize_basis(levels)\n",
    "#flx_b.diagonalize_basis(levels)\n",
    "# If you run this twice it gives an error, so this has to be fixed in the source code"
   ]
  },
  {
   "cell_type": "markdown",
   "metadata": {},
   "source": [
    "## 2. Coupled fluxonia"
   ]
  },
  {
   "cell_type": "markdown",
   "metadata": {},
   "source": [
    "As a preliminary study, I want to plot  "
   ]
  },
  {
   "cell_type": "code",
   "execution_count": null,
   "metadata": {},
   "outputs": [],
   "source": []
  }
 ],
 "metadata": {
  "kernelspec": {
   "display_name": "Python 3.7.3 64-bit ('base': conda)",
   "language": "python",
   "name": "python37364bitbaseconda36d0b2465ec04527ba16a77ef6d99d0e"
  },
  "language_info": {
   "codemirror_mode": {
    "name": "ipython",
    "version": 3
   },
   "file_extension": ".py",
   "mimetype": "text/x-python",
   "name": "python",
   "nbconvert_exporter": "python",
   "pygments_lexer": "ipython3",
   "version": "3.7.9"
  }
 },
 "nbformat": 4,
 "nbformat_minor": 4
}
