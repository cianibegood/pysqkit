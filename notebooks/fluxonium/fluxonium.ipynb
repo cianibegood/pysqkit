{
 "cells": [
  {
   "cell_type": "markdown",
   "id": "f05ca1d9",
   "metadata": {},
   "source": [
    "# Fluxonium\n",
    "\n",
    "In this notebook we study the fluxonium and obtain relaxation rates due to dielectric and inductive losses following the model detailed in T. Hazard et al, Phys. Rev. Lett. 122, 010504 (2019)."
   ]
  },
  {
   "cell_type": "code",
   "execution_count": 1,
   "id": "9ab55f99",
   "metadata": {},
   "outputs": [],
   "source": [
    "# imports\n",
    "import numpy as np\n",
    "import time\n",
    "import matplotlib.pyplot as plt\n",
    "import pysqkit\n",
    "from pysqkit import Qubit\n",
    "from pysqkit.util.phys import temperature_to_thermalenergy\n",
    "import pysqkit.util.transformations as trf\n",
    "from pysqkit.util.linalg import get_mat_elem\n",
    "import matplotlib\n",
    "matplotlib.rcParams['mathtext.fontset'] = 'cm'\n",
    "import copy\n",
    "import json\n",
    "import cmath\n",
    "\n",
    "from IPython.display import display, Latex"
   ]
  },
  {
   "cell_type": "markdown",
   "id": "91255bfd",
   "metadata": {},
   "source": [
    "The Hamiltonian of the fluxonium is \n",
    "\n",
    "$$H_f = 4 E_{C} q^2 + \\frac{1}{2}E_{L}\\phi^2 - E_{J}\\cos\\left(\\phi - \\phi_{ext}\\right),$$\n",
    "\n",
    "with the reduced flux $\\phi$ and charge operators $q$ obeying the commutation relation $[\\phi, q] = i$."
   ]
  },
  {
   "cell_type": "code",
   "execution_count": 10,
   "id": "f9cd71ee",
   "metadata": {},
   "outputs": [],
   "source": [
    "temperature = 0.020 # K\n",
    "thermal_energy = temperature_to_thermalenergy(temperature) # kb T/h in GHz\n",
    "\n",
    "levels_f = 5\n",
    "\n",
    "flx = pysqkit.qubits.Fluxonium(\n",
    "    label='F', \n",
    "    charge_energy=1.0, \n",
    "    induct_energy=1.0, \n",
    "    joseph_energy=4.0,  \n",
    "    diel_loss_tan=3.5*1e-6, \n",
    "    ind_loss_tan=0.0,\n",
    "    env_thermal_energy=thermal_energy,\n",
    "    dephasing_times=None\n",
    ")\n",
    "flx.diagonalize_basis(levels_f)"
   ]
  },
  {
   "cell_type": "markdown",
   "id": "4df84528",
   "metadata": {},
   "source": [
    "For the given fluxonium parameters and value of the dielectric loss tangen the $T_1$ from dielectric losses of the first two fluxonium levels can be obtained as"
   ]
  },
  {
   "cell_type": "code",
   "execution_count": 11,
   "id": "ab96ad2f",
   "metadata": {},
   "outputs": [
    {
     "data": {
      "text/latex": [
       "$T_{1,flx}^{1 \\mapsto 0} = 126.331 \\, \\mu s$"
      ],
      "text/plain": [
       "<IPython.core.display.Latex object>"
      ]
     },
     "metadata": {},
     "output_type": "display_data"
    }
   ],
   "source": [
    "display(Latex(r'$T_{{1,flx}}^{{1 \\mapsto 0}} = {:.3f} \\, \\mu s$'.format(1e-3*1/(2*np.pi*flx.loss_rates(0, 1)[0]))))"
   ]
  },
  {
   "cell_type": "code",
   "execution_count": null,
   "id": "e7b20ab2",
   "metadata": {},
   "outputs": [],
   "source": []
  }
 ],
 "metadata": {
  "kernelspec": {
   "display_name": "transmon_fluxonium",
   "language": "python",
   "name": "transmon_fluxonium"
  },
  "language_info": {
   "codemirror_mode": {
    "name": "ipython",
    "version": 3
   },
   "file_extension": ".py",
   "mimetype": "text/x-python",
   "name": "python",
   "nbconvert_exporter": "python",
   "pygments_lexer": "ipython3",
   "version": "3.10.4"
  }
 },
 "nbformat": 4,
 "nbformat_minor": 5
}
