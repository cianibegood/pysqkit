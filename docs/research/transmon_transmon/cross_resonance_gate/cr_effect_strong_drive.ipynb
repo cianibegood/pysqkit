{
 "cells": [
  {
   "cell_type": "markdown",
   "metadata": {},
   "source": [
    "# Cross-resonance gate between 2 transmons: strong drive regime\n",
    "\n",
    "In this notebook we study the cross-resonance effect between 2 transmons in the strong drive regime."
   ]
  },
  {
   "cell_type": "code",
   "execution_count": 139,
   "metadata": {},
   "outputs": [],
   "source": [
    "import numpy as np\n",
    "import scipy.integrate\n",
    "import time\n",
    "import qutip as qtp\n",
    "import matplotlib.pyplot as plt\n",
    "from scipy.optimize import minimize\n",
    "import pysqkit\n",
    "from pysqkit import QubitSystem, Qubit\n",
    "from pysqkit.drives.pulse_shapes import gaussian_top\n",
    "from pysqkit.util.metrics import average_process_fidelity, \\\n",
    "    average_gate_fidelity\n",
    "from pysqkit.util.phys import temperature_to_thermalenergy\n",
    "from pysqkit.util.quantum import generalized_rabi_frequency\n",
    "import pysqkit.util.transformations as trf\n",
    "from pysqkit.util.linalg import get_mat_elem\n",
    "from pysqkit.solvers.solvkit import integrate\n",
    "from matplotlib.colors import LogNorm\n",
    "from pysqkit.util.hsbasis import weyl_by_index\n",
    "from pysqkit.solvers import solvkit\n",
    "import qutip\n",
    "import itertools\n",
    "from functools import partial\n",
    "import multiprocessing\n",
    "from typing import List, Dict, Callable\n",
    "import matplotlib\n",
    "matplotlib.rcParams['mathtext.fontset'] = 'cm'\n",
    "#import util_cr as util\n",
    "import copy\n",
    "import json\n",
    "import cmath\n",
    "\n",
    "from IPython.display import display, Latex"
   ]
  },
  {
   "cell_type": "markdown",
   "metadata": {},
   "source": [
    "The gate is based on the following driven Hamiltonian of a fluxonium and a transmon capacitively coupled\n",
    "\n",
    "$$H = H^{(0)}_{T, 1} + H^{(0)}_{T, 2} + V + H_{drive},$$\n",
    "\n",
    "$$H^{(0)}_{T, k} =  \\hbar \\omega_{T, k} b_k^{\\dagger}b_k + \\hbar \\frac{\\delta_{T, k}}{2} b_k^{\\dagger} b_k^{\\dagger}b_k b_k,$$\n",
    "\n",
    "$$V = J_C q_{T1} q_{T2},$$\n",
    "\n",
    "$$\\frac{H_{drive}}{h} = \\left( \\varepsilon_{T1} q_{T1} + \\varepsilon_{T2} q_{T2} \\right) \\cos(2\\pi f_d t).$$\n",
    "\n",
    "The (approximate) charge operator for the transmon in terms of annihilation and creation operators reads\n",
    "\n",
    "$$\n",
    "q_{Tk} = i \\biggl( \\frac{E_{J,k}}{32 |\\delta_{T,k} |} \\biggr)^{1/4} (b_k^{\\dagger} - b_k) = i q_{ZPF} (b_k^{\\dagger} - b_k),\n",
    "$$\n",
    "where \n",
    "$$\n",
    "E_{J, k} = \\hbar \\biggl(\\frac{\\omega_{T, k} - \\delta_{T, k}}{8 | \\delta_{T, k} |} \\biggr)^2.\n",
    "$$\n",
    "\n",
    "In the following we introduce relaxation due to dielectric loss and pure dephasing on each qubit as error channels. \n",
    "\n",
    "The idea behind the cross-resonance gate is to drive one of the qubit at the frequency of the other using the fact that due to the coupling we have a $Z X$ term in the Hamiltonian. In particular, we will explore the idea of driving the fluxonium at the transmon frequency. The opposite idea to drive the transmon at the fluxonium frequency does not seem that promising. However, one might evaluate using Raman transitions."
   ]
  },
  {
   "cell_type": "markdown",
   "metadata": {
    "heading_collapsed": true
   },
   "source": [
    "# Introducing the qubits and the coupled system"
   ]
  },
  {
   "cell_type": "code",
   "execution_count": 24,
   "metadata": {},
   "outputs": [],
   "source": [
    "with open('flx_transm_params.txt') as param_file:\n",
    "    parameters_set = json.load(param_file)"
   ]
  },
  {
   "cell_type": "code",
   "execution_count": 25,
   "metadata": {
    "hidden": true
   },
   "outputs": [],
   "source": [
    "temperature = 0.020 # K\n",
    "thermal_energy = temperature_to_thermalenergy(temperature) # kb T/h in GHz\n",
    "d_comp = 4\n",
    "\n",
    "p_set = \"1\"\n",
    "\n",
    "#Transmon\n",
    "levels_t = 3\n",
    "transm_t = pysqkit.qubits.SimpleTransmon(\n",
    "    label='T1', \n",
    "    max_freq=parameters_set[p_set][\"max_freq_t\"], \n",
    "    anharm=parameters_set[p_set][\"anharm_t\"],\n",
    "    diel_loss_tan=parameters_set[p_set][\"diel_loss_tan_t\"], #set to zero to check d_1 L1 = d_2 L2\n",
    "    env_thermal_energy=thermal_energy,    \n",
    "    dim_hilbert=levels_t,\n",
    "    dephasing_times=parameters_set[p_set][\"dephasing_times_t\"]\n",
    ")\n",
    "\n",
    "\n",
    "transm_c = pysqkit.qubits.SimpleTransmon(\n",
    "    label='T2', \n",
    "    max_freq=parameters_set[p_set][\"max_freq_t\"] - 0.3, \n",
    "    anharm=parameters_set[p_set][\"anharm_t\"],\n",
    "    diel_loss_tan=parameters_set[p_set][\"diel_loss_tan_t\"], #set to zero to check d_1 L1 = d_2 L2\n",
    "    env_thermal_energy=thermal_energy,    \n",
    "    dim_hilbert=levels_t,\n",
    "    dephasing_times=parameters_set[p_set][\"dephasing_times_t\"]\n",
    ")\n",
    "\n",
    "\n",
    "# We also add a drive on the fluxonium\n",
    "transm_c.add_drive(\n",
    "    pysqkit.drives.microwave_drive,\n",
    "    label='cr_drive_c',\n",
    "    pulse=pysqkit.drives.pulses.cos_modulation,\n",
    "    pulse_shape=pysqkit.drives.pulse_shapes.gaussian_top\n",
    ")\n",
    "\n",
    "d_leak = levels_t*levels_t - d_comp\n",
    "\n",
    "jc = parameters_set[p_set][\"jc\"]\n",
    "coupled_sys = transm_t.couple_to(transm_c, coupling=pysqkit.couplers.capacitive_coupling, strength=jc)\n",
    "\n",
    "states_label = coupled_sys.all_state_labels()\n",
    "states_dict = coupled_sys.states_as_dict(as_qobj=True)"
   ]
  },
  {
   "cell_type": "code",
   "execution_count": 26,
   "metadata": {},
   "outputs": [],
   "source": [
    "state_label = [\"00\", \"01\", \"10\", \"11\"]\n",
    "comp_states = {}\n",
    "for label in state_label:\n",
    "    state_tmp = coupled_sys.state(label)[1]\n",
    "    loc = np.argmax(np.abs(state_tmp))\n",
    "    phase = cmath.phase(state_tmp[loc])\n",
    "    state_tmp = np.exp(-1j*phase)*state_tmp\n",
    "    comp_states[label] = state_tmp"
   ]
  },
  {
   "cell_type": "markdown",
   "metadata": {},
   "source": [
    "The basis principle behind the gate is illustrated in the following figure"
   ]
  },
  {
   "cell_type": "markdown",
   "metadata": {},
   "source": [
    "The figure shows the energy of the bare levels. The orange arrows indicate the non-zero matrix elements between the (bare) levels provided by the capacitive coupling $V$: the more shaded the arrow the weaker the coupling. \n",
    "We look at the following quantities : \n",
    "\n",
    "$$\\zeta_{ZZ} = E_{00} + E_{11} - E_{01} - E_{10}$$\n",
    "$$\\mu_{YZ} = \\lvert \\langle 10 | q_{F} | 00 \\rangle - \\langle 11 | q_{F} |01 \\rangle \\rvert $$\n",
    "$$\\mu_{Y} = \\lvert \\langle 10 | q_{F} | 00 \\rangle + \\langle 11 | q_{F} |01 \\rangle \\rvert $$\n",
    "\n",
    "The second term quantifies the gate speed. Notice that if the phase of the drive is $0$ one hase a $YZ$ term from the charge operator. \n",
    "\n",
    "For the given parameters we have"
   ]
  },
  {
   "cell_type": "code",
   "execution_count": 27,
   "metadata": {},
   "outputs": [],
   "source": [
    "def zz(system: QubitSystem) -> float:\n",
    "    xi_zz = system.state('00')[0] + system.state('11')[0] \\\n",
    "        - system.state('01')[0] - system.state('10')[0]\n",
    "    return xi_zz\n",
    "\n",
    "def mu_yz_control(comp_states, op) -> float:\n",
    "    yz0 = get_mat_elem(op, comp_states['00'], comp_states['10'])\n",
    "    yz1 = get_mat_elem(op, comp_states['01'], comp_states['11'] )\n",
    "    return (np.imag(yz0 - yz1))/2\n",
    "\n",
    "def mu_yi_control(comp_states, op) -> float:\n",
    "    yz0 = get_mat_elem(op, comp_states['00'], comp_states['10'] )\n",
    "    yz1 = get_mat_elem(op, comp_states['01'], comp_states['11'] )\n",
    "    return (np.imag(yz0 + yz1))/2"
   ]
  },
  {
   "cell_type": "code",
   "execution_count": 28,
   "metadata": {},
   "outputs": [
    {
     "data": {
      "text/latex": [
       "$\\xi_{ZZ}/h = -22.266 \\, \\mathrm{MHz}$"
      ],
      "text/plain": [
       "<IPython.core.display.Latex object>"
      ]
     },
     "metadata": {},
     "output_type": "display_data"
    },
    {
     "data": {
      "text/latex": [
       "$\\mu_{YZ} = 0.0265 $"
      ],
      "text/plain": [
       "<IPython.core.display.Latex object>"
      ]
     },
     "metadata": {},
     "output_type": "display_data"
    },
    {
     "data": {
      "text/latex": [
       "$\\mu_{IY} = 0.0263 $"
      ],
      "text/plain": [
       "<IPython.core.display.Latex object>"
      ]
     },
     "metadata": {},
     "output_type": "display_data"
    }
   ],
   "source": [
    "display(Latex(r'$\\xi_{{ZZ}}/h = {:.3f} \\, \\mathrm{{MHz}}$'.format(1e3*zz(coupled_sys))))\n",
    "q_op = coupled_sys[\"T2\"].charge_op()\n",
    "display(Latex(r'$\\mu_{{YZ}} = {:.4f} $'.format(mu_yz_control(comp_states, q_op))))\n",
    "display(Latex(r'$\\mu_{{IY}} = {:.4f} $'.format(mu_yi_control(comp_states, q_op))))"
   ]
  },
  {
   "cell_type": "markdown",
   "metadata": {},
   "source": [
    "However this is a sensible analysis only at low drive strengths. Taking only the first 3 levels of the transmon and the first 4 of the fluxonium and in an interaction picture with \n",
    "$$\n",
    "H_0 = \\omega_d |1 \\rangle \\langle 1 |_{T1} + 2 \\omega_d |2 \\rangle \\langle 2 |_{T1} + \\omega_d |1 \\rangle \\langle 1 |_{T2} + 2 \\omega_d |2 \\rangle \\langle 2 |_{T2}\n",
    "$$\n",
    "the Hamiltonian in the Rotating-Wave approximation is\n",
    "\n",
    "$$\n",
    "H_I = (\\omega_{T1} - \\omega_d)|1 \\rangle \\langle 1 |_{T1} + (\\delta_{T1} + 2(\\omega_{T1} - \\omega_d))  |2 \\rangle \\langle 2 |_{T1} + (\\omega_{T2} - \\omega_d)|1 \\rangle \\langle 1 |_{T2} + (\\delta_{T2} + 2(\\omega_{T2} - \\omega_d))  |2 \\rangle \\langle 2 |_{T2}  + J_C q_{ZPF, 1}q_{ZPF, 2}\\biggl[\\biggl(|1 \\rangle \\langle 0 |_{T1} + \\sqrt{2}|2 \\rangle \\langle 1 |_{T1}  \\biggr) \\biggl(|0\\rangle \\langle 1 |_{T2} + \\sqrt{2}|1 \\rangle \\langle 2 |_{T2}  \\biggr)  + \\mathrm{h.c.} \\biggr] + \\frac{\\varepsilon_d}{2}i q_{ZPF, 2} \\biggl(|1 \\rangle \\langle 0 |_{T2} + \\sqrt{2} |2 \\rangle \\langle 1 |_{T2} - \\mathrm{h.c.}    \\biggr)\n",
    "$$"
   ]
  },
  {
   "cell_type": "markdown",
   "metadata": {},
   "source": [
    "In what follows we introduce this Hamiltonian directly in Qutip"
   ]
  },
  {
   "cell_type": "code",
   "execution_count": 29,
   "metadata": {},
   "outputs": [],
   "source": [
    "freq_drive = transm_t.max_freq\n",
    "eps_drive = 0.02\n"
   ]
  },
  {
   "cell_type": "code",
   "execution_count": 30,
   "metadata": {},
   "outputs": [],
   "source": [
    "# Transmon 1 Hamiltonian\n",
    "lev_t = 3\n",
    "id_t1 = qtp.qeye(lev_t)\n",
    "id_t2 = qtp.qeye(lev_t)\n",
    "proj_1_t1 = qtp.basis(lev_t, 1)*qtp.basis(lev_t, 1).dag()\n",
    "proj_2_t1 = qtp.basis(lev_t, 2)*qtp.basis(lev_t, 2).dag()\n",
    "h_t1_single = (transm_t.max_freq - freq_drive)*proj_1_t1 + (transm_t.anharm + 2*(transm_t.max_freq - freq_drive))*proj_2_t1\n",
    "h_t1 = qtp.tensor(h_t1_single, id_t2)\n",
    "\n",
    "# Transmon 2 Hamiltonian\n",
    "lev_t = 3\n",
    "id_t1 = qtp.qeye(lev_t)\n",
    "id_t2 = qtp.qeye(lev_t)\n",
    "proj_1_t2 = qtp.basis(lev_t, 1)*qtp.basis(lev_t, 1).dag()\n",
    "proj_2_t2 = qtp.basis(lev_t, 2)*qtp.basis(lev_t, 2).dag()\n",
    "h_t2_single = (transm_c.max_freq - freq_drive)*proj_1_t2 + (transm_c.anharm + 2*(transm_c.max_freq - freq_drive))*proj_2_t2\n",
    "h_t2 = qtp.tensor(id_t1, h_t2_single)\n",
    "\n",
    "# Coupling Hamiltonian\n",
    "coup_op_t1 = transm_t.charge_zpf*(qtp.basis(lev_t, 1)*qtp.basis(lev_t, 0).dag() + np.sqrt(2)*qtp.basis(lev_t, 2)*qtp.basis(lev_t, 1).dag())\n",
    "coup_op_t2 = transm_c.charge_zpf*(qtp.basis(lev_t, 1)*qtp.basis(lev_t, 0).dag() + np.sqrt(2)*qtp.basis(lev_t, 2)*qtp.basis(lev_t, 1).dag())\n",
    "h_coup = jc*(qtp.tensor(coup_op_t1, coup_op_t2) + qtp.tensor(coup_op_t1, coup_op_t2).dag())\n",
    " \n",
    "# Drive Hamiltonian\n",
    "h_drive = transm_c.charge_zpf*eps_drive/2*1j*(qtp.tensor(id_t1, coup_op_t2).dag() - qtp.tensor(id_t1, coup_op_t2))\n",
    "\n",
    "#Total Hamiltonian\n",
    "h_0 = h_t1 + h_t2\n",
    "h = h_0 + h_coup\n",
    "h_tot = h + h_drive"
   ]
  },
  {
   "cell_type": "code",
   "execution_count": 31,
   "metadata": {},
   "outputs": [],
   "source": [
    "eig_en, eig_states = h.eigenstates()\n",
    "eig_en_tot, eig_states_tot = h_tot.eigenstates()"
   ]
  },
  {
   "cell_type": "code",
   "execution_count": 32,
   "metadata": {},
   "outputs": [],
   "source": [
    "def dressed_state(\n",
    "    lev: str,\n",
    "    hamil: qtp.qobj.Qobj(),\n",
    "    lev_t1: int,\n",
    "    lev_t2: int\n",
    "):\n",
    "    \"\"\"\n",
    "    Description\n",
    "    ---------------------------------------------------------\n",
    "    Function that returns the dressed state\n",
    "    \"\"\"\n",
    "    \n",
    "    #eig_en_0, eig_states_0 = h_0.eigenstates()\n",
    "    eig_en, eig_states = hamil.eigenstates()\n",
    "    \n",
    "    lev_list = [int(index) for index in lev]\n",
    "    \n",
    "    if lev_list[0] >= lev_t1 or lev_list[1] >= lev_t2:\n",
    "        raise ValueError(\"Index error: indeces out of bound\")\n",
    "    state_0 = qtp.tensor(qtp.basis(lev_t1, lev_list[0]), qtp.basis(lev_t2, lev_list[1]))\n",
    "    #en_0 = eig_en_0[state_index]\n",
    "    eig_states_list = list(eig_states)\n",
    "    state = eig_states_list[0]\n",
    "    en = eig_en[0]\n",
    "    fid = qtp.fidelity(state*state.dag(), state_0*state_0.dag())\n",
    "    for state_tmp, en_tmp in zip(eig_states_list, eig_en):\n",
    "        fid_tmp = qtp.fidelity(state_tmp*state_tmp.dag(), state_0*state_0.dag())\n",
    "        if fid_tmp > fid:\n",
    "            state = state_tmp\n",
    "            fid = fid_tmp\n",
    "            en = en_tmp\n",
    "    loc = np.argmax(np.abs(np.array(state)) )\n",
    "    phase = cmath.phase(state[loc])\n",
    "    state = np.exp(-1j*phase)*state\n",
    "    return en, state"
   ]
  },
  {
   "cell_type": "markdown",
   "metadata": {},
   "source": [
    "To get the effective Hamiltonian we employ numerically an exact Schrieffer-Wolff. All we need to do is define the projectors\n",
    "involved in the SW transformation"
   ]
  },
  {
   "cell_type": "code",
   "execution_count": 33,
   "metadata": {},
   "outputs": [],
   "source": [
    "def zz_drive(\n",
    "    hamil,\n",
    "    lev_t1: int,\n",
    "    lev_t2: int\n",
    ") -> float:\n",
    "    en_00 = dressed_state('00', hamil, lev_t1, lev_t2)[0]\n",
    "    en_01 = dressed_state('01', hamil, lev_t1, lev_t2)[0]\n",
    "    en_10 = dressed_state('10', hamil, lev_t1, lev_t2)[0]\n",
    "    en_11 = dressed_state('11', hamil, lev_t1, lev_t2)[0]\n",
    "    xi_zz = en_00 + en_11 - en_01 - en_10\n",
    "    return xi_zz\n",
    "\n",
    "def project_dressed(\n",
    "    op: qtp.qobj.Qobj(),\n",
    "    hamil: qtp.qobj.Qobj(),\n",
    "    lev_t1: int,\n",
    "    lev_t2: int\n",
    "):\n",
    "    op_proj = np.zeros([4, 4], dtype=complex)\n",
    "    states = {}\n",
    "    states[\"00\"] = dressed_state('00', hamil, lev_t1, lev_t2)[1]\n",
    "    states[\"01\"] = dressed_state('01', hamil, lev_t1, lev_t2)[1]\n",
    "    states[\"10\"] = dressed_state('10', hamil, lev_t1, lev_t2)[1]\n",
    "    states[\"11\"] = dressed_state('11', hamil, lev_t1, lev_t2)[1]\n",
    "    \n",
    "    for key_row, row in zip(states.keys(), range(0, 4)):\n",
    "        for key_col, col in zip(states.keys(), range(0, 4)):\n",
    "            op_proj[row, col] = op.matrix_element(states[key_row], states[key_col])\n",
    "    \n",
    "    return op_proj\n",
    "\n",
    "def projector(\n",
    "    hamil: qtp.qobj.Qobj(),\n",
    "    lev_t1: int,\n",
    "    lev_t2: int,\n",
    "    labels=[\"00\", \"01\", \"10\", \"11\"]\n",
    "):\n",
    "    states = {}\n",
    "    proj = 0\n",
    "    for label in labels:\n",
    "        states[label] = dressed_state(label, hamil, lev_t1, lev_t2)[1]\n",
    "        proj += states[label]*states[label].dag()\n",
    "    return proj, states"
   ]
  },
  {
   "cell_type": "code",
   "execution_count": 34,
   "metadata": {},
   "outputs": [],
   "source": [
    "proj_dressed, states_dressed = projector(h, lev_t, lev_t)\n",
    "proj_dressed_drive, states_dressed_drive = projector(h_tot, lev_t, lev_t)\n",
    "ref_dressed = qtp.tensor(id_t1, id_t2) - 2*proj_dressed\n",
    "ref_dressed_drive = qtp.tensor(id_t1, id_t2) - 2*proj_dressed_drive\n",
    "u_sw = (ref_dressed*ref_dressed_drive).sqrtm()"
   ]
  },
  {
   "cell_type": "code",
   "execution_count": 35,
   "metadata": {},
   "outputs": [],
   "source": [
    "def h_sw_exact(\n",
    "    proj_0: qtp.qobj.Qobj(),\n",
    "    proj: qtp.qobj.Qobj(),\n",
    "    hamil: qtp.qobj.Qobj(),\n",
    "    states_0: dict,\n",
    "    lev_t1: int,\n",
    "    lev_t2: int\n",
    "):\n",
    "    refl_0 = qtp.tensor(qtp.qeye(lev_t1), qtp.qeye(lev_t2)) - 2*proj_0\n",
    "    refl = qtp.tensor(qtp.qeye(lev_t1), qtp.qeye(lev_t2)) - 2*proj\n",
    "    u_sw = (refl_0*refl).sqrtm()\n",
    "    h_sw = u_sw*hamil*u_sw.dag()\n",
    "    h_eff = np.zeros([4, 4], dtype=complex)\n",
    "    for key_row, row in zip(states_0.keys(), range(0, 4)):\n",
    "        for key_col, col in zip(states_0.keys(), range(0, 4)):\n",
    "            h_eff[row, col] = hamil.matrix_element(states_0[key_row], states_0[key_col])\n",
    "    return h_eff"
   ]
  },
  {
   "cell_type": "code",
   "execution_count": 36,
   "metadata": {},
   "outputs": [],
   "source": [
    "h_sw_eff = h_sw_exact(proj_dressed, proj_dressed_drive, h_tot, states_dressed, lev_t, lev_t)"
   ]
  },
  {
   "cell_type": "markdown",
   "metadata": {},
   "source": [
    "The easiest thing is to obtain the projector on the dressed basis without the drive"
   ]
  },
  {
   "cell_type": "code",
   "execution_count": 37,
   "metadata": {},
   "outputs": [],
   "source": [
    "def get_pauli_coeff(\n",
    "    op: np.ndarray,\n",
    "    label: str\n",
    "):\n",
    "    pauli = {}\n",
    "    pauli[\"I\"] = np.identity(2, dtype=complex)\n",
    "    pauli[\"X\"] = np.array([[0.0, 1.0], [1.0, 0.0]], dtype=complex)\n",
    "    pauli[\"Y\"] = np.array([[0.0, -1j*1.0], [1j*1.0, 0.0]], dtype=complex)\n",
    "    pauli[\"Z\"] = np.array([[1.0, 0.0], [0.0, -1.0]], dtype=complex)\n",
    "    label_list = [x for x in label]\n",
    "    pauli_op = np.kron(pauli[label_list[0]], pauli[label_list[1]])\n",
    "    coeff = 1/4*np.trace(op.conj().T.dot(pauli_op))\n",
    "    return coeff"
   ]
  },
  {
   "cell_type": "code",
   "execution_count": 38,
   "metadata": {},
   "outputs": [
    {
     "data": {
      "text/plain": [
       "(0.5595015847468636+0j)"
      ]
     },
     "execution_count": 38,
     "metadata": {},
     "output_type": "execute_result"
    }
   ],
   "source": [
    "get_pauli_coeff(h_sw_eff, \"YZ\")*1e3*2"
   ]
  },
  {
   "cell_type": "code",
   "execution_count": 39,
   "metadata": {},
   "outputs": [
    {
     "data": {
      "text/plain": [
       "0.5304084779770393"
      ]
     },
     "execution_count": 39,
     "metadata": {},
     "output_type": "execute_result"
    }
   ],
   "source": [
    "mu_yz_control(comp_states, coupled_sys['T2'].charge_op())*eps_drive*1e3"
   ]
  },
  {
   "cell_type": "markdown",
   "metadata": {},
   "source": [
    "There seems to be a mysterious factor of 2"
   ]
  },
  {
   "cell_type": "markdown",
   "metadata": {},
   "source": [
    "# Generating data"
   ]
  },
  {
   "cell_type": "code",
   "execution_count": 164,
   "metadata": {},
   "outputs": [],
   "source": [
    "def get_cr_effect(\n",
    "    data_point: List,\n",
    "    jc: float,\n",
    "    transm_t: Qubit,\n",
    "):\n",
    "    \"\"\"\n",
    "    Description\n",
    "    -----------------------------------------------------------------------\n",
    "    Returns the exact cross-resonance coefficient in MHz.\n",
    "    \"\"\"\n",
    "    \n",
    "    freq = data_point[0]\n",
    "    eps = data_point[1]\n",
    "    \n",
    "    transm_c = pysqkit.qubits.SimpleTransmon(\n",
    "            label='T_tmp', \n",
    "            max_freq=freq, \n",
    "            anharm=transm_t.anharm,\n",
    "            dim_hilbert=transm_t.dim_hilbert,\n",
    "        )\n",
    "    \n",
    "    freq_drive = transm_t.max_freq\n",
    "    lev_t = transm_t.dim_hilbert\n",
    "    id_t1 = qtp.qeye(lev_t)\n",
    "    id_t2 = qtp.qeye(lev_t)\n",
    "    proj_1_t1 = qtp.basis(lev_t, 1)*qtp.basis(lev_t, 1).dag()\n",
    "    proj_2_t1 = qtp.basis(lev_t, 2)*qtp.basis(lev_t, 2).dag()\n",
    "    h_t1_single = (transm_t.max_freq - freq_drive)*proj_1_t1 + (transm_t.anharm + \\\n",
    "                                                                2*(transm_t.max_freq - freq_drive))*proj_2_t1\n",
    "    h_t1 = qtp.tensor(h_t1_single, id_t2)\n",
    "\n",
    "    # Transmon 2 Hamiltonian\n",
    "    lev_t = 3\n",
    "    id_t1 = qtp.qeye(lev_t)\n",
    "    id_t2 = qtp.qeye(lev_t)\n",
    "    proj_1_t2 = qtp.basis(lev_t, 1)*qtp.basis(lev_t, 1).dag()\n",
    "    proj_2_t2 = qtp.basis(lev_t, 2)*qtp.basis(lev_t, 2).dag()\n",
    "    h_t2_single = (transm_c.max_freq - freq_drive)*proj_1_t2 + (transm_c.anharm + 2*(transm_c.max_freq - freq_drive))*proj_2_t2\n",
    "    h_t2 = qtp.tensor(id_t1, h_t2_single)\n",
    "\n",
    "    # Coupling Hamiltonian\n",
    "    coup_op_t1 = transm_t.charge_zpf*(qtp.basis(lev_t, 1)*qtp.basis(lev_t, 0).dag() + np.sqrt(2)*qtp.basis(lev_t, 2)*qtp.basis(lev_t, 1).dag())\n",
    "    coup_op_t2 = transm_c.charge_zpf*(qtp.basis(lev_t, 1)*qtp.basis(lev_t, 0).dag() + np.sqrt(2)*qtp.basis(lev_t, 2)*qtp.basis(lev_t, 1).dag())\n",
    "    h_coup = jc*(qtp.tensor(coup_op_t1, coup_op_t2) + qtp.tensor(coup_op_t1, coup_op_t2).dag())\n",
    "\n",
    "    # Drive Hamiltonian\n",
    "    h_drive = transm_c.charge_zpf*eps/2*1j*(qtp.tensor(id_t1, coup_op_t2).dag() - qtp.tensor(id_t1, coup_op_t2))\n",
    "\n",
    "    #Total Hamiltonian\n",
    "    h_0 = h_t1 + h_t2\n",
    "    h = h_0 + h_coup\n",
    "    h_tot = h + h_drive\n",
    "    \n",
    "    proj_dressed, states_dressed = projector(h, lev_t, lev_t)\n",
    "    proj_dressed_drive, states_dressed_drive = projector(h_tot, lev_t, lev_t)\n",
    "    ref_dressed = qtp.tensor(id_t1, id_t2) - 2*proj_dressed\n",
    "    ref_dressed_drive = qtp.tensor(id_t1, id_t2) - 2*proj_dressed_drive\n",
    "    u_sw = (ref_dressed*ref_dressed_drive).sqrtm()\n",
    "    \n",
    "    h_sw_eff = h_sw_exact(proj_dressed, proj_dressed_drive, h_tot, states_dressed, lev_t, lev_t)\n",
    "    \n",
    "    output = {}\n",
    "    output[\"freq_fixed\"] = transm_t.freq\n",
    "    output[\"freq\"] = freq\n",
    "    output[\"eps\"] = eps\n",
    "    output[\"cr\"] = np.real(get_pauli_coeff(h_sw_eff, \"YZ\")*1e3*2)\n",
    "    output[\"jc\"] = jc*1e3\n",
    "    \n",
    "    return output\n",
    "\n",
    "func = partial(get_cr_effect, jc=jc, transm_t=transm_t)\n",
    "    \n",
    "    "
   ]
  },
  {
   "cell_type": "code",
   "execution_count": 165,
   "metadata": {},
   "outputs": [
    {
     "name": "stdout",
     "output_type": "stream",
     "text": [
      "Computation time = 44.16612362861633 s\n"
     ]
    }
   ],
   "source": [
    "n_points = 20\n",
    "n_process = 4\n",
    "delta_freq = 0.8\n",
    "transm_freq_list = list(np.linspace(transm_t.max_freq - delta_freq, transm_t.max_freq + delta_freq, n_points))\n",
    "eps_max = 0.1\n",
    "eps_list = list(np.linspace(0.0, eps_max, n_points))\n",
    "iter_list = itertools.product(transm_freq_list, eps_list)\n",
    "\n",
    "start = time.time()\n",
    "\n",
    "pool = multiprocessing.Pool(processes=n_process)\n",
    "\n",
    "result = pool.map(func, iter_list)\n",
    "\n",
    "pool.close()\n",
    "pool.join()\n",
    "\n",
    "end = time.time()\n",
    "\n",
    "print(\"Computation time = {} s\".format(end - start))\n",
    "        \n",
    "        \n",
    "        "
   ]
  },
  {
   "cell_type": "code",
   "execution_count": 166,
   "metadata": {},
   "outputs": [],
   "source": [
    "def plot_cr_effect(\n",
    "    result\n",
    "):\n",
    "    color_map = 'seismic'\n",
    "    n_points = len(result)\n",
    "    freq = np.zeros(n_points)\n",
    "    eps = np.zeros(n_points)\n",
    "    cr = np.zeros(n_points)\n",
    "    for k in range(0, n_points):\n",
    "        freq[k] = result[k][\"freq\"]\n",
    "        eps[k] = result[k][\"eps\"]\n",
    "        cr[k] = np.abs(result[k][\"cr\"])\n",
    "    freq_vec, eps_vec = np.linspace(freq.min(), \\\n",
    "        freq.max(), n_points), np.linspace(eps.min(), eps.max(), n_points)\n",
    "    freq_vec, eps_vec = np.meshgrid(freq_vec, eps_vec)\n",
    "    # Interpolate\n",
    "    rbf_func = scipy.interpolate.Rbf(freq, eps, cr, function='linear')\n",
    "    cr_rbf = rbf_func(freq_vec, eps_vec)\n",
    "    \n",
    "    aspect = (np.max(freq_vec) - np.min(freq_vec))/(np.max(eps_vec) - np.min(eps_vec))\n",
    "    fig, ax = plt.subplots(figsize=(6,6))\n",
    "    im = ax.imshow(cr_rbf, vmin=np.min(cr_rbf), vmax=np.max(cr_rbf), \n",
    "                   origin='lower', extent=[np.min(freq_vec), np.max(freq_vec), \n",
    "                   np.min(eps_vec), np.max(eps_vec)], \n",
    "                   cmap=color_map, aspect=aspect)\n",
    "    \n",
    "    plt.show()"
   ]
  },
  {
   "cell_type": "code",
   "execution_count": 167,
   "metadata": {},
   "outputs": [
    {
     "data": {
      "image/png": "[encoded data removed]",
      "text/plain": [
       "<Figure size 432x432 with 1 Axes>"
      ]
     },
     "metadata": {
      "needs_background": "light"
     },
     "output_type": "display_data"
    }
   ],
   "source": [
    "plot_cr_effect(result)"
   ]
  },
  {
   "cell_type": "code",
   "execution_count": 168,
   "metadata": {},
   "outputs": [],
   "source": [
    "save = True\n",
    "if save:\n",
    "    with open('tmp/data_cr_strong_drive.txt', 'w') as fp:\n",
    "        json.dump(result, fp)"
   ]
  },
  {
   "cell_type": "code",
   "execution_count": null,
   "metadata": {},
   "outputs": [],
   "source": []
  }
 ],
 "metadata": {
  "kernelspec": {
   "display_name": "Python 3.7.3 64-bit ('base': conda)",
   "language": "python",
   "name": "python37364bitbaseconda36d0b2465ec04527ba16a77ef6d99d0e"
  },
  "language_info": {
   "codemirror_mode": {
    "name": "ipython",
    "version": 3
   },
   "file_extension": ".py",
   "mimetype": "text/x-python",
   "name": "python",
   "nbconvert_exporter": "python",
   "pygments_lexer": "ipython3",
   "version": "3.7.11"
  },
  "toc": {
   "base_numbering": 1,
   "nav_menu": {},
   "number_sections": true,
   "sideBar": true,
   "skip_h1_title": false,
   "title_cell": "Table of Contents",
   "title_sidebar": "Contents",
   "toc_cell": false,
   "toc_position": {
    "height": "calc(100% - 180px)",
    "left": "10px",
    "top": "150px",
    "width": "233.333px"
   },
   "toc_section_display": true,
   "toc_window_display": false
  },
  "widgets": {
   "application/vnd.jupyter.widget-state+json": {
    "state": {},
    "version_major": 2,
    "version_minor": 0
   }
  }
 },
 "nbformat": 4,
 "nbformat_minor": 4
}
