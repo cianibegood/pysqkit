{
 "cells": [
  {
   "cell_type": "markdown",
   "id": "0a4a32e4",
   "metadata": {},
   "source": [
    "# Driving a transmon qubit \n",
    "In this tutorial we show how to drive a transmon qubit using pysqkit and how to extract the fidelity of the desired single-qubit gate. "
   ]
  },
  {
   "cell_type": "code",
   "execution_count": 1,
   "id": "dbd69a4f",
   "metadata": {},
   "outputs": [],
   "source": [
    "import numpy as np \n",
    "import time \n",
    "import matplotlib.pyplot as plt\n",
    "from pysqkit.qubits import SimpleTransmon\n",
    "from pysqkit.drives import microwave_drive\n",
    "from pysqkit.drives.pulse_shapes import gaussian_top\n",
    "from pysqkit.util.metrics import average_process_fidelity, average_gate_fidelity\n",
    "from pysqkit.util.phys import temperature_to_thermalenergy\n",
    "from pysqkit.util.hsbasis import weyl_by_index\n",
    "from pysqkit.solvers import solvkit\n",
    "import qutip\n",
    "import matplotlib \n",
    "matplotlib.rcParams['mathtext.fontset'] = 'cm'"
   ]
  },
  {
   "cell_type": "markdown",
   "id": "e1431fe7",
   "metadata": {},
   "source": [
    "A microwave gate for a transmon qubit is based on the following driven Hamiltonian \n",
    "\n",
    "$$H = H^{(0)}_T  + H_{drive},$$\n",
    "\n",
    "$$H^{(0)}_T =  \\hbar \\omega_T \\hat{b}^{\\dagger}\\hat{b} + \\hbar \\frac{\\delta_T}{2} \\hat{b}^{\\dagger} \\hat{b}^{\\dagger}\\hat{b} \\hat{b},$$\n",
    "\n",
    "\n",
    "$$\\frac{H_{drive}}{h} = \\varepsilon_T \\cos(2\\pi f_d t) \\hat{n}_T.$$\n",
    "\n",
    "The (approximate) charge operator for the transmon in terms of annihilation and creation operators reads\n",
    "\n",
    "$$\n",
    "\\hat{n}_T = i \\biggl( \\frac{E_J}{32 |\\delta_T |} \\biggr)^{1/4} (b^{\\dagger} - b),\n",
    "$$\n",
    "where \n",
    "$$\n",
    "E_J = \\hbar \\biggl(\\frac{\\omega_T - \\delta_T}{8 | \\delta_T |} \\biggr)^2.\n",
    "$$\n",
    "Let us introduce the transmon object"
   ]
  },
  {
   "cell_type": "code",
   "execution_count": 2,
   "id": "99f96bc2",
   "metadata": {},
   "outputs": [],
   "source": [
    "temperature = 0.020 #K\n",
    "thermal_energy = temperature_to_thermalenergy(temperature) # kb T/h in GHz\n",
    "\n",
    "levels_t = 3\n",
    "transm = SimpleTransmon(\n",
    "    label='T',\n",
    "    max_freq=5.0,\n",
    "    anharm=-0.3,\n",
    "    diel_loss_tan=0.75*1e-6,\n",
    "    env_thermal_energy=thermal_energy,\n",
    "    dim_hilbert=levels_t\n",
    ")\n",
    "\n",
    "#We also add the drive \n",
    "transm.add_drive(microwave_drive, label='sq_gate', pulse_shape=gaussian_top)"
   ]
  },
  {
   "cell_type": "code",
   "execution_count": 3,
   "id": "60063847",
   "metadata": {},
   "outputs": [],
   "source": [
    "# Setting drive parameters\n",
    "eps_drive = 0.03\n",
    "freq_drive = transm.freq\n",
    "t_tot = 40 #ns \n",
    "t_rise = 15 #ns\n",
    "pts_per_drive_period = 5 \n",
    "nb_points = int(t_tot*freq_drive*pts_per_drive_period)\n",
    "t_list = np.linspace(0, t_tot, nb_points)\n",
    "transm.drives['sq_gate'].set_params(phase=0.0, time=t_list, rise_time=t_rise, amp=eps_drive, freq=freq_drive)"
   ]
  },
  {
   "cell_type": "code",
   "execution_count": 4,
   "id": "47831790",
   "metadata": {},
   "outputs": [],
   "source": [
    "# Setting up simulation\n",
    "hamil0 = transm.hamiltonian(as_qobj=True)\n",
    "hamil_drive = [transm.drives['sq_gate'].hamiltonian(as_qobj=True)]\n",
    "pulse_drive = [transm.drives['sq_gate'].eval_pulse()]\n",
    "jump_ops = transm.collapse_ops(as_qobj=True)\n",
    "state_in = transm.state('0', as_qobj=True)[1]\n",
    "\n",
    "output = solvkit.integrate(2*np.pi*t_list, state_in, hamil0, hamil_drive, pulse_drive, jump_ops, \"mesolve\") \n",
    "\n",
    "\n"
   ]
  },
  {
   "cell_type": "code",
   "execution_count": null,
   "id": "827931d6",
   "metadata": {},
   "outputs": [],
   "source": []
  }
 ],
 "metadata": {
  "kernelspec": {
   "display_name": "Python 3 (ipykernel)",
   "language": "python",
   "name": "python3"
  },
  "language_info": {
   "codemirror_mode": {
    "name": "ipython",
    "version": 3
   },
   "file_extension": ".py",
   "mimetype": "text/x-python",
   "name": "python",
   "nbconvert_exporter": "python",
   "pygments_lexer": "ipython3",
   "version": "3.7.11"
  }
 },
 "nbformat": 4,
 "nbformat_minor": 5
}
