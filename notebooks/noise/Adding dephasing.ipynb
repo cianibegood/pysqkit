{
 "cells": [
  {
   "cell_type": "markdown",
   "metadata": {},
   "source": [
    "# Adding dephasing\n",
    "\n",
    "In this notebook we add pure dephasing to the transmon and fluxonium qubits. We will deal with the case of $1/f$ noise in the fluxonium away from the sweetspot separately.  "
   ]
  },
  {
   "cell_type": "code",
   "execution_count": 1,
   "metadata": {},
   "outputs": [],
   "source": [
    "import numpy as np\n",
    "import time\n",
    "import qutip as qtp\n",
    "import matplotlib.pyplot as plt\n",
    "import pysqkit\n",
    "import time\n",
    "from pysqkit.util.phys import temperature_to_thermalenergy\n",
    "import pysqkit.util.transformations as trf\n",
    "from pysqkit.util.hsbasis import weyl_by_index\n",
    "from pysqkit.solvers import solvkit\n",
    "from typing import List, Dict, Callable\n",
    "import matplotlib\n",
    "matplotlib.rcParams['mathtext.fontset'] = 'cm'\n",
    "\n",
    "from IPython.display import display, Latex"
   ]
  },
  {
   "cell_type": "markdown",
   "metadata": {},
   "source": [
    "The Hamiltonian of the transmon is approximated to be that of a Duffing oscillator\n",
    "$$H_T =  \\hbar \\omega_T \\hat{b}^{\\dagger}\\hat{b} + \\hbar \\frac{\\delta_T}{2} \\hat{b}^{\\dagger} \\hat{b}^{\\dagger}\\hat{b} \\hat{b},$$\n",
    "\n",
    "while the Hamiltonian of the fluxonium is\n",
    "\n",
    "$$H_F = 4 E_{C,F} \\cdot \\hat{q}^2_F + \\frac{1}{2}E_{L,F}\\cdot\\hat{\\phi}^2_F - E_{J,F}\\cos\\left(\\hat{\\phi}_F - \\phi_{ext,F}\\right),$$\n",
    "\n",
    "The (approximate) charge operator for the transmon in terms of annihilation and creation operators reads\n",
    "\n",
    "$$\n",
    "\\hat{q}_T = i \\biggl( \\frac{E_J}{32 |\\delta_T |} \\biggr)^{1/4} (b^{\\dagger} - b),\n",
    "$$\n",
    "where \n",
    "$$\n",
    "E_J = \\hbar \\biggl(\\frac{\\omega_T - \\delta_T}{8 | \\delta_T |} \\biggr)^2.\n",
    "$$\n",
    "\n",
    "In what follows we want to study in particular a simplified model of Markovian dephasing. The Lindblad master equation associated with pure dephasing in the multi-level case can be found in Eq. 24 of PRX Quantum 2, 030306 (2021) and reads for both transmon and fluxonium (and any multi-level system)\n",
    "\n",
    "$$\n",
    "\\frac{d \\rho}{dt} = \\frac{1}{i \\hbar}\\bigl[H_{S}, \\rho \\bigr] + \\mathcal{D}[Z_{\\mathrm{\\phi}}](\\rho),\n",
    "$$\n",
    "\n",
    "where $H_S$ is the Hamiltonian of the system, $\\mathcal{D}[A](\\rho) = A \\rho A^{\\dagger} - \\frac{1}{2}\\{A^{\\dagger} A, \\rho\\}$ the Lindblad superoperator and we defined the multi-level dephasing operator\n",
    "\n",
    "$$\n",
    "Z_{\\phi} = \\sum_{i=0}^{+ \\infty} \\sqrt{2 \\Gamma_{\\phi, i}} |i \\rangle \\langle i |.\n",
    "$$\n",
    "\n",
    "with $|i \\rangle$ eigenstates of $H_S$ and $\\Gamma_{\\phi, i}$ the dephasing rate associated with the state $i$. By using the resolution of the identity in the diagonal basis $\\sum_{i=0}^{\\infty} |i \\rangle \\langle i| $ one can see that we can set one of the $\\Gamma_{\\phi, i}$ to zero. In what follows we assume that we set the dephasing rate of the groundstate to zero, \\i.e., $\\Gamma_{\\phi, 0}=0$. By doing so the coefficients $\\Gamma_{\\phi, i}$ have the interpretation of dephasing rates associated with the transition $|i \\rangle-|0 \\rangle$, as we will confirm numerically below.\n",
    "\n",
    "For the numerical example we take exaggerately short dephasing times just for the purpose of keeping the simulation time short."
   ]
  },
  {
   "cell_type": "markdown",
   "metadata": {},
   "source": [
    "# 1) Fluxonium\n"
   ]
  },
  {
   "cell_type": "code",
   "execution_count": 2,
   "metadata": {},
   "outputs": [],
   "source": [
    "#Fluxonium\n",
    "levels_f = 5\n",
    "\n",
    "flx = pysqkit.qubits.Fluxonium(\n",
    "    label='F', \n",
    "    charge_energy=.973, \n",
    "    induct_energy=.457, \n",
    "    joseph_energy=8.0, \n",
    "    diel_loss_tan=1e-6*0.0, #setting it to zero to isolate effect of dephasing\n",
    "    env_thermal_energy=0.0,\n",
    "    dephasing_times = {'1': 2*np.pi*100, '3': 2*np.pi*10} #ns/2*np.pi \n",
    ")\n",
    "flx.diagonalize_basis(levels_f)"
   ]
  },
  {
   "cell_type": "markdown",
   "metadata": {},
   "source": [
    "We now want to study numerically dephasing in this system under the previous Markovian dephasing model. To do so we initialize the states \n",
    "\n",
    "$$\n",
    "|+_{01} \\rangle = \\frac{1}{\\sqrt{2}} \\bigl(|0 \\rangle + |1 \\rangle \\bigr),\n",
    "$$\n",
    "\n",
    "$$\n",
    "|+_{03} \\rangle = \\frac{1}{\\sqrt{2}} \\bigl(|0 \\rangle + |3 \\rangle \\bigr)\n",
    "$$\n",
    "\n",
    "and look at the decay of the coherences, \\i.e., the averages of $|0 \\rangle \\langle 1 |$ and $|0 \\rangle \\langle 3 |$ respectively. We will also show that instead by initializing \n",
    "\n",
    "$$\n",
    "|+_{02} \\rangle = \\frac{1}{\\sqrt{2}} \\bigl(|0 \\rangle + |2 \\rangle \\bigr),\n",
    "$$\n",
    "\n",
    "no decay of the corresponding coherenc is observed."
   ]
  },
  {
   "cell_type": "code",
   "execution_count": 3,
   "metadata": {},
   "outputs": [],
   "source": [
    "lev_a = '0'\n",
    "lev_b = '3'\n",
    "state_in = 1/np.sqrt(2)*(flx.state(lev_a, as_qobj=True)[1] + flx.state(lev_b, as_qobj=True)[1])\n",
    "rho_in = state_in*state_in.dag()\n",
    "time_tot = 100 #ns\n",
    "time_points = 100000\n",
    "times = np.linspace(0, 2*np.pi*time_tot, time_points)\n",
    "hamil_f = flx.hamiltonian(as_qobj=True)\n",
    "lindblad_op_f = [flx.dephasing_op(as_qobj=True)]\n",
    "simu_opt = qtp.solver.Options()\n",
    "simu_opt.atol = 1e-12 #these need to be specified or qutip starts to make too many errors...\n",
    "simu_opt.rtol = 1e-10"
   ]
  },
  {
   "cell_type": "code",
   "execution_count": 4,
   "metadata": {},
   "outputs": [
    {
     "name": "stdout",
     "output_type": "stream",
     "text": [
      "Computation time = 3.8978567123413086 s\n"
     ]
    }
   ],
   "source": [
    "start = time.time()\n",
    "\n",
    "result = solvkit.integrate(times, state_in, hamil_f, [], [], lindblad_op_f, \"mesolve\", options=simu_opt)\n",
    "\n",
    "end = time.time()\n",
    "\n",
    "print(\"Computation time = \" + str(end - start) + ' s')"
   ]
  },
  {
   "cell_type": "code",
   "execution_count": 5,
   "metadata": {},
   "outputs": [],
   "source": [
    "coherence_op_f = flx.state(lev_a, as_qobj=True)[1]*flx.state(lev_b, as_qobj=True)[1].dag()\n",
    "avg_coherence_f = [qtp.expect(coherence_op_f, state) for state in result.states]"
   ]
  },
  {
   "cell_type": "code",
   "execution_count": 6,
   "metadata": {},
   "outputs": [
    {
     "data": {
      "image/png": "[encoded data removed]",
      "text/plain": [
       "<Figure size 576x432 with 1 Axes>"
      ]
     },
     "metadata": {
      "needs_background": "light"
     },
     "output_type": "display_data"
    }
   ],
   "source": [
    "plot_setup = {'lw': 2.0, 'fs': 20, 'fs_text': 14, 'ls': 14}\n",
    "def plot_coherence(\n",
    "    times: np.ndarray, \n",
    "    avg_coherence: List, \n",
    "    opt: dict,\n",
    "    lev_a: str,\n",
    "    lev_b: str\n",
    ") -> None:\n",
    "    fig, ax = plt.subplots(figsize=(8, 6))\n",
    "    ax.plot(times, np.abs(avg_coherence), linewidth=opt['lw'], color='red')\n",
    "    ax.axes.set_xlabel('$t \\, [\\mathrm{ns}]$', fontsize=opt['fs'])\n",
    "    ax.axes.set_ylabel('$|\\\\langle |' + lev_a + '\\\\rangle \\\\langle ' + \n",
    "                       lev_b + '| \\\\rangle |$', fontsize=opt['fs'])\n",
    "    ax.tick_params(axis='both', labelsize=opt['ls'])\n",
    "    ax.set_ylim(0, 0.6)\n",
    "    plt.show()\n",
    "\n",
    "plot_coherence(times/(2*np.pi), avg_coherence_f, plot_setup, lev_a, lev_b)"
   ]
  },
  {
   "cell_type": "markdown",
   "metadata": {},
   "source": [
    "## 1.1) Comparison\n",
    "We now compare the decays of the previous levels"
   ]
  },
  {
   "cell_type": "code",
   "execution_count": 7,
   "metadata": {},
   "outputs": [],
   "source": [
    "state_01 = 1/np.sqrt(2)*(flx.state('0', as_qobj=True)[1] + flx.state('1', as_qobj=True)[1])\n",
    "state_02 = 1/np.sqrt(2)*(flx.state('0', as_qobj=True)[1] + flx.state('2', as_qobj=True)[1])\n",
    "state_03 = 1/np.sqrt(2)*(flx.state('0', as_qobj=True)[1] + flx.state('3', as_qobj=True)[1])\n",
    "rho_01 = state_01*state_01.dag()\n",
    "rho_02 = state_02*state_02.dag()\n",
    "rho_03 = state_03*state_03.dag()"
   ]
  },
  {
   "cell_type": "code",
   "execution_count": 8,
   "metadata": {},
   "outputs": [
    {
     "name": "stdout",
     "output_type": "stream",
     "text": [
      "Computation time = 11.180093050003052 s\n"
     ]
    }
   ],
   "source": [
    "start = time.time()\n",
    "\n",
    "result_01 = solvkit.integrate(times, state_01, hamil_f, [], [], lindblad_op_f, \"mesolve\", options=simu_opt)\n",
    "result_02 = solvkit.integrate(times, state_02, hamil_f, [], [], lindblad_op_f, \"mesolve\", options=simu_opt)\n",
    "result_03 = solvkit.integrate(times, state_03, hamil_f, [], [], lindblad_op_f, \"mesolve\", options=simu_opt)\n",
    "\n",
    "end = time.time()\n",
    "\n",
    "print(\"Computation time = \" + str(end - start) + ' s')"
   ]
  },
  {
   "cell_type": "code",
   "execution_count": 9,
   "metadata": {},
   "outputs": [],
   "source": [
    "coherence_op_01 = flx.state('0', as_qobj=True)[1]*flx.state('1', as_qobj=True)[1].dag()\n",
    "coherence_op_02 = flx.state('0', as_qobj=True)[1]*flx.state('2', as_qobj=True)[1].dag()\n",
    "coherence_op_03 = flx.state('0', as_qobj=True)[1]*flx.state('3', as_qobj=True)[1].dag()\n",
    "avg_coherence_01 = [qtp.expect(coherence_op_01, state) for state in result_01.states]\n",
    "avg_coherence_02 = [qtp.expect(coherence_op_02, state) for state in result_02.states]\n",
    "avg_coherence_03 = [qtp.expect(coherence_op_03, state) for state in result_03.states]"
   ]
  },
  {
   "cell_type": "code",
   "execution_count": 10,
   "metadata": {},
   "outputs": [
    {
     "data": {
      "image/png": "[encoded data removed]",
      "text/plain": [
       "<Figure size 576x432 with 1 Axes>"
      ]
     },
     "metadata": {
      "needs_background": "light"
     },
     "output_type": "display_data"
    }
   ],
   "source": [
    "def plot_comparison_coherence(\n",
    "    times: np.ndarray, \n",
    "    avg_coherence_01: List,\n",
    "    avg_coherence_02: List,\n",
    "    avg_coherence_03: List, \n",
    "    opt: dict,\n",
    ") -> None:\n",
    "    fig, ax = plt.subplots(figsize=(8, 6))\n",
    "    ax.plot(times, np.abs(avg_coherence_01), linestyle='-', linewidth=opt['lw'], color='red', \n",
    "           label='$|\\\\langle |0 \\\\rangle \\\\langle 1 | \\\\rangle |$')\n",
    "    ax.plot(times, np.abs(avg_coherence_02), linestyle='--', linewidth=opt['lw'], color='green', \n",
    "           label='$|\\\\langle |0 \\\\rangle \\\\langle 2 | \\\\rangle |$')\n",
    "    ax.plot(times, np.abs(avg_coherence_03), linestyle='-.', linewidth=opt['lw'], color='darkblue', \n",
    "           label='$|\\\\langle |0 \\\\rangle \\\\langle 3 | \\\\rangle |$')\n",
    "    ax.axes.set_xlabel('$t \\, [\\mathrm{ns}]$', fontsize=opt['fs'])\n",
    "    ax.tick_params(axis='both', labelsize=opt['ls'])\n",
    "    plt.legend(fontsize=opt['fs_text'], loc='center right')\n",
    "    ax.set_ylim(0, 0.6)\n",
    "    plt.show()\n",
    "\n",
    "plot_comparison_coherence(times/(2*np.pi), avg_coherence_01, avg_coherence_02,\n",
    "                          avg_coherence_03, plot_setup)"
   ]
  },
  {
   "cell_type": "markdown",
   "metadata": {},
   "source": [
    "# 2) Transmon\n",
    "We now do the same for a Transmon qubit."
   ]
  },
  {
   "cell_type": "code",
   "execution_count": 11,
   "metadata": {},
   "outputs": [],
   "source": [
    "#Transmon\n",
    "levels_t = 3\n",
    "transm = pysqkit.qubits.SimpleTransmon(\n",
    "    label='T', \n",
    "    max_freq=4.5, \n",
    "    anharm=-0.3,\n",
    "    diel_loss_tan=0.75*1e-6, #set to zero to check d_1 L1 = d_2 L2\n",
    "    env_thermal_energy=0.0, \n",
    "    dephasing_times = {'1': 2*np.pi*100, '2': 2*np.pi*50},\n",
    "    dim_hilbert=levels_t\n",
    ")"
   ]
  },
  {
   "cell_type": "code",
   "execution_count": 12,
   "metadata": {},
   "outputs": [],
   "source": [
    "lev_a = '0'\n",
    "lev_b = '1'\n",
    "state_in = 1/np.sqrt(2)*(transm.state(lev_a, as_qobj=True)[1] + transm.state(lev_b, as_qobj=True)[1])\n",
    "rho_in = state_in*state_in.dag()\n",
    "time_tot = 100 #ns\n",
    "time_points = 100000\n",
    "times = np.linspace(0, 2*np.pi*time_tot, time_points)\n",
    "hamil_t = transm.hamiltonian(as_qobj=True)\n",
    "lindblad_op_t = [transm.dephasing_op(as_qobj=True)]"
   ]
  },
  {
   "cell_type": "code",
   "execution_count": 13,
   "metadata": {},
   "outputs": [
    {
     "name": "stdout",
     "output_type": "stream",
     "text": [
      "Computation time = 3.5089893341064453 s\n"
     ]
    }
   ],
   "source": [
    "start = time.time()\n",
    "\n",
    "result = solvkit.integrate(times, state_in, hamil_t, [], [], lindblad_op_t, \"mesolve\", options=simu_opt)\n",
    "\n",
    "end = time.time()\n",
    "\n",
    "print(\"Computation time = \" + str(end - start) + ' s')"
   ]
  },
  {
   "cell_type": "code",
   "execution_count": 14,
   "metadata": {},
   "outputs": [],
   "source": [
    "coherence_op_t = transm.state(lev_a, as_qobj=True)[1]*transm.state(lev_b, as_qobj=True)[1].dag()\n",
    "avg_coherence_t = [qtp.expect(coherence_op_t, state) for state in result.states]"
   ]
  },
  {
   "cell_type": "code",
   "execution_count": 15,
   "metadata": {},
   "outputs": [
    {
     "data": {
      "image/png": "[encoded data removed]",
      "text/plain": [
       "<Figure size 576x432 with 1 Axes>"
      ]
     },
     "metadata": {
      "needs_background": "light"
     },
     "output_type": "display_data"
    }
   ],
   "source": [
    "plot_coherence(times/(2*np.pi), avg_coherence_t, plot_setup, lev_a, lev_b)"
   ]
  }
 ],
 "metadata": {
  "kernelspec": {
   "display_name": "Python 3.7.3 64-bit ('base': conda)",
   "language": "python",
   "name": "python37364bitbaseconda36d0b2465ec04527ba16a77ef6d99d0e"
  },
  "language_info": {
   "codemirror_mode": {
    "name": "ipython",
    "version": 3
   },
   "file_extension": ".py",
   "mimetype": "text/x-python",
   "name": "python",
   "nbconvert_exporter": "python",
   "pygments_lexer": "ipython3",
   "version": "3.7.11"
  }
 },
 "nbformat": 4,
 "nbformat_minor": 5
}
