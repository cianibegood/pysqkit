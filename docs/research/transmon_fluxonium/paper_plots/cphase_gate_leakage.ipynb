{
 "cells": [
  {
   "cell_type": "markdown",
   "id": "6c30a7c5",
   "metadata": {},
   "source": [
    "# CPHASE: leakage vs gate time"
   ]
  },
  {
   "cell_type": "code",
   "execution_count": 1,
   "id": "098d72bf",
   "metadata": {},
   "outputs": [],
   "source": [
    "import numpy as np\n",
    "import time\n",
    "import matplotlib.pyplot as plt\n",
    "from scipy import constants\n",
    "from typing import List, Dict, Callable\n",
    "import matplotlib\n",
    "matplotlib.rcParams['mathtext.fontset'] = 'cm'\n",
    "import copy\n",
    "import json"
   ]
  },
  {
   "cell_type": "code",
   "execution_count": 2,
   "id": "4ae2a597",
   "metadata": {},
   "outputs": [],
   "source": [
    "with open(\"cphase_data/leakage_vs_gate_time_data.txt\") as my_file:\n",
    "    result = json.load(my_file)"
   ]
  },
  {
   "cell_type": "code",
   "execution_count": 4,
   "id": "71f6bd17",
   "metadata": {},
   "outputs": [
    {
     "data": {
      "text/plain": [
       "[{'cond_phase': 3.141592653589793,\n",
       "  't_rise': 5.0,\n",
       "  't_gate_ideal': 76.8403171511093,\n",
       "  'gate_time_list': [71.8403171511093, 81.8403171511093],\n",
       "  'avg_leakage': [0.021875731271545407, 0.015882643307480127],\n",
       "  'avg_leakage_noise': [0.02525223297211243, 0.019400151925814346],\n",
       "  'gate_fid': 0.9831138039056306,\n",
       "  'gate_fid_noise': 0.9769011385781526},\n",
       " {'cond_phase': 3.9269908169872414,\n",
       "  't_rise': 5.0,\n",
       "  't_gate_ideal': 94.72800893219102,\n",
       "  'gate_time_list': [89.72800893219102, 99.72800893219102],\n",
       "  'avg_leakage': [0.011536347130266411, 0.008328434787407857],\n",
       "  'avg_leakage_noise': [0.015043370572358605, 0.011929336794376688],\n",
       "  'gate_fid': 0.9910033920036663,\n",
       "  'gate_fid_noise': 0.9842569347802932}]"
      ]
     },
     "execution_count": 4,
     "metadata": {},
     "output_type": "execute_result"
    }
   ],
   "source": [
    "result"
   ]
  },
  {
   "cell_type": "code",
   "execution_count": null,
   "id": "fd6303de",
   "metadata": {},
   "outputs": [],
   "source": []
  }
 ],
 "metadata": {
  "kernelspec": {
   "display_name": "Python 3.7.3 64-bit ('base': conda)",
   "language": "python",
   "name": "python37364bitbaseconda36d0b2465ec04527ba16a77ef6d99d0e"
  },
  "language_info": {
   "codemirror_mode": {
    "name": "ipython",
    "version": 3
   },
   "file_extension": ".py",
   "mimetype": "text/x-python",
   "name": "python",
   "nbconvert_exporter": "python",
   "pygments_lexer": "ipython3",
   "version": "3.7.11"
  }
 },
 "nbformat": 4,
 "nbformat_minor": 5
}
