{
 "cells": [
  {
   "cell_type": "code",
   "execution_count": 1,
   "id": "c7cea4fe",
   "metadata": {},
   "outputs": [
    {
     "data": {
      "text/html": [
       "\n",
       "\n",
       "<style>\n",
       "    div#notebook-container    { width: 90%; }\n",
       "    div#menubar-container     { width: 65%; }\n",
       "    div#maintoolbar-container { width: 99%; }\n",
       "</style>\n"
      ],
      "text/plain": [
       "<IPython.core.display.HTML object>"
      ]
     },
     "metadata": {},
     "output_type": "display_data"
    },
    {
     "data": {
      "application/javascript": [
       "if (!(\"Notification\" in window)) {\n",
       "    alert(\"This browser does not support desktop notifications, so the %%notify magic will not work.\");\n",
       "} else if (Notification.permission !== 'granted' && Notification.permission !== 'denied') {\n",
       "    Notification.requestPermission(function (permission) {\n",
       "        if(!('permission' in Notification)) {\n",
       "            Notification.permission = permission;\n",
       "        }\n",
       "    })\n",
       "}\n"
      ],
      "text/plain": [
       "<IPython.core.display.Javascript object>"
      ]
     },
     "metadata": {},
     "output_type": "display_data"
    }
   ],
   "source": [
    "from IPython.display import display, HTML\n",
    "\n",
    "display(HTML(data=\"\"\"\n",
    "\n",
    "<style>\n",
    "    div#notebook-container    { width: 90%; }\n",
    "    div#menubar-container     { width: 65%; }\n",
    "    div#maintoolbar-container { width: 99%; }\n",
    "</style>\n",
    "\"\"\"))\n",
    "\n",
    "%reload_ext jupyternotify\n",
    "\n",
    "#%notify"
   ]
  },
  {
   "cell_type": "code",
   "execution_count": 2,
   "id": "71be6427",
   "metadata": {},
   "outputs": [],
   "source": [
    "import numpy as np\n",
    "import sys\n",
    "\n",
    "import qutip as qtp\n",
    "import matplotlib.pyplot as plt\n",
    "from pathlib import Path\n",
    "\n",
    "from scipy import linalg as la\n",
    "\n",
    "parent_path = \"..\"  #str(Path(__file__).resolve().parents[1])\n",
    "sys.path.append(parent_path)\n",
    "\n",
    "import pysqkit\n",
    "\n",
    "\n",
    "import time\n",
    "import os\n",
    "\n",
    "from pysqkit.solvers.solvkit import integrate\n",
    "\n",
    "%matplotlib notebook\n",
    "plt.rcParams['figure.figsize'] = (10, 7)"
   ]
  },
  {
   "cell_type": "code",
   "execution_count": 3,
   "id": "4395602d",
   "metadata": {},
   "outputs": [],
   "source": [
    "from math import pi\n",
    "\n",
    "h = 6.62607 * 10**(-34)\n",
    "h_bar = h/(2*pi)\n",
    "e = 1.6071766*10**(-19)\n",
    "phi_0 = h/(2*e)\n",
    "\n"
   ]
  },
  {
   "cell_type": "code",
   "execution_count": 4,
   "id": "ea81f5e2",
   "metadata": {},
   "outputs": [],
   "source": [
    "N = 100"
   ]
  },
  {
   "cell_type": "markdown",
   "id": "5da37ace",
   "metadata": {},
   "source": [
    "# Init"
   ]
  },
  {
   "cell_type": "code",
   "execution_count": 5,
   "id": "78e208b6",
   "metadata": {},
   "outputs": [],
   "source": [
    "J_c = 300*10**6 *h\n",
    "lam = .5"
   ]
  },
  {
   "cell_type": "code",
   "execution_count": 6,
   "id": "d3e4ee4e",
   "metadata": {},
   "outputs": [],
   "source": [
    "t = np.linspace(0, 1000, 20000) #* 10**(-9) #in nano seconds"
   ]
  },
  {
   "cell_type": "markdown",
   "id": "40cb928c",
   "metadata": {},
   "source": [
    "$$\\hat{H} = \\hat{H}^{(0)}_A + \\hat{H}^{(0)}_B + \\hat{V} + \\hat{H}_{drive}$$"
   ]
  },
  {
   "cell_type": "markdown",
   "id": "3982e4be",
   "metadata": {
    "heading_collapsed": true
   },
   "source": [
    "## flxA\n",
    "\n"
   ]
  },
  {
   "cell_type": "markdown",
   "id": "44d4a9d0",
   "metadata": {
    "hidden": true
   },
   "source": [
    "$$\\hat{H}^{(0)}_A = 4 E_{C,A} \\cdot \\hat{n}^2_A + \\frac{1}{2}E_{L,A}\\cdot\\hat{\\varphi}^2_A - E_{J,A}\\cos\\left(\\hat{\\varphi}_A - \\phi_{ext,A}\\right)$$"
   ]
  },
  {
   "cell_type": "code",
   "execution_count": 7,
   "id": "543b9c30",
   "metadata": {
    "hidden": true
   },
   "outputs": [],
   "source": [
    "e_c_A = 1*10**9 *h\n",
    "e_l_A = 1.5*10**9 *h\n",
    "e_j_A = 3.8*10**9 *h\n",
    "  \n",
    "flux_A = 1/2  # 1/2 -> pi dans le cos\n",
    "\n",
    "flxA = pysqkit.qubits.Fluxonium(label = \"QBA\",\n",
    "                               charge_energy=e_c_A,\n",
    "                               induct_energy=e_l_A,\n",
    "                               joseph_energy=e_j_A,\n",
    "                               flux=flux_A,\n",
    "                               basis=None,\n",
    "                               dim_hilbert=N)"
   ]
  },
  {
   "cell_type": "code",
   "execution_count": 8,
   "id": "c8ee40d5",
   "metadata": {
    "hidden": true
   },
   "outputs": [],
   "source": [
    "flxA.diagonlize_basis(num_levels=5)"
   ]
  },
  {
   "cell_type": "code",
   "execution_count": 9,
   "id": "bca0a5ac",
   "metadata": {
    "hidden": true
   },
   "outputs": [
    {
     "data": {
      "text/latex": [
       "Quantum object: dims = [[5], [5]], shape = (5, 5), type = oper, isherm = True\\begin{equation*}\\left(\\begin{array}{*{11}c}2.071\\times10^{-24} & -3.271\\times10^{-40} & -6.766\\times10^{-40} & -2.638\\times10^{-41} & 2.503\\times10^{-39}\\\\-3.271\\times10^{-40} & 2.834\\times10^{-24} & 1.101\\times10^{-39} & 1.445\\times10^{-38} & -7.720\\times10^{-40}\\\\-1.763\\times10^{-39} & 1.101\\times10^{-39} & 5.008\\times10^{-24} & -2.941\\times10^{-40} & -8.744\\times10^{-39}\\\\-2.638\\times10^{-41} & 1.478\\times10^{-38} & -2.941\\times10^{-40} & 7.163\\times10^{-24} & -7.934\\times10^{-40}\\\\2.581\\times10^{-39} & -7.720\\times10^{-40} & -7.800\\times10^{-39} & -7.934\\times10^{-40} & 9.610\\times10^{-24}\\\\\\end{array}\\right)\\end{equation*}"
      ],
      "text/plain": [
       "Quantum object: dims = [[5], [5]], shape = (5, 5), type = oper, isherm = True\n",
       "Qobj data =\n",
       "[[ 2.07104840e-24 -3.27116402e-40 -6.76614217e-40 -2.63797023e-41\n",
       "   2.50341245e-39]\n",
       " [-3.27116402e-40  2.83416879e-24  1.10098039e-39  1.44514164e-38\n",
       "  -7.72046669e-40]\n",
       " [-1.76297870e-39  1.10098039e-39  5.00783767e-24 -2.94141630e-40\n",
       "  -8.74411250e-39]\n",
       " [-2.63797023e-41  1.47780289e-38 -2.94141630e-40  7.16338839e-24\n",
       "  -7.93414787e-40]\n",
       " [ 2.58128059e-39 -7.72046669e-40 -7.79952613e-39 -7.93414787e-40\n",
       "   9.60985683e-24]]"
      ]
     },
     "execution_count": 9,
     "metadata": {},
     "output_type": "execute_result"
    }
   ],
   "source": [
    "flxA.hamiltonian(as_qobj = True)"
   ]
  },
  {
   "cell_type": "code",
   "execution_count": 10,
   "id": "e233ef70",
   "metadata": {
    "hidden": true
   },
   "outputs": [
    {
     "data": {
      "text/plain": [
       "array([ 3.12560598,  4.2772998 ,  7.55777961, 10.81091566, 14.50310188])"
      ]
     },
     "execution_count": 10,
     "metadata": {},
     "output_type": "execute_result"
    }
   ],
   "source": [
    "#Bare energies\n",
    "\n",
    "bare_E_A = flxA.eig_energies(levels = 5)\n",
    "bare_E_A/(h*10**9)"
   ]
  },
  {
   "cell_type": "code",
   "execution_count": 11,
   "id": "225e5d1a",
   "metadata": {
    "hidden": true
   },
   "outputs": [
    {
     "data": {
      "text/plain": [
       "(1.1516938223021471, 3.2804798038301657)"
      ]
     },
     "execution_count": 11,
     "metadata": {},
     "output_type": "execute_result"
    }
   ],
   "source": [
    "# transitions freqs\n",
    "\n",
    "omega_01_A = bare_E_A[1] - bare_E_A[0]\n",
    "omega_12_A = bare_E_A[2] - bare_E_A[1]\n",
    "\n",
    "omega_01_A/(h*10**9) , omega_12_A/(h*10**9) "
   ]
  },
  {
   "cell_type": "code",
   "execution_count": 12,
   "id": "625eeda2",
   "metadata": {
    "hidden": true
   },
   "outputs": [
    {
     "data": {
      "text/plain": [
       "(array([[0.  , 0.25, 0.  , 0.26, 0.  ],\n",
       "        [0.25, 0.  , 0.61, 0.  , 0.18],\n",
       "        [0.  , 0.61, 0.  , 0.75, 0.  ],\n",
       "        [0.26, 0.  , 0.75, 0.  , 0.94],\n",
       "        [0.  , 0.18, 0.  , 0.94, 0.  ]]),\n",
       " 0.24866384335580397,\n",
       " 0.24866384335580402)"
      ]
     },
     "execution_count": 12,
     "metadata": {},
     "output_type": "execute_result"
    }
   ],
   "source": [
    "# mat elements :\n",
    "\n",
    "n_10_A = np.abs(flxA.mat_elements('charge_op', levels = 5)).data[1,0]\n",
    "n_01_A = np.abs(flxA.mat_elements('charge_op', levels = 5)).data[0,1]\n",
    "\n",
    "np.round(np.abs(flxA.mat_elements('charge_op', levels = 5)).data, 2), n_01_A, n_10_A"
   ]
  },
  {
   "cell_type": "markdown",
   "id": "7a7913c9",
   "metadata": {
    "heading_collapsed": true,
    "hidden": true
   },
   "source": [
    "### Rq)"
   ]
  },
  {
   "cell_type": "code",
   "execution_count": null,
   "id": "00cb674e",
   "metadata": {
    "hidden": true
   },
   "outputs": [],
   "source": [
    "plt.figure()\n",
    "for i in range(len(bare_E_A)):\n",
    "    plt.scatter(i, bare_E_A[i])"
   ]
  },
  {
   "cell_type": "code",
   "execution_count": null,
   "id": "081d39f3",
   "metadata": {
    "hidden": true
   },
   "outputs": [],
   "source": [
    "flxA.charge_op(as_qobj = True)"
   ]
  },
  {
   "cell_type": "code",
   "execution_count": null,
   "id": "b0f84240",
   "metadata": {
    "hidden": true
   },
   "outputs": [],
   "source": [
    "flxA.charge_zpf*(create(100) - destroy(100))*1j"
   ]
  },
  {
   "cell_type": "code",
   "execution_count": null,
   "id": "1251af83",
   "metadata": {
    "hidden": true
   },
   "outputs": [],
   "source": [
    "flxA.charge_op(as_qobj = True)"
   ]
  },
  {
   "cell_type": "code",
   "execution_count": null,
   "id": "8c7fde22",
   "metadata": {
    "hidden": true
   },
   "outputs": [],
   "source": [
    "flxA.hamiltonian(as_qobj = True)/(h*10**9)"
   ]
  },
  {
   "cell_type": "markdown",
   "id": "3e37efc4",
   "metadata": {
    "heading_collapsed": true
   },
   "source": [
    "## flxB"
   ]
  },
  {
   "cell_type": "markdown",
   "id": "50832955",
   "metadata": {
    "hidden": true
   },
   "source": [
    "$$\\hat{H}^{(0)}_B = 4 E_{C,B} \\cdot \\hat{n}^2_B + \\frac{1}{2}E_{L,B}\\cdot\\hat{\\varphi}^2_B - E_{J,B}\\cos\\left(\\hat{\\varphi}_B - \\phi_{ext,B}\\right)$$"
   ]
  },
  {
   "cell_type": "code",
   "execution_count": 13,
   "id": "f14a63a4",
   "metadata": {
    "hidden": true
   },
   "outputs": [],
   "source": [
    "e_c_B = 1*10**9 *h\n",
    "e_l_B = .9*10**9 *h\n",
    "e_j_B = 3*10**9 *h\n",
    "\n",
    "flux_B = 1/2\n",
    "\n",
    "flxB = pysqkit.qubits.Fluxonium(label = \"QBB\",\n",
    "                               charge_energy=e_c_B,\n",
    "                               induct_energy=e_l_B,\n",
    "                               joseph_energy=e_j_B,\n",
    "                               flux=flux_B,\n",
    "                               basis=None,\n",
    "                               dim_hilbert=N)"
   ]
  },
  {
   "cell_type": "code",
   "execution_count": 14,
   "id": "e8e200c3",
   "metadata": {
    "hidden": true
   },
   "outputs": [],
   "source": [
    "flxB.diagonlize_basis(num_levels=5)"
   ]
  },
  {
   "cell_type": "code",
   "execution_count": 15,
   "id": "cdf672ac",
   "metadata": {
    "hidden": true
   },
   "outputs": [
    {
     "data": {
      "text/plain": [
       "array([ 2.07847477,  2.92730143,  5.85594017,  8.53943723, 11.62680359])"
      ]
     },
     "execution_count": 15,
     "metadata": {},
     "output_type": "execute_result"
    }
   ],
   "source": [
    "#Bare energies\n",
    "\n",
    "bare_E_B = flxB.eig_energies(levels = 5)\n",
    "bare_E_B/(h*10**9)"
   ]
  },
  {
   "cell_type": "code",
   "execution_count": 16,
   "id": "876068ee",
   "metadata": {
    "hidden": true
   },
   "outputs": [
    {
     "data": {
      "text/plain": [
       "(0.848826660531331, 2.9286387379969727)"
      ]
     },
     "execution_count": 16,
     "metadata": {},
     "output_type": "execute_result"
    }
   ],
   "source": [
    "# transitions freqs\n",
    "\n",
    "omega_01_B = bare_E_B[1] - bare_E_B[0]\n",
    "omega_12_B = bare_E_B[2] - bare_E_B[1]\n",
    "\n",
    "omega_01_B/(h*10**9) , omega_12_B/(h*10**9) "
   ]
  },
  {
   "cell_type": "code",
   "execution_count": 17,
   "id": "f9732ebf",
   "metadata": {
    "hidden": true
   },
   "outputs": [
    {
     "data": {
      "text/plain": [
       "(array([[0.  , 0.21, 0.  , 0.28, 0.  ],\n",
       "        [0.21, 0.  , 0.57, 0.  , 0.17],\n",
       "        [0.  , 0.57, 0.  , 0.67, 0.  ],\n",
       "        [0.28, 0.  , 0.67, 0.  , 0.86],\n",
       "        [0.  , 0.17, 0.  , 0.86, 0.  ]]),\n",
       " 0.20722487336294823,\n",
       " 0.20722487336294826)"
      ]
     },
     "execution_count": 17,
     "metadata": {},
     "output_type": "execute_result"
    }
   ],
   "source": [
    "# mat elements :\n",
    "\n",
    "n_10_B = np.abs(flxB.mat_elements('charge_op', levels = 5)).data[1,0]\n",
    "n_01_B = np.abs(flxB.mat_elements('charge_op', levels = 5)).data[0,1]\n",
    "\n",
    "np.round(np.abs(flxB.mat_elements('charge_op', levels = 5)).data, 2), n_01_B, n_10_B"
   ]
  },
  {
   "cell_type": "markdown",
   "id": "104c8651",
   "metadata": {
    "heading_collapsed": true
   },
   "source": [
    "## coupling\n"
   ]
  },
  {
   "cell_type": "markdown",
   "id": "7d65d63f",
   "metadata": {
    "hidden": true
   },
   "source": [
    "$$\\hat{V} = J_C \\cdot \\hat{n}_A \\cdot \\hat{n}_B$$"
   ]
  },
  {
   "cell_type": "code",
   "execution_count": 18,
   "id": "1da313d7",
   "metadata": {
    "hidden": true
   },
   "outputs": [],
   "source": [
    "g = J_c#J_c/(4*e**2)"
   ]
  },
  {
   "cell_type": "code",
   "execution_count": 19,
   "id": "352bc210",
   "metadata": {
    "hidden": true
   },
   "outputs": [],
   "source": [
    "duo = flxA.couple_to(flxB, pysqkit.couplers.capacitive_coupling, strength = g)"
   ]
  },
  {
   "cell_type": "code",
   "execution_count": 20,
   "id": "33d04693",
   "metadata": {
    "hidden": true
   },
   "outputs": [
    {
     "data": {
      "text/plain": [
       "array([ 5.20384121,  6.05143224,  6.35584504,  7.20120932,  8.9812114 ,\n",
       "        9.63511118, 10.1012304 , 10.5096234 , 11.66444338, 12.78707325,\n",
       "       12.88814298, 13.39053209, 13.77923186, 14.753792  , 15.80925828,\n",
       "       16.15034663, 16.58062423, 16.67231987, 17.46371008, 19.0507949 ,\n",
       "       19.45204948, 20.39850888, 22.35870751, 23.13521456, 26.13904644])"
      ]
     },
     "execution_count": 20,
     "metadata": {},
     "output_type": "execute_result"
    }
   ],
   "source": [
    "duo.eig_energies()/(h*10**9)"
   ]
  },
  {
   "cell_type": "code",
   "execution_count": 21,
   "id": "a9270521",
   "metadata": {
    "hidden": true
   },
   "outputs": [],
   "source": [
    "H_duo_bare = duo.bare_hamiltonian(as_qobj = True)\n",
    "H_duo_int = duo.int_hamiltonian(as_qobj = True)\n"
   ]
  },
  {
   "cell_type": "code",
   "execution_count": 22,
   "id": "f32343ae",
   "metadata": {
    "hidden": true
   },
   "outputs": [],
   "source": [
    "H_duo_tot = qtp.Qobj(H_duo_bare.full() + H_duo_int.full(), dims = H_duo_bare.dims,  #dims = [[25], [25]]\n",
    "                 shape=H_duo_bare.shape,\n",
    "                type='oper',\n",
    "                isherm=True)\n"
   ]
  },
  {
   "cell_type": "code",
   "execution_count": 23,
   "id": "b87b7af2",
   "metadata": {
    "hidden": true
   },
   "outputs": [
    {
     "data": {
      "text/latex": [
       "Quantum object: dims = [[5, 5], [5, 5]], shape = (25, 25), type = oper, isherm = True\\begin{equation*}\\left(\\begin{array}{*{11}c}3.448\\times10^{-24} & -5.121\\times10^{-40} & -3.137\\times10^{-38} & -3.275\\times10^{-40} & -4.625\\times10^{-38} & \\cdots & 2.503\\times10^{-39} & -7.319\\times10^{-42} & 1.762\\times10^{-56} & 9.794\\times10^{-42} & -1.172\\times10^{-56}\\\\-5.121\\times10^{-40} & 4.011\\times10^{-24} & -1.015\\times10^{-39} & -1.050\\times10^{-38} & -8.365\\times10^{-40} & \\cdots & 7.319\\times10^{-42} & 2.503\\times10^{-39} & -2.001\\times10^{-41} & -1.272\\times10^{-56} & 6.111\\times10^{-42}\\\\-3.130\\times10^{-38} & -1.015\\times10^{-39} & 5.951\\times10^{-24} & -3.900\\times10^{-40} & -1.900\\times10^{-37} & \\cdots & -1.762\\times10^{-56} & 2.001\\times10^{-41} & 2.503\\times10^{-39} & 2.375\\times10^{-41} & 7.749\\times10^{-57}\\\\-3.275\\times10^{-40} & -1.071\\times10^{-38} & -3.900\\times10^{-40} & 7.729\\times10^{-24} & 4.850\\times10^{-40} & \\cdots & -9.794\\times10^{-42} & 1.272\\times10^{-56} & -2.375\\times10^{-41} & 2.503\\times10^{-39} & -3.044\\times10^{-41}\\\\-4.641\\times10^{-38} & -8.365\\times10^{-40} & -1.898\\times10^{-37} & 4.850\\times10^{-40} & 9.775\\times10^{-24} & \\cdots & 1.172\\times10^{-56} & -6.111\\times10^{-42} & -7.749\\times10^{-57} & 3.044\\times10^{-41} & 2.503\\times10^{-39}\\\\\\vdots & \\vdots & \\vdots & \\vdots & \\vdots & \\ddots & \\vdots & \\vdots & \\vdots & \\vdots & \\vdots\\\\2.581\\times10^{-39} & 7.319\\times10^{-42} & -1.762\\times10^{-56} & -9.794\\times10^{-42} & 1.172\\times10^{-56} & \\cdots & 1.099\\times10^{-23} & -5.121\\times10^{-40} & -3.137\\times10^{-38} & -3.275\\times10^{-40} & -4.625\\times10^{-38}\\\\-7.319\\times10^{-42} & 2.581\\times10^{-39} & 2.001\\times10^{-41} & 1.272\\times10^{-56} & -6.111\\times10^{-42} & \\cdots & -5.121\\times10^{-40} & 1.155\\times10^{-23} & -1.015\\times10^{-39} & -1.050\\times10^{-38} & -8.365\\times10^{-40}\\\\1.762\\times10^{-56} & -2.001\\times10^{-41} & 2.581\\times10^{-39} & -2.375\\times10^{-41} & -7.749\\times10^{-57} & \\cdots & -3.130\\times10^{-38} & -1.015\\times10^{-39} & 1.349\\times10^{-23} & -3.900\\times10^{-40} & -1.900\\times10^{-37}\\\\9.794\\times10^{-42} & -1.272\\times10^{-56} & 2.375\\times10^{-41} & 2.581\\times10^{-39} & 3.044\\times10^{-41} & \\cdots & -3.275\\times10^{-40} & -1.071\\times10^{-38} & -3.900\\times10^{-40} & 1.527\\times10^{-23} & 4.850\\times10^{-40}\\\\-1.172\\times10^{-56} & 6.111\\times10^{-42} & 7.749\\times10^{-57} & -3.044\\times10^{-41} & 2.581\\times10^{-39} & \\cdots & -4.641\\times10^{-38} & -8.365\\times10^{-40} & -1.898\\times10^{-37} & 4.850\\times10^{-40} & 1.731\\times10^{-23}\\\\\\end{array}\\right)\\end{equation*}"
      ],
      "text/plain": [
       "Quantum object: dims = [[5, 5], [5, 5]], shape = (25, 25), type = oper, isherm = True\n",
       "Qobj data =\n",
       "[[ 3.44826033e-24 -5.12053397e-40 -3.13728510e-38 -3.27505439e-40\n",
       "  -4.62539668e-38 -3.27116402e-40  1.02431091e-26 -2.46617410e-41\n",
       "  -1.37077372e-26  1.64020814e-41 -6.76614217e-40  1.15370178e-41\n",
       "  -2.77770100e-56 -1.54392973e-41  1.84739909e-56 -2.63797023e-41\n",
       "  -1.07174725e-26  2.58038383e-41  1.43425492e-26 -1.71616698e-41\n",
       "   2.50341245e-39 -7.31857251e-42  1.76205035e-56  9.79400562e-42\n",
       "  -1.17190806e-56]\n",
       " [-5.12053397e-40  4.01069882e-24 -1.01535364e-39 -1.04954656e-38\n",
       "  -8.36507238e-40 -1.02431091e-26 -3.27116402e-40  2.80022822e-26\n",
       "   1.78034220e-41 -8.55355550e-27 -1.15370178e-41 -6.76614217e-40\n",
       "   3.15395281e-41  2.00523487e-56 -9.63403989e-42  1.07174725e-26\n",
       "  -2.63797023e-41 -2.92990816e-26 -1.86279072e-41  8.94967484e-27\n",
       "   7.31857251e-42  2.50341245e-39 -2.00072781e-41 -1.27203209e-56\n",
       "   6.11140772e-42]\n",
       " [-3.13033187e-38 -1.01535364e-39  5.95123535e-24 -3.89982140e-40\n",
       "  -1.90032473e-37  2.46617410e-41 -2.80022822e-26 -3.27116402e-40\n",
       "  -3.32367410e-26 -1.08452785e-41  2.77770100e-56 -3.15395281e-41\n",
       "  -6.76614217e-40 -3.74352033e-41 -1.22152532e-56 -2.58038383e-41\n",
       "   2.92990816e-26 -2.63797023e-41  3.47759507e-26  1.13475287e-41\n",
       "  -1.76205035e-56  2.00072781e-41  2.50341245e-39  2.37472330e-41\n",
       "   7.74881496e-57]\n",
       " [-3.27505439e-40 -1.07085808e-38 -3.89982140e-40  7.72933929e-24\n",
       "   4.84970503e-40  1.37077372e-26 -1.78034220e-41  3.32367410e-26\n",
       "  -3.27116402e-40  4.26027281e-26  1.54392973e-41 -2.00523487e-56\n",
       "   3.74352033e-41 -6.76614217e-40  4.79843010e-41 -1.43425492e-26\n",
       "   1.86279072e-41 -3.47759507e-26 -2.63797023e-41 -4.45756813e-26\n",
       "  -9.79400562e-42  1.27203209e-56 -2.37472330e-41  2.50341245e-39\n",
       "  -3.04391129e-41]\n",
       " [-4.64095327e-38 -8.36507238e-40 -1.89767373e-37  4.84970503e-40\n",
       "   9.77504985e-24 -1.64020814e-41  8.55355550e-27  1.08452785e-41\n",
       "  -4.26027281e-26 -3.27116402e-40 -1.84739909e-56  9.63403989e-42\n",
       "   1.22152532e-56 -4.79843010e-41 -6.76614217e-40  1.71616698e-41\n",
       "  -8.94967484e-27 -1.13475287e-41  4.45756813e-26 -2.63797023e-41\n",
       "   1.17190806e-56 -6.11140772e-42 -7.74881496e-57  3.04391129e-41\n",
       "   2.50341245e-39]\n",
       " [-3.27116402e-40 -1.02431091e-26  2.46617410e-41  1.37077372e-26\n",
       "  -1.64020814e-41  4.21138072e-24 -5.12053397e-40 -3.13728510e-38\n",
       "  -3.27505439e-40 -4.62539668e-38  1.10098039e-39 -2.50648350e-26\n",
       "   6.03471526e-41  3.35427619e-26 -4.01358082e-41  1.44514164e-38\n",
       "   6.88051809e-42 -1.65658252e-56 -9.20778373e-42  1.10176331e-56\n",
       "  -7.72046669e-40 -7.57099520e-27  1.82282470e-41  1.01318077e-26\n",
       "  -1.21232799e-41]\n",
       " [ 1.02431091e-26 -3.27116402e-40 -2.80022822e-26 -1.78034220e-41\n",
       "   8.55355550e-27 -5.12053397e-40  4.77381921e-24 -1.01535364e-39\n",
       "  -1.04954656e-38 -8.36507238e-40  2.50648350e-26  1.10098039e-39\n",
       "  -6.85214397e-26 -4.35648814e-41  2.09305060e-26 -6.88051809e-42\n",
       "   1.44514164e-38  1.88097391e-41  1.19589439e-56 -5.74560836e-42\n",
       "   7.57099520e-27 -7.72046669e-40 -2.06973432e-26 -1.31590536e-41\n",
       "   6.32219445e-27]\n",
       " [-2.46617410e-41  2.80022822e-26 -3.27116402e-40  3.32367410e-26\n",
       "   1.08452785e-41 -3.13033187e-38 -1.01535364e-39  6.71435574e-24\n",
       "  -3.89982140e-40 -1.90032473e-37 -6.03471526e-41  6.85214397e-26\n",
       "   1.10098039e-39  8.13301332e-26  2.65383404e-41  1.65658252e-56\n",
       "  -1.88097391e-41  1.44514164e-38 -2.23258383e-41 -7.28500831e-57\n",
       "  -1.82282470e-41  2.06973432e-26 -7.72046669e-40  2.45662917e-26\n",
       "   8.01607701e-42]\n",
       " [-1.37077372e-26  1.78034220e-41 -3.32367410e-26 -3.27116402e-40\n",
       "  -4.26027281e-26 -3.27505439e-40 -1.07085808e-38 -3.89982140e-40\n",
       "   8.49245968e-24  4.84970503e-40 -3.35427619e-26  4.35648814e-41\n",
       "  -8.13301332e-26  1.10098039e-39 -1.04248655e-25  9.20778373e-42\n",
       "  -1.19589439e-56  2.23258383e-41  1.44514164e-38  2.86171745e-41\n",
       "  -1.01318077e-26  1.31590536e-41 -2.45662917e-26 -7.72046669e-40\n",
       "  -3.14889792e-26]\n",
       " [ 1.64020814e-41 -8.55355550e-27 -1.08452785e-41  4.26027281e-26\n",
       "  -3.27116402e-40 -4.64095327e-38 -8.36507238e-40 -1.89767373e-37\n",
       "   4.84970503e-40  1.05381702e-23  4.01358082e-41 -2.09305060e-26\n",
       "  -2.65383404e-41  1.04248655e-25  1.10098039e-39 -1.10176331e-56\n",
       "   5.74560836e-42  7.28500831e-57 -2.86171745e-41  1.44514164e-38\n",
       "   1.21232799e-41 -6.32219445e-27 -8.01607701e-42  3.14889792e-26\n",
       "  -7.72046669e-40]\n",
       " [-1.76297870e-39 -1.15370178e-41  2.77770100e-56  1.54392973e-41\n",
       "  -1.84739909e-56  1.10098039e-39  2.50648350e-26 -6.03471526e-41\n",
       "  -3.35427619e-26  4.01358082e-41  6.38504960e-24 -5.12053397e-40\n",
       "  -3.13728510e-38 -3.27505439e-40 -4.62539668e-38 -2.94141630e-40\n",
       "   3.08179684e-26 -7.41986389e-41 -4.12418344e-26  4.93481832e-41\n",
       "  -8.74411250e-39  1.82132290e-41 -4.38509373e-56 -2.43736694e-41\n",
       "   2.91644715e-56]\n",
       " [ 1.15370178e-41 -1.76297870e-39 -3.15395281e-41 -2.00523487e-56\n",
       "   9.63403989e-42 -2.50648350e-26  1.10098039e-39  6.85214397e-26\n",
       "   4.35648814e-41 -2.09305060e-26 -5.12053397e-40  6.94748809e-24\n",
       "  -1.01535364e-39 -1.04954656e-38 -8.36507238e-40 -3.08179684e-26\n",
       "  -2.94141630e-40  8.42491707e-26  5.35643318e-41 -2.57346866e-26\n",
       "  -1.82132290e-41 -8.74411250e-39  4.97907395e-41  3.16561893e-56\n",
       "  -1.52090408e-41]\n",
       " [-2.77770100e-56  3.15395281e-41 -1.76297870e-39  3.74352033e-41\n",
       "   1.22152532e-56  6.03471526e-41 -6.85214397e-26  1.10098039e-39\n",
       "  -8.13301332e-26 -2.65383404e-41 -3.13033187e-38 -1.01535364e-39\n",
       "   8.88802462e-24 -3.89982140e-40 -1.90032473e-37  7.41986389e-41\n",
       "  -8.42491707e-26 -2.94141630e-40 -9.99978445e-26 -3.26296876e-41\n",
       "   4.38509373e-56 -4.97907395e-41 -8.74411250e-39 -5.90981085e-41\n",
       "  -1.92839438e-56]\n",
       " [-1.54392973e-41  2.00523487e-56 -3.74352033e-41 -1.76297870e-39\n",
       "  -4.79843010e-41  3.35427619e-26 -4.35648814e-41  8.13301332e-26\n",
       "   1.10098039e-39  1.04248655e-25 -3.27505439e-40 -1.07085808e-38\n",
       "  -3.89982140e-40  1.06661286e-23  4.84970503e-40  4.12418344e-26\n",
       "  -5.35643318e-41  9.99978445e-26 -2.94141630e-40  1.28176856e-25\n",
       "   2.43736694e-41 -3.16561893e-56  5.90981085e-41 -8.74411250e-39\n",
       "   7.57517305e-41]\n",
       " [ 1.84739909e-56 -9.63403989e-42 -1.22152532e-56  4.79843010e-41\n",
       "  -1.76297870e-39 -4.01358082e-41  2.09305060e-26  2.65383404e-41\n",
       "  -1.04248655e-25  1.10098039e-39 -4.64095327e-38 -8.36507238e-40\n",
       "  -1.89767373e-37  4.84970503e-40  1.27118391e-23 -4.93481832e-41\n",
       "   2.57346866e-26  3.26296876e-41 -1.28176856e-25 -2.94141630e-40\n",
       "  -2.91644715e-56  1.52090408e-41  1.92839438e-56 -7.57517305e-41\n",
       "  -8.74411250e-39]\n",
       " [-2.63797023e-41  1.07174725e-26 -2.58038383e-41 -1.43425492e-26\n",
       "   1.71616698e-41  1.47780289e-38 -6.88051809e-42  1.65658252e-56\n",
       "   9.20778373e-42 -1.10176331e-56 -2.94141630e-40 -3.08179684e-26\n",
       "   7.41986389e-41  4.12418344e-26 -4.93481832e-41  8.54060033e-24\n",
       "  -5.12053397e-40 -3.13728510e-38 -3.27505439e-40 -4.62539668e-38\n",
       "  -7.93414787e-40  3.88427114e-26 -9.35193484e-41 -5.19808656e-26\n",
       "   6.21980403e-41]\n",
       " [-1.07174725e-26 -2.63797023e-41  2.92990816e-26  1.86279072e-41\n",
       "  -8.94967484e-27  6.88051809e-42  1.47780289e-38 -1.88097391e-41\n",
       "  -1.19589439e-56  5.74560836e-42  3.08179684e-26 -2.94141630e-40\n",
       "  -8.42491707e-26 -5.35643318e-41  2.57346866e-26 -5.12053397e-40\n",
       "   9.10303881e-24 -1.01535364e-39 -1.04954656e-38 -8.36507238e-40\n",
       "  -3.88427114e-26 -7.93414787e-40  1.06186955e-25  6.75120390e-41\n",
       "  -3.24357853e-26]\n",
       " [ 2.58038383e-41 -2.92990816e-26 -2.63797023e-41 -3.47759507e-26\n",
       "  -1.13475287e-41 -1.65658252e-56  1.88097391e-41  1.47780289e-38\n",
       "   2.23258383e-41  7.28500831e-57 -7.41986389e-41  8.42491707e-26\n",
       "  -2.94141630e-40  9.99978445e-26  3.26296876e-41 -3.13033187e-38\n",
       "  -1.01535364e-39  1.10435753e-23 -3.89982140e-40 -1.90032473e-37\n",
       "   9.35193484e-41 -1.06186955e-25 -7.93414787e-40 -1.26036453e-25\n",
       "  -4.11261873e-41]\n",
       " [ 1.43425492e-26 -1.86279072e-41  3.47759507e-26 -2.63797023e-41\n",
       "   4.45756813e-26 -9.20778373e-42  1.19589439e-56 -2.23258383e-41\n",
       "   1.47780289e-38 -2.86171745e-41 -4.12418344e-26  5.35643318e-41\n",
       "  -9.99978445e-26 -2.94141630e-40 -1.28176856e-25 -3.27505439e-40\n",
       "  -1.07085808e-38 -3.89982140e-40  1.28216793e-23  4.84970503e-40\n",
       "   5.19808656e-26 -6.75120390e-41  1.26036453e-25 -7.93414787e-40\n",
       "   1.61553046e-25]\n",
       " [-1.71616698e-41  8.94967484e-27  1.13475287e-41 -4.45756813e-26\n",
       "  -2.63797023e-41  1.10176331e-56 -5.74560836e-42 -7.28500831e-57\n",
       "   2.86171745e-41  1.47780289e-38  4.93481832e-41 -2.57346866e-26\n",
       "  -3.26296876e-41  1.28176856e-25 -2.94141630e-40 -4.64095327e-38\n",
       "  -8.36507238e-40 -1.89767373e-37  4.84970503e-40  1.48673898e-23\n",
       "  -6.21980403e-41  3.24357853e-26  4.11261873e-41 -1.61553046e-25\n",
       "  -7.93414787e-40]\n",
       " [ 2.58128059e-39  7.31857251e-42 -1.76205035e-56 -9.79400562e-42\n",
       "   1.17190806e-56 -7.72046669e-40  7.57099520e-27 -1.82282470e-41\n",
       "  -1.01318077e-26  1.21232799e-41 -7.79952613e-39 -1.82132290e-41\n",
       "   4.38509373e-56  2.43736694e-41 -2.91644715e-56 -7.93414787e-40\n",
       "  -3.88427114e-26  9.35193484e-41  5.19808656e-26 -6.21980403e-41\n",
       "   1.09870688e-23 -5.12053397e-40 -3.13728510e-38 -3.27505439e-40\n",
       "  -4.62539668e-38]\n",
       " [-7.31857251e-42  2.58128059e-39  2.00072781e-41  1.27203209e-56\n",
       "  -6.11140772e-42 -7.57099520e-27 -7.72046669e-40  2.06973432e-26\n",
       "   1.31590536e-41 -6.32219445e-27  1.82132290e-41 -7.79952613e-39\n",
       "  -4.97907395e-41 -3.16561893e-56  1.52090408e-41  3.88427114e-26\n",
       "  -7.93414787e-40 -1.06186955e-25 -6.75120390e-41  3.24357853e-26\n",
       "  -5.12053397e-40  1.15495072e-23 -1.01535364e-39 -1.04954656e-38\n",
       "  -8.36507238e-40]\n",
       " [ 1.76205035e-56 -2.00072781e-41  2.58128059e-39 -2.37472330e-41\n",
       "  -7.74881496e-57  1.82282470e-41 -2.06973432e-26 -7.72046669e-40\n",
       "  -2.45662917e-26 -8.01607701e-42 -4.38509373e-56  4.97907395e-41\n",
       "  -7.79952613e-39  5.90981085e-41  1.92839438e-56 -9.35193484e-41\n",
       "   1.06186955e-25 -7.93414787e-40  1.26036453e-25  4.11261873e-41\n",
       "  -3.13033187e-38 -1.01535364e-39  1.34900438e-23 -3.89982140e-40\n",
       "  -1.90032473e-37]\n",
       " [ 9.79400562e-42 -1.27203209e-56  2.37472330e-41  2.58128059e-39\n",
       "   3.04391129e-41  1.01318077e-26 -1.31590536e-41  2.45662917e-26\n",
       "  -7.72046669e-40  3.14889792e-26 -2.43736694e-41  3.16561893e-56\n",
       "  -5.90981085e-41 -7.79952613e-39 -7.57517305e-41 -5.19808656e-26\n",
       "   6.75120390e-41 -1.26036453e-25 -7.93414787e-40 -1.61553046e-25\n",
       "  -3.27505439e-40 -1.07085808e-38 -3.89982140e-40  1.52681477e-23\n",
       "   4.84970503e-40]\n",
       " [-1.17190806e-56  6.11140772e-42  7.74881496e-57 -3.04391129e-41\n",
       "   2.58128059e-39 -1.21232799e-41  6.32219445e-27  8.01607701e-42\n",
       "  -3.14889792e-26 -7.72046669e-40  2.91644715e-56 -1.52090408e-41\n",
       "  -1.92839438e-56  7.57517305e-41 -7.79952613e-39  6.21980403e-41\n",
       "  -3.24357853e-26 -4.11261873e-41  1.61553046e-25 -7.93414787e-40\n",
       "  -4.64095327e-38 -8.36507238e-40 -1.89767373e-37  4.84970503e-40\n",
       "   1.73138583e-23]]"
      ]
     },
     "execution_count": 23,
     "metadata": {},
     "output_type": "execute_result"
    }
   ],
   "source": [
    "H_duo_tot"
   ]
  },
  {
   "cell_type": "markdown",
   "id": "f65f4adb",
   "metadata": {
    "heading_collapsed": true,
    "hidden": true
   },
   "source": [
    "### rqs"
   ]
  },
  {
   "cell_type": "code",
   "execution_count": null,
   "id": "610ebd56",
   "metadata": {
    "hidden": true
   },
   "outputs": [],
   "source": [
    "duo.bare_hamiltonian(), duo.int_hamiltonian()"
   ]
  },
  {
   "cell_type": "code",
   "execution_count": null,
   "id": "2286d9f7",
   "metadata": {
    "hidden": true
   },
   "outputs": [],
   "source": [
    "#Bare energies\n",
    "\n",
    "bare_E_duo = la.eig(duo.bare_hamiltonian())[0].real/h #in Hz\n",
    "bare_E_duo.sort()\n",
    "bare_E_duo = bare_E_duo[:5]*10**(-9)  #in GHz\n",
    "\n",
    "int_E_duo = la.eig(duo.int_hamiltonian())[0].real/h\n",
    "int_E_duo.sort()\n",
    "int_E_duo = int_E_duo[:5]*10**(-9)"
   ]
  },
  {
   "cell_type": "code",
   "execution_count": null,
   "id": "b2444090",
   "metadata": {
    "hidden": true
   },
   "outputs": [],
   "source": [
    "fig, axs = plt.subplots(1,2, figsize = (10,5))\n",
    "\n",
    "axs[0].scatter(range(len(bare_E_duo)), bare_E_duo, c = 'r', label = 'bare')    \n",
    "axs[1].scatter(range(len(int_E_duo)), int_E_duo, c = 'b', label = 'int')\n",
    "\n",
    "axs[0].legend()\n",
    "axs[1].legend()\n",
    "\n",
    "axs[0].set_ylabel(\"E (GHz)\")\n",
    "axs[1].set_ylabel(\"E (GHz)\")"
   ]
  },
  {
   "cell_type": "code",
   "execution_count": null,
   "id": "d9213eb7",
   "metadata": {
    "hidden": true
   },
   "outputs": [],
   "source": [
    "E_duo = bare_E_duo + int_E_duo\n",
    "E_duo.sort()\n",
    "\n",
    "plt.figure()\n",
    "plt.scatter(range(len(E_duo)), E_duo)\n",
    "\n",
    "plt.annotate(\"  |00>\", (0,E_duo[0]))\n",
    "plt.annotate(\"  |01>\", (1,E_duo[1]))\n",
    "plt.annotate(\"  |10>\", (2,E_duo[2]))\n",
    "plt.annotate(\"  |11>\", (3,E_duo[3]))\n",
    "plt.annotate(\"  |??>\", (4,E_duo[4]))\n",
    "\n",
    "\n",
    "\n",
    "\n",
    "plt.ylabel('E (GHz)')"
   ]
  },
  {
   "cell_type": "code",
   "execution_count": null,
   "id": "015ab0b6",
   "metadata": {
    "hidden": true
   },
   "outputs": [],
   "source": [
    "print(\"Ground =\", E_duo[0], \"GHz\\n1st state =\", E_duo[1], \"GHz\\n2nd state =\", E_duo[2], \"GHz\" )\n",
    "\n",
    "print(\"\\n\\nomega 00->01 =\", E_duo[1]-E_duo[0], \"GHz\\nomega 01->10 =\", E_duo[2] - E_duo[1], \"GHz\\nomega 10->11 =\", E_duo[3]-E_duo[2], \"GHz\"\n",
    "     )"
   ]
  },
  {
   "cell_type": "code",
   "execution_count": null,
   "id": "ce5ac804",
   "metadata": {
    "hidden": true
   },
   "outputs": [],
   "source": [
    "duo.hamiltonian()"
   ]
  },
  {
   "cell_type": "markdown",
   "id": "b92c0de7",
   "metadata": {
    "heading_collapsed": true
   },
   "source": [
    "## Drive"
   ]
  },
  {
   "cell_type": "markdown",
   "id": "7d077590",
   "metadata": {
    "hidden": true
   },
   "source": [
    "$$\\hat{H}_{drive} = 2  f\\left( t \\right)  \\cos \\left( \\omega_d t + \\gamma_d\\right) \\cdot \\left( \\eta_A \\cdot \\hat{n}_A + \\eta_B \\cdot \\hat{n}_B \\right)$$\n",
    "\n",
    "$$f\\left( t \\right) = f_0 \\cdot \\dfrac{f\\left( t \\right)}{f_0}$$"
   ]
  },
  {
   "cell_type": "code",
   "execution_count": 24,
   "id": "9d10beb0",
   "metadata": {
    "hidden": true
   },
   "outputs": [],
   "source": [
    "f_0 = lam/2 * np.abs(omega_01_A - omega_01_B) / (n_10_A)"
   ]
  },
  {
   "cell_type": "code",
   "execution_count": 25,
   "id": "eb6398da",
   "metadata": {
    "hidden": true
   },
   "outputs": [],
   "source": [
    "t_rise = 25*10**(-9)\n",
    "sigma = t_rise/2\n",
    "\n",
    "f_by_f0 = np.exp(- (t-t_rise)**2 / (2*sigma**2)) - np.exp(-t_rise**2 /(2*sigma**2))*np.ones(len(t))"
   ]
  },
  {
   "cell_type": "code",
   "execution_count": 26,
   "id": "737f2244",
   "metadata": {
    "hidden": true
   },
   "outputs": [],
   "source": [
    "f = f_0 * f_by_f0\n",
    "\n",
    "omega_d = 2*pi * 1.15 *10**9\n",
    "gamma_d = 0\n",
    "\n",
    "eta_1 = 1\n",
    "eta_2 = 1"
   ]
  },
  {
   "cell_type": "code",
   "execution_count": 27,
   "id": "0144b480",
   "metadata": {
    "hidden": true
   },
   "outputs": [],
   "source": [
    "n_A = flxA.charge_op(as_qobj = True)\n",
    "n_B = flxB.charge_op(as_qobj = True)"
   ]
  },
  {
   "cell_type": "code",
   "execution_count": 30,
   "id": "66884c9e",
   "metadata": {
    "hidden": true
   },
   "outputs": [],
   "source": [
    "drive = qtp.tensor(n_A, qtp.qeye(5)) + qtp.tensor(qtp.qeye(5), n_B)"
   ]
  },
  {
   "cell_type": "code",
   "execution_count": 31,
   "id": "1252ee23",
   "metadata": {
    "hidden": true
   },
   "outputs": [
    {
     "data": {
      "text/latex": [
       "Quantum object: dims = [[5, 5], [5, 5]], shape = (25, 25), type = oper, isherm = True\\begin{equation*}\\left(\\begin{array}{*{11}c}0.0 & -0.207j & 0.0 & 0.277j & 0.0 & \\cdots & 0.0 & 0.0 & 0.0 & 0.0 & 0.0\\\\0.207j & 0.0 & -0.567j & 0.0 & 0.173j & \\cdots & 0.0 & 0.0 & 0.0 & 0.0 & 0.0\\\\0.0 & 0.567j & 0.0 & 0.672j & 0.0 & \\cdots & 0.0 & 0.0 & 0.0 & 0.0 & 0.0\\\\-0.277j & 0.0 & -0.672j & 0.0 & -0.862j & \\cdots & 0.0 & 0.0 & 0.0 & 0.0 & 0.0\\\\0.0 & -0.173j & 0.0 & 0.862j & 0.0 & \\cdots & 0.0 & 0.0 & 0.0 & 0.0 & 0.0\\\\\\vdots & \\vdots & \\vdots & \\vdots & \\vdots & \\ddots & \\vdots & \\vdots & \\vdots & \\vdots & \\vdots\\\\0.0 & 0.0 & 0.0 & 0.0 & 0.0 & \\cdots & 0.0 & -0.207j & 0.0 & 0.277j & 0.0\\\\0.0 & 0.0 & 0.0 & 0.0 & 0.0 & \\cdots & 0.207j & 0.0 & -0.567j & 0.0 & 0.173j\\\\0.0 & 0.0 & 0.0 & 0.0 & 0.0 & \\cdots & 0.0 & 0.567j & 0.0 & 0.672j & 0.0\\\\0.0 & 0.0 & 0.0 & 0.0 & 0.0 & \\cdots & -0.277j & 0.0 & -0.672j & 0.0 & -0.862j\\\\0.0 & 0.0 & 0.0 & 0.0 & 0.0 & \\cdots & 0.0 & -0.173j & 0.0 & 0.862j & 0.0\\\\\\end{array}\\right)\\end{equation*}"
      ],
      "text/plain": [
       "Quantum object: dims = [[5, 5], [5, 5]], shape = (25, 25), type = oper, isherm = True\n",
       "Qobj data =\n",
       "[[0.+0.j         0.-0.20722487j 0.+0.j         0.+0.27731659j\n",
       "  0.+0.j         0.+0.24866384j 0.+0.j         0.+0.j\n",
       "  0.+0.j         0.+0.j         0.+0.j         0.+0.j\n",
       "  0.+0.j         0.+0.j         0.+0.j         0.-0.26017959j\n",
       "  0.+0.j         0.+0.j         0.+0.j         0.+0.j\n",
       "  0.+0.j         0.+0.j         0.+0.j         0.+0.j\n",
       "  0.+0.j        ]\n",
       " [0.+0.20722487j 0.+0.j         0.-0.56650469j 0.+0.j\n",
       "  0.+0.17304409j 0.+0.j         0.+0.24866384j 0.+0.j\n",
       "  0.+0.j         0.+0.j         0.+0.j         0.+0.j\n",
       "  0.+0.j         0.+0.j         0.+0.j         0.+0.j\n",
       "  0.-0.26017959j 0.+0.j         0.+0.j         0.+0.j\n",
       "  0.+0.j         0.+0.j         0.+0.j         0.+0.j\n",
       "  0.+0.j        ]\n",
       " [0.+0.j         0.+0.56650469j 0.+0.j         0.+0.67240126j\n",
       "  0.+0.j         0.+0.j         0.+0.j         0.+0.24866384j\n",
       "  0.+0.j         0.+0.j         0.+0.j         0.+0.j\n",
       "  0.+0.j         0.+0.j         0.+0.j         0.+0.j\n",
       "  0.+0.j         0.-0.26017959j 0.+0.j         0.+0.j\n",
       "  0.+0.j         0.+0.j         0.+0.j         0.+0.j\n",
       "  0.+0.j        ]\n",
       " [0.-0.27731659j 0.+0.j         0.-0.67240126j 0.+0.j\n",
       "  0.-0.86188137j 0.+0.j         0.+0.j         0.+0.j\n",
       "  0.+0.24866384j 0.+0.j         0.+0.j         0.+0.j\n",
       "  0.+0.j         0.+0.j         0.+0.j         0.+0.j\n",
       "  0.+0.j         0.+0.j         0.-0.26017959j 0.+0.j\n",
       "  0.+0.j         0.+0.j         0.+0.j         0.+0.j\n",
       "  0.+0.j        ]\n",
       " [0.+0.j         0.-0.17304409j 0.+0.j         0.+0.86188137j\n",
       "  0.+0.j         0.+0.j         0.+0.j         0.+0.j\n",
       "  0.+0.j         0.+0.24866384j 0.+0.j         0.+0.j\n",
       "  0.+0.j         0.+0.j         0.+0.j         0.+0.j\n",
       "  0.+0.j         0.+0.j         0.+0.j         0.-0.26017959j\n",
       "  0.+0.j         0.+0.j         0.+0.j         0.+0.j\n",
       "  0.+0.j        ]\n",
       " [0.-0.24866384j 0.+0.j         0.+0.j         0.+0.j\n",
       "  0.+0.j         0.+0.j         0.-0.20722487j 0.+0.j\n",
       "  0.+0.27731659j 0.+0.j         0.-0.60847914j 0.+0.j\n",
       "  0.+0.j         0.+0.j         0.+0.j         0.+0.j\n",
       "  0.+0.j         0.+0.j         0.+0.j         0.+0.j\n",
       "  0.-0.18379505j 0.+0.j         0.+0.j         0.+0.j\n",
       "  0.+0.j        ]\n",
       " [0.+0.j         0.-0.24866384j 0.+0.j         0.+0.j\n",
       "  0.+0.j         0.+0.20722487j 0.+0.j         0.-0.56650469j\n",
       "  0.+0.j         0.+0.17304409j 0.+0.j         0.-0.60847914j\n",
       "  0.+0.j         0.+0.j         0.+0.j         0.+0.j\n",
       "  0.+0.j         0.+0.j         0.+0.j         0.+0.j\n",
       "  0.+0.j         0.-0.18379505j 0.+0.j         0.+0.j\n",
       "  0.+0.j        ]\n",
       " [0.+0.j         0.+0.j         0.-0.24866384j 0.+0.j\n",
       "  0.+0.j         0.+0.j         0.+0.56650469j 0.+0.j\n",
       "  0.+0.67240126j 0.+0.j         0.+0.j         0.+0.j\n",
       "  0.-0.60847914j 0.+0.j         0.+0.j         0.+0.j\n",
       "  0.+0.j         0.+0.j         0.+0.j         0.+0.j\n",
       "  0.+0.j         0.+0.j         0.-0.18379505j 0.+0.j\n",
       "  0.+0.j        ]\n",
       " [0.+0.j         0.+0.j         0.+0.j         0.-0.24866384j\n",
       "  0.+0.j         0.-0.27731659j 0.+0.j         0.-0.67240126j\n",
       "  0.+0.j         0.-0.86188137j 0.+0.j         0.+0.j\n",
       "  0.+0.j         0.-0.60847914j 0.+0.j         0.+0.j\n",
       "  0.+0.j         0.+0.j         0.+0.j         0.+0.j\n",
       "  0.+0.j         0.+0.j         0.+0.j         0.-0.18379505j\n",
       "  0.+0.j        ]\n",
       " [0.+0.j         0.+0.j         0.+0.j         0.+0.j\n",
       "  0.-0.24866384j 0.+0.j         0.-0.17304409j 0.+0.j\n",
       "  0.+0.86188137j 0.+0.j         0.+0.j         0.+0.j\n",
       "  0.+0.j         0.+0.j         0.-0.60847914j 0.+0.j\n",
       "  0.+0.j         0.+0.j         0.+0.j         0.+0.j\n",
       "  0.+0.j         0.+0.j         0.+0.j         0.+0.j\n",
       "  0.-0.18379505j]\n",
       " [0.+0.j         0.+0.j         0.+0.j         0.+0.j\n",
       "  0.+0.j         0.+0.60847914j 0.+0.j         0.+0.j\n",
       "  0.+0.j         0.+0.j         0.+0.j         0.-0.20722487j\n",
       "  0.+0.j         0.+0.27731659j 0.+0.j         0.+0.7481434j\n",
       "  0.+0.j         0.+0.j         0.+0.j         0.+0.j\n",
       "  0.+0.j         0.+0.j         0.+0.j         0.+0.j\n",
       "  0.+0.j        ]\n",
       " [0.+0.j         0.+0.j         0.+0.j         0.+0.j\n",
       "  0.+0.j         0.+0.j         0.+0.60847914j 0.+0.j\n",
       "  0.+0.j         0.+0.j         0.+0.20722487j 0.+0.j\n",
       "  0.-0.56650469j 0.+0.j         0.+0.17304409j 0.+0.j\n",
       "  0.+0.7481434j  0.+0.j         0.+0.j         0.+0.j\n",
       "  0.+0.j         0.+0.j         0.+0.j         0.+0.j\n",
       "  0.+0.j        ]\n",
       " [0.+0.j         0.+0.j         0.+0.j         0.+0.j\n",
       "  0.+0.j         0.+0.j         0.+0.j         0.+0.60847914j\n",
       "  0.+0.j         0.+0.j         0.+0.j         0.+0.56650469j\n",
       "  0.+0.j         0.+0.67240126j 0.+0.j         0.+0.j\n",
       "  0.+0.j         0.+0.7481434j  0.+0.j         0.+0.j\n",
       "  0.+0.j         0.+0.j         0.+0.j         0.+0.j\n",
       "  0.+0.j        ]\n",
       " [0.+0.j         0.+0.j         0.+0.j         0.+0.j\n",
       "  0.+0.j         0.+0.j         0.+0.j         0.+0.j\n",
       "  0.+0.60847914j 0.+0.j         0.-0.27731659j 0.+0.j\n",
       "  0.-0.67240126j 0.+0.j         0.-0.86188137j 0.+0.j\n",
       "  0.+0.j         0.+0.j         0.+0.7481434j  0.+0.j\n",
       "  0.+0.j         0.+0.j         0.+0.j         0.+0.j\n",
       "  0.+0.j        ]\n",
       " [0.+0.j         0.+0.j         0.+0.j         0.+0.j\n",
       "  0.+0.j         0.+0.j         0.+0.j         0.+0.j\n",
       "  0.+0.j         0.+0.60847914j 0.+0.j         0.-0.17304409j\n",
       "  0.+0.j         0.+0.86188137j 0.+0.j         0.+0.j\n",
       "  0.+0.j         0.+0.j         0.+0.j         0.+0.7481434j\n",
       "  0.+0.j         0.+0.j         0.+0.j         0.+0.j\n",
       "  0.+0.j        ]\n",
       " [0.+0.26017959j 0.+0.j         0.+0.j         0.+0.j\n",
       "  0.+0.j         0.+0.j         0.+0.j         0.+0.j\n",
       "  0.+0.j         0.+0.j         0.-0.7481434j  0.+0.j\n",
       "  0.+0.j         0.+0.j         0.+0.j         0.+0.j\n",
       "  0.-0.20722487j 0.+0.j         0.+0.27731659j 0.+0.j\n",
       "  0.+0.94295373j 0.+0.j         0.+0.j         0.+0.j\n",
       "  0.+0.j        ]\n",
       " [0.+0.j         0.+0.26017959j 0.+0.j         0.+0.j\n",
       "  0.+0.j         0.+0.j         0.+0.j         0.+0.j\n",
       "  0.+0.j         0.+0.j         0.+0.j         0.-0.7481434j\n",
       "  0.+0.j         0.+0.j         0.+0.j         0.+0.20722487j\n",
       "  0.+0.j         0.-0.56650469j 0.+0.j         0.+0.17304409j\n",
       "  0.+0.j         0.+0.94295373j 0.+0.j         0.+0.j\n",
       "  0.+0.j        ]\n",
       " [0.+0.j         0.+0.j         0.+0.26017959j 0.+0.j\n",
       "  0.+0.j         0.+0.j         0.+0.j         0.+0.j\n",
       "  0.+0.j         0.+0.j         0.+0.j         0.+0.j\n",
       "  0.-0.7481434j  0.+0.j         0.+0.j         0.+0.j\n",
       "  0.+0.56650469j 0.+0.j         0.+0.67240126j 0.+0.j\n",
       "  0.+0.j         0.+0.j         0.+0.94295373j 0.+0.j\n",
       "  0.+0.j        ]\n",
       " [0.+0.j         0.+0.j         0.+0.j         0.+0.26017959j\n",
       "  0.+0.j         0.+0.j         0.+0.j         0.+0.j\n",
       "  0.+0.j         0.+0.j         0.+0.j         0.+0.j\n",
       "  0.+0.j         0.-0.7481434j  0.+0.j         0.-0.27731659j\n",
       "  0.+0.j         0.-0.67240126j 0.+0.j         0.-0.86188137j\n",
       "  0.+0.j         0.+0.j         0.+0.j         0.+0.94295373j\n",
       "  0.+0.j        ]\n",
       " [0.+0.j         0.+0.j         0.+0.j         0.+0.j\n",
       "  0.+0.26017959j 0.+0.j         0.+0.j         0.+0.j\n",
       "  0.+0.j         0.+0.j         0.+0.j         0.+0.j\n",
       "  0.+0.j         0.+0.j         0.-0.7481434j  0.+0.j\n",
       "  0.-0.17304409j 0.+0.j         0.+0.86188137j 0.+0.j\n",
       "  0.+0.j         0.+0.j         0.+0.j         0.+0.j\n",
       "  0.+0.94295373j]\n",
       " [0.+0.j         0.+0.j         0.+0.j         0.+0.j\n",
       "  0.+0.j         0.+0.18379505j 0.+0.j         0.+0.j\n",
       "  0.+0.j         0.+0.j         0.+0.j         0.+0.j\n",
       "  0.+0.j         0.+0.j         0.+0.j         0.-0.94295373j\n",
       "  0.+0.j         0.+0.j         0.+0.j         0.+0.j\n",
       "  0.+0.j         0.-0.20722487j 0.+0.j         0.+0.27731659j\n",
       "  0.+0.j        ]\n",
       " [0.+0.j         0.+0.j         0.+0.j         0.+0.j\n",
       "  0.+0.j         0.+0.j         0.+0.18379505j 0.+0.j\n",
       "  0.+0.j         0.+0.j         0.+0.j         0.+0.j\n",
       "  0.+0.j         0.+0.j         0.+0.j         0.+0.j\n",
       "  0.-0.94295373j 0.+0.j         0.+0.j         0.+0.j\n",
       "  0.+0.20722487j 0.+0.j         0.-0.56650469j 0.+0.j\n",
       "  0.+0.17304409j]\n",
       " [0.+0.j         0.+0.j         0.+0.j         0.+0.j\n",
       "  0.+0.j         0.+0.j         0.+0.j         0.+0.18379505j\n",
       "  0.+0.j         0.+0.j         0.+0.j         0.+0.j\n",
       "  0.+0.j         0.+0.j         0.+0.j         0.+0.j\n",
       "  0.+0.j         0.-0.94295373j 0.+0.j         0.+0.j\n",
       "  0.+0.j         0.+0.56650469j 0.+0.j         0.+0.67240126j\n",
       "  0.+0.j        ]\n",
       " [0.+0.j         0.+0.j         0.+0.j         0.+0.j\n",
       "  0.+0.j         0.+0.j         0.+0.j         0.+0.j\n",
       "  0.+0.18379505j 0.+0.j         0.+0.j         0.+0.j\n",
       "  0.+0.j         0.+0.j         0.+0.j         0.+0.j\n",
       "  0.+0.j         0.+0.j         0.-0.94295373j 0.+0.j\n",
       "  0.-0.27731659j 0.+0.j         0.-0.67240126j 0.+0.j\n",
       "  0.-0.86188137j]\n",
       " [0.+0.j         0.+0.j         0.+0.j         0.+0.j\n",
       "  0.+0.j         0.+0.j         0.+0.j         0.+0.j\n",
       "  0.+0.j         0.+0.18379505j 0.+0.j         0.+0.j\n",
       "  0.+0.j         0.+0.j         0.+0.j         0.+0.j\n",
       "  0.+0.j         0.+0.j         0.+0.j         0.-0.94295373j\n",
       "  0.+0.j         0.-0.17304409j 0.+0.j         0.+0.86188137j\n",
       "  0.+0.j        ]]"
      ]
     },
     "execution_count": 31,
     "metadata": {},
     "output_type": "execute_result"
    }
   ],
   "source": [
    "drive"
   ]
  },
  {
   "cell_type": "code",
   "execution_count": 32,
   "id": "3d84c3c5",
   "metadata": {
    "hidden": true
   },
   "outputs": [],
   "source": [
    "pulse = 2 * f * np.cos(omega_d*t)"
   ]
  },
  {
   "cell_type": "markdown",
   "id": "2148c272",
   "metadata": {
    "heading_collapsed": true,
    "hidden": true
   },
   "source": [
    "### Rq)"
   ]
  },
  {
   "cell_type": "markdown",
   "id": "5ed652fd",
   "metadata": {},
   "source": [
    "# Simu"
   ]
  },
  {
   "cell_type": "markdown",
   "id": "7cb1bcd3",
   "metadata": {},
   "source": [
    "##  With Solver"
   ]
  },
  {
   "cell_type": "code",
   "execution_count": 34,
   "id": "65b47005",
   "metadata": {},
   "outputs": [],
   "source": [
    "time =  t\n",
    "state_init = qtp.tensor(qtp.Qobj(np.ones(5)/np.sqrt(5)), qtp.Qobj(np.array([1,0,0,0,0])))  \n",
    "#the first is in superposition of 0 through 4 and the second at ground\n",
    "\n",
    "hamil = H_duo_tot\n",
    "drive_solver = [drive]\n",
    "pulse_solver = [pulse]\n",
    "jump = []\n",
    "solver = pysqkit.solvers.solvkit.supported_solvers[0]"
   ]
  },
  {
   "cell_type": "code",
   "execution_count": 35,
   "id": "148d2273",
   "metadata": {},
   "outputs": [
    {
     "data": {
      "text/latex": [
       "Quantum object: dims = [[5, 5], [1, 1]], shape = (25, 1), type = ket\\begin{equation*}\\left(\\begin{array}{*{11}c}0.447\\\\0.0\\\\0.0\\\\0.0\\\\0.0\\\\\\vdots\\\\0.447\\\\0.0\\\\0.0\\\\0.0\\\\0.0\\\\\\end{array}\\right)\\end{equation*}"
      ],
      "text/plain": [
       "Quantum object: dims = [[5, 5], [1, 1]], shape = (25, 1), type = ket\n",
       "Qobj data =\n",
       "[[0.4472136]\n",
       " [0.       ]\n",
       " [0.       ]\n",
       " [0.       ]\n",
       " [0.       ]\n",
       " [0.4472136]\n",
       " [0.       ]\n",
       " [0.       ]\n",
       " [0.       ]\n",
       " [0.       ]\n",
       " [0.4472136]\n",
       " [0.       ]\n",
       " [0.       ]\n",
       " [0.       ]\n",
       " [0.       ]\n",
       " [0.4472136]\n",
       " [0.       ]\n",
       " [0.       ]\n",
       " [0.       ]\n",
       " [0.       ]\n",
       " [0.4472136]\n",
       " [0.       ]\n",
       " [0.       ]\n",
       " [0.       ]\n",
       " [0.       ]]"
      ]
     },
     "execution_count": 35,
     "metadata": {},
     "output_type": "execute_result"
    }
   ],
   "source": [
    "state_init"
   ]
  },
  {
   "cell_type": "code",
   "execution_count": 36,
   "id": "4c970adb",
   "metadata": {},
   "outputs": [],
   "source": [
    "res = integrate(time, state_init, hamil, drive_solver, pulse_solver, jump, solver)"
   ]
  },
  {
   "cell_type": "code",
   "execution_count": 37,
   "id": "f4a56953",
   "metadata": {},
   "outputs": [
    {
     "data": {
      "text/latex": [
       "Quantum object: dims = [[5, 5], [1, 1]], shape = (25, 1), type = ket\\begin{equation*}\\left(\\begin{array}{*{11}c}0.447\\\\-4.231\\times10^{-24}\\\\-1.813\\times10^{-47}\\\\5.662\\times10^{-24}\\\\-7.214\\times10^{-47}\\\\\\vdots\\\\0.447\\\\-4.231\\times10^{-24}\\\\-1.813\\times10^{-47}\\\\5.662\\times10^{-24}\\\\-7.214\\times10^{-47}\\\\\\end{array}\\right)\\end{equation*}"
      ],
      "text/plain": [
       "Quantum object: dims = [[5, 5], [1, 1]], shape = (25, 1), type = ket\n",
       "Qobj data =\n",
       "[[ 4.47213595e-01]\n",
       " [-4.23102543e-24]\n",
       " [-1.81281047e-47]\n",
       " [ 5.66212697e-24]\n",
       " [-7.21388035e-47]\n",
       " [ 4.47213595e-01]\n",
       " [-4.23102543e-24]\n",
       " [-1.81281047e-47]\n",
       " [ 5.66212697e-24]\n",
       " [-7.21388035e-47]\n",
       " [ 4.47213595e-01]\n",
       " [-4.23102543e-24]\n",
       " [-1.81281047e-47]\n",
       " [ 5.66212697e-24]\n",
       " [-7.21388035e-47]\n",
       " [ 4.47213595e-01]\n",
       " [-4.23102543e-24]\n",
       " [-1.81281047e-47]\n",
       " [ 5.66212697e-24]\n",
       " [-7.21388035e-47]\n",
       " [ 4.47213595e-01]\n",
       " [-4.23102543e-24]\n",
       " [-1.81281047e-47]\n",
       " [ 5.66212697e-24]\n",
       " [-7.21388035e-47]]"
      ]
     },
     "execution_count": 37,
     "metadata": {},
     "output_type": "execute_result"
    }
   ],
   "source": [
    "res.states[-1]"
   ]
  },
  {
   "cell_type": "markdown",
   "id": "75f991ee",
   "metadata": {},
   "source": [
    "# Interpretation"
   ]
  },
  {
   "cell_type": "code",
   "execution_count": 51,
   "id": "5b7b3fb6",
   "metadata": {},
   "outputs": [
    {
     "ename": "TypeError",
     "evalue": "Invalid operand types",
     "output_type": "error",
     "traceback": [
      "\u001b[1;31m---------------------------------------------------------------------------\u001b[0m",
      "\u001b[1;31mTypeError\u001b[0m                                 Traceback (most recent call last)",
      "\u001b[1;32m<ipython-input-51-eefb6ed2e7fa>\u001b[0m in \u001b[0;36m<module>\u001b[1;34m\u001b[0m\n\u001b[0;32m      6\u001b[0m \u001b[1;33m\u001b[0m\u001b[0m\n\u001b[0;32m      7\u001b[0m \u001b[1;32mfor\u001b[0m \u001b[0mk\u001b[0m \u001b[1;32min\u001b[0m \u001b[0mrange\u001b[0m\u001b[1;33m(\u001b[0m\u001b[0mlen\u001b[0m\u001b[1;33m(\u001b[0m\u001b[0mt\u001b[0m\u001b[1;33m)\u001b[0m\u001b[1;33m)\u001b[0m\u001b[1;33m:\u001b[0m\u001b[1;33m\u001b[0m\u001b[1;33m\u001b[0m\u001b[0m\n\u001b[1;32m----> 8\u001b[1;33m     \u001b[0mexpect_val\u001b[0m\u001b[1;33m[\u001b[0m\u001b[0mk\u001b[0m\u001b[1;33m]\u001b[0m \u001b[1;33m=\u001b[0m \u001b[0mqtp\u001b[0m\u001b[1;33m.\u001b[0m\u001b[0mexpect\u001b[0m\u001b[1;33m(\u001b[0m\u001b[0mop\u001b[0m\u001b[1;33m,\u001b[0m \u001b[0mres\u001b[0m\u001b[1;33m.\u001b[0m\u001b[0mstates\u001b[0m\u001b[1;33m[\u001b[0m\u001b[0mk\u001b[0m\u001b[1;33m]\u001b[0m\u001b[1;33m)\u001b[0m\u001b[1;33m\u001b[0m\u001b[1;33m\u001b[0m\u001b[0m\n\u001b[0m",
      "\u001b[1;32m~\\anaconda3\\lib\\site-packages\\qutip\\expect.py\u001b[0m in \u001b[0;36mexpect\u001b[1;34m(oper, state)\u001b[0m\n\u001b[0;32m     72\u001b[0m     '''\n\u001b[0;32m     73\u001b[0m     \u001b[1;32mif\u001b[0m \u001b[0misinstance\u001b[0m\u001b[1;33m(\u001b[0m\u001b[0mstate\u001b[0m\u001b[1;33m,\u001b[0m \u001b[0mQobj\u001b[0m\u001b[1;33m)\u001b[0m \u001b[1;32mand\u001b[0m \u001b[0misinstance\u001b[0m\u001b[1;33m(\u001b[0m\u001b[0moper\u001b[0m\u001b[1;33m,\u001b[0m \u001b[0mQobj\u001b[0m\u001b[1;33m)\u001b[0m\u001b[1;33m:\u001b[0m\u001b[1;33m\u001b[0m\u001b[1;33m\u001b[0m\u001b[0m\n\u001b[1;32m---> 74\u001b[1;33m         \u001b[1;32mreturn\u001b[0m \u001b[0m_single_qobj_expect\u001b[0m\u001b[1;33m(\u001b[0m\u001b[0moper\u001b[0m\u001b[1;33m,\u001b[0m \u001b[0mstate\u001b[0m\u001b[1;33m)\u001b[0m\u001b[1;33m\u001b[0m\u001b[1;33m\u001b[0m\u001b[0m\n\u001b[0m\u001b[0;32m     75\u001b[0m \u001b[1;33m\u001b[0m\u001b[0m\n\u001b[0;32m     76\u001b[0m     \u001b[1;32melif\u001b[0m \u001b[0misinstance\u001b[0m\u001b[1;33m(\u001b[0m\u001b[0moper\u001b[0m\u001b[1;33m,\u001b[0m \u001b[0mQobj\u001b[0m\u001b[1;33m)\u001b[0m \u001b[1;32mand\u001b[0m \u001b[0misinstance\u001b[0m\u001b[1;33m(\u001b[0m\u001b[0mstate\u001b[0m\u001b[1;33m,\u001b[0m \u001b[0meseries\u001b[0m\u001b[1;33m)\u001b[0m\u001b[1;33m:\u001b[0m\u001b[1;33m\u001b[0m\u001b[1;33m\u001b[0m\u001b[0m\n",
      "\u001b[1;32m~\\anaconda3\\lib\\site-packages\\qutip\\expect.py\u001b[0m in \u001b[0;36m_single_qobj_expect\u001b[1;34m(oper, state)\u001b[0m\n\u001b[0;32m    119\u001b[0m                                  oper.isherm)\n\u001b[0;32m    120\u001b[0m     \u001b[1;32melse\u001b[0m\u001b[1;33m:\u001b[0m\u001b[1;33m\u001b[0m\u001b[1;33m\u001b[0m\u001b[0m\n\u001b[1;32m--> 121\u001b[1;33m         \u001b[1;32mraise\u001b[0m \u001b[0mTypeError\u001b[0m\u001b[1;33m(\u001b[0m\u001b[1;34m'Invalid operand types'\u001b[0m\u001b[1;33m)\u001b[0m\u001b[1;33m\u001b[0m\u001b[1;33m\u001b[0m\u001b[0m\n\u001b[0m\u001b[0;32m    122\u001b[0m \u001b[1;33m\u001b[0m\u001b[0m\n\u001b[0;32m    123\u001b[0m \u001b[1;33m\u001b[0m\u001b[0m\n",
      "\u001b[1;31mTypeError\u001b[0m: Invalid operand types"
     ]
    }
   ],
   "source": [
    "mat = qtp.fock(25,0) * qtp.fock(25,0).trans()\n",
    "\n",
    "op = qtp.Qobj(mat)\n",
    "\n",
    "expect_val = np.zeros(len(t)) \n",
    "\n",
    "for k in range(len(t)):\n",
    "    expect_val[k] = qtp.expect(op, res.states[k])"
   ]
  },
  {
   "cell_type": "code",
   "execution_count": 50,
   "id": "11f55167",
   "metadata": {},
   "outputs": [
    {
     "data": {
      "text/latex": [
       "Quantum object: dims = [[25], [25]], shape = (25, 25), type = oper, isherm = True\\begin{equation*}\\left(\\begin{array}{*{11}c}1.0 & 0.0 & 0.0 & 0.0 & 0.0 & \\cdots & 0.0 & 0.0 & 0.0 & 0.0 & 0.0\\\\0.0 & 0.0 & 0.0 & 0.0 & 0.0 & \\cdots & 0.0 & 0.0 & 0.0 & 0.0 & 0.0\\\\0.0 & 0.0 & 0.0 & 0.0 & 0.0 & \\cdots & 0.0 & 0.0 & 0.0 & 0.0 & 0.0\\\\0.0 & 0.0 & 0.0 & 0.0 & 0.0 & \\cdots & 0.0 & 0.0 & 0.0 & 0.0 & 0.0\\\\0.0 & 0.0 & 0.0 & 0.0 & 0.0 & \\cdots & 0.0 & 0.0 & 0.0 & 0.0 & 0.0\\\\\\vdots & \\vdots & \\vdots & \\vdots & \\vdots & \\ddots & \\vdots & \\vdots & \\vdots & \\vdots & \\vdots\\\\0.0 & 0.0 & 0.0 & 0.0 & 0.0 & \\cdots & 0.0 & 0.0 & 0.0 & 0.0 & 0.0\\\\0.0 & 0.0 & 0.0 & 0.0 & 0.0 & \\cdots & 0.0 & 0.0 & 0.0 & 0.0 & 0.0\\\\0.0 & 0.0 & 0.0 & 0.0 & 0.0 & \\cdots & 0.0 & 0.0 & 0.0 & 0.0 & 0.0\\\\0.0 & 0.0 & 0.0 & 0.0 & 0.0 & \\cdots & 0.0 & 0.0 & 0.0 & 0.0 & 0.0\\\\0.0 & 0.0 & 0.0 & 0.0 & 0.0 & \\cdots & 0.0 & 0.0 & 0.0 & 0.0 & 0.0\\\\\\end{array}\\right)\\end{equation*}"
      ],
      "text/plain": [
       "Quantum object: dims = [[25], [25]], shape = (25, 25), type = oper, isherm = True\n",
       "Qobj data =\n",
       "[[1. 0. 0. 0. 0. 0. 0. 0. 0. 0. 0. 0. 0. 0. 0. 0. 0. 0. 0. 0. 0. 0. 0. 0.\n",
       "  0.]\n",
       " [0. 0. 0. 0. 0. 0. 0. 0. 0. 0. 0. 0. 0. 0. 0. 0. 0. 0. 0. 0. 0. 0. 0. 0.\n",
       "  0.]\n",
       " [0. 0. 0. 0. 0. 0. 0. 0. 0. 0. 0. 0. 0. 0. 0. 0. 0. 0. 0. 0. 0. 0. 0. 0.\n",
       "  0.]\n",
       " [0. 0. 0. 0. 0. 0. 0. 0. 0. 0. 0. 0. 0. 0. 0. 0. 0. 0. 0. 0. 0. 0. 0. 0.\n",
       "  0.]\n",
       " [0. 0. 0. 0. 0. 0. 0. 0. 0. 0. 0. 0. 0. 0. 0. 0. 0. 0. 0. 0. 0. 0. 0. 0.\n",
       "  0.]\n",
       " [0. 0. 0. 0. 0. 0. 0. 0. 0. 0. 0. 0. 0. 0. 0. 0. 0. 0. 0. 0. 0. 0. 0. 0.\n",
       "  0.]\n",
       " [0. 0. 0. 0. 0. 0. 0. 0. 0. 0. 0. 0. 0. 0. 0. 0. 0. 0. 0. 0. 0. 0. 0. 0.\n",
       "  0.]\n",
       " [0. 0. 0. 0. 0. 0. 0. 0. 0. 0. 0. 0. 0. 0. 0. 0. 0. 0. 0. 0. 0. 0. 0. 0.\n",
       "  0.]\n",
       " [0. 0. 0. 0. 0. 0. 0. 0. 0. 0. 0. 0. 0. 0. 0. 0. 0. 0. 0. 0. 0. 0. 0. 0.\n",
       "  0.]\n",
       " [0. 0. 0. 0. 0. 0. 0. 0. 0. 0. 0. 0. 0. 0. 0. 0. 0. 0. 0. 0. 0. 0. 0. 0.\n",
       "  0.]\n",
       " [0. 0. 0. 0. 0. 0. 0. 0. 0. 0. 0. 0. 0. 0. 0. 0. 0. 0. 0. 0. 0. 0. 0. 0.\n",
       "  0.]\n",
       " [0. 0. 0. 0. 0. 0. 0. 0. 0. 0. 0. 0. 0. 0. 0. 0. 0. 0. 0. 0. 0. 0. 0. 0.\n",
       "  0.]\n",
       " [0. 0. 0. 0. 0. 0. 0. 0. 0. 0. 0. 0. 0. 0. 0. 0. 0. 0. 0. 0. 0. 0. 0. 0.\n",
       "  0.]\n",
       " [0. 0. 0. 0. 0. 0. 0. 0. 0. 0. 0. 0. 0. 0. 0. 0. 0. 0. 0. 0. 0. 0. 0. 0.\n",
       "  0.]\n",
       " [0. 0. 0. 0. 0. 0. 0. 0. 0. 0. 0. 0. 0. 0. 0. 0. 0. 0. 0. 0. 0. 0. 0. 0.\n",
       "  0.]\n",
       " [0. 0. 0. 0. 0. 0. 0. 0. 0. 0. 0. 0. 0. 0. 0. 0. 0. 0. 0. 0. 0. 0. 0. 0.\n",
       "  0.]\n",
       " [0. 0. 0. 0. 0. 0. 0. 0. 0. 0. 0. 0. 0. 0. 0. 0. 0. 0. 0. 0. 0. 0. 0. 0.\n",
       "  0.]\n",
       " [0. 0. 0. 0. 0. 0. 0. 0. 0. 0. 0. 0. 0. 0. 0. 0. 0. 0. 0. 0. 0. 0. 0. 0.\n",
       "  0.]\n",
       " [0. 0. 0. 0. 0. 0. 0. 0. 0. 0. 0. 0. 0. 0. 0. 0. 0. 0. 0. 0. 0. 0. 0. 0.\n",
       "  0.]\n",
       " [0. 0. 0. 0. 0. 0. 0. 0. 0. 0. 0. 0. 0. 0. 0. 0. 0. 0. 0. 0. 0. 0. 0. 0.\n",
       "  0.]\n",
       " [0. 0. 0. 0. 0. 0. 0. 0. 0. 0. 0. 0. 0. 0. 0. 0. 0. 0. 0. 0. 0. 0. 0. 0.\n",
       "  0.]\n",
       " [0. 0. 0. 0. 0. 0. 0. 0. 0. 0. 0. 0. 0. 0. 0. 0. 0. 0. 0. 0. 0. 0. 0. 0.\n",
       "  0.]\n",
       " [0. 0. 0. 0. 0. 0. 0. 0. 0. 0. 0. 0. 0. 0. 0. 0. 0. 0. 0. 0. 0. 0. 0. 0.\n",
       "  0.]\n",
       " [0. 0. 0. 0. 0. 0. 0. 0. 0. 0. 0. 0. 0. 0. 0. 0. 0. 0. 0. 0. 0. 0. 0. 0.\n",
       "  0.]\n",
       " [0. 0. 0. 0. 0. 0. 0. 0. 0. 0. 0. 0. 0. 0. 0. 0. 0. 0. 0. 0. 0. 0. 0. 0.\n",
       "  0.]]"
      ]
     },
     "execution_count": 50,
     "metadata": {},
     "output_type": "execute_result"
    }
   ],
   "source": [
    "mat"
   ]
  }
 ],
 "metadata": {
  "kernelspec": {
   "display_name": "Python 3",
   "language": "python",
   "name": "python3"
  },
  "language_info": {
   "codemirror_mode": {
    "name": "ipython",
    "version": 3
   },
   "file_extension": ".py",
   "mimetype": "text/x-python",
   "name": "python",
   "nbconvert_exporter": "python",
   "pygments_lexer": "ipython3",
   "version": "3.7.10"
  },
  "toc": {
   "base_numbering": 1,
   "nav_menu": {},
   "number_sections": true,
   "sideBar": true,
   "skip_h1_title": false,
   "title_cell": "Table of Contents",
   "title_sidebar": "Contents",
   "toc_cell": false,
   "toc_position": {},
   "toc_section_display": true,
   "toc_window_display": false
  }
 },
 "nbformat": 4,
 "nbformat_minor": 5
}
