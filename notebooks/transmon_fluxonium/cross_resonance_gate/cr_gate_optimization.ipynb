{
 "cells": [
  {
   "cell_type": "markdown",
   "metadata": {},
   "source": [
    "# Cross-resonance gate between a transmon and a fluxonium: optimization"
   ]
  },
  {
   "cell_type": "code",
   "execution_count": 20,
   "metadata": {},
   "outputs": [],
   "source": [
    "import numpy as np\n",
    "import scipy.integrate\n",
    "import time\n",
    "import qutip as qtp\n",
    "import matplotlib.pyplot as plt\n",
    "from scipy.optimize import minimize\n",
    "import pysqkit\n",
    "from pysqkit import QubitSystem\n",
    "from pysqkit.drives.pulse_shapes import gaussian_top\n",
    "from pysqkit.util.metrics import average_process_fidelity, \\\n",
    "    average_gate_fidelity\n",
    "from pysqkit.util.phys import temperature_to_thermalenergy\n",
    "from pysqkit.util.quantum import generalized_rabi_frequency\n",
    "import pysqkit.util.transformations as trf\n",
    "from pysqkit.util.linalg import get_mat_elem\n",
    "from pysqkit.solvers.solvkit import integrate\n",
    "from pysqkit.util.hsbasis import pauli_by_index\n",
    "from pysqkit.solvers import solvkit\n",
    "from pysqkit.drives.pulse_shapes import gaussian_top\n",
    "import qutip\n",
    "from typing import List, Dict, Callable\n",
    "import matplotlib\n",
    "matplotlib.rcParams['mathtext.fontset'] = 'cm'\n",
    "import util_tf_cr\n",
    "import copy\n",
    "import json\n",
    "import cmath\n",
    "\n",
    "from IPython.display import display, Latex"
   ]
  },
  {
   "cell_type": "code",
   "execution_count": 21,
   "metadata": {},
   "outputs": [],
   "source": [
    "def func_to_minimize(\n",
    "    pulse_time: list,\n",
    "    t_rise: float,\n",
    "    cr_coeff: float\n",
    ") -> float:\n",
    "    step = 1e-3\n",
    "    n_points = int(pulse_time[0]/step)\n",
    "    times = np.linspace(0, pulse_time[0], n_points)\n",
    "    pulse = gaussian_top(times, t_rise, pulse_time[0])\n",
    "    integral = scipy.integrate.simpson(2*np.pi*cr_coeff*pulse, times)\n",
    "    return np.abs(integral - np.pi/4)  \n",
    "\n",
    "def cry(theta):\n",
    "    ide = np.identity(4)\n",
    "    yz = np.kron(np.array([[0, -1j], [1j, 0]]), np.array([[1, 0], [0, -1]]))\n",
    "    return np.cos(theta/2)*ide - 1j*np.sin(theta/2)*yz\n",
    "\n",
    "def crx(theta):\n",
    "    ide = np.identity(4)\n",
    "    zx = np.kron(np.array([[0, 1], [1, 0]]), np.array([[1, 0], [0, -1]]))\n",
    "    return np.cos(theta/2)*ide - 1j*np.sin(theta/2)*zx\n",
    "\n",
    "def ry_t(theta):\n",
    "    rot_y = np.cos(theta/2)*np.identity(2) - 1j*np.sin(theta/2)*np.array([[0, -1j], [1j, 0]])\n",
    "    return np.kron(rot_y, np.identity(2))\n",
    "\n",
    "def ry_f(theta):\n",
    "    rot_y = np.cos(theta/2)*np.identity(2) - 1j*np.sin(theta/2)*np.array([[0, -1j], [1j, 0]])\n",
    "    return np.kron(np.identity(2), rot_y)\n",
    "\n",
    "def optimal_sup_op(\n",
    "    sup_op_target: np.ndarray,\n",
    "    sup_op: np.ndarray,\n",
    "    hs_basis: Callable[[int, int], np.ndarray] = pauli_by_index\n",
    "):\n",
    "    sq_corr = util_tf_cr.single_qubit_corrections(sup_op, hs_basis)\n",
    "    sq_corr_sup = trf.kraus_to_super(sq_corr, hs_basis)\n",
    "    total_sup_op = sq_corr_sup.dot(sup_op)\n",
    "    fid_list_ry = []\n",
    "    theta_list = list(np.linspace(0, 2*np.pi, 200))\n",
    "    for theta in theta_list:\n",
    "        rot_y_super = trf.kraus_to_super(ry_t(theta), hs_basis)\n",
    "        fid_list_ry.append(average_process_fidelity(sup_op_target, rot_y_super.dot(total_sup_op)))\n",
    "\n",
    "    fid_ry = np.array(fid_list_ry)\n",
    "\n",
    "    max_index = np.argmax(fid_ry)\n",
    "    sup_rot_y_opt = trf.kraus_to_super(ry_t(theta_list[max_index]), hs_basis)\n",
    "    total_sup_op_ry = sup_rot_y_opt.dot(total_sup_op)\n",
    "    \n",
    "    return total_sup_op_ry, theta_list[max_index]\n",
    "\n",
    "def get_corrected_sup_op(\n",
    "    sup_op: np.ndarray,\n",
    "    theta_y: float, \n",
    "    hs_basis: Callable[[int, int], np.ndarray] = pauli_by_index\n",
    ") -> np.ndarray:\n",
    "    sq_corr = util_tf_cr.single_qubit_corrections(sup_op, hs_basis)\n",
    "    sq_corr_sup = trf.kraus_to_super(sq_corr, hs_basis)\n",
    "    total_sup_op = sq_corr_sup.dot(sup_op)\n",
    "    sup_rot_y_opt = trf.kraus_to_super(ry_t(theta_y), hs_basis)\n",
    "    total_sup_op_ry = sup_rot_y_opt.dot(total_sup_op)\n",
    "    return total_sup_op_ry\n",
    "    \n",
    "    "
   ]
  },
  {
   "cell_type": "code",
   "execution_count": 22,
   "metadata": {},
   "outputs": [],
   "source": [
    "def get_initial_params() -> dict:\n",
    "    \n",
    "    with open('../flx_transm_params.txt') as param_file:\n",
    "        parameters_set = json.load(param_file)\n",
    "    temperature = 0.020 #0.020 # K\n",
    "    thermal_energy = temperature_to_thermalenergy(temperature) # kb T/h in GHz\n",
    "    d_comp = 4\n",
    "\n",
    "    p_set = \"3\"\n",
    "\n",
    "\n",
    "    #Transmon\n",
    "    levels_t = 3\n",
    "    transm = pysqkit.qubits.SimpleTransmon(\n",
    "        label='T', \n",
    "        max_freq=parameters_set[p_set][\"max_freq_t\"], \n",
    "        anharm=parameters_set[p_set][\"anharm_t\"],\n",
    "        diel_loss_tan=parameters_set[p_set][\"diel_loss_tan_t\"],\n",
    "        env_thermal_energy=thermal_energy,    \n",
    "        dim_hilbert=levels_t,\n",
    "        dephasing_times=None \n",
    "    )\n",
    "\n",
    "    #Fluxonium\n",
    "    levels_f = 4\n",
    "\n",
    "    flx = pysqkit.qubits.Fluxonium(\n",
    "        label='F', \n",
    "        charge_energy=parameters_set[p_set][\"charge_energy_f\"], \n",
    "        induct_energy=parameters_set[p_set][\"induct_energy_f\"], \n",
    "        joseph_energy=parameters_set[p_set][\"joseph_energy_f\"], \n",
    "        diel_loss_tan=parameters_set[p_set][\"diel_loss_tan_f\"], \n",
    "        env_thermal_energy=thermal_energy,\n",
    "        dephasing_times=None, \n",
    "        dim_hilbert=100\n",
    "    )\n",
    "    flx.diagonalize_basis(levels_f)\n",
    "\n",
    "    # We also add a drive on the fluxonium\n",
    "    flx.add_drive(\n",
    "        pysqkit.drives.microwave_drive,\n",
    "        label='cr_drive_f',\n",
    "        pulse=pysqkit.drives.pulses.cos_modulation,\n",
    "        pulse_shape=pysqkit.drives.pulse_shapes.gaussian_top\n",
    "    )\n",
    "\n",
    "    d_leak = levels_t*levels_f - d_comp\n",
    "\n",
    "    jc = parameters_set[p_set][\"jc\"]\n",
    "    coupled_sys = transm.couple_to(flx, coupling=pysqkit.couplers.capacitive_coupling, \n",
    "                                   strength=jc)\n",
    "    \n",
    "\n",
    "    states_label = coupled_sys.all_state_labels()\n",
    "    states_dict = coupled_sys.states_as_dict(as_qobj=True)\n",
    "    \n",
    "    state_label = [\"00\", \"01\", \"10\", \"11\"]\n",
    "    comp_states = {}\n",
    "    for label in state_label:\n",
    "        state_tmp = coupled_sys.state(label)[1]\n",
    "        loc = np.argmax(np.abs(state_tmp))\n",
    "        phase = cmath.phase(state_tmp[loc])\n",
    "        state_tmp = np.exp(-1j*phase)*state_tmp\n",
    "        comp_states[label] = state_tmp\n",
    "    \n",
    "    op = coupled_sys[\"F\"].charge_op()\n",
    "    freq_drive = transm.max_freq\n",
    "    \n",
    "    eps = 0.3\n",
    "    \n",
    "    t_rise = 10.0 # [ns]\n",
    "    t_gate_0 = [200]\n",
    "    cr_coeff = np.abs(util_tf_cr.mu_yz_flx(comp_states, op, eps))\n",
    "\n",
    "    args_to_pass = (t_rise, cr_coeff) \n",
    "\n",
    "\n",
    "    start = time.time()\n",
    "\n",
    "    minimization_result = minimize(func_to_minimize, t_gate_0, args=args_to_pass)\n",
    "\n",
    "    end = time.time()\n",
    "\n",
    "    t_gate = minimization_result['x'][0] #1/(util.y_z_flx(coupled_sys, 'F')*eps_drive*4)  # [ns]\n",
    "    pts_per_drive_period = 10\n",
    "\n",
    "    nb_points = int(t_gate*freq_drive*pts_per_drive_period)\n",
    "    tlist = np.linspace(0, t_gate, nb_points)\n",
    "\n",
    "    coupled_sys['F'].drives['cr_drive_f'].set_params(phase=0, time=tlist, rise_time=t_rise, pulse_time=t_gate,\n",
    "                                                     amp=eps, freq=freq_drive)\n",
    "    \n",
    "    simu_opt = qtp.solver.Options()\n",
    "    simu_opt.atol = 1e-12\n",
    "    simu_opt.rtol = 1e-10\n",
    "    \n",
    "    my_hs_basis = pauli_by_index\n",
    "\n",
    "    env_syst = pysqkit.tomography.TomoEnv(system=coupled_sys, time=2*np.pi*tlist, \n",
    "                                          options=simu_opt, with_noise=False)\n",
    "    \n",
    "    comp_states_list = []\n",
    "    for key in comp_states.keys():\n",
    "        comp_states_list.append(comp_states[key])\n",
    "    \n",
    "    avg_leakage = env_syst.leakage(comp_states_list)\n",
    "    \n",
    "    sup_op = env_syst.to_super(comp_states_list, my_hs_basis, n_process=4, speed_up=True)\n",
    "    \n",
    "    cr_super_target = trf.kraus_to_super(cry(-np.pi/2), my_hs_basis)\n",
    "    \n",
    "    opt_sup_op, theta_y = optimal_sup_op(cr_super_target, sup_op)\n",
    "    \n",
    "    f_gate = average_gate_fidelity(cr_super_target, opt_sup_op, avg_leakage)\n",
    "    \n",
    "    params = {}\n",
    "    params[\"freq_drive\"] = freq_drive\n",
    "    params[\"eps\"] = eps\n",
    "    params[\"rise_time\"] = t_rise\n",
    "    params[\"gate_time\"] = t_gate\n",
    "    params[\"phase_drive\"] = 0.0\n",
    "    params[\"theta_y\"] = theta_y\n",
    "    params[\"f_gate\"] = f_gate\n",
    "    \n",
    "    return params"
   ]
  },
  {
   "cell_type": "code",
   "execution_count": 23,
   "metadata": {},
   "outputs": [
    {
     "name": "stdout",
     "output_type": "stream",
     "text": [
      "Computation time = 286.07391262054443 s \n"
     ]
    }
   ],
   "source": [
    "start = time.time()\n",
    "\n",
    "params_in = get_initial_params()\n",
    "\n",
    "end = time.time()\n",
    "\n",
    "print(\"Computation time = {} s \".format(end - start))"
   ]
  },
  {
   "cell_type": "code",
   "execution_count": 25,
   "metadata": {},
   "outputs": [],
   "source": [
    "params_in\n",
    "params_in_list = []\n",
    "params_in_list.append(params_in[\"gate_time\"])\n",
    "params_in_list.append(params_in[\"rise_time\"])"
   ]
  },
  {
   "cell_type": "code",
   "execution_count": 26,
   "metadata": {},
   "outputs": [
    {
     "data": {
      "text/plain": [
       "{'freq_drive': 5.5,\n",
       " 'eps': 0.3,\n",
       " 'rise_time': 10.0,\n",
       " 'gate_time': 301.68856998890726,\n",
       " 'phase_drive': 0.0,\n",
       " 'theta_y': 0.12629518205386103,\n",
       " 'f_gate': 0.9876638688911411}"
      ]
     },
     "execution_count": 26,
     "metadata": {},
     "output_type": "execute_result"
    }
   ],
   "source": [
    "params_in"
   ]
  },
  {
   "cell_type": "code",
   "execution_count": 32,
   "metadata": {},
   "outputs": [],
   "source": [
    "def get_infidelity(\n",
    "    params: list\n",
    ") -> dict:\n",
    "    with open('../flx_transm_params.txt') as param_file:\n",
    "        parameters_set = json.load(param_file)\n",
    "    temperature = 0.020 #0.020 # K\n",
    "    thermal_energy = temperature_to_thermalenergy(temperature) # kb T/h in GHz\n",
    "    d_comp = 4\n",
    "    \n",
    "    eps = 0.3\n",
    "    \n",
    "    t_gate = params[0]\n",
    "    t_rise = params[1]\n",
    "\n",
    "\n",
    "    p_set = \"3\"\n",
    "\n",
    "\n",
    "    #Transmon\n",
    "    levels_t = 3\n",
    "    transm = pysqkit.qubits.SimpleTransmon(\n",
    "        label='T', \n",
    "        max_freq=parameters_set[p_set][\"max_freq_t\"], \n",
    "        anharm=parameters_set[p_set][\"anharm_t\"],\n",
    "        diel_loss_tan=parameters_set[p_set][\"diel_loss_tan_t\"],\n",
    "        env_thermal_energy=thermal_energy,    \n",
    "        dim_hilbert=levels_t,\n",
    "        dephasing_times=None \n",
    "    )\n",
    "    \n",
    "    freq_drive = transm.freq\n",
    "    \n",
    "\n",
    "    #Fluxonium\n",
    "    levels_f = 4\n",
    "\n",
    "    flx = pysqkit.qubits.Fluxonium(\n",
    "        label='F', \n",
    "        charge_energy=parameters_set[p_set][\"charge_energy_f\"], \n",
    "        induct_energy=parameters_set[p_set][\"induct_energy_f\"], \n",
    "        joseph_energy=parameters_set[p_set][\"joseph_energy_f\"], \n",
    "        diel_loss_tan=parameters_set[p_set][\"diel_loss_tan_f\"], \n",
    "        env_thermal_energy=thermal_energy,\n",
    "        dephasing_times=None, \n",
    "        dim_hilbert=100\n",
    "    )\n",
    "    flx.diagonalize_basis(levels_f)\n",
    "\n",
    "    # We also add a drive on the fluxonium\n",
    "    flx.add_drive(\n",
    "        pysqkit.drives.microwave_drive,\n",
    "        label='cr_drive_f',\n",
    "        pulse=pysqkit.drives.pulses.cos_modulation,\n",
    "        pulse_shape=pysqkit.drives.pulse_shapes.gaussian_top\n",
    "    )\n",
    "\n",
    "    d_leak = levels_t*levels_f - d_comp\n",
    "\n",
    "    jc = parameters_set[p_set][\"jc\"]\n",
    "    coupled_sys = transm.couple_to(flx, coupling=pysqkit.couplers.capacitive_coupling, strength=jc)\n",
    "    \n",
    "\n",
    "    states_label = coupled_sys.all_state_labels()\n",
    "    states_dict = coupled_sys.states_as_dict(as_qobj=True)\n",
    "    \n",
    "    state_label = [\"00\", \"01\", \"10\", \"11\"]\n",
    "    comp_states = {}\n",
    "    for label in state_label:\n",
    "        state_tmp = coupled_sys.state(label)[1]\n",
    "        loc = np.argmax(np.abs(state_tmp))\n",
    "        phase = cmath.phase(state_tmp[loc])\n",
    "        state_tmp = np.exp(-1j*phase)*state_tmp\n",
    "        comp_states[label] = state_tmp\n",
    "    \n",
    "    q_op = coupled_sys[\"F\"].charge_op()\n",
    "    \n",
    "    pts_per_drive_period = 10\n",
    "\n",
    "    nb_points = int(t_gate*freq_drive*pts_per_drive_period)\n",
    "    tlist = np.linspace(0, t_gate, nb_points)\n",
    "\n",
    "    coupled_sys['F'].drives['cr_drive_f'].set_params(phase=0.0, time=tlist, rise_time=t_rise, pulse_time=t_gate,\n",
    "                                                     amp=eps, freq=freq_drive)\n",
    "    \n",
    "    \n",
    "    simu_opt = qtp.solver.Options()\n",
    "    simu_opt.atol = 1e-12\n",
    "    simu_opt.rtol = 1e-10\n",
    "\n",
    "    env_syst = pysqkit.tomography.TomoEnv(system=coupled_sys, time=2*np.pi*tlist, \n",
    "                                          options=simu_opt, with_noise=False)\n",
    "    \n",
    "    comp_states_list = []\n",
    "    for key in comp_states.keys():\n",
    "        comp_states_list.append(comp_states[key])\n",
    "    \n",
    "    my_hs_basis = pauli_by_index\n",
    "    \n",
    "    avg_leakage = env_syst.leakage(comp_states_list)\n",
    "    \n",
    "    sup_op = env_syst.to_super(comp_states_list, my_hs_basis, n_process=4, speed_up=True)\n",
    "    \n",
    "    cr_super_target = trf.kraus_to_super(cry(-np.pi/2), my_hs_basis)\n",
    "    \n",
    "    opt_sup_op, theta_y = optimal_sup_op(cr_super_target, sup_op)\n",
    "    \n",
    "    # opt_sup_op = get_corrected_sup_op(sup_op, theta_y)\n",
    "    \n",
    "    f_gate = average_gate_fidelity(cr_super_target, opt_sup_op, avg_leakage)\n",
    "    \n",
    "    return 1 - f_gate"
   ]
  },
  {
   "cell_type": "code",
   "execution_count": 33,
   "metadata": {},
   "outputs": [
    {
     "name": "stdout",
     "output_type": "stream",
     "text": [
      "Computation time = 110.35465955734253 s \n"
     ]
    }
   ],
   "source": [
    "start = time.time()\n",
    "\n",
    "fid_in = 1 - get_infidelity([ 301.68856998890726,  10])\n",
    "\n",
    "end = time.time()\n",
    "\n",
    "print(\"Computation time = {} s \".format(end - start))"
   ]
  },
  {
   "cell_type": "code",
   "execution_count": 44,
   "metadata": {},
   "outputs": [
    {
     "name": "stdout",
     "output_type": "stream",
     "text": [
      "Computation time = 8663.30581998825 s\n"
     ]
    }
   ],
   "source": [
    "start = time.time()\n",
    "\n",
    "res = minimize(get_infidelity, params_in_new, method=\"Nelder-Mead\", options={\"maxiter\": 40})\n",
    "\n",
    "end = time.time()\n",
    "\n",
    "print(\"Computation time = {} s\".format(end - start))"
   ]
  },
  {
   "cell_type": "code",
   "execution_count": 45,
   "metadata": {},
   "outputs": [
    {
     "data": {
      "text/plain": [
       " final_simplex: (array([[284.35845254,   1.27235587],\n",
       "       [284.35836966,   1.27259378],\n",
       "       [284.35794613,   1.27233032]]), array([0.01128775, 0.01128775, 0.01128775]))\n",
       "           fun: 0.011287745179234365\n",
       "       message: 'Maximum number of iterations has been exceeded.'\n",
       "          nfev: 81\n",
       "           nit: 40\n",
       "        status: 2\n",
       "       success: False\n",
       "             x: array([284.35845254,   1.27235587])"
      ]
     },
     "execution_count": 45,
     "metadata": {},
     "output_type": "execute_result"
    }
   ],
   "source": [
    "res"
   ]
  },
  {
   "cell_type": "code",
   "execution_count": 46,
   "metadata": {},
   "outputs": [
    {
     "data": {
      "text/plain": [
       "0.9887122548207656"
      ]
     },
     "execution_count": 46,
     "metadata": {},
     "output_type": "execute_result"
    }
   ],
   "source": [
    "1 - res[\"fun\"]"
   ]
  },
  {
   "cell_type": "code",
   "execution_count": 43,
   "metadata": {},
   "outputs": [],
   "source": [
    "params_in_new = [282.71518727, 1.45507812]"
   ]
  },
  {
   "cell_type": "code",
   "execution_count": 41,
   "metadata": {},
   "outputs": [
    {
     "data": {
      "text/plain": [
       "0.9876638688911411"
      ]
     },
     "execution_count": 41,
     "metadata": {},
     "output_type": "execute_result"
    }
   ],
   "source": [
    "fid_in"
   ]
  },
  {
   "cell_type": "code",
   "execution_count": 42,
   "metadata": {},
   "outputs": [
    {
     "data": {
      "text/plain": [
       "array([282.71518727,   1.45507812])"
      ]
     },
     "execution_count": 42,
     "metadata": {},
     "output_type": "execute_result"
    }
   ],
   "source": [
    "res[\"x\"]"
   ]
  },
  {
   "cell_type": "code",
   "execution_count": null,
   "metadata": {},
   "outputs": [],
   "source": []
  }
 ],
 "metadata": {
  "kernelspec": {
   "display_name": "Python 3 (ipykernel)",
   "language": "python",
   "name": "python3"
  },
  "language_info": {
   "codemirror_mode": {
    "name": "ipython",
    "version": 3
   },
   "file_extension": ".py",
   "mimetype": "text/x-python",
   "name": "python",
   "nbconvert_exporter": "python",
   "pygments_lexer": "ipython3",
   "version": "3.7.11"
  },
  "toc": {
   "base_numbering": 1,
   "nav_menu": {},
   "number_sections": true,
   "sideBar": true,
   "skip_h1_title": false,
   "title_cell": "Table of Contents",
   "title_sidebar": "Contents",
   "toc_cell": false,
   "toc_position": {
    "height": "calc(100% - 180px)",
    "left": "10px",
    "top": "150px",
    "width": "233.333px"
   },
   "toc_section_display": true,
   "toc_window_display": false
  },
  "widgets": {
   "application/vnd.jupyter.widget-state+json": {
    "state": {},
    "version_major": 2,
    "version_minor": 0
   }
  }
 },
 "nbformat": 4,
 "nbformat_minor": 4
}
