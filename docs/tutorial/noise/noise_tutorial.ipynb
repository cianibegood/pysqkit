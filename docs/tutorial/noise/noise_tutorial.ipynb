{
 "cells": [
  {
   "cell_type": "code",
   "execution_count": 1,
   "metadata": {},
   "outputs": [],
   "source": [
    "import numpy as np\n",
    "\n",
    "import pysqkit as sq\n",
    "from pysqkit.util.phys import temperature_to_thermalenergy\n",
    "\n",
    "from IPython.display import display, Latex"
   ]
  },
  {
   "cell_type": "code",
   "execution_count": 2,
   "metadata": {},
   "outputs": [],
   "source": [
    "env_temp = 0.02 # Kelvin\n",
    "thermal_energy = temperature_to_thermalenergy(env_temp) # GHz"
   ]
  },
  {
   "cell_type": "code",
   "execution_count": 3,
   "metadata": {},
   "outputs": [],
   "source": [
    "transmon = sq.qubits.SimpleTransmon(\n",
    "    label='transmon', \n",
    "    max_freq=4.5, \n",
    "    anharm=-0.3, \n",
    "    dim_hilbert=3,\n",
    "    diel_loss_tan=0.75*1e-6, \n",
    "    env_thermal_energy=thermal_energy\n",
    ")"
   ]
  },
  {
   "cell_type": "code",
   "execution_count": 4,
   "metadata": {},
   "outputs": [],
   "source": [
    "fluxonium = sq.qubits.Fluxonium(\n",
    "    label='fluxonium',\n",
    "    joseph_energy=8.0, \n",
    "    charge_energy=0.973, \n",
    "    induct_energy=0.457,\n",
    "    diel_loss_tan=7.1*1e-6, \n",
    "    env_thermal_energy=thermal_energy\n",
    ")\n",
    "fluxonium.diagonalize_basis(5)"
   ]
  },
  {
   "cell_type": "code",
   "execution_count": 5,
   "metadata": {},
   "outputs": [],
   "source": [
    "system = transmon.couple_to(fluxonium, coupling=sq.couplers.capacitive_coupling, strength=0.2)\n",
    "\n",
    "system['fluxonium'].add_drive(\n",
    "    sq.drives.microwave_drive,\n",
    "    label='cz_drive',\n",
    "    pulse_shape=sq.drives.pulse_shapes.gaussian_top\n",
    ")"
   ]
  },
  {
   "cell_type": "code",
   "execution_count": 6,
   "metadata": {},
   "outputs": [
    {
     "data": {
      "text/latex": [
       "$T_{1}^{transmon} =  + \\infty \\, \\mu s$"
      ],
      "text/plain": [
       "<IPython.core.display.Latex object>"
      ]
     },
     "metadata": {},
     "output_type": "display_data"
    },
    {
     "data": {
      "text/latex": [
       "$T_{1}^{fluxonium} =  + \\infty \\, \\mu s$"
      ],
      "text/plain": [
       "<IPython.core.display.Latex object>"
      ]
     },
     "metadata": {},
     "output_type": "display_data"
    }
   ],
   "source": [
    "for qubit in system:\n",
    "    relax_rate, exc_rate = qubit.loss_rates(0, 1)\n",
    "    if relax_rate == 0:\n",
    "        relax_time = '+ Infinity'\n",
    "    else:\n",
    "        relax_time = 1/(2*np.pi*relax_rate)\n",
    "    if isinstance(relax_time, float):\n",
    "        display(Latex(r'$T_{{1}}^{{{}}} $ = {:.3f} $\\mu s$'.format(qubit.label, relax_time*1e-3)))\n",
    "    else:\n",
    "        display(Latex(r'$T_{{1}}^{{{}}} =  + \\infty \\, \\mu s$'.format(qubit.label)))\n",
    "        "
   ]
  },
  {
   "cell_type": "code",
   "execution_count": 7,
   "metadata": {},
   "outputs": [],
   "source": [
    "times = np.linspace(0, 60, 10000)\n",
    "system['fluxonium'].drives['cz_drive'].set_params(phase=0, time=times, rise_time=15)"
   ]
  },
  {
   "cell_type": "code",
   "execution_count": 8,
   "metadata": {},
   "outputs": [],
   "source": [
    "drive_params = dict(\n",
    "    cz_drive=dict(amp = 0.03634, freq = 5.19)\n",
    ")\n",
    "\n",
    "hamil = system.hamiltonian(as_qobj=True)\n",
    "drive_hamils = [drive.hamiltonian(as_qobj=True) for qubit in system for drive in qubit.drives.values() if qubit.is_driven]\n",
    "pulses = [drive.eval_pulse(**drive_params[label]) for qubit in system for label, drive in qubit.drives.items()]\n",
    "collapse_ops = [op for qubit in system for op in qubit.collapse_ops(as_qobj=True)]"
   ]
  },
  {
   "cell_type": "code",
   "execution_count": null,
   "metadata": {},
   "outputs": [],
   "source": []
  }
 ],
 "metadata": {
  "kernelspec": {
   "display_name": "Python 3.7.3 64-bit ('base': conda)",
   "language": "python",
   "name": "python37364bitbaseconda36d0b2465ec04527ba16a77ef6d99d0e"
  },
  "language_info": {
   "codemirror_mode": {
    "name": "ipython",
    "version": 3
   },
   "file_extension": ".py",
   "mimetype": "text/x-python",
   "name": "python",
   "nbconvert_exporter": "python",
   "pygments_lexer": "ipython3",
   "version": "3.7.9"
  }
 },
 "nbformat": 4,
 "nbformat_minor": 4
}
