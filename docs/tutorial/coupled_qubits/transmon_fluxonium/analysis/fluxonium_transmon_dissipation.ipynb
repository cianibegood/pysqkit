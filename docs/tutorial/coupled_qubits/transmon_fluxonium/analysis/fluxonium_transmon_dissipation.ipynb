{
 "cells": [
  {
   "cell_type": "markdown",
   "metadata": {},
   "source": [
    "# Fluxonium-transmon system with dissipation"
   ]
  },
  {
   "cell_type": "code",
   "execution_count": 1,
   "metadata": {},
   "outputs": [],
   "source": [
    "import numpy as np\n",
    "import sys\n",
    "import time\n",
    "import datetime\n",
    "import qutip as qtp \n",
    "import cmath\n",
    "import matplotlib.pyplot as plt\n",
    "from scipy import constants\n",
    "from scipy.optimize import minimize\n",
    "import pysqkit\n",
    "from pysqkit.util.linalg import get_mat_elem, tensor_prod\n",
    "from pysqkit.util.phys import thermalenergy_to_temperature, temperature_to_thermalenergy\n",
    "from pysqkit.solvers import solvkit\n",
    "from typing import List\n",
    "import matplotlib\n",
    "matplotlib.rcParams['mathtext.fontset'] = 'cm'\n",
    "from IPython.display import display, Latex\n",
    "from itertools import product, combinations"
   ]
  },
  {
   "cell_type": "markdown",
   "metadata": {},
   "source": [
    "The gates will be based on the following driven Hamiltonian of capacitively coupled fluxonium and transmon\n",
    "\n",
    "$$H = H_F + H_T + V + H_{drive}$$,\n",
    "\n",
    "where we have the fluxonium Hamiltonian\n",
    "\n",
    "$$H_L= 4 E_{C,F} \\hat{n}^2_F + \\frac{1}{2}E_{L} \\hat{\\varphi}^2_F - E_{J,F}\\cos\\left(\\hat{\\varphi}_F - \\varphi_{ext,F}\\right), \\quad [\\hat{\\varphi}_F, \\hat{n}_F] = i$$,\n",
    "\n",
    "the transmon Hamiltonian (treated immediately as a Duffing oscillator)\n",
    "\n",
    "$$H_T =  \\hbar \\omega_T \\hat{b}^{\\dagger}\\hat{b} + \\hbar \\frac{\\delta_T}{2} \\hat{b}^{\\dagger} \\hat{b}^{\\dagger}\\hat{b} \\hat{b}$$,\n",
    "\n",
    "where in terms of the transmon's charging energy $E_{C,T}$ and Josephson energy $E_{J, T}$ the transmon's angular velocity $\\omega_T$ and anharmonicity $\\delta_T$ are\n",
    "\n",
    "$$ \\omega_T = \\frac{\\sqrt{8 E_{C, T} E_{J, T}}}{\\hbar}, \\quad \\delta_T = - \\frac{E_{C,T}}{\\hbar} $$.\n",
    "In addition, the transmon's charge operator can be written as\n",
    "$$ \\hat{n}_T = \\frac{i}{2} \\biggl( \\frac{E_{J, T}}{2 E_{C, T}} \\biggr)^{1/4} \\bigl( \\hat{b}^{\\dagger} - \\hat{b} \\bigr) = \\frac{i}{2} \\sqrt{\\frac{\\omega_T}{4 \\lvert \\delta_T \\rvert} }\\bigl( \\hat{b}^{\\dagger} - \\hat{b} \\bigr).$$\n",
    "\n",
    "The coupling Hamiltonian is\n",
    "\n",
    "$$V = J_C  \\hat{n}_F \\hat{n}_T$$,\n",
    "\n",
    "and the drive Hamiltonian\n",
    "\n",
    "$$H_{drive} = 2  f\\left( t \\right)  \\cos \\left( \\omega_d t + \\gamma_d\\right) \\left( \\eta_F  \\hat{n}_F + \\eta_T \\hat{n}_T \\right)   \\text{  with  } f\\left( t \\right) = f_0 \\dfrac{f\\left( t \\right)}{f_0}. $$"
   ]
  },
  {
   "cell_type": "code",
   "execution_count": 2,
   "metadata": {},
   "outputs": [],
   "source": [
    "# Fluxonium parameters (ec)f and el_f like Qubit A in Ficheux 2020): values in GHz (divided by h)\n",
    "ec_f = 0.973 \n",
    "el_f = 0.457 \n",
    "ej_f = 8.0 #5.899\n",
    "flux_f = 1/2\n",
    "n_fock_f = 100\n",
    "# Transmon parameters: values in GHz divided by 2 \\pi \n",
    "omega_t = 4.5 #6.0 \n",
    "delta_t = -0.3\n",
    "n_fock_t = 3"
   ]
  },
  {
   "cell_type": "code",
   "execution_count": 5,
   "metadata": {},
   "outputs": [],
   "source": [
    "levels_f = 5\n",
    "levels_t = n_fock_t\n",
    "flx = pysqkit.qubits.Fluxonium('F', ec_f, el_f, ej_f, flux_f, dim_hilbert=n_fock_f)\n",
    "trans = pysqkit.qubits.Transmon('T', omega_t, delta_t, dim_hilbert=n_fock_t)\n",
    "flx.diagonalize_basis(levels_f)"
   ]
  },
  {
   "cell_type": "code",
   "execution_count": 6,
   "metadata": {},
   "outputs": [],
   "source": [
    "energies_f, eig_states_f = flx.eig_states(levels_f)\n",
    "energies_t, eig_states_t = trans.eig_states(levels_t)"
   ]
  },
  {
   "cell_type": "code",
   "execution_count": null,
   "metadata": {},
   "outputs": [],
   "source": [
    "energies_in_lexico = np.zeros(levels_f*levels_t, dtype=float)\n",
    "count = 0\n",
    "for k in range(0, levels):\n",
    "    for m in range(0, levels):\n",
    "        energies_in_lexico[count] = energies_b[m] + energies_a[k]\n",
    "        count += 1\n",
    "ascending_to_lexico = np.argsort(energies_in_lexico)\n",
    "\n",
    "label_converter = ascending_to_lexico\n",
    "label_converter"
   ]
  }
 ],
 "metadata": {
  "kernelspec": {
   "display_name": "Python 3.7.3 64-bit ('base': conda)",
   "language": "python",
   "name": "python37364bitbaseconda36d0b2465ec04527ba16a77ef6d99d0e"
  },
  "language_info": {
   "codemirror_mode": {
    "name": "ipython",
    "version": 3
   },
   "file_extension": ".py",
   "mimetype": "text/x-python",
   "name": "python",
   "nbconvert_exporter": "python",
   "pygments_lexer": "ipython3",
   "version": "3.7.9"
  }
 },
 "nbformat": 4,
 "nbformat_minor": 4
}
