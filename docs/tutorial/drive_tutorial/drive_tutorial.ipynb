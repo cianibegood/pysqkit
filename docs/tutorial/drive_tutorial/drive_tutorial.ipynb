{
 "cells": [
  {
   "cell_type": "code",
   "execution_count": 1,
   "metadata": {},
   "outputs": [],
   "source": [
    "from itertools import product\n",
    "\n",
    "import numpy as np\n",
    "import xarray as xr\n",
    "import matplotlib.pyplot as plt\n",
    "\n",
    "import pysqkit as sq"
   ]
  },
  {
   "cell_type": "markdown",
   "metadata": {},
   "source": [
    "### Set some matplotlib parameters"
   ]
  },
  {
   "cell_type": "markdown",
   "metadata": {},
   "source": [
    "### Define some utility functions"
   ]
  },
  {
   "cell_type": "code",
   "execution_count": 2,
   "metadata": {},
   "outputs": [],
   "source": [
    "transmon = sq.qubits.SimpleTransmon(\n",
    "    label='transmon', \n",
    "    max_freq = 6, \n",
    "    anharm = -0.3, \n",
    "    dim_hilbert = 5\n",
    ")"
   ]
  },
  {
   "cell_type": "code",
   "execution_count": 3,
   "metadata": {},
   "outputs": [],
   "source": [
    "fluxonium = sq.qubits.Fluxonium(\n",
    "    label='fluxonium',\n",
    "    joseph_energy=5.900, \n",
    "    charge_energy=0.975, \n",
    "    induct_energy=0.455,\n",
    "    flux = 0.5\n",
    ")\n",
    "fluxonium.diagonalize_basis(5)"
   ]
  },
  {
   "cell_type": "markdown",
   "metadata": {},
   "source": [
    "Add the drive (generally you are able to add it after they're coupled. Currently the dimension specified in the Qobj are actually not correct. I'll fix that soon, so basically for now add them before coupling (or fix dimensions manually)"
   ]
  },
  {
   "cell_type": "code",
   "execution_count": 4,
   "metadata": {},
   "outputs": [],
   "source": [
    "fluxonium.add_drive(\n",
    "    sq.drives.microwave_drive,\n",
    "    label='cz_drive',\n",
    "    pulse_shape=sq.drives.pulse_shapes.gaussian_top\n",
    ")"
   ]
  },
  {
   "cell_type": "code",
   "execution_count": 5,
   "metadata": {},
   "outputs": [],
   "source": [
    "system = transmon.couple_to(fluxonium, coupling=sq.couplers.capacitive_coupling, strength=0.2)"
   ]
  },
  {
   "cell_type": "markdown",
   "metadata": {},
   "source": [
    "you can look at free parameters to be fixed"
   ]
  },
  {
   "cell_type": "code",
   "execution_count": 6,
   "metadata": {},
   "outputs": [
    {
     "data": {
      "text/plain": [
       "['time', 'rise_time', 'amp', 'freq', 'phase']"
      ]
     },
     "execution_count": 6,
     "metadata": {},
     "output_type": "execute_result"
    }
   ],
   "source": [
    "system['fluxonium'].drives['cz_drive'].free_params"
   ]
  },
  {
   "cell_type": "markdown",
   "metadata": {},
   "source": [
    "if you know phase is always going to be 0, you can go ahead and fix it to the default parameters. Same for some other params"
   ]
  },
  {
   "cell_type": "code",
   "execution_count": 7,
   "metadata": {},
   "outputs": [],
   "source": [
    "times = np.linspace(0, 60, 10000)\n",
    "system['fluxonium'].drives['cz_drive'].set_params(phase=0, time=times, rise_time=15)"
   ]
  },
  {
   "cell_type": "markdown",
   "metadata": {},
   "source": [
    "we see it's been fixed to a value. The other parameters can also be fixed like this or provided when you're evaluating the pulse before doing the Lindblad simulation"
   ]
  },
  {
   "cell_type": "code",
   "execution_count": 8,
   "metadata": {},
   "outputs": [],
   "source": [
    "drive_params = dict(\n",
    "    cz_drive=dict(amp = 0.03634, freq = 5.19)\n",
    ")\n",
    "\n",
    "hamil = system.hamiltonian(as_qobj=True)\n",
    "drive_hamils = []\n",
    "pulses = []\n",
    "\n",
    "for qubit in system:\n",
    "    if qubit.is_driven:\n",
    "        for label, drive in qubit.drives.items():\n",
    "            drive_hamils.append(drive.hamiltonian(as_qobj=True))\n",
    "            pulses.append(drive.eval_pulse(**drive_params[label]))"
   ]
  },
  {
   "cell_type": "code",
   "execution_count": 9,
   "metadata": {},
   "outputs": [],
   "source": [
    "energy, state = system.state('00', as_qobj=True)"
   ]
  },
  {
   "cell_type": "code",
   "execution_count": 10,
   "metadata": {},
   "outputs": [],
   "source": [
    "result = sq.solvers.integrate(times, state, hamil, drive_hamils, pulses, jump_op=None, solver='mesolve')"
   ]
  },
  {
   "cell_type": "code",
   "execution_count": 11,
   "metadata": {},
   "outputs": [],
   "source": [
    "pulse  = system['fluxonium'].drives['cz_drive'].eval_pulse(**drive_params['cz_drive'])"
   ]
  },
  {
   "cell_type": "code",
   "execution_count": null,
   "metadata": {},
   "outputs": [],
   "source": []
  }
 ],
 "metadata": {
  "kernelspec": {
   "display_name": "Python 3",
   "language": "python",
   "name": "python3"
  },
  "language_info": {
   "codemirror_mode": {
    "name": "ipython",
    "version": 3
   },
   "file_extension": ".py",
   "mimetype": "text/x-python",
   "name": "python",
   "nbconvert_exporter": "python",
   "pygments_lexer": "ipython3",
   "version": "3.7.10"
  },
  "toc": {
   "base_numbering": 1,
   "nav_menu": {},
   "number_sections": true,
   "sideBar": true,
   "skip_h1_title": false,
   "title_cell": "Table of Contents",
   "title_sidebar": "Contents",
   "toc_cell": false,
   "toc_position": {},
   "toc_section_display": true,
   "toc_window_display": false
  }
 },
 "nbformat": 4,
 "nbformat_minor": 4
}
