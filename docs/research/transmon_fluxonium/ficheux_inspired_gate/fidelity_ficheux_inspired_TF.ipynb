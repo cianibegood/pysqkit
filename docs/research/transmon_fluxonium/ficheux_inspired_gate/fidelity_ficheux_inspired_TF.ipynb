{
 "cells": [
  {
   "cell_type": "markdown",
   "metadata": {},
   "source": [
    "# Ficheux inspired gate between a fluxonium and a transmon: fidelity and leakage"
   ]
  },
  {
   "cell_type": "code",
   "execution_count": 1,
   "metadata": {},
   "outputs": [],
   "source": [
    "from itertools import product\n",
    "import matplotlib.pyplot as plt\n",
    "\n",
    "import numpy as np\n",
    "import time\n",
    "import cmath\n",
    "import pysqkit\n",
    "from pysqkit.solvers import solvkit\n",
    "from typing import List\n",
    "import matplotlib\n",
    "matplotlib.rcParams['mathtext.fontset'] = 'cm'\n",
    "import qutip as qtp\n",
    "\n",
    "from pysqkit.util.phys import temperature_to_thermalenergy\n",
    "from pysqkit.util.transformations import kraus_to_ptm\n",
    "from pysqkit.util.basis import pauli_basis\n",
    "from pysqkit.util.metrics import avg_process_fid\n",
    "from IPython.display import display, Latex\n",
    "from pysqkit.util.linalg import get_mat_elem, tensor_prod"
   ]
  },
  {
   "cell_type": "markdown",
   "metadata": {},
   "source": [
    "The gates will be based on the following driven Hamiltonian of capacitively coupled fluxonium and transmon\n",
    "\n",
    "$$H = H_F + H_T + V + H_{drive}$$,\n",
    "\n",
    "where we have the fluxonium Hamiltonian\n",
    "\n",
    "$$H_L= 4 E_{C,F} \\hat{n}^2_F + \\frac{1}{2}E_{L} \\hat{\\varphi}^2_F - E_{J,F}\\cos\\left(\\hat{\\varphi}_F - \\varphi_{ext,F}\\right), \\quad [\\hat{\\varphi}_F, \\hat{n}_F] = i$$,\n",
    "\n",
    "the transmon Hamiltonian (treated immediately as a Duffing oscillator)\n",
    "\n",
    "$$H_T =  \\hbar \\omega_T \\hat{b}^{\\dagger}\\hat{b} + \\hbar \\frac{\\delta_T}{2} \\hat{b}^{\\dagger} \\hat{b}^{\\dagger}\\hat{b} \\hat{b}$$,\n",
    "\n",
    "where in terms of the transmon's charging energy $E_{C,T}$ and Josephson energy $E_{J, T}$ the transmon's angular velocity $\\omega_T$ and anharmonicity $\\delta_T$ are\n",
    "\n",
    "$$ \\omega_T = \\frac{\\sqrt{8 E_{C, T} E_{J, T}}}{\\hbar}, \\quad \\delta_T = - \\frac{E_{C,T}}{\\hbar} $$.\n",
    "In addition, the transmon's charge operator can be written as\n",
    "$$ \\hat{n}_T = \\frac{i}{2} \\biggl( \\frac{E_{J, T}}{2 E_{C, T}} \\biggr)^{1/4} \\bigl( \\hat{b}^{\\dagger} - \\hat{b} \\bigr) = \\frac{i}{2} \\sqrt{\\frac{\\omega_T}{4 \\lvert \\delta_T \\rvert} }\\bigl( \\hat{b}^{\\dagger} - \\hat{b} \\bigr).$$\n",
    "\n",
    "The coupling Hamiltonian is\n",
    "\n",
    "$$V = J_C  \\hat{n}_F \\hat{n}_T$$,\n",
    "\n",
    "and the drive Hamiltonian\n",
    "\n",
    "$$H_{drive} = 2  f\\left( t \\right)  \\cos \\left( \\omega_d t + \\gamma_d\\right) \\left( \\eta_F  \\hat{n}_F + \\eta_T \\hat{n}_T \\right)   \\text{  with  } f\\left( t \\right) = f_0 \\dfrac{f\\left( t \\right)}{f_0}. $$"
   ]
  },
  {
   "cell_type": "markdown",
   "metadata": {},
   "source": [
    "The energy levels should look like this :\n",
    "<img src=\"energy_levels_03F_re-labeled.png\" width=\"700\">"
   ]
  },
  {
   "cell_type": "code",
   "execution_count": 2,
   "metadata": {},
   "outputs": [],
   "source": [
    "levels_f = 5\n",
    "levels_t = 3\n",
    "d_comp = 4\n",
    "d_leak = levels_t*levels_f - d_comp\n",
    "flx = pysqkit.qubits.Fluxonium(label='F', charge_energy=.973, induct_energy=.457, \n",
    "                               joseph_energy=8.0, flux=1/2, dim_hilbert=100)\n",
    "trans = pysqkit.qubits.SimpleTransmon(label='T', max_freq=4.5, \n",
    "                                      anharm=-0.3, dim_hilbert=levels_t)\n",
    "\n",
    "flx.diagonalize_basis(levels_f)\n",
    "energies_f, eig_states_f = flx.eig_states(levels_f)\n",
    "energies_t, eig_states_t = trans.eig_states(levels_t)   "
   ]
  },
  {
   "cell_type": "code",
   "execution_count": 3,
   "metadata": {},
   "outputs": [],
   "source": [
    "#Drive\n",
    "flx.add_drive(\n",
    "    pysqkit.drives.microwave_drive,\n",
    "    label='cz_drive_f',\n",
    "    pulse_shape=pysqkit.drives.pulse_shapes.gaussian_top\n",
    ")"
   ]
  },
  {
   "cell_type": "code",
   "execution_count": 4,
   "metadata": {},
   "outputs": [],
   "source": [
    "jc = 0.07\n",
    "coupled_sys = trans.couple_to(flx, coupling=pysqkit.couplers.capacitive_coupling, strength=jc)\n",
    "energies_sys, eigstates_sys = coupled_sys.eig_states() \n",
    "\n",
    "coupled_sys_bare = trans.couple_to(flx, coupling=pysqkit.couplers.capacitive_coupling, strength=0)\n",
    "energies_bare, eigstates_bare = coupled_sys_bare.eig_states()\n",
    "    \n",
    "energies_in_lexico = np.zeros(levels_f*levels_t, dtype=float)\n",
    "count = 0\n",
    "for k in range(0, levels_t):\n",
    "    for m in range(0, levels_f):\n",
    "        energies_in_lexico[count] = energies_t[k] + energies_f[m]\n",
    "        count += 1\n",
    "ascending_to_lexico = np.argsort(energies_in_lexico)\n",
    "label_converter = ascending_to_lexico"
   ]
  },
  {
   "cell_type": "code",
   "execution_count": 5,
   "metadata": {},
   "outputs": [],
   "source": [
    "def label_to_states(\n",
    "    k: int, \n",
    "    m: int,\n",
    "    levels_f: int,\n",
    "    eig_states: np.ndarray,\n",
    "    label_converter: np.ndarray \n",
    ") -> float:\n",
    "    label = k*levels_f + m\n",
    "    index = np.where(label_converter == label)[0][0] #index such that converter[index] = label\n",
    "    return eig_states[index] "
   ]
  },
  {
   "cell_type": "code",
   "execution_count": 6,
   "metadata": {},
   "outputs": [],
   "source": [
    "eig_states_by_label = []\n",
    "energies_by_label = []\n",
    "for i_a in range(levels_t):\n",
    "    energies_by_label.append([])\n",
    "    eig_states_by_label.append([])\n",
    "    for i_b in range(levels_f):\n",
    "        eig_states_by_label[i_a].append(qtp.Qobj(inpt=  label_to_states(i_a, i_b, levels_f, eigstates_sys, label_converter), \n",
    "                                                 dims=[[levels_t, levels_f], [1, 1]], shape=[levels_t*levels_f, 1]))\n",
    "        energies_by_label[i_a].append(label_to_states(i_a, i_b, levels_f, energies_sys, label_converter))"
   ]
  },
  {
   "cell_type": "markdown",
   "metadata": {},
   "source": [
    "# Ideal simulation"
   ]
  },
  {
   "cell_type": "code",
   "execution_count": 7,
   "metadata": {},
   "outputs": [],
   "source": [
    "eps_f = 0.03091755984900732\n",
    "freq_drive = 7.155\n",
    "t_rise = 15 #16.0\n",
    "t_tot = 60 # 60\n",
    "pts_per_drive_period = 15\n",
    "\n",
    "nb_points = int(t_tot*freq_drive*pts_per_drive_period)\n",
    "tlist = np.linspace(0, t_tot, nb_points)\n",
    "\n",
    "interest_levels = [[0,0], [0,1], [1,0], [1,1], [0,2], [0,3], [1,3], [2,0]]\n",
    "labels = [\"$| \"+ str(k) + str(m) + \" \\\\rangle $\" for k,m in interest_levels]\n",
    "\n",
    "hamil0 = coupled_sys.hamiltonian(as_qobj=True)\n",
    "coupled_sys['F'].drives['cz_drive_f'].set_params(phase=0, time=tlist, rise_time=t_rise, \n",
    "                                                 amp=eps_f, freq=freq_drive)"
   ]
  },
  {
   "cell_type": "code",
   "execution_count": 8,
   "metadata": {},
   "outputs": [],
   "source": [
    "drive_hamils = []\n",
    "pulses = []\n",
    "\n",
    "for qubit in coupled_sys:\n",
    "    if qubit.is_driven:\n",
    "        for label, drive in qubit.drives.items():\n",
    "            drive_hamils.append(drive.hamiltonian(as_qobj=True))\n",
    "            pulses.append(drive.eval_pulse())"
   ]
  },
  {
   "cell_type": "markdown",
   "metadata": {},
   "source": [
    "We now introduce jump operators which will be used only when we get the superoperator. The initial simulation will be ideal."
   ]
  },
  {
   "cell_type": "code",
   "execution_count": 9,
   "metadata": {},
   "outputs": [],
   "source": [
    "temperature = 0.020 # K\n",
    "en_th = temperature_to_thermalenergy(temperature) # kb T/h in GHz\n",
    "tan_deltac_f = 7.1*1e-6 \n",
    "tan_deltac_t = 0.75*1e-6\n",
    "qdiel_f = 1/tan_deltac_f\n",
    "qdiel_t = 1/tan_deltac_t\n",
    "trans_jumps = trans.dielectric_loss(qdiel_t, 1/en_th, as_qobj=True)\n",
    "flx_jumps = flx.dielectric_loss(qdiel_f, 1/en_th, as_qobj=True)\n",
    "jumps = []\n",
    "for op in trans_jumps:\n",
    "    jumps.append(qtp.tensor(op, qtp.qeye(levels_f)))\n",
    "for op in flx_jumps:\n",
    "    jumps.append(qtp.tensor(qtp.qeye(levels_t), op))"
   ]
  },
  {
   "cell_type": "code",
   "execution_count": 10,
   "metadata": {},
   "outputs": [
    {
     "name": "stdout",
     "output_type": "stream",
     "text": [
      "Computation time =  4.002652645111084 seconds\n"
     ]
    }
   ],
   "source": [
    "start = time.time()\n",
    "\n",
    "state_in = []\n",
    "outputs = []\n",
    "for i in range(0, 2):\n",
    "    for k in range(0, 2):\n",
    "        state_in.append(eig_states_by_label[i][k])\n",
    "for i in range(0, 4):\n",
    "    outputs.append(solvkit.integrate(tlist*2*np.pi, state_in[i], hamil0, drive_hamils, pulses, [], \"mesolve\"))\n",
    "    \n",
    "end = time.time()\n",
    "\n",
    "print(\"Computation time = \" , end - start, \"seconds\")\n"
   ]
  },
  {
   "cell_type": "code",
   "execution_count": 11,
   "metadata": {},
   "outputs": [],
   "source": [
    "statein_label = '00'\n",
    "statein_index = int(statein_label, 2)\n",
    "rhos_by_label = []\n",
    "for i in range(len(eig_states_by_label)):\n",
    "    rhos_by_label.append([])\n",
    "    for j in range(len(eig_states_by_label[0])):\n",
    "        rhos_by_label[i].append(eig_states_by_label[i][j]*eig_states_by_label[i][j].dag())  \n",
    "        \n",
    "probs = np.zeros([len(labels), nb_points], dtype=float)\n",
    "for k in range(0, len(labels)):\n",
    "    i, j = interest_levels[k]\n",
    "    for m in range(0, nb_points):        \n",
    "        probs[k, m] = qtp.expect(rhos_by_label[i][j], outputs[statein_index].states[m]) "
   ]
  },
  {
   "cell_type": "code",
   "execution_count": 12,
   "metadata": {},
   "outputs": [
    {
     "data": {
      "image/png": "[encoded data removed]",
      "text/plain": [
       "<Figure size 1152x576 with 8 Axes>"
      ]
     },
     "metadata": {
      "needs_background": "light"
     },
     "output_type": "display_data"
    }
   ],
   "source": [
    "plot_setup = {'lw': 2.0, 'fs': 16, 'fs_text': 14, 'ls': 14}\n",
    "def plot_probas(\n",
    "    tlist: np.ndarray, \n",
    "    probs: np.ndarray,\n",
    "    statein_label: str,\n",
    "    opt: dict\n",
    ") -> None:\n",
    "    fig, ax = plt.subplots(int(np.ceil(len(labels)/4)), 4, figsize = (16, 8))\n",
    "    for k in range(0, len(labels)):\n",
    "        ax[k//4, k%4].plot(tlist, probs[k, :], linewidth=opt['lw'])\n",
    "\n",
    "        ax[k//4, k%4].set_ylim(0, 1.0)\n",
    "        ax[k//4, k%4].set_title(labels[k], fontsize=opt['fs'])\n",
    "        ax[k//4, k%4].set_ylim(-0.1, 1.1)\n",
    "        ax[k//4, k%4].axhline(y=0, color='grey', linestyle='--')\n",
    "        ax[k//4, k%4].axhline(y=1, color='grey', linestyle='--')\n",
    "\n",
    "        if k%4 != 0:\n",
    "            ax[k//4, k%4].axes.yaxis.set_ticklabels([])\n",
    "\n",
    "    fig = plt.gcf()\n",
    "    fig.suptitle('$\\mathrm{Probabilities \\ of \\ being \\ in \\ each \\ eigenstate \\\n",
    "                 \\ as \\ a \\ function \\ of \\ time \\ [ns] \\ with \\ initial \\ state}$' + \n",
    "                 ' $\\\\vert ' + statein_label + ' \\\\rangle$', fontsize=opt['fs']) \n",
    "    plt.show()\n",
    "\n",
    "plot_probas(tlist, probs, statein_label, plot_setup)"
   ]
  },
  {
   "cell_type": "code",
   "execution_count": 13,
   "metadata": {},
   "outputs": [],
   "source": [
    "env_syst = pysqkit.tomography.TomoEnvOld(system = coupled_sys, jump_op=jumps)"
   ]
  },
  {
   "cell_type": "code",
   "execution_count": 14,
   "metadata": {},
   "outputs": [
    {
     "name": "stdout",
     "output_type": "stream",
     "text": [
      "Computation time =  52.21216130256653 seconds\n"
     ]
    },
    {
     "data": {
      "image/png": "[encoded data removed]",
      "text/plain": [
       "<Figure size 936x360 with 4 Axes>"
      ]
     },
     "metadata": {
      "needs_background": "light"
     },
     "output_type": "display_data"
    }
   ],
   "source": [
    "start =  time.time()\n",
    "\n",
    "lambda_mat = env_syst.fct_to_lambda(in_labels = \"comp_states\", out_labels = \"comp_states\", draw_lambda = True, as_qobj = False)\n",
    "\n",
    "end = time.time()\n",
    "print(\"Computation time = \" , end - start, \"seconds\")"
   ]
  },
  {
   "cell_type": "code",
   "execution_count": 15,
   "metadata": {},
   "outputs": [],
   "source": [
    "def single_qubit_correction(\n",
    "    u_gate: np.ndarray\n",
    ") -> np.ndarray:\n",
    "    phi_10 = cmath.phase(u_gate[2, 2])\n",
    "    phi_01 = cmath.phase(u_gate[1, 1])\n",
    "    p_phi10 = np.array([[1, 0], [0, np.exp(-1j*phi_10)]])\n",
    "    p_phi01 = np.array([[1, 0], [0, np.exp(-1j*phi_01)]])\n",
    "    return tensor_prod([p_phi10, p_phi01])\n",
    "\n",
    "def correc_U_fast(env, in_out_labels = \"comp_states\"):\n",
    "    if in_out_labels == \"comp_states\":\n",
    "        in_out_labels = [(0,0), (0,1), (1,0), (1,1)]\n",
    "\n",
    "    m_00 = env._label_to_index((0,0))\n",
    "    \n",
    "    n_10 = env._label_to_index((1,0))\n",
    "    n_01 = env._label_to_index((0,1))\n",
    "    \n",
    "    ind_10_00 = n_10 * env.d + m_00\n",
    "    ind_01_00 = n_01 * env.d + m_00\n",
    "    \n",
    "    phi_10 = cmath.phase(env.lambda_as_function(ind_10_00, ind_10_00)) # = u_00_00.dag() * u_10_10 because G( |10><00|) = u_00_00.dag() * u_10_10 * |10><00|\n",
    "    phi_01 = cmath.phase(env.lambda_as_function(ind_01_00, ind_01_00))\n",
    "\n",
    "    p_phi10 = np.diag(np.ones(env.nb_levels[0])) + 0j\n",
    "    p_phi01 = np.diag(np.ones(env.nb_levels[1])) + 0j\n",
    "\n",
    "    p_phi10[:2, :2] = np.array([[1, 0], [0, np.exp(-1j*phi_10)]]) #proved to work\n",
    "    p_phi01[:2, :2] = np.array([[1, 0], [0, np.exp(-1j*phi_01)]])\n",
    "    \n",
    "#     print(phi_10, phi_01)\n",
    "    return tensor_prod([p_phi10, p_phi01])\n",
    "\n"
   ]
  },
  {
   "cell_type": "code",
   "execution_count": 16,
   "metadata": {},
   "outputs": [],
   "source": [
    "nb_levels = [levels_t, levels_f]\n",
    "d = np.prod(nb_levels)\n",
    "\n",
    "U_ideal = np.diag(np.ones(d))\n",
    "U_ideal[nb_levels[1]+1, nb_levels[1]+1] = -1"
   ]
  },
  {
   "cell_type": "code",
   "execution_count": 17,
   "metadata": {},
   "outputs": [],
   "source": [
    "u_gate = np.zeros([4, 4], dtype=complex)\n",
    "for i in range(0, 4):\n",
    "    for k in range(0, 4):\n",
    "        u_gate[i, k] = (state_in[i].dag()*outputs[k].states[nb_points - 1])[0, 0]\n",
    "        \n",
    "u_gate = np.conj(u_gate[0, 0])*u_gate \n",
    "u_correction = single_qubit_correction(u_gate)\n",
    "cz = np.array([[1, 0, 0, 0], [0, 1, 0, 0], [0, 0, 1, 0], [0, 0, 0, -1]])\n",
    "u_ideal = u_correction.conj().T.dot(cz)\n",
    "u_ideal_super = qtp.to_super(qtp.Qobj(u_ideal))[:, :]\n",
    "u_gate_super = qtp.to_super(qtp.Qobj(u_gate))[:, :]"
   ]
  },
  {
   "cell_type": "markdown",
   "metadata": {},
   "source": [
    "$U_{\\mathrm{ideal}}$ is the ideal gate that we should implement up to the single-qubit corrections. Issue: check lambda mat and the superoperator associated with u_gate."
   ]
  },
  {
   "cell_type": "code",
   "execution_count": 18,
   "metadata": {},
   "outputs": [],
   "source": [
    "# This is not working so far\n",
    "#pysqkit.tomography.tomoEnv.process_fidelity(env_syst, cz, single_qubit_correction_from_lambda)"
   ]
  },
  {
   "cell_type": "code",
   "execution_count": 19,
   "metadata": {},
   "outputs": [],
   "source": [
    "def process_fidelity(\n",
    "    supop: np.ndarray,\n",
    "    ideal_supop: np.ndarray\n",
    ") -> complex:\n",
    "    dim_sq = ideal_supop.shape[0] \n",
    "    return np.trace(ideal_supop.conj().T.dot(supop))/dim_sq\n",
    "\n",
    "def average_gate_fidelity() -> float:\n",
    "    return (d_comp*fpro + 1 - l1)/(d_comp + 1)\n",
    "    \n",
    "    "
   ]
  },
  {
   "cell_type": "markdown",
   "metadata": {},
   "source": [
    "We obtain a process fidelity"
   ]
  },
  {
   "cell_type": "code",
   "execution_count": 20,
   "metadata": {},
   "outputs": [
    {
     "data": {
      "text/latex": [
       "$F_{pro} = $ 0.99234"
      ],
      "text/plain": [
       "<IPython.core.display.Latex object>"
      ]
     },
     "metadata": {},
     "output_type": "display_data"
    }
   ],
   "source": [
    "fpro = process_fidelity(lambda_mat.conj().T, u_ideal_super)\n",
    "display(Latex(r'$F_{{pro}} = $ {:.5f}'.format(np.real(fpro))))"
   ]
  },
  {
   "cell_type": "markdown",
   "metadata": {},
   "source": [
    "and leakage"
   ]
  },
  {
   "cell_type": "code",
   "execution_count": 21,
   "metadata": {},
   "outputs": [
    {
     "ename": "AttributeError",
     "evalue": "'TomoEnvOld' object has no attribute 'definition_type'",
     "output_type": "error",
     "traceback": [
      "\u001b[0;31m---------------------------------------------------------------------------\u001b[0m",
      "\u001b[0;31mAttributeError\u001b[0m                            Traceback (most recent call last)",
      "\u001b[0;32m<ipython-input-21-583a6f1696c1>\u001b[0m in \u001b[0;36m<module>\u001b[0;34m\u001b[0m\n\u001b[0;32m----> 1\u001b[0;31m \u001b[0ml1\u001b[0m \u001b[0;34m=\u001b[0m \u001b[0menv_syst\u001b[0m\u001b[0;34m.\u001b[0m\u001b[0mL1\u001b[0m\u001b[0;34m(\u001b[0m\u001b[0;34m)\u001b[0m\u001b[0;34m\u001b[0m\u001b[0;34m\u001b[0m\u001b[0m\n\u001b[0m\u001b[1;32m      2\u001b[0m \u001b[0mdisplay\u001b[0m\u001b[0;34m(\u001b[0m\u001b[0mLatex\u001b[0m\u001b[0;34m(\u001b[0m\u001b[0;34mr'$L_1 = $ {:.5f}'\u001b[0m\u001b[0;34m.\u001b[0m\u001b[0mformat\u001b[0m\u001b[0;34m(\u001b[0m\u001b[0mnp\u001b[0m\u001b[0;34m.\u001b[0m\u001b[0mreal\u001b[0m\u001b[0;34m(\u001b[0m\u001b[0ml1\u001b[0m\u001b[0;34m)\u001b[0m\u001b[0;34m)\u001b[0m\u001b[0;34m)\u001b[0m\u001b[0;34m)\u001b[0m\u001b[0;34m\u001b[0m\u001b[0;34m\u001b[0m\u001b[0m\n",
      "\u001b[0;32m~/Work/python/github_repos/pysqkit/pysqkit/tomography/tomoenvold.py\u001b[0m in \u001b[0;36mL1\u001b[0;34m(self, U_ideal, correc, labels_chi_1)\u001b[0m\n\u001b[1;32m    782\u001b[0m         \u001b[0;31m#trick to avoid redundant calculations\u001b[0m\u001b[0;34m\u001b[0m\u001b[0;34m\u001b[0m\u001b[0;34m\u001b[0m\u001b[0m\n\u001b[1;32m    783\u001b[0m         \u001b[0mkey\u001b[0m \u001b[0;34m=\u001b[0m \u001b[0;34m\"L1\"\u001b[0m\u001b[0;34m\u001b[0m\u001b[0;34m\u001b[0m\u001b[0m\n\u001b[0;32m--> 784\u001b[0;31m         \u001b[0;32mif\u001b[0m \u001b[0mself\u001b[0m\u001b[0;34m.\u001b[0m\u001b[0mdefinition_type\u001b[0m \u001b[0;34m==\u001b[0m \u001b[0;34m\"2system\"\u001b[0m\u001b[0;34m:\u001b[0m\u001b[0;34m\u001b[0m\u001b[0;34m\u001b[0m\u001b[0m\n\u001b[0m\u001b[1;32m    785\u001b[0m             \u001b[0mkey\u001b[0m \u001b[0;34m+=\u001b[0m \u001b[0mstr\u001b[0m\u001b[0;34m(\u001b[0m\u001b[0mhash\u001b[0m\u001b[0;34m(\u001b[0m\u001b[0mself\u001b[0m\u001b[0;34m.\u001b[0m\u001b[0mcarac\u001b[0m\u001b[0;34m)\u001b[0m\u001b[0;34m)\u001b[0m\u001b[0;34m\u001b[0m\u001b[0;34m\u001b[0m\u001b[0m\n\u001b[1;32m    786\u001b[0m         \u001b[0mkey\u001b[0m \u001b[0;34m+=\u001b[0m \u001b[0mstr\u001b[0m\u001b[0;34m(\u001b[0m\u001b[0mhash\u001b[0m\u001b[0;34m(\u001b[0m\u001b[0mstr\u001b[0m\u001b[0;34m(\u001b[0m\u001b[0mU_ideal\u001b[0m\u001b[0;34m)\u001b[0m\u001b[0;34m)\u001b[0m\u001b[0;34m)\u001b[0m\u001b[0;34m\u001b[0m\u001b[0;34m\u001b[0m\u001b[0m\n",
      "\u001b[0;31mAttributeError\u001b[0m: 'TomoEnvOld' object has no attribute 'definition_type'"
     ]
    }
   ],
   "source": [
    "l1 = env_syst.L1()\n",
    "display(Latex(r'$L_1 = $ {:.5f}'.format(np.real(l1))))"
   ]
  },
  {
   "cell_type": "markdown",
   "metadata": {},
   "source": [
    "This gives average gate fidelity"
   ]
  },
  {
   "cell_type": "code",
   "execution_count": null,
   "metadata": {},
   "outputs": [],
   "source": [
    "fgate = average_gate_fidelity()\n",
    "display(Latex(r'$F_{{gate}} = $ {:.5f}'.format(np.real(fgate))))"
   ]
  },
  {
   "cell_type": "markdown",
   "metadata": {},
   "source": [
    "# Checking leakage"
   ]
  },
  {
   "cell_type": "code",
   "execution_count": null,
   "metadata": {},
   "outputs": [],
   "source": [
    "d_comp = 4\n",
    "d_leak = levels_t*levels_f - d_comp\n",
    "\n",
    "rho_compspace = 1/d_comp*rhos_by_label[0][0] + 1/d_comp*rhos_by_label[1][0] + \\\n",
    "                 1/d_comp*rhos_by_label[0][1] + 1/d_comp*rhos_by_label[1][1]\n",
    "ide_tot = qtp.tensor(qtp.Qobj(np.identity(levels_t)), qtp.Qobj(np.identity(levels_f)))\n",
    "rho_leakspace = 1/d_leak*(ide_tot - d_comp*rho_compspace)\n",
    "output_compspace = solvkit.integrate(tlist*2*np.pi, rho_compspace, \\\n",
    "                                     hamil0, drive_hamils, pulses, [], \"mesolve\")\n",
    "output_leakspace = solvkit.integrate(tlist*2*np.pi, rho_leakspace, \\\n",
    "                                     hamil0, drive_hamils, pulses, [], \"mesolve\")       \n"
   ]
  },
  {
   "cell_type": "code",
   "execution_count": null,
   "metadata": {},
   "outputs": [],
   "source": [
    "l1_check = qtp.expect(output_compspace.states[-1], d_leak*rho_leakspace)\n",
    "display(Latex(r'$L_1^{{check}} = $ {:.5f}'.format(np.real(l1_check))))\n"
   ]
  },
  {
   "cell_type": "code",
   "execution_count": null,
   "metadata": {},
   "outputs": [],
   "source": [
    "# This function allows to vectorize a density matrix using the same basis as the lambda\n",
    "# superoperator. It can be used to check that applying the superoperator gives the same\n",
    "# result as evolving the state using integrate. \n",
    "# It seems to work from my initial checks, although the numerical accuracy\n",
    "# could be better.\n",
    "\n",
    "def vectorize_density_matrix(\n",
    "    rho: np.ndarray\n",
    ") :\n",
    "    if rho.shape[0] != rho.shape[1]:\n",
    "        raise ValueError('The density matrix must be a square matrix')\n",
    "    d = rho.shape[0]\n",
    "    rho_vec = np.zeros(d**2, dtype=complex)\n",
    "    for i in range(0, d):\n",
    "        for k in range(0, d):\n",
    "            index = i*d + k\n",
    "            rho_vec[index] = rho[i, k]\n",
    "    return rho_vec   "
   ]
  },
  {
   "cell_type": "code",
   "execution_count": null,
   "metadata": {},
   "outputs": [],
   "source": [
    "def simulation(scan_params, coupled_sys, jump_op):\n",
    "    \n",
    "    \n",
    "    \n",
    "    \n",
    "    swap_angle, phase = scan_params\n",
    "    gate = fsim_gate(swap_angle=swap_angle, phase=phase, as_xarray=True)\n",
    "    gate_ptm = kraus_to_ptm(np.array([gate.data]), basis_2q, basis_2q)\n",
    "    \n",
    "    # In the actual simulaiton the code that would go here would look more like:\n",
    "    # amp, freq = scan_params\n",
    "    # system['fluxonium'].drives[0].set_params(amp=amp, freq=freq)\n",
    "    # gate_op = sq.tomography(system, in_states, out_states) \n",
    "    \n",
    "    # Where in_states is an array of the |00>, |01>, |10>, |11> obtained from system\n",
    "    # out_states will be probably the full system state array\n",
    "    \n",
    "    # Then one does the analyis on the gate_op\n",
    "    \n",
    "    result = {}\n",
    "    result['process_infid'] = 1 - avg_process_fid(gate_ptm, ideal_cz_ptm)\n",
    "    result['cond_phase'] = cond_phase(gate)\n",
    "    return result"
   ]
  },
  {
   "cell_type": "code",
   "execution_count": null,
   "metadata": {},
   "outputs": [],
   "source": [
    "type(coupled_sys)"
   ]
  },
  {
   "cell_type": "code",
   "execution_count": null,
   "metadata": {},
   "outputs": [],
   "source": []
  }
 ],
 "metadata": {
  "kernelspec": {
   "display_name": "Python 3.7.3 64-bit ('base': conda)",
   "language": "python",
   "name": "python37364bitbaseconda36d0b2465ec04527ba16a77ef6d99d0e"
  },
  "language_info": {
   "codemirror_mode": {
    "name": "ipython",
    "version": 3
   },
   "file_extension": ".py",
   "mimetype": "text/x-python",
   "name": "python",
   "nbconvert_exporter": "python",
   "pygments_lexer": "ipython3",
   "version": "3.7.9"
  }
 },
 "nbformat": 4,
 "nbformat_minor": 4
}
