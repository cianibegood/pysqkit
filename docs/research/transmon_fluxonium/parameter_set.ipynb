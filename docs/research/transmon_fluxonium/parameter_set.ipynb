{
 "cells": [
  {
   "cell_type": "markdown",
   "id": "14e1a1fd",
   "metadata": {},
   "source": [
    "Here we store the fluxonium and transmon parameters that we will use in the simulations"
   ]
  },
  {
   "cell_type": "code",
   "execution_count": 2,
   "id": "9c22b6ee",
   "metadata": {},
   "outputs": [],
   "source": [
    "import numpy as np\n",
    "import json"
   ]
  },
  {
   "cell_type": "code",
   "execution_count": 3,
   "id": "51b603bc",
   "metadata": {},
   "outputs": [],
   "source": [
    "parameters_set = {}\n",
    "\n",
    "\n",
    "parameters_set[\"0\"] = {\"max_freq_t\": 4.5, \"anharm_t\": -0.3, \"diel_loss_tan_t\": 0.75*1e-6,\n",
    "                     \"dephasing_times_t\": {'1': 2*np.pi*50*1e3, '2': 2*np.pi*30*1e3}, \n",
    "                     \"charge_energy_f\": 1.0, \"induct_energy_f\": .5, \"joseph_energy_f\": 8.0, \n",
    "                     \"diel_loss_tan_f\": 7.1*1e-6, \"dephasing_times_f\": {'1': 2*np.pi*200*1e3, '2':2*np.pi*20*1e3, \n",
    "                                                                        '3': 2*np.pi*20*1e3, '4': 2*np.pi*5*1e3},\n",
    "                      \"jc\": 0.03}\n",
    "parameters_set[\"1\"] = {\"max_freq_t\": 5.0, \"anharm_t\": -0.3, \"diel_loss_tan_t\": 0.75*1e-6,\n",
    "                     \"dephasing_times_t\": {'1': 2*np.pi*50*1e3, '2': 2*np.pi*30*1e3}, \n",
    "                     \"charge_energy_f\": 1.0, \"induct_energy_f\": .85, \"joseph_energy_f\": 5.0, \n",
    "                     \"diel_loss_tan_f\": 7.1*1e-6, \"dephasing_times_f\": {'1': 2*np.pi*200*1e3, '2':2*np.pi*20*1e3, \n",
    "                                                                        '3': 2*np.pi*20*1e3, '4': 2*np.pi*5*1e3},\n",
    "                      \"jc\": 0.015}\n",
    "\n",
    "parameters_set[\"2\"] = {\"max_freq_t\": 4.5, \"anharm_t\": -0.3, \"diel_loss_tan_t\": 0.75*1e-6,\n",
    "                     \"dephasing_times_t\": {'1': 2*np.pi*50*1e3, '2': 2*np.pi*30*1e3}, \n",
    "                     \"charge_energy_f\": 1.0, \"induct_energy_f\": 1.0, \"joseph_energy_f\": 4.0, \n",
    "                     \"diel_loss_tan_f\": 7.1*1e-6, \"dephasing_times_f\": {'1': 2*np.pi*200*1e3, '2':2*np.pi*20*1e3, \n",
    "                                                                        '3': 2*np.pi*20*1e3, '4': 2*np.pi*5*1e3},\n",
    "                      \"jc\": 0.02}\n",
    "\n",
    "parameters_set[\"3\"] = {\"max_freq_t\": 5.5, \"anharm_t\": -0.3, \"diel_loss_tan_t\": 0.75*1e-6,\n",
    "                     \"dephasing_times_t\": {'1': 2*np.pi*50*1e3, '2': 2*np.pi*30*1e3}, \n",
    "                     \"charge_energy_f\": 1.0, \"induct_energy_f\": 1.0, \"joseph_energy_f\": 4.0, \n",
    "                     \"diel_loss_tan_f\": 7.1*1e-6, \"dephasing_times_f\": {'1': 2*np.pi*200*1e3, '2':2*np.pi*20*1e3, \n",
    "                                                                        '3': 2*np.pi*20*1e3, '4': 2*np.pi*5*1e3},\n",
    "                      \"jc\": 0.02}\n",
    "\n",
    "parameters_set[\"test\"] = {\"max_freq_t\": 4.5, \"anharm_t\": -0.3, \"diel_loss_tan_t\": 0.75*1e-6,\n",
    "                     \"dephasing_times_t\": {'1': 2*np.pi*50*1e3, '2': 2*np.pi*30*1e3}, \n",
    "                     \"charge_energy_f\": 0.6, \"induct_energy_f\": 0.5, \"joseph_energy_f\": 4.0, \n",
    "                     \"diel_loss_tan_f\": 7.1*1e-6, \"dephasing_times_f\": {'1': 2*np.pi*200*1e3, '2':2*np.pi*20*1e3, \n",
    "                                                                        '3': 2*np.pi*20*1e3, '4': 2*np.pi*5*1e3},\n",
    "                      \"jc\": 0.02}"
   ]
  },
  {
   "cell_type": "code",
   "execution_count": 4,
   "id": "20a36e8c",
   "metadata": {},
   "outputs": [],
   "source": [
    "save = True\n",
    "if save:\n",
    "    with open(\"flx_transm_params.txt\", \"w\") as fp:\n",
    "        json.dump(parameters_set, fp)"
   ]
  },
  {
   "cell_type": "code",
   "execution_count": null,
   "id": "40ee42e4",
   "metadata": {},
   "outputs": [],
   "source": []
  }
 ],
 "metadata": {
  "kernelspec": {
   "display_name": "Python 3 (ipykernel)",
   "language": "python",
   "name": "python3"
  },
  "language_info": {
   "codemirror_mode": {
    "name": "ipython",
    "version": 3
   },
   "file_extension": ".py",
   "mimetype": "text/x-python",
   "name": "python",
   "nbconvert_exporter": "python",
   "pygments_lexer": "ipython3",
   "version": "3.7.11"
  }
 },
 "nbformat": 4,
 "nbformat_minor": 5
}
