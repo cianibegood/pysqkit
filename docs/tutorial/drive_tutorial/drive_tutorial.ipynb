{
 "cells": [
  {
   "cell_type": "code",
   "execution_count": null,
   "metadata": {},
   "outputs": [],
   "source": [
    "from itertools import product\n",
    "\n",
    "import numpy as np\n",
    "import xarray as xr\n",
    "\n",
    "import pysqkit as sq"
   ]
  },
  {
   "cell_type": "markdown",
   "metadata": {},
   "source": [
    "### Set some matplotlib parameters"
   ]
  },
  {
   "cell_type": "markdown",
   "metadata": {},
   "source": [
    "### Define some utility functions"
   ]
  },
  {
   "cell_type": "code",
   "execution_count": null,
   "metadata": {},
   "outputs": [],
   "source": [
    "transmon = sq.qubits.SimpleTransmon(\n",
    "    label='transmon', \n",
    "    max_freq = 6, \n",
    "    anharm = -0.3, \n",
    "    dim_hilbert = 5\n",
    ")"
   ]
  },
  {
   "cell_type": "code",
   "execution_count": null,
   "metadata": {},
   "outputs": [],
   "source": [
    "fluxonium = sq.qubits.Fluxonium(\n",
    "    label='fluxonium',\n",
    "    joseph_energy=5.900, \n",
    "    charge_energy=0.975, \n",
    "    induct_energy=0.455,\n",
    "    flux = 0.5\n",
    ")\n",
    "fluxonium.diagonalize_basis(5)"
   ]
  },
  {
   "cell_type": "markdown",
   "metadata": {},
   "source": [
    "Add the drive (generally you are able to add it after they're coupled. Currently the dimension specified in the Qobj are actually not correct. I'll fix that soon, so basically for now add them before coupling (or fix dimensions manually)"
   ]
  },
  {
   "cell_type": "code",
   "execution_count": null,
   "metadata": {},
   "outputs": [],
   "source": [
    "fluxonium.add_drive(\n",
    "    sq.drives.microwave_drive,\n",
    "    label='cz_drive',\n",
    "    pulse_shape=sq.drives.pulse_shapes.gaussian_top\n",
    ")"
   ]
  },
  {
   "cell_type": "code",
   "execution_count": null,
   "metadata": {},
   "outputs": [],
   "source": [
    "system = transmon.couple_to(fluxonium, coupling=sq.couplers.capacitive_coupling, strength=0.2)"
   ]
  },
  {
   "cell_type": "markdown",
   "metadata": {},
   "source": [
    "you can look at free parameters to be fixed"
   ]
  },
  {
   "cell_type": "code",
   "execution_count": null,
   "metadata": {},
   "outputs": [],
   "source": [
    "system['fluxonium'].drives[0].free_params"
   ]
  },
  {
   "cell_type": "markdown",
   "metadata": {},
   "source": [
    "if you know phase is always going to be 0, you can go ahead and fix it to the default parameters"
   ]
  },
  {
   "cell_type": "code",
   "execution_count": null,
   "metadata": {},
   "outputs": [],
   "source": [
    "system['fluxonium'].drives[0].set_params(phase=0)"
   ]
  },
  {
   "cell_type": "code",
   "execution_count": null,
   "metadata": {},
   "outputs": [],
   "source": [
    "system['fluxonium'].drives[0].free_params"
   ]
  },
  {
   "cell_type": "markdown",
   "metadata": {},
   "source": [
    "we see it's been fixed to a value. The other parameters can also be fixed like this or provided when you're evaluating the pulse before doing the Lindblad simulation"
   ]
  },
  {
   "cell_type": "code",
   "execution_count": null,
   "metadata": {},
   "outputs": [],
   "source": [
    "times = np.linspace(0, 40, 2000)\n",
    "amp = 0.2\n",
    "freq = 0.5\n",
    "\n",
    "hamil = system.hamiltonian(as_qobj=True)\n",
    "drive_hamils = [drive.hamiltonian(as_qobj=True) for qubit in system for drive in qubit.drives]\n",
    "pulses = [drive.eval_pulse(time=times, amp=amp, freq=freq) for qubit in system for drive in qubit.drives]"
   ]
  },
  {
   "cell_type": "code",
   "execution_count": null,
   "metadata": {},
   "outputs": [],
   "source": [
    "energy, state = system.state('00', as_qobj=True)"
   ]
  },
  {
   "cell_type": "code",
   "execution_count": null,
   "metadata": {},
   "outputs": [],
   "source": [
    "result = sq.solvers.integrate(times, state, hamil, drive_hamils, pulses, jump_op=None, solver='mesolve')"
   ]
  },
  {
   "cell_type": "code",
   "execution_count": null,
   "metadata": {},
   "outputs": [],
   "source": [
    "pulses"
   ]
  },
  {
   "cell_type": "code",
   "execution_count": null,
   "metadata": {},
   "outputs": [],
   "source": [
    "pulses[0]"
   ]
  },
  {
   "cell_type": "code",
   "execution_count": null,
   "metadata": {},
   "outputs": [],
   "source": []
  }
 ],
 "metadata": {
  "kernelspec": {
   "display_name": "Python 3",
   "language": "python",
   "name": "python3"
  },
  "language_info": {
   "codemirror_mode": {
    "name": "ipython",
    "version": 3
   },
   "file_extension": ".py",
   "mimetype": "text/x-python",
   "name": "python",
   "nbconvert_exporter": "python",
   "pygments_lexer": "ipython3",
   "version": "3.7.9"
  }
 },
 "nbformat": 4,
 "nbformat_minor": 4
}
