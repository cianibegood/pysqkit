{
 "cells": [
  {
   "cell_type": "code",
   "execution_count": 1,
   "id": "4cc702bb",
   "metadata": {},
   "outputs": [],
   "source": [
    "import numpy as np\n",
    "import matplotlib.pyplot as plt\n",
    "import pysqkit\n",
    "from pysqkit.util.linalg import get_mat_elem\n",
    "from typing import List\n",
    "import matplotlib\n",
    "matplotlib.rcParams['mathtext.fontset'] = 'cm'\n",
    "import json"
   ]
  },
  {
   "cell_type": "code",
   "execution_count": null,
   "id": "e4c72ff7",
   "metadata": {},
   "outputs": [],
   "source": [
    "with open(\"../../flx_transm_params.txt\") as my_file:\n",
    "    parameters_set = json.load(my_file)"
   ]
  },
  {
   "cell_type": "code",
   "execution_count": null,
   "id": "19546754",
   "metadata": {},
   "outputs": [],
   "source": [
    "# Comment/Uncomment p_set to select the parameter set\n",
    "p_set = \"CR_3\"\n",
    "#p_set = \"CPHASE\"\n",
    "\n",
    "#Transmon\n",
    "levels_t = 3\n",
    "transm = pysqkit.qubits.SimpleTransmon(\n",
    "    label='T', \n",
    "    max_freq=parameters_set[p_set][\"max_freq_t\"], \n",
    "    anharm=parameters_set[p_set][\"anharm_t\"],\n",
    "    diel_loss_tan=None, \n",
    "    env_thermal_energy=None,    \n",
    "    dim_hilbert=levels_t,\n",
    "    dephasing_times=None\n",
    ")\n",
    "\n",
    "#Fluxonium\n",
    "levels_f = 6\n",
    "\n",
    "flx = pysqkit.qubits.Fluxonium(\n",
    "    label='F', \n",
    "    charge_energy=parameters_set[p_set][\"charge_energy_f\"], \n",
    "    induct_energy=parameters_set[p_set][\"induct_energy_f\"], \n",
    "    joseph_energy=parameters_set[p_set][\"joseph_energy_f\"], \n",
    "    diel_loss_tan=parameters_set[p_set][\"diel_loss_tan_f\"], \n",
    "    env_thermal_energy=None,\n",
    "    dephasing_times=None\n",
    ")\n",
    "flx.diagonalize_basis(levels_f)\n",
    "\n",
    "flx.add_drive(\n",
    "    pysqkit.drives.microwave_drive,\n",
    "    label='cr_drive_f',\n",
    "    pulse=pysqkit.drives.pulses.cos_modulation,\n",
    "    pulse_shape=pysqkit.drives.pulse_shapes.gaussian_top\n",
    ")\n",
    "\n",
    "jc = parameters_set[p_set][\"jc\"]\n",
    "coupled_sys = transm.couple_to(flx, coupling=pysqkit.couplers.capacitive_coupling, strength=jc)\n",
    "bare_system = transm.couple_to(flx, coupling=pysqkit.couplers.capacitive_coupling, strength=0.0)\n",
    "\n",
    "states_label = coupled_sys.all_state_labels()\n",
    "states_dict = coupled_sys.states_as_dict(as_qobj=True)"
   ]
  },
  {
   "cell_type": "code",
   "execution_count": null,
   "id": "e4cfd134",
   "metadata": {},
   "outputs": [],
   "source": [
    "levels_to_plot = ['00', '01', '10', '11', '02', '20', '12','21', '03', '13', '04']\n",
    "\n",
    "ground_energy = bare_system.state('00')[0]\n",
    "energy = {}\n",
    "state = {}\n",
    "x_avg = {}\n",
    "\n",
    "for level in levels_to_plot:\n",
    "    energy[level] = bare_system.state(level)[0] - ground_energy\n",
    "    state[level] = bare_system.state(level)[1]\n",
    "\n",
    "qubit_labels = bare_system.labels\n",
    "n1n2_op = bare_system[qubit_labels[0]].charge_op().dot(bare_system[qubit_labels[1]].charge_op())\n",
    "abs_mat_elem_list = []\n",
    "count = 0\n",
    "for level_1 in levels_to_plot:\n",
    "    for level_2 in levels_to_plot:\n",
    "        abs_mat_elem_list.append(np.abs(get_mat_elem(n1n2_op, state[level_1], state[level_2])))\n",
    "max_abs_mat_elem = max(abs_mat_elem_list)\n",
    "\n",
    "abs_mat_elem = {}\n",
    "\n",
    "for level_1 in levels_to_plot:\n",
    "        for level_2 in levels_to_plot:\n",
    "            abs_mat_elem[level_1 + \"_\" + level_2] = np.abs(get_mat_elem(n1n2_op, state[level_1], state[level_2]))\n",
    "\n",
    "my_data = {}\n",
    "my_data[\"energy\"] = energy\n",
    "my_data[\"abs_mat_elem\"] = abs_mat_elem"
   ]
  },
  {
   "cell_type": "code",
   "execution_count": 5,
   "id": "81bc2a8d",
   "metadata": {},
   "outputs": [],
   "source": [
    "save = True\n",
    "if save:\n",
    "    with open('data_' + p_set + '.txt', 'w') as fp:\n",
    "        json.dump(my_data, fp)"
   ]
  },
  {
   "cell_type": "code",
   "execution_count": null,
   "id": "b7814403",
   "metadata": {},
   "outputs": [],
   "source": []
  }
 ],
 "metadata": {
  "kernelspec": {
   "display_name": "transmon_fluxonium",
   "language": "python",
   "name": "transmon_fluxonium"
  },
  "language_info": {
   "codemirror_mode": {
    "name": "ipython",
    "version": 3
   },
   "file_extension": ".py",
   "mimetype": "text/x-python",
   "name": "python",
   "nbconvert_exporter": "python",
   "pygments_lexer": "ipython3",
   "version": "3.10.4"
  }
 },
 "nbformat": 4,
 "nbformat_minor": 5
}
