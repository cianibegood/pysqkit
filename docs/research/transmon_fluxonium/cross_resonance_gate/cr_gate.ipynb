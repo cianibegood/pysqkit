{
 "cells": [
  {
   "cell_type": "markdown",
   "metadata": {},
   "source": [
    "# Cross-resonance gate between a transmon and a fluxonium: driving fluxonium\n",
    "\n",
    "In this notebook we study the cross-resonance two-qubit gate between a transmon and a fluxonium. "
   ]
  },
  {
   "cell_type": "code",
   "execution_count": 1,
   "metadata": {},
   "outputs": [],
   "source": [
    "import numpy as np\n",
    "import scipy.integrate\n",
    "import time\n",
    "import qutip as qtp\n",
    "import matplotlib.pyplot as plt\n",
    "from scipy.optimize import minimize\n",
    "import pysqkit\n",
    "from pysqkit import QubitSystem\n",
    "from pysqkit.drives.pulse_shapes import gaussian_top\n",
    "from pysqkit.util.metrics import average_process_fidelity, \\\n",
    "    average_gate_fidelity\n",
    "from pysqkit.util.phys import temperature_to_thermalenergy\n",
    "from pysqkit.util.quantum import generalized_rabi_frequency\n",
    "import pysqkit.util.transformations as trf\n",
    "from pysqkit.util.linalg import get_mat_elem\n",
    "from pysqkit.solvers.solvkit import integrate\n",
    "from pysqkit.util.hsbasis import weyl_by_index\n",
    "from pysqkit.solvers import solvkit\n",
    "from pysqkit.drives.pulse_shapes import gaussian_top\n",
    "import qutip\n",
    "from typing import List, Dict, Callable\n",
    "import matplotlib\n",
    "matplotlib.rcParams['mathtext.fontset'] = 'cm'\n",
    "import util_cr as util\n",
    "import copy\n",
    "import json\n",
    "import cmath\n",
    "\n",
    "from IPython.display import display, Latex"
   ]
  },
  {
   "cell_type": "markdown",
   "metadata": {},
   "source": [
    "The gate is based on the following driven Hamiltonian of a fluxonium and a transmon capacitively coupled\n",
    "\n",
    "$$H = H^{(0)}_T + H^{(0)}_F + V + H_{drive},$$\n",
    "\n",
    "$$H^{(0)}_T =  \\hbar \\omega_T \\hat{b}^{\\dagger}\\hat{b} + \\hbar \\frac{\\delta_T}{2} \\hat{b}^{\\dagger} \\hat{b}^{\\dagger}\\hat{b} \\hat{b},$$\n",
    "\n",
    "$$H^{(0)}_F = 4 E_{C,F} \\cdot \\hat{q}^2_F + \\frac{1}{2}E_{L,F}\\cdot\\hat{\\varphi}^2_F - E_{J,F}\\cos\\left(\\hat{\\varphi}_F - \\phi_{ext,F}\\right),$$\n",
    "\n",
    "$$V = J_C \\cdot \\hat{q}_T \\cdot \\hat{q}_F,$$\n",
    "\n",
    "$$\\frac{H_{drive}}{h} = \\left( \\varepsilon_T \\hat{q}_T + \\varepsilon_F \\hat{q}_F \\right) \\cos(2\\pi f_d t).$$\n",
    "\n",
    "The (approximate) charge operator for the transmon in terms of annihilation and creation operators reads\n",
    "\n",
    "$$\n",
    "\\hat{q}_T = i \\biggl( \\frac{E_J}{32 |\\delta_T |} \\biggr)^{1/4} (b^{\\dagger} - b),\n",
    "$$\n",
    "where \n",
    "$$\n",
    "E_J = \\hbar \\biggl(\\frac{\\omega_T - \\delta_T}{8 | \\delta_T |} \\biggr)^2.\n",
    "$$\n",
    "\n",
    "In the following we introduce relaxation due to dielectric loss and pure dephasing on each qubit as error channels. \n",
    "\n",
    "The idea behind the cross-resonance gate is to drive one of the qubit at the frequency of the other using the fact that due to the coupling we have a $Z X$ term in the Hamiltonian. In particular, we will explore the idea of driving the fluxonium at the transmon frequency. The opposite idea to drive the transmon at the fluxonium frequency does not seem that promising. However, one might evaluate using Raman transitions."
   ]
  },
  {
   "cell_type": "markdown",
   "metadata": {
    "heading_collapsed": true
   },
   "source": [
    "# Introducing the qubits and the coupled system"
   ]
  },
  {
   "cell_type": "code",
   "execution_count": 2,
   "metadata": {},
   "outputs": [],
   "source": [
    "with open('../flx_transm_params.txt') as param_file:\n",
    "    parameters_set = json.load(param_file)"
   ]
  },
  {
   "cell_type": "code",
   "execution_count": 3,
   "metadata": {},
   "outputs": [
    {
     "data": {
      "text/plain": [
       "{'max_freq_t': 5.5,\n",
       " 'anharm_t': -0.3,\n",
       " 'diel_loss_tan_t': 7.5e-07,\n",
       " 'dephasing_times_t': {'1': 314159.26535897935, '2': 188495.55921538756},\n",
       " 'charge_energy_f': 1.0,\n",
       " 'induct_energy_f': 1.0,\n",
       " 'joseph_energy_f': 4.0,\n",
       " 'diel_loss_tan_f': 7.099999999999999e-06,\n",
       " 'dephasing_times_f': {'1': 1256637.0614359174,\n",
       "  '2': 125663.70614359173,\n",
       "  '3': 125663.70614359173,\n",
       "  '4': 31415.926535897932},\n",
       " 'jc': 0.02}"
      ]
     },
     "execution_count": 3,
     "metadata": {},
     "output_type": "execute_result"
    }
   ],
   "source": [
    "parameters_set[\"3\"]"
   ]
  },
  {
   "cell_type": "code",
   "execution_count": 16,
   "metadata": {
    "hidden": true
   },
   "outputs": [],
   "source": [
    "temperature = 0.020 # K\n",
    "thermal_energy = temperature_to_thermalenergy(temperature) # kb T/h in GHz\n",
    "d_comp = 4\n",
    "\n",
    "p_set = \"3\"\n",
    "\n",
    "\n",
    "#Transmon\n",
    "levels_t = 3\n",
    "transm = pysqkit.qubits.SimpleTransmon(\n",
    "    label='T', \n",
    "    max_freq=parameters_set[p_set][\"max_freq_t\"], \n",
    "    anharm=parameters_set[p_set][\"anharm_t\"],\n",
    "    diel_loss_tan=parameters_set[p_set][\"diel_loss_tan_t\"], #set to zero to check d_1 L1 = d_2 L2\n",
    "    env_thermal_energy=thermal_energy,    \n",
    "    dim_hilbert=levels_t,\n",
    "    dephasing_times=None #parameters_set[p_set][\"dephasing_times_t\"]\n",
    ")\n",
    "\n",
    "#Fluxonium\n",
    "levels_f = 7\n",
    "\n",
    "flx = pysqkit.qubits.Fluxonium(\n",
    "    label='F', \n",
    "    charge_energy=parameters_set[p_set][\"charge_energy_f\"], \n",
    "    induct_energy=parameters_set[p_set][\"induct_energy_f\"], \n",
    "    joseph_energy=parameters_set[p_set][\"joseph_energy_f\"], #8.0, \n",
    "    diel_loss_tan=parameters_set[p_set][\"diel_loss_tan_f\"], #set to zero to check d_1 L1 = d_2 L2\n",
    "    env_thermal_energy=thermal_energy,\n",
    "    dephasing_times=None #parameters_set[p_set][\"dephasing_times_f\"] #ns/2*np.pi \n",
    ")\n",
    "flx.diagonalize_basis(levels_f)\n",
    "\n",
    "# We also add a drive on the fluxonium\n",
    "flx.add_drive(\n",
    "    pysqkit.drives.microwave_drive,\n",
    "    label='cr_drive_f',\n",
    "    pulse=pysqkit.drives.pulses.cos_modulation,\n",
    "    pulse_shape=pysqkit.drives.pulse_shapes.gaussian_top\n",
    ")\n",
    "\n",
    "d_leak = levels_t*levels_f - d_comp\n",
    "\n",
    "jc = parameters_set[p_set][\"jc\"]\n",
    "coupled_sys = transm.couple_to(flx, coupling=pysqkit.couplers.capacitive_coupling, strength=jc)\n",
    "bare_system = transm.couple_to(flx, coupling=pysqkit.couplers.capacitive_coupling, strength=0.0)\n",
    "\n",
    "states_label = coupled_sys.all_state_labels()\n",
    "states_dict = coupled_sys.states_as_dict(as_qobj=True)\n",
    "flx_freq = flx.eig_energies(2)[1] - flx.eig_energies(2)[0]\n",
    "flx_freq_03 = flx.eig_energies(4)[3] - flx.eig_energies(4)[0]\n",
    "flx_freq_12 = flx.eig_energies(4)[2] - flx.eig_energies(4)[1]"
   ]
  },
  {
   "cell_type": "code",
   "execution_count": 17,
   "metadata": {},
   "outputs": [],
   "source": [
    "state_label = [\"00\", \"01\", \"10\", \"11\"]\n",
    "comp_states = {}\n",
    "for label in state_label:\n",
    "    state_tmp = coupled_sys.state(label)[1]\n",
    "    loc = np.argmax(np.abs(state_tmp))\n",
    "    phase = cmath.phase(state_tmp[loc])\n",
    "    state_tmp = np.exp(-1j*phase)*state_tmp\n",
    "    comp_states[label] = state_tmp"
   ]
  },
  {
   "cell_type": "markdown",
   "metadata": {},
   "source": [
    "The basis principle behind the gate is illustrated in the following figure"
   ]
  },
  {
   "cell_type": "code",
   "execution_count": 18,
   "metadata": {},
   "outputs": [
    {
     "data": {
      "image/png": "[encoded data removed]",
      "text/plain": [
       "<Figure size 720x576 with 1 Axes>"
      ]
     },
     "metadata": {
      "needs_background": "light"
     },
     "output_type": "display_data"
    }
   ],
   "source": [
    "level_list = ['00', '01', '10', '11', '02', '20', '12','21', '03', '13', '04']\n",
    "\n",
    "util.energy_levels_diagram(bare_system, level_list, show_drive=False)"
   ]
  },
  {
   "cell_type": "markdown",
   "metadata": {},
   "source": [
    "The figure shows the energy of the bare levels. The orange arrows indicate the non-zero matrix elements between the (bare) levels provided by the capacitive coupling $V$: the more shaded the arrow the weaker the coupling. \n",
    "We look at the following quantities : \n",
    "\n",
    "$$\\zeta_{ZZ} = E_{00} + E_{11} - E_{01} - E_{10}$$\n",
    "$$\\mu_{YZ} = \\lvert \\langle 10 | q_{F} | 00 \\rangle - \\langle 11 | q_{F} |01 \\rangle \\rvert $$\n",
    "$$\\mu_{Y} = \\lvert \\langle 10 | q_{F} | 00 \\rangle + \\langle 11 | q_{F} |01 \\rangle \\rvert $$\n",
    "\n",
    "The second term quantifies the gate speed. Notice that if the phase of the drive is $0$ one hase a $YZ$ term from the charge operator. \n",
    "\n",
    "For the given parameters we have"
   ]
  },
  {
   "cell_type": "code",
   "execution_count": 19,
   "metadata": {},
   "outputs": [],
   "source": [
    "def mu_yz_flx(comp_states, op) -> float:\n",
    "    yz0 = get_mat_elem(op, comp_states['00'], comp_states['10'])\n",
    "    yz1 = get_mat_elem(op, comp_states['01'], comp_states['11'] )\n",
    "    return (np.imag(yz0 - yz1))/2\n",
    "\n",
    "def mu_yi_flx(comp_states, op) -> float:\n",
    "    yz0 = get_mat_elem(op, comp_states['00'], comp_states['10'] )\n",
    "    yz1 = get_mat_elem(op, comp_states['01'], comp_states['11'] )\n",
    "    return (np.imag(yz0 + yz1))/2"
   ]
  },
  {
   "cell_type": "code",
   "execution_count": 20,
   "metadata": {},
   "outputs": [
    {
     "data": {
      "text/latex": [
       "$f_{flx} = 581.849 \\, \\mathrm{MHz}$"
      ],
      "text/plain": [
       "<IPython.core.display.Latex object>"
      ]
     },
     "metadata": {},
     "output_type": "display_data"
    },
    {
     "data": {
      "text/latex": [
       "$\\xi_{ZZ}/h = 0.118 \\, \\mathrm{MHz}$"
      ],
      "text/plain": [
       "<IPython.core.display.Latex object>"
      ]
     },
     "metadata": {},
     "output_type": "display_data"
    },
    {
     "data": {
      "text/latex": [
       "$\\mu_{YZ} = -0.0027 $"
      ],
      "text/plain": [
       "<IPython.core.display.Latex object>"
      ]
     },
     "metadata": {},
     "output_type": "display_data"
    },
    {
     "data": {
      "text/latex": [
       "$\\mu_{YI} = -0.0004 $"
      ],
      "text/plain": [
       "<IPython.core.display.Latex object>"
      ]
     },
     "metadata": {},
     "output_type": "display_data"
    }
   ],
   "source": [
    "display(Latex(r'$f_{{flx}} = {:.3f} \\, \\mathrm{{MHz}}$'.format(flx_freq*1e3)))\n",
    "display(Latex(r'$\\xi_{{ZZ}}/h = {:.3f} \\, \\mathrm{{MHz}}$'.format(1e3*util.zz(coupled_sys))))\n",
    "q_op = coupled_sys[\"F\"].charge_op()\n",
    "display(Latex(r'$\\mu_{{YZ}} = {:.4f} $'.format(mu_yz_flx(comp_states, q_op))))\n",
    "display(Latex(r'$\\mu_{{YI}} = {:.4f} $'.format(mu_yi_flx(comp_states, q_op))))"
   ]
  },
  {
   "cell_type": "markdown",
   "metadata": {},
   "source": [
    "The aim of the cross-resonance gate is to realize the following unitary\n",
    "$$\n",
    "\\mathrm{CR}_{\\theta} = e^{-i \\frac{\\theta}{2} X \\otimes Z } = \\cos\\biggl(\\frac{\\theta}{2} \\biggr) I -i \\sin\\biggl(\\frac{\\theta}{2} \\biggr) X \\otimes Z\n",
    "$$\n",
    "\n",
    "In particular it is known that $\\mathrm{CR}_{-\\pi/2}$ is equivalent to a CNOT up to single-qubit gates."
   ]
  },
  {
   "cell_type": "code",
   "execution_count": 21,
   "metadata": {},
   "outputs": [],
   "source": [
    "def func_to_minimize(\n",
    "    pulse_time: list,\n",
    "    t_rise: float,\n",
    "    eps: float\n",
    ") -> float:\n",
    "    step = 1e-3\n",
    "    n_points = int(pulse_time[0]/step)\n",
    "    times = np.linspace(0, pulse_time[0], n_points)\n",
    "    pulse = gaussian_top(times, t_rise, pulse_time[0])\n",
    "    integral = scipy.integrate.simpson(2*np.pi*eps*pulse, times)\n",
    "    return np.abs(integral - np.pi/4)  #Watch out factor of 2?  \n",
    "    "
   ]
  },
  {
   "cell_type": "code",
   "execution_count": 22,
   "metadata": {},
   "outputs": [
    {
     "name": "stdout",
     "output_type": "stream",
     "text": [
      "      fun: 1.700650731351061e-11\n",
      " hess_inv: array([[6643.51295204]])\n",
      "      jac: array([0.00297453])\n",
      "  message: 'Desired error not necessarily achieved due to precision loss.'\n",
      "     nfev: 104\n",
      "      nit: 1\n",
      "     njev: 46\n",
      "   status: 2\n",
      "  success: False\n",
      "        x: array([154.68693179])\n",
      "t_tot: 154.68693179308082 ns\n"
     ]
    }
   ],
   "source": [
    "eps_drive = 0.62 #GHz\n",
    "op = coupled_sys[\"F\"].charge_op()*eps_drive\n",
    "freq_drive = transm.max_freq\n",
    "omega_drive = np.abs(get_mat_elem(op, coupled_sys.state(\"01\")[1], coupled_sys.state(\"11\")[1]))\n",
    "delta_drive = freq_drive - transm.max_freq\n",
    "rabi_period = 1/np.sqrt(omega_drive**2 + delta_drive**2)\n",
    "t_rise = 5.0 # [ns]\n",
    "\n",
    "t_tot_0 = [100.0]\n",
    "\n",
    "args_to_pass = (t_rise, np.abs(mu_yz_flx(comp_states, q_op))*eps_drive/2) #factor of two seems right here\n",
    "\n",
    "# We find the total time to obtain the desired gate\n",
    "\n",
    "start = time.time()\n",
    "\n",
    "minimization_result = minimize(func_to_minimize, t_tot_0, args=args_to_pass)\n",
    "\n",
    "print(minimization_result)\n",
    "\n",
    "end = time.time()\n",
    "\n",
    "t_tot = minimization_result['x'][0] #1/(util.y_z_flx(coupled_sys, 'F')*eps_drive*4)  # [ns]\n",
    "print(\"t_tot: {} ns\".format(t_tot))\n",
    "pts_per_drive_period = 10\n",
    "\n",
    "#t_tot = 135\n",
    "\n",
    "nb_points = int(t_tot*freq_drive*pts_per_drive_period)\n",
    "tlist = np.linspace(0, t_tot, nb_points)\n",
    "\n",
    "coupled_sys['F'].drives['cr_drive_f'].set_params(phase=0, time=tlist, rise_time=t_rise, pulse_time=t_tot,\n",
    "                                                 amp=eps_drive, freq=freq_drive)\n"
   ]
  },
  {
   "cell_type": "code",
   "execution_count": 23,
   "metadata": {},
   "outputs": [],
   "source": [
    "simu_opt = qtp.solver.Options()\n",
    "simu_opt.atol = 1e-12\n",
    "simu_opt.rtol = 1e-10\n",
    "state_in = coupled_sys.state('00', as_qobj=True)[1]\n",
    "hamil0 = coupled_sys.hamiltonian(as_qobj=True)\n",
    "hamil_drive = []\n",
    "pulse_drive = []\n",
    "for qubit in coupled_sys:\n",
    "    if qubit.is_driven:\n",
    "        for label, drive in qubit.drives.items():\n",
    "            hamil_drive.append(drive.hamiltonian(as_qobj=True))\n",
    "            pulse_drive.append(drive.eval_pulse())\n",
    "output = solvkit.integrate(2*np.pi*tlist, state_in, hamil0, hamil_drive, pulse_drive, [], \n",
    "                           \"mesolve\", options=simu_opt)"
   ]
  },
  {
   "cell_type": "code",
   "execution_count": 24,
   "metadata": {},
   "outputs": [
    {
     "name": "stdout",
     "output_type": "stream",
     "text": [
      "Computation time: 51.59010195732117 ns\n"
     ]
    }
   ],
   "source": [
    "levels = ['00', '10', '20', '03', '13', '01', '11']\n",
    "probs = {}\n",
    "eval_step = 50\n",
    "tlist_eval = tlist[::eval_step]\n",
    "\n",
    "start = time.time()\n",
    "\n",
    "for lev in levels:\n",
    "    prob_list = []\n",
    "    for k in range(len(tlist_eval)):\n",
    "        state = coupled_sys.state(lev, as_qobj=True)[1]\n",
    "        prob_list.append(qutip.expect(state*state.dag(), output.states[k*eval_step]))\n",
    "    probs[lev] = prob_list\n",
    "\n",
    "end = time.time()\n",
    "\n",
    "print(\"Computation time: {} ns\".format(end - start))"
   ]
  },
  {
   "cell_type": "code",
   "execution_count": 25,
   "metadata": {},
   "outputs": [
    {
     "data": {
      "image/png": "[encoded data removed]",
      "text/plain": [
       "<Figure size 576x432 with 1 Axes>"
      ]
     },
     "metadata": {
      "needs_background": "light"
     },
     "output_type": "display_data"
    }
   ],
   "source": [
    "def prob_plot(\n",
    "    tlist: np.ndarray, \n",
    "    probs: dict, \n",
    "    opt: dict={'fs': 18, 'lw': 2.0, 'lw_levels': 3.0, 'ls': 16}\n",
    ") -> None:\n",
    "    colors=['black', 'blue', 'red', 'orange', 'blueviolet', 'green', 'grey']\n",
    "    levels = list(probs.keys())\n",
    "    n_levels = len(levels)\n",
    "    fig, ax = plt.subplots(figsize=(8, 6))\n",
    "    for lev, k in zip(levels, range(n_levels)):\n",
    "        ax.plot(tlist, probs[lev], linewidth=opt['lw'], \n",
    "                color=colors[k], label='$P_{' + lev + '}$')\n",
    "    ax.set_xlabel('$t \\, [\\mathrm{ns}]$', fontsize=opt['fs'])\n",
    "    ax.tick_params(labelsize=opt['ls'])\n",
    "    plt.legend(fontsize=opt['fs'])\n",
    "    plt.show()\n",
    "    \n",
    "prob_plot(tlist_eval, probs)  "
   ]
  },
  {
   "cell_type": "markdown",
   "metadata": {},
   "source": [
    "We introduce the TomoEnv object. We also refine the absolute and relative tolerance of the qutip solver "
   ]
  },
  {
   "cell_type": "code",
   "execution_count": 26,
   "metadata": {},
   "outputs": [],
   "source": [
    "simu_opt = qtp.solver.Options()\n",
    "simu_opt.atol = 1e-12\n",
    "simu_opt.rtol = 1e-10\n",
    "\n",
    "env_syst = pysqkit.tomography.TomoEnv(system=coupled_sys, time=2*np.pi*tlist, options=simu_opt, with_noise=True)"
   ]
  },
  {
   "cell_type": "markdown",
   "metadata": {},
   "source": [
    "The TomoEnv class can now return the superoperator representation of the quantum operation in an arbitrary Hilbert-Schmidt basis for a $d$-dimensional subspace, as long as this is a basis of diagonalizable operators. For instance the basis $|n \\rangle \\langle m|$, $n, m= 0, \\dots, d-1$ is not a diagonalizable basis and thus the method cannot be used. \n",
    "\n",
    "In what follows we are interested in obtaining a superoperator representation of a quantum operation in the computational subspace that we here define"
   ]
  },
  {
   "cell_type": "code",
   "execution_count": 27,
   "metadata": {},
   "outputs": [],
   "source": [
    "comp_states_list = []\n",
    "for key in comp_states.keys():\n",
    "    comp_states_list.append(comp_states[key])"
   ]
  },
  {
   "cell_type": "markdown",
   "metadata": {},
   "source": [
    "We remark that the specification of the subspace is left to the user and it has arbitrary dimension. The user must check that the given kets are indeed orthogonal. \n",
    "\n",
    "In what follows we will use the Weyl basis for qudits ($d>2$) as Hilbert-Schmidt basis. These are defined via the standard definition of $Z$ and $X$ operators for qudits (see Howard et al Nature volume 510, pages351–355 (2014)):\n",
    "\n",
    "$$\n",
    "Z | j \\rangle= \\omega^j | j \\rangle,\n",
    "$$\n",
    "$$\n",
    "X | j \\rangle = | j + 1 \\mod d \\rangle,\n",
    "$$\n",
    "where $\\omega = \\exp \\bigl[ \\frac{2 \\pi i}{d} \\bigr ]$.\n",
    "\n",
    "The (normalized) Weyl operators for qudits are defined as\n",
    "\n",
    "$$\n",
    "D(\\boldsymbol{\\xi})=D \\bigl( \\boldsymbol{\\xi} = \\begin{bmatrix}\\xi_x & \\xi_z \n",
    "\\end{bmatrix}^T \\bigr) = \\frac{1}{\\sqrt{d}} \\omega^{- \\frac{d+1}{2} \\xi_x \\xi_z} X^{\\xi_x} Z^{\\xi_z}, \\quad \\xi_x, \\xi_z \\in \\mathbb{Z}_d = \\{0, 1, \\dots, d-1 \\}.\n",
    "$$\n",
    "The Weyl operators form an orthonormal basis for the Hilbert space of (bounded) $d \\times d$ matrices with Hilbert-Schmidt inner product\n",
    "\n",
    "$$\n",
    "\\langle A, B \\rangle = \\mathrm{Tr}(A^{\\dagger} B).\n",
    "$$\n",
    "In fact\n",
    "$$\n",
    "\\langle D(\\boldsymbol{\\xi}), D(\\boldsymbol{\\xi}') \\rangle = \\delta_{\\boldsymbol{\\xi}, \\boldsymbol{\\xi}'}.\n",
    " $$\n",
    "\n",
    "In order to use this basis to write our superoperator we simply need a function that orders them. Thus, this function should take as argument an index $i$ associated with the Weyl operator as well as the qudit dimension $d$ ($i < d^2$). The same is valid for any orthonormal Hilbert-Schmidt basis we wish to define, as long as it is a basis of diagonalizable matrices. \n",
    "\n",
    "\n",
    "We can easily obtain the superoperator in the Weyl basis. Notice that this gives information only within the defined computational subspace and not on the leakage subspace. Thus the following superoperator is complete knowledge of the states within the computational subspaces only if the leakage is zero. However, the following superoperator is the one needed to compute process fidelities as described in Eq. 8 of Wood-Gambetta Phys. Rev. A 97, 032306 (2018). The method to_super in the TomoEnv class is parallelized and we can specify the number of processes. "
   ]
  },
  {
   "cell_type": "code",
   "execution_count": 28,
   "metadata": {},
   "outputs": [
    {
     "name": "stdout",
     "output_type": "stream",
     "text": [
      "Computational time = 548.0553364753723 s\n"
     ]
    }
   ],
   "source": [
    "n_process = 4\n",
    "\n",
    "start = time.time()\n",
    "sup_op = env_syst.to_super(comp_states_list, weyl_by_index, n_process)\n",
    "end = time.time()\n",
    "print(\"Computational time = \" + str(end - start) + ' s')"
   ]
  },
  {
   "cell_type": "markdown",
   "metadata": {},
   "source": [
    "Notice how the superoperator can be obtained for any system and its operations are completely system agnostic.\n",
    "\n",
    "We now use the previous superoperator to compute the process fidelity and average gate fidelity with respect to a $\\mathrm{CZ}$ gate. First of all, we need to obtain the single-qubit gate corrections. This can be done directly from the superoperator via the following function."
   ]
  },
  {
   "cell_type": "code",
   "execution_count": 29,
   "metadata": {},
   "outputs": [],
   "source": [
    "sq_corr = util.single_qubit_corrections(sup_op, weyl_by_index)\n",
    "sq_corr_sup = trf.kraus_to_super(sq_corr, weyl_by_index)\n",
    "total_sup_op = sq_corr_sup.dot(sup_op)"
   ]
  },
  {
   "cell_type": "markdown",
   "metadata": {},
   "source": [
    "We now compute the process fidelity. In order to do this we first need to obtain the superoperator representation of the $\\mathrm{CZ}$ in the Weyl basis. This can be done via the function qutip.util.transformations.kraus_to_super"
   ]
  },
  {
   "cell_type": "code",
   "execution_count": 30,
   "metadata": {},
   "outputs": [
    {
     "data": {
      "image/png": "[encoded data removed]",
      "text/plain": [
       "<Figure size 432x288 with 1 Axes>"
      ]
     },
     "metadata": {
      "needs_background": "light"
     },
     "output_type": "display_data"
    }
   ],
   "source": [
    "def cry(theta):\n",
    "    ide = np.identity(4)\n",
    "    yz = np.kron(np.array([[0, -1j], [1j, 0]]), np.array([[1, 0], [0, -1]]))\n",
    "    return np.cos(theta/2)*ide - 1j*np.sin(theta/2)*yz\n",
    "\n",
    "def crx(theta):\n",
    "    ide = np.identity(4)\n",
    "    zx = np.kron(np.array([[0, 1], [1, 0]]), np.array([[1, 0], [0, -1]]))\n",
    "    return np.cos(theta/2)*ide - 1j*np.sin(theta/2)*zx\n",
    "\n",
    "theta_list = list(np.linspace(0, 2*np.pi, 100))\n",
    "fid_list = []\n",
    "for theta in theta_list:\n",
    "    cr_super = trf.kraus_to_super(cry(theta), weyl_by_index)\n",
    "    fid_list.append(average_process_fidelity(cr_super, total_sup_op))\n",
    "\n",
    "plt.plot(theta_list, fid_list)\n",
    "plt.show()"
   ]
  },
  {
   "cell_type": "markdown",
   "metadata": {},
   "source": [
    "We can now compute the process fidelity"
   ]
  },
  {
   "cell_type": "code",
   "execution_count": 31,
   "metadata": {},
   "outputs": [
    {
     "data": {
      "text/latex": [
       "$F_{pro} = 0.98578$"
      ],
      "text/plain": [
       "<IPython.core.display.Latex object>"
      ]
     },
     "metadata": {},
     "output_type": "display_data"
    }
   ],
   "source": [
    "cr_super_target = trf.kraus_to_super(cry(-np.pi/2), weyl_by_index)\n",
    "f_pro = average_process_fidelity(cr_super_target, total_sup_op)\n",
    "display(Latex(r'$F_{{pro}} = {:.5f}$'.format(f_pro)))"
   ]
  },
  {
   "cell_type": "markdown",
   "metadata": {},
   "source": [
    "Notice that this is by choice not done within the TomoEnv class, since the TomoEnv class should be agnostic of which gate we want to implement. Since during the gate also an unwanted $Y$ rotations is implemented let us try to virtually correct it. In particular, we look for the $Y$ rotation on the transmon that maximized the fidelity."
   ]
  },
  {
   "cell_type": "code",
   "execution_count": 32,
   "metadata": {},
   "outputs": [],
   "source": [
    "def ry_t(theta):\n",
    "    rot_y = np.cos(theta/2)*np.identity(2) - 1j*np.sin(theta/2)*np.array([[0, -1j], [1j, 0]])\n",
    "    return np.kron(rot_y, np.identity(2))\n",
    "\n",
    "def ry_f(theta):\n",
    "    rot_y = np.cos(theta/2)*np.identity(2) - 1j*np.sin(theta/2)*np.array([[0, -1j], [1j, 0]])\n",
    "    return np.kron(np.identity(2), rot_y)"
   ]
  },
  {
   "cell_type": "code",
   "execution_count": 33,
   "metadata": {},
   "outputs": [
    {
     "data": {
      "image/png": "[encoded data removed]",
      "text/plain": [
       "<Figure size 432x288 with 1 Axes>"
      ]
     },
     "metadata": {
      "needs_background": "light"
     },
     "output_type": "display_data"
    },
    {
     "data": {
      "text/latex": [
       "Maximum achievable fidelity after ideal $Y$ rotations = $0.9905197724058201$"
      ],
      "text/plain": [
       "<IPython.core.display.Latex object>"
      ]
     },
     "metadata": {},
     "output_type": "display_data"
    }
   ],
   "source": [
    "fid_list_ry = []\n",
    "for theta in theta_list:\n",
    "    rot_y_super = trf.kraus_to_super(ry_t(theta), weyl_by_index)\n",
    "    fid_list_ry.append(average_process_fidelity(cr_super_target, rot_y_super.dot(total_sup_op)))\n",
    "\n",
    "fid_ry = np.array(fid_list_ry)\n",
    "\n",
    "plt.plot(theta_list, fid_ry)\n",
    "plt.show()\n",
    "max_fid = np.max(fid_ry)\n",
    "max_index = np.argmax(fid_ry)\n",
    "sup_rot_y_opt = trf.kraus_to_super(ry_t(theta_list[max_index]), weyl_by_index)\n",
    "display(Latex(r\"Maximum achievable fidelity after ideal $Y$ rotations = ${}$\".format(max_fid)))"
   ]
  },
  {
   "cell_type": "markdown",
   "metadata": {},
   "source": [
    "The average leakage and seepage is instead computed within the TomoEnv class. This is because we just need to specify a subspace to determine them, similarly to the determination of the superoperator. We use Eq. 2 and 3 in Wood-Gambetta Phys. Rev. A 97, 032306 (2018) to calculate the average leakage and seepage respectively. "
   ]
  },
  {
   "cell_type": "code",
   "execution_count": 142,
   "metadata": {},
   "outputs": [
    {
     "data": {
      "text/latex": [
       "$L_1(\\mathcal{E} ) = 0.0000538$"
      ],
      "text/plain": [
       "<IPython.core.display.Latex object>"
      ]
     },
     "metadata": {},
     "output_type": "display_data"
    }
   ],
   "source": [
    "avg_leakage = env_syst.leakage(comp_states_list)\n",
    "display(Latex(r'$L_1(\\mathcal{{E}} ) = {:.7f}$'.format(avg_leakage)))"
   ]
  },
  {
   "cell_type": "markdown",
   "metadata": {},
   "source": [
    "We observe that leakage is sensitive to whether we have a smooth rise time or not..."
   ]
  },
  {
   "cell_type": "code",
   "execution_count": 28,
   "metadata": {},
   "outputs": [
    {
     "data": {
      "text/latex": [
       "$L_2(\\mathcal{E} ) = 0.0000071$"
      ],
      "text/plain": [
       "<IPython.core.display.Latex object>"
      ]
     },
     "metadata": {},
     "output_type": "display_data"
    }
   ],
   "source": [
    "avg_seepage = env_syst.seepage(comp_states_list)\n",
    "display(Latex(r'$L_2(\\mathcal{{E}} ) = {:.7f}$'.format(avg_seepage)))"
   ]
  },
  {
   "cell_type": "markdown",
   "metadata": {},
   "source": [
    "We can also check that with the selected accuracy of the qutip solver, for unitary dynamics (set loss tangents equal to zero) we reproduce the relation between leakage and seepage $d_1 L_1(\\mathcal{E}) = d_2 L_2(\\mathcal{E})$ ($d_1=4, d_2 = 11$)"
   ]
  },
  {
   "cell_type": "code",
   "execution_count": 335,
   "metadata": {},
   "outputs": [
    {
     "data": {
      "text/latex": [
       "$d_1 L_1(\\mathcal{E} ) = 0.0000757$"
      ],
      "text/plain": [
       "<IPython.core.display.Latex object>"
      ]
     },
     "metadata": {},
     "output_type": "display_data"
    }
   ],
   "source": [
    "display(Latex(r'$d_1 L_1(\\mathcal{{E}} ) = {:.7f}$'.format(d_comp*avg_leakage)))"
   ]
  },
  {
   "cell_type": "code",
   "execution_count": 336,
   "metadata": {},
   "outputs": [
    {
     "data": {
      "text/latex": [
       "$d_2 L_2(\\mathcal{E} ) = 0.0000759$"
      ],
      "text/plain": [
       "<IPython.core.display.Latex object>"
      ]
     },
     "metadata": {},
     "output_type": "display_data"
    }
   ],
   "source": [
    "display(Latex(r'$d_2 L_2(\\mathcal{{E}} ) = {:.7f}$'.format(d_leak*avg_seepage)))"
   ]
  },
  {
   "cell_type": "markdown",
   "metadata": {},
   "source": [
    "Finally, the average gate fidelity is"
   ]
  },
  {
   "cell_type": "code",
   "execution_count": 27,
   "metadata": {},
   "outputs": [
    {
     "data": {
      "text/latex": [
       "$F_{gate} = 0.99775$"
      ],
      "text/plain": [
       "<IPython.core.display.Latex object>"
      ]
     },
     "metadata": {},
     "output_type": "display_data"
    }
   ],
   "source": [
    "total_sup_op_ry = sup_rot_y_opt.dot(total_sup_op)\n",
    "f_gate = average_gate_fidelity(cr_super_target, total_sup_op_ry, avg_leakage)\n",
    "display(Latex(r'$F_{{gate}} = {:.5f}$'.format(f_gate)))\n"
   ]
  },
  {
   "cell_type": "markdown",
   "metadata": {},
   "source": [
    "It is clear that the main source of error is leakage. Let us thus check where the leakage is coming from mainly."
   ]
  },
  {
   "cell_type": "markdown",
   "metadata": {},
   "source": [
    "# Leakage analysis"
   ]
  },
  {
   "cell_type": "markdown",
   "metadata": {},
   "source": [
    "To study leakage we consider the noiseless case"
   ]
  },
  {
   "cell_type": "code",
   "execution_count": 338,
   "metadata": {},
   "outputs": [],
   "source": [
    "def run(\n",
    "    time: np.ndarray,\n",
    "    system: QubitSystem, \n",
    "    state_init: qtp.qobj.Qobj, \n",
    "    options: qtp.solver.Options=None\n",
    "):\n",
    "    hamil0 = system.hamiltonian(as_qobj=True)\n",
    "    hamil_drive = []\n",
    "    pulse_drive = []\n",
    "                    \n",
    "    for qubit in system:\n",
    "        if qubit.is_driven:\n",
    "            for label, drive in qubit.drives.items():\n",
    "                hamil_drive.append(drive.hamiltonian(as_qobj=True))\n",
    "                pulse_drive.append(drive.eval_pulse())\n",
    "    #jump_op = [op for qubit in system for op in qubit.collapse_ops(as_qobj=True)]\n",
    "                    \n",
    "    result = integrate(time, state_init, hamil0, hamil_drive,\n",
    "                           pulse_drive, [], \"mesolve\", options=options)\n",
    "                    \n",
    "    return result  "
   ]
  },
  {
   "cell_type": "code",
   "execution_count": 339,
   "metadata": {},
   "outputs": [
    {
     "data": {
      "text/latex": [
       "$\\mathrm{Leakage \\, computation \\, time} = 6.617 \\, s$"
      ],
      "text/plain": [
       "<IPython.core.display.Latex object>"
      ]
     },
     "metadata": {},
     "output_type": "display_data"
    }
   ],
   "source": [
    "start = time.time()\n",
    "\n",
    "_proj_comp = np.einsum('ai, aj -> ij', comp_states, np.conj(comp_states))\n",
    "subsys_dims = list(q.dim_hilbert for q in coupled_sys)\n",
    "proj_comp = qtp.Qobj(inpt=_proj_comp, dims=[subsys_dims, subsys_dims], isherm=True)\n",
    "res = run(time=2*np.pi*tlist, system=coupled_sys, state_init=proj_comp/d_comp, options=simu_opt)\n",
    "\n",
    "end=time.time()\n",
    "display(Latex(r'$\\mathrm{{Leakage \\, computation \\, time}} = {:.3f} \\, s$'.format(end - start)))\n",
    "l1 = 1 - qtp.expect(proj_comp, res.states[-1])"
   ]
  },
  {
   "cell_type": "code",
   "execution_count": 340,
   "metadata": {},
   "outputs": [],
   "source": [
    "comp_state_list = ['00', '01', '10', '11']\n",
    "leakage_states = []\n",
    "for lev_t in range(0, levels_t):\n",
    "    for lev_f in range(0, levels_f):\n",
    "        if str(lev_t) + str(lev_f) not in comp_state_list:\n",
    "            leakage_states.append(str(lev_t) + str(lev_f))"
   ]
  },
  {
   "cell_type": "code",
   "execution_count": 341,
   "metadata": {},
   "outputs": [],
   "source": [
    "def get_probabilities(\n",
    "    states_label: List[str], \n",
    "    system:QubitSystem, \n",
    "    final_state: qtp.qobj.Qobj\n",
    ") -> Dict:\n",
    "    prob = {}\n",
    "    for label in states_label:\n",
    "        ket = system.state(label, as_qobj=True)[1]\n",
    "        projector = ket*ket.dag()\n",
    "        prob[label] = qtp.expect(projector, final_state)\n",
    "    return prob"
   ]
  },
  {
   "cell_type": "code",
   "execution_count": 342,
   "metadata": {},
   "outputs": [
    {
     "data": {
      "text/latex": [
       "$\\mathrm{Average\\, Leakage \\,} L_1 = 0.0000189 $"
      ],
      "text/plain": [
       "<IPython.core.display.Latex object>"
      ]
     },
     "metadata": {},
     "output_type": "display_data"
    },
    {
     "data": {
      "text/latex": [
       "$P_{leak, 02  } = 0.0000000$"
      ],
      "text/plain": [
       "<IPython.core.display.Latex object>"
      ]
     },
     "metadata": {},
     "output_type": "display_data"
    },
    {
     "data": {
      "text/latex": [
       "$P_{leak, 03  } = 0.0000094$"
      ],
      "text/plain": [
       "<IPython.core.display.Latex object>"
      ]
     },
     "metadata": {},
     "output_type": "display_data"
    },
    {
     "data": {
      "text/latex": [
       "$P_{leak, 04  } = 0.0000000$"
      ],
      "text/plain": [
       "<IPython.core.display.Latex object>"
      ]
     },
     "metadata": {},
     "output_type": "display_data"
    },
    {
     "data": {
      "text/latex": [
       "$P_{leak, 12  } = 0.0000000$"
      ],
      "text/plain": [
       "<IPython.core.display.Latex object>"
      ]
     },
     "metadata": {},
     "output_type": "display_data"
    },
    {
     "data": {
      "text/latex": [
       "$P_{leak, 13  } = 0.0000095$"
      ],
      "text/plain": [
       "<IPython.core.display.Latex object>"
      ]
     },
     "metadata": {},
     "output_type": "display_data"
    },
    {
     "data": {
      "text/latex": [
       "$P_{leak, 14  } = 0.0000000$"
      ],
      "text/plain": [
       "<IPython.core.display.Latex object>"
      ]
     },
     "metadata": {},
     "output_type": "display_data"
    },
    {
     "data": {
      "text/latex": [
       "$P_{leak, 20  } = 0.0000000$"
      ],
      "text/plain": [
       "<IPython.core.display.Latex object>"
      ]
     },
     "metadata": {},
     "output_type": "display_data"
    },
    {
     "data": {
      "text/latex": [
       "$P_{leak, 21  } = 0.0000000$"
      ],
      "text/plain": [
       "<IPython.core.display.Latex object>"
      ]
     },
     "metadata": {},
     "output_type": "display_data"
    },
    {
     "data": {
      "text/latex": [
       "$P_{leak, 22  } = -0.0000000$"
      ],
      "text/plain": [
       "<IPython.core.display.Latex object>"
      ]
     },
     "metadata": {},
     "output_type": "display_data"
    },
    {
     "data": {
      "text/latex": [
       "$P_{leak, 23  } = 0.0000001$"
      ],
      "text/plain": [
       "<IPython.core.display.Latex object>"
      ]
     },
     "metadata": {},
     "output_type": "display_data"
    },
    {
     "data": {
      "text/latex": [
       "$P_{leak, 24  } = -0.0000000$"
      ],
      "text/plain": [
       "<IPython.core.display.Latex object>"
      ]
     },
     "metadata": {},
     "output_type": "display_data"
    },
    {
     "data": {
      "text/latex": [
       "$\\sum_k P_{leak, k  } = 0.0000189$"
      ],
      "text/plain": [
       "<IPython.core.display.Latex object>"
      ]
     },
     "metadata": {},
     "output_type": "display_data"
    }
   ],
   "source": [
    "leak_probs = get_probabilities(leakage_states, coupled_sys, res.states[-1])\n",
    "\n",
    "display(Latex(r'$\\mathrm{{Average\\, Leakage \\,}} L_1 = {:.7f} $'.format(l1)))\n",
    "\n",
    "sum_leak = 0\n",
    "\n",
    "for label in leakage_states:\n",
    "    display(Latex(r'$P_{{leak, {}  }} = {:.7f}$'.format(label, leak_probs[label])))\n",
    "    sum_leak += leak_probs[label]\n",
    "display(Latex(r'$\\sum_k P_{{leak, k  }} = {:.7f}$'.format(sum_leak)))"
   ]
  },
  {
   "cell_type": "markdown",
   "metadata": {},
   "source": [
    "We notice that leakage is quite heterogeneous in the sense that many levels are a bit populated. I think this problem can be solved by several strategies such as optimizing the coupling, increasing the gate time or by taking larger frequency differences between the transmon and the higher levels of the fluxonium. Indeed, by reducing the coupling, at the price of a doubled gate time for fixed drive strength, we have much less leakage."
   ]
  },
  {
   "cell_type": "code",
   "execution_count": null,
   "metadata": {},
   "outputs": [],
   "source": []
  }
 ],
 "metadata": {
  "kernelspec": {
   "display_name": "Python 3.7.3 64-bit ('base': conda)",
   "language": "python",
   "name": "python37364bitbaseconda36d0b2465ec04527ba16a77ef6d99d0e"
  },
  "language_info": {
   "codemirror_mode": {
    "name": "ipython",
    "version": 3
   },
   "file_extension": ".py",
   "mimetype": "text/x-python",
   "name": "python",
   "nbconvert_exporter": "python",
   "pygments_lexer": "ipython3",
   "version": "3.7.11"
  },
  "toc": {
   "base_numbering": 1,
   "nav_menu": {},
   "number_sections": true,
   "sideBar": true,
   "skip_h1_title": false,
   "title_cell": "Table of Contents",
   "title_sidebar": "Contents",
   "toc_cell": false,
   "toc_position": {
    "height": "calc(100% - 180px)",
    "left": "10px",
    "top": "150px",
    "width": "233.333px"
   },
   "toc_section_display": true,
   "toc_window_display": false
  },
  "widgets": {
   "application/vnd.jupyter.widget-state+json": {
    "state": {},
    "version_major": 2,
    "version_minor": 0
   }
  }
 },
 "nbformat": 4,
 "nbformat_minor": 4
}
