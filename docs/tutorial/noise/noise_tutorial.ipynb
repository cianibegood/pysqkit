{
 "cells": [
  {
   "cell_type": "code",
   "execution_count": 6,
   "metadata": {},
   "outputs": [],
   "source": [
    "import numpy as np\n",
    "\n",
    "import pysqkit as sq\n",
    "\n",
    "from IPython.display import display, Latex"
   ]
  },
  {
   "cell_type": "code",
   "execution_count": 2,
   "metadata": {},
   "outputs": [],
   "source": [
    "transmon = sq.qubits.SimpleTransmon(\n",
    "    label='transmon', \n",
    "    max_freq = 4.5, \n",
    "    anharm = -0.3, \n",
    "    dim_hilbert = 3,\n",
    "    diel_loss_tan=0.75*1e-6\n",
    ")"
   ]
  },
  {
   "cell_type": "code",
   "execution_count": 3,
   "metadata": {},
   "outputs": [],
   "source": [
    "fluxonium = sq.qubits.Fluxonium(\n",
    "    label='fluxonium',\n",
    "    joseph_energy=8.0, \n",
    "    charge_energy=0.973, \n",
    "    induct_energy=0.457,\n",
    "    diel_loss_tan=7.1*1e-6\n",
    ")\n",
    "fluxonium.diagonalize_basis(5)"
   ]
  },
  {
   "cell_type": "code",
   "execution_count": 4,
   "metadata": {},
   "outputs": [],
   "source": [
    "system = transmon.couple_to(fluxonium, coupling=sq.couplers.capacitive_coupling, strength=0.2)\n",
    "\n",
    "system['fluxonium'].add_drive(\n",
    "    sq.drives.microwave_drive,\n",
    "    label='cz_drive',\n",
    "    pulse_shape=sq.drives.pulse_shapes.gaussian_top\n",
    ")"
   ]
  },
  {
   "cell_type": "code",
   "execution_count": 10,
   "metadata": {},
   "outputs": [
    {
     "data": {
      "text/latex": [
       "$T_{1}^{transmon} $ = 50.300 $\\mu s$"
      ],
      "text/plain": [
       "<IPython.core.display.Latex object>"
      ]
     },
     "metadata": {},
     "output_type": "display_data"
    },
    {
     "data": {
      "text/latex": [
       "$T_{1}^{fluxonium} $ = 956.422 $\\mu s$"
      ],
      "text/plain": [
       "<IPython.core.display.Latex object>"
      ]
     },
     "metadata": {},
     "output_type": "display_data"
    }
   ],
   "source": [
    "for qubit in system:\n",
    "    relax_rate, exc_rate = qubit.loss_rates(0, 1)\n",
    "    relax_time = 1/(2*np.pi*relax_rate)\n",
    "    display(Latex(r'$T_{{1}}^{{{}}} $ = {:.3f} $\\mu s$'.format(qubit.label, relax_time*1e-3)))"
   ]
  },
  {
   "cell_type": "code",
   "execution_count": 45,
   "metadata": {},
   "outputs": [],
   "source": [
    "times = np.linspace(0, 60, 10000)\n",
    "system['fluxonium'].drives['cz_drive'].set_params(phase=0, time=times, rise_time=15)"
   ]
  },
  {
   "cell_type": "code",
   "execution_count": 50,
   "metadata": {},
   "outputs": [],
   "source": [
    "drive_params = dict(\n",
    "    cz_drive=dict(amp = 0.03634, freq = 5.19)\n",
    ")\n",
    "\n",
    "hamil = system.hamiltonian(as_qobj=True)\n",
    "drive_hamils = [drive.hamiltonian(as_qobj=True) for qubit in system for drive in qubit.drives.values() if qubit.is_driven]\n",
    "pulses = [drive.eval_pulse(**drive_params[label]) for qubit in system for label, drive in qubit.drives.items()]\n",
    "collapse_ops = [op for qubit in system for op in qubit.collapse_ops(as_qobj=True)]"
   ]
  }
 ],
 "metadata": {
  "kernelspec": {
   "display_name": "Python 3.8.2 64-bit ('3.8.2': pyenv)",
   "language": "python",
   "name": "python38264bit382pyenv288c6010f3354078a8dadc5c67ac8ffd"
  },
  "language_info": {
   "codemirror_mode": {
    "name": "ipython",
    "version": 3
   },
   "file_extension": ".py",
   "mimetype": "text/x-python",
   "name": "python",
   "nbconvert_exporter": "python",
   "pygments_lexer": "ipython3",
   "version": "3.8.2"
  }
 },
 "nbformat": 4,
 "nbformat_minor": 4
}
