{
 "cells": [
  {
   "cell_type": "code",
   "execution_count": 1,
   "metadata": {},
   "outputs": [],
   "source": [
    "import time\n",
    "import cmath\n",
    "import json\n",
    "from collections import defaultdict\n",
    "from typing import List, Dict, Callable\n",
    "\n",
    "import numpy as np\n",
    "import qutip as qtp\n",
    "from matplotlib import pyplot as plt\n",
    "\n",
    "from pysqkit import qubits, drives, couplers\n",
    "from pysqkit import QubitSystem, Qubit, Coupling\n",
    "from pysqkit.util.linalg import get_mat_elem\n",
    "from pysqkit.util.phys import temperature_to_thermalenergy"
   ]
  },
  {
   "cell_type": "code",
   "execution_count": 6,
   "metadata": {},
   "outputs": [],
   "source": [
    "def zz_crosstalk(system: QubitSystem) -> float:\n",
    "    \"\"\"\n",
    "    Description\n",
    "    --------------------------------------------------------------\n",
    "    Returns the residual ZZ coupling at zero drive.\n",
    "    \"\"\"\n",
    "    \n",
    "    xi_zz = system.state('00')[0] + system.state('11')[0] \\\n",
    "        - system.state('01')[0] - system.state('10')[0]\n",
    "    return xi_zz\n",
    "\n",
    "def mu_yz_coeff(\n",
    "    comp_states: Dict, \n",
    "    system: QubitSystem,\n",
    "    eps_drive: float\n",
    ") -> float:\n",
    "    \n",
    "    \"\"\"\n",
    "    Description\n",
    "    --------------------------------------------------------------\n",
    "    Returns the YZ coefficient associated with the charge \n",
    "    operator of the fluxonium in the dressed basis.\n",
    "    \"\"\"\n",
    "    \n",
    "    op = system[\"fluxonium\"].charge_op()\n",
    "    yz0 = get_mat_elem(op, comp_states['00'], comp_states['10'])\n",
    "    yz1 = get_mat_elem(op, comp_states['01'], comp_states['11'] )\n",
    "    return np.abs((np.imag(yz0 - yz1))/2)*eps_drive/2\n",
    "\n",
    "def extract_params(\n",
    "    transmon: Qubit, \n",
    "    fluxonium: Qubit,\n",
    "    coup_strength: float,\n",
    "    eps_drive: float,\n",
    ") -> Dict[str, float]:\n",
    "    \"\"\"\n",
    "    Description\n",
    "    --------------------------------------------------------------\n",
    "    Returns the transition frequencies that lead to frequency collisions.\n",
    "    \"\"\"\n",
    "    coupled_levels = dict(\n",
    "        fluxonium = [(\"0\", \"1\"), (\"1\", \"2\"), (\"0\", \"3\")],\n",
    "        transmon = [(\"0\", \"1\"), (\"1\", \"2\"), (\"0\", \"2\")]\n",
    "    )\n",
    "    \n",
    "    coupled_sys = transmon.couple_to(\n",
    "        fluxonium, \n",
    "        coupling=couplers.capacitive_coupling, \n",
    "        strength=coup_strength,\n",
    "    )\n",
    "    \n",
    "    comp_states = {}\n",
    "    for label in [\"00\", \"01\", \"10\", \"11\"]:\n",
    "        state_tmp = coupled_sys.state(label)[1]\n",
    "        \n",
    "        loc = np.argmax(np.abs(state_tmp))\n",
    "        phase = cmath.phase(state_tmp[loc])\n",
    "        state_tmp = np.exp(-1j*phase)*state_tmp\n",
    "        comp_states[label] = state_tmp\n",
    "\n",
    "    results = dict(\n",
    "    )\n",
    "    for qubit in (transmon, fluxonium):\n",
    "        label = qubit.label\n",
    "        \n",
    "        for level_i, level_j in coupled_levels[label]:\n",
    "            freq_i = qubit.state(level_i)[0]\n",
    "            freq_j = qubit.state(level_j)[0]\n",
    "            trans_freq = freq_j - freq_i\n",
    "            results[f\"{label}_freq_{level_i}_{level_j}\"] = trans_freq\n",
    "    \n",
    "    \n",
    "    results[\"mu_yz_coeff\"] = mu_yz_coeff(comp_states, coupled_sys, eps_drive)\n",
    "    results[\"zz_coeff\"] = zz_crosstalk(coupled_sys)\n",
    "    return results"
   ]
  },
  {
   "cell_type": "code",
   "execution_count": 7,
   "metadata": {},
   "outputs": [],
   "source": [
    "with open('flx_transm_params.txt') as param_file:\n",
    "    PARAM_SETS = json.load(param_file)\n",
    "    \n",
    "PARAMS = PARAM_SETS[\"2\"] # Choosing the second parameter set"
   ]
  },
  {
   "cell_type": "code",
   "execution_count": 8,
   "metadata": {},
   "outputs": [],
   "source": [
    "TEMP = 0.020 # K\n",
    "D_COMP = 4\n",
    "LEVELS_TRANSMON = 3\n",
    "LEVELS_FLUXONIUM = 4\n",
    "\n",
    "thermal_energy = temperature_to_thermalenergy(TEMP) # kb T/h in GHz\n",
    "\n",
    "#Transmon\n",
    "transmon = qubits.SimpleTransmon(\n",
    "    label='transmon', \n",
    "    max_freq=PARAMS[\"max_freq_t\"], \n",
    "    anharm=PARAMS[\"anharm_t\"],\n",
    "    diel_loss_tan=PARAMS[\"diel_loss_tan_t\"], #set to zero to check d_1 L1 = d_2 L2\n",
    "    env_thermal_energy=thermal_energy,    \n",
    "    dim_hilbert=LEVELS_TRANSMON,\n",
    "    dephasing_times=PARAMS[\"dephasing_times_t\"]\n",
    ")\n",
    "\n",
    "#Fluxonium\n",
    "fluxonium = qubits.Fluxonium(\n",
    "    label='fluxonium', \n",
    "    charge_energy=PARAMS[\"charge_energy_f\"], \n",
    "    induct_energy=PARAMS[\"induct_energy_f\"], \n",
    "    joseph_energy=PARAMS[\"joseph_energy_f\"], #8.0, \n",
    "    diel_loss_tan=PARAMS[\"diel_loss_tan_f\"], #set to zero to check d_1 L1 = d_2 L2\n",
    "    env_thermal_energy=thermal_energy,\n",
    "    dephasing_times=PARAMS[\"dephasing_times_f\"] #ns/2*np.pi \n",
    ")\n",
    "fluxonium.diagonalize_basis(LEVELS_FLUXONIUM)\n",
    "\n",
    "jc = PARAMS[\"jc\"]"
   ]
  },
  {
   "cell_type": "code",
   "execution_count": 9,
   "metadata": {},
   "outputs": [
    {
     "name": "stdout",
     "output_type": "stream",
     "text": [
      "198 ms ± 4.06 ms per loop (mean ± std. dev. of 7 runs, 1 loop each)\n"
     ]
    }
   ],
   "source": [
    "%%timeit\n",
    "extract_params(transmon, fluxonium, jc, eps_drive=0.6)"
   ]
  },
  {
   "cell_type": "code",
   "execution_count": 6,
   "metadata": {},
   "outputs": [],
   "source": [
    "induct_energy = PARAMS[\"induct_energy_f\"]\n",
    "energy_offsets = np.linspace(-induct_energy*1e-1, induct_energy*1e-1, 100)\n",
    "\n",
    "results = defaultdict(list)\n",
    "for offset in energy_offsets:\n",
    "    fluxonium.induct_energy = induct_energy + offset\n",
    "    trans_freqs = extract_trans_freqs(transmon, fluxonium)\n",
    "    for freq_label, freq_val in trans_freqs.items():\n",
    "        results[freq_label].append(freq_val)"
   ]
  },
  {
   "cell_type": "code",
   "execution_count": 7,
   "metadata": {},
   "outputs": [
    {
     "data": {
      "image/png": "[encoded data removed]",
      "text/plain": [
       "<Figure size 576x288 with 1 Axes>"
      ]
     },
     "metadata": {
      "needs_background": "light"
     },
     "output_type": "display_data"
    }
   ],
   "source": [
    "fig, ax = plt.subplots(figsize=(8, 4))\n",
    "for freq_key in results.keys():\n",
    "    qubit_label, _, level_i, level_j = freq_key.split(\"_\")\n",
    "    if qubit_label == \"fluxonium\":\n",
    "        label = f\"$f^{{\\mathrm{{flux}}}}_{{{level_i} \\\\rightarrow {level_j}}}$\"\n",
    "        ax.plot(energy_offsets / induct_energy, results[freq_key], label=label)\n",
    "    \n",
    "    \n",
    "ax.set_xticks([-0.1, -0.05, 0, 0.05, 0.1])\n",
    "ax.set_yticks([0, 2, 4, 6, 8, 10])\n",
    "ax.set_ylim(-0.5, 10.5)\n",
    "plt.legend(\n",
    "    frameon=False,\n",
    "    bbox_to_anchor=(1.05, 1),\n",
    "    loc='upper left',\n",
    ")\n",
    "plt.tight_layout()\n",
    "plt.show()"
   ]
  },
  {
   "cell_type": "code",
   "execution_count": 8,
   "metadata": {},
   "outputs": [],
   "source": [
    "joseph_energy = PARAMS[\"joseph_energy_f\"]\n",
    "energy_offsets = np.linspace(-induct_energy*2e-1, induct_energy*2e-1, 100)\n",
    "\n",
    "results = defaultdict(list)\n",
    "for offset in energy_offsets:\n",
    "    fluxonium.joseph_energy = joseph_energy + offset\n",
    "    trans_freqs = extract_trans_freqs(transmon, fluxonium)\n",
    "    for freq_label, freq_val in trans_freqs.items():\n",
    "        results[freq_label].append(freq_val)"
   ]
  },
  {
   "cell_type": "code",
   "execution_count": 9,
   "metadata": {},
   "outputs": [
    {
     "data": {
      "image/png": "[encoded data removed]",
      "text/plain": [
       "<Figure size 576x288 with 1 Axes>"
      ]
     },
     "metadata": {
      "needs_background": "light"
     },
     "output_type": "display_data"
    }
   ],
   "source": [
    "fig, ax = plt.subplots(figsize=(8, 4))\n",
    "for freq_key in results.keys():\n",
    "    qubit_label, _, level_i, level_j = freq_key.split(\"_\")\n",
    "    if qubit_label == \"fluxonium\":\n",
    "        label = f\"$f^{{\\mathrm{{flux}}}}_{{{level_i} \\\\rightarrow {level_j}}}$\"\n",
    "        ax.plot(energy_offsets / induct_energy, results[freq_key], label=label)\n",
    "    \n",
    "    \n",
    "ax.set_xticks([-0.2, -0.1, 0, 0.1, 0.2])\n",
    "ax.set_yticks([0, 2, 4, 6, 8, 10])\n",
    "ax.set_ylim(-0.5, 10.5)\n",
    "plt.legend(\n",
    "    frameon=False,\n",
    "    bbox_to_anchor=(1.05, 1),\n",
    "    loc='upper left',\n",
    ")\n",
    "plt.tight_layout()\n",
    "plt.show()"
   ]
  }
 ],
 "metadata": {
  "kernelspec": {
   "display_name": "Python 3",
   "language": "python",
   "name": "python3"
  },
  "language_info": {
   "codemirror_mode": {
    "name": "ipython",
    "version": 3
   },
   "file_extension": ".py",
   "mimetype": "text/x-python",
   "name": "python",
   "nbconvert_exporter": "python",
   "pygments_lexer": "ipython3",
   "version": "3.8.1"
  }
 },
 "nbformat": 4,
 "nbformat_minor": 4
}
