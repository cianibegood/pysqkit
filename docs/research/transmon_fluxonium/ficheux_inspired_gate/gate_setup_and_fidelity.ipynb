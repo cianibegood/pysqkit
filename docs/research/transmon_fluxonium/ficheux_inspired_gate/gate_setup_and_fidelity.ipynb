{
 "cells": [
  {
   "cell_type": "markdown",
   "metadata": {},
   "source": [
    "# Ficheux-like gate between a transmon and a fluxonium\n",
    "\n",
    "In this notebook we study a two-qubit gate between a transmon and a fluxonium inspired by the two-qubit gate between a transmon and a fluxonium described in Ficheux et al. Phys. Rev. X 11, 021026 (2021)"
   ]
  },
  {
   "cell_type": "code",
   "execution_count": 43,
   "metadata": {},
   "outputs": [],
   "source": [
    "import numpy as np\n",
    "import sys\n",
    "import time\n",
    "import datetime\n",
    "import qutip as qtp\n",
    "import cmath\n",
    "import matplotlib.pyplot as plt\n",
    "from scipy import constants\n",
    "from scipy.optimize import minimize\n",
    "import pysqkit\n",
    "from pysqkit.util.linalg import get_mat_elem, tensor_prod, hilbert_schmidt\n",
    "from pysqkit.util.phys import temperature_to_thermalenergy\n",
    "from pysqkit.solvers import solvkit\n",
    "import pysqkit.util.transformations as trf\n",
    "from typing import List, Dict, Callable\n",
    "import matplotlib\n",
    "matplotlib.rcParams['mathtext.fontset'] = 'cm'\n",
    "\n",
    "from mpl_toolkits.axes_grid1 import make_axes_locatable\n",
    "\n",
    "#from itertools import product, combinations\n",
    "from IPython.display import display, Latex\n",
    "\n",
    "#%matplotlib notebook\n",
    "plt.rcParams['figure.figsize'] = (8, 5)\n",
    "\n",
    "from IPython.display import display, HTML, Image"
   ]
  },
  {
   "cell_type": "markdown",
   "metadata": {},
   "source": [
    "The gate is based on the following driven Hamiltonian of a fluxonium and a transmon capacitively coupled\n",
    "\n",
    "$$H = H^{(0)}_T + H^{(0)}_F + V + H_{drive},$$\n",
    "\n",
    "$$H^{(0)}_T =  \\hbar \\omega_T \\hat{b}^{\\dagger}\\hat{b} + \\hbar \\frac{\\delta_T}{2} \\hat{b}^{\\dagger} \\hat{b}^{\\dagger}\\hat{b} \\hat{b},$$\n",
    "\n",
    "$$H^{(0)}_F = 4 E_{C,F} \\cdot \\hat{n}^2_F + \\frac{1}{2}E_{L,F}\\cdot\\hat{\\varphi}^2_F - E_{J,F}\\cos\\left(\\hat{\\varphi}_F - \\phi_{ext,F}\\right),$$\n",
    "\n",
    "$$V = J_C \\cdot \\hat{n}_T \\cdot \\hat{n}_F,$$\n",
    "\n",
    "$$\\frac{H_{drive}}{h} = \\left( \\varepsilon_T \\hat{n}_T + \\varepsilon_F \\hat{n}_F \\right) \\cos(2\\pi f_d t).$$\n",
    "\n",
    "The (approximate) charge operator for the transmon in terms of annihilation and creation operators reads\n",
    "\n",
    "$$\n",
    "\\hat{n}_T = i \\biggl( \\frac{E_J}{32 |\\delta_T |} \\biggr)^{1/4} (b^{\\dagger} - b),\n",
    "$$\n",
    "where \n",
    "$$\n",
    "E_J = \\hbar \\biggl(\\frac{\\omega_T - \\delta_T}{8 | \\delta_T |} \\biggr)^2.\n",
    "$$\n"
   ]
  },
  {
   "cell_type": "markdown",
   "metadata": {
    "heading_collapsed": true
   },
   "source": [
    "# Introducing the qubits and the coupled system"
   ]
  },
  {
   "cell_type": "code",
   "execution_count": 44,
   "metadata": {
    "hidden": true
   },
   "outputs": [],
   "source": [
    "temperature = 0.020 # K\n",
    "thermal_energy = temperature_to_thermalenergy(temperature) # kb T/h in GHz\n",
    "d_comp = 4\n",
    "\n",
    "#Transmon\n",
    "levels_t = 3\n",
    "transm = pysqkit.qubits.SimpleTransmon(\n",
    "    label='T', \n",
    "    max_freq=4.5, \n",
    "    anharm=-0.3,\n",
    "    diel_loss_tan=0.75*1e-6, #set to zero to check d_1 L1 = d_2 L2\n",
    "    env_thermal_energy=thermal_energy,    \n",
    "    dim_hilbert=levels_t\n",
    ")\n",
    "\n",
    "#Fluxonium\n",
    "levels_f = 5\n",
    "ec_f = .973\n",
    "el_f = .457\n",
    "ej_f = 8.0\n",
    "# The external flux in units of \\phi_0 is set to 1/2 by defauls:\n",
    "# double well configuration\n",
    "\n",
    "flx = pysqkit.qubits.Fluxonium(\n",
    "    label='F', \n",
    "    charge_energy=.973, \n",
    "    induct_energy=.457, \n",
    "    joseph_energy=8.0, \n",
    "    diel_loss_tan=7.1*1e-6*0, #set to zero to check d_1 L1 = d_2 L2\n",
    "    env_thermal_energy=thermal_energy\n",
    ")\n",
    "flx.diagonalize_basis(levels_f)\n",
    "\n",
    "# We also add a drive on the fluxonium\n",
    "flx.add_drive(\n",
    "    pysqkit.drives.microwave_drive,\n",
    "    label='cz_drive_f',\n",
    "    pulse_shape=pysqkit.drives.pulse_shapes.gaussian_top\n",
    ")\n",
    "\n",
    "d_leak = levels_t*levels_f - d_comp\n",
    "\n",
    "jc = 0.07\n",
    "coupled_sys = transm.couple_to(flx, coupling=pysqkit.couplers.capacitive_coupling, strength=jc)\n",
    "bare_system = transm.couple_to(flx, coupling=pysqkit.couplers.capacitive_coupling, strength=0.0)"
   ]
  },
  {
   "cell_type": "code",
   "execution_count": 45,
   "metadata": {},
   "outputs": [],
   "source": [
    "def energy_levels_diagram(\n",
    "    system: pysqkit.systems.system.QubitSystem,\n",
    "    levels_to_plot: List[str],\n",
    "    plot_setup={'fs': 20, 'lw': 2.0, 'lw_levels': 3.0, 'ls': 16},\n",
    "    detuning_tol=3.0,\n",
    "    show_drive=True\n",
    ") -> None:\n",
    "    fig, ax = plt.subplots(figsize=(10, 8))\n",
    "    ground_energy = system.state('00')[0]\n",
    "    energy = {}\n",
    "    state = {}\n",
    "    step = 11.0\n",
    "    level_width = 5.0\n",
    "    x_avg = {}\n",
    "    \n",
    "    for level in levels_to_plot:\n",
    "        energy[level] = system.state(level)[0] - ground_energy\n",
    "        state[level] = system.state(level)[1]\n",
    "    for level in levels_to_plot:\n",
    "        level_as_list = [int(lev) for lev in level]\n",
    "        x_min = -0.5 + step*level_as_list[1] - step*level_as_list[0]\n",
    "        x_max = x_min + level_width\n",
    "        x_avg[level] = (x_min + x_max)/2\n",
    "        ax.hlines(y=energy[level], xmin=x_min, xmax=x_max, linewidth=plot_setup['lw_levels'], color='k')\n",
    "        ax.text(x_max+0.2, energy[level]-0.05, r'$ \\vert' + level + ' \\\\rangle$', fontsize=plot_setup['fs'])\n",
    "        ax.tick_params(labelsize=plot_setup['ls'])\n",
    "        ax.axes.get_xaxis().set_visible(False)\n",
    "        ax.spines['right'].set_visible(False)\n",
    "        ax.spines['top'].set_visible(False)\n",
    "        ax.spines['bottom'].set_visible(False)\n",
    "    \n",
    "    qubit_labels = system.labels\n",
    "    n1n2_op = system[qubit_labels[0]].charge_op().dot(coupled_sys[qubit_labels[1]].charge_op())\n",
    "    abs_mat_elem_vec = np.zeros(len(levels_to_plot)**2)\n",
    "    count = 0\n",
    "    for level_1 in levels_to_plot:\n",
    "        for level_2 in levels_to_plot:\n",
    "            abs_mat_elem_vec[count] = np.abs(get_mat_elem(n1n2_op, state[level_1], state[level_2]))\n",
    "            count += 1\n",
    "    max_abs_mat_elem = np.max(abs_mat_elem_vec)\n",
    "    for level_1 in levels_to_plot:\n",
    "        for level_2 in levels_to_plot:\n",
    "            abs_mat_elem = np.abs(get_mat_elem(n1n2_op, state[level_1], state[level_2]))\n",
    "            shade_factor = abs_mat_elem/max_abs_mat_elem\n",
    "            if shade_factor > 1e-4 and np.abs(energy[level_1] - energy[level_2]) < detuning_tol:\n",
    "                ax.annotate('', (x_avg[level_1], energy[level_1]), (x_avg[level_2], energy[level_2]), \n",
    "                            arrowprops=dict(color='darkorange', alpha=shade_factor**5,\\\n",
    "                                            lw=plot_setup['lw'], arrowstyle='<->'))\n",
    "                \n",
    "    if show_drive:\n",
    "        ax.annotate('', (x_avg['10'], energy['10']), (x_avg['13'], energy['13']), \n",
    "                            arrowprops=dict(color='darkblue', lw=plot_setup['lw'],\\\n",
    "                                            arrowstyle='<->', linestyle = '--'))\n",
    "        ax.annotate('', (x_avg['00'], energy['00']), (x_avg['03'], energy['03']), \n",
    "                            arrowprops=dict(color='darkblue', lw=plot_setup['lw'],\\\n",
    "                                            arrowstyle='<->', linestyle = '--'))\n",
    "        \n",
    "    ax.set_title(r'$\\mathrm{Transmon} \\leftarrow \\quad \\rightarrow  \\mathrm{Fluxonium}$', \\\n",
    "                 {'fontsize': plot_setup['fs']})\n",
    "    ax.set_ylabel(r'$\\mathrm{Energy} \\, (\\mathrm{GHz})$', fontsize=plot_setup['fs'])\n",
    "    plt.show()    "
   ]
  },
  {
   "cell_type": "markdown",
   "metadata": {},
   "source": [
    "The basis principle behind the gate is illustrated in the following figure"
   ]
  },
  {
   "cell_type": "code",
   "execution_count": 46,
   "metadata": {},
   "outputs": [
    {
     "data": {
      "image/png": "[encoded data removed]",
      "text/plain": [
       "<Figure size 720x576 with 1 Axes>"
      ]
     },
     "metadata": {
      "needs_background": "light"
     },
     "output_type": "display_data"
    }
   ],
   "source": [
    "level_list = ['00', '01', '10', '11', '02', '20', '12','21', '03', '13', '04']\n",
    "\n",
    "energy_levels_diagram(bare_system, level_list)"
   ]
  },
  {
   "cell_type": "markdown",
   "metadata": {},
   "source": [
    "The figure shows the energy of the bare levels. The orange arrows indicate the non-zero matrix elements between the (bare) levels provided by the capacitive coupling $V$: the more shaded the arrow the weaker the coupling. The idea is to design the system so that the $| 1 3 \\rangle$-$|0 4 \\rangle$ is close to resonance so that the levels get sufficiently hybridized. A CZ gate can then be realized by driving the $|0 \\rangle$-$|3 \\rangle$ transition of the fluxonium, which induces transitions depicted by the blue, dashed arrow in the figure. The scheme is inspired by the one between two fluxonia described in Ficheux et al. Phys. Rev. X 11, 021026 (2021), where the $|2 1  \\rangle$ and $|12 \\rangle$ levels are hybridized and the transition $| 1 \\rangle$-$|2 \\rangle$ of one of the two fluxonia is driven.\n",
    "\n",
    "We look at the following quantities : \n",
    "\n",
    "$$\\zeta_{ZZ} = E_{00} + E_{11} - E_{01} - E_{10}$$\n",
    "$$\\Delta = \\left( E_{13} - E_{10} \\right) -  \\left( E_{03} - E_{00} \\right)$$\n",
    "\n",
    "The $\\Delta$ is similar at the one in Ficheux but looking at the 0-3 transition of the Fluxonium."
   ]
  },
  {
   "cell_type": "code",
   "execution_count": 47,
   "metadata": {
    "hidden": true
   },
   "outputs": [],
   "source": [
    "def zz(\n",
    "    system: pysqkit.systems.system.QubitSystem\n",
    ") -> float:\n",
    "    xi_zz = system.state('00')[0] + system.state('11')[0] \\\n",
    "    - system.state('01')[0] - system.state('10')[0]\n",
    "    return xi_zz\n",
    "\n",
    "def delta(\n",
    "    system: pysqkit.systems.system.QubitSystem\n",
    ") -> float:\n",
    "    delta_gate = (system.state('13')[0] - system.state('10')[0]) - \\\n",
    "    (system.state('03')[0] - system.state('00')[0])\n",
    "    return delta_gate"
   ]
  },
  {
   "cell_type": "markdown",
   "metadata": {},
   "source": [
    "For the given parameters we have"
   ]
  },
  {
   "cell_type": "code",
   "execution_count": 48,
   "metadata": {},
   "outputs": [
    {
     "data": {
      "text/latex": [
       "$\\xi_{ZZ}/h = -0.238 \\, \\mathrm{MHz}$"
      ],
      "text/plain": [
       "<IPython.core.display.Latex object>"
      ]
     },
     "metadata": {},
     "output_type": "display_data"
    },
    {
     "data": {
      "text/latex": [
       "$\\Delta/h = 22.823 \\, \\mathrm{MHz}$"
      ],
      "text/plain": [
       "<IPython.core.display.Latex object>"
      ]
     },
     "metadata": {},
     "output_type": "display_data"
    }
   ],
   "source": [
    "display(Latex(r'$\\xi_{{ZZ}}/h = {:.3f} \\, \\mathrm{{MHz}}$'.format(1e3*zz(coupled_sys))))\n",
    "display(Latex(r'$\\Delta/h = {:.3f} \\, \\mathrm{{MHz}}$'.format(1e3*delta(coupled_sys))))"
   ]
  },
  {
   "cell_type": "markdown",
   "metadata": {
    "heading_collapsed": true,
    "hidden": true
   },
   "source": [
    "## Matching the parameters"
   ]
  },
  {
   "cell_type": "code",
   "execution_count": 49,
   "metadata": {},
   "outputs": [],
   "source": [
    "def generalized_rabi_frequency(\n",
    "    levels: List['str'],\n",
    "    eps: Dict,\n",
    "    drive_frequency: float,\n",
    "    system: pysqkit.systems.system.QubitSystem\n",
    "):\n",
    "    if len(levels) != 2:\n",
    "        raise ValueError('The generalized rabi frequency is defined betwen two levels. '\n",
    "                        'Please specify the desired two levels.')\n",
    "        \n",
    "    qubit_labels = system.labels\n",
    "    drive_op = 0\n",
    "    for label in qubit_labels:\n",
    "        drive_op += eps[label]*system[label].charge_op()\n",
    "    \n",
    "    in_energy, in_state = system.state(levels[0])\n",
    "    out_energy, out_state = system.state(levels[1])   \n",
    "    big_omega_transition = np.abs(get_mat_elem(drive_op, in_state, out_state))\n",
    "    \n",
    "    energy_transition = np.abs(in_energy - out_energy)\n",
    "    drive_detuning = energy_transition - drive_frequency\n",
    "    \n",
    "    return np.sqrt(big_omega_transition**2 + drive_detuning**2)"
   ]
  },
  {
   "cell_type": "markdown",
   "metadata": {
    "hidden": true
   },
   "source": [
    "For this case we look at the 10-13 and 00-03 transitions so we process the corresponding Rabi frequencies :\n",
    "\n",
    "$$\\Omega_{10-13}  = \\left| \\epsilon_T \\langle 10 | \\hat{n}_T | 13 \\rangle + \\epsilon_F \\langle 10 | \\hat{n}_F | 13 \\rangle \\right|$$\n",
    "$$\\Omega_{00-03}  = \\left| \\epsilon_T \\langle 00 | \\hat{n}_T | 03 \\rangle + \\epsilon_F \\langle 00 | \\hat{n}_F | 03 \\rangle \\right|$$\n",
    "\n",
    "And then :\n",
    "$$r = \\dfrac{\\Omega_{10-13}}{\\Omega_{00-03}} \\text{  and  } \\dfrac{\\delta}{\\Delta} = \\dfrac{r^2 - \\sqrt{(r^2-1)^2 + r^2 }} {r^2 - 1}$$ \n",
    "\n",
    "With these conventions taken in the paper :\n",
    "$$\\Delta = f_{10-13} - f_{00-03}$$\n",
    "$$\\delta = f_{10-13} - f_d$$\n",
    "\n",
    "These conventions are taken in orde to have : $\\Omega = \\sqrt{\\Omega_{10-13}^2  + \\delta^2} = \\sqrt{\\Omega_{00-03}^2  + (\\delta - \\Delta)^2}$\n",
    "\n",
    "The $\\Delta$ is fixed by the parameters of the qubits, we now need to settle the values for the drive parameters.\n",
    "\n",
    "First we need to fix the $\\varepsilon$.\n",
    "\n",
    "We take the condition of the paper :\n",
    "$$\\Omega = \\Delta$$\n",
    "\n",
    "However, one equation for two parameters is not enough... We assume that the fluxonium is driven much more than the transmon (as we are mainly looking at the 0-3 transtion of F). For example, we take $\\dfrac{\\varepsilon_T}{\\varepsilon_F} = .1$\n",
    "Now we have enough constraints to find values for every parameters.\n",
    "\n",
    "\n",
    "With this $\\delta$, we have $\\Omega = \\Delta$ and a CZ gate is achieved with zero leakage in time exactly $t_{drive} = 1/\\Delta$.\n",
    "\n",
    "In order to setup the optimization define the following function that respects the scipy.optimize.minimize syntax. The vector of variable x0 in this case has length 2: the first entry is a reference drive strength, while the second the drive frequency. The drive parameters for each qubit are defined by providing the ratio between the qubit drive strength and the reference drive strength. This can be used to take into account potential classical crosstalk."
   ]
  },
  {
   "cell_type": "code",
   "execution_count": 50,
   "metadata": {},
   "outputs": [],
   "source": [
    "def func_to_minimize(\n",
    "    x0: np.ndarray,\n",
    "    levels_first_transition: List['str'],\n",
    "    levels_second_transition: List['str'],\n",
    "    system: pysqkit.systems.system.QubitSystem,\n",
    "    eps_ratio_dict: Dict    \n",
    ") -> float:\n",
    "    \n",
    "    \"\"\"\n",
    "    Function to minimize in order to match the parameters in order to \n",
    "    implement a CZ gate up to single-qubit rotations. It returns the modulus\n",
    "    of [rabi_second_transition - rabi_first_transition, \n",
    "    delta_gate - rabi_first_transition]/delta_gate\n",
    "    x0 : np.ndarray([eta_reference, drive_freq]) represents the parameters to be \n",
    "         minimized.\n",
    "    levels_first_transition : List with the labels of the first transition whose\n",
    "       generalized Rabi frequency has to be matched\n",
    "    levels_second_transition : List with the labels of the second transition whose\n",
    "                               generalized Rabi frequency has to be matched\n",
    "    system: coupled system we are analyzing\n",
    "    eps_ratio_dict: dictionary whose keys are system.labels. The entries correspond\n",
    "                    to the ratios between the corresponding qubit drive and the \n",
    "                    reference drive.     \n",
    "    \n",
    "    \"\"\"\n",
    "    \n",
    "    qubit_labels = system.labels\n",
    "    eps = {}\n",
    "    for qubit in qubit_labels:\n",
    "        eps[qubit] = x0[0]*eps_ratio_dict[qubit]\n",
    "    rabi_first_transition = generalized_rabi_frequency(levels_first_transition, eps, x0[1], system)\n",
    "    rabi_second_transition = generalized_rabi_frequency(levels_second_transition, eps, x0[1], system)\n",
    "    delta_gate = delta(system)\n",
    "    y = np.sqrt( (rabi_first_transition - rabi_second_transition)**2 + \\\n",
    "                (rabi_first_transition - delta_gate)**2)\n",
    "    return np.abs(y/delta_gate)"
   ]
  },
  {
   "cell_type": "code",
   "execution_count": 51,
   "metadata": {},
   "outputs": [
    {
     "data": {
      "text/latex": [
       "$\\mathrm{Minimization \\, time} = 60.023 \\, s$"
      ],
      "text/plain": [
       "<IPython.core.display.Latex object>"
      ]
     },
     "metadata": {},
     "output_type": "display_data"
    },
    {
     "data": {
      "text/latex": [
       "$f_{\\mathrm{min}} = 3.57e-07$"
      ],
      "text/plain": [
       "<IPython.core.display.Latex object>"
      ]
     },
     "metadata": {},
     "output_type": "display_data"
    }
   ],
   "source": [
    "x0 = np.array([0.04, 7.0]) #initial guess\n",
    "eps_ratios = {'T': 0.0, 'F':1.0}\n",
    "args_to_pass = (['00', '03'], ['10', '13'], coupled_sys, eps_ratios) \n",
    "\n",
    "start = time.time()\n",
    "\n",
    "minimization_result = minimize(func_to_minimize, np.array([0.05, 7.0]), args=args_to_pass)\n",
    "\n",
    "end = time.time()\n",
    "\n",
    "display(Latex(r'$\\mathrm{{Minimization \\, time}} = {:.3f} \\, s$'.format(end - start)))\n",
    "display(Latex(r'$f_{{\\mathrm{{min}}}} = {:.2e}$'.format(minimization_result['fun'])))"
   ]
  },
  {
   "cell_type": "code",
   "execution_count": 52,
   "metadata": {},
   "outputs": [],
   "source": [
    "eps_drive = minimization_result['x'][0]\n",
    "freq_drive = minimization_result['x'][1]\n",
    "rabi_period = 1/delta(coupled_sys)\n",
    "t_rise = 15.0 #16.0\n",
    "t_tot = 60 \n",
    "pts_per_drive_period = 5 #5 recommended #15 more accuracy\n",
    "\n",
    "nb_points = int(t_tot*freq_drive*pts_per_drive_period)\n",
    "tlist = np.linspace(0, t_tot, nb_points)\n",
    "\n",
    "coupled_sys['F'].drives['cz_drive_f'].set_params(phase=0, time=tlist, rise_time=t_rise, \n",
    "                                                 amp=eps_drive, freq=freq_drive)"
   ]
  },
  {
   "cell_type": "markdown",
   "metadata": {},
   "source": [
    "We introduce the TomoEnv object. We also refine the absolute and relative tolerance of the qutip solver "
   ]
  },
  {
   "cell_type": "code",
   "execution_count": 53,
   "metadata": {},
   "outputs": [],
   "source": [
    "simu_opt = qtp.solver.Options()\n",
    "simu_opt.atol = 1e-12\n",
    "simu_opt.rtol = 1e-10\n",
    "env_syst = pysqkit.tomography.TomoEnv(system=coupled_sys, options=simu_opt)"
   ]
  },
  {
   "cell_type": "markdown",
   "metadata": {},
   "source": [
    "The TomoEnv class can now return the superoperator representation of the quantum operation in an arbitrary Hilbert-Schmidt basis for a $d$-dimensional subspace, as long as this is a basis of diagonalizable operators. For instance the basis $|n \\rangle> \\langle m|$, $n, m= 0, \\dots, d-1$ is not a diagonalizable basis and thus the method cannot be used. \n",
    "\n",
    "In what follows we are interested in obtaining a superoperator representation of a quantum operation in the computational subspace that we here define"
   ]
  },
  {
   "cell_type": "code",
   "execution_count": 54,
   "metadata": {},
   "outputs": [],
   "source": [
    "state_labels = ['00', '01', '10', '11']\n",
    "comp_states = []\n",
    "for label in state_labels:\n",
    "    comp_states.append(coupled_sys.state(label)[1])"
   ]
  },
  {
   "cell_type": "markdown",
   "metadata": {},
   "source": [
    "We remark that the specification of the subspace is left to the user and it has arbitrary dimension. The user must check that the given kets are indeed orthogonal. \n",
    "\n",
    "In what follows we will use the Weyl basis for qudits ($d>2$) as Hilbert-Schmidt basis. These are defined via the standard definition of $Z$ and $X$ operators for qudits (see Howard et al Nature volume 510, pages351–355 (2014)):\n",
    "\n",
    "$$\n",
    "Z | j \\rangle= \\omega^j | j \\rangle,\n",
    "$$\n",
    "$$\n",
    "X | j \\rangle = | j + 1 \\mod d \\rangle,\n",
    "$$\n",
    "where $\\omega = \\exp \\bigl[ \\frac{2 \\pi i}{d} \\bigr ]$.\n",
    "\n",
    "The (normalized) Weyl operators for qudits are defined as\n",
    "\n",
    "$$\n",
    "D(\\boldsymbol{\\xi})=D \\bigl( \\boldsymbol{\\xi} = \\begin{bmatrix}\\xi_x & \\xi_z \n",
    "\\end{bmatrix}^T \\bigr) = \\frac{1}{\\sqrt{d}} \\omega^{- \\frac{d+1}{2} \\xi_x \\xi_z} X^{\\xi_x} Z^{\\xi_z}, \\quad \\xi_x, \\xi_z \\in \\mathbb{Z}_d = \\{0, 1, \\dots, d-1 \\}.\n",
    "$$\n",
    "The Weyl operators form an orthonormal basis for the Hilbert space of (bounded) $d \\times d$ matrices with Hilbert-Schmidt inner product\n",
    "\n",
    "$$\n",
    "\\langle A, B \\rangle = \\mathrm{Tr}(A^{\\dagger} B).\n",
    "$$\n",
    "In fact\n",
    "$$\n",
    "\\langle D(\\boldsymbol{\\xi}), D(\\boldsymbol{\\xi}') \\rangle = \\delta_{\\boldsymbol{\\xi}, \\boldsymbol{\\xi}'}.\n",
    " $$\n",
    "\n",
    "In order to use this basis to write our superoperator we simply need a function that orders them. Thus, this function should take as argument an index $i$ associated with the Weyl operator as well as the qudit dimension $d$ ($i < d^2$). The same is valid for any orthonormal Hilbert-Schmidt basis we wish to define, as long as it is a basis of diagonalizable matrices. \n",
    "The following functions can also be found in pysqkit.util.hsbasis, but we here re-write them explicitly for illustration purposes."
   ]
  },
  {
   "cell_type": "code",
   "execution_count": 55,
   "metadata": {},
   "outputs": [],
   "source": [
    "def weyl(\n",
    "    xi_x: int,\n",
    "    xi_z: int,\n",
    "    d: int\n",
    ") -> np.ndarray:\n",
    "\n",
    "    \"\"\" \n",
    "    Returns the qudit Weyl operator with phase-space points xi_x, xi_z\n",
    "    in a d x d phase space.\n",
    "    We take the normalized version of the definition in \n",
    "    M. Howard et al, Nature 510, 351 (2014), i.e., divided by\n",
    "    square root of d.\n",
    "    \"\"\"\n",
    "\n",
    "    if xi_x >= d or xi_z >= d:\n",
    "        raise ValueError(\"Qudit Pauli labels out of range.\")\n",
    "\n",
    "    if d <= 2:\n",
    "        raise ValueError(\"The qudit dimension d must be larger than 2.\")\n",
    "\n",
    "    omega = np.exp(2*np.pi*1j/d)\n",
    "    z = np.zeros([d, d], dtype=complex)\n",
    "    x = np.zeros([d, d], dtype=complex)\n",
    "    for k in range(0, d):\n",
    "        z[k, k] = omega**k\n",
    "        x[np.mod(k + 1, d), k] = 1\n",
    "    z_pow = np.linalg.matrix_power(z, xi_z)\n",
    "    x_pow = np.linalg.matrix_power(x, xi_x)\n",
    "\n",
    "    return 1/np.sqrt(d)*omega**(-(d + 1)/2*xi_x*xi_z)*x_pow.dot(z_pow)\n",
    "\n",
    "def weyl_by_index(\n",
    "    i: int,\n",
    "    d: int\n",
    ") -> np.ndarray:\n",
    "    \n",
    "    \"\"\"\n",
    "    Returns the Weyl operator associated with index i in a d x d phase-space\n",
    "    We order the Weyl operators as i -> (xi_x = i // d, xi_z = i % d).\n",
    "    \"\"\"\n",
    "    \n",
    "    if i >= d**2:\n",
    "        raise ValueError(\"Index i out of range: i < d**2\")\n",
    "\n",
    "    xi_x = i // d\n",
    "    xi_z = i % d\n",
    "    return weyl(xi_x, xi_z, d)"
   ]
  },
  {
   "cell_type": "markdown",
   "metadata": {},
   "source": [
    "We can now easily obtain the superoperator in the Weyl basis. Notice that this gives information only within the defined computational subspace and not on the leakage subspace. Thus the following superoperator is complete knowledge of the states within the computational subspaces only if the leakage is zero. However, the following superoperator is the one needed to compute process fidelities as described in Eq. 8 of Wood-Gambetta Phys. Rev. A 97, 032306 (2018). The method to_super in the TomoEnv class is parallelized and we can specify the number of processes. "
   ]
  },
  {
   "cell_type": "code",
   "execution_count": 56,
   "metadata": {},
   "outputs": [
    {
     "name": "stdout",
     "output_type": "stream",
     "text": [
      "Computational time = 90.1890172958374 s\n"
     ]
    }
   ],
   "source": [
    "n_process = 2\n",
    "\n",
    "start = time.time()\n",
    "sup_op = env_syst.to_super(comp_states, weyl_by_index, n_process)\n",
    "end = time.time()\n",
    "print(\"Computational time = \" + str(end - start) + ' s')"
   ]
  },
  {
   "cell_type": "markdown",
   "metadata": {},
   "source": [
    "Notice how the superoperator can be obtained for any system and its operations are completely system agnostic.\n",
    "\n",
    "We now use the previous superoperator to compute the process fidelity and average gate fidelity with respect to a $\\mathrm{CZ}$ gate. First of all, we need to obtain the single-qubit gate corrections. This can be done directly from the superoperator via the following function."
   ]
  },
  {
   "cell_type": "code",
   "execution_count": 57,
   "metadata": {},
   "outputs": [],
   "source": [
    "def single_qubit_corrections(\n",
    "    sup_op: np.ndarray,\n",
    "    hs_basis: Callable[[int, int], np.ndarray]\n",
    ") -> np.ndarray:\n",
    "    sigma_m1 = tensor_prod([np.array([[0.0, 0.0], [1.0, 0.0]]), np.array([[1.0, 0.0], [0.0, 0.0]])])\n",
    "    sigma_m2 = tensor_prod([np.array([[1.0, 0.0], [0.0, 0.0]]), np.array([[0.0, 0.0], [1.0, 0.0]])])\n",
    "    sigma_m1_vec = trf.mat_to_vec(sigma_m1, hs_basis)\n",
    "    sigma_m2_vec = trf.mat_to_vec(sigma_m2, hs_basis)\n",
    "    evolved_sigma_m1_vec = sup_op.dot(sigma_m1_vec)\n",
    "    evolved_sigma_m2_vec = sup_op.dot(sigma_m2_vec)\n",
    "    evolved_sigma_m1 = trf.vec_to_mat(evolved_sigma_m1_vec, hs_basis)\n",
    "    evolved_sigma_m2 = trf.vec_to_mat(evolved_sigma_m2_vec, hs_basis)\n",
    "    phi10 = cmath.phase(hilbert_schmidt(sigma_m1, evolved_sigma_m1))\n",
    "    phi01 = cmath.phase(hilbert_schmidt(sigma_m2, evolved_sigma_m2))\n",
    "    p_phi10 = np.array([[1, 0], [0, np.exp(-1j*phi10)]])\n",
    "    p_phi01 = np.array([[1, 0], [0, np.exp(-1j*phi01)]])\n",
    "    return tensor_prod([p_phi10, p_phi01])"
   ]
  },
  {
   "cell_type": "markdown",
   "metadata": {},
   "source": [
    "We now compute the process fidelity. In order to do this we first need to obtain the superoperator representation of the $\\mathrm{CZ}$ in the Weyl basis. This can be done via the function qutip.util.transformations.kraus_to_super"
   ]
  },
  {
   "cell_type": "code",
   "execution_count": 58,
   "metadata": {},
   "outputs": [],
   "source": [
    "cz = np.array([[1, 0, 0, 0], [0, 1, 0, 0], [0, 0, 1, 0], [0, 0, 0, -1]])\n",
    "cz_super = trf.kraus_to_super(cz, weyl_by_index)"
   ]
  },
  {
   "cell_type": "markdown",
   "metadata": {},
   "source": [
    "We also obtain the superoperator representation of the single-qubit corrections and obtain the total applied superoperator"
   ]
  },
  {
   "cell_type": "code",
   "execution_count": 59,
   "metadata": {},
   "outputs": [],
   "source": [
    "sq_corr = single_qubit_corrections(sup_op, weyl_by_index)\n",
    "sq_corr_sup = trf.kraus_to_super(sq_corr, weyl_by_index)\n",
    "total_sup_op = sq_corr_sup.dot(sup_op)"
   ]
  },
  {
   "cell_type": "markdown",
   "metadata": {},
   "source": [
    "We can now compute the process fidelity"
   ]
  },
  {
   "cell_type": "code",
   "execution_count": 60,
   "metadata": {},
   "outputs": [
    {
     "data": {
      "text/latex": [
       "$F_{pro} = 0.99656$"
      ],
      "text/plain": [
       "<IPython.core.display.Latex object>"
      ]
     },
     "metadata": {},
     "output_type": "display_data"
    }
   ],
   "source": [
    "def average_process_fidelity(\n",
    "    sup_op1: np.ndarray,\n",
    "    sup_op2: np.ndarray\n",
    ") -> float:\n",
    "    d = sup_op1.shape[0]\n",
    "    return np.real(np.trace(sup_op1.conj().T.dot(sup_op2))/d)\n",
    "\n",
    "process_fidelity = average_process_fidelity(cz_super, total_sup_op)\n",
    "display(Latex(r'$F_{{pro}} = {:.5f}$'.format(process_fidelity)))"
   ]
  },
  {
   "cell_type": "markdown",
   "metadata": {},
   "source": [
    "Notice that this is by choice not done within the TomoEnv class, since the TomoEnv class should be agnostic of which gate we want to implement.\n",
    "\n",
    "The average leakage and seepage is instead computed within the TomoEnv class. This is because we just need to specify a subspace to determine them, similarly to the determination of the superoperator. We use Eq. 2 and 3 in Wood-Gambetta Phys. Rev. A 97, 032306 (2018) to calculate the average leakage and seepage respectively."
   ]
  },
  {
   "cell_type": "code",
   "execution_count": 61,
   "metadata": {},
   "outputs": [
    {
     "data": {
      "text/latex": [
       "$L_1(\\mathcal{E} ) = 0.0000823$"
      ],
      "text/plain": [
       "<IPython.core.display.Latex object>"
      ]
     },
     "metadata": {},
     "output_type": "display_data"
    }
   ],
   "source": [
    "avg_leakage = env_syst.leakage(comp_states)\n",
    "display(Latex(r'$L_1(\\mathcal{{E}} ) = {:.7f}$'.format(avg_leakage)))"
   ]
  },
  {
   "cell_type": "code",
   "execution_count": 62,
   "metadata": {},
   "outputs": [
    {
     "data": {
      "text/latex": [
       "$L_2(\\mathcal{E} ) = 0.0004082$"
      ],
      "text/plain": [
       "<IPython.core.display.Latex object>"
      ]
     },
     "metadata": {},
     "output_type": "display_data"
    }
   ],
   "source": [
    "avg_seepage = env_syst.seepage(comp_states)\n",
    "display(Latex(r'$L_2(\\mathcal{{E}} ) = {:.7f}$'.format(avg_seepage)))"
   ]
  },
  {
   "cell_type": "markdown",
   "metadata": {},
   "source": [
    "We can also check that with the selected accuracy of the qutip solver, for unitary dynamics (set loss tangents equal to zero) we reproduce the relation between leakage and seepage $d_1 L_1(\\mathcal{E}) = d_2 L_2(\\mathcal{E})$ ($d_1=4, d_2 = 11$)"
   ]
  },
  {
   "cell_type": "code",
   "execution_count": 63,
   "metadata": {},
   "outputs": [
    {
     "data": {
      "text/latex": [
       "$d_1 L_1(\\mathcal{E} ) = 0.0003294$"
      ],
      "text/plain": [
       "<IPython.core.display.Latex object>"
      ]
     },
     "metadata": {},
     "output_type": "display_data"
    }
   ],
   "source": [
    "display(Latex(r'$d_1 L_1(\\mathcal{{E}} ) = {:.7f}$'.format(d_comp*avg_leakage)))"
   ]
  },
  {
   "cell_type": "code",
   "execution_count": 64,
   "metadata": {},
   "outputs": [
    {
     "data": {
      "text/latex": [
       "$d_2 L_2(\\mathcal{E} ) = 0.0044905$"
      ],
      "text/plain": [
       "<IPython.core.display.Latex object>"
      ]
     },
     "metadata": {},
     "output_type": "display_data"
    }
   ],
   "source": [
    "display(Latex(r'$d_2 L_2(\\mathcal{{E}} ) = {:.7f}$'.format(d_leak*avg_seepage)))"
   ]
  },
  {
   "cell_type": "code",
   "execution_count": null,
   "metadata": {},
   "outputs": [],
   "source": []
  }
 ],
 "metadata": {
  "kernelspec": {
   "display_name": "Python 3",
   "language": "python",
   "name": "python3"
  },
  "language_info": {
   "codemirror_mode": {
    "name": "ipython",
    "version": 3
   },
   "file_extension": ".py",
   "mimetype": "text/x-python",
   "name": "python",
   "nbconvert_exporter": "python",
   "pygments_lexer": "ipython3",
   "version": "3.7.9"
  },
  "toc": {
   "base_numbering": 1,
   "nav_menu": {},
   "number_sections": true,
   "sideBar": true,
   "skip_h1_title": false,
   "title_cell": "Table of Contents",
   "title_sidebar": "Contents",
   "toc_cell": false,
   "toc_position": {
    "height": "calc(100% - 180px)",
    "left": "10px",
    "top": "150px",
    "width": "233.333px"
   },
   "toc_section_display": true,
   "toc_window_display": false
  },
  "widgets": {
   "application/vnd.jupyter.widget-state+json": {
    "state": {},
    "version_major": 2,
    "version_minor": 0
   }
  }
 },
 "nbformat": 4,
 "nbformat_minor": 4
}
