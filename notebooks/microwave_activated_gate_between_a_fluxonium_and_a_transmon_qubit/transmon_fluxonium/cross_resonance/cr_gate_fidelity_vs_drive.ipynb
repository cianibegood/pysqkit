{
 "cells": [
  {
   "cell_type": "markdown",
   "metadata": {},
   "source": [
    "# Cross-resonance gate between a transmon and a fluxonium: fidelity vs drive"
   ]
  },
  {
   "cell_type": "code",
   "execution_count": 1,
   "metadata": {},
   "outputs": [],
   "source": [
    "import numpy as np\n",
    "import scipy.integrate\n",
    "import time\n",
    "import qutip as qtp\n",
    "import matplotlib.pyplot as plt\n",
    "from scipy.optimize import minimize\n",
    "import pysqkit\n",
    "from pysqkit import QubitSystem, Qubit\n",
    "from pysqkit.drives.pulse_shapes import gaussian_top\n",
    "from pysqkit.util.metrics import average_process_fidelity, \\\n",
    "    average_gate_fidelity\n",
    "from pysqkit.util.phys import temperature_to_thermalenergy\n",
    "from pysqkit.util.quantum import generalized_rabi_frequency\n",
    "import pysqkit.util.transformations as trf\n",
    "from pysqkit.util.linalg import get_mat_elem\n",
    "from pysqkit.solvers.solvkit import integrate\n",
    "from pysqkit.util.hsbasis import pauli_by_index\n",
    "from pysqkit.solvers import solvkit\n",
    "from pysqkit.drives.pulse_shapes import gaussian_top\n",
    "import qutip\n",
    "from typing import List, Dict, Callable\n",
    "import matplotlib\n",
    "matplotlib.rcParams['mathtext.fontset'] = 'cm'\n",
    "import copy\n",
    "import json\n",
    "import cmath\n",
    "import util_tf_cr\n",
    "\n",
    "from IPython.display import display, Latex"
   ]
  },
  {
   "cell_type": "code",
   "execution_count": 2,
   "metadata": {},
   "outputs": [],
   "source": [
    "with open('../flx_transm_params.txt') as param_file:\n",
    "    parameters_set = json.load(param_file)"
   ]
  },
  {
   "cell_type": "code",
   "execution_count": 3,
   "metadata": {},
   "outputs": [],
   "source": [
    "def func_to_minimize(\n",
    "    pulse_time: list,\n",
    "    t_rise: float,\n",
    "    cr_coeff: float\n",
    ") -> float:\n",
    "    step = 1e-3\n",
    "    n_points = int(pulse_time[0]/step)\n",
    "    times = np.linspace(0, pulse_time[0], n_points)\n",
    "    pulse = gaussian_top(times, t_rise, pulse_time[0])\n",
    "    integral = scipy.integrate.simpson(2*np.pi*cr_coeff*pulse, times)\n",
    "    return np.abs(integral - np.pi/4) \n",
    "\n",
    "def ry_t(theta):\n",
    "    rot_y = np.cos(theta/2)*np.identity(2) - 1j*np.sin(theta/2)*np.array([[0, -1j], [1j, 0]])\n",
    "    return np.kron(rot_y, np.identity(2))\n",
    "\n",
    "def rx_t(theta):\n",
    "    rot_x = np.cos(theta/2)*np.identity(2) - 1j*np.sin(theta/2)*np.array([[0, 1], [1, 0]])\n",
    "    return np.kron(rot_x, np.identity(2))\n",
    "\n",
    "def ry_f(theta):\n",
    "    rot_y = np.cos(theta/2)*np.identity(2) - 1j*np.sin(theta/2)*np.array([[0, -1j], [1j, 0]])\n",
    "    return np.kron(np.identity(2), rot_y)\n",
    "\n",
    "def cry(theta):\n",
    "    ide = np.identity(4)\n",
    "    yz = np.kron(np.array([[0, -1j], [1j, 0]]), np.array([[1, 0], [0, -1]]))\n",
    "    return np.cos(theta/2)*ide - 1j*np.sin(theta/2)*yz\n",
    "\n",
    "def crx(theta):\n",
    "    ide = np.identity(4)\n",
    "    zx = np.kron(np.array([[0, 1], [1, 0]]), np.array([[1, 0], [0, -1]]))\n",
    "    return np.cos(theta/2)*ide - 1j*np.sin(theta/2)*zx"
   ]
  },
  {
   "cell_type": "code",
   "execution_count": 4,
   "metadata": {},
   "outputs": [],
   "source": [
    "def get_fidelity(\n",
    "    eps: float,\n",
    "    p_set: str\n",
    "):\n",
    "    with open('../flx_transm_params.txt') as param_file:\n",
    "        parameters_set = json.load(param_file)\n",
    "    \n",
    "    temperature = 0.020 #0.020 # K\n",
    "    thermal_energy = temperature_to_thermalenergy(temperature) # kb T/h in GHz\n",
    "    d_comp = 4\n",
    "\n",
    "    #Transmon\n",
    "    levels_t = 3\n",
    "    transm = pysqkit.qubits.SimpleTransmon(\n",
    "        label='T', \n",
    "        max_freq=parameters_set[p_set][\"max_freq_t\"], \n",
    "        anharm=parameters_set[p_set][\"anharm_t\"],\n",
    "        diel_loss_tan=parameters_set[p_set][\"diel_loss_tan_t\"],\n",
    "        env_thermal_energy=thermal_energy,    \n",
    "        dim_hilbert=levels_t,\n",
    "        dephasing_times=None \n",
    "    )\n",
    "\n",
    "    #Fluxonium\n",
    "    levels_f = 6\n",
    "    \n",
    "    flx = pysqkit.qubits.Fluxonium(\n",
    "        label='F', \n",
    "        charge_energy=parameters_set[p_set][\"charge_energy_f\"], \n",
    "        induct_energy=parameters_set[p_set][\"induct_energy_f\"], \n",
    "        joseph_energy=parameters_set[p_set][\"joseph_energy_f\"],  \n",
    "        diel_loss_tan=parameters_set[p_set][\"diel_loss_tan_f\"], \n",
    "        env_thermal_energy=thermal_energy,\n",
    "        dephasing_times=None \n",
    "    )\n",
    "    flx.diagonalize_basis(levels_f)\n",
    "\n",
    "    # We also add a drive on the fluxonium\n",
    "    flx.add_drive(\n",
    "        pysqkit.drives.microwave_drive,\n",
    "        label='cr_drive_f',\n",
    "        pulse=pysqkit.drives.pulses.cos_modulation,\n",
    "        pulse_shape=pysqkit.drives.pulse_shapes.gaussian_top\n",
    "    )\n",
    "\n",
    "    jc = parameters_set[p_set][\"jc\"]\n",
    "    coupled_sys = transm.couple_to(flx, coupling=pysqkit.couplers.capacitive_coupling, strength=jc)\n",
    "    \n",
    "\n",
    "    # flx_freq = flx_a.eig_energies(2)[1] - flx_a.eig_energies(2)[0]\n",
    "    \n",
    "    state_label = [\"00\", \"01\", \"10\", \"11\"]\n",
    "    comp_states = {}\n",
    "    for label in state_label:\n",
    "        state_tmp = coupled_sys.state(label)[1]\n",
    "        loc = np.argmax(np.abs(state_tmp))\n",
    "        phase = cmath.phase(state_tmp[loc])\n",
    "        state_tmp = np.exp(-1j*phase)*state_tmp\n",
    "        comp_states[label] = state_tmp\n",
    "    \n",
    "    comp_states_list = []\n",
    "    for key in comp_states.keys():\n",
    "        comp_states_list.append(comp_states[key])\n",
    "        \n",
    "    op = coupled_sys[\"F\"].charge_op()\n",
    "    freq_drive = transm.max_freq\n",
    "    cr_coeff = np.abs(util_tf_cr.mu_yz_flx(comp_states, op, eps))\n",
    "    t_rise = 10.0 # [ns]\n",
    "\n",
    "    t_gate_0 = [util_tf_cr.cr_gate_time(cr_coeff)]\n",
    "\n",
    "    args_to_pass = (t_rise, cr_coeff)\n",
    "    \n",
    "    # We find the total time to obtain the desired gate\n",
    "\n",
    "    start = time.time()\n",
    "\n",
    "    minimization_result = minimize(func_to_minimize, t_gate_0, args=args_to_pass)\n",
    "\n",
    "    end = time.time()\n",
    "\n",
    "    t_gate = minimization_result['x'][0] \n",
    "    pts_per_drive_period = 10\n",
    "\n",
    "    nb_points = int(t_gate*freq_drive*pts_per_drive_period)\n",
    "    \n",
    "    nb_points_echo = int(t_gate/2*freq_drive*pts_per_drive_period)\n",
    "    \n",
    "    tlist = np.linspace(0, t_gate, nb_points)\n",
    "\n",
    "    coupled_sys['F'].drives['cr_drive_f'].set_params(phase=0, time=tlist, \n",
    "                                                     rise_time=t_rise, pulse_time=t_gate, \n",
    "                                                     amp=eps, freq=freq_drive)\n",
    "    \n",
    "    simu_opt = qtp.solver.Options()\n",
    "    simu_opt.atol = 1e-14\n",
    "    simu_opt.rtol = 1e-12\n",
    "    \n",
    "    res = {}\n",
    "    \n",
    "    res[\"gate_time\"] = t_gate\n",
    "    \n",
    "    my_hs_basis = pauli_by_index\n",
    "\n",
    "    n_process = 8\n",
    "    \n",
    "    cr_super_target = trf.kraus_to_super(cry(-np.pi/2), my_hs_basis)\n",
    "    \n",
    "    for noise in [True, False]:\n",
    "        env_syst = pysqkit.tomography.TomoEnv(system=coupled_sys, time=2*np.pi*tlist, options=simu_opt, \n",
    "                                              with_noise=noise, dressed_noise=False)\n",
    "        sup_op = env_syst.to_super(comp_states_list, my_hs_basis, n_process, speed_up=True)\n",
    "        \n",
    "        sq_corr = util_tf_cr.single_qubit_corrections(sup_op, my_hs_basis)\n",
    "        sq_corr_sup = trf.kraus_to_super(sq_corr, my_hs_basis)\n",
    "        total_sup_op = sq_corr_sup.dot(sup_op)\n",
    "        \n",
    "        theta_list = list(np.linspace(0, 2*np.pi, 100))\n",
    "        \n",
    "        fid_list_ry = []\n",
    "        for theta in theta_list:\n",
    "            rot_y_super = trf.kraus_to_super(ry_t(theta), my_hs_basis)\n",
    "            fid_list_ry.append(average_process_fidelity(cr_super_target, rot_y_super.dot(total_sup_op)))\n",
    "\n",
    "        fid_ry = np.array(fid_list_ry)\n",
    "\n",
    "        max_fid = np.max(fid_ry)\n",
    "        max_index = np.argmax(fid_ry)\n",
    "        sup_rot_y_opt = trf.kraus_to_super(ry_t(theta_list[max_index]), my_hs_basis)\n",
    "        \n",
    "        avg_leakage = env_syst.leakage(comp_states_list)\n",
    "        \n",
    "        total_sup_op_ry = sup_rot_y_opt.dot(total_sup_op)\n",
    "        \n",
    "        if noise:\n",
    "            res[\"F_pro_noisy\"] = max_fid\n",
    "            res[\"L1_noisy\"] = avg_leakage\n",
    "            res[\"F_gate_noisy\"] = average_gate_fidelity(cr_super_target, total_sup_op_ry, avg_leakage)\n",
    "        else:\n",
    "            res[\"F_pro\"] = max_fid\n",
    "            res[\"L1\"] = avg_leakage\n",
    "            res[\"F_gate\"] = average_gate_fidelity(cr_super_target, total_sup_op_ry, avg_leakage)\n",
    "    \n",
    "    for noise in [True, False]:\n",
    "        \n",
    "        flx_a = pysqkit.qubits.Fluxonium(\n",
    "            label='F_A', \n",
    "            charge_energy=parameters_set[p_set][\"charge_energy_f\"], \n",
    "            induct_energy=parameters_set[p_set][\"induct_energy_f\"], \n",
    "            joseph_energy=parameters_set[p_set][\"joseph_energy_f\"],  \n",
    "            diel_loss_tan=parameters_set[p_set][\"diel_loss_tan_f\"], \n",
    "            env_thermal_energy=thermal_energy,\n",
    "            dephasing_times=None \n",
    "        )\n",
    "        flx_a.diagonalize_basis(levels_f)\n",
    "\n",
    "        # We also add a drive on the fluxonium\n",
    "        flx_a.add_drive(\n",
    "            pysqkit.drives.microwave_drive,\n",
    "            label='cr_drive_f_first_pulse',\n",
    "            pulse=pysqkit.drives.pulses.cos_modulation,\n",
    "            pulse_shape=pysqkit.drives.pulse_shapes.gaussian_top\n",
    "        )\n",
    "\n",
    "        \n",
    "        tlist_echo = np.linspace(0, t_gate/2, nb_points_echo)\n",
    "        \n",
    "        coupled_sys_a = transm.couple_to(flx_a, coupling=pysqkit.couplers.capacitive_coupling, strength=jc)\n",
    "\n",
    "        coupled_sys_a['F_A'].drives['cr_drive_f_first_pulse'].set_params(phase=0, time=tlist_echo, \n",
    "                                                                         rise_time=t_rise, pulse_time=t_gate/2, \n",
    "                                                                         amp=eps, freq=freq_drive)\n",
    "\n",
    "        env_syst_a = pysqkit.tomography.TomoEnv(system=coupled_sys_a, time=2*np.pi*tlist_echo, options=simu_opt, \n",
    "                                                with_noise=noise, dressed_noise=False)\n",
    "\n",
    "        sup_op_first = env_syst_a.to_super(comp_states_list, my_hs_basis, n_process, speed_up=True)\n",
    "\n",
    "        sq_corr_first = util_tf_cr.single_qubit_corrections(sup_op_first, my_hs_basis)\n",
    "        sq_corr_sup_first = trf.kraus_to_super(sq_corr_first, my_hs_basis)\n",
    "        sup_op_first_tot = sq_corr_sup_first.dot(sup_op_first)\n",
    "\n",
    "\n",
    "        flx_b = pysqkit.qubits.Fluxonium(\n",
    "            label='F_B', \n",
    "            charge_energy=parameters_set[p_set][\"charge_energy_f\"], \n",
    "            induct_energy=parameters_set[p_set][\"induct_energy_f\"], \n",
    "            joseph_energy=parameters_set[p_set][\"joseph_energy_f\"],  \n",
    "            diel_loss_tan=parameters_set[p_set][\"diel_loss_tan_f\"], \n",
    "            env_thermal_energy=thermal_energy,\n",
    "            dephasing_times=None \n",
    "            )\n",
    "        flx_b.diagonalize_basis(levels_f)\n",
    "\n",
    "        # We also add a drive on the fluxonium\n",
    "        flx_b.add_drive(\n",
    "            pysqkit.drives.microwave_drive,\n",
    "            label='cr_drive_f_second_pulse',\n",
    "            pulse=pysqkit.drives.pulses.cos_modulation,\n",
    "            pulse_shape=pysqkit.drives.pulse_shapes.gaussian_top\n",
    "        )\n",
    "\n",
    "        coupled_sys_b = transm.couple_to(flx_b, coupling=pysqkit.couplers.capacitive_coupling, strength=jc)\n",
    "\n",
    "        coupled_sys_b['F_B'].drives['cr_drive_f_second_pulse'].set_params(phase=0, time=tlist_echo, \n",
    "                                                                         rise_time=t_rise, pulse_time=t_gate/2, \n",
    "                                                                         amp=-eps, freq=freq_drive)\n",
    "\n",
    "        env_syst_b = pysqkit.tomography.TomoEnv(system=coupled_sys_b, time=2*np.pi*tlist_echo, options=simu_opt, \n",
    "                                                with_noise=noise, dressed_noise=False)\n",
    "\n",
    "        sup_op_second = env_syst_b.to_super(comp_states_list, my_hs_basis, n_process, speed_up=True)\n",
    "\n",
    "        sq_corr_second = util_tf_cr.single_qubit_corrections(sup_op_second, my_hs_basis)\n",
    "        sq_corr_sup_second = trf.kraus_to_super(sq_corr_second, my_hs_basis)\n",
    "        sup_op_second_tot = sq_corr_sup_second.dot(sup_op_second) \n",
    "\n",
    "        sup_echo = trf.kraus_to_super(ry_f(np.pi), my_hs_basis)\n",
    "\n",
    "        total_sup_op_echo = sup_echo.dot(sup_op_second_tot.dot(sup_echo.dot(sup_op_first_tot)))\n",
    "\n",
    "        \n",
    "        if noise:\n",
    "            res[\"F_pro_echo_noisy\"] = average_process_fidelity(cr_super_target, total_sup_op_echo)\n",
    "            res[\"F_gate_echo_noisy\"] = average_gate_fidelity(cr_super_target, total_sup_op_echo, res[\"L1_noisy\"])\n",
    "        else:\n",
    "            res[\"F_pro_echo\"] = average_process_fidelity(cr_super_target, total_sup_op_echo)\n",
    "            res[\"F_gate_echo\"] = average_gate_fidelity(cr_super_target, total_sup_op_echo, res[\"L1\"])\n",
    "    return res          \n",
    "    "
   ]
  },
  {
   "cell_type": "code",
   "execution_count": 5,
   "metadata": {},
   "outputs": [
    {
     "name": "stdout",
     "output_type": "stream",
     "text": [
      "Computation time = 1239.3313522338867 s\n"
     ]
    }
   ],
   "source": [
    "start = time.time()\n",
    "\n",
    "result = get_fidelity(0.3, \"CR_1\")\n",
    "\n",
    "end = time.time()\n",
    "\n",
    "print(\"Computation time = {} s\" .format(end - start))"
   ]
  },
  {
   "cell_type": "code",
   "execution_count": 6,
   "metadata": {},
   "outputs": [
    {
     "data": {
      "text/plain": [
       "{'gate_time': 232.85505057236932,\n",
       " 'F_pro_noisy': 0.9809119440949908,\n",
       " 'L1_noisy': 1.8292196843461284e-05,\n",
       " 'F_gate_noisy': 0.984725896836624,\n",
       " 'F_pro': 0.9829680867868029,\n",
       " 'L1': 2.8986746258841123e-07,\n",
       " 'F_gate': 0.9863744114559498,\n",
       " 'F_pro_echo_noisy': 0.993579183552762,\n",
       " 'F_gate_echo_noisy': 0.9948596884028408,\n",
       " 'F_pro_echo': 0.9956595452062429,\n",
       " 'F_gate_echo': 0.9965275781915018}"
      ]
     },
     "execution_count": 6,
     "metadata": {},
     "output_type": "execute_result"
    }
   ],
   "source": [
    "result"
   ]
  },
  {
   "cell_type": "code",
   "execution_count": 4,
   "metadata": {
    "hidden": true
   },
   "outputs": [],
   "source": [
    "temperature = 0.020 #0.020 # K\n",
    "thermal_energy = temperature_to_thermalenergy(temperature) # kb T/h in GHz\n",
    "d_comp = 4\n",
    "\n",
    "p_set = \"CR_3\"\n",
    "\n",
    "\n",
    "#Transmon\n",
    "levels_t = 3\n",
    "transm = pysqkit.qubits.SimpleTransmon(\n",
    "    label='T', \n",
    "    max_freq= 5.5, #parameters_set[p_set][\"max_freq_t\"], \n",
    "    anharm=parameters_set[p_set][\"anharm_t\"],\n",
    "    diel_loss_tan=parameters_set[p_set][\"diel_loss_tan_t\"],\n",
    "    env_thermal_energy=thermal_energy,    \n",
    "    dim_hilbert=levels_t,\n",
    "    dephasing_times=None #parameters_set[p_set][\"dephasing_times_t\"]\n",
    ")\n",
    "\n",
    "#Fluxonium\n",
    "levels_f = 6\n",
    "\n",
    "flx_a = pysqkit.qubits.Fluxonium(\n",
    "    label='F_A', \n",
    "    charge_energy=parameters_set[p_set][\"charge_energy_f\"], \n",
    "    induct_energy=parameters_set[p_set][\"induct_energy_f\"], \n",
    "    joseph_energy=parameters_set[p_set][\"joseph_energy_f\"],  \n",
    "    diel_loss_tan=parameters_set[p_set][\"diel_loss_tan_f\"], \n",
    "    env_thermal_energy=thermal_energy,\n",
    "    dephasing_times=None #parameters_set[p_set][\"dephasing_times_f\"] #ns/2*np.pi \n",
    ")\n",
    "flx_a.diagonalize_basis(levels_f)\n",
    "\n",
    "# We also add a drive on the fluxonium\n",
    "flx_a.add_drive(\n",
    "    pysqkit.drives.microwave_drive,\n",
    "    label='cr_drive_f_first_pulse',\n",
    "    pulse=pysqkit.drives.pulses.cos_modulation,\n",
    "    pulse_shape=pysqkit.drives.pulse_shapes.gaussian_top\n",
    ")\n",
    "\n",
    "d_leak = levels_t*levels_f - d_comp\n",
    "\n",
    "jc = parameters_set[p_set][\"jc\"]\n",
    "coupled_sys_a = transm.couple_to(flx_a, coupling=pysqkit.couplers.capacitive_coupling, strength=jc)\n",
    "bare_system_a = transm.couple_to(flx_a, coupling=pysqkit.couplers.capacitive_coupling, strength=0.0)\n",
    "\n",
    "flx_freq = flx_a.eig_energies(2)[1] - flx_a.eig_energies(2)[0]"
   ]
  },
  {
   "cell_type": "code",
   "execution_count": 5,
   "metadata": {},
   "outputs": [],
   "source": [
    "state_label = [\"00\", \"01\", \"10\", \"11\"]\n",
    "comp_states = {}\n",
    "for label in state_label:\n",
    "    state_tmp = coupled_sys_a.state(label)[1]\n",
    "    loc = np.argmax(np.abs(state_tmp))\n",
    "    phase = cmath.phase(state_tmp[loc])\n",
    "    state_tmp = np.exp(-1j*phase)*state_tmp\n",
    "    comp_states[label] = state_tmp"
   ]
  },
  {
   "cell_type": "markdown",
   "metadata": {},
   "source": [
    "We will apply an echo pulse of the form \n",
    "\n",
    "$$\n",
    "U_{echo} = e^{i \\pi I Y/2} U_{CR}(-\\varepsilon_d, t_{\\mathrm{gate}/2}) e^{-i \\pi I Y/2}U_{CR}(\\varepsilon_d, t_{\\mathrm{gate}/2})\n",
    "$$"
   ]
  },
  {
   "cell_type": "code",
   "execution_count": 28,
   "metadata": {},
   "outputs": [],
   "source": [
    "def func_to_minimize(\n",
    "    pulse_time: list,\n",
    "    t_rise: float,\n",
    "    cr_coeff: float\n",
    ") -> float:\n",
    "    step = 1e-3\n",
    "    n_points = int(pulse_time[0]/step)\n",
    "    times = np.linspace(0, pulse_time[0], n_points)\n",
    "    pulse = gaussian_top(times, t_rise, pulse_time[0])\n",
    "    integral = scipy.integrate.simpson(2*np.pi*cr_coeff*pulse, times)\n",
    "    return np.abs(integral - np.pi/4)  \n",
    "    "
   ]
  },
  {
   "cell_type": "code",
   "execution_count": 30,
   "metadata": {},
   "outputs": [
    {
     "name": "stdout",
     "output_type": "stream",
     "text": [
      "      fun: 1.0619838342051935e-11\n",
      " hess_inv: array([[24640.88328232]])\n",
      "      jac: array([0.00366475])\n",
      "  message: 'Desired error not necessarily achieved due to precision loss.'\n",
      "     nfev: 108\n",
      "      nit: 1\n",
      "     njev: 48\n",
      "   status: 2\n",
      "  success: False\n",
      "        x: array([164.87779364])\n",
      "t_gate: 164.87779364096627 ns\n"
     ]
    }
   ],
   "source": [
    "eps = 0.3\n",
    "omega_flx, states_flx = flx_a.eig_states(4)\n",
    "op = coupled_sys_a[\"F_A\"].charge_op()\n",
    "freq_drive = transm.max_freq\n",
    "t_rise = 10.0 # [ns]\n",
    "\n",
    "t_gate_0 = [200.0]\n",
    "\n",
    "# args_to_pass = (t_rise, np.abs(mu_yz_flx_sw(transm, flx_a, jc, eps))) \n",
    "args_to_pass = (t_rise, np.abs(mu_yz_flx(comp_states, op, eps))) \n",
    "# We find the total time to obtain the desired gate\n",
    "\n",
    "start = time.time()\n",
    "\n",
    "minimization_result = minimize(func_to_minimize, t_gate_0, args=args_to_pass)\n",
    "\n",
    "print(minimization_result)\n",
    "\n",
    "end = time.time()\n",
    "\n",
    "t_gate = minimization_result['x'][0] \n",
    "print(\"t_gate: {} ns\".format(t_gate))\n",
    "pts_per_drive_period = 10\n",
    "\n",
    "nb_points = int(t_gate*freq_drive*pts_per_drive_period)\n",
    "tlist = np.linspace(0, t_gate/2, nb_points)\n",
    "\n",
    "coupled_sys_a['F_A'].drives['cr_drive_f_first_pulse'].set_params(phase=0, time=tlist, \n",
    "                                                                 rise_time=t_rise, pulse_time=t_gate/2, \n",
    "                                                                 amp=eps, freq=freq_drive)\n"
   ]
  },
  {
   "cell_type": "code",
   "execution_count": 31,
   "metadata": {},
   "outputs": [],
   "source": [
    "simu_opt = qtp.solver.Options()\n",
    "simu_opt.atol = 1e-14\n",
    "simu_opt.rtol = 1e-12\n",
    "\n",
    "env_syst_a = pysqkit.tomography.TomoEnv(system=coupled_sys_a, time=2*np.pi*tlist, options=simu_opt, \n",
    "                                        with_noise=False, dressed_noise=False)"
   ]
  },
  {
   "cell_type": "code",
   "execution_count": 32,
   "metadata": {},
   "outputs": [],
   "source": [
    "comp_states_list = []\n",
    "for key in comp_states.keys():\n",
    "    comp_states_list.append(comp_states[key])"
   ]
  },
  {
   "cell_type": "code",
   "execution_count": 33,
   "metadata": {},
   "outputs": [
    {
     "name": "stdout",
     "output_type": "stream",
     "text": [
      "Computational time = 101.76363563537598 s\n"
     ]
    }
   ],
   "source": [
    "n_process = 4\n",
    "\n",
    "my_hs_basis = pauli_by_index\n",
    "\n",
    "start = time.time()\n",
    "sup_op_first = env_syst_a.to_super(comp_states_list, my_hs_basis, n_process, speed_up=True)\n",
    "end = time.time()\n",
    "print(\"Computational time = \" + str(end - start) + ' s')"
   ]
  },
  {
   "cell_type": "code",
   "execution_count": 34,
   "metadata": {},
   "outputs": [],
   "source": [
    "sq_corr_first = util_tf_cr.single_qubit_corrections(sup_op_first, my_hs_basis)\n",
    "sq_corr_sup_first = trf.kraus_to_super(sq_corr_first, my_hs_basis)\n",
    "sup_op_first_tot = sq_corr_sup_first.dot(sup_op_first) "
   ]
  },
  {
   "cell_type": "code",
   "execution_count": 35,
   "metadata": {},
   "outputs": [],
   "source": [
    "flx_b = pysqkit.qubits.Fluxonium(\n",
    "    label='F_B', \n",
    "    charge_energy=parameters_set[p_set][\"charge_energy_f\"], \n",
    "    induct_energy=parameters_set[p_set][\"induct_energy_f\"], \n",
    "    joseph_energy=parameters_set[p_set][\"joseph_energy_f\"],  \n",
    "    diel_loss_tan=parameters_set[p_set][\"diel_loss_tan_f\"], \n",
    "    env_thermal_energy=thermal_energy,\n",
    "    dephasing_times=None \n",
    ")\n",
    "flx_b.diagonalize_basis(levels_f)\n",
    "\n",
    "# We also add a drive on the fluxonium\n",
    "flx_b.add_drive(\n",
    "    pysqkit.drives.microwave_drive,\n",
    "    label='cr_drive_f_second_pulse',\n",
    "    pulse=pysqkit.drives.pulses.cos_modulation,\n",
    "    pulse_shape=pysqkit.drives.pulse_shapes.gaussian_top\n",
    ")\n",
    "\n",
    "coupled_sys_b = transm.couple_to(flx_b, coupling=pysqkit.couplers.capacitive_coupling, strength=jc)\n",
    "\n",
    "coupled_sys_b['F_B'].drives['cr_drive_f_second_pulse'].set_params(phase=0, time=tlist, \n",
    "                                                                 rise_time=t_rise, pulse_time=t_gate/2, \n",
    "                                                                 amp=-eps, freq=freq_drive)\n",
    "\n",
    "env_syst_b = pysqkit.tomography.TomoEnv(system=coupled_sys_b, time=2*np.pi*tlist, options=simu_opt, \n",
    "                                      with_noise=False, dressed_noise=False)"
   ]
  },
  {
   "cell_type": "code",
   "execution_count": 36,
   "metadata": {},
   "outputs": [
    {
     "name": "stdout",
     "output_type": "stream",
     "text": [
      "Computational time = 109.24334239959717 s\n"
     ]
    }
   ],
   "source": [
    "n_process = 4\n",
    "\n",
    "my_hs_basis = pauli_by_index\n",
    "\n",
    "start = time.time()\n",
    "sup_op_second = env_syst_b.to_super(comp_states_list, my_hs_basis, n_process, speed_up=True)\n",
    "end = time.time()\n",
    "print(\"Computational time = \" + str(end - start) + ' s')"
   ]
  },
  {
   "cell_type": "code",
   "execution_count": 37,
   "metadata": {},
   "outputs": [],
   "source": [
    "sq_corr_second = util_tf_cr.single_qubit_corrections(sup_op_second, my_hs_basis)\n",
    "sq_corr_sup_second = trf.kraus_to_super(sq_corr_second, my_hs_basis)\n",
    "sup_op_second_tot = sq_corr_sup_second.dot(sup_op_second) "
   ]
  },
  {
   "cell_type": "code",
   "execution_count": 38,
   "metadata": {},
   "outputs": [],
   "source": [
    "def ry_t(theta):\n",
    "    rot_y = np.cos(theta/2)*np.identity(2) - 1j*np.sin(theta/2)*np.array([[0, -1j], [1j, 0]])\n",
    "    return np.kron(rot_y, np.identity(2))\n",
    "\n",
    "def rx_t(theta):\n",
    "    rot_x = np.cos(theta/2)*np.identity(2) - 1j*np.sin(theta/2)*np.array([[0, 1], [1, 0]])\n",
    "    return np.kron(rot_x, np.identity(2))\n",
    "\n",
    "def ry_f(theta):\n",
    "    rot_y = np.cos(theta/2)*np.identity(2) - 1j*np.sin(theta/2)*np.array([[0, -1j], [1j, 0]])\n",
    "    return np.kron(np.identity(2), rot_y)\n",
    "\n",
    "sup_echo = trf.kraus_to_super(ry_f(np.pi), my_hs_basis)"
   ]
  },
  {
   "cell_type": "code",
   "execution_count": 39,
   "metadata": {},
   "outputs": [],
   "source": [
    "total_sup_op = sup_echo.dot(sup_op_second_tot.dot(sup_echo.dot(sup_op_first_tot)))"
   ]
  },
  {
   "cell_type": "markdown",
   "metadata": {},
   "source": [
    "We now compute the process fidelity. In order to do this we first need to obtain the superoperator representation of the $\\mathrm{CZ}$ in the Weyl basis. This can be done via the function qutip.util.transformations.kraus_to_super"
   ]
  },
  {
   "cell_type": "code",
   "execution_count": 40,
   "metadata": {},
   "outputs": [],
   "source": [
    "def cry(theta):\n",
    "    ide = np.identity(4)\n",
    "    yz = np.kron(np.array([[0, -1j], [1j, 0]]), np.array([[1, 0], [0, -1]]))\n",
    "    return np.cos(theta/2)*ide - 1j*np.sin(theta/2)*yz\n",
    "\n",
    "def crx(theta):\n",
    "    ide = np.identity(4)\n",
    "    zx = np.kron(np.array([[0, 1], [1, 0]]), np.array([[1, 0], [0, -1]]))\n",
    "    return np.cos(theta/2)*ide - 1j*np.sin(theta/2)*zx\n",
    "\n",
    "theta_list = list(np.linspace(0, 2*np.pi, 100))"
   ]
  },
  {
   "cell_type": "markdown",
   "metadata": {},
   "source": [
    "We can now compute the process fidelity"
   ]
  },
  {
   "cell_type": "code",
   "execution_count": 41,
   "metadata": {},
   "outputs": [
    {
     "data": {
      "text/latex": [
       "$F_{pro} = 0.99043$"
      ],
      "text/plain": [
       "<IPython.core.display.Latex object>"
      ]
     },
     "metadata": {},
     "output_type": "display_data"
    }
   ],
   "source": [
    "cr_super_target = trf.kraus_to_super(cry(-np.pi/2), my_hs_basis)\n",
    "f_pro = average_process_fidelity(cr_super_target, total_sup_op)\n",
    "display(Latex(r'$F_{{pro}} = {:.5f}$'.format(f_pro)))"
   ]
  },
  {
   "cell_type": "markdown",
   "metadata": {},
   "source": [
    "Notice that this is by choice not done within the TomoEnv class, since the TomoEnv class should be agnostic of which gate we want to implement. Since during the gate also an unwanted $Y$ rotations is implemented let us try to virtually correct it. In particular, we look for the $Y$ rotation on the transmon that maximized the fidelity."
   ]
  },
  {
   "cell_type": "code",
   "execution_count": 42,
   "metadata": {},
   "outputs": [
    {
     "data": {
      "image/png": "[encoded data removed]",
      "text/plain": [
       "<Figure size 432x288 with 1 Axes>"
      ]
     },
     "metadata": {
      "needs_background": "light"
     },
     "output_type": "display_data"
    },
    {
     "data": {
      "text/latex": [
       "Maximum achievable fidelity after ideal $Y$ rotations = $0.9904261401697104$"
      ],
      "text/plain": [
       "<IPython.core.display.Latex object>"
      ]
     },
     "metadata": {},
     "output_type": "display_data"
    }
   ],
   "source": [
    "fid_list_ry = []\n",
    "for theta in theta_list:\n",
    "    rot_y_super = trf.kraus_to_super(ry_t(theta), my_hs_basis)\n",
    "    fid_list_ry.append(average_process_fidelity(cr_super_target, rot_y_super.dot(total_sup_op)))\n",
    "\n",
    "fid_ry = np.array(fid_list_ry)\n",
    "\n",
    "plt.plot(theta_list, fid_ry)\n",
    "plt.show()\n",
    "max_fid = np.max(fid_ry)\n",
    "max_index = np.argmax(fid_ry)\n",
    "sup_rot_y_opt = trf.kraus_to_super(ry_t(theta_list[max_index]), my_hs_basis)\n",
    "display(Latex(r\"Maximum achievable fidelity after ideal $Y$ rotations = ${}$\".format(max_fid)))"
   ]
  },
  {
   "cell_type": "code",
   "execution_count": 43,
   "metadata": {},
   "outputs": [
    {
     "data": {
      "image/png": "[encoded data removed]",
      "text/plain": [
       "<Figure size 432x288 with 1 Axes>"
      ]
     },
     "metadata": {
      "needs_background": "light"
     },
     "output_type": "display_data"
    },
    {
     "data": {
      "text/latex": [
       "Maximum achievable fidelity after ideal $X$ rotations = $0.9904261401697104$"
      ],
      "text/plain": [
       "<IPython.core.display.Latex object>"
      ]
     },
     "metadata": {},
     "output_type": "display_data"
    }
   ],
   "source": [
    "fid_list_rx = []\n",
    "for theta in theta_list:\n",
    "    rot_x_super = trf.kraus_to_super(rx_t(theta), my_hs_basis)\n",
    "    fid_list_rx.append(average_process_fidelity(cr_super_target, rot_x_super.dot(total_sup_op)))\n",
    "\n",
    "fid_rx = np.array(fid_list_rx)\n",
    "\n",
    "plt.plot(theta_list, fid_rx)\n",
    "plt.show()\n",
    "max_fid = np.max(fid_rx)\n",
    "max_index = np.argmax(fid_rx)\n",
    "sup_rot_x_opt = trf.kraus_to_super(rx_t(theta_list[max_index]), my_hs_basis)\n",
    "display(Latex(r\"Maximum achievable fidelity after ideal $X$ rotations = ${}$\".format(max_fid)))"
   ]
  },
  {
   "cell_type": "markdown",
   "metadata": {},
   "source": [
    "The average leakage and seepage is instead computed within the TomoEnv class. This is because we just need to specify a subspace to determine them, similarly to the determination of the superoperator. We use Eq. 2 and 3 in Wood-Gambetta Phys. Rev. A 97, 032306 (2018) to calculate the average leakage and seepage respectively. "
   ]
  },
  {
   "cell_type": "code",
   "execution_count": 44,
   "metadata": {},
   "outputs": [
    {
     "data": {
      "text/latex": [
       "$L_1(\\mathcal{E} ) = 0.0000003$"
      ],
      "text/plain": [
       "<IPython.core.display.Latex object>"
      ]
     },
     "metadata": {},
     "output_type": "display_data"
    }
   ],
   "source": [
    "avg_leakage = env_syst_a.leakage(comp_states_list)\n",
    "display(Latex(r'$L_1(\\mathcal{{E}} ) = {:.7f}$'.format(avg_leakage)))"
   ]
  },
  {
   "cell_type": "markdown",
   "metadata": {},
   "source": [
    "We observe that leakage is sensitive to whether we have a smooth rise time or not..."
   ]
  },
  {
   "cell_type": "code",
   "execution_count": 26,
   "metadata": {},
   "outputs": [
    {
     "data": {
      "text/latex": [
       "$L_2(\\mathcal{E} ) = 0.0000000$"
      ],
      "text/plain": [
       "<IPython.core.display.Latex object>"
      ]
     },
     "metadata": {},
     "output_type": "display_data"
    }
   ],
   "source": [
    "avg_seepage = env_syst_a.seepage(comp_states_list)\n",
    "display(Latex(r'$L_2(\\mathcal{{E}} ) = {:.7f}$'.format(avg_seepage)))"
   ]
  },
  {
   "cell_type": "markdown",
   "metadata": {},
   "source": [
    "We can also check that with the selected accuracy of the qutip solver, for unitary dynamics (set loss tangents equal to zero) we reproduce the relation between leakage and seepage $d_1 L_1(\\mathcal{E}) = d_2 L_2(\\mathcal{E})$ ($d_1=4, d_2 = 11$)"
   ]
  },
  {
   "cell_type": "code",
   "execution_count": 27,
   "metadata": {},
   "outputs": [
    {
     "data": {
      "text/latex": [
       "$d_1 L_1(\\mathcal{E} ) = 0.0000004$"
      ],
      "text/plain": [
       "<IPython.core.display.Latex object>"
      ]
     },
     "metadata": {},
     "output_type": "display_data"
    }
   ],
   "source": [
    "display(Latex(r'$d_1 L_1(\\mathcal{{E}} ) = {:.7f}$'.format(d_comp*avg_leakage)))"
   ]
  },
  {
   "cell_type": "code",
   "execution_count": 28,
   "metadata": {},
   "outputs": [
    {
     "data": {
      "text/latex": [
       "$d_2 L_2(\\mathcal{E} ) = 0.0000004$"
      ],
      "text/plain": [
       "<IPython.core.display.Latex object>"
      ]
     },
     "metadata": {},
     "output_type": "display_data"
    }
   ],
   "source": [
    "display(Latex(r'$d_2 L_2(\\mathcal{{E}} ) = {:.7f}$'.format(d_leak*avg_seepage)))"
   ]
  },
  {
   "cell_type": "markdown",
   "metadata": {},
   "source": [
    "Finally, the average gate fidelity is"
   ]
  },
  {
   "cell_type": "code",
   "execution_count": 45,
   "metadata": {},
   "outputs": [
    {
     "data": {
      "text/latex": [
       "$F_{gate} = 0.99234$"
      ],
      "text/plain": [
       "<IPython.core.display.Latex object>"
      ]
     },
     "metadata": {},
     "output_type": "display_data"
    }
   ],
   "source": [
    "total_sup_op_ry = sup_rot_y_opt.dot(total_sup_op)\n",
    "f_gate = average_gate_fidelity(cr_super_target, total_sup_op_ry, avg_leakage)\n",
    "display(Latex(r'$F_{{gate}} = {:.5f}$'.format(f_gate)))\n"
   ]
  },
  {
   "cell_type": "markdown",
   "metadata": {},
   "source": [
    "It is clear that the main source of error is leakage. Let us thus check where the leakage is coming from mainly."
   ]
  },
  {
   "cell_type": "markdown",
   "metadata": {},
   "source": [
    "# Leakage analysis"
   ]
  },
  {
   "cell_type": "markdown",
   "metadata": {},
   "source": [
    "To study leakage we consider the noiseless case"
   ]
  },
  {
   "cell_type": "code",
   "execution_count": 157,
   "metadata": {},
   "outputs": [],
   "source": [
    "def run(\n",
    "    time: np.ndarray,\n",
    "    system: QubitSystem, \n",
    "    state_init: qtp.qobj.Qobj, \n",
    "    options: qtp.solver.Options=None\n",
    "):\n",
    "    hamil0 = system.hamiltonian(as_qobj=True)\n",
    "    hamil_drive = []\n",
    "    pulse_drive = []\n",
    "                    \n",
    "    for qubit in system:\n",
    "        if qubit.is_driven:\n",
    "            for label, drive in qubit.drives.items():\n",
    "                hamil_drive.append(drive.hamiltonian(as_qobj=True))\n",
    "                pulse_drive.append(drive.eval_pulse())\n",
    "    jump_op = [op for qubit in system for op in qubit.collapse_ops(as_qobj=True)]\n",
    "                    \n",
    "    result = integrate(time, state_init, hamil0, hamil_drive,\n",
    "                           pulse_drive, jump_op, \"mesolve\", options=options)\n",
    "                    \n",
    "    return result  "
   ]
  },
  {
   "cell_type": "code",
   "execution_count": 158,
   "metadata": {},
   "outputs": [
    {
     "data": {
      "text/latex": [
       "$\\mathrm{Leakage \\, computation \\, time} = 5.187 \\, s$"
      ],
      "text/plain": [
       "<IPython.core.display.Latex object>"
      ]
     },
     "metadata": {},
     "output_type": "display_data"
    }
   ],
   "source": [
    "start = time.time()\n",
    "\n",
    "_proj_comp = np.einsum('ai, aj -> ij', comp_states_list, np.conj(comp_states_list))\n",
    "subsys_dims = list(q.dim_hilbert for q in coupled_sys)\n",
    "proj_comp = qtp.Qobj(inpt=_proj_comp, dims=[subsys_dims, subsys_dims], isherm=True)\n",
    "res = run(time=2*np.pi*tlist, system=coupled_sys, state_init=proj_comp/d_comp, options=simu_opt)\n",
    "\n",
    "end=time.time()\n",
    "display(Latex(r'$\\mathrm{{Leakage \\, computation \\, time}} = {:.3f} \\, s$'.format(end - start)))\n",
    "l1 = 1 - qtp.expect(proj_comp, res.states[-1])"
   ]
  },
  {
   "cell_type": "code",
   "execution_count": 159,
   "metadata": {},
   "outputs": [],
   "source": [
    "comp_state_label = ['00', '01', '10', '11']\n",
    "leakage_states = []\n",
    "for lev_t in range(0, levels_t):\n",
    "    for lev_f in range(0, levels_f):\n",
    "        if str(lev_t) + str(lev_f) not in comp_state_label:\n",
    "            leakage_states.append(str(lev_t) + str(lev_f))"
   ]
  },
  {
   "cell_type": "code",
   "execution_count": 160,
   "metadata": {},
   "outputs": [],
   "source": [
    "def get_probabilities(\n",
    "    states_label: List[str], \n",
    "    system:QubitSystem, \n",
    "    final_state: qtp.qobj.Qobj\n",
    ") -> Dict:\n",
    "    prob = {}\n",
    "    for label in states_label:\n",
    "        ket = system.state(label, as_qobj=True)[1]\n",
    "        projector = ket*ket.dag()\n",
    "        prob[label] = qtp.expect(projector, final_state)\n",
    "    return prob"
   ]
  },
  {
   "cell_type": "code",
   "execution_count": 161,
   "metadata": {},
   "outputs": [
    {
     "data": {
      "text/latex": [
       "$\\mathrm{Average\\, Leakage \\,} L_1 = 0.0057741 $"
      ],
      "text/plain": [
       "<IPython.core.display.Latex object>"
      ]
     },
     "metadata": {},
     "output_type": "display_data"
    },
    {
     "data": {
      "text/latex": [
       "$P_{leak, 02  } = 0.0029175$"
      ],
      "text/plain": [
       "<IPython.core.display.Latex object>"
      ]
     },
     "metadata": {},
     "output_type": "display_data"
    },
    {
     "data": {
      "text/latex": [
       "$P_{leak, 03  } = 0.0000067$"
      ],
      "text/plain": [
       "<IPython.core.display.Latex object>"
      ]
     },
     "metadata": {},
     "output_type": "display_data"
    },
    {
     "data": {
      "text/latex": [
       "$P_{leak, 04  } = 0.0000001$"
      ],
      "text/plain": [
       "<IPython.core.display.Latex object>"
      ]
     },
     "metadata": {},
     "output_type": "display_data"
    },
    {
     "data": {
      "text/latex": [
       "$P_{leak, 12  } = 0.0028425$"
      ],
      "text/plain": [
       "<IPython.core.display.Latex object>"
      ]
     },
     "metadata": {},
     "output_type": "display_data"
    },
    {
     "data": {
      "text/latex": [
       "$P_{leak, 13  } = 0.0000067$"
      ],
      "text/plain": [
       "<IPython.core.display.Latex object>"
      ]
     },
     "metadata": {},
     "output_type": "display_data"
    },
    {
     "data": {
      "text/latex": [
       "$P_{leak, 14  } = 0.0000001$"
      ],
      "text/plain": [
       "<IPython.core.display.Latex object>"
      ]
     },
     "metadata": {},
     "output_type": "display_data"
    },
    {
     "data": {
      "text/latex": [
       "$P_{leak, 20  } = 0.0000000$"
      ],
      "text/plain": [
       "<IPython.core.display.Latex object>"
      ]
     },
     "metadata": {},
     "output_type": "display_data"
    },
    {
     "data": {
      "text/latex": [
       "$P_{leak, 21  } = 0.0000004$"
      ],
      "text/plain": [
       "<IPython.core.display.Latex object>"
      ]
     },
     "metadata": {},
     "output_type": "display_data"
    },
    {
     "data": {
      "text/latex": [
       "$P_{leak, 22  } = 0.0000000$"
      ],
      "text/plain": [
       "<IPython.core.display.Latex object>"
      ]
     },
     "metadata": {},
     "output_type": "display_data"
    },
    {
     "data": {
      "text/latex": [
       "$P_{leak, 23  } = 0.0000000$"
      ],
      "text/plain": [
       "<IPython.core.display.Latex object>"
      ]
     },
     "metadata": {},
     "output_type": "display_data"
    },
    {
     "data": {
      "text/latex": [
       "$P_{leak, 24  } = 0.0000000$"
      ],
      "text/plain": [
       "<IPython.core.display.Latex object>"
      ]
     },
     "metadata": {},
     "output_type": "display_data"
    },
    {
     "data": {
      "text/latex": [
       "$\\sum_k P_{leak, k  } = 0.0057741$"
      ],
      "text/plain": [
       "<IPython.core.display.Latex object>"
      ]
     },
     "metadata": {},
     "output_type": "display_data"
    }
   ],
   "source": [
    "leak_probs = get_probabilities(leakage_states, coupled_sys, res.states[-1])\n",
    "\n",
    "display(Latex(r'$\\mathrm{{Average\\, Leakage \\,}} L_1 = {:.7f} $'.format(l1)))\n",
    "\n",
    "sum_leak = 0\n",
    "\n",
    "for label in leakage_states:\n",
    "    display(Latex(r'$P_{{leak, {}  }} = {:.7f}$'.format(label, leak_probs[label])))\n",
    "    sum_leak += leak_probs[label]\n",
    "display(Latex(r'$\\sum_k P_{{leak, k  }} = {:.7f}$'.format(sum_leak)))"
   ]
  },
  {
   "cell_type": "markdown",
   "metadata": {},
   "source": [
    "We notice that leakage is quite heterogeneous in the sense that many levels are a bit populated. I think this problem can be solved by several strategies such as optimizing the coupling, increasing the gate time or by taking larger frequency differences between the transmon and the higher levels of the fluxonium. Indeed, by reducing the coupling, at the price of a doubled gate time for fixed drive strength, we have much less leakage."
   ]
  }
 ],
 "metadata": {
  "kernelspec": {
   "display_name": "Python 3 (ipykernel)",
   "language": "python",
   "name": "python3"
  },
  "language_info": {
   "codemirror_mode": {
    "name": "ipython",
    "version": 3
   },
   "file_extension": ".py",
   "mimetype": "text/x-python",
   "name": "python",
   "nbconvert_exporter": "python",
   "pygments_lexer": "ipython3",
   "version": "3.7.11"
  },
  "toc": {
   "base_numbering": 1,
   "nav_menu": {},
   "number_sections": true,
   "sideBar": true,
   "skip_h1_title": false,
   "title_cell": "Table of Contents",
   "title_sidebar": "Contents",
   "toc_cell": false,
   "toc_position": {
    "height": "calc(100% - 180px)",
    "left": "10px",
    "top": "150px",
    "width": "233.333px"
   },
   "toc_section_display": true,
   "toc_window_display": false
  },
  "widgets": {
   "application/vnd.jupyter.widget-state+json": {
    "state": {},
    "version_major": 2,
    "version_minor": 0
   }
  }
 },
 "nbformat": 4,
 "nbformat_minor": 4
}
