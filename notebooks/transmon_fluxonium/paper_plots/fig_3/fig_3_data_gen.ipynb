{
 "cells": [
  {
   "cell_type": "code",
   "execution_count": 1,
   "id": "64895e7d",
   "metadata": {},
   "outputs": [],
   "source": [
    "import numpy as np\n",
    "import sys\n",
    "import qutip as qtp \n",
    "import matplotlib.pyplot as plt\n",
    "from scipy import constants\n",
    "import pysqkit\n",
    "from pysqkit import Qubit\n",
    "import xarray\n",
    "from pysqkit.util.linalg import get_mat_elem, tensor_prod\n",
    "from itertools import product\n",
    "from typing import List\n",
    "import matplotlib\n",
    "matplotlib.rcParams['mathtext.fontset'] = 'cm'\n",
    "import json"
   ]
  },
  {
   "cell_type": "code",
   "execution_count": 2,
   "id": "e0a0b3c5",
   "metadata": {},
   "outputs": [],
   "source": [
    "with open('../../flx_transm_params.txt') as param_file:\n",
    "    parameters_set = json.load(param_file)"
   ]
  },
  {
   "cell_type": "code",
   "execution_count": 3,
   "id": "24e1e916",
   "metadata": {},
   "outputs": [],
   "source": [
    "#Transmon\n",
    "\n",
    "p_set_cr = \"CR_3\"\n",
    "levels_t = 3\n",
    "transm = pysqkit.qubits.SimpleTransmon(\n",
    "    label='T', \n",
    "    max_freq=parameters_set[p_set_cr][\"max_freq_t\"], \n",
    "    anharm=parameters_set[p_set_cr][\"anharm_t\"],\n",
    "    diel_loss_tan=parameters_set[p_set_cr][\"diel_loss_tan_t\"], #set to zero to check d_1 L1 = d_2 L2\n",
    "    dim_hilbert=levels_t,\n",
    "    dephasing_times=parameters_set[p_set_cr][\"dephasing_times_t\"]\n",
    ")\n",
    "\n",
    "levels_f = 8\n",
    "\n",
    "flx_cr = pysqkit.qubits.Fluxonium(\n",
    "    label='F', \n",
    "    charge_energy=parameters_set[p_set_cr][\"charge_energy_f\"], \n",
    "    induct_energy=parameters_set[p_set_cr][\"induct_energy_f\"], \n",
    "    joseph_energy=parameters_set[p_set_cr][\"joseph_energy_f\"], \n",
    ")\n",
    "flx_cr.diagonalize_basis(levels_f)\n",
    "flx_cphase = pysqkit.qubits.Fluxonium(\n",
    "    label='F', \n",
    "    charge_energy=parameters_set[\"CPHASE\"][\"charge_energy_f\"], \n",
    "    induct_energy=parameters_set[\"CPHASE\"][\"induct_energy_f\"], \n",
    "    joseph_energy=parameters_set[\"CPHASE\"][\"joseph_energy_f\"], \n",
    ")\n",
    "flx_cphase.diagonalize_basis(levels_f)\n",
    "\n",
    "flx_dict = {\"cr\": flx_cr, \"cphase\": flx_cphase}"
   ]
  },
  {
   "cell_type": "code",
   "execution_count": 4,
   "id": "89b8b986",
   "metadata": {},
   "outputs": [],
   "source": [
    "flx_transitions = [[\"0\", \"1\"], [\"1\", \"2\"], [\"0\", \"3\"]]\n",
    "transm_transitions = [[\"0\", \"1\"], [\"1\", \"2\"]]\n",
    "\n",
    "flx_data = {}\n",
    "flx_data[\"cr\"] = []\n",
    "flx_data[\"cphase\"] = []\n",
    "\n",
    "for key in flx_dict.keys():\n",
    "    for transition in flx_transitions:\n",
    "        state_a = flx_dict[key].state(transition[0])\n",
    "        state_b = flx_dict[key].state(transition[1])\n",
    "        freq = np.abs(state_a[0] - state_b[0])\n",
    "        charge_mat_elem = np.abs(get_mat_elem(flx_dict[key].charge_op(), state_a[1], state_b[1]))\n",
    "        flx_data[key].append({\"transition\": transition[0] + transition[1], \"freq\": freq, \"mat_elem\": charge_mat_elem})\n",
    "\n",
    "transm_data = []\n",
    "\n",
    "for transition in transm_transitions:\n",
    "    state_a = transm.state(transition[0])\n",
    "    state_b = transm.state(transition[1])\n",
    "    freq = np.abs(state_a[0] - state_b[0])\n",
    "    charge_mat_elem = np.abs(get_mat_elem(transm.charge_op(), state_a[1], state_b[1]))\n",
    "    transm_data.append({\"transition\": transition[0] + transition[1], \"freq\": freq, \"mat_elem\": charge_mat_elem})"
   ]
  },
  {
   "cell_type": "code",
   "execution_count": 5,
   "id": "617bdfce",
   "metadata": {},
   "outputs": [],
   "source": [
    "save = False\n",
    "if save:\n",
    "    with open(\"flx_mat_elem_data.txt\", 'w') as fp:\n",
    "        json.dump(flx_data, fp)\n",
    "    with open(\"transm_mat_elem_data.txt\", 'w') as fp:\n",
    "        json.dump(transm_data, fp)"
   ]
  },
  {
   "cell_type": "code",
   "execution_count": 6,
   "id": "439e9b02",
   "metadata": {},
   "outputs": [],
   "source": [
    "phi = np.linspace(-3/2*np.pi, 3/2*np.pi, 1000)\n",
    "levels = [0, 1, 2, 3]\n",
    "wf_cr_xarray = flx_cr.wave_function(phi, levels=levels)\n",
    "wf_cphase_xarray = flx_cphase.wave_function(phi, levels=levels)\n",
    "wf_cr = {}\n",
    "wf_cr[\"potential\"] = list(np.array(wf_cr_xarray[\"potential\"]))\n",
    "wf_cr[\"energy\"] = list(np.array(wf_cr_xarray[\"energy\"]) )\n",
    "wf_cr[\"wave_func\"] = [list(np.array(wf_cr_xarray[\"wave_func\"][x])) for x in range(4)]\n",
    "wf_cr[\"phi\"] = list(phi)\n",
    "wf_cphase = {}\n",
    "wf_cphase[\"potential\"] = list(np.array(wf_cphase_xarray[\"potential\"]))\n",
    "wf_cphase[\"energy\"] = list(np.array(wf_cphase_xarray[\"energy\"]) )\n",
    "wf_cphase[\"wave_func\"] = [list(np.array(wf_cphase_xarray[\"wave_func\"][x])) for x in range(4)]\n",
    "wf_cphase[\"phi\"] = list(phi)"
   ]
  },
  {
   "cell_type": "code",
   "execution_count": 7,
   "id": "a13f0a73",
   "metadata": {},
   "outputs": [],
   "source": [
    "save = True\n",
    "if save:\n",
    "    with open(\"wf_cr_data.txt\", 'w') as fp:\n",
    "        json.dump(wf_cr, fp)\n",
    "    with open(\"wf_cphase_data.txt\", 'w') as fp:\n",
    "        json.dump(wf_cphase, fp)"
   ]
  }
 ],
 "metadata": {
  "kernelspec": {
   "display_name": "Python 3.7.3 64-bit ('base': conda)",
   "language": "python",
   "name": "python37364bitbaseconda36d0b2465ec04527ba16a77ef6d99d0e"
  },
  "language_info": {
   "codemirror_mode": {
    "name": "ipython",
    "version": 3
   },
   "file_extension": ".py",
   "mimetype": "text/x-python",
   "name": "python",
   "nbconvert_exporter": "python",
   "pygments_lexer": "ipython3",
   "version": "3.7.11"
  }
 },
 "nbformat": 4,
 "nbformat_minor": 5
}
