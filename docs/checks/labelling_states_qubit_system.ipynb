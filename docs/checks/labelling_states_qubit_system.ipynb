{
 "cells": [
  {
   "cell_type": "markdown",
   "metadata": {},
   "source": [
    "# Labelling states directly in qubit system"
   ]
  },
  {
   "cell_type": "code",
   "execution_count": 3,
   "metadata": {},
   "outputs": [],
   "source": [
    "import time\n",
    "import numpy as np\n",
    "import cmath\n",
    "import pysqkit\n",
    "from typing import Callable\n",
    "import qutip as qtp\n",
    "from typing import List\n",
    "\n",
    "import pysqkit.util.transformations as trf\n",
    "from pysqkit.util.linalg import hilbert_schmidt, tensor_prod\n",
    "\n",
    "from IPython.display import display, Latex"
   ]
  },
  {
   "cell_type": "markdown",
   "metadata": {},
   "source": [
    "In this tutorial we show how to perform tomography on a QubitSystem object. For concreteness we consider a Transmon-Fluxonium system with capacitive coupling. Parameters are taken in order to implement a version of the gate presented in Ficheux et al, Phys. Rev. X 11, 021026 (2021) using the interaction between  $| 1_t 3_f \\rangle$ and $| 0_t 4_f \\rangle$."
   ]
  },
  {
   "cell_type": "markdown",
   "metadata": {},
   "source": [
    "We introduce the Qubit objects"
   ]
  },
  {
   "cell_type": "code",
   "execution_count": 4,
   "metadata": {},
   "outputs": [],
   "source": [
    "levels_f = 5\n",
    "levels_t = 3\n",
    "d_comp = 4\n",
    "d_leak = levels_t*levels_f - d_comp\n",
    "flx = pysqkit.qubits.Fluxonium(\n",
    "    label='F', \n",
    "    charge_energy=.973, \n",
    "    induct_energy=.457, \n",
    "    joseph_energy=8.0\n",
    ")\n",
    "\n",
    "trans = pysqkit.qubits.SimpleTransmon(\n",
    "    label='T', \n",
    "    max_freq=4.5, \n",
    "    anharm=-0.3, \n",
    "    dim_hilbert=levels_t\n",
    ")\n",
    "\n",
    "flx.diagonalize_basis(levels_f)\n",
    "energies_f, eig_states_f = flx.eig_states(levels_f)\n",
    "energies_t, eig_states_t = trans.eig_states(levels_t)  "
   ]
  },
  {
   "cell_type": "markdown",
   "metadata": {},
   "source": [
    "We add a microwave drive on the fluxonium"
   ]
  },
  {
   "cell_type": "code",
   "execution_count": 5,
   "metadata": {},
   "outputs": [],
   "source": [
    "#Drive\n",
    "flx.add_drive(\n",
    "    pysqkit.drives.microwave_drive,\n",
    "    label='cz_drive_f',\n",
    "    pulse_shape=pysqkit.drives.pulse_shapes.gaussian_top\n",
    ")"
   ]
  },
  {
   "cell_type": "markdown",
   "metadata": {},
   "source": [
    "We capacitively couple the transmon and the fluxonium"
   ]
  },
  {
   "cell_type": "code",
   "execution_count": 6,
   "metadata": {},
   "outputs": [],
   "source": [
    "jc = 0.07\n",
    "coupled_sys = trans.couple_to(flx, coupling=pysqkit.couplers.capacitive_coupling, strength=jc)\n",
    "energies_sys, eigstates_sys = coupled_sys.eig_states() \n",
    "\n",
    "coupled_sys_bare = trans.couple_to(flx, coupling=pysqkit.couplers.capacitive_coupling, strength=0)\n",
    "energies_bare, eigstates_bare = coupled_sys_bare.eig_states()\n",
    "    \n",
    "energies_in_lexico = np.zeros(levels_f*levels_t, dtype=float)\n",
    "count = 0\n",
    "for k in range(0, levels_t):\n",
    "    for m in range(0, levels_f):\n",
    "        energies_in_lexico[count] = energies_t[k] + energies_f[m]\n",
    "        count += 1\n",
    "ascending_to_lexico = np.argsort(energies_in_lexico)\n",
    "label_converter = ascending_to_lexico"
   ]
  },
  {
   "cell_type": "markdown",
   "metadata": {},
   "source": [
    "We conveniently label the states"
   ]
  },
  {
   "cell_type": "markdown",
   "metadata": {},
   "source": [
    "We now fix the drive parameters. These are taken to satisfy the conditions in order for the gate to work."
   ]
  },
  {
   "cell_type": "code",
   "execution_count": 9,
   "metadata": {},
   "outputs": [],
   "source": [
    "def label_to_states(\n",
    "    lev_labels: List[int],\n",
    "    dims: List[int],\n",
    "    eig_states: np.ndarray,\n",
    "    label_converter: np.ndarray \n",
    ") -> float:\n",
    "    \n",
    "    n_sys = len(lev_labels)\n",
    "    \n",
    "    if n_sys != len(dims):\n",
    "        raise ValueError(\"The number of levels must be equal to the number of systems\")\n",
    "    \n",
    "    if np.any(np.array(lev_labels) >= np.array(dims)) == True:\n",
    "        raise ValueError(\"Level labels must be smaller than the corresponding dimension\")\n",
    "    label = 0\n",
    "    factor = 1\n",
    "    for k in reversed(range(0, n_sys)):\n",
    "        label += factor*lev_labels[k]\n",
    "        factor = factor*dims[k]\n",
    "    index = np.where(label_converter == label)[0][0] #index such that converter[index] = label\n",
    "    return eig_states[index]\n",
    "\n",
    "eig_states_by_label_prova = []\n",
    "energies_by_label_prova = []\n",
    "for i_a in range(levels_t):\n",
    "    energies_by_label_prova.append([])\n",
    "    eig_states_by_label_prova.append([])\n",
    "    for i_b in range(levels_f):\n",
    "        eig_states_by_label_prova[i_a].append(qtp.Qobj(inpt=label_to_states([i_a, i_b], [levels_t, levels_f], eigstates_sys, label_converter), \n",
    "                                                 dims=[[levels_t, levels_f], [1, 1]], shape=[levels_t*levels_f, 1]))\n",
    "        energies_by_label_prova[i_a].append(label_to_states([i_a, i_b], [levels_t, levels_f], energies_sys, label_converter))"
   ]
  }
 ],
 "metadata": {
  "kernelspec": {
   "display_name": "Python 3.7.3 64-bit ('base': conda)",
   "language": "python",
   "name": "python37364bitbaseconda36d0b2465ec04527ba16a77ef6d99d0e"
  },
  "language_info": {
   "codemirror_mode": {
    "name": "ipython",
    "version": 3
   },
   "file_extension": ".py",
   "mimetype": "text/x-python",
   "name": "python",
   "nbconvert_exporter": "python",
   "pygments_lexer": "ipython3",
   "version": "3.7.9"
  }
 },
 "nbformat": 4,
 "nbformat_minor": 4
}
