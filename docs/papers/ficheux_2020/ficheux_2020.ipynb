{
 "cells": [
  {
   "cell_type": "markdown",
   "metadata": {},
   "source": [
    "**Ficheux et al, arXiv:2011.02634**\n",
    "\n",
    "In this notebook we want to capture the basic effect behind the two-qubit gate for fluxonia described in the paper by Ficheux et al(2020) \"Fast logic with slow qubits:microwave-activated controlled-Z gate on low-frequency fuxoniums\""
   ]
  },
  {
   "cell_type": "code",
   "execution_count": 2,
   "metadata": {},
   "outputs": [
    {
     "data": {
      "text/html": [
       "\n",
       "\n",
       "<style>\n",
       "    div#notebook-container    { width: 90%; }\n",
       "    div#menubar-container     { width: 65%; }\n",
       "    div#maintoolbar-container { width: 99%; }\n",
       "</style>\n"
      ],
      "text/plain": [
       "<IPython.core.display.HTML object>"
      ]
     },
     "metadata": {},
     "output_type": "display_data"
    },
    {
     "data": {
      "application/javascript": [
       "if (!(\"Notification\" in window)) {\n",
       "    alert(\"This browser does not support desktop notifications, so the %%notify magic will not work.\");\n",
       "} else if (Notification.permission !== 'granted' && Notification.permission !== 'denied') {\n",
       "    Notification.requestPermission(function (permission) {\n",
       "        if(!('permission' in Notification)) {\n",
       "            Notification.permission = permission;\n",
       "        }\n",
       "    })\n",
       "}\n"
      ],
      "text/plain": [
       "<IPython.core.display.Javascript object>"
      ]
     },
     "metadata": {},
     "output_type": "display_data"
    }
   ],
   "source": [
    "import numpy as np\n",
    "import sys\n",
    "import time\n",
    "import datetime\n",
    "import qutip as qtp \n",
    "import cmath\n",
    "import matplotlib.pyplot as plt\n",
    "from scipy import constants\n",
    "from scipy.optimize import minimize\n",
    "import pysqkit\n",
    "from pysqkit.util.linalg import get_mat_elem, tensor_prod\n",
    "from pysqkit.solvers import solvkit\n",
    "from typing import List\n",
    "import matplotlib\n",
    "matplotlib.rcParams['mathtext.fontset'] = 'cm'\n",
    "\n",
    "from mpl_toolkits.axes_grid1 import make_axes_locatable\n",
    "\n",
    "from itertools import product, combinations\n",
    "from IPython.display import display, Latex\n",
    "\n",
    "%matplotlib notebook\n",
    "plt.rcParams['figure.figsize'] = (8, 5)\n",
    "\n",
    "from IPython.display import display, HTML, Image\n",
    "\n",
    "display(HTML(data=\"\"\"\n",
    "\n",
    "<style>\n",
    "    div#notebook-container    { width: 90%; }\n",
    "    div#menubar-container     { width: 65%; }\n",
    "    div#maintoolbar-container { width: 99%; }\n",
    "</style>\n",
    "\"\"\"))\n",
    "\n",
    "%reload_ext jupyternotify\n",
    "\n",
    "#%notify"
   ]
  },
  {
   "cell_type": "markdown",
   "metadata": {},
   "source": [
    "The gate is based on the following driven Hamiltonian of two-capacitively coupled fluxonium qubits\n",
    "\n",
    "$$\\hat{H} = \\hat{H}^{(0)}_A + \\hat{H}^{(0)}_B + \\hat{V} + \\hat{H}_{drive}$$\n",
    "\n",
    "$$\\hat{H}^{(0)}_A = 4 E_{C,A} \\cdot \\hat{n}^2_A + \\frac{1}{2}E_{L,A}\\cdot\\hat{\\varphi}^2_A - E_{J,A}\\cos\\left(\\hat{\\varphi}_A - \\phi_{ext,A}\\right)$$\n",
    "\n",
    "$$\\hat{H}^{(0)}_B = 4 E_{C,B} \\cdot \\hat{n}^2_B + \\frac{1}{2}E_{L,B}\\cdot\\hat{\\varphi}^2_B - E_{J,B}\\cos\\left(\\hat{\\varphi}_B - \\phi_{ext,B}\\right)$$\n",
    "\n",
    "$$\\hat{V} = J_C \\cdot \\hat{n}_A \\cdot \\hat{n}_B$$\n",
    "\n",
    "$$\\frac{\\hat{H}_{drive}}{h} = \\left( \\epsilon_A \\hat{n}_A + \\epsilon_B \\hat{n}_B \\right) \\cos(2\\pi f_d t)$$"
   ]
  },
  {
   "cell_type": "markdown",
   "metadata": {},
   "source": [
    "Aim Energy spectrum :\n",
    "![](energy_levels.jpg)"
   ]
  },
  {
   "cell_type": "markdown",
   "metadata": {
    "heading_collapsed": true
   },
   "source": [
    "# Single fluxonia\n",
    "We take parameters as in Table 1 of the paper"
   ]
  },
  {
   "cell_type": "code",
   "execution_count": null,
   "metadata": {
    "hidden": true
   },
   "outputs": [],
   "source": [
    "# Values in GHz (divided by h)\n",
    "#Fluxonium A\n",
    "ec_a = .973\n",
    "el_a = .457\n",
    "ej_a = 5.899 \n",
    "flux_a = 1/2#pi in the cos\n",
    "\n",
    "# Fluxonium B \n",
    "ec_b = 1.027\n",
    "el_b = 0.684\n",
    "ej_b = 5.768\n",
    "flux_b = 1/2\n",
    "\n",
    "n_fock = 100"
   ]
  },
  {
   "cell_type": "markdown",
   "metadata": {
    "hidden": true
   },
   "source": [
    "Let us first reproduce the other parameters in Table 1"
   ]
  },
  {
   "cell_type": "code",
   "execution_count": null,
   "metadata": {
    "hidden": true
   },
   "outputs": [],
   "source": [
    "levels = 5\n",
    "flx_a = pysqkit.qubits.Fluxonium('A', ec_a, el_a, ej_a, flux_a, dim_hilbert=n_fock)\n",
    "flx_b = pysqkit.qubits.Fluxonium('B', ec_b, el_b, ej_b, flux_b, dim_hilbert=n_fock)\n",
    "flx_a.diagonalize_basis(levels)\n",
    "flx_b.diagonalize_basis(levels)"
   ]
  },
  {
   "cell_type": "code",
   "execution_count": null,
   "metadata": {
    "hidden": true
   },
   "outputs": [],
   "source": [
    "energies_a, eig_states_a = flx_a.eig_states(levels)\n",
    "energies_b, eig_states_b = flx_b.eig_states(levels)\n",
    "for k in range(0, 3):\n",
    "    print('------')\n",
    "    print('f_' + str(k) + str(k + 1) + '^A = ' + str(energies_a[k + 1] - energies_a[k]) + ' GHz' )\n",
    "    print('f_' + str(k) + str(k + 1) + '^B = ' + str(energies_b[k + 1] - energies_b[k]) + ' GHz' )\n",
    "print('------')"
   ]
  },
  {
   "cell_type": "code",
   "execution_count": null,
   "metadata": {
    "hidden": true
   },
   "outputs": [],
   "source": [
    "#plot les nvx d'énergie des a et b ide by side\n",
    "\n",
    "opt = {'lw': 2.0, 'fs': 20, 'fs_text': 14, 'ls': 14}\n",
    "text_lab = [\"$| \" + str(k) + \" \\\\rangle $\" for k in range(levels)]\n",
    "\n",
    "def plot_energies_single(energies, text_lab, opt, name, ax):\n",
    "    for k in range(0, levels):\n",
    "        ax.plot([0,1], [energies[k]]*2, color='blue')\n",
    "        ax.text(-0.1, energies[k], text_lab[k], fontsize=opt['fs_text'], color='blue')\n",
    "\n",
    "    ax.set_ylabel(\"$\\mathrm{Energies \\, [GHz]}$\", fontsize=opt['fs'])\n",
    "    ax.set_title(\"$\\mathrm{Energy \\ levels \\ of \\ single \\ qubit \\ }$\" + name)\n",
    "    ax.xaxis.set_visible(False)\n",
    "    ax.set_xlim(-.1, 1)\n",
    "    \n",
    "fig, ax = plt.subplots(1, 2, figsize=(12, 6))\n",
    "plot_energies_single(energies_a, text_lab, opt, \"flx_a\",  ax[0])\n",
    "plot_energies_single(energies_b, text_lab, opt, \"flx_b\",  ax[1])\n"
   ]
  },
  {
   "cell_type": "markdown",
   "metadata": {
    "hidden": true
   },
   "source": [
    "Thus, we correctly recover the frequencies Table 1 in the paper. Notice that the eigenenergies are also divided by $h$ and so are intended as frequencies and not as angular velocities;"
   ]
  },
  {
   "cell_type": "code",
   "execution_count": null,
   "metadata": {
    "hidden": true
   },
   "outputs": [],
   "source": [
    "for k in range(0, 2):\n",
    "    print('------')\n",
    "    print('|n_' + str(k) + str(k + 1) + '^A| = ' + \\\n",
    "          str(np.abs(get_mat_elem(flx_a.charge_op(), eig_states_a[k], eig_states_a[k + 1]))))\n",
    "    print('|n_' + str(k) + str(k + 1) + '^B| = ' + \\\n",
    "          str(np.abs(get_mat_elem(flx_b.charge_op(), eig_states_b[k], eig_states_b[k + 1]))))\n",
    "print('------')\n",
    "print('|n_' + str(0) + str(3) + '^A| = '  + \\\n",
    "      str(np.abs(get_mat_elem(flx_a.charge_op(), eig_states_a[0], eig_states_a[3]))))\n",
    "print('|n_' + str(0) + str(3) + '^B| = '  + \\\n",
    "      str(np.abs(get_mat_elem(flx_b.charge_op(), eig_states_b[0], eig_states_b[3]))))"
   ]
  },
  {
   "cell_type": "markdown",
   "metadata": {
    "hidden": true
   },
   "source": [
    "We see that $n^{\\alpha}_{0-1} \\ll n^{\\alpha}_{1-2}$ as predicted by Ficheux"
   ]
  },
  {
   "cell_type": "code",
   "execution_count": null,
   "metadata": {
    "hidden": true
   },
   "outputs": [],
   "source": [
    "def plot_charge_op(flx, name, ax, vmin, vmax):\n",
    "    lv = range(levels)\n",
    "    level_labels = [r'$\\left|{}\\right\\rangle$'.format(level) for level in lv]\n",
    "    mat_elements = flx.mat_elements(operator='charge_op', levels=lv, as_xarray=True)\n",
    "\n",
    "    \n",
    "    im = ax.imshow(np.abs(mat_elements), cmap='viridis', vmin = vmin, vmax = vmax)\n",
    "\n",
    "    for in_level, out_level in product(lv, repeat=2):\n",
    "        amplitude = abs(mat_elements.sel(in_level=in_level, out_level=out_level))\n",
    "        ax.text(in_level, out_level, '{:.2f}'.format(float(amplitude)), ha=\"center\", va=\"center\", color=\"white\")\n",
    "\n",
    "    ax.set_xticks(lv)\n",
    "    ax.set_yticks(lv)\n",
    "    ax.set_xticklabels(level_labels, fontsize = 14)\n",
    "    ax.set_yticklabels(level_labels, fontsize = 14)\n",
    "\n",
    "#     cbar = plt.colorbar()\n",
    "#     cbar.ax.set_ylabel(r\"Amplitude $\\hat{n}^{F}_{i \\rightarrow f}$\", rotation=-90, va=\"bottom\")\n",
    "\n",
    "    ax.set_title(name +  ' matrix elements')\n",
    "\n",
    "    return im\n",
    "\n",
    "vmin = min(np.min(np.abs(flx_a.mat_elements(operator='charge_op', levels=range(4)))),\n",
    "           np.min(np.abs(flx_b.mat_elements(operator='charge_op', levels=range(4)))))\n",
    "\n",
    "vmax = max(np.max(np.abs(flx_a.mat_elements(operator='charge_op', levels=range(4)))),\n",
    "           np.max(np.abs(flx_b.mat_elements(operator='charge_op', levels=range(4)))))\n",
    "\n",
    "fig, ax = plt.subplots(1, 2, figsize = (10, 5))\n",
    "ima = plot_charge_op(flx_a, \"Flx_A\", ax[0], vmin, vmax)\n",
    "imb = plot_charge_op(flx_b, \"Flx_B\", ax[1], vmin, vmax)\n",
    "\n",
    "fig.colorbar(ima, ax=ax.ravel().tolist(), orientation = 'horizontal')"
   ]
  },
  {
   "cell_type": "code",
   "execution_count": null,
   "metadata": {
    "hidden": true
   },
   "outputs": [],
   "source": [
    "energies_in_lexico = np.zeros(levels**2, dtype=float)\n",
    "count = 0\n",
    "for k in range(0, levels):\n",
    "    for m in range(0, levels):\n",
    "        energies_in_lexico[count] = energies_b[m] + energies_a[k]\n",
    "        count += 1\n",
    "ascending_to_lexico = np.argsort(energies_in_lexico)\n",
    "\n",
    "label_converter = ascending_to_lexico\n",
    "label_converter"
   ]
  },
  {
   "cell_type": "markdown",
   "metadata": {
    "hidden": true
   },
   "source": [
    "If $ \\textit{ascending_to_lexico}[i] = j$ Then  $$i^{th}\\mathrm{\\ in \\ ascending \\ energies \\ order \\ is \\ } j^{th} \\mathrm{\\ in \\ lexicographic \\ order}$$"
   ]
  },
  {
   "cell_type": "code",
   "execution_count": null,
   "metadata": {
    "hidden": true
   },
   "outputs": [],
   "source": [
    "# This function allows to return the energy of the \"adiabatically continued\" coupled levels\n",
    "def label_to_energies(\n",
    "    k: int, \n",
    "    m: int,\n",
    "    levels: int,\n",
    "    energies: np.ndarray,  #in ascending order\n",
    "    label_converter: np.ndarray \n",
    ") -> float:\n",
    "    label = k*levels + m\n",
    "    index = np.where(label_converter == label)[0][0] #index such that converter[index] = label\n",
    "    return energies[index]\n",
    "\n",
    "def label_to_states(\n",
    "    k: int, \n",
    "    m: int,\n",
    "    levels: int,\n",
    "    eig_states: np.ndarray,\n",
    "    label_converter: np.ndarray \n",
    ") -> float:\n",
    "    label = k*levels + m\n",
    "    index = np.where(label_converter == label)[0][0] #index such that converter[index] = label\n",
    "    return eig_states[index] "
   ]
  },
  {
   "cell_type": "code",
   "execution_count": null,
   "metadata": {
    "hidden": true
   },
   "outputs": [],
   "source": [
    "def energy_ascending_order_to_label(\n",
    "    k : int,\n",
    "    levels: int,\n",
    "    label_converter : np.ndarray):\n",
    "    \n",
    "    lexico_rank = label_converter[k]\n",
    "    i = lexico_rank//levels\n",
    "    j = lexico_rank%levels\n",
    "    \n",
    "    return i, j\n",
    "    "
   ]
  },
  {
   "cell_type": "markdown",
   "metadata": {
    "heading_collapsed": true
   },
   "source": [
    "# Coupled fluxonia"
   ]
  },
  {
   "cell_type": "markdown",
   "metadata": {
    "hidden": true
   },
   "source": [
    "As a preliminary study, I want to plot the energy levels of the coupled system as a function of the coupling strength $J_C$. I take coupling strengths similar to those taken in the paper (see Fig. 2)."
   ]
  },
  {
   "cell_type": "code",
   "execution_count": null,
   "metadata": {
    "hidden": true
   },
   "outputs": [],
   "source": [
    "levels_plot = 8\n",
    "labels_to_plot = [energy_ascending_order_to_label(k, levels, label_converter) for  k in range(levels_plot)]\n",
    "\n",
    "# interest_levels = [[0,0], [0,1], [1,0], [1,1], [0,3], [1,3], [0,4]]\n",
    "# labels_to_plot = interest_levels\n",
    "\n",
    "print(\"We'll plot the following levels :  \")\n",
    "if 'levels_plot' in locals():\n",
    "    print(\"(the \" + str(levels_plot)+\" first in term of energy)\")\n",
    "for tpl in labels_to_plot:\n",
    "    print(tpl)"
   ]
  },
  {
   "cell_type": "markdown",
   "metadata": {
    "heading_collapsed": true,
    "hidden": true
   },
   "source": [
    "## Role of J_c"
   ]
  },
  {
   "cell_type": "code",
   "execution_count": null,
   "metadata": {
    "hidden": true
   },
   "outputs": [],
   "source": [
    "n_points = 20\n",
    "\n",
    "jc_list = np.linspace(0, 0.4, n_points)\n",
    "en_mat = np.zeros([levels_plot, n_points], dtype=float)\n",
    "for k in range(0, n_points):\n",
    "    coupled_flx = flx_a.couple_to(flx_b, coupling=pysqkit.couplers.capacitive_coupling, strength=jc_list[k])\n",
    "    en_mat[:, k] = coupled_flx.eig_energies(levels_plot)"
   ]
  },
  {
   "cell_type": "code",
   "execution_count": null,
   "metadata": {
    "hidden": true
   },
   "outputs": [],
   "source": [
    "plot_setup = {'lw': 2.0, 'fs': 20, 'fs_text': 14, 'ls': 14}\n",
    "\n",
    "def plot_energies_jc(\n",
    "    en_mat: np.ndarray, \n",
    "    jc_list:np.ndarray, \n",
    "    opt:dict\n",
    ") -> None:\n",
    "    n_lev = en_mat.shape[0]\n",
    "    fig, ax = plt.subplots(figsize=(7, 7))\n",
    "    for k, m in labels_to_plot:\n",
    "        plt.plot(jc_list, [label_to_energies(k, m, levels, en_mat[:, ii], label_converter) for ii in range(len(jc_list))], \n",
    "             linewidth=opt['lw'], color='black')\n",
    "        plt.text(-0.08, label_to_energies(k, m, levels, en_mat[:, 0], label_converter), \n",
    "                 \"$| \"+ str(k) + str(m) + \" \\\\rangle $\", fontsize=opt['fs_text'], color='black')\n",
    "        \n",
    "    ax.axes.set_xlabel(\"$J_C \\, \\mathrm{[GHz]}$\", fontsize=opt['fs'])\n",
    "    ax.axes.set_ylabel(\"$\\mathrm{Energies \\, [GHz]}$\", fontsize=opt['fs'])\n",
    "\n",
    "    ax.tick_params(axis='both', labelsize=opt['ls'])\n",
    "    plt.show()\n",
    "    \n",
    "plot_energies_jc(en_mat, jc_list, plot_setup) "
   ]
  },
  {
   "cell_type": "markdown",
   "metadata": {
    "heading_collapsed": true,
    "hidden": true
   },
   "source": [
    "## Coupling"
   ]
  },
  {
   "cell_type": "code",
   "execution_count": null,
   "metadata": {
    "hidden": true
   },
   "outputs": [],
   "source": [
    "jc = 0.224 #GHz (divided by h)\n",
    "\n",
    "coupled_flx = flx_a.couple_to(flx_b, coupling=pysqkit.couplers.capacitive_coupling, strength=jc)\n",
    "energies_sys, eigstates_sys = coupled_flx.eig_states() \n",
    "\n",
    "coupled_flx_bare = flx_a.couple_to(flx_b, coupling=pysqkit.couplers.capacitive_coupling, strength=0)\n",
    "energies_bare, eigstates_bare = coupled_flx_bare.eig_states() \n",
    "\n",
    "\n",
    "for k in range(len(labels_to_plot)):\n",
    "    i, j = labels_to_plot[k]\n",
    "    print(str(k)+\"th energy level |\" + str((i, j)) + \n",
    "                  \"> :  Bare : \" + str(np.round(label_to_energies(i, j, levels, energies_bare, label_converter), 4)) + \n",
    "                  \"[GHz] || Interacting : \" + str(np.round(label_to_energies(i, j, levels, energies_sys, label_converter), 6)) + \"[GHz]\")"
   ]
  },
  {
   "cell_type": "code",
   "execution_count": null,
   "metadata": {
    "hidden": true,
    "scrolled": false
   },
   "outputs": [],
   "source": [
    "# def plot_charge_op(opé, name, xmax, ymax):\n",
    "#     lvx = range(xmax)\n",
    "#     lvy = range(ymax)\n",
    "#     level_labels = ['$ |' + str(  np.argmax(np.abs(level))//levels  ) + \\\n",
    "#                                 str(  np.argmax(np.abs(level)) %levels  ) + '\\\\rangle $' for level in eigstates_sys]\n",
    "#     mat_elements = np.zeros((xmax, ymax))\n",
    "    \n",
    "    \n",
    "#     plt.figure(figsize = (7, 7))\n",
    "#     for a in range(xmax):\n",
    "#         for b in range(ymax):\n",
    "#             in_level = np.conj(eigstates_sys[a].T)\n",
    "#             out_level = eigstates_sys[b]\n",
    "#             mat_elements[a, b] = np.abs(in_level.dot(opé).dot(out_level))\n",
    "# #             plt.text(a, b, '{:.2f}'.format(float(mat_elements[a, b])), ha=\"center\", va=\"center\", color=\"white\")\n",
    "\n",
    "\n",
    "#     plt.imshow(np.abs(mat_elements), cmap='viridis')            \n",
    "\n",
    "#     plt.xticks(ticks = lvx, labels = level_labels[:xmax], fontsize = 14)\n",
    "#     plt.yticks(ticks = lvy, labels = level_labels[:ymax], fontsize = 14)\n",
    "\n",
    "#     plt.title(name +  ' matrix elements')\n",
    "#     plt.colorbar()\n",
    "    \n",
    "#     return mat_elements\n",
    "\n",
    "# n_a = tensor_prod([flx_a.charge_op(), np.identity(levels)])\n",
    "# n_b = tensor_prod([np.identity(levels), flx_b.charge_op()])\n",
    "# ope = n_a*n_b\n",
    "\n",
    "# _ = plot_charge_op(ope, \"$\\hat{n}_A \\hat{n}_B$\",4, 4)"
   ]
  },
  {
   "cell_type": "markdown",
   "metadata": {
    "heading_collapsed": true,
    "hidden": true
   },
   "source": [
    "## Energies and eigenvalues of H"
   ]
  },
  {
   "cell_type": "code",
   "execution_count": null,
   "metadata": {
    "hidden": true,
    "scrolled": false
   },
   "outputs": [],
   "source": [
    "#Compare levels bare-int\n",
    "\n",
    "opt = {'lw': 2.0, 'fs': 20, 'fs_text': 14, 'ls': 14}\n",
    "\n",
    "plt.figure(figsize=(7, 7))\n",
    "for k,m in labels_to_plot:\n",
    "    plt.plot([0,.99], [label_to_energies(k, m, levels, energies_bare, label_converter)]*2, \n",
    "             color='blue', linestyle = ':', label = \"bare\")\n",
    "    plt.text(-0.08, label_to_energies(k, m, levels, energies_bare, label_converter), \n",
    "             \"$| \"+ str(k) + str(m) + \" \\\\rangle $\", fontsize=opt['fs_text'], color='blue')\n",
    "\n",
    "    plt.plot([1.01, 2], [label_to_energies(k, m, levels, energies_bare, label_converter)]*2, \n",
    "             color='black', label = \"coupled\")\n",
    "    plt.text(+2.03,label_to_energies(k, m, levels, energies_bare, label_converter),\n",
    "             \"$| \"+ str(k) + str(m) + \" \\\\rangle $\", fontsize=opt['fs_text'], color='black')\n",
    "    \n",
    "    if (k, m)==(0, 0):\n",
    "        plt.legend()\n",
    "    \n",
    "plt.ylabel(\"$\\mathrm{Energies \\, [GHz]}$\", fontsize=opt['fs'])\n",
    "plt.tick_params(axis='both', labelsize=opt['ls'])\n",
    "\n",
    "frame1 = plt.gca()\n",
    "frame1.axes.xaxis.set_visible(False)\n",
    "\n"
   ]
  },
  {
   "cell_type": "markdown",
   "metadata": {
    "heading_collapsed": true
   },
   "source": [
    "# Drive"
   ]
  },
  {
   "cell_type": "code",
   "execution_count": null,
   "metadata": {
    "hidden": true
   },
   "outputs": [],
   "source": [
    "eig_states_by_label = []\n",
    "\n",
    "for i_a in range(levels):\n",
    "    eig_states_by_label.append([])\n",
    "    for i_b in range(levels):\n",
    "        eig_states_by_label[i_a].append(qtp.Qobj(inpt=  label_to_states(i_a, i_b, levels, eigstates_sys, label_converter), \n",
    "                   dims=[[levels, levels], [1, 1]], shape=[levels*levels, 1]))"
   ]
  },
  {
   "cell_type": "code",
   "execution_count": null,
   "metadata": {
    "hidden": true
   },
   "outputs": [],
   "source": [
    "# state00 = qtp.Qobj(inpt=  label_to_states(0, 0, levels, eigstates_sys, label_converter), \n",
    "#                    dims=[[levels, levels], [1, 1]], shape=[levels**2, 1])\n",
    "# state01 = qtp.Qobj(inpt=  label_to_states(0, 1, levels, eigstates_sys, label_converter), \n",
    "#                    dims=[[levels, levels], [1, 1]], shape=[levels**2, 1])\n",
    "# state10 = qtp.Qobj(inpt=  label_to_states(1, 0, levels, eigstates_sys, label_converter), \n",
    "#                    dims=[[levels, levels], [1, 1]], shape=[levels**2, 1])\n",
    "# state11 = qtp.Qobj(inpt=  label_to_states(1, 1, levels, eigstates_sys, label_converter), \n",
    "#                    dims=[[levels, levels], [1, 1]], shape=[levels**2, 1])\n",
    "\n",
    "# state02 = qtp.Qobj(inpt=  label_to_states(0, 2, levels, eigstates_sys, label_converter), \n",
    "#                    dims=[[levels, levels], [1, 1]], shape=[levels**2, 1])\n",
    "# state12 = qtp.Qobj(inpt=  label_to_states(1, 2, levels, eigstates_sys, label_converter), \n",
    "#                    dims=[[levels, levels], [1, 1]], shape=[levels**2, 1])\n",
    "# state20 = qtp.Qobj(inpt=  label_to_states(2, 0, levels, eigstates_sys, label_converter), \n",
    "#                    dims=[[levels, levels], [1, 1]], shape=[levels**2, 1])\n",
    "# state21 = qtp.Qobj(inpt=  label_to_states(2, 1, levels, eigstates_sys, label_converter), \n",
    "#                    dims=[[levels, levels], [1, 1]], shape=[levels**2, 1])"
   ]
  },
  {
   "cell_type": "code",
   "execution_count": null,
   "metadata": {
    "hidden": true
   },
   "outputs": [],
   "source": [
    "n_a = qtp.tensor(flx_a.charge_op(as_qobj = True), qtp.qeye(flx_b.charge_op(as_qobj = True).dims[0]))\n",
    "n_b = qtp.tensor(qtp.qeye(flx_a.charge_op(as_qobj = True).dims[0]), flx_b.charge_op(as_qobj = True))\n",
    "n_charge = [n_a, n_b]"
   ]
  },
  {
   "cell_type": "code",
   "execution_count": null,
   "metadata": {
    "hidden": true
   },
   "outputs": [],
   "source": [
    "big_delta = ( label_to_energies(2, 1, levels, energies_sys, label_converter)   - \\\n",
    "              label_to_energies(1, 1, levels, energies_sys, label_converter) ) - \\\n",
    "            ( label_to_energies(2, 0, levels, energies_sys, label_converter)   - \\\n",
    "              label_to_energies(1, 0, levels, energies_sys, label_converter) )\n",
    "\n",
    "print(\"Big Delta is :\", big_delta*1000, \"MHz\")"
   ]
  },
  {
   "cell_type": "markdown",
   "metadata": {
    "hidden": true
   },
   "source": [
    "According to the paper we have :\n",
    "\n",
    "$$\\Omega_{11-21}  = \\left| \\epsilon_A \\langle 11 | \\hat{n}_A | 21 \\rangle + \\epsilon_B \\langle 11 | \\hat{n}_B | 21 \\rangle \\right|$$\n",
    "$$\\Omega_{10-20}  = \\left| \\epsilon_A \\langle 10 | \\hat{n}_A | 20 \\rangle + \\epsilon_B \\langle 10 | \\hat{n}_B | 20 \\rangle \\right|$$\n",
    "\n",
    "And then :\n",
    "$$r = \\dfrac{\\Omega_{11-21}}{\\Omega_{10-20}} \\text{  and  } \\dfrac{\\delta}{\\Delta} = \\dfrac{r^2 - \\sqrt{(r^2-1)^2 + r^2 }} {r^2 - 1}$$ \n",
    "\n",
    "With these conventions taken in the paper :\n",
    "$$\\Delta = f_{11-21} - f_{10-20}$$\n",
    "$$\\delta = f_{11-21} - f_d$$\n",
    "\n",
    "With this $\\delta$, we have $\\Omega = \\Delta$ and a CZ gate is achieved with zero leakage in time exactly $t_{drive} = 1/\\Delta$"
   ]
  },
  {
   "cell_type": "markdown",
   "metadata": {
    "hidden": true
   },
   "source": [
    "We choose as in the paper to have : $\\dfrac{\\varepsilon_A}{\\varepsilon_B} = .9$"
   ]
  },
  {
   "cell_type": "code",
   "execution_count": null,
   "metadata": {
    "hidden": true
   },
   "outputs": [],
   "source": [
    "ratio_e = .9"
   ]
  },
  {
   "cell_type": "markdown",
   "metadata": {
    "heading_collapsed": true,
    "hidden": true
   },
   "source": [
    "## Eta_B"
   ]
  },
  {
   "cell_type": "code",
   "execution_count": null,
   "metadata": {
    "hidden": true
   },
   "outputs": [],
   "source": [
    "eta_over_eta = ratio_e\n",
    "\n",
    "def Omega1(eta_b):\n",
    "    eta_a = eta_b * eta_over_eta\n",
    "    eta = [eta_a, eta_b]\n",
    "    \n",
    "    rabi_10_20 = np.abs(eta[0] * (eig_states_by_label[1][0].dag() * n_charge[0] * eig_states_by_label[2][0]).full()[0, 0] + \\\n",
    "                              eta[1] * (eig_states_by_label[1][0].dag() * n_charge[1] * eig_states_by_label[2][0]).full()[0, 0] )\n",
    "    rabi_11_21 = np.abs(eta[0] * (eig_states_by_label[1][1].dag() * n_charge[0] * eig_states_by_label[2][1]).full()[0, 0] + \\\n",
    "                              eta[1] * (eig_states_by_label[1][1].dag() * n_charge[1] * eig_states_by_label[2][1]).full()[0, 0] )\n",
    "\n",
    "    rabi_ratio = rabi_11_21/rabi_10_20\n",
    "    ratio_delta = (rabi_ratio**2 - np.sqrt((rabi_ratio**2 - 1)**2 + rabi_ratio**2)) / (rabi_ratio**2 - 1)\n",
    "    \n",
    "    big_delta = ( label_to_energies(2, 1, levels, energies_sys, label_converter)   - \\\n",
    "                  label_to_energies(1, 1, levels, energies_sys, label_converter) ) - \\\n",
    "                ( label_to_energies(2, 0, levels, energies_sys, label_converter)   - \\\n",
    "                  label_to_energies(1, 0, levels, energies_sys, label_converter) )\n",
    "    small_delta = big_delta * ratio_delta\n",
    "    \n",
    "    return np.sqrt(rabi_11_21**2 + small_delta**2)\n",
    "\n",
    "def Omega2(eta_b):\n",
    "    eta_a = eta_b * eta_over_eta\n",
    "    eta = [eta_a, eta_b]\n",
    "        \n",
    "    rabi_10_20 = np.abs(eta[0] * (eig_states_by_label[1][0].dag() * n_charge[0] * eig_states_by_label[2][0]).full()[0, 0] + \\\n",
    "                              eta[1] * (eig_states_by_label[1][0].dag() * n_charge[1] * eig_states_by_label[2][0]).full()[0, 0] )\n",
    "    rabi_11_21 = np.abs(eta[0] * (eig_states_by_label[1][1].dag() * n_charge[0] * eig_states_by_label[2][1]).full()[0, 0] + \\\n",
    "                              eta[1] * (eig_states_by_label[1][1].dag() * n_charge[1] * eig_states_by_label[2][1]).full()[0, 0] )\n",
    "\n",
    "    rabi_ratio = rabi_11_21/rabi_10_20\n",
    "    ratio_delta = (rabi_ratio**2 - np.sqrt((rabi_ratio**2 - 1)**2 + rabi_ratio**2)) / (rabi_ratio**2 - 1)\n",
    "    \n",
    "    big_delta = ( label_to_energies(2, 1, levels, energies_sys, label_converter)   - \\\n",
    "                  label_to_energies(1, 1, levels, energies_sys, label_converter) ) - \\\n",
    "                ( label_to_energies(2, 0, levels, energies_sys, label_converter)   - \\\n",
    "                  label_to_energies(1, 0, levels, energies_sys, label_converter) )\n",
    "    small_delta = big_delta * ratio_delta\n",
    "    \n",
    "    return np.sqrt(rabi_10_20**2 + (small_delta - big_delta)**2)"
   ]
  },
  {
   "cell_type": "code",
   "execution_count": null,
   "metadata": {
    "hidden": true
   },
   "outputs": [],
   "source": [
    "rg_e_b = np.linspace(0, 1, 1000)\n",
    "\n",
    "plt.figure()\n",
    "plt.plot(rg_e_b, Omega1(rg_e_b), color = 'blue', label = 'O1')\n",
    "plt.plot(rg_e_b, Omega2(rg_e_b), color = 'red', label = 'O2')\n",
    "plt.plot(rg_e_b, [big_delta]*len(rg_e_b), color = 'orange', label = 'big Delta')\n",
    "\n",
    "plt.legend()"
   ]
  },
  {
   "cell_type": "code",
   "execution_count": null,
   "metadata": {
    "hidden": true
   },
   "outputs": [],
   "source": [
    "e_b = 0.03634"
   ]
  },
  {
   "cell_type": "markdown",
   "metadata": {
    "heading_collapsed": true,
    "hidden": true
   },
   "source": [
    "## Rest of parameters"
   ]
  },
  {
   "cell_type": "code",
   "execution_count": null,
   "metadata": {
    "hidden": true
   },
   "outputs": [],
   "source": [
    "e_b = 0.03634\n",
    "\n",
    "e_a = ratio_e * e_b\n",
    "eta = [e_a, e_b]\n"
   ]
  },
  {
   "cell_type": "code",
   "execution_count": null,
   "metadata": {
    "hidden": true
   },
   "outputs": [],
   "source": [
    "#we calculate rabi freq amplitudes :\n",
    "\n",
    "rabi_10_20 = np.abs(eta[0] * (eig_states_by_label[1][0].dag() * n_charge[0] * eig_states_by_label[2][0]).full()[0, 0] + \\\n",
    "                          eta[1] * (eig_states_by_label[1][0].dag() * n_charge[1] * eig_states_by_label[2][0]).full()[0, 0] )\n",
    "\n",
    "rabi_11_21 = np.abs(eta[0] * (eig_states_by_label[1][1].dag() * n_charge[0] * eig_states_by_label[2][1]).full()[0, 0] + \\\n",
    "                          eta[1] * (eig_states_by_label[1][1].dag() * n_charge[1] * eig_states_by_label[2][1]).full()[0, 0] )\n",
    "\n",
    "rabi_ratio = rabi_11_21/rabi_10_20\n",
    "print(\"r =\", rabi_ratio)\n",
    "\n",
    "ratio_delta = (rabi_ratio**2 - np.sqrt((rabi_ratio**2 - 1)**2 + rabi_ratio**2)) / (rabi_ratio**2 - 1)\n",
    "print(\"\\ndelta/Delta =\", ratio_delta)"
   ]
  },
  {
   "cell_type": "code",
   "execution_count": null,
   "metadata": {
    "hidden": true
   },
   "outputs": [],
   "source": [
    "small_delta = big_delta * ratio_delta\n",
    "\n",
    "freq_drive = ( label_to_energies(2, 1, levels, energies_sys, label_converter)   - \\\n",
    "               label_to_energies(1, 1, levels, energies_sys, label_converter) )  - small_delta\n",
    "t_drive = 1/big_delta\n",
    "\n",
    "print(\"Big Delta = \", big_delta)\n",
    "print(\"small delta = \", small_delta)\n",
    "\n",
    "print('\\nDrive frequency fd: ' + str(freq_drive) + ' [GHz]')"
   ]
  },
  {
   "cell_type": "code",
   "execution_count": null,
   "metadata": {
    "hidden": true
   },
   "outputs": [],
   "source": [
    "rabi_freq = big_delta\n",
    "\n",
    "rabi_period = 1/rabi_freq # [ns]\n",
    "print('Rabi period: ' + str(rabi_period) + ' [ns]')"
   ]
  },
  {
   "cell_type": "markdown",
   "metadata": {
    "heading_collapsed": true
   },
   "source": [
    "#  Simulations"
   ]
  },
  {
   "cell_type": "markdown",
   "metadata": {
    "heading_collapsed": true,
    "hidden": true
   },
   "source": [
    "## Simu"
   ]
  },
  {
   "cell_type": "markdown",
   "metadata": {
    "hidden": true
   },
   "source": [
    "We now want to perform simulations. The first task is to reproduce the two-photon Rabi oscillations and show that they reproduce correctly the Rabi period."
   ]
  },
  {
   "cell_type": "code",
   "execution_count": null,
   "metadata": {
    "hidden": true
   },
   "outputs": [],
   "source": [
    "#simulation setup (noiseless)\n",
    "pts_per_drive_period = 15\n",
    "simu_time = rabi_period\n",
    "\n",
    "nb_points = int( simu_time * freq_drive * pts_per_drive_period  )\n",
    "tlist = np.linspace(0, simu_time, nb_points)*2*np.pi\n",
    "\n",
    "state_in = eig_states_by_label[1][1] #+ eig_states_by_label[0][1] + eig_states_by_label[1][0] + eig_states_by_label[1][1]\n",
    "rho_in = state_in*state_in.dag()\n",
    "\n",
    "hamil0 = coupled_flx.hamiltonian(as_qobj=True)\n",
    "hamil_drive = eta[0]*n_charge[0] + eta[1]*n_charge[1] \n",
    "\n",
    "pulse_drive = np.cos(freq_drive*tlist)"
   ]
  },
  {
   "cell_type": "code",
   "execution_count": null,
   "metadata": {
    "hidden": true
   },
   "outputs": [],
   "source": [
    "# Simulation run\n",
    "result = solvkit.integrate(tlist, state_in, hamil0, [hamil_drive], [pulse_drive], [], \"mesolve\")"
   ]
  },
  {
   "cell_type": "code",
   "execution_count": null,
   "metadata": {
    "hidden": true
   },
   "outputs": [],
   "source": [
    "#for the following analysis , we'll look at the following states:\n",
    "\n",
    "# levels_plot = 35\n",
    "# interest_levels = [energy_ascending_order_to_label(ii, levels_f, label_converter) for ii in range(levels_plot)]\n",
    "\n",
    "interest_levels = [[0,0], [0,1], [1,0], [1,1], [0,2], [1,2], [2,0], [2,1]]\n",
    "\n",
    "labels = [\"$| \"+ str(k) + str(m) + \" \\\\rangle $\" for k,m in interest_levels]\n",
    "\n",
    "fig_size_each = (3,3)\n",
    "figsize = (fig_size_each[0]*4), (fig_size_each[1]*int(np.ceil(len(labels)/4)))"
   ]
  },
  {
   "cell_type": "markdown",
   "metadata": {
    "heading_collapsed": true,
    "hidden": true
   },
   "source": [
    "## Probs"
   ]
  },
  {
   "cell_type": "code",
   "execution_count": null,
   "metadata": {
    "hidden": true
   },
   "outputs": [],
   "source": [
    "#the rhos\n",
    "rhos_by_label = []\n",
    "for i in range(len(eig_states_by_label)):\n",
    "    rhos_by_label.append([])\n",
    "    for j in range(len(eig_states_by_label[0])):\n",
    "        rhos_by_label[i].append(eig_states_by_label[i][j] * eig_states_by_label[i][j].dag())                       \n",
    "\n",
    "#probas :\n",
    "probs = np.zeros([len(labels), nb_points], dtype=float)\n",
    "for k in range(0, nb_points):\n",
    "    for r in range(len(labels)):\n",
    "        i, j = interest_levels[r]\n",
    "        probs[r, k] = qtp.expect(rhos_by_label[i][j], result.states[k]) \n",
    "# #and the rhos\n",
    "# rho_00 = state00*state00.dag()\n",
    "# rho_01 = state01*state01.dag()\n",
    "# rho_10 = state10*state10.dag()\n",
    "# rho_11 = state11*state11.dag()\n",
    "\n",
    "# rho_02 = state02*state02.dag()\n",
    "# rho_12 = state12*state12.dag()\n",
    "# rho_20 = state20*state20.dag()\n",
    "# rho_21 = state21*state21.dag()\n",
    "\n",
    "# probs = np.zeros([8, t_points], dtype=float)\n",
    "# for k in range(0, t_points):\n",
    "#     probs[0, k] = qtp.expect(rho_00, result.states[k]) \n",
    "#     probs[1, k] = qtp.expect(rho_01, result.states[k]) \n",
    "#     probs[2, k] = qtp.expect(rho_10, result.states[k]) \n",
    "#     probs[3, k] = qtp.expect(rho_11, result.states[k]) \n",
    "#     probs[4, k] = qtp.expect(rho_02, result.states[k])\n",
    "#     probs[5, k] = qtp.expect(rho_12, result.states[k])\n",
    "#     probs[6, k] = qtp.expect(rho_20, result.states[k])\n",
    "#     probs[7, k] = qtp.expect(rho_21, result.states[k])"
   ]
  },
  {
   "cell_type": "code",
   "execution_count": null,
   "metadata": {
    "hidden": true,
    "scrolled": false
   },
   "outputs": [],
   "source": [
    "def plot_probas(\n",
    "    tlist: np.ndarray, \n",
    "    probs: np.ndarray\n",
    ") -> None:\n",
    "    fig, ax = plt.subplots(int(np.ceil(len(labels)/4)), 4, figsize = figsize)\n",
    "    for k in range(0, len(labels)):\n",
    "        ax[k//4, k%4].plot(tlist/(2*np.pi), probs[k, :])\n",
    "\n",
    "        ax[k//4, k%4].set_ylim(0, 1.0)\n",
    "        ax[k//4, k%4].set_title(labels[k])\n",
    "\n",
    "        if k%4 != 0:\n",
    "            ax[k//4, k%4].axes.yaxis.set_ticklabels([])\n",
    "\n",
    "    fig = plt.gcf()\n",
    "    fig.suptitle('$\\mathrm{Probas \\ of \\ system \\ being \\ in  \\ \\\n",
    "                 each \\ eigenstate \\ as \\ function \\ of \\ time \\ [ns]}$ \\n  \\\n",
    "                 $( t_{drive} \\mathrm{ \\ in \\ orange})$', fontsize=12)\n",
    "    return \n",
    "\n",
    "plot_probas(tlist, probs)\n",
    "    "
   ]
  },
  {
   "cell_type": "markdown",
   "metadata": {
    "heading_collapsed": true,
    "hidden": true
   },
   "source": [
    "## Phases"
   ]
  },
  {
   "cell_type": "code",
   "execution_count": null,
   "metadata": {
    "hidden": true
   },
   "outputs": [],
   "source": [
    "#We get the phase of the 'projections' that once squared will give the probabilities\n",
    "# phases = np.zeros([8, t_points], dtype=float)\n",
    "# for k in range(0, t_points):\n",
    "#     phases[0, k] = cmath.phase((result.states[k].dag() * state00).full()[0,0])\n",
    "#     phases[1, k] = cmath.phase((result.states[k].dag() * state01).full()[0,0])\n",
    "#     phases[2, k] = cmath.phase((result.states[k].dag() * state10).full()[0,0])\n",
    "#     phases[3, k] = cmath.phase((result.states[k].dag() * state11).full()[0,0])\n",
    "#     phases[4, k] = cmath.phase((result.states[k].dag() * state02).full()[0,0])\n",
    "#     phases[5, k] = cmath.phase((result.states[k].dag() * state12).full()[0,0])\n",
    "#     phases[6, k] = cmath.phase((result.states[k].dag() * state20).full()[0,0])\n",
    "#     phases[7, k] = cmath.phase((result.states[k].dag() * state21).full()[0,0])                         \n",
    "                               \n",
    "# for i in range(8):\n",
    "#     phases[i,:] -= phases[0,:]\n",
    "\n",
    "#phases :\n",
    "phases = np.zeros([len(labels), nb_points], dtype=float)\n",
    "for k in range(0, nb_points):\n",
    "     for r in range(len(labels)):\n",
    "        i, j = interest_levels[r]\n",
    "        phases[r, k] = (cmath.phase((result.states[k].dag() * eig_states_by_label[i][j]).full()[0,0]) - \\\n",
    "                    ((label_to_energies(i, j, levels, energies_sys, label_converter)*tlist[k])%(2*np.pi) - np.pi))\n",
    "        \n",
    "phases = phases%(np.pi*2) - np.pi\n",
    "                               "
   ]
  },
  {
   "cell_type": "code",
   "execution_count": null,
   "metadata": {
    "hidden": true
   },
   "outputs": [],
   "source": [
    "def plot_phases(\n",
    "    tlist: np.ndarray, \n",
    "    probs: np.ndarray\n",
    ") -> None:\n",
    "    fig, ax = plt.subplots(int(np.ceil(len(labels)/4)), 4, figsize = figsize)\n",
    "    for k in range(0, len(labels)):\n",
    "        ax[k//4, k%4].plot(tlist/(2*np.pi), phases[k, :]/np.pi)\n",
    "        ax[k//4, k%4].set_title(\"$\\mathrm{arg}( \\langle \\Psi (t) $\" + labels[k] +\"$)/\\pi$\")\n",
    "        ax[k//4, k%4].set_ylim([-1, 1])\n",
    "        \n",
    "plot_phases(tlist, phases)    "
   ]
  },
  {
   "cell_type": "markdown",
   "metadata": {
    "heading_collapsed": true,
    "hidden": true
   },
   "source": [
    "## Projections"
   ]
  },
  {
   "cell_type": "code",
   "execution_count": null,
   "metadata": {
    "hidden": true
   },
   "outputs": [],
   "source": [
    "#projections\n",
    "proj = np.zeros([len(labels), nb_points], dtype=float)*1j\n",
    "for k in range(0, nb_points):\n",
    "     for r in range(len(labels)):\n",
    "        i, j = interest_levels[r]\n",
    "        proj[r, k] = (result.states[k].dag() * eig_states_by_label[i][j]).full()[0,0] \\\n",
    "            / np.exp(1j*((label_to_energies(i, j, levels, energies_sys, label_converter)*tlist[k])%(2*np.pi) - np.pi))"
   ]
  },
  {
   "cell_type": "code",
   "execution_count": null,
   "metadata": {
    "hidden": true
   },
   "outputs": [],
   "source": [
    "#only projections \n",
    "\n",
    "def plot_proj(\n",
    "    tlist: np.ndarray, \n",
    "    probs: np.ndarray, \n",
    "    plot_type = None\n",
    ") -> None:\n",
    "\n",
    "    fig, ax = plt.subplots(int(np.ceil(len(labels)/4)), 4, figsize = figsize)\n",
    "    for k in range(0, len(labels)):\n",
    "        if (plot_type is None) or plot_type == \"all\":\n",
    "            ax[k//4, k%4].plot(tlist/(2*np.pi), proj[k, :].real, label = 'real')\n",
    "            ax[k//4, k%4].plot(tlist/(2*np.pi), proj[k, :].imag, label = 'imag')\n",
    "            ax[k//4, k%4].plot(tlist/(2*np.pi), np.abs(proj[k,:]), label = 'abs', linewidth = 1 , linestyle =  \":\")\n",
    "\n",
    "        elif plot_type == \"real\":\n",
    "            ax[k//4, k%4].plot(tlist/(2*np.pi), proj[k, :].real, label = 'real')\n",
    "            \n",
    "        elif plot_type == \"imag\":\n",
    "            ax[k//4, k%4].plot(tlist/(2*np.pi), proj[k, :].imag, label = 'imag')\n",
    "\n",
    "        elif plot_type == \"abs\":\n",
    "            ax[k//4, k%4].plot(tlist/(2*np.pi), np.abs(proj[k,:]), label = 'abs', linewidth = 1 , linestyle =  \":\")\n",
    "\n",
    "        elif plot_type == \"real&imag\":\n",
    "            ax[k//4, k%4].plot(tlist/(2*np.pi), proj[k, :].real, label = 'real')\n",
    "            ax[k//4, k%4].plot(tlist/(2*np.pi), proj[k, :].imag, label = 'imag')\n",
    "            \n",
    "        else:\n",
    "            print(\"Value of plot_type should be 'None' ; 'real' ; 'imag' ; 'abs' ; 'real&imag' OR 'all'\")\n",
    "            \n",
    "        ax[k//4, k%4].set_title(\"$ \\langle \\Psi (t) $\" + labels[k])\n",
    "\n",
    "        ax[k//4, k%4].set_ylim([-1,1])\n",
    "        ax[k//4, k%4].legend()\n",
    "\n",
    "        if k%4 != 0:\n",
    "                ax[k//4, k%4].axes.yaxis.set_ticklabels([])\n",
    "\n",
    "plot_proj(tlist, proj, plot_type = 'all')"
   ]
  },
  {
   "cell_type": "markdown",
   "metadata": {
    "heading_collapsed": true
   },
   "source": [
    "# Automatised test"
   ]
  },
  {
   "cell_type": "markdown",
   "metadata": {
    "heading_collapsed": true,
    "hidden": true
   },
   "source": [
    "## Init qubits"
   ]
  },
  {
   "cell_type": "code",
   "execution_count": null,
   "metadata": {
    "hidden": true
   },
   "outputs": [],
   "source": [
    "n_fock = 100\n",
    "levels = 5\n",
    "\n",
    "# Values in GHz (divided by h)\n",
    "#Fluxonium A\n",
    "ec_a = .973\n",
    "el_a = .457\n",
    "ej_a = 5.899 \n",
    "flux_a = 1/2#pi in the cos\n",
    "\n",
    "flx_a = pysqkit.qubits.Fluxonium('A', ec_a, el_a, ej_a, flux_a, dim_hilbert=n_fock)\n",
    "flx_a.diagonalize_basis(levels)\n",
    "energies_a, eig_states_a = flx_a.eig_states(levels)\n",
    "\n",
    "# Fluxonium B \n",
    "ec_b = 1.027\n",
    "el_b = 0.684\n",
    "ej_b = 5.768\n",
    "flux_b = 1/2\n",
    "\n",
    "flx_b = pysqkit.qubits.Fluxonium('B', ec_b, el_b, ej_b, flux_b, dim_hilbert=n_fock)\n",
    "flx_b.diagonalize_basis(levels)\n",
    "energies_b, eig_states_b = flx_b.eig_states(levels)"
   ]
  },
  {
   "cell_type": "code",
   "execution_count": null,
   "metadata": {
    "hidden": true
   },
   "outputs": [],
   "source": [
    "opt = {'lw': 2.0, 'fs': 20, 'fs_text': 14, 'ls': 14}\n",
    "text_lab = [\"$| \" + str(k) + \" \\\\rangle $\" for k in range(levels)]\n",
    "\n",
    "def plot_energies_single(energies, text_lab, opt, name, ax):\n",
    "    for k in range(0, levels):\n",
    "        ax.plot([0,1], [energies[k]]*2, color='blue')\n",
    "        ax.text(-0.1, energies[k], text_lab[k], fontsize=opt['fs_text'], color='blue')\n",
    "\n",
    "    ax.set_ylabel(\"$\\mathrm{Energies \\, [GHz]}$\", fontsize=opt['fs'])\n",
    "    ax.set_title(\"$\\mathrm{Energy \\ levels \\ of \\ single \\ qubit \\ }$\" + name)\n",
    "    ax.xaxis.set_visible(False)\n",
    "    ax.set_xlim(-.1, 1)\n",
    "    \n",
    "fig, ax = plt.subplots(1, 2, figsize=(12, 6))\n",
    "plot_energies_single(energies_a, text_lab, opt, \"flx_a\",  ax[0])\n",
    "plot_energies_single(energies_b, text_lab, opt, \"flx_b\",  ax[1])\n"
   ]
  },
  {
   "cell_type": "code",
   "execution_count": null,
   "metadata": {
    "hidden": true
   },
   "outputs": [],
   "source": [
    "def plot_charge_op(flx, name, ax, vmin, vmax):\n",
    "    lv = range(levels)\n",
    "    level_labels = [r'$\\left|{}\\right\\rangle$'.format(level) for level in lv]\n",
    "    mat_elements = flx.mat_elements(operator='charge_op', levels=lv, as_xarray=True)\n",
    "\n",
    "    \n",
    "    im = ax.imshow(np.abs(mat_elements), cmap='viridis', vmin = vmin, vmax = vmax)\n",
    "\n",
    "    for in_level, out_level in product(lv, repeat=2):\n",
    "        amplitude = abs(mat_elements.sel(in_level=in_level, out_level=out_level))\n",
    "        ax.text(in_level, out_level, '{:.2f}'.format(float(amplitude)), ha=\"center\", va=\"center\", color=\"white\")\n",
    "\n",
    "    ax.set_xticks(lv)\n",
    "    ax.set_yticks(lv)\n",
    "    ax.set_xticklabels(level_labels, fontsize = 14)\n",
    "    ax.set_yticklabels(level_labels, fontsize = 14)\n",
    "\n",
    "#     cbar = plt.colorbar()\n",
    "#     cbar.ax.set_ylabel(r\"Amplitude $\\hat{n}^{F}_{i \\rightarrow f}$\", rotation=-90, va=\"bottom\")\n",
    "\n",
    "    ax.set_title(name +  ' matrix elements')\n",
    "\n",
    "    return im\n",
    "\n",
    "vmin = min(np.min(np.abs(flx_a.mat_elements(operator='charge_op', levels=range(4)))),\n",
    "           np.min(np.abs(flx_b.mat_elements(operator='charge_op', levels=range(4)))))\n",
    "\n",
    "vmax = max(np.max(np.abs(flx_a.mat_elements(operator='charge_op', levels=range(4)))),\n",
    "           np.max(np.abs(flx_b.mat_elements(operator='charge_op', levels=range(4)))))\n",
    "\n",
    "fig, ax = plt.subplots(1, 2, figsize = (12, 5))\n",
    "ima = plot_charge_op(flx_a, \"Flx_A\", ax[0], vmin, vmax)\n",
    "imb = plot_charge_op(flx_b, \"Flx_B\", ax[1], vmin, vmax)\n",
    "\n",
    "fig.colorbar(ima, ax=ax.ravel().tolist(), orientation = 'horizontal')"
   ]
  },
  {
   "cell_type": "markdown",
   "metadata": {
    "heading_collapsed": true,
    "hidden": true
   },
   "source": [
    "## function body"
   ]
  },
  {
   "cell_type": "code",
   "execution_count": null,
   "metadata": {
    "hidden": true
   },
   "outputs": [],
   "source": [
    "def test_simu(flx_a, flx_b, levels, jc, eta, list_init, freq_drive = None, freq_drive_trans = None,\n",
    "              pts_per_drive_period = 15, plateau_time = None, rise_time = None, with_drive = True,\n",
    "              plot_spectrum = True, levels_plot = 8, interest_levels = None,\n",
    "             plot_proba = True, plot_phase = False, plot_proj = False, mute = False,\n",
    "             figsize_each = (3, 3) ):\n",
    "\n",
    "    energies_a, eig_states_a = flx_a.eig_states(levels)\n",
    "    energies_b, eig_states_b = flx_b.eig_states(levels)\n",
    "    \n",
    "    #we build functions to link labels and energies\n",
    "    energies_in_lexico = np.zeros(levels*levels, dtype=float)\n",
    "    count = 0\n",
    "    for k in range(0, levels):\n",
    "        for m in range(0, levels):\n",
    "            energies_in_lexico[count] = energies_a[k] + energies_b[m]\n",
    "            count += 1\n",
    "    ascending_to_lexico = np.argsort(energies_in_lexico)\n",
    "    label_converter = ascending_to_lexico\n",
    "    \n",
    "    # This function allows to return the energy of the \"adiabatically continued\" coupled levels\n",
    "    def label_to_energies(\n",
    "        k: int, \n",
    "        m: int,\n",
    "        levels: int,\n",
    "        energies: np.ndarray,  #in ascending order\n",
    "        label_converter: np.ndarray \n",
    "    ) -> float:\n",
    "        label = k*levels + m #we use levels_f to ensure bijectivity (ex for t:2, f:4)\n",
    "        index = np.where(label_converter == label)[0][0] #index such that converter[index] = label\n",
    "        return energies[index]\n",
    "\n",
    "    def label_to_states(\n",
    "        k: int, \n",
    "        m: int,\n",
    "        levels: int,\n",
    "        eig_states: np.ndarray,\n",
    "        label_converter: np.ndarray \n",
    "    ) -> float:\n",
    "        label = k*levels + m\n",
    "        index = np.where(label_converter == label)[0][0] #index such that converter[index] = label\n",
    "        return eig_states[index] \n",
    "    \n",
    "    def energy_ascending_order_to_label(\n",
    "        k : int,\n",
    "        levels: int,\n",
    "        label_converter : np.ndarray):\n",
    "\n",
    "        lexico_rank = label_converter[k]\n",
    "        i = lexico_rank//levels\n",
    "        j = lexico_rank%levels\n",
    "\n",
    "        return i, j\n",
    "    \n",
    "    \n",
    "    \n",
    "    \n",
    "    #now we couple\n",
    "    coupled_flx = flx_a.couple_to(flx_b, coupling=pysqkit.couplers.capacitive_coupling, strength=jc)\n",
    "    energies_sys, eigstates_sys = coupled_flx.eig_states() \n",
    "\n",
    "    coupled_flx_bare = flx_a.couple_to(flx_b, coupling=pysqkit.couplers.capacitive_coupling, strength=0)\n",
    "    energies_bare, eigstates_bare = coupled_flx_bare.eig_states() \n",
    "\n",
    "\n",
    "    eig_states_by_label = []\n",
    "    for i_a in range(levels):\n",
    "        eig_states_by_label.append([])\n",
    "        for i_b in range(levels):\n",
    "            eig_states_by_label[i_a].append(qtp.Qobj(inpt=  label_to_states(i_a, i_b, levels, eigstates_sys, label_converter), \n",
    "                       dims=[[levels, levels], [1, 1]], shape=[levels*levels, 1]))\n",
    "            \n",
    "    eig_energies_by_label = []\n",
    "    for i_a in range(levels):\n",
    "        eig_energies_by_label.append([])\n",
    "        for i_b in range(levels):\n",
    "            eig_energies_by_label[i_a].append(label_to_energies(i_a, i_b, levels, energies_sys, label_converter))\n",
    "                                            \n",
    "                      \n",
    "    \n",
    "    if interest_levels is None:\n",
    "        interest_levels = [energy_ascending_order_to_label(ii, levels, label_converter) for ii in range(levels_plot)]\n",
    "    if not mute:\n",
    "        print(\"The levels we will plot and analyze are the following :\")\n",
    "        print(interest_levels)\n",
    "        \n",
    "    if plot_spectrum:\n",
    "        plt.figure(figsize=(7, 7))\n",
    "        for k, m in interest_levels:\n",
    "            plt.plot([0,.99], [label_to_energies(k, m, levels, energies_bare, label_converter)]*2, \n",
    "                     color='blue', linestyle = ':', label = \"bare\")\n",
    "            plt.text(-0.08, label_to_energies(k, m, levels, energies_bare, label_converter), \n",
    "                     \"$| \"+ str(k) + str(m) + \" \\\\rangle $\", fontsize=opt['fs_text'], color='blue')\n",
    "\n",
    "            plt.plot([1.01, 2], [label_to_energies(k, m, levels, energies_sys, label_converter)]*2, \n",
    "                     color='black', label = \"coupled\")\n",
    "            plt.text(+2.03,label_to_energies(k, m, levels, energies_sys, label_converter),\n",
    "                     \"$| \"+ str(k) + str(m) + \" \\\\rangle $\", fontsize=opt['fs_text'], color='black')\n",
    "\n",
    "            if (k, m)==(0,0):\n",
    "                plt.legend()\n",
    "\n",
    "        plt.ylabel(\"$\\mathrm{Energies \\, [GHz]}$\", fontsize=opt['fs'])\n",
    "        plt.tick_params(axis='both', labelsize=opt['ls'])\n",
    "\n",
    "        frame1 = plt.gca()\n",
    "        frame1.axes.xaxis.set_visible(False)\n",
    "        \n",
    "    #construct drive parameters\n",
    "    \n",
    "    n_a = qtp.tensor(flx_a.charge_op(as_qobj = True), qtp.qeye(flx_b.charge_op(as_qobj = True).dims[0]))\n",
    "    n_b = qtp.tensor(qtp.qeye(flx_a.charge_op(as_qobj = True).dims[0]), flx_b.charge_op(as_qobj = True))\n",
    "    n_charge = [n_a, n_b]\n",
    "    \n",
    "    if not freq_drive_trans is None:#to target specific frequencies\n",
    "        freq_drive = np.abs(label_to_energies(freq_drive_trans[1][0], freq_drive_trans[1][1], levels, energies_sys, label_converter) - \\\n",
    "                            label_to_energies(freq_drive_trans[0][0], freq_drive_trans[0][1], levels, energies_sys, label_converter) )\n",
    "        \n",
    "    elif freq_drive is None:\n",
    "        big_delta = ( label_to_energies(2, 1, levels, energies_sys, label_converter)   - \\\n",
    "              label_to_energies(1, 1, levels, energies_sys, label_converter) ) - \\\n",
    "            ( label_to_energies(2, 0, levels, energies_sys, label_converter)   - \\\n",
    "              label_to_energies(1, 0, levels, energies_sys, label_converter) )\n",
    "\n",
    "        rabi_10_20 = np.abs(eta[0] * (eig_states_by_label[1][0].dag() * n_charge[0] * eig_states_by_label[2][0]).full()[0, 0] + \\\n",
    "                            eta[1] * (eig_states_by_label[1][0].dag() * n_charge[1] * eig_states_by_label[2][0]).full()[0, 0] )\n",
    "        rabi_11_21 = np.abs(eta[0] * (eig_states_by_label[1][1].dag() * n_charge[0] * eig_states_by_label[2][1]).full()[0, 0] + \\\n",
    "                            eta[1] * (eig_states_by_label[1][1].dag() * n_charge[1] * eig_states_by_label[2][1]).full()[0, 0] )\n",
    "\n",
    "        rabi_ratio = rabi_11_21/rabi_10_20\n",
    "        ratio_delta = (rabi_ratio**2 - np.sqrt((rabi_ratio**2 - 1)**2 + rabi_ratio**2)) / (rabi_ratio**2 - 1)\n",
    "        small_delta = big_delta * ratio_delta\n",
    "        \n",
    "        freq_drive = ( label_to_energies(2, 1, levels, energies_sys, label_converter)   - \\\n",
    "                       label_to_energies(1, 1, levels, energies_sys, label_converter) )  - small_delta\n",
    "        \n",
    "        rabi_freq = big_delta\n",
    "        rabi_period = 1/rabi_freq # [ns]\n",
    "        \n",
    "        t_drive = 1/big_delta\n",
    "\n",
    "        if not mute:\n",
    "            print(\"\\n\\nBig Delta is :\", big_delta*1000, \"MHz\")\n",
    "            print(\"\\nThe rabi frequencies are : Omega_10_20 =\", rabi_10_20, \"GHz  ; Omega_11_21 =\", rabi_11_21, \n",
    "                                              \"GHz \\nSo we have : r =\", rabi_ratio)\n",
    "            print(\"\\ndelta/Delta =\", ratio_delta)\n",
    "            print(\"small delta = \", small_delta)\n",
    "            print('\\nRabi period: ' + str(rabi_period) + ' [ns]')\n",
    "           \n",
    "    if not('rabi_period' in locals() ):\n",
    "         rabi_period = 0\n",
    "            \n",
    "    if not mute:    \n",
    "        print('\\nDrive frequency fd: ' + str(freq_drive) + ' [GHz]')\n",
    "    \n",
    "    if plateau_time is None:\n",
    "        plateau_time =  rabi_period\n",
    "    simu_time = plateau_time\n",
    "        \n",
    "    if not rise_time is None:\n",
    "        simu_time+= 2*rise_time\n",
    "    \n",
    "    nb_points = int( simu_time * freq_drive * pts_per_drive_period  )\n",
    "    tlist = np.linspace(0, simu_time*2*np.pi, nb_points)\n",
    "\n",
    "    #state init : if int is present in list then eigstate[int] is in sum\n",
    "    state_init = sum([tpl[0] * eig_states_by_label[tpl[1]][tpl[2]] for tpl in list_init])\n",
    "    \n",
    "    hamil0 = coupled_flx.hamiltonian(as_qobj=True)\n",
    "    hamil_drive = eta[0]*n_charge[0] + eta[1]*n_charge[1] \n",
    "    \n",
    "    if rise_time is None:\n",
    "        pulse_drive = np.cos(freq_drive*tlist)\n",
    "    else :\n",
    "#         print(\"Custom drive\")\n",
    "        sigma = rise_time/(np.sqrt(2*np.pi))\n",
    "        pulse_drive = np.zeros(len(tlist))\n",
    "        for i in range(len(tlist)):\n",
    "            t_i = tlist[i]/(2*np.pi)\n",
    "            if t_i < rise_time:\n",
    "                pulse_drive[i] = ( np.exp(-(t_i - rise_time)**2/(2*sigma**2)) - np.exp(-rise_time**2/(2*sigma**2))) * np.cos(freq_drive*tlist[i])\n",
    "            elif t_i < rise_time + plateau_time  :\n",
    "                pulse_drive[i] = np.cos(freq_drive*tlist[i])\n",
    "            else :\n",
    "                pulse_drive[i] = ( np.exp(-(t_i - plateau_time - rise_time)**2/(2*sigma**2)) - np.exp(-rise_time**2/(2*sigma**2))) * \\\n",
    "                                        np.cos(freq_drive*tlist[i])\n",
    "    \n",
    "    \n",
    "    if with_drive :\n",
    "        result = solvkit.integrate(tlist, state_init, hamil0, [hamil_drive], [pulse_drive], [], \"mesolve\")\n",
    "    else :\n",
    "        result = solvkit.integrate(tlist, state_init, hamil0, [], [], [], \"mesolve\")\n",
    "        pulse_drive = np.zeros(len(tlist))\n",
    "    \n",
    "    \n",
    "    \n",
    "    #Analysis\n",
    "    labels = [\"$| \"+ str(k) + str(m) + \" \\\\rangle $\" for k,m in interest_levels]\n",
    "             \n",
    "    #the rhos\n",
    "    rhos_by_label = []\n",
    "    for i in range(len(eig_states_by_label)):\n",
    "        rhos_by_label.append([])\n",
    "        for j in range(len(eig_states_by_label[0])):\n",
    "            rhos_by_label[i].append(eig_states_by_label[i][j] * eig_states_by_label[i][j].dag())                       \n",
    "       \n",
    "    \n",
    "    \n",
    "    \n",
    "    #probas :\n",
    "    probs = np.zeros([len(labels), nb_points], dtype=float)\n",
    "    for k in range(0, nb_points):\n",
    "        for r in range(len(labels)):\n",
    "            i, j = interest_levels[r]\n",
    "            probs[r, k] = qtp.expect(rhos_by_label[i][j], result.states[k]) \n",
    "    \n",
    "    #phases :\n",
    "    phases = np.zeros([len(labels), nb_points], dtype=float)\n",
    "    for k in range(0, nb_points):\n",
    "         for r in range(len(labels)):\n",
    "            i, j = interest_levels[r]\n",
    "            phases[r, k] = (cmath.phase((result.states[k].dag() * eig_states_by_label[i][j]).full()[0,0]) - \\\n",
    "                        ((label_to_energies(i, j, levels, energies_sys, label_converter)*tlist[k])%(2*np.pi) - np.pi))\n",
    "    phases = phases%(np.pi*2) - np.pi\n",
    "    \n",
    "    #projections\n",
    "    proj = np.zeros([len(labels), nb_points], dtype=float)*1j\n",
    "    for k in range(0, nb_points):\n",
    "         for r in range(len(labels)):\n",
    "            i, j = interest_levels[r]\n",
    "            proj[r, k] = (result.states[k].dag() * eig_states_by_label[i][j]).full()[0,0] \\\n",
    "                / np.exp(1j*((label_to_energies(i, j, levels, energies_sys, label_converter)*tlist[k])%(2*np.pi) - np.pi))\n",
    "    \n",
    "        \n",
    "     #plots :\n",
    "    figsize = (figsize_each[0]*4), (figsize_each[1]*int(np.ceil(len(labels)/4)))\n",
    "    \n",
    "    if plot_proba:\n",
    "        fig, ax = plt.subplots(int(np.ceil(len(labels)/4)), 4, figsize = figsize)\n",
    "        for k in range(0, len(labels)):\n",
    "            ax[k//4, k%4].plot(tlist/(2*np.pi), probs[k, :])\n",
    "\n",
    "            ax[k//4, k%4].set_ylim(0, 1.0)\n",
    "            ax[k//4, k%4].set_title(labels[k])\n",
    "\n",
    "            if k%4 != 0:\n",
    "                ax[k//4, k%4].axes.yaxis.set_ticklabels([])\n",
    "                \n",
    "        fig = plt.gcf()\n",
    "        fig.suptitle('$\\mathrm{Probas \\ of \\ system \\ being \\ in  \\ \\\n",
    "                     each \\ eigenstate \\ as \\ function \\ of \\ time \\ [ns]}$ \\n  \\\n",
    "                     $( t_{drive} \\mathrm{ \\ in \\ orange})$', fontsize=12)\n",
    "        \n",
    "    if plot_phase:\n",
    "        fig, ax = plt.subplots(int(np.ceil(len(labels)/4)), 4, figsize = figsize)\n",
    "        for k in range(0, len(labels)):\n",
    "            ax[k//4, k%4].plot(tlist/(2*np.pi), phases[k, :]/np.pi)\n",
    "            ax[k//4, k%4].set_title(\"$\\mathrm{arg}( \\langle \\Psi (t) $\" + labels[k] +\"$)/\\pi$\")\n",
    "            ax[k//4, k%4].set_ylim([-1, 1])\n",
    "    \n",
    "    if plot_proj:\n",
    "        fig, ax = plt.subplots(int(np.ceil(len(labels)/4)), 4, figsize = figsize)\n",
    "        for k in range(0, len(labels)):\n",
    "            ax[k//4, k%4].plot(tlist/(2*np.pi), proj[k, :].real, label = 'real')\n",
    "            ax[k//4, k%4].plot(tlist/(2*np.pi), proj[k, :].imag, label = 'imag')\n",
    "            ax[k//4, k%4].plot(tlist/(2*np.pi), np.abs(proj[k,:]), label = 'abs', linewidth = 1 , linestyle =  \":\")\n",
    "\n",
    "            ax[k//4, k%4].set_title(\"$ \\langle \\Psi (t) $\" + labels[k] +\"$)$\")\n",
    "            \n",
    "            ax[k//4, k%4].set_ylim([-1,1])\n",
    "            ax[k//4, k%4].legend()\n",
    "            \n",
    "            if k%4 != 0:\n",
    "                    ax[k//4, k%4].axes.yaxis.set_ticklabels([])\n",
    "            \n",
    "    dict_res = {}\n",
    "    dict_res['probs'] = probs\n",
    "    dict_res['phases'] = phases\n",
    "    dict_res['proj'] = proj\n",
    "    dict_res['eigstates_sys'] = eigstates_sys\n",
    "    dict_res['energies_sys'] = energies_sys\n",
    "    dict_res['tlist'] = tlist\n",
    "    dict_res['labels'] = labels\n",
    "    dict_res['rabi_period'] = rabi_period\n",
    "    dict_res['pulse_drive'] = pulse_drive\n",
    "    dict_res['hamil_drive'] = hamil_drive\n",
    "    dict_res['freq_drive'] = freq_drive\n",
    "    dict_res['eig_states_by_label'] = eig_states_by_label\n",
    "    dict_res['eig_energies_by_label'] = eig_energies_by_label     \n",
    "    \n",
    "    return dict_res"
   ]
  },
  {
   "cell_type": "markdown",
   "metadata": {
    "heading_collapsed": true,
    "hidden": true
   },
   "source": [
    "## Small guide of the function `test_simu`"
   ]
  },
  {
   "cell_type": "markdown",
   "metadata": {
    "hidden": true
   },
   "source": [
    "The arguments that this function can take are :\n",
    "\n",
    "**Mandatory:**\n",
    "    \n",
    "1. The qubits and their levels : `flx_a` , `flx_b` , `levels`  \n",
    "\n",
    "\n",
    "2. parameters of the system (coupling and drive strengths) : `jc` , `eta`  \n",
    "    \n",
    "    \n",
    "3. argument to set how you initialize the simulation : `list_init`\n",
    ">*'list_init' is a list of triplets of form `[prefactor , state of 1st qubit , state of 2nd qubit]`*\n",
    "\n",
    "<br>\n",
    "  \n",
    "\n",
    "\n",
    "**Optional:**\n",
    "    \n",
    "4. arguments to control the drive frequency : `freq_drive_trans` (default = None) , `freq_drive` (default = None)\n",
    ">*if `freq_drive_trans` is **not None** then if should contain a list as such : `[[a,b], [c,d]]` and it'll take the frequency of the transition from $|ab\\rangle$ to $|cd\\rangle$ (in absolute value)*  \n",
    ">*if `freq_drive_trans` is **None** AND `freq_drive` is **None** then we do the analysis via $\\Delta$, $\\delta$, $\\Omega$... as in Ficheux*  \n",
    ">*if `freq_drive_trans` is **None** AND `freq_drive` is **not None** then we take `freq_drive` and **don't do the analysis**.*\n",
    "\n",
    ".\n",
    "\n",
    "5. arguments to control the drive (pulse_drive) shape : `plateau_time` (default = None) , `rise_time` (default = None)  \n",
    ">*if `plateau_time` is **None** then it is set to `rabi_period`*  \n",
    ">*then we add `2x rise_time` to get the total simulation time and we implement the rise if `rise_time` is **not None**. (this way if both are **None**, we end up with `rabi_period`)*\n",
    "\n",
    ".\n",
    "\n",
    "6. arguments to control the resolution of the time list in the simulation : `pts_per_drive_period` (default = 15)  *(usually it's enough)*\n",
    "\n",
    "\n",
    "7. arguments to remove the drive all-together : `with_drive` (default = True)\n",
    "\n",
    "\n",
    "8. arguments to choose which levels are gonna be analyzed (ie whose proba, phase and projections are gonna be calculated and who are gonna be plotted) : `levels_plot` (default = 12) , `interest_levels` (default = None)\n",
    ">*if `interest_levels` is **None** then we take the `levels_plot` first levels in term of energy, else we take the ones listed in `interest_levels` in the following form : `[[a,b], [c,d], [e,f]]` to have projections on $|ab\\rangle$ ; $|cd\\rangle$ and $|ef\\rangle$ for example*\n",
    "\n",
    ".\n",
    "\n",
    "9. arguments to control what is displayed and how : `plot_spectrum` (default = False) , `plot_proba` (default = True) , `plot_phase` (default = True),  `plot_proj` (default = False) , `mute` (default = False) , `figsize_each` (default = (3, 3)) *(pretty self_explanatory)*"
   ]
  },
  {
   "cell_type": "markdown",
   "metadata": {
    "hidden": true
   },
   "source": [
    "The function will return a dictionnary with the following entries :\n",
    "\n",
    "\n",
    "- `energies_sys` the eigen energies in ascending order\n",
    "- `eigstates_sys` the eigenstates orders by ascending energy\n",
    "- `eig_states_by_label` the eigenstates stored in nested lists. `eig_states_by_label`[a][b] will return the quobj of the eigenvector closest to $|ab\\rangle$\n",
    "- `eig_energies_by_label` the eigenenergies stored in nested lists. `eig_energies_by_label`[a][b] will return the eigen energy of the eigenstate closest to $|ab\\rangle$\n",
    "\n",
    "\n",
    "- `rabi_period` 0 if no analysis has been done\n",
    "- `pulse_drive` the one used in the simulation\n",
    "- `hamil_drive` the one used in the simulation\n",
    "- `freq_drive` the one used in the simulation\n",
    "\n",
    "\n",
    "- `tlist` with the time array used for simulations (don't forget to divide by 2$\\pi$)\n",
    "\n",
    "\n",
    "- `labels` with the labels of all the interest_levels ready for lateX\n",
    "\n",
    "\n",
    "- `probs` with the probabilities of being in each states specified (of not) in `interest_levels`  \n",
    "- `phases` with the phases of the projections on each states specified (of not) in `interest_levels`   \n",
    "- `proj` with the probabilities of being in each states specified (of not) in `interest_levels`  \n"
   ]
  },
  {
   "cell_type": "markdown",
   "metadata": {
    "heading_collapsed": true,
    "hidden": true
   },
   "source": [
    "## Tests with initialisation"
   ]
  },
  {
   "cell_type": "code",
   "execution_count": null,
   "metadata": {
    "hidden": true
   },
   "outputs": [],
   "source": [
    "t_rise_best = 17.6\n",
    "t_tot_best = 58.3\n",
    "t_plateau_best = t_tot_best - 2*t_rise_best\n",
    "\n",
    "print(\"The best times are : \\nt_rise =\", t_rise_best, \"\\nt_plateau =\", t_plateau_best, \"\\nt_tot =\", t_tot_best)"
   ]
  },
  {
   "cell_type": "code",
   "execution_count": null,
   "metadata": {
    "hidden": true,
    "scrolled": false
   },
   "outputs": [],
   "source": [
    "ratio_e_test = .9 #optimal according to paper\n",
    "e_b_test = 0.03634\n",
    "\n",
    "e_a_test = ratio_e_test * e_b_test\n",
    "eta_test = [e_a_test, e_b_test]\n",
    "\n",
    "jc_test = .224\n",
    "\n",
    "display( Latex('the Epsilons are : $\\\\varepsilon_T $ = %.4f and $\\\\varepsilon_F $ = %.4f ' % (eta_test[0], eta_test[1])))\n",
    "\n",
    "\n",
    "#list init contains tuples, the first argument is factor in the sum, second and third give state of flx_a and flx_b\n",
    "list_init = [[1, 0, 0],  \n",
    "             [1, 0, 1],\n",
    "             [1, 1, 0],\n",
    "             [1, 1, 1]]\n",
    "\n",
    "deb = time.time()\n",
    "    \n",
    "dict_res = test_simu(flx_a = flx_a,\n",
    "                     flx_b = flx_b,\n",
    "                     levels = levels,\n",
    "                     jc = jc_test, \n",
    "                     eta = eta_test,\n",
    "                     list_init = list_init,\n",
    "                     freq_drive = None,\n",
    "                     freq_drive_trans = None,\n",
    "                     plateau_time = None, #23.1,\n",
    "                     rise_time = None, #17.6,\n",
    "                     with_drive = True,\n",
    "                     plot_spectrum = False,\n",
    "                     levels_plot = None,\n",
    "                     interest_levels = [[0,0], [0,1], [1,0], [1,1], [0,2], [1,2], [2,0], [2,1]],\n",
    "                     plot_proba = True, \n",
    "                     plot_phase = True, \n",
    "                     plot_proj = False,\n",
    "                     mute = False,\n",
    "                     pts_per_drive_period = 15,\n",
    "                     figsize_each = (3, 3))\n",
    "\n",
    "\n",
    "print(\"It took \", time.time() - deb , \"seconds\")\n",
    "\n",
    "print(\"The order in proj, probs, phases, ... is as follows :\")\n",
    "print(dict_res['labels'])"
   ]
  },
  {
   "cell_type": "code",
   "execution_count": null,
   "metadata": {
    "hidden": true
   },
   "outputs": [],
   "source": [
    "ind_one = 2\n",
    "ind_two = 3\n",
    "\n",
    "plt.figure()\n",
    "plt.plot(dict_res['tlist']/(2*np.pi), dict_res['phases'][ind_one]/np.pi, label = \"$\\mathrm{arg}( \\langle \\Psi (t) $\" + dict_res['labels'][ind_one] +\"$)/\\pi$\")\n",
    "plt.plot(dict_res['tlist']/(2*np.pi), dict_res['phases'][ind_two]/np.pi, label = \"$\\mathrm{arg}( \\langle \\Psi (t) $\" + dict_res['labels'][ind_two] +\"$)/\\pi$\")\n",
    "\n",
    "plt.text(dict_res['tlist'][-1]/(2*np.pi)-5, dict_res['phases'][ind_one][-1]/np.pi - .07,\n",
    "         \"$\"+str(np.round(dict_res['phases'][ind_one][-1]/np.pi, 3)) + \"\\cdot\\pi$\",\n",
    "         fontsize = 14)\n",
    "\n",
    "plt.text(dict_res['tlist'][-1]/(2*np.pi)-5, dict_res['phases'][ind_two][-1]/np.pi + .03,\n",
    "         \"$\"+str(np.round(dict_res['phases'][ind_two][-1]/np.pi, 3)) + \"\\cdot\\pi$\",\n",
    "         fontsize = 14)\n",
    "\n",
    "plt.xlabel(\"$t$\")\n",
    "plt.legend()"
   ]
  },
  {
   "cell_type": "code",
   "execution_count": null,
   "metadata": {
    "hidden": true
   },
   "outputs": [],
   "source": [
    "plt.figure()\n",
    "plt.plot(dict_res['tlist']/(2*np.pi), dict_res['pulse_drive'])\n",
    "# plt.plot(np.cos(dict_res['tlist'] * dict_res['freq_drive']))\n",
    "\n",
    "#R) Weird shape could be liked to number of points too low (ie not enought points per period of the drive) \n",
    "#(the period of the drive is about .2 so there should be more than 50*(total time) points ie : for 60ns -> 3000pts at least)"
   ]
  },
  {
   "cell_type": "markdown",
   "metadata": {
    "heading_collapsed": true,
    "hidden": true
   },
   "source": [
    "## Leakage"
   ]
  },
  {
   "cell_type": "code",
   "execution_count": null,
   "metadata": {
    "hidden": true
   },
   "outputs": [],
   "source": [
    "ratio_e_test = .9 #optimal according to paper\n",
    "e_b_test = 0.03634\n",
    "\n",
    "e_a_test = ratio_e_test * e_b_test\n",
    "eta_test = [e_a_test, e_b_test]\n",
    "\n",
    "jc_test = .224"
   ]
  },
  {
   "cell_type": "code",
   "execution_count": null,
   "metadata": {
    "hidden": true
   },
   "outputs": [],
   "source": [
    "def leakage(flx_a = flx_a, flx_b = flx_b, levels = levels, jc = jc_test, eta = eta_test, list_init=  [[1,1,1], [1,1,0], [1, 0, 1], [1, 0, 0]],\n",
    "                freq_drive = None, freq_drive_trans = None,\n",
    "               pts_per_drive_period = 20, plateau_time = None, rise_time = None, with_drive = True,\n",
    "               plot_spectrum = False, levels_plot = None, interest_levels = [[0,0], [0,1], [1,0], [1,1], [0,2], [1,2], [2,0], [2,1]],\n",
    "               plot_proba = False, plot_phase = False, plot_proj = False,\n",
    "                mute = True, figsize_each = (3, 3)):\n",
    "    \n",
    "    dict_res = test_simu(flx_a = flx_a,\n",
    "                             flx_b = flx_b,\n",
    "                             levels = levels,\n",
    "                             jc = jc_test, \n",
    "                             eta = eta_test,\n",
    "                             list_init = list_init,\n",
    "                             freq_drive = freq_drive,\n",
    "                             freq_drive_trans = freq_drive_trans,\n",
    "                             plateau_time = plateau_time, \n",
    "                             rise_time = rise_time,\n",
    "                             with_drive = with_drive,\n",
    "                             plot_spectrum = plot_spectrum,\n",
    "                             levels_plot = levels_plot,\n",
    "                             interest_levels = interest_levels,\n",
    "                             plot_proba = plot_proba, \n",
    "                             plot_phase = plot_phase, \n",
    "                             plot_proj = plot_proj,\n",
    "                             mute = mute,\n",
    "                             pts_per_drive_period = pts_per_drive_period,\n",
    "                             figsize_each = figsize_each)\n",
    "    \n",
    "\n",
    "    leakage = 1 - sum(dict_res['probs'][:4, -1])\n",
    "    \n",
    "    print(\"Leakage at the end of the total simulation time is : \"+ str(leakage*100) + \"%\")\n",
    "    return leakage"
   ]
  },
  {
   "cell_type": "code",
   "execution_count": null,
   "metadata": {
    "hidden": true
   },
   "outputs": [],
   "source": [
    "leakage_00_01_10_11 = leakage(pts_per_drive_period = 20, \n",
    "                              plateau_time = None, \n",
    "                              rise_time = None,\n",
    "                              plot_spectrum = False, \n",
    "                              plot_proba = False, \n",
    "                              plot_phase = False, \n",
    "                              plot_proj = False, \n",
    "                              plot_phase_cond = True,\n",
    "                              mute = True, \n",
    "                              figsize_each = (3, 3))"
   ]
  },
  {
   "cell_type": "markdown",
   "metadata": {
    "heading_collapsed": true,
    "hidden": true
   },
   "source": [
    "## Tests for $\\Delta \\varphi$  (automatised)"
   ]
  },
  {
   "cell_type": "markdown",
   "metadata": {
    "heading_collapsed": true,
    "hidden": true
   },
   "source": [
    "### Function"
   ]
  },
  {
   "cell_type": "code",
   "execution_count": null,
   "metadata": {
    "hidden": true
   },
   "outputs": [],
   "source": [
    "def process_acc_phase(phases):\n",
    "    return phases[3] - phases[2] - phases[1] + phases[0] \n",
    "process_acc_phase_str = \"$\\Delta \\\\varphi (t) = \\mathrm{arg}( \\langle \\Psi (t) | 11 \\\\rangle ) - \\mathrm{arg}( \\langle \\Psi (t) | 10 \\\\rangle ) \\\n",
    "                  - \\mathrm{arg}( \\langle \\Psi (t) | 01 \\\\rangle ) + \\mathrm{arg}( \\langle \\Psi (t) | 00 \\\\rangle )$\"\n",
    "\n",
    "def delta_phi(flx_a, flx_b, levels, jc, eta, freq_drive = None, freq_drive_trans = None,\n",
    "               pts_per_drive_period = 15, plateau_time = None, rise_time = None, with_drive = True,\n",
    "               plot_spectrum = False,plot_proba = False, plot_phase = False, plot_proj = False, plot_phase_cond = True, seperate_simu = False,\n",
    "                mute = True, process_acc_phase = process_acc_phase, process_acc_phase_str = process_acc_phase_str, figsize_each = (3, 3)):\n",
    "    \n",
    "    if seperate_simu:\n",
    "        dict_11 = test_simu(flx_a = flx_a,\n",
    "                         flx_b = flx_b,\n",
    "                         levels = levels,\n",
    "                         jc = jc, \n",
    "                         eta = eta,\n",
    "                         list_init = [[1,1,1]],\n",
    "                         freq_drive = freq_drive,\n",
    "                         freq_drive_trans = freq_drive_trans,\n",
    "                         plateau_time = plateau_time,\n",
    "                         rise_time = rise_time,\n",
    "                         with_drive = with_drive,\n",
    "                         plot_spectrum = False,\n",
    "                         levels_plot = None,\n",
    "                         interest_levels = [[1,1]],\n",
    "                         plot_proba = False, \n",
    "                         plot_phase = False, \n",
    "                         plot_proj = False,\n",
    "                         mute = True,\n",
    "                         pts_per_drive_period = pts_per_drive_period,\n",
    "                         figsize_each = figsize_each)\n",
    "        dict_10 = test_simu(flx_a = flx_a,\n",
    "                         flx_b = flx_b,\n",
    "                         levels = levels,\n",
    "                         jc = jc, \n",
    "                         eta = eta,\n",
    "                         list_init = [[1,1,0]],\n",
    "                         freq_drive = freq_drive,\n",
    "                         freq_drive_trans = freq_drive_trans,\n",
    "                         plateau_time = plateau_time,\n",
    "                         rise_time = rise_time,\n",
    "                         with_drive = with_drive,\n",
    "                         plot_spectrum = False,\n",
    "                         levels_plot = None,\n",
    "                         interest_levels = [[1,0]],\n",
    "                         plot_proba = False, \n",
    "                         plot_phase = False, \n",
    "                         plot_proj = False,\n",
    "                         mute = True,\n",
    "                         pts_per_drive_period = pts_per_drive_period,\n",
    "                         figsize_each = figsize_each)\n",
    "        dict_01 = test_simu(flx_a = flx_a,\n",
    "                         flx_b = flx_b,\n",
    "                         levels = levels,\n",
    "                         jc = jc, \n",
    "                         eta = eta,\n",
    "                         list_init = [[1,0, 1]],\n",
    "                         freq_drive = freq_drive,\n",
    "                         freq_drive_trans = freq_drive_trans,\n",
    "                         plateau_time = plateau_time,\n",
    "                         rise_time = rise_time,\n",
    "                         with_drive = with_drive,\n",
    "                         plot_spectrum = False,\n",
    "                         levels_plot = None,\n",
    "                         interest_levels = [[0,1]],\n",
    "                         plot_proba = False, \n",
    "                         plot_phase = False, \n",
    "                         plot_proj = False,\n",
    "                         mute = True,\n",
    "                         pts_per_drive_period = pts_per_drive_period,\n",
    "                         figsize_each = figsize_each)\n",
    "        dict_00 = test_simu(flx_a = flx_a,\n",
    "                         flx_b = flx_b,\n",
    "                         levels = levels,\n",
    "                         jc = jc, \n",
    "                         eta = eta,\n",
    "                         list_init = [[1,0, 0]],\n",
    "                         freq_drive = freq_drive,\n",
    "                         freq_drive_trans = freq_drive_trans,\n",
    "                         plateau_time = plateau_time,\n",
    "                         rise_time = rise_time,\n",
    "                         with_drive = with_drive,\n",
    "                         plot_spectrum = False,\n",
    "                         levels_plot = None,\n",
    "                         interest_levels = [[0,0]],\n",
    "                         plot_proba = False, \n",
    "                         plot_phase = False, \n",
    "                         plot_proj = False,\n",
    "                         mute = True,\n",
    "                         pts_per_drive_period = pts_per_drive_period,\n",
    "                         figsize_each = figsize_each)\n",
    "        phases = [dict_00['phases'][0], dict_01['phases'][0], dict_10['phases'][0], dict_11['phases'][0]]\n",
    "        dphi = process_acc_phase(phases)\n",
    "        \n",
    "        #then for show :\n",
    "        if not mute :\n",
    "            print(\"Just for show : \")\n",
    "        dict_all = test_simu(flx_a = flx_a,\n",
    "                         flx_b = flx_b,\n",
    "                         levels = levels,\n",
    "                         jc = jc, \n",
    "                         eta = eta,\n",
    "                         list_init = [[1, 0, 0], [1, 0, 1], [1, 1, 0], [1,1,1]],\n",
    "                         freq_drive = freq_drive,\n",
    "                         freq_drive_trans = freq_drive_trans,\n",
    "                         plateau_time = plateau_time,\n",
    "                         rise_time = rise_time,\n",
    "                         with_drive = with_drive,\n",
    "                         plot_spectrum = plot_spectrum,\n",
    "                         levels_plot = None,\n",
    "                         interest_levels = [[0,0], [0,1], [1,0], [1,1], [0,2], [1,2], [2,0], [2,1]],\n",
    "                         plot_proba = plot_proba, \n",
    "                         plot_phase = plot_phase, \n",
    "                         plot_proj = plot_proj,\n",
    "                         mute = mute,\n",
    "                         pts_per_drive_period = pts_per_drive_period,\n",
    "                         figsize_each = figsize_each)\n",
    "\n",
    "    else:\n",
    "        dict_all = test_simu(flx_a = flx_a,\n",
    "                         flx_b = flx_b,\n",
    "                         levels = levels,\n",
    "                         jc = jc, \n",
    "                         eta = eta,\n",
    "                         list_init = [[1, 0, 0], [1, 0, 1], [1, 1, 0], [1,1,1]],\n",
    "                         freq_drive = freq_drive,\n",
    "                         freq_drive_trans = freq_drive_trans,\n",
    "                         plateau_time = plateau_time,\n",
    "                         rise_time = rise_time,\n",
    "                         with_drive = with_drive,\n",
    "                         plot_spectrum = plot_spectrum,\n",
    "                         levels_plot = None,\n",
    "                         interest_levels = [[0,0], [0,1], [1,0], [1,1], [0,2], [1,2], [2,0], [2,1]],\n",
    "                         plot_proba = plot_proba, \n",
    "                         plot_phase = plot_phase, \n",
    "                         plot_proj = plot_proj,\n",
    "                         mute = mute,\n",
    "                         pts_per_drive_period = pts_per_drive_period,\n",
    "                         figsize_each = figsize_each)\n",
    "        dphi = process_acc_phase(dict_all['phases'])\n",
    "    \n",
    "    if not mute:\n",
    "        print(\"The last value of Delta Phi is \", dphi[-1]/np.pi, \"(in units of pi)\")\n",
    "        print(\"The leakage at the end (for a simu init with 00 01 10 11) is \", ( 1 - sum(dict_all['probs'][:4, -1]))*100, \"%\")\n",
    "    \n",
    "    if plot_phase_cond:\n",
    "        plt.figure(figsize = figsize)\n",
    "\n",
    "        plt.plot(dict_all['tlist']/(2*np.pi), dphi/np.pi)\n",
    "        plt.title(\"$\\Delta \\\\varphi (t) = \\mathrm{arg}( \\langle \\Psi (t) | 11 \\\\rangle ) - \\mathrm{arg}( \\langle \\Psi (t) | 10 \\\\rangle ) \\\n",
    "                  - \\mathrm{arg}( \\langle \\Psi (t) | 01 \\\\rangle ) + \\mathrm{arg}( \\langle \\Psi (t) | 00 \\\\rangle )$\")\n",
    "\n",
    "        plt.xlabel('$\\mathrm{t}$')\n",
    "        plt.ylabel('$\\Delta \\\\varphi / \\pi$')\n",
    "\n",
    "    return dict_all['tlist'], dphi, dict_all"
   ]
  },
  {
   "cell_type": "markdown",
   "metadata": {
    "hidden": true
   },
   "source": [
    "### Runs"
   ]
  },
  {
   "cell_type": "markdown",
   "metadata": {
    "hidden": true
   },
   "source": [
    "**Guide for the `delta_phi` function :**  \n",
    "\n",
    "I added 2 new possible arguments here that were not described before :\n",
    "\n",
    "- `process_acc_phase` (default = process_acc_phase)\n",
    "> *It is a function that takes a list of values (different phases) and return a single one (the accumulated phase). The default value returns :* \n",
    ">> `phases[3] - phases[2] - phases[1] + phases[0]`\n",
    "\n",
    "\n",
    "- `process_acc_phase_str` (default = process_acc_phase)\n",
    "> *It string used to describe the function defined before. It will be the title of the graph of the accumulated phase. The default value is :*\n",
    ">> $\\Delta \\varphi (t) = \\mathrm{arg}( \\langle \\Psi (t) | 11 \\rangle ) - \\mathrm{arg}( \\langle \\Psi (t) | 10 \\rangle ) \\\n",
    "                  - \\mathrm{arg}( \\langle \\Psi (t) | 01 \\rangle ) + \\mathrm{arg}( \\langle \\Psi (t) | 00 \\rangle )$\n",
    "\n",
    "<br>\n",
    "\n",
    "**IF** the variable `seperate_simu` is **True** ; then the function `process_acc_phase` will take an argument of size 4 as such : *(the phases from each simulation)*\n",
    "> phases[0] is the $\\langle \\Psi (t) | 00 \\rangle$  \n",
    "> phases[1] is the $\\langle \\Psi (t) | 01 \\rangle$  \n",
    "> phases[2] is the $\\langle \\Psi (t) | 10 \\rangle$  \n",
    "> phases[3] is the $\\langle \\Psi (t) | 11 \\rangle$  \n",
    "\n",
    "**ELSE** if the variable `seperate_simu` is **False** ; then the function `process_acc_phase` will take an argument of size 8 as such : *(the phases from the only simulation that is then plotted)*\n",
    "> The phases are taken in this order : `[[0,0], [0,1], [1,0], [1,1], [0,2], [1,2], [2,0], [2,1]]`\n"
   ]
  },
  {
   "cell_type": "code",
   "execution_count": null,
   "metadata": {
    "hidden": true,
    "scrolled": false
   },
   "outputs": [],
   "source": [
    "ratio_e_test = .9 #optimal according to paper\n",
    "e_b_test = 0.03634\n",
    "\n",
    "e_a_test = ratio_e_test * e_b_test\n",
    "eta_test = [e_a_test, e_b_test]\n",
    "\n",
    "jc_test = .224\n",
    "\n",
    "display( Latex('the Epsilons are : $\\\\varepsilon_T $ = %.4f and $\\\\varepsilon_F $ = %.4f ' % (eta_test[0], eta_test[1])))\n",
    "\n",
    "\n",
    "deb = time.time()\n",
    "tlist, dphi, dict_res = delta_phi(flx_a = flx_a,\n",
    "                                  flx_b = flx_b,\n",
    "                                  levels = levels,\n",
    "                                  jc = jc_test,\n",
    "                                  eta = eta_test,\n",
    "                                  freq_drive = None,\n",
    "                                  freq_drive_trans = None,\n",
    "                                  pts_per_drive_period = 15,\n",
    "                                  plateau_time = None,\n",
    "                                  rise_time = None,\n",
    "                                  with_drive = True,\n",
    "                                  plot_spectrum = False,\n",
    "                                  plot_proba = True,\n",
    "                                  plot_phase = False,\n",
    "                                  plot_proj = False,\n",
    "                                  plot_phase_cond = True,\n",
    "                                  seperate_simu = False,\n",
    "                                  mute = False,\n",
    "                                  process_acc_phase = process_acc_phase,\n",
    "                                  process_acc_phase_str = process_acc_phase_str,\n",
    "                                  figsize_each = (3, 3))\n",
    "\n",
    "print(\"It took \", time.time() - deb , \"seconds\")\n",
    "\n",
    "print(\"The order in proj, probs, phases, ... is as follows :\")\n",
    "print(dict_res['labels'])"
   ]
  },
  {
   "cell_type": "code",
   "execution_count": null,
   "metadata": {
    "hidden": true
   },
   "outputs": [],
   "source": [
    "tlist = dict_res['tlist']/(2*np.pi)\n",
    "\n",
    "final_phase_in_pi = dphi[-1]/np.pi\n",
    "print(\"Final_phase = \", final_phase_in_pi, \"(in unit of pi) \")  #must go to pi (or -pi)\n",
    "\n",
    "leakage_at_end = 1 - sum(dict_res['probs'][:4, -1])\n",
    "print(\"\\nLeakage at the end = \", leakage_at_end*100, \"%\") #must go to 0\n",
    "\n",
    "leakage_array = np.array([1 - sum(dict_res['probs'][:4, k]) for k in range(len(tlist))])\n",
    "min_leakage_near_end = np.min(leakage_array[2*len(tlist)//3 :])\n",
    "time_after_best_leakage = tlist[-1] - tlist[2*len(tlist)//3 + np.argmin(leakage_array[2*len(tlist)//3 :])]\n",
    "print(\"\\nMin leakage near the end = \", min_leakage_near_end*100, \"%\")\n",
    "print(\"Time after best leakage = \", time_after_best_leakage, \"ns\")  #must go to 0\n",
    "\n",
    "\n",
    "plt.figure()\n",
    "plt.plot(tlist, leakage_array)"
   ]
  },
  {
   "cell_type": "markdown",
   "metadata": {
    "heading_collapsed": true
   },
   "source": [
    "# Optimisation of process"
   ]
  },
  {
   "cell_type": "markdown",
   "metadata": {
    "heading_collapsed": true,
    "hidden": true
   },
   "source": [
    "## Tweak t_rise and t_plateau (manual)"
   ]
  },
  {
   "cell_type": "code",
   "execution_count": null,
   "metadata": {
    "hidden": true
   },
   "outputs": [],
   "source": [
    "#function to optimize :\n",
    "e_b_test = 0.03634\n",
    "ratio_e_test = .9 #optimal according to paper\n",
    "e_a_test = ratio_e_test * e_b_test\n",
    "eta_test = [e_a_test, e_b_test]\n",
    "\n",
    "display( Latex('the Epsilons are : $\\\\varepsilon_A $ = %.4f and $\\\\varepsilon_B $ = %.4f ' % (e_a_test, e_b_test)))\n",
    "\n",
    "def optim_drive(t_rise, t_plateau, plot_proba = False, plot_phase_cond = False, mute = True):\n",
    "    deb = time.time()\n",
    "    tlist, dphi, dict_res = delta_phi_same_simu(jc = .224, \n",
    "                                      eta = eta_test,\n",
    "                                      freq_drive = None,\n",
    "                                      freq_drive_trans = None,\n",
    "                                      plateau_time = t_plateau,\n",
    "                                      rise_time = t_rise,\n",
    "                                      with_drive = True,\n",
    "                                      pts_per_drive_period = 15,\n",
    "                                      plot_spectrum = False,\n",
    "                                      plot_proba = plot_proba, \n",
    "                                      plot_phase = False, \n",
    "                                      plot_proj = False, \n",
    "                                      plot_phase_cond = plot_phase_cond,\n",
    "                                      figsize = (12, 6),\n",
    "                                      mute = mute)\n",
    "    tlist = tlist/(2*np.pi)\n",
    "\n",
    "    \n",
    "    \n",
    "    extra_time = tlist[-1] - tlist[2*len(tlist)//3 + np.argmax(dict_res['probs'][3][2*len(tlist)//3 :])]\n",
    "    final_phase = dphi[-1]\n",
    "    max_11_near_end = np.max(dict_res['probs'][3][2*len(tlist)//3 :])\n",
    "    \n",
    "#     print(\"It took \", time.time() - deb , \"seconds\")\n",
    "#     print(\"time after max in proba of 11 : \", extra_time, \"ns\")  #must go to 0\n",
    "#     print(\"final_phase : \", final_phase)  #must go to pi (or -pi)\n",
    "    \n",
    "    return extra_time, final_phase, max_11_near_end"
   ]
  },
  {
   "cell_type": "markdown",
   "metadata": {
    "hidden": true
   },
   "source": [
    "### 2D scann"
   ]
  },
  {
   "cell_type": "code",
   "execution_count": null,
   "metadata": {
    "hidden": true
   },
   "outputs": [],
   "source": [
    "#scann of t_rise and t_plateau\n",
    "n_rise = 7\n",
    "rg_t_rise = np.linspace(10, 20, n_rise)\n",
    "\n",
    "n_plateau = 7\n",
    "rg_t_plateau = np.linspace(15, 50, n_plateau)\n",
    "\n",
    "scann_extra_times = np.zeros((n_rise, n_plateau))\n",
    "scann_phases = np.zeros((n_rise, n_plateau))\n",
    "scann_max_11 = np.zeros((n_rise, n_plateau))\n",
    "\n",
    "deb_test = time.time()\n",
    "optim_drive(np.mean(rg_t_rise), np.mean(rg_t_plateau))\n",
    "length_test = time.time() - deb_test\n",
    "print(\"Loops should take \", length_test*n_rise*n_plateau, \"seconds  ; End around\", \n",
    "              datetime.datetime.now() + datetime.timedelta(seconds = length_test*n_rise*n_plateau))"
   ]
  },
  {
   "cell_type": "code",
   "execution_count": null,
   "metadata": {
    "hidden": true
   },
   "outputs": [],
   "source": [
    "for a in range(n_rise):\n",
    "    for b in range(n_plateau):\n",
    "        scann_extra_times[a,b], scann_phases[a,b], scann_max_11[a,b] = optim_drive(rg_t_rise[a], rg_t_plateau[b])"
   ]
  },
  {
   "cell_type": "code",
   "execution_count": null,
   "metadata": {
    "hidden": true
   },
   "outputs": [],
   "source": [
    "%notify"
   ]
  },
  {
   "cell_type": "code",
   "execution_count": null,
   "metadata": {
    "hidden": true
   },
   "outputs": [],
   "source": [
    "scann_phases_abs = np.abs(scann_phases)"
   ]
  },
  {
   "cell_type": "code",
   "execution_count": null,
   "metadata": {
    "hidden": true,
    "scrolled": false
   },
   "outputs": [],
   "source": [
    "fig, ax = plt.subplots(3, 1, figsize = (9, 15))\n",
    "\n",
    "im0 = ax[0].imshow( scann_extra_times[:,::-1 ].T)\n",
    "\n",
    "ax[0].set_xlabel('$t_{\\mathrm{rise}}$', fontsize = 14)\n",
    "ax[0].set_ylabel('$t_{\\mathrm{plateau}}$', fontsize = 14)\n",
    "ax[0].set_title('extra_time for t_rise and t_plateau')\n",
    "\n",
    "ax[0].set_xticks(range(n_rise))\n",
    "ax[0].set_yticks(range(n_plateau))\n",
    "ax[0].set_xticklabels(np.round(rg_t_rise), fontsize = 14)\n",
    "ax[0].set_yticklabels(np.round(rg_t_plateau, 1)[::-1], fontsize = 14)\n",
    "\n",
    "divider = make_axes_locatable(ax[0])\n",
    "cax = divider.append_axes('right', size='5%', pad=0.05)\n",
    "fig.colorbar(im0, cax=cax, orientation='vertical')\n",
    "\n",
    "\n",
    "\n",
    "im1 = ax[1].imshow(scann_phases_abs[:,::-1 ].T)\n",
    "\n",
    "ax[1].set_xlabel('$t_{\\mathrm{rise}}$', fontsize = 14)\n",
    "ax[1].set_ylabel('$t_{\\mathrm{plateau}}$', fontsize = 14)\n",
    "ax[1].set_title('phase for t_rise and t_plateau')\n",
    "\n",
    "ax[1].set_xticks(range(n_rise))\n",
    "ax[1].set_yticks(range(n_plateau))\n",
    "ax[1].set_xticklabels(np.round(rg_t_rise), fontsize = 14)\n",
    "ax[1].set_yticklabels(np.round(rg_t_plateau)[::-1], fontsize = 14)\n",
    "\n",
    "divider = make_axes_locatable(ax[1])\n",
    "cax = divider.append_axes('right', size='5%', pad=0.05)\n",
    "fig.colorbar(im1, cax=cax, orientation='vertical')\n",
    "\n",
    "\n",
    "\n",
    "\n",
    "im2 = ax[2].imshow(scann_max_11[:,::-1 ].T)\n",
    "\n",
    "ax[2].set_xlabel('$t_{\\mathrm{rise}}$', fontsize = 14)\n",
    "ax[2].set_ylabel('$t_{\\mathrm{plateau}}$', fontsize = 14)\n",
    "ax[2].set_title('max 11 near end for t_rise and t_plateau')\n",
    "\n",
    "ax[2].set_xticks(range(n_rise))\n",
    "ax[2].set_yticks(range(n_plateau))\n",
    "ax[2].set_xticklabels(np.round(rg_t_rise), fontsize = 14)\n",
    "ax[2].set_yticklabels(np.round(rg_t_plateau)[::-1], fontsize = 14)\n",
    "\n",
    "divider = make_axes_locatable(ax[2])\n",
    "cax = divider.append_axes('right', size='5%', pad=0.05)\n",
    "fig.colorbar(im2, cax=cax, orientation='vertical')\n"
   ]
  },
  {
   "cell_type": "markdown",
   "metadata": {
    "hidden": true
   },
   "source": [
    "### 1D scann"
   ]
  },
  {
   "cell_type": "code",
   "execution_count": null,
   "metadata": {
    "hidden": true
   },
   "outputs": [],
   "source": [
    "#1D scann:\n",
    "t_tot = 58.3\n",
    "\n",
    "n_rise_1D = 10\n",
    "rg_t_rise_1D = np.linspace(17, 18.3, n_rise_1D)\n",
    "\n",
    "n_t_tot = 3\n",
    "rg_t_tot_1D = np.linspace(t_tot - .1, t_tot + .1, n_t_tot)\n",
    "\n",
    "scann_extra_times_1D = np.zeros((n_rise_1D, n_t_tot))\n",
    "scann_phases_1D = np.zeros((n_rise_1D, n_t_tot))\n",
    "scann_max_11_1D = np.zeros((n_rise_1D, n_t_tot))\n",
    "\n",
    "deb_test = time.time()\n",
    "optim_drive(np.mean(rg_t_rise_1D), np.mean(rg_t_tot_1D) - 2*np.mean(rg_t_rise_1D))\n",
    "length_test = time.time() - deb_test\n",
    "print(\"Loops should take \", length_test*n_rise_1D*n_t_tot, \"seconds  ; End around\", \n",
    "              datetime.datetime.now() + datetime.timedelta(seconds = length_test*n_rise_1D*n_t_tot))"
   ]
  },
  {
   "cell_type": "code",
   "execution_count": null,
   "metadata": {
    "hidden": true
   },
   "outputs": [],
   "source": [
    "for a in range(n_rise_1D):\n",
    "    for b in range(n_t_tot):\n",
    "        scann_extra_times_1D[a, b], scann_phases_1D[a, b], scann_max_11_1D[a, b] = optim_drive(rg_t_rise_1D[a], rg_t_tot_1D[b] - 2*rg_t_rise_1D[a] )\n",
    "    \n",
    "%notify"
   ]
  },
  {
   "cell_type": "code",
   "execution_count": null,
   "metadata": {
    "hidden": true
   },
   "outputs": [],
   "source": [
    "scann_phases_1D_abs = np.abs(scann_phases_1D)"
   ]
  },
  {
   "cell_type": "code",
   "execution_count": null,
   "metadata": {
    "hidden": true
   },
   "outputs": [],
   "source": [
    "fig, ax = plt.subplots(3, 1, figsize = (11, 13))\n",
    "\n",
    "for b in range(n_t_tot):\n",
    "    ax[0].plot(rg_t_rise_1D, scann_extra_times_1D[:,b], label = \"t_tot =\"+str(np.round(rg_t_tot_1D[b], 1)))\n",
    "        # ax[1].plot(rg_t_rise_1D, scann_phases_1D_abs[:,b], label = \"t_tot =\"+str(np.round(rg_t_tot_1D[b], 1)))\n",
    "    ax[1].plot(rg_t_rise_1D, scann_phases_1D[:,b]/np.pi, label = \"t_tot =\"+str(np.round(rg_t_tot_1D[b], 1)))\n",
    "    ax[2].plot(rg_t_rise_1D, scann_max_11_1D[:,b], label = \"t_tot =\"+str(np.round(rg_t_tot_1D[b], 1)))\n",
    "        \n",
    "ax[0].set_xlabel('$t_{\\mathrm{rise}}$', fontsize = 14)\n",
    "ax[0].set_title('extra_time for t_rise at t_tot fixed')\n",
    "ax[0].legend()\n",
    "\n",
    "ax[1].set_xlabel('$t_{\\mathrm{rise}}$', fontsize = 14)\n",
    "ax[1].set_title('conditional phase / $\\pi$ at end for t_rise at t_tot fixed')\n",
    "ax[1].legend()\n",
    "\n",
    "ax[2].set_xlabel('$t_{\\mathrm{rise}}$', fontsize = 14)\n",
    "ax[2].set_title('max 11 at end for t_rise at t_tot fixed')\n",
    "ax[2].legend()\n"
   ]
  },
  {
   "cell_type": "markdown",
   "metadata": {
    "hidden": true
   },
   "source": [
    "### Study of best spot"
   ]
  },
  {
   "cell_type": "code",
   "execution_count": null,
   "metadata": {
    "hidden": true
   },
   "outputs": [],
   "source": [
    "# ind_i = 5\n",
    "# ind_j = 1\n",
    "# print(rg_t_rise_1D[ind_i])\n",
    "# scann_extra_times_1D[ind_i, ind_j], scann_phases_1D[ind_i, ind_j], scann_max_11_1D[ind_i, ind_j]\n",
    "\n",
    "# t_rise_best = rg_t_rise[ind_i]\n",
    "# t_plateau_best = rg_t_tot_1D[ind_j] - 2*rg_t_rise_1D[ind_i]\n",
    "\n",
    "t_rise_best = 17.6\n",
    "t_tot_best = 58.3\n",
    "t_plateau_best = t_tot_best - 2*t_rise_best"
   ]
  },
  {
   "cell_type": "code",
   "execution_count": null,
   "metadata": {
    "hidden": true
   },
   "outputs": [],
   "source": [
    "dt, phase_cond, max_prob = optim_drive(t_rise_best, t_plateau_best,\n",
    "           plot_proba=True, plot_phase_cond=True)"
   ]
  },
  {
   "cell_type": "code",
   "execution_count": null,
   "metadata": {
    "hidden": true
   },
   "outputs": [],
   "source": [
    "print(\"Parameters : t_plateau_best =\", t_plateau_best, \"  and t_rise_best =\", t_rise_best)\n",
    "print(\"Final phase : \", np.round(phase_cond/np.pi, 2), \"x pi\")\n",
    "print(\"proba_finale : \", max_prob*2 )"
   ]
  },
  {
   "cell_type": "markdown",
   "metadata": {
    "heading_collapsed": true,
    "hidden": true
   },
   "source": [
    "## Optimisation in t_rise and t_plateau (scipy.optimize)"
   ]
  },
  {
   "cell_type": "code",
   "execution_count": null,
   "metadata": {
    "hidden": true
   },
   "outputs": [],
   "source": [
    "def optim_drive_rise_plateau_wgt(times, eta = eta_test, pts_per_drive_period = 15,\n",
    "                                 plot_proba = False, plot_phase_cond = False, mute = True):\n",
    "    t_rise = times[0]\n",
    "    t_plateau = times[1]\n",
    "    \n",
    "    \n",
    "    deb = time.time()\n",
    "    tlist, dphi, dict_res = delta_phi_same_simu(jc = .224, \n",
    "                                      eta = eta,\n",
    "                                      freq_drive = None,\n",
    "                                      freq_drive_trans = None,\n",
    "                                      plateau_time = t_plateau,\n",
    "                                      rise_time = t_rise,\n",
    "                                      with_drive = True,\n",
    "                                      pts_per_drive_period = pts_per_drive_period,\n",
    "                                      plot_spectrum = False,\n",
    "                                      plot_proba = plot_proba, \n",
    "                                      plot_phase = False, \n",
    "                                      plot_proj = False, \n",
    "                                      plot_phase_cond = plot_phase_cond,\n",
    "                                      figsize = (12, 6),\n",
    "                                      mute = mute)\n",
    "    \n",
    "#     tlist = tlist/(2*np.pi)\n",
    "#     extra_time = tlist[-1] - tlist[2*len(tlist)//3 + np.argmax(dict_res['probs'][3][2*len(tlist)//3 :])]\n",
    "    \n",
    "    accumulated_phase_minus_pi = (dphi[-1] - dphi[0] - np.pi)%(2*np.pi) /np.pi\n",
    "    \n",
    "    leakage_11 = 1 - dict_res['probs'][3][-1]/dict_res['probs'][3][0]\n",
    "#     leakage_min = 1 - np.max(dict_res['probs'][3][2*len(tlist)//3 :])/dict_res['probs'][3][0]\n",
    "    \n",
    "    \n",
    "#     weight = leakage_11 + np.sqrt(np.abs(accumulated_phase_minus_pi)) #sqrt because increases values smaller than 1\n",
    "    weight = np.sqrt(np.abs(leakage_11)) + np.sqrt(np.abs(accumulated_phase_minus_pi))\n",
    "              \n",
    "    return weight\n",
    "\n",
    "def optim_drive_rise_tot_wgt(times, eta = eta_test, pts_per_drive_period = 15,\n",
    "                             plot_proba = False, plot_phase_cond = False, mute = True):\n",
    "    return optim_drive_rise_plateau_wgt([times[0], times[1] + 2*times[0]], eta, pts_per_drive_period,\n",
    "                                        plot_proba, plot_phase_cond, mute)"
   ]
  },
  {
   "cell_type": "code",
   "execution_count": null,
   "metadata": {
    "hidden": true
   },
   "outputs": [],
   "source": [
    "t_rise_init = 15\n",
    "t_plateau_init = 25\n",
    "t_tot_init = t_rise_init*2 + t_plateau_init\n",
    "\n",
    "init_rise_plateau = [t_rise_init, t_plateau_init]\n",
    "init_rise_tot = [t_rise_init ,t_tot_init]\n",
    "\n",
    "manual_x = [t_rise_best, t_plateau_best]\n",
    "\n",
    "deb = time.time()\n",
    "print(\"Init weight is : \", optim_drive_rise_plateau_wgt(init_rise_plateau, pts_per_drive_period = 15,\n",
    "                                                        plot_proba = False, plot_phase_cond = False))\n",
    "print(\"Best weight found before is :\", optim_drive_rise_plateau_wgt(manual_x))\n",
    "\n",
    "print(\"Loop should take about \", (time.time() - deb)/2 , \" per iteration\")"
   ]
  },
  {
   "cell_type": "code",
   "execution_count": null,
   "metadata": {
    "hidden": true,
    "scrolled": false
   },
   "outputs": [],
   "source": [
    "opt = minimize(optim_drive_rise_plateau_wgt, init_rise_plateau,\n",
    "               method='L-BFGS-B',\n",
    "               bounds=[(3, 40), (13, 80)],\n",
    "               callback = quality_indices_rise_plateau,\n",
    "               options={'iprint' : 1000,  'maxfun' : 40}\n",
    "              )\n",
    "\n",
    "#to param by rise and tot (because for same total time, leakage is similar)\n",
    "# opt = minimize(optim_drive_rise_tot, init_rise_tot,\n",
    "#                method='trust-constr',\n",
    "#                bounds=[(0, 100), (0, 100)],\n",
    "#                options={'verbose': 2, 'maxiter' : 240}\n",
    "#               )\n",
    "\n",
    "print(opt.message)\n",
    "%notify"
   ]
  },
  {
   "cell_type": "code",
   "execution_count": null,
   "metadata": {
    "hidden": true
   },
   "outputs": [],
   "source": [
    "print(opt.message)"
   ]
  },
  {
   "cell_type": "code",
   "execution_count": null,
   "metadata": {
    "hidden": true
   },
   "outputs": [],
   "source": [
    "wgt_opt = opt.fun\n",
    "\n",
    "t_rise_opt = opt.x[0]\n",
    "t_plateau_opt = opt.x[1]\n",
    "t_tot_opt = t_rise_opt*2  +  t_plateau_opt\n",
    "\n",
    "print(\"Optimized value gives of :\", wgt_opt, \"\\nFor t_rise =\", t_rise_opt,\n",
    "                                              \" and t_plateau =\", t_plateau_opt, \n",
    "                                             \" \\nSo t_tot =\", t_tot_opt)"
   ]
  },
  {
   "cell_type": "code",
   "execution_count": null,
   "metadata": {
    "hidden": true
   },
   "outputs": [],
   "source": [
    "def quality_indices_rise_plateau(times, eta = eta_test, plot_proba = False, plot_phase_cond = False, mute = True):\n",
    "    t_rise = times[0]\n",
    "    t_plateau = times[1]\n",
    "    \n",
    "    \n",
    "    deb = time.time()\n",
    "    tlist, dphi, dict_res = delta_phi_same_simu(jc = .224, \n",
    "                                      eta = eta,\n",
    "                                      freq_drive = None,\n",
    "                                      freq_drive_trans = None,\n",
    "                                      plateau_time = t_plateau,\n",
    "                                      rise_time = t_rise,\n",
    "                                      with_drive = True,\n",
    "                                      pts_per_drive_period = 15,\n",
    "                                      plot_spectrum = False,\n",
    "                                      plot_proba = plot_proba, \n",
    "                                      plot_phase = False, \n",
    "                                      plot_proj = False, \n",
    "                                      plot_phase_cond = plot_phase_cond,\n",
    "                                      figsize = (12, 6),\n",
    "                                      mute = mute)\n",
    "    \n",
    "    tlist = tlist/(2*np.pi)\n",
    "    extra_time = tlist[-1] - tlist[2*len(tlist)//3 + np.argmax(dict_res['probs'][3][2*len(tlist)//3 :])]\n",
    "    \n",
    "    acc_phase = (dphi[-1] - dphi[0])%(2*np.pi)\n",
    "    \n",
    "    leakage_11 = 1 - dict_res['probs'][3][-1]/dict_res['probs'][3][0]\n",
    "#     leakage_min = 1 - np.max(dict_res['probs'][3][2*len(tlist)//3 :])/dict_res['probs'][3][0]\n",
    "    \n",
    "    \n",
    "#     if not mute :\n",
    "    print(\"leakage of 11 =\", leakage_11)  #must go to 0\n",
    "    print(\"accumulated phase / \\pi: \", acc_phase/np.pi)  #must go to pi (or -pi)\n",
    "\n",
    "#     print(\"It took \", time.time() - deb , \"seconds\")\n",
    "              \n",
    "    return acc_phase/np.pi, leakage_11, extra_time\n",
    "\n",
    "def  quality_indices_rise_tot(times, eta = eta_test, plot_proba = False, plot_phase_cond = False, mute = True):\n",
    "    return  quality_indices_rise_plateau([times[0], times[1] + 2*times[0]], \n",
    "                                         eta = eta_test, plot_proba = False, plot_phase_cond = False, mute = True)"
   ]
  },
  {
   "cell_type": "code",
   "execution_count": null,
   "metadata": {
    "hidden": true
   },
   "outputs": [],
   "source": [
    "init_rise_plateau = [t_rise_init, t_plateau_init]\n",
    "init_rise_tot = [t_rise_init ,t_plateau_init]\n",
    "init_rise_opt = [t_rise_opt ,t_plateau_opt]\n",
    "\n",
    "def print_quality(t_rise, t_plateau, name):\n",
    "    acc_phase, leakage, extra_time =  quality_indices_rise_plateau([t_rise, t_plateau])\n",
    "    print(\"The \"+name+\" parameters are : t_rise =\", t_rise, \" ; t_plateau =\", t_plateau,\n",
    "          \"\\nThe quality indices are : acc_phase/pi =\", acc_phase, \" ; leakage_11 =\", \n",
    "          leakage*100, \"% ; extra_time =\", extra_time)\n",
    "\n",
    "print_quality(t_rise_init, t_plateau_init, 'init')\n",
    "print(\"\\n ----- \\n\")\n",
    "print_quality(t_rise_best, t_plateau_best, 'manually obainted best')\n",
    "print(\"\\n ----- \\n\")\n",
    "print_quality(t_rise_opt, t_plateau_opt, 'algorithmically optimized')"
   ]
  },
  {
   "cell_type": "markdown",
   "metadata": {
    "heading_collapsed": true,
    "hidden": true
   },
   "source": [
    "## Analysis of best case scenario"
   ]
  },
  {
   "cell_type": "code",
   "execution_count": null,
   "metadata": {
    "hidden": true
   },
   "outputs": [],
   "source": [
    "deb = time.time()\n",
    "\n",
    "tlist, dphi, dict_res = delta_phi_same_simu(jc = .224, \n",
    "                                  eta = eta_test,\n",
    "                                  freq_drive = None,\n",
    "                                  freq_drive_trans = None,\n",
    "                                  plateau_time = t_plateau_opt,\n",
    "                                  rise_time = t_rise_opt,\n",
    "                                  with_drive = True,\n",
    "                                  pts_per_drive_period = 15,\n",
    "                                  plot_spectrum = False,\n",
    "                                  plot_proba = True, \n",
    "                                  plot_phase = False, \n",
    "                                  plot_proj = False, \n",
    "                                  plot_phase_cond = True,\n",
    "                                  mute = False,\n",
    "                                  figsize = (12, 6))\n",
    "\n",
    "print(\"It took \", time.time() - deb , \"seconds\")"
   ]
  },
  {
   "cell_type": "code",
   "execution_count": null,
   "metadata": {
    "hidden": true
   },
   "outputs": [],
   "source": [
    "plt.figure()\n",
    "plt.plot(dict_res['tlist']/(2*np.pi), dict_res['probs'][3])"
   ]
  },
  {
   "cell_type": "markdown",
   "metadata": {
    "heading_collapsed": true,
    "hidden": true
   },
   "source": [
    "## Impact of errors in parameters"
   ]
  },
  {
   "cell_type": "code",
   "execution_count": null,
   "metadata": {
    "hidden": true
   },
   "outputs": [],
   "source": [
    "def test_entry_errors(x, nb_tests, test_function, error_function, error_str, title_names = [], plot = False): \n",
    "    '''error_function takes no ergument and \n",
    "            returns a array of same size as x that  will be applied to x (for no error : it returns only ones)\n",
    "            \n",
    "        test_function is the function thta takes x in argument and returns the quantities of interest'''\n",
    "    \n",
    "    entry_param = np.zeros((nb_tests, len(x)))\n",
    "    quality_indices = np.zeros((nb_tests, len(test_function(x))))\n",
    "    \n",
    "    if plot: #before long calculations to save time\n",
    "        assert len(title_names) == 2\n",
    "        assert len(title_names[0]) == len(entry_param[0])\n",
    "        assert len(title_names[1]) == len(quality_indices[0])\n",
    "        \n",
    "    for a in range(nb_tests):\n",
    "        entry_param[a, :] = error_function() * np.array(x)\n",
    "        quality_indices[a,:] = test_function(entry_param[a,:])\n",
    "        \n",
    "    if plot:\n",
    "        fig, ax = plt.subplots(1, len(entry_param[0]), figsize = (12, 5))\n",
    "        fig.suptitle(\"Repartition diagrams for \"+ error_str +\" in the entry parameters and \" + str(nb_tests)+ \" iterations\")\n",
    "        for k in range(len(entry_param[0])):\n",
    "            ax[k].hist(entry_param[:, k], bins='auto')#,histtype='step',)\n",
    "            ax[k].set_title(title_names[0][k])\n",
    "        plt.show()\n",
    "\n",
    "\n",
    "        fig, ax = plt.subplots(1, len(entry_param[1]), figsize = (12, 5))\n",
    "        fig.suptitle(\"Repartition diagrams for \"+ error_str +\" in the entry parameters and \" + str(nb_tests)+ \" iterations\")\n",
    "        for k in range(len(entry_param[1])):\n",
    "            ax[k].hist(quality_indices[:, k], bins='auto')#,histtype='step',)\n",
    "            ax[k].set_title(title_names[1][k])\n",
    "        plt.show()\n",
    "        \n",
    "    return entry_param, quality_indices"
   ]
  },
  {
   "cell_type": "code",
   "execution_count": null,
   "metadata": {
    "hidden": true
   },
   "outputs": [],
   "source": [
    "sigma = .05\n",
    "def gaussian_error_rise_plateau():\n",
    "    return np.random.normal(loc = 1, scale = sigma, size = 2)\n",
    "\n",
    "names = [[\"t_rise\", \"t_plateau\"], [\"acc_phase\", \"leakage_11\", \"extra_time\"]]\n",
    "error_str = \"a gaussian error of sigma =\"+str(sigma)\n",
    "\n",
    "time_param, qual_ind  = test_entry_errors(x = [t_rise_opt, t_plateau_opt],\n",
    "                                             nb_tests = 100, \n",
    "                                             test_function = quality_indices_rise_plateau,\n",
    "                                             error_function = gaussian_error_rise_plateau,\n",
    "                                             error_str = error_str,\n",
    "                                             title_names = names, \n",
    "                                             plot = True)"
   ]
  },
  {
   "cell_type": "code",
   "execution_count": null,
   "metadata": {
    "hidden": true
   },
   "outputs": [],
   "source": [
    "entry_param = time_param\n",
    "quality_indices = qual_ind\n",
    "\n",
    "fig, ax = plt.subplots(1, len(entry_param[0]), figsize = (12, 5))\n",
    "fig.suptitle(\"Repartition diagrams for \"+ error_str +\" in the entry parameters and \" + str(nb_tests)+ \" iterations\")\n",
    "for k in range(len(entry_param[0])):\n",
    "    ax[k].hist(entry_param[:, k], bins='auto')#,histtype='step',)\n",
    "    ax[k].set_title(names[0][k])\n",
    "plt.show()\n",
    "\n",
    "\n",
    "fig, ax = plt.subplots(1, len(quality_indices[1]), figsize = (12, 5))\n",
    "fig.suptitle(\"Repartition diagrams for \"+ error_str +\" in the entry parameters and \" + str(nb_tests)+ \" iterations\")\n",
    "for k in range(len(quality_indices[1])):\n",
    "    ax[k].hist(quality_indices[:, k], bins='auto')#,histtype='step',)\n",
    "    ax[k].set_title(names[1][k])\n",
    "plt.show()"
   ]
  },
  {
   "cell_type": "code",
   "execution_count": null,
   "metadata": {
    "hidden": true,
    "scrolled": false
   },
   "outputs": [],
   "source": [
    "fig, ax = plt.subplots(len(quality_indices[0]), len(entry_param[0])+1, figsize = (12, 12))\n",
    "fig.suptitle(\"Repartition diagrams for \"+ error_str +\" in the entry parameters and \" + str(nb_tests)+ \" iterations\")\n",
    "for k in range(len(entry_param[0])):\n",
    "    for l in range(len(quality_indices[0])):\n",
    "        ax[l, k].scatter(entry_param[:, k], quality_indices[:, l])\n",
    "        ax[l, k].set_xlabel(names[0][k])\n",
    "        ax[l, k].set_ylabel(names[1][l])\n",
    "        \n",
    "for l in range(len(quality_indices[0])):\n",
    "        ax[l, 2].scatter(2*entry_param[:, 0] + entry_param[:, 1], quality_indices[:, l])\n",
    "        ax[l, 2].set_xlabel(\"t_tot\")\n",
    "        ax[l, 2].set_ylabel(names[1][l])\n",
    "plt.show()"
   ]
  },
  {
   "cell_type": "code",
   "execution_count": null,
   "metadata": {
    "hidden": true
   },
   "outputs": [],
   "source": [
    "%notify"
   ]
  },
  {
   "cell_type": "markdown",
   "metadata": {
    "heading_collapsed": true
   },
   "source": [
    "# Tomography (not tackled yet)"
   ]
  },
  {
   "cell_type": "code",
   "execution_count": null,
   "metadata": {
    "hidden": true
   },
   "outputs": [],
   "source": [
    "def gate_function(state_in, **kwargs):\n",
    "    t_points = kwargs['t_points']\n",
    "    tlist = np.linspace(0, kwargs['t_max'], t_points)\n",
    "    rho_in = state_in*state_in.dag()\n",
    "    hamil0 = kwargs['hamil0']\n",
    "    hamil_drive = kwargs['hamil_drive']\n",
    "                                  \n",
    "    pulse_drive = np.cos(kwargs['freq_drive']*tlist)\n",
    "\n",
    "    result = solvkit.integrate(tlist, state_in, hamil0, [hamil_drive], [pulse_drive], [], \"mesolve\")\n",
    "\n",
    "    end_state = result.states[-1]\n",
    "    return end_state"
   ]
  },
  {
   "cell_type": "code",
   "execution_count": null,
   "metadata": {
    "hidden": true
   },
   "outputs": [],
   "source": [
    "param_dict = {\n",
    "    't_points' : 10000 ,\n",
    "    't_max' : t_drive,\n",
    "    'hamil0' : coupled_flx.hamiltonian(as_qobj=True),\n",
    "    'hamil_drive' : qtp.Qobj(inpt=eta[0]*n_charge[0] + eta[1]*n_charge[1], \n",
    "                       dims=hamil0.dims, shape=hamil0.shape, isherm=True),\n",
    "    'freq_drive' : freq_drive\n",
    "}"
   ]
  },
  {
   "cell_type": "code",
   "execution_count": null,
   "metadata": {
    "hidden": true
   },
   "outputs": [],
   "source": [
    "import pysqkit.tomography.utilsTomo as tomo"
   ]
  },
  {
   "cell_type": "code",
   "execution_count": null,
   "metadata": {
    "hidden": true
   },
   "outputs": [],
   "source": [
    "fct = tomo.rid_of_dict(gate_function,param_dict)\n",
    "nb_levels = [3,3]"
   ]
  },
  {
   "cell_type": "code",
   "execution_count": null,
   "metadata": {
    "hidden": true
   },
   "outputs": [],
   "source": [
    "deb =  time.time()\n",
    "lambda_mat = tomo.fct_to_lambda(fct, nb_levels, draw_lambda = True)\n",
    "print(\"It took\" , time.time() - deb, \"seconds\")"
   ]
  },
  {
   "cell_type": "code",
   "execution_count": null,
   "metadata": {
    "hidden": true
   },
   "outputs": [],
   "source": [
    "deb =  time.time()\n",
    "chi_mat = tomo.lambda_to_chi(lambda_mat, nb_levels, draw_chi = True )\n",
    "print(\"It took\" , time.time() - deb, \"seconds\")"
   ]
  },
  {
   "cell_type": "code",
   "execution_count": null,
   "metadata": {
    "hidden": true
   },
   "outputs": [],
   "source": [
    "lambda_mat_2lev = np.zeros((16, 16))*1j\n",
    "\n",
    "for i in range(16):\n",
    "    for j in range(16):\n",
    "        ani, bni, ami, bmi = tomo._n_th([2, 2, 2, 2], i) #i is |ani bni><ami bmi|\n",
    "        anj, bnj, amj, bmj = tomo._n_th([2, 2, 2, 2], j)\n",
    "        \n",
    "        lambda_mat_2lev[i,j] = lambda_mat[ani*27 + bni * 9 + ami * 3 + bmi][anj*27 + bnj * 9 + amj* 3 + bmj]"
   ]
  },
  {
   "cell_type": "code",
   "execution_count": null,
   "metadata": {
    "hidden": true
   },
   "outputs": [],
   "source": [
    "tomo.draw_mat(lambda_mat_2lev, \"\\lambda^2\")"
   ]
  },
  {
   "cell_type": "code",
   "execution_count": null,
   "metadata": {
    "hidden": true
   },
   "outputs": [],
   "source": [
    "chi_mat_2lev = tomo.lambda_to_chi(lambda_mat_2lev, [2,2], draw_chi = True)\n",
    "\n",
    "chi_CZ = np.zeros((16,16))\n",
    "chi_CZ[0,0] = 1\n",
    "chi_CZ[0,3] = 1\n",
    "chi_CZ[3,0] = 1\n",
    "chi_CZ[3,3] = 1\n",
    "\n",
    "chi_CZ[0,12] = 1\n",
    "chi_CZ[3,12] = 1\n",
    "chi_CZ[0,15] = -1\n",
    "chi_CZ[3,15] = -1\n",
    "\n",
    "chi_CZ[12,12] = 1\n",
    "chi_CZ[15,12] = -1\n",
    "chi_CZ[12,15] = -1\n",
    "chi_CZ[15,15] = 1\n",
    "\n",
    "chi_CZ[12,0] = 1\n",
    "chi_CZ[12,3] = 1\n",
    "chi_CZ[15,0] = -1\n",
    "chi_CZ[15,3] = -1\n",
    "\n",
    "tomo.draw_mat(chi_CZ, \"\\chi^{CZ}\")"
   ]
  }
 ],
 "metadata": {
  "kernelspec": {
   "display_name": "Python 3",
   "language": "python",
   "name": "python3"
  },
  "language_info": {
   "codemirror_mode": {
    "name": "ipython",
    "version": 3
   },
   "file_extension": ".py",
   "mimetype": "text/x-python",
   "name": "python",
   "nbconvert_exporter": "python",
   "pygments_lexer": "ipython3",
   "version": "3.7.10"
  },
  "toc": {
   "base_numbering": 1,
   "nav_menu": {},
   "number_sections": true,
   "sideBar": true,
   "skip_h1_title": false,
   "title_cell": "Table of Contents",
   "title_sidebar": "Contents",
   "toc_cell": false,
   "toc_position": {
    "height": "calc(100% - 180px)",
    "left": "10px",
    "top": "150px",
    "width": "233.333px"
   },
   "toc_section_display": true,
   "toc_window_display": false
  }
 },
 "nbformat": 4,
 "nbformat_minor": 4
}
