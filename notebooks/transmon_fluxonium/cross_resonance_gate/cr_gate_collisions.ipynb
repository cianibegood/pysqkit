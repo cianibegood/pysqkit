{
 "cells": [
  {
   "cell_type": "markdown",
   "metadata": {},
   "source": [
    "# Cross-resonance gate between a transmon and a fluxonium: driving fluxonium\n",
    "\n",
    "In this notebook we study the cross-resonance two-qubit gate between a transmon and a fluxonium. "
   ]
  },
  {
   "cell_type": "code",
   "execution_count": 1,
   "metadata": {},
   "outputs": [
    {
     "name": "stderr",
     "output_type": "stream",
     "text": [
      "/Users/boris/.pyenv/versions/3.8.2/lib/python3.8/site-packages/qutip/__init__.py:59: UserWarning: Old version of Cython detected: needed 0.29.20, got 0.29.16.\n",
      "  warnings.warn(\n"
     ]
    }
   ],
   "source": [
    "import numpy as np\n",
    "from collections import defaultdict\n",
    "import scipy.integrate\n",
    "import time\n",
    "import qutip as qtp\n",
    "from scipy.optimize import minimize\n",
    "import pysqkit\n",
    "from pysqkit import QubitSystem\n",
    "from pysqkit.drives.pulse_shapes import gaussian_top\n",
    "from pysqkit.util.metrics import average_process_fidelity, \\\n",
    "    average_gate_fidelity\n",
    "from pysqkit.util.phys import temperature_to_thermalenergy\n",
    "import pysqkit.util.transformations as trf\n",
    "from pysqkit.util.linalg import get_mat_elem\n",
    "from pysqkit.util.hsbasis import weyl_by_index\n",
    "import cmath\n",
    "import multiprocessing\n",
    "from functools import partial\n",
    "import json\n",
    "from typing import List, Dict, Callable\n",
    "import matplotlib\n",
    "matplotlib.rcParams['mathtext.fontset'] = 'cm'\n",
    "import util_cr as util"
   ]
  },
  {
   "cell_type": "code",
   "execution_count": 2,
   "metadata": {},
   "outputs": [],
   "source": [
    "def extract_params(\n",
    "    transmon: pysqkit.Qubit, \n",
    "    fluxonium: pysqkit.Qubit,\n",
    "    coup_strength: float,\n",
    "    eps_drive: float,\n",
    ") -> Dict[str, float]:\n",
    "    \"\"\"\n",
    "    Description\n",
    "    --------------------------------------------------------------\n",
    "    Returns the transition frequencies that lead to frequency collisions.\n",
    "    \"\"\"\n",
    "    coupled_levels = dict(\n",
    "        F = [(\"0\", \"1\"), (\"0\", \"2\"), (\"0\", \"3\"), (\"0\", \"4\"), (\"0\", \"5\"), (\"1\", \"2\"), (\"1\", \"3\"), (\"1\", \"4\"), (\"1\", \"5\")],\n",
    "        T = [(\"0\", \"1\"), (\"1\", \"2\"), (\"0\", \"2\")]\n",
    "    )\n",
    "    \n",
    "    coupled_sys = transmon.couple_to(\n",
    "        fluxonium, \n",
    "        coupling=pysqkit.couplers.capacitive_coupling, \n",
    "        strength=coup_strength,\n",
    "    )\n",
    "    \n",
    "    comp_states = {}\n",
    "    for label in [\"00\", \"01\", \"10\", \"11\"]:\n",
    "        state_tmp = coupled_sys.state(label)[1]\n",
    "        \n",
    "        loc = np.argmax(np.abs(state_tmp))\n",
    "        phase = cmath.phase(state_tmp[loc])\n",
    "        state_tmp = np.exp(-1j*phase)*state_tmp\n",
    "        comp_states[label] = state_tmp\n",
    "\n",
    "    results = dict(\n",
    "    )\n",
    "    for qubit in (transmon, fluxonium):\n",
    "        label = qubit.label\n",
    "        \n",
    "        for level_i, level_j in coupled_levels[label]:\n",
    "            freq_i = qubit.state(level_i)[0]\n",
    "            freq_j = qubit.state(level_j)[0]\n",
    "            trans_freq = freq_j - freq_i\n",
    "            results[f\"{label}_freq_{level_i}_{level_j}\"] = trans_freq\n",
    "\n",
    "    return results"
   ]
  },
  {
   "cell_type": "code",
   "execution_count": 3,
   "metadata": {},
   "outputs": [],
   "source": [
    "def mu_yz_flx(comp_states, op) -> float:\n",
    "    yz0 = get_mat_elem(op, comp_states['00'], comp_states['10'])\n",
    "    yz1 = get_mat_elem(op, comp_states['01'], comp_states['11'] )\n",
    "    return (np.imag(yz0 - yz1))/2\n",
    "\n",
    "def mu_yi_flx(comp_states, op) -> float:\n",
    "    yz0 = get_mat_elem(op, comp_states['00'], comp_states['10'] )\n",
    "    yz1 = get_mat_elem(op, comp_states['01'], comp_states['11'] )\n",
    "    return (np.imag(yz0 + yz1))/2"
   ]
  },
  {
   "cell_type": "code",
   "execution_count": 4,
   "metadata": {},
   "outputs": [],
   "source": [
    "def func_to_minimize(\n",
    "    pulse_time: list,\n",
    "    t_rise: float,\n",
    "    eps: float\n",
    ") -> float:\n",
    "    step = 1e-3\n",
    "    n_points = int(pulse_time[0]/step)\n",
    "    times = np.linspace(0, pulse_time[0], n_points)\n",
    "    pulse = gaussian_top(times, t_rise, pulse_time[0])\n",
    "    integral = scipy.integrate.simpson(2*np.pi*eps*pulse, times)\n",
    "    return np.abs(integral - np.pi/2) "
   ]
  },
  {
   "cell_type": "code",
   "execution_count": 5,
   "metadata": {},
   "outputs": [],
   "source": [
    "def cry(theta):\n",
    "    ide = np.identity(4)\n",
    "    yz = np.kron(np.array([[0, -1j], [1j, 0]]), np.array([[1, 0], [0, -1]]))\n",
    "    return np.cos(theta/2)*ide - 1j*np.sin(theta/2)*yz\n",
    "\n",
    "def crx(theta):\n",
    "    ide = np.identity(4)\n",
    "    zx = np.kron(np.array([[0, 1], [1, 0]]), np.array([[1, 0], [0, -1]]))\n",
    "    return np.cos(theta/2)*ide - 1j*np.sin(theta/2)*zx\n",
    "\n",
    "def ry(theta):\n",
    "    rot_y = np.cos(theta/2)*np.identity(2) - \\\n",
    "        1j*np.sin(theta/2)*np.array([[0, -1j], [1j, 0]])\n",
    "    return np.kron(rot_y, np.identity(2))"
   ]
  },
  {
   "cell_type": "code",
   "execution_count": 6,
   "metadata": {},
   "outputs": [],
   "source": [
    "def get_comp_states(coupled_sys):\n",
    "    state_label = [\"00\", \"01\", \"10\", \"11\"]\n",
    "    \n",
    "    comp_states = {}\n",
    "    for label in state_label:\n",
    "        state_tmp = coupled_sys.state(label)[1]\n",
    "        loc = np.argmax(np.abs(state_tmp))\n",
    "        phase = cmath.phase(state_tmp[loc])\n",
    "        state_tmp = np.exp(-1j*phase)*state_tmp\n",
    "        comp_states[label] = state_tmp\n",
    "\n",
    "    return comp_states"
   ]
  },
  {
   "cell_type": "code",
   "execution_count": 7,
   "metadata": {},
   "outputs": [],
   "source": [
    "def get_leakage(\n",
    "    gate_time: float, \n",
    "    system: QubitSystem,\n",
    "    t_rise: float,\n",
    "    eps_drive:float,\n",
    "    freq_drive: float,\n",
    "    comp_states_list: List \n",
    "):\n",
    "    pts_per_drive_period = 5.0\n",
    "\n",
    "    nb_points = int(gate_time*freq_drive*pts_per_drive_period)\n",
    "    tlist = np.linspace(0, gate_time, nb_points)\n",
    "\n",
    "    system['F'].drives['cr_drive_f'].set_params(phase=0, \n",
    "                                                time=tlist, \n",
    "                                                rise_time=t_rise, \n",
    "                                                pulse_time=gate_time, \n",
    "                                                amp=eps_drive, \n",
    "                                                freq=freq_drive)\n",
    "    \n",
    "    simu_opt = qtp.solver.Options()\n",
    "    simu_opt.atol = 1e-12\n",
    "    simu_opt.rtol = 1e-10\n",
    "\n",
    "    env_syst = pysqkit.tomography.TomoEnv(system=system, \n",
    "                                          time=2*np.pi*tlist, \n",
    "                                          options=simu_opt, \n",
    "                                          with_noise=False)\n",
    "    env_syst_noise = pysqkit.tomography.TomoEnv(system=system, \n",
    "                                          time=2*np.pi*tlist, \n",
    "                                          options=simu_opt, \n",
    "                                          with_noise=True)\n",
    "    \n",
    "    #n_process = 1\n",
    "    avg_leakage = env_syst.leakage(comp_states_list)\n",
    "    avg_leakage_noise = env_syst_noise.leakage(comp_states_list)\n",
    "    \n",
    "    result = {\"gate_time\": gate_time,\n",
    "             \"avg_leakage\": avg_leakage, \n",
    "             \"avg_leakage_noise\": avg_leakage_noise}\n",
    "    \n",
    "    return result    "
   ]
  },
  {
   "cell_type": "markdown",
   "metadata": {
    "heading_collapsed": true
   },
   "source": [
    "# Introducing the qubits and the coupled system"
   ]
  },
  {
   "cell_type": "code",
   "execution_count": 8,
   "metadata": {},
   "outputs": [],
   "source": [
    "with open('../flx_transm_params.txt') as param_file:\n",
    "    parameters_set = json.load(param_file)"
   ]
  },
  {
   "cell_type": "code",
   "execution_count": 9,
   "metadata": {
    "hidden": true
   },
   "outputs": [],
   "source": [
    "temperature = 0.020 #0.020 # K\n",
    "thermal_energy = temperature_to_thermalenergy(temperature) # kb T/h in GHz\n",
    "d_comp = 4\n",
    "\n",
    "p_set = \"2\"\n",
    "\n",
    "#Transmon\n",
    "levels_t = 3\n",
    "transm = pysqkit.qubits.SimpleTransmon(\n",
    "    label='T', \n",
    "    max_freq=parameters_set[p_set][\"max_freq_t\"] + 0.84, \n",
    "    anharm=parameters_set[p_set][\"anharm_t\"],\n",
    "    diel_loss_tan=parameters_set[p_set][\"diel_loss_tan_t\"], #set to zero to check d_1 L1 = d_2 L2\n",
    "    env_thermal_energy=thermal_energy,    \n",
    "    dim_hilbert=levels_t,\n",
    "    dephasing_times=None #parameters_set[p_set][\"dephasing_times_t\"]\n",
    ")\n",
    "\n",
    "#Fluxonium\n",
    "levels_f = 6\n",
    "\n",
    "flx = pysqkit.qubits.Fluxonium(\n",
    "    label='F', \n",
    "    charge_energy=parameters_set[p_set][\"charge_energy_f\"], \n",
    "    induct_energy=parameters_set[p_set][\"induct_energy_f\"], \n",
    "    joseph_energy=parameters_set[p_set][\"joseph_energy_f\"], #8.0, \n",
    "    diel_loss_tan=parameters_set[p_set][\"diel_loss_tan_f\"], #set to zero to check d_1 L1 = d_2 L2\n",
    "    env_thermal_energy=thermal_energy,\n",
    "    dephasing_times=None #parameters_set[p_set][\"dephasing_times_f\"] #ns/2*np.pi \n",
    ")\n",
    "flx.diagonalize_basis(levels_f)\n",
    "\n",
    "# We also add a drive on the fluxonium\n",
    "flx.add_drive(\n",
    "    pysqkit.drives.microwave_drive,\n",
    "    label='cr_drive_f',\n",
    "    pulse=pysqkit.drives.pulses.cos_modulation,\n",
    "    pulse_shape=pysqkit.drives.pulse_shapes.gaussian_top\n",
    ")\n",
    "\n",
    "d_leak = levels_t*levels_f - d_comp\n",
    "\n",
    "jc = parameters_set[p_set][\"jc\"]\n",
    "coupled_sys = transm.couple_to(flx, coupling=pysqkit.couplers.capacitive_coupling, strength=jc)"
   ]
  },
  {
   "cell_type": "code",
   "execution_count": 10,
   "metadata": {},
   "outputs": [],
   "source": [
    "eps_drive = 0.6 #GHz\n",
    "q_op = coupled_sys[\"F\"].charge_op()\n",
    "freq_drive = transm.max_freq\n",
    "t_rise = 10.0 # [ns]\n",
    "t_tot_0 = [40.0]\n",
    "comp_states = get_comp_states(coupled_sys)\n",
    "args_to_pass = (t_rise, np.abs(mu_yz_flx(comp_states, q_op))*eps_drive) \n",
    "minimization_result = minimize(func_to_minimize, t_tot_0, args=args_to_pass)\n",
    "t_tot = minimization_result['x'][0]"
   ]
  },
  {
   "cell_type": "code",
   "execution_count": 11,
   "metadata": {},
   "outputs": [],
   "source": [
    "transmon_freqs = np.linspace(3, 8, 200)"
   ]
  },
  {
   "cell_type": "code",
   "execution_count": 14,
   "metadata": {},
   "outputs": [],
   "source": [
    "scan_results = defaultdict(list)\n",
    "\n",
    "for transmon_freq in transmon_freqs:\n",
    "    transm = pysqkit.qubits.SimpleTransmon(\n",
    "        label='T', \n",
    "        max_freq = transmon_freq, \n",
    "        anharm=parameters_set[p_set][\"anharm_t\"],\n",
    "        diel_loss_tan=parameters_set[p_set][\"diel_loss_tan_t\"],\n",
    "        env_thermal_energy=thermal_energy,    \n",
    "        dim_hilbert=levels_t,\n",
    "        dephasing_times=None\n",
    "    )\n",
    "    \n",
    "    coupled_sys = transm.couple_to(\n",
    "        flx, \n",
    "        coupling=pysqkit.couplers.capacitive_coupling, \n",
    "        strength=jc\n",
    "    )\n",
    "    \n",
    "    q_op = coupled_sys[\"F\"].charge_op()\n",
    "    \n",
    "    comp_states = get_comp_states(coupled_sys)\n",
    "    comp_states_list = list(comp_states.values())\n",
    "    \n",
    "    args_to_pass = (t_rise, np.abs(mu_yz_flx(comp_states, q_op))*eps_drive/2) #factor of two seems right here\n",
    "    try:\n",
    "        minimization_result = minimize(func_to_minimize, t_tot_0, args=args_to_pass)\n",
    "        gate_time = minimization_result['x'][0] #1/(util.y_z_flx(coupled_sys, 'F')*eps_drive*4)  # [ns]\n",
    "    except ValueError:\n",
    "        scan_results[\"gate_time\"].append(np.nan)\n",
    "        scan_results[\"avg_leakage\"].append(np.nan)\n",
    "        scan_results[\"avg_leakage_noise\"].append(np.nan)    \n",
    "    \n",
    "    try:\n",
    "        result = get_leakage(\n",
    "            gate_time = gate_time, \n",
    "            system = coupled_sys,\n",
    "            t_rise = t_rise,\n",
    "            eps_drive = eps_drive,\n",
    "            freq_drive = transm.max_freq,\n",
    "            comp_states_list=comp_states_list\n",
    "        )\n",
    "\n",
    "        for key, val in result.items():\n",
    "            scan_results[key].append(val)\n",
    "    except ValueError:\n",
    "        scan_results[\"gate_time\"].append(gate_time)\n",
    "        scan_results[\"avg_leakage\"].append(np.nan)\n",
    "        scan_results[\"avg_leakage_noise\"].append(np.nan)"
   ]
  },
  {
   "cell_type": "code",
   "execution_count": 47,
   "metadata": {},
   "outputs": [],
   "source": [
    "import matplotlib.pyplot as plt\n",
    "from copy import deepcopy\n",
    "\n",
    "filtered_res = defaultdict(list)\n",
    "\n",
    "prev = None\n",
    "n = len(scan_results[\"gate_time\"]) \n",
    "keys = list(scan_results.keys())\n",
    "for i in range(n):\n",
    "    if prev is not np.nan:\n",
    "        for key in keys:\n",
    "            filtered_res[key].append(scan_results[key][i])\n",
    "    prev = scan_results[\"gate_time\"][i]"
   ]
  },
  {
   "cell_type": "code",
   "execution_count": 12,
   "metadata": {},
   "outputs": [],
   "source": [
    "params = extract_params(transm, flx, jc, eps_drive)"
   ]
  },
  {
   "cell_type": "code",
   "execution_count": 13,
   "metadata": {},
   "outputs": [
    {
     "data": {
      "text/plain": [
       "{'T_freq_0_1': 5.34,\n",
       " 'T_freq_1_2': 5.039999999999999,\n",
       " 'T_freq_0_2': 10.379999999999999,\n",
       " 'F_freq_0_1': 0.5818489963974245,\n",
       " 'F_freq_0_2': 3.970435554849514,\n",
       " 'F_freq_0_3': 6.574488472163292,\n",
       " 'F_freq_0_4': 9.86447323618929,\n",
       " 'F_freq_0_5': 13.229087316443394,\n",
       " 'F_freq_1_2': 3.3885865584520896,\n",
       " 'F_freq_1_3': 5.992639475765868,\n",
       " 'F_freq_1_4': 9.282624239791867,\n",
       " 'F_freq_1_5': 12.64723832004597}"
      ]
     },
     "execution_count": 13,
     "metadata": {},
     "output_type": "execute_result"
    }
   ],
   "source": [
    "params"
   ]
  },
  {
   "cell_type": "code",
   "execution_count": 123,
   "metadata": {
    "scrolled": false
   },
   "outputs": [
    {
     "data": {
      "image/png": "[encoded data removed]",
      "text/plain": [
       "<Figure size 900x600 with 2 Axes>"
      ]
     },
     "metadata": {
      "needs_background": "light"
     },
     "output_type": "display_data"
    }
   ],
   "source": [
    "fig, (time_ax, leak_ax) = plt.subplots(nrows=2, sharex=True, dpi=150)\n",
    "time_ax.plot(transmon_freqs, filtered_res[\"gate_time\"])\n",
    "time_ax.set_ylabel(\"Gate time (ns)\")\n",
    "\n",
    "leak_ax.plot(transmon_freqs, filtered_res[\"avg_leakage_noise\"])\n",
    "\n",
    "leak_ax.axvline(params[\"F_freq_1_2\"], color=\"orange\", linestyle=\"--\")\n",
    "leak_ax.text(params[\"F_freq_1_2\"], 0.15,r'$\\omega_{f, 12}$',rotation=-90)\n",
    "\n",
    "leak_ax.axvline(params[\"F_freq_0_3\"], color=\"orange\", linestyle=\"--\")\n",
    "leak_ax.text(params[\"F_freq_0_3\"], 0.15,r'$\\omega_{f, 03}$',rotation=-90)\n",
    "\n",
    "leak_ax.axvline(params[\"F_freq_0_4\"]/2, color=\"orange\", linestyle=\"--\")\n",
    "leak_ax.text(params[\"F_freq_0_4\"]/2, 0.15,r'$\\omega_{f, 04}/2$',rotation=-90)\n",
    "\n",
    "leak_ax.axvline(transmon_freqs[55], color=\"red\", linestyle=\"--\") \n",
    "\n",
    "leak_ax.set_ylabel(\"Leakage\")\n",
    "leak_ax.set_xlabel(\"Transmon frequency (GHz)\")\n",
    "plt.tight_layout()\n",
    "plt.show()"
   ]
  },
  {
   "cell_type": "code",
   "execution_count": 14,
   "metadata": {},
   "outputs": [
    {
     "data": {
      "text/plain": [
       "4.641312119895933"
      ]
     },
     "execution_count": 14,
     "metadata": {},
     "output_type": "execute_result"
    }
   ],
   "source": [
    "params[\"F_freq_1_4\"]/2"
   ]
  },
  {
   "cell_type": "code",
   "execution_count": 15,
   "metadata": {},
   "outputs": [
    {
     "data": {
      "text/plain": [
       "4.381909547738694"
      ]
     },
     "execution_count": 15,
     "metadata": {},
     "output_type": "execute_result"
    }
   ],
   "source": [
    "transmon_freqs[55]"
   ]
  },
  {
   "cell_type": "code",
   "execution_count": null,
   "metadata": {},
   "outputs": [],
   "source": []
  }
 ],
 "metadata": {
  "kernelspec": {
   "display_name": "repetition_codes_env",
   "language": "python",
   "name": "repetition_codes_env"
  },
  "language_info": {
   "codemirror_mode": {
    "name": "ipython",
    "version": 3
   },
   "file_extension": ".py",
   "mimetype": "text/x-python",
   "name": "python",
   "nbconvert_exporter": "python",
   "pygments_lexer": "ipython3",
   "version": "3.8.2"
  },
  "toc": {
   "base_numbering": 1,
   "nav_menu": {},
   "number_sections": true,
   "sideBar": true,
   "skip_h1_title": false,
   "title_cell": "Table of Contents",
   "title_sidebar": "Contents",
   "toc_cell": false,
   "toc_position": {
    "height": "calc(100% - 180px)",
    "left": "10px",
    "top": "150px",
    "width": "233.333px"
   },
   "toc_section_display": true,
   "toc_window_display": false
  },
  "widgets": {
   "application/vnd.jupyter.widget-state+json": {
    "state": {},
    "version_major": 2,
    "version_minor": 0
   }
  }
 },
 "nbformat": 4,
 "nbformat_minor": 4
}
