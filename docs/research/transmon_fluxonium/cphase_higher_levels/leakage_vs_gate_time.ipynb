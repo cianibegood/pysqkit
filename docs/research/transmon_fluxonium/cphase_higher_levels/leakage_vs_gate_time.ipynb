{
 "cells": [
  {
   "cell_type": "markdown",
   "id": "b6659c50",
   "metadata": {},
   "source": [
    "# Leakage vs. gate time"
   ]
  },
  {
   "cell_type": "code",
   "execution_count": null,
   "id": "5b1cdd85",
   "metadata": {},
   "outputs": [],
   "source": []
  }
 ],
 "metadata": {
  "kernelspec": {
   "display_name": "Python [conda env:root] *",
   "language": "python",
   "name": "conda-root-py"
  },
  "language_info": {
   "codemirror_mode": {
    "name": "ipython",
    "version": 3
   },
   "file_extension": ".py",
   "mimetype": "text/x-python",
   "name": "python",
   "nbconvert_exporter": "python",
   "pygments_lexer": "ipython3",
   "version": "3.8.8"
  }
 },
 "nbformat": 4,
 "nbformat_minor": 5
}
