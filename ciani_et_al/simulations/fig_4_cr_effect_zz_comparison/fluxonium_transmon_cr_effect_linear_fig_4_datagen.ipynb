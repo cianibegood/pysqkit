{
 "cells": [
  {
   "cell_type": "markdown",
   "metadata": {},
   "source": [
    "# Cross-resonance gate between transmon and fluxonium: linear approximation"
   ]
  },
  {
   "cell_type": "code",
   "execution_count": 7,
   "metadata": {},
   "outputs": [],
   "source": [
    "import numpy as np\n",
    "import time\n",
    "import matplotlib.pyplot as plt\n",
    "import pysqkit\n",
    "from pysqkit import Qubit\n",
    "from pysqkit.util.linalg import get_mat_elem\n",
    "from functools import partial\n",
    "import multiprocessing\n",
    "from typing import List\n",
    "import matplotlib\n",
    "matplotlib.rcParams['mathtext.fontset'] = 'cm'\n",
    "import util_tf_cr\n",
    "import json\n",
    "import cmath"
   ]
  },
  {
   "cell_type": "code",
   "execution_count": 8,
   "metadata": {},
   "outputs": [],
   "source": [
    "with open('../../flx_transm_params.txt') as param_file:\n",
    "    parameters_set = json.load(param_file)"
   ]
  },
  {
   "cell_type": "code",
   "execution_count": 9,
   "metadata": {
    "hidden": true
   },
   "outputs": [],
   "source": [
    "p_set = \"CR_3\"\n",
    "\n",
    "eps = 0.3\n",
    "\n",
    "#Fluxonium\n",
    "levels_f = 4\n",
    "\n",
    "flx = pysqkit.qubits.Fluxonium(\n",
    "    label='F', \n",
    "    charge_energy=parameters_set[p_set][\"charge_energy_f\"], \n",
    "    induct_energy=parameters_set[p_set][\"induct_energy_f\"], \n",
    "    joseph_energy=parameters_set[p_set][\"joseph_energy_f\"]\n",
    ")\n",
    "flx.diagonalize_basis(levels_f)\n",
    "eigen_flx, eigstates_flx = flx.eig_states()\n",
    "\n",
    "jc = parameters_set[p_set][\"jc\"]"
   ]
  },
  {
   "cell_type": "markdown",
   "metadata": {},
   "source": [
    "# Generating data"
   ]
  },
  {
   "cell_type": "code",
   "execution_count": 11,
   "metadata": {},
   "outputs": [],
   "source": [
    "def get_cr_effect(\n",
    "    freq: float,\n",
    "    eps: float,\n",
    "    jc: float,\n",
    "    flx: Qubit,\n",
    "    eigen_flx: List[float],\n",
    "    eigstates_flx: List[np.ndarray]\n",
    "):\n",
    "    \"\"\"\n",
    "    Description\n",
    "    -----------------------------------------------------------------------\n",
    "    Returns the exact cross-resonance coefficient in MHz.\n",
    "    \"\"\"\n",
    "    \n",
    "    \n",
    "    \n",
    "    transm_t = pysqkit.qubits.SimpleTransmon(\n",
    "            label='T_tmp', \n",
    "            max_freq=freq, \n",
    "            anharm=-0.3,\n",
    "            dim_hilbert=3,\n",
    "        )\n",
    "    \n",
    "    f_03 = eigen_flx[3] - eigen_flx[0]\n",
    "    q_03 = get_mat_elem(flx.charge_op(), eigstates_flx[0], eigstates_flx[3])\n",
    "    f_12 = eigen_flx[2] - eigen_flx[1]\n",
    "    q_12 = get_mat_elem(flx.charge_op(), eigstates_flx[1], eigstates_flx[2])\n",
    "    freq_drive = transm_t.freq\n",
    "    min_delta = np.min([np.abs(freq_drive - f_03)/q_03, np.abs(freq_drive - f_12)/q_12])\n",
    "    eps_ratio = eps*np.max([np.abs(q_03/(freq_drive - f_03)), np.abs(q_12/(freq_drive - f_12))])\n",
    "    \n",
    "    \n",
    "    coupled_sys = transm_t.couple_to(flx, coupling=pysqkit.couplers.capacitive_coupling, strength=jc)\n",
    "    \n",
    "    state_label = [\"00\", \"01\", \"10\", \"11\"]\n",
    "    comp_states = {}\n",
    "    for label in state_label:\n",
    "        state_tmp = coupled_sys.state(label)[1]\n",
    "        loc = np.argmax(np.abs(state_tmp))\n",
    "        phase = cmath.phase(state_tmp[loc])\n",
    "        state_tmp = np.exp(-1j*phase)*state_tmp\n",
    "        comp_states[label] = state_tmp\n",
    "    \n",
    "    mu_cr = util_tf_cr.mu_yz_flx(comp_states, coupled_sys['F'].charge_op(), eps*1e3)\n",
    "    \n",
    "    mu_cr_sw = util_tf_cr.mu_yz_flx_sw(transm_t, flx, jc, eps*1e3)\n",
    "    \n",
    "    zz_coeff = util_tf_cr.zz(coupled_sys)*1e3\n",
    "    \n",
    "    output = {}\n",
    "    output[\"freq_fixed\"] = transm_t.freq\n",
    "    output[\"freq\"] = freq\n",
    "    output[\"eps\"] = eps\n",
    "    output[\"eps_ratio\"] = eps_ratio\n",
    "    output[\"cr\"] = np.abs(mu_cr)\n",
    "    output[\"cr_sw\"] = np.abs(mu_cr_sw)\n",
    "    output[\"zz\"] = zz_coeff\n",
    "    output[\"gate_time\"] = util_tf_cr.cr_gate_time(np.abs(mu_cr/1e3))\n",
    "    output[\"gate_time_sw\"] = util_tf_cr.cr_gate_time(np.abs(mu_cr_sw/1e3))\n",
    "    \n",
    "    output[\"jc\"] = jc*1e3\n",
    "    \n",
    "    return output\n",
    "\n",
    "func = partial(get_cr_effect, eps=eps, jc=jc, flx=flx, eigen_flx=eigen_flx, eigstates_flx=eigstates_flx)"
   ]
  },
  {
   "cell_type": "code",
   "execution_count": 12,
   "metadata": {},
   "outputs": [
    {
     "name": "stdout",
     "output_type": "stream",
     "text": [
      "Computation time = 0.21795248985290527 s\n"
     ]
    }
   ],
   "source": [
    "start = time.time()\n",
    "\n",
    "output_test = func(5.0)\n",
    "\n",
    "end = time.time()\n",
    "\n",
    "print(\"Computation time = {} s\".format(end - start))\n",
    "\n"
   ]
  },
  {
   "cell_type": "code",
   "execution_count": 13,
   "metadata": {},
   "outputs": [
    {
     "data": {
      "text/plain": [
       "{'freq_fixed': 5.0,\n",
       " 'freq': 5.0,\n",
       " 'eps': 0.3,\n",
       " 'eps_ratio': 0.10779439345553458,\n",
       " 'cr': 0.41981343032359647,\n",
       " 'cr_sw': 0.45885498574159145,\n",
       " 'zz': 0.11647912536272287,\n",
       " 'gate_time': 297.7513127763653,\n",
       " 'gate_time_sw': 272.4172208742109,\n",
       " 'jc': 20.0}"
      ]
     },
     "execution_count": 13,
     "metadata": {},
     "output_type": "execute_result"
    }
   ],
   "source": [
    "output_test"
   ]
  },
  {
   "cell_type": "code",
   "execution_count": 14,
   "metadata": {},
   "outputs": [
    {
     "name": "stdout",
     "output_type": "stream",
     "text": [
      "Computation time = 50.60101771354675 s\n"
     ]
    }
   ],
   "source": [
    "delta_freq = 0.8\n",
    "n_points = 200\n",
    "ref_freq = 5.0\n",
    "freq_list = list(np.linspace(ref_freq - delta_freq, ref_freq + delta_freq, n_points))\n",
    "\n",
    "n_process = 1 # there seems to be issues with more than 1 n_process\n",
    "\n",
    "start = time.time()\n",
    "\n",
    "pool = multiprocessing.Pool(processes=n_process)\n",
    "\n",
    "result = pool.map(func, freq_list)\n",
    "\n",
    "pool.close()\n",
    "pool.join()\n",
    "\n",
    "end = time.time()\n",
    "\n",
    "print(\"Computation time = {} s\".format(end - start))"
   ]
  },
  {
   "cell_type": "code",
   "execution_count": 15,
   "metadata": {},
   "outputs": [],
   "source": [
    "save = True\n",
    "if save:\n",
    "    with open('data_cr_transmon_fluxonium_linear.txt', 'w') as fp:\n",
    "        json.dump(result, fp)"
   ]
  },
  {
   "cell_type": "code",
   "execution_count": null,
   "metadata": {},
   "outputs": [],
   "source": []
  }
 ],
 "metadata": {
  "kernelspec": {
   "display_name": "Python 3 (ipykernel)",
   "language": "python",
   "name": "python3"
  },
  "language_info": {
   "codemirror_mode": {
    "name": "ipython",
    "version": 3
   },
   "file_extension": ".py",
   "mimetype": "text/x-python",
   "name": "python",
   "nbconvert_exporter": "python",
   "pygments_lexer": "ipython3",
   "version": "3.9.13"
  },
  "toc": {
   "base_numbering": 1,
   "nav_menu": {},
   "number_sections": true,
   "sideBar": true,
   "skip_h1_title": false,
   "title_cell": "Table of Contents",
   "title_sidebar": "Contents",
   "toc_cell": false,
   "toc_position": {
    "height": "calc(100% - 180px)",
    "left": "10px",
    "top": "150px",
    "width": "233.333px"
   },
   "toc_section_display": true,
   "toc_window_display": false
  },
  "widgets": {
   "application/vnd.jupyter.widget-state+json": {
    "state": {},
    "version_major": 2,
    "version_minor": 0
   }
  }
 },
 "nbformat": 4,
 "nbformat_minor": 4
}
