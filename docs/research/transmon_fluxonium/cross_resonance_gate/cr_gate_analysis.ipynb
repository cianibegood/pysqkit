{
 "cells": [
  {
   "cell_type": "markdown",
   "metadata": {},
   "source": [
    "# Cross-resonance gate between a transmon and a fluxonium: analysis\n",
    "\n",
    "In this notebook we study the cross-resonance two-qubit gate between a transmon and a fluxonium. "
   ]
  },
  {
   "cell_type": "code",
   "execution_count": 1,
   "metadata": {},
   "outputs": [],
   "source": [
    "import numpy as np\n",
    "import scipy.integrate\n",
    "import time\n",
    "import qutip as qtp\n",
    "import matplotlib.pyplot as plt\n",
    "from scipy.optimize import minimize\n",
    "import pysqkit\n",
    "from pysqkit import QubitSystem\n",
    "from pysqkit.drives.pulse_shapes import gaussian_top\n",
    "from pysqkit.util.metrics import average_process_fidelity, \\\n",
    "    average_gate_fidelity\n",
    "from pysqkit.util.phys import temperature_to_thermalenergy\n",
    "from pysqkit.util.quantum import generalized_rabi_frequency\n",
    "import pysqkit.util.transformations as trf\n",
    "from pysqkit.util.linalg import get_mat_elem\n",
    "from pysqkit.solvers.solvkit import integrate\n",
    "from pysqkit.util.hsbasis import weyl_by_index\n",
    "from pysqkit.solvers import solvkit\n",
    "import qutip\n",
    "from typing import List, Dict, Callable\n",
    "import matplotlib\n",
    "matplotlib.rcParams['mathtext.fontset'] = 'cm'\n",
    "import util_cr as util\n",
    "import copy\n",
    "\n",
    "from IPython.display import display, Latex"
   ]
  },
  {
   "cell_type": "markdown",
   "metadata": {},
   "source": [
    "The gate is based on the following driven Hamiltonian of a fluxonium and a transmon capacitively coupled\n",
    "\n",
    "$$H = H^{(0)}_T + H^{(0)}_F + V + H_{drive},$$\n",
    "\n",
    "$$H^{(0)}_T =  \\hbar \\omega_T \\hat{b}^{\\dagger}\\hat{b} + \\hbar \\frac{\\delta_T}{2} \\hat{b}^{\\dagger} \\hat{b}^{\\dagger}\\hat{b} \\hat{b},$$\n",
    "\n",
    "$$H^{(0)}_F = 4 E_{C,F} \\cdot \\hat{q}^2_F + \\frac{1}{2}E_{L,F}\\cdot\\hat{\\varphi}^2_F - E_{J,F}\\cos\\left(\\hat{\\varphi}_F - \\phi_{ext,F}\\right),$$\n",
    "\n",
    "$$V = J_C \\cdot \\hat{q}_T \\cdot \\hat{q}_F,$$\n",
    "\n",
    "$$\\frac{H_{drive}}{h} = \\left( \\varepsilon_T \\hat{q}_T + \\varepsilon_F \\hat{q}_F \\right) \\cos(2\\pi f_d t).$$\n",
    "\n",
    "The (approximate) charge operator for the transmon in terms of annihilation and creation operators reads\n",
    "\n",
    "$$\n",
    "\\hat{q}_T = i \\biggl( \\frac{E_J}{32 |\\delta_T |} \\biggr)^{1/4} (b^{\\dagger} - b),\n",
    "$$\n",
    "where \n",
    "$$\n",
    "E_J = \\hbar \\biggl(\\frac{\\omega_T - \\delta_T}{8 | \\delta_T |} \\biggr)^2.\n",
    "$$\n",
    "\n",
    "In the following we introduce relaxation due to dielectric loss and pure dephasing on each qubit as error channels. \n",
    "\n",
    "The idea behind the cross-resonance gate is to drive one of the qubit at the frequency of the other using the fact that due to the coupling we have a $Z X$ term in the Hamiltonian. In particular, we will explore the idea of driving the fluxonium at the transmon frequency. The opposite idea to drive the transmon at the fluxonium frequency does not seem that promising. However, one might evaluate using Raman transitions."
   ]
  },
  {
   "cell_type": "markdown",
   "metadata": {
    "heading_collapsed": true
   },
   "source": [
    "# Introducing the qubits and the coupled system"
   ]
  },
  {
   "cell_type": "code",
   "execution_count": 2,
   "metadata": {},
   "outputs": [],
   "source": [
    "parameters_set = {}\n",
    "\n",
    "parameters_set[\"0\"] = {\"max_freq_t\": 4.5, \"anharm_t\": -0.3, \"diel_loss_tan_t\": 0.75*1e-6*20,\n",
    "                     \"dephasing_times_t\": {'1': 2*np.pi*50*1e3, '2': 2*np.pi*30*1e3}, \n",
    "                     \"charge_energy_f\": .973, \"induct_energy_f\": .457, \"joseph_energy_f\": 8.0, \n",
    "                     \"diel_loss_tan_f\": 7.1*1e-6, \"dephasing_times_f\": {'1': 2*np.pi*200*1e3, '2':2*np.pi*20*1e3, \n",
    "                                                                        '3': 2*np.pi*20*1e3, '4': 2*np.pi*5*1e3},\n",
    "                      \"jc\": 0.03}\n",
    "parameters_set[\"1\"] = {\"max_freq_t\": 5.0, \"anharm_t\": -0.3, \"diel_loss_tan_t\": 0.75*1e-6*20,\n",
    "                     \"dephasing_times_t\": {'1': 2*np.pi*50*1e3, '2': 2*np.pi*30*1e3}, \n",
    "                     \"charge_energy_f\": .973, \"induct_energy_f\": .857, \"joseph_energy_f\": 5.0, \n",
    "                     \"diel_loss_tan_f\": 7.1*1e-6, \"dephasing_times_f\": {'1': 2*np.pi*200*1e3, '2':2*np.pi*20*1e3, \n",
    "                                                                        '3': 2*np.pi*20*1e3, '4': 2*np.pi*5*1e3},\n",
    "                      \"jc\": 0.015}\n",
    "\n",
    "parameters_set[\"2\"] = {\"max_freq_t\": 4.5, \"anharm_t\": -0.3, \"diel_loss_tan_t\": 0.75*1e-6*20,\n",
    "                     \"dephasing_times_t\": {'1': 2*np.pi*50*1e3, '2': 2*np.pi*30*1e3}, \n",
    "                     \"charge_energy_f\": .973, \"induct_energy_f\": 1.0, \"joseph_energy_f\": 4.0, \n",
    "                     \"diel_loss_tan_f\": 7.1*1e-6, \"dephasing_times_f\": {'1': 2*np.pi*200*1e3, '2':2*np.pi*20*1e3, \n",
    "                                                                        '3': 2*np.pi*20*1e3, '4': 2*np.pi*5*1e3},\n",
    "                      \"jc\": 0.02}\n",
    "\n",
    "parameters_set[\"test\"] = {\"max_freq_t\": 4.5, \"anharm_t\": -0.3, \"diel_loss_tan_t\": 0.75*1e-6*20,\n",
    "                     \"dephasing_times_t\": {'1': 2*np.pi*50*1e3, '2': 2*np.pi*30*1e3}, \n",
    "                     \"charge_energy_f\": .973, \"induct_energy_f\": 1.0, \"joseph_energy_f\": 4.0, \n",
    "                     \"diel_loss_tan_f\": 7.1*1e-6, \"dephasing_times_f\": {'1': 2*np.pi*200*1e3, '2':2*np.pi*20*1e3, \n",
    "                                                                        '3': 2*np.pi*20*1e3, '4': 2*np.pi*5*1e3},\n",
    "                      \"jc\": 0.01}\n"
   ]
  },
  {
   "cell_type": "code",
   "execution_count": 3,
   "metadata": {
    "hidden": true
   },
   "outputs": [],
   "source": [
    "temperature = 0.020 # K\n",
    "thermal_energy = temperature_to_thermalenergy(temperature) # kb T/h in GHz\n",
    "d_comp = 4\n",
    "\n",
    "p_set = \"0\"\n",
    "\n",
    "\n",
    "#Transmon\n",
    "levels_t = 3\n",
    "transm = pysqkit.qubits.SimpleTransmon(\n",
    "    label='T', \n",
    "    max_freq=parameters_set[p_set][\"max_freq_t\"], \n",
    "    anharm=parameters_set[p_set][\"anharm_t\"],\n",
    "    diel_loss_tan=parameters_set[p_set][\"diel_loss_tan_t\"], #set to zero to check d_1 L1 = d_2 L2\n",
    "    env_thermal_energy=thermal_energy,    \n",
    "    dim_hilbert=levels_t,\n",
    "    dephasing_times=parameters_set[p_set][\"dephasing_times_t\"]\n",
    ")\n",
    "\n",
    "#Fluxonium\n",
    "levels_f = 5\n",
    "\n",
    "flx = pysqkit.qubits.Fluxonium(\n",
    "    label='F', \n",
    "    charge_energy=parameters_set[p_set][\"charge_energy_f\"], \n",
    "    induct_energy=parameters_set[p_set][\"induct_energy_f\"], \n",
    "    joseph_energy=parameters_set[p_set][\"joseph_energy_f\"], #8.0, \n",
    "    diel_loss_tan=parameters_set[p_set][\"diel_loss_tan_f\"], #set to zero to check d_1 L1 = d_2 L2\n",
    "    env_thermal_energy=thermal_energy,\n",
    "    dephasing_times= parameters_set[p_set][\"dephasing_times_f\"] #ns/2*np.pi \n",
    ")\n",
    "flx.diagonalize_basis(levels_f)\n",
    "\n",
    "# We also add a drive on the fluxonium\n",
    "flx.add_drive(\n",
    "    pysqkit.drives.microwave_drive,\n",
    "    label='cr_drive_f',\n",
    "    pulse=pysqkit.drives.pulses.cos_modulation,\n",
    "    pulse_shape=pysqkit.drives.pulse_shapes.gaussian_top\n",
    ")\n",
    "\n",
    "d_leak = levels_t*levels_f - d_comp\n",
    "\n",
    "jc = parameters_set[p_set][\"jc\"]\n",
    "coupled_sys = transm.couple_to(flx, coupling=pysqkit.couplers.capacitive_coupling, strength=jc)\n",
    "bare_system = transm.couple_to(flx, coupling=pysqkit.couplers.capacitive_coupling, strength=0.0)\n",
    "\n",
    "states_label = coupled_sys.all_state_labels()\n",
    "states_dict = coupled_sys.states_as_dict(as_qobj=True)\n",
    "flx_freq = flx.eig_energies(2)[1] - flx.eig_energies(2)[0]"
   ]
  },
  {
   "cell_type": "markdown",
   "metadata": {},
   "source": [
    "The basis principle behind the gate is illustrated in the following figure"
   ]
  },
  {
   "cell_type": "code",
   "execution_count": 4,
   "metadata": {},
   "outputs": [
    {
     "data": {
      "image/png": "[encoded data removed]",
      "text/plain": [
       "<Figure size 720x576 with 1 Axes>"
      ]
     },
     "metadata": {
      "needs_background": "light"
     },
     "output_type": "display_data"
    }
   ],
   "source": [
    "level_list = ['00', '01', '10', '11', '02', '20', '12','21', '03', '13', '04']\n",
    "\n",
    "util.energy_levels_diagram(bare_system, level_list, show_drive=False)"
   ]
  },
  {
   "cell_type": "markdown",
   "metadata": {},
   "source": [
    "The figure shows the energy of the bare levels. The orange arrows indicate the non-zero matrix elements between the (bare) levels provided by the capacitive coupling $V$: the more shaded the arrow the weaker the coupling. \n",
    "We look at the following quantities : \n",
    "\n",
    "$$\\zeta_{ZZ} = E_{00} + E_{11} - E_{01} - E_{10}$$\n",
    "$$r_{YZ} = \\lvert \\langle 10 | q_{F} | 00 \\rangle - \\langle 11 | q_{F} |01 \\rangle \\rvert $$\n",
    "$$r_{Y} = \\lvert \\langle 10 | q_{F} | 00 \\rangle + \\langle 11 | q_{F} |01 \\rangle \\rvert $$\n",
    "\n",
    "The second term quantifies the gate speed. Notice that if the phase of the drive is $0$ one hase a $YZ$ term from the charge operator. \n",
    "\n",
    "For the given parameters we have"
   ]
  },
  {
   "cell_type": "code",
   "execution_count": 5,
   "metadata": {},
   "outputs": [
    {
     "data": {
      "text/latex": [
       "$f_{flx} = 25.018 \\, \\mathrm{MHz}$"
      ],
      "text/plain": [
       "<IPython.core.display.Latex object>"
      ]
     },
     "metadata": {},
     "output_type": "display_data"
    },
    {
     "data": {
      "text/latex": [
       "$\\xi_{ZZ}/h = -0.044 \\, \\mathrm{MHz}$"
      ],
      "text/plain": [
       "<IPython.core.display.Latex object>"
      ]
     },
     "metadata": {},
     "output_type": "display_data"
    },
    {
     "name": "stdout",
     "output_type": "stream",
     "text": [
      "[[0.-4.36196049e-31j 0.+9.36580387e-03j 0.+6.01833645e-03j\n",
      "  0.+5.20191869e-16j]\n",
      " [0.-9.36580387e-03j 0.+1.04985893e-30j 0.-2.78937808e-16j\n",
      "  0.-7.47110758e-03j]\n",
      " [0.-6.01833645e-03j 0.+2.78937808e-16j 0.-4.08160227e-31j\n",
      "  0.-9.35208630e-03j]\n",
      " [0.-5.20191869e-16j 0.+7.47110758e-03j 0.+9.35208630e-03j\n",
      "  0.+9.50049212e-31j]]\n",
      "----------------------------------\n"
     ]
    },
    {
     "data": {
      "text/latex": [
       "$q_{YZ} = 0.0048 $"
      ],
      "text/plain": [
       "<IPython.core.display.Latex object>"
      ]
     },
     "metadata": {},
     "output_type": "display_data"
    },
    {
     "data": {
      "text/latex": [
       "$q_{IY} = 0.0007 $"
      ],
      "text/plain": [
       "<IPython.core.display.Latex object>"
      ]
     },
     "metadata": {},
     "output_type": "display_data"
    },
    {
     "data": {
      "text/latex": [
       "$q_{YZ}^{(12)} = 0.0008 $"
      ],
      "text/plain": [
       "<IPython.core.display.Latex object>"
      ]
     },
     "metadata": {},
     "output_type": "display_data"
    },
    {
     "data": {
      "text/latex": [
       "$q_{IY}^{12} = 0.0087 $"
      ],
      "text/plain": [
       "<IPython.core.display.Latex object>"
      ]
     },
     "metadata": {},
     "output_type": "display_data"
    }
   ],
   "source": [
    "display(Latex(r'$f_{{flx}} = {:.3f} \\, \\mathrm{{MHz}}$'.format(flx_freq*1e3)))\n",
    "display(Latex(r'$\\xi_{{ZZ}}/h = {:.3f} \\, \\mathrm{{MHz}}$'.format(1e3*util.zz(coupled_sys))))\n",
    "display(Latex(r'$q_{{YZ}} = {:.4f} $'.format(util.y_z_flx_v2(coupled_sys, 'F'))))\n",
    "display(Latex(r'$q_{{IY}} = {:.4f} $'.format(util.y_i_flx(coupled_sys, 'F'))))\n",
    "display(Latex(r'$q_{{YZ}}^{{(12)}} = {:.4f} $'.format(util.y_z_12_flx(coupled_sys, 'F'))))\n",
    "display(Latex(r'$q_{{IY}}^{{12}} = {:.4f} $'.format(util.y_i_12_flx(coupled_sys, 'F'))))"
   ]
  },
  {
   "cell_type": "markdown",
   "metadata": {},
   "source": [
    "The aim of the cross-resonance gate is to realize the following unitary\n",
    "$$\n",
    "\\mathrm{CR}_{\\theta} = e^{-i \\frac{\\theta}{2} X \\otimes Z } = \\cos\\biggl(\\frac{\\theta}{2} \\biggr) I -i \\sin\\biggl(\\frac{\\theta}{2} \\biggr) X \\otimes Z\n",
    "$$\n",
    "\n",
    "In particular it is known that $\\mathrm{CR}_{-\\pi/2}$ is equivalent to a CNOT up to single-qubit gates."
   ]
  },
  {
   "cell_type": "markdown",
   "metadata": {},
   "source": [
    "In what follows we fix the fluxonium in the different parameter set and we sweep the transmon frequency and plot the relevant quantities"
   ]
  },
  {
   "cell_type": "code",
   "execution_count": 6,
   "metadata": {},
   "outputs": [],
   "source": [
    "def plot_params(\n",
    "    freq: np.ndarray,\n",
    "    params: dict,\n",
    "    opt: dict={'fs': 18, 'lw': 2.0, 'lw_levels': 3.0, 'ls': 16}\n",
    "):\n",
    "    fig, ax = plt.subplots(figsize=(8, 6))\n",
    "    for key in params.keys():\n",
    "        ax.plot(freq, params[key], linewidth=opt[\"lw\"], label='$q_{ ' + key + '}$') \n",
    "    ax.set_xlabel('$\\omega_t/2 \\pi \\, (\\mathrm{GHz})$', fontsize=opt['fs'])\n",
    "    ax.tick_params(labelsize=opt['ls'])\n",
    "    plt.legend(fontsize=opt['fs'])\n",
    "    plt.show() "
   ]
  },
  {
   "cell_type": "markdown",
   "metadata": {},
   "source": [
    "# Parameter set 0"
   ]
  },
  {
   "cell_type": "code",
   "execution_count": 7,
   "metadata": {},
   "outputs": [
    {
     "name": "stdout",
     "output_type": "stream",
     "text": [
      "[[0.-4.36196049e-31j 0.+9.36580387e-03j 0.+6.01833645e-03j\n",
      "  0.+5.20191869e-16j]\n",
      " [0.-9.36580387e-03j 0.+1.04985893e-30j 0.-2.78937808e-16j\n",
      "  0.-7.47110758e-03j]\n",
      " [0.-6.01833645e-03j 0.+2.78937808e-16j 0.-4.08160227e-31j\n",
      "  0.-9.35208630e-03j]\n",
      " [0.-5.20191869e-16j 0.+7.47110758e-03j 0.+9.35208630e-03j\n",
      "  0.+9.50049212e-31j]]\n",
      "----------------------------------\n",
      "[[0.-4.36392404e-31j 0.+9.36579938e-03j 0.+6.29449528e-03j\n",
      "  0.-2.28235008e-16j]\n",
      " [0.-9.36579938e-03j 0.+1.02467269e-30j 0.-3.58361354e-16j\n",
      "  0.-7.89356894e-03j]\n",
      " [0.-6.29449528e-03j 0.+3.58361354e-16j 0.-3.53678979e-31j\n",
      "  0.-9.35038701e-03j]\n",
      " [0.+2.28235008e-16j 0.+7.89356894e-03j 0.+9.35038701e-03j\n",
      "  0.+9.21969756e-31j]]\n",
      "----------------------------------\n",
      "[[0.-4.39062374e-31j 0.+9.36579511e-03j 0.+6.59490810e-03j\n",
      "  0.+6.03772596e-17j]\n",
      " [0.-9.36579511e-03j 0.+1.03694297e-30j 0.+5.20014680e-16j\n",
      "  0.-8.36430656e-03j]\n",
      " [0.-6.59490810e-03j 0.-5.20014680e-16j 0.-5.50509019e-31j\n",
      "  0.-9.34839145e-03j]\n",
      " [0.-6.03772596e-17j 0.+8.36430656e-03j 0.+9.34839145e-03j\n",
      "  0.+1.14578964e-30j]]\n",
      "----------------------------------\n",
      "[[0.-4.36275795e-31j 0.+9.36579105e-03j 0.+6.92313133e-03j\n",
      "  0.-1.48233335e-16j]\n",
      " [0.-9.36579105e-03j 0.+1.03460958e-30j 0.-2.19807816e-16j\n",
      "  0.-8.89246623e-03j]\n",
      " [0.-6.92313133e-03j 0.+2.19807816e-16j 0.-4.22497872e-31j\n",
      "  0.-9.34602839e-03j]\n",
      " [0.+1.48233335e-16j 0.+8.89246623e-03j 0.+9.34602839e-03j\n",
      "  0.+9.99480913e-31j]]\n",
      "----------------------------------\n",
      "[[0.-4.43489004e-31j 0.+9.36578718e-03j 0.-7.28343543e-03j\n",
      "  0.+8.20972323e-16j]\n",
      " [0.-9.36578718e-03j 0.+9.97517366e-31j 0.+6.41745353e-16j\n",
      "  0.-9.48963355e-03j]\n",
      " [0.+7.28343543e-03j 0.-6.41745353e-16j 0.-2.78933337e-31j\n",
      "  0.+9.34320413e-03j]\n",
      " [0.-8.20972323e-16j 0.+9.48963355e-03j 0.-9.34320413e-03j\n",
      "  0.+8.73830535e-31j]]\n",
      "----------------------------------\n",
      "[[0.-4.63445701e-31j 0.+9.36578350e-03j 0.-7.68099494e-03j\n",
      "  0.-3.26181173e-16j]\n",
      " [0.-9.36578350e-03j 0.+1.04367451e-30j 0.+3.89992758e-16j\n",
      "  0.-1.01707081e-02j]\n",
      " [0.+7.68099494e-03j 0.-3.89992758e-16j 0.-4.10055500e-31j\n",
      "  0.+9.33979353e-03j]\n",
      " [0.+3.26181173e-16j 0.+1.01707081e-02j 0.-9.33979353e-03j\n",
      "  0.+9.86181464e-31j]]\n",
      "----------------------------------\n",
      "[[0.-4.48704061e-31j 0.+9.36577999e-03j 0.+8.12214251e-03j\n",
      "  0.+2.64203757e-16j]\n",
      " [0.-9.36577999e-03j 0.+1.06331796e-30j 0.-9.49861573e-17j\n",
      "  0.-1.09551820e-02j]\n",
      " [0.-8.12214251e-03j 0.+9.49861573e-17j 0.-3.78019423e-31j\n",
      "  0.-9.33562639e-03j]\n",
      " [0.-2.64203757e-16j 0.+1.09551820e-02j 0.+9.33562639e-03j\n",
      "  0.+9.46450131e-31j]]\n",
      "----------------------------------\n",
      "[[0.-4.40116370e-31j 0.+9.36577666e-03j 0.-8.61471341e-03j\n",
      "  0.-3.93176707e-16j]\n",
      " [0.-9.36577666e-03j 0.+1.03381513e-30j 0.-4.42269162e-16j\n",
      "  0.-1.18690595e-02j]\n",
      " [0.+8.61471341e-03j 0.+4.42269162e-16j 0.-5.02129057e-31j\n",
      "  0.+9.33046652e-03j]\n",
      " [0.+3.93176707e-16j 0.+1.18690595e-02j 0.-9.33046652e-03j\n",
      "  0.+1.08413682e-30j]]\n",
      "----------------------------------\n",
      "[[0.-4.47337102e-31j 0.+9.36577348e-03j 0.-9.16852068e-03j\n",
      "  0.+6.54040074e-16j]\n",
      " [0.-9.36577348e-03j 0.+1.03891282e-30j 0.-2.06684453e-16j\n",
      "  0.-1.29478262e-02j]\n",
      " [0.+9.16852068e-03j 0.+2.06684453e-16j 0.-3.29515517e-31j\n",
      "  0.+9.32397841e-03j]\n",
      " [0.-6.54040074e-16j 0.+1.29478262e-02j 0.-9.32397841e-03j\n",
      "  0.+9.42766790e-31j]]\n",
      "----------------------------------\n",
      "[[0.-4.64533550e-31j 0.+9.36577045e-03j 0.-9.79602260e-03j\n",
      "  0.-2.83620172e-16j]\n",
      " [0.-9.36577045e-03j 0.+1.04460635e-30j 0.+2.43339313e-16j\n",
      "  0.-1.42412050e-02j]\n",
      " [0.+9.79602260e-03j 0.-2.43339313e-16j 0.-3.18858767e-31j\n",
      "  0.+9.31567222e-03j]\n",
      " [0.+2.83620172e-16j 0.+1.42412050e-02j 0.-9.31567222e-03j\n",
      "  0.+8.81293514e-31j]]\n",
      "----------------------------------\n",
      "Computation time = 1.861323356628418 s \n"
     ]
    }
   ],
   "source": [
    "n_points = 10\n",
    "delta_freq = 0.5\n",
    "\n",
    "p_set = '1'\n",
    "\n",
    "freq_t = list(np.linspace(parameters_set[p_set][\"max_freq_t\"] - delta_freq, \n",
    "                    parameters_set[p_set][\"max_freq_t\"] + delta_freq, n_points))\n",
    "# freq_t = list(np.linspace(4.6, 4.8, n_points))\n",
    "param_dict = {}\n",
    "param_dict[\"YZ\"] = []\n",
    "param_dict[\"YI\"] = []\n",
    "\n",
    "p_set = '0'\n",
    "\n",
    "start = time.time()\n",
    "\n",
    "for freq in freq_t:\n",
    "    levels_t = 3\n",
    "    transm = pysqkit.qubits.SimpleTransmon(\n",
    "        label='T', \n",
    "        max_freq=freq, \n",
    "        anharm=parameters_set[p_set][\"anharm_t\"],\n",
    "        diel_loss_tan=parameters_set[p_set][\"diel_loss_tan_t\"], #set to zero to check d_1 L1 = d_2 L2\n",
    "        env_thermal_energy=thermal_energy,    \n",
    "        dim_hilbert=levels_t,\n",
    "        dephasing_times=parameters_set[p_set][\"dephasing_times_t\"]\n",
    "    )\n",
    "\n",
    "    #Fluxonium\n",
    "    levels_f = 5\n",
    "\n",
    "    flx = pysqkit.qubits.Fluxonium(\n",
    "        label='F', \n",
    "        charge_energy=parameters_set[p_set][\"charge_energy_f\"], \n",
    "        induct_energy=parameters_set[p_set][\"induct_energy_f\"], \n",
    "        joseph_energy=parameters_set[p_set][\"joseph_energy_f\"], #8.0, \n",
    "        diel_loss_tan=parameters_set[p_set][\"diel_loss_tan_f\"], #set to zero to check d_1 L1 = d_2 L2\n",
    "        env_thermal_energy=thermal_energy,\n",
    "        dephasing_times= parameters_set[p_set][\"dephasing_times_f\"] #ns/2*np.pi \n",
    "    )\n",
    "    flx.diagonalize_basis(levels_f)\n",
    "\n",
    "    # We also add a drive on the fluxonium\n",
    "\n",
    "\n",
    "    jc = parameters_set[p_set][\"jc\"]\n",
    "    coupled_sys = transm.couple_to(flx, coupling=pysqkit.couplers.capacitive_coupling, strength=jc)\n",
    "    param_dict[\"YZ\"].append(util.y_z_flx_v2(coupled_sys, 'F'))\n",
    "    param_dict[\"YI\"].append(util.y_i_flx(coupled_sys, 'F'))\n",
    "\n",
    "end = time.time()\n",
    "\n",
    "print(\"Computation time = {} s \".format(end - start))\n",
    "    "
   ]
  },
  {
   "cell_type": "code",
   "execution_count": 8,
   "metadata": {},
   "outputs": [
    {
     "data": {
      "image/png": "[encoded data removed]",
      "text/plain": [
       "<Figure size 576x432 with 1 Axes>"
      ]
     },
     "metadata": {
      "needs_background": "light"
     },
     "output_type": "display_data"
    }
   ],
   "source": [
    "plot_params(freq_t, param_dict)"
   ]
  },
  {
   "cell_type": "code",
   "execution_count": 1,
   "metadata": {},
   "outputs": [
    {
     "ename": "NameError",
     "evalue": "name 'coupled_sys' is not defined",
     "output_type": "error",
     "traceback": [
      "\u001b[0;31m---------------------------------------------------------------------------\u001b[0m",
      "\u001b[0;31mNameError\u001b[0m                                 Traceback (most recent call last)",
      "\u001b[0;32m/tmp/ipykernel_110657/326916297.py\u001b[0m in \u001b[0;36m<module>\u001b[0;34m\u001b[0m\n\u001b[0;32m----> 1\u001b[0;31m \u001b[0mcoupled_sys\u001b[0m\u001b[0;34m.\u001b[0m\u001b[0mstate\u001b[0m\u001b[0;34m(\u001b[0m\u001b[0;34m'01'\u001b[0m\u001b[0;34m)\u001b[0m\u001b[0;34m[\u001b[0m\u001b[0;36m1\u001b[0m\u001b[0;34m]\u001b[0m\u001b[0;34m\u001b[0m\u001b[0;34m\u001b[0m\u001b[0m\n\u001b[0m",
      "\u001b[0;31mNameError\u001b[0m: name 'coupled_sys' is not defined"
     ]
    }
   ],
   "source": [
    "coupled_sys.state('01')[1]"
   ]
  },
  {
   "cell_type": "code",
   "execution_count": null,
   "metadata": {},
   "outputs": [],
   "source": [
    "pippo = np.outer(coupled_sys.state('01')[1], coupled_sys.state('01')[1].T.conj())"
   ]
  },
  {
   "cell_type": "code",
   "execution_count": 10,
   "metadata": {},
   "outputs": [
    {
     "data": {
      "text/plain": [
       "[0.006744722018928635,\n",
       " 0.007094032112194771,\n",
       " 0.00747960733168322,\n",
       " 0.007907798780257512,\n",
       " 0.0011030990618638551,\n",
       " 0.0012448565749504838,\n",
       " 0.00953866225003884,\n",
       " 0.0016271730343428736,\n",
       " 0.0018896527826525707,\n",
       " 0.002222591177458963]"
      ]
     },
     "execution_count": 10,
     "metadata": {},
     "output_type": "execute_result"
    }
   ],
   "source": [
    "param_dict[\"YZ\"]"
   ]
  },
  {
   "cell_type": "code",
   "execution_count": null,
   "metadata": {},
   "outputs": [],
   "source": []
  }
 ],
 "metadata": {
  "kernelspec": {
   "display_name": "Python 3.7.3 64-bit ('base': conda)",
   "language": "python",
   "name": "python37364bitbaseconda36d0b2465ec04527ba16a77ef6d99d0e"
  },
  "language_info": {
   "codemirror_mode": {
    "name": "ipython",
    "version": 3
   },
   "file_extension": ".py",
   "mimetype": "text/x-python",
   "name": "python",
   "nbconvert_exporter": "python",
   "pygments_lexer": "ipython3",
   "version": "3.7.11"
  },
  "toc": {
   "base_numbering": 1,
   "nav_menu": {},
   "number_sections": true,
   "sideBar": true,
   "skip_h1_title": false,
   "title_cell": "Table of Contents",
   "title_sidebar": "Contents",
   "toc_cell": false,
   "toc_position": {
    "height": "calc(100% - 180px)",
    "left": "10px",
    "top": "150px",
    "width": "233.333px"
   },
   "toc_section_display": true,
   "toc_window_display": false
  },
  "widgets": {
   "application/vnd.jupyter.widget-state+json": {
    "state": {},
    "version_major": 2,
    "version_minor": 0
   }
  }
 },
 "nbformat": 4,
 "nbformat_minor": 4
}
