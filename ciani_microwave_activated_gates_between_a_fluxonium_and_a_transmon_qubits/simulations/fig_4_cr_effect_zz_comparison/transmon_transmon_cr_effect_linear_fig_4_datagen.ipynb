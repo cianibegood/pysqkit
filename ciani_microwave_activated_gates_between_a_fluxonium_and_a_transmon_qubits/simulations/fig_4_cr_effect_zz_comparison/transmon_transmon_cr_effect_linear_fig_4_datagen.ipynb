{
 "cells": [
  {
   "cell_type": "markdown",
   "metadata": {},
   "source": [
    "# Cross-resonance gate between 2 transmons: linear approximation"
   ]
  },
  {
   "cell_type": "code",
   "execution_count": 1,
   "metadata": {},
   "outputs": [],
   "source": [
    "import numpy as np\n",
    "import time\n",
    "from pysqkit import QubitSystem, Qubit\n",
    "import pysqkit\n",
    "from pysqkit.util.linalg import get_mat_elem\n",
    "import qutip\n",
    "import itertools\n",
    "from functools import partial\n",
    "import multiprocessing\n",
    "import json\n",
    "import cmath\n",
    "from IPython.display import display, Latex"
   ]
  },
  {
   "cell_type": "code",
   "execution_count": 2,
   "metadata": {
    "hidden": true
   },
   "outputs": [],
   "source": [
    "control_freq = 5.0\n",
    "\n",
    "levels_t = 3\n",
    "\n",
    "transm_c = pysqkit.qubits.SimpleTransmon(\n",
    "    label='T2', \n",
    "    max_freq=control_freq, \n",
    "    anharm=-0.3,  \n",
    "    dim_hilbert=levels_t\n",
    ")\n",
    "\n",
    "jc = 0.002 \n",
    "\n",
    "eps_drive = 0.030"
   ]
  },
  {
   "cell_type": "code",
   "execution_count": 3,
   "metadata": {},
   "outputs": [],
   "source": [
    "def zz(system: QubitSystem) -> float:\n",
    "    xi_zz = system.state('00')[0] + system.state('11')[0] \\\n",
    "        - system.state('01')[0] - system.state('10')[0]\n",
    "    return xi_zz\n",
    "\n",
    "def mu_yz_control(comp_states, op) -> float:\n",
    "    yz0 = get_mat_elem(op, comp_states['00'], comp_states['10'])\n",
    "    yz1 = get_mat_elem(op, comp_states['01'], comp_states['11'] )\n",
    "    return (np.imag(yz0 - yz1))/2\n",
    "\n",
    "def mu_yi_control(comp_states, op) -> float:\n",
    "    yz0 = get_mat_elem(op, comp_states['00'], comp_states['10'] )\n",
    "    yz1 = get_mat_elem(op, comp_states['01'], comp_states['11'] )\n",
    "    return (np.imag(yz0 + yz1))/2"
   ]
  },
  {
   "cell_type": "code",
   "execution_count": 4,
   "metadata": {},
   "outputs": [],
   "source": [
    "def cr_gate_time(\n",
    "    cr_coeff: float\n",
    "):\n",
    "    return 1/(2*np.pi*cr_coeff)*np.pi/4\n",
    "\n",
    "def cr_effect_sw(\n",
    "    jc: float,\n",
    "    eps_drive: float,\n",
    "    transm_t: Qubit,\n",
    "    transm_c: Qubit\n",
    ") -> float:\n",
    "    \"\"\"\n",
    "    Description\n",
    "    ---------------------------------------------------------------------\n",
    "    Returns the cross-resonance coefficient in the linear approximation\n",
    "    using the result of Magesan-Gambetta\n",
    "    \"\"\"\n",
    "    j_eff = jc*transm_c.charge_zpf*transm_t.charge_zpf\n",
    "    delta_t = transm_t.anharm\n",
    "    delta_c = transm_c.anharm\n",
    "    detuning = transm_c.freq - transm_t.freq\n",
    "    return j_eff*transm_c.charge_zpf*eps_drive/detuning*(delta_c/(delta_c + detuning))/2"
   ]
  },
  {
   "cell_type": "markdown",
   "metadata": {},
   "source": [
    "# Generating data"
   ]
  },
  {
   "cell_type": "code",
   "execution_count": 5,
   "metadata": {},
   "outputs": [
    {
     "data": {
      "text/plain": [
       "{'freq_fixed': 4.9,\n",
       " 'freq': 4.9,\n",
       " 'eps': 0.03,\n",
       " 'eps_ratio': 0.157619002661481,\n",
       " 'cr': 0.5166547240467522,\n",
       " 'cr_sw': 0.5171638967423682,\n",
       " 'zz': 0.0716855244338177,\n",
       " 'gate_time': 241.94107627803038,\n",
       " 'gate_time_sw': 241.7028736680557,\n",
       " 'jc': 2.0}"
      ]
     },
     "execution_count": 5,
     "metadata": {},
     "output_type": "execute_result"
    }
   ],
   "source": [
    "def get_cr_effect(\n",
    "    freq: float,\n",
    "    eps: float,\n",
    "    jc: float,\n",
    "    transm_c: Qubit,\n",
    "):\n",
    "    \"\"\"\n",
    "    Description\n",
    "    -----------------------------------------------------------------------\n",
    "    Returns the exact cross-resonance coefficient in MHz.\n",
    "    \"\"\"\n",
    "    \n",
    "    freq \n",
    "    \n",
    "    transm_t = pysqkit.qubits.SimpleTransmon(\n",
    "            label='T_tmp', \n",
    "            max_freq=freq, \n",
    "            anharm=transm_c.anharm,\n",
    "            dim_hilbert=transm_c.dim_hilbert,\n",
    "        )\n",
    "    \n",
    "    eps_ratio = eps*transm_c.charge_zpf/np.abs(freq - (transm_c.max_freq + transm_c.anharm))\n",
    "    \n",
    "    freq_drive = freq\n",
    "    \n",
    "    coupled_sys = transm_t.couple_to(transm_c, coupling=pysqkit.couplers.capacitive_coupling, strength=jc)\n",
    "    \n",
    "    state_label = [\"00\", \"01\", \"10\", \"11\"]\n",
    "    comp_states = {}\n",
    "    for label in state_label:\n",
    "        state_tmp = coupled_sys.state(label)[1]\n",
    "        loc = np.argmax(np.abs(state_tmp))\n",
    "        phase = cmath.phase(state_tmp[loc])\n",
    "        state_tmp = np.exp(-1j*phase)*state_tmp\n",
    "        comp_states[label] = state_tmp\n",
    "    \n",
    "    mu_cr = mu_yz_control(comp_states, coupled_sys['T2'].charge_op())*eps*1e3/2\n",
    "    \n",
    "    mu_cr_sw = cr_effect_sw(jc, eps, transm_t, transm_c)*1e3\n",
    "    \n",
    "    zz_coeff = zz(coupled_sys)*1e3\n",
    "    \n",
    "    output = {}\n",
    "    output[\"freq_fixed\"] = transm_t.freq\n",
    "    output[\"freq\"] = freq\n",
    "    output[\"eps\"] = eps\n",
    "    output[\"eps_ratio\"] = eps_ratio\n",
    "    output[\"cr\"] = np.abs(mu_cr)\n",
    "    output[\"cr_sw\"] = np.abs(mu_cr_sw)\n",
    "    output[\"zz\"] = zz_coeff\n",
    "    output[\"gate_time\"] = cr_gate_time(np.abs(mu_cr/1e3))\n",
    "    output[\"gate_time_sw\"] = cr_gate_time(np.abs(mu_cr_sw/1e3))\n",
    "    \n",
    "    output[\"jc\"] = jc*1e3\n",
    "    \n",
    "    return output\n",
    "\n",
    "func = partial(get_cr_effect, eps=0.03, jc=jc, transm_c=transm_c)\n",
    "    \n",
    "func(4.9)"
   ]
  },
  {
   "cell_type": "code",
   "execution_count": 6,
   "metadata": {},
   "outputs": [
    {
     "name": "stdout",
     "output_type": "stream",
     "text": [
      "Computation time = 0.6578915119171143 s\n"
     ]
    }
   ],
   "source": [
    "delta_freq = 0.8\n",
    "n_points = 200\n",
    "freq_list = list(np.linspace(transm_c.freq - delta_freq, transm_c.freq + delta_freq, n_points))\n",
    "\n",
    "n_process = 4\n",
    "\n",
    "start = time.time()\n",
    "\n",
    "pool = multiprocessing.Pool(processes=n_process)\n",
    "\n",
    "result = pool.map(func, freq_list)\n",
    "\n",
    "pool.close()\n",
    "pool.join()\n",
    "\n",
    "end = time.time()\n",
    "\n",
    "print(\"Computation time = {} s\".format(end - start))\n",
    "\n"
   ]
  },
  {
   "cell_type": "code",
   "execution_count": 7,
   "metadata": {},
   "outputs": [],
   "source": [
    "save = True\n",
    "if save:\n",
    "    with open('data_cr_transmon_transmon_linear.txt', 'w') as fp:\n",
    "        json.dump(result, fp)"
   ]
  },
  {
   "cell_type": "code",
   "execution_count": null,
   "metadata": {},
   "outputs": [],
   "source": []
  }
 ],
 "metadata": {
  "kernelspec": {
   "display_name": "Python 3.7.3 64-bit ('base': conda)",
   "language": "python",
   "name": "python37364bitbaseconda36d0b2465ec04527ba16a77ef6d99d0e"
  },
  "language_info": {
   "codemirror_mode": {
    "name": "ipython",
    "version": 3
   },
   "file_extension": ".py",
   "mimetype": "text/x-python",
   "name": "python",
   "nbconvert_exporter": "python",
   "pygments_lexer": "ipython3",
   "version": "3.7.11"
  },
  "toc": {
   "base_numbering": 1,
   "nav_menu": {},
   "number_sections": true,
   "sideBar": true,
   "skip_h1_title": false,
   "title_cell": "Table of Contents",
   "title_sidebar": "Contents",
   "toc_cell": false,
   "toc_position": {
    "height": "calc(100% - 180px)",
    "left": "10px",
    "top": "150px",
    "width": "233.333px"
   },
   "toc_section_display": true,
   "toc_window_display": false
  },
  "widgets": {
   "application/vnd.jupyter.widget-state+json": {
    "state": {},
    "version_major": 2,
    "version_minor": 0
   }
  }
 },
 "nbformat": 4,
 "nbformat_minor": 4
}
